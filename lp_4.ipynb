{
 "cells": [
  {
   "cell_type": "code",
   "execution_count": 1,
   "metadata": {},
   "outputs": [],
   "source": [
    "import pandas as pd\n",
    "import numpy as np\n",
    "import math \n",
    "import matplotlib.pyplot as plt\n",
    "import seaborn as sns\n",
    "import plotly.express as plty"
   ]
  },
  {
   "attachments": {},
   "cell_type": "markdown",
   "metadata": {},
   "source": [
    "The following code blocks helps to import the csv files saved"
   ]
  },
  {
   "cell_type": "code",
   "execution_count": 2,
   "metadata": {},
   "outputs": [],
   "source": [
    "#X\n",
    "X_lp4 = pd.read_csv(\"Data_files\\X\\X_lp4.csv\").dropna()"
   ]
  },
  {
   "cell_type": "code",
   "execution_count": 3,
   "metadata": {},
   "outputs": [],
   "source": [
    "#Y\n",
    "Y_lp4 = pd.read_csv(\"Data_files\\Y\\Y_lp4.csv\")"
   ]
  },
  {
   "attachments": {},
   "cell_type": "markdown",
   "metadata": {},
   "source": [
    "The next step is to find the corelation.\n",
    "A benchmark of 80 percent is kept in order to eliminate corelated variables since the dataset is small"
   ]
  },
  {
   "cell_type": "code",
   "execution_count": 4,
   "metadata": {},
   "outputs": [
    {
     "data": {
      "text/html": [
       "<div>\n",
       "<style scoped>\n",
       "    .dataframe tbody tr th:only-of-type {\n",
       "        vertical-align: middle;\n",
       "    }\n",
       "\n",
       "    .dataframe tbody tr th {\n",
       "        vertical-align: top;\n",
       "    }\n",
       "\n",
       "    .dataframe thead th {\n",
       "        text-align: right;\n",
       "    }\n",
       "</style>\n",
       "<table border=\"1\" class=\"dataframe\">\n",
       "  <thead>\n",
       "    <tr style=\"text-align: right;\">\n",
       "      <th></th>\n",
       "      <th>Fx_lp4</th>\n",
       "      <th>Fy_lp4</th>\n",
       "      <th>Fz_lp4</th>\n",
       "      <th>Tx_lp4</th>\n",
       "      <th>Ty_lp4</th>\n",
       "      <th>Tz_lp4</th>\n",
       "    </tr>\n",
       "  </thead>\n",
       "  <tbody>\n",
       "    <tr>\n",
       "      <th>Fx_lp4</th>\n",
       "      <td>1.000000</td>\n",
       "      <td>0.083579</td>\n",
       "      <td>-0.043965</td>\n",
       "      <td>0.326116</td>\n",
       "      <td>-0.138275</td>\n",
       "      <td>0.296317</td>\n",
       "    </tr>\n",
       "    <tr>\n",
       "      <th>Fy_lp4</th>\n",
       "      <td>0.083579</td>\n",
       "      <td>1.000000</td>\n",
       "      <td>0.596403</td>\n",
       "      <td>0.020936</td>\n",
       "      <td>0.054050</td>\n",
       "      <td>0.246898</td>\n",
       "    </tr>\n",
       "    <tr>\n",
       "      <th>Fz_lp4</th>\n",
       "      <td>-0.043965</td>\n",
       "      <td>0.596403</td>\n",
       "      <td>1.000000</td>\n",
       "      <td>-0.228968</td>\n",
       "      <td>0.161955</td>\n",
       "      <td>0.073165</td>\n",
       "    </tr>\n",
       "    <tr>\n",
       "      <th>Tx_lp4</th>\n",
       "      <td>0.326116</td>\n",
       "      <td>0.020936</td>\n",
       "      <td>-0.228968</td>\n",
       "      <td>1.000000</td>\n",
       "      <td>0.077543</td>\n",
       "      <td>0.147110</td>\n",
       "    </tr>\n",
       "    <tr>\n",
       "      <th>Ty_lp4</th>\n",
       "      <td>-0.138275</td>\n",
       "      <td>0.054050</td>\n",
       "      <td>0.161955</td>\n",
       "      <td>0.077543</td>\n",
       "      <td>1.000000</td>\n",
       "      <td>-0.216352</td>\n",
       "    </tr>\n",
       "    <tr>\n",
       "      <th>Tz_lp4</th>\n",
       "      <td>0.296317</td>\n",
       "      <td>0.246898</td>\n",
       "      <td>0.073165</td>\n",
       "      <td>0.147110</td>\n",
       "      <td>-0.216352</td>\n",
       "      <td>1.000000</td>\n",
       "    </tr>\n",
       "  </tbody>\n",
       "</table>\n",
       "</div>"
      ],
      "text/plain": [
       "          Fx_lp4    Fy_lp4    Fz_lp4    Tx_lp4    Ty_lp4    Tz_lp4\n",
       "Fx_lp4  1.000000  0.083579 -0.043965  0.326116 -0.138275  0.296317\n",
       "Fy_lp4  0.083579  1.000000  0.596403  0.020936  0.054050  0.246898\n",
       "Fz_lp4 -0.043965  0.596403  1.000000 -0.228968  0.161955  0.073165\n",
       "Tx_lp4  0.326116  0.020936 -0.228968  1.000000  0.077543  0.147110\n",
       "Ty_lp4 -0.138275  0.054050  0.161955  0.077543  1.000000 -0.216352\n",
       "Tz_lp4  0.296317  0.246898  0.073165  0.147110 -0.216352  1.000000"
      ]
     },
     "execution_count": 4,
     "metadata": {},
     "output_type": "execute_result"
    }
   ],
   "source": [
    "X_lp4.corr(method = 'pearson')"
   ]
  },
  {
   "attachments": {},
   "cell_type": "markdown",
   "metadata": {},
   "source": [
    "Since there is no corelation among variables in the datset, other analysis can be done"
   ]
  },
  {
   "attachments": {},
   "cell_type": "markdown",
   "metadata": {},
   "source": [
    "Adding 2 more rows of resultant force and torque using the formula.\n",
    "F= √(F_X^2+F_Y^2+ F_Z^2 ) and similarly for T"
   ]
  },
  {
   "cell_type": "code",
   "execution_count": 5,
   "metadata": {},
   "outputs": [],
   "source": [
    "X_lp4[\"F_lp4\"] = (X_lp4['Fx_lp4']**2 + X_lp4['Fy_lp4']**2 + X_lp4[\"Fz_lp4\"]**2)**0.5\n",
    "X_lp4[\"T_lp4\"] = (X_lp4[\"Tx_lp4\"]**2 + X_lp4[\"Ty_lp4\"]**2 + X_lp4[\"Tz_lp4\"]**2)**0.5"
   ]
  },
  {
   "attachments": {},
   "cell_type": "markdown",
   "metadata": {},
   "source": [
    "Applying Min-Max normalization for all the attributes"
   ]
  },
  {
   "cell_type": "code",
   "execution_count": 6,
   "metadata": {},
   "outputs": [],
   "source": [
    "X_lp4 = (X_lp4 - X_lp4.min())/(X_lp4.max() - X_lp4.min())"
   ]
  },
  {
   "cell_type": "code",
   "execution_count": 7,
   "metadata": {},
   "outputs": [
    {
     "data": {
      "text/html": [
       "<div>\n",
       "<style scoped>\n",
       "    .dataframe tbody tr th:only-of-type {\n",
       "        vertical-align: middle;\n",
       "    }\n",
       "\n",
       "    .dataframe tbody tr th {\n",
       "        vertical-align: top;\n",
       "    }\n",
       "\n",
       "    .dataframe thead th {\n",
       "        text-align: right;\n",
       "    }\n",
       "</style>\n",
       "<table border=\"1\" class=\"dataframe\">\n",
       "  <thead>\n",
       "    <tr style=\"text-align: right;\">\n",
       "      <th></th>\n",
       "      <th>Fx_lp4</th>\n",
       "      <th>Fy_lp4</th>\n",
       "      <th>Fz_lp4</th>\n",
       "      <th>Tx_lp4</th>\n",
       "      <th>Ty_lp4</th>\n",
       "      <th>Tz_lp4</th>\n",
       "      <th>F_lp4</th>\n",
       "      <th>T_lp4</th>\n",
       "    </tr>\n",
       "  </thead>\n",
       "  <tbody>\n",
       "    <tr>\n",
       "      <th>0</th>\n",
       "      <td>0.655019</td>\n",
       "      <td>0.468293</td>\n",
       "      <td>0.901363</td>\n",
       "      <td>0.450543</td>\n",
       "      <td>0.598668</td>\n",
       "      <td>0.502033</td>\n",
       "      <td>0.005279</td>\n",
       "      <td>0.006269</td>\n",
       "    </tr>\n",
       "    <tr>\n",
       "      <th>1</th>\n",
       "      <td>0.655019</td>\n",
       "      <td>0.467073</td>\n",
       "      <td>0.901363</td>\n",
       "      <td>0.450543</td>\n",
       "      <td>0.598668</td>\n",
       "      <td>0.504065</td>\n",
       "      <td>0.005258</td>\n",
       "      <td>0.006210</td>\n",
       "    </tr>\n",
       "    <tr>\n",
       "      <th>2</th>\n",
       "      <td>0.655019</td>\n",
       "      <td>0.467073</td>\n",
       "      <td>0.902107</td>\n",
       "      <td>0.450543</td>\n",
       "      <td>0.598668</td>\n",
       "      <td>0.504065</td>\n",
       "      <td>0.006079</td>\n",
       "      <td>0.006210</td>\n",
       "    </tr>\n",
       "    <tr>\n",
       "      <th>3</th>\n",
       "      <td>0.655019</td>\n",
       "      <td>0.468293</td>\n",
       "      <td>0.901363</td>\n",
       "      <td>0.450543</td>\n",
       "      <td>0.598668</td>\n",
       "      <td>0.502033</td>\n",
       "      <td>0.005279</td>\n",
       "      <td>0.006269</td>\n",
       "    </tr>\n",
       "    <tr>\n",
       "      <th>4</th>\n",
       "      <td>0.654275</td>\n",
       "      <td>0.467073</td>\n",
       "      <td>0.901859</td>\n",
       "      <td>0.450543</td>\n",
       "      <td>0.598668</td>\n",
       "      <td>0.502033</td>\n",
       "      <td>0.005836</td>\n",
       "      <td>0.006269</td>\n",
       "    </tr>\n",
       "  </tbody>\n",
       "</table>\n",
       "</div>"
      ],
      "text/plain": [
       "     Fx_lp4    Fy_lp4    Fz_lp4    Tx_lp4    Ty_lp4    Tz_lp4     F_lp4  \\\n",
       "0  0.655019  0.468293  0.901363  0.450543  0.598668  0.502033  0.005279   \n",
       "1  0.655019  0.467073  0.901363  0.450543  0.598668  0.504065  0.005258   \n",
       "2  0.655019  0.467073  0.902107  0.450543  0.598668  0.504065  0.006079   \n",
       "3  0.655019  0.468293  0.901363  0.450543  0.598668  0.502033  0.005279   \n",
       "4  0.654275  0.467073  0.901859  0.450543  0.598668  0.502033  0.005836   \n",
       "\n",
       "      T_lp4  \n",
       "0  0.006269  \n",
       "1  0.006210  \n",
       "2  0.006210  \n",
       "3  0.006269  \n",
       "4  0.006269  "
      ]
     },
     "execution_count": 7,
     "metadata": {},
     "output_type": "execute_result"
    }
   ],
   "source": [
    "X_lp4.head()"
   ]
  },
  {
   "attachments": {},
   "cell_type": "markdown",
   "metadata": {},
   "source": [
    "PCA on the resultant values"
   ]
  },
  {
   "cell_type": "code",
   "execution_count": 8,
   "metadata": {},
   "outputs": [
    {
     "name": "stdout",
     "output_type": "stream",
     "text": [
      "[0.90267082 0.09732918]\n"
     ]
    }
   ],
   "source": [
    "from sklearn.decomposition import PCA\n",
    "pca = PCA(n_components=2)\n",
    "pca.fit(X_lp4[[\"F_lp4\", \"T_lp4\"]])\n",
    "print(pca.explained_variance_ratio_)"
   ]
  },
  {
   "cell_type": "code",
   "execution_count": 9,
   "metadata": {},
   "outputs": [
    {
     "data": {
      "text/plain": [
       "<AxesSubplot:>"
      ]
     },
     "execution_count": 9,
     "metadata": {},
     "output_type": "execute_result"
    },
    {
     "data": {
      "image/png": "[encoded data removed]",
      "text/plain": [
       "<Figure size 432x288 with 2 Axes>"
      ]
     },
     "metadata": {
      "needs_background": "light"
     },
     "output_type": "display_data"
    }
   ],
   "source": [
    "sns.heatmap(X_lp4[[\"Fx_lp4\", \"Fy_lp4\", \"Fz_lp4\", \"Tx_lp4\", \"Ty_lp4\", \"Tz_lp4\"]].corr())"
   ]
  },
  {
   "attachments": {},
   "cell_type": "markdown",
   "metadata": {},
   "source": [
    "Converting the DF to numpy so as to convert it into 3d arrays and compute the average and overall force torque values\n",
    "Followed by reshaping it into 3d numpy arrays"
   ]
  },
  {
   "cell_type": "code",
   "execution_count": 10,
   "metadata": {},
   "outputs": [],
   "source": [
    "X_lp4_numpy = X_lp4.to_numpy()\n",
    "X_lp4_numpy = X_lp4_numpy.reshape(-1,15,8)"
   ]
  },
  {
   "cell_type": "code",
   "execution_count": 11,
   "metadata": {},
   "outputs": [
    {
     "name": "stdout",
     "output_type": "stream",
     "text": [
      "(117, 15, 8)\n",
      "[[[6.55018587e-01 4.68292683e-01 9.01363073e-01 ... 5.02032520e-01\n",
      "   5.27864136e-03 6.26858730e-03]\n",
      "  [6.55018587e-01 4.67073171e-01 9.01363073e-01 ... 5.04065041e-01\n",
      "   5.25818609e-03 6.21044454e-03]\n",
      "  [6.55018587e-01 4.67073171e-01 9.02106568e-01 ... 5.04065041e-01\n",
      "   6.07857002e-03 6.21044454e-03]\n",
      "  ...\n",
      "  [6.55762082e-01 4.68292683e-01 9.03593556e-01 ... 5.02032520e-01\n",
      "   7.72208254e-03 7.54492878e-03]\n",
      "  [6.57249071e-01 4.64634146e-01 9.02106568e-01 ... 5.04065041e-01\n",
      "   6.06069793e-03 7.49561725e-03]\n",
      "  [6.55018587e-01 4.68292683e-01 9.03593556e-01 ... 5.04065041e-01\n",
      "   7.73624911e-03 5.20546024e-03]]\n",
      "\n",
      " [[6.54275093e-01 4.68292683e-01 9.01858736e-01 ... 5.04065041e-01\n",
      "   5.85450675e-03 7.69116766e-03]\n",
      "  [6.55018587e-01 4.68292683e-01 9.01115242e-01 ... 5.04065041e-01\n",
      "   5.00654713e-03 6.93275895e-03]\n",
      "  [6.54275093e-01 4.68292683e-01 9.02106568e-01 ... 5.04065041e-01\n",
      "   6.12598495e-03 6.93275895e-03]\n",
      "  ...\n",
      "  [6.53531599e-01 4.69512195e-01 9.01858736e-01 ... 5.02032520e-01\n",
      "   5.92806278e-03 9.80078014e-03]\n",
      "  [6.55018587e-01 4.68292683e-01 8.97893432e-01 ... 5.02032520e-01\n",
      "   1.54882488e-03 7.73936464e-03]\n",
      "  [6.54275093e-01 4.69512195e-01 9.02354399e-01 ... 5.02032520e-01\n",
      "   6.42600919e-03 7.29540893e-03]]\n",
      "\n",
      " [[6.55018587e-01 4.68292683e-01 9.01363073e-01 ... 5.02032520e-01\n",
      "   5.27864136e-03 6.26858730e-03]\n",
      "  [6.55018587e-01 4.68292683e-01 9.01115242e-01 ... 5.04065041e-01\n",
      "   5.00654713e-03 6.93275895e-03]\n",
      "  [6.55018587e-01 4.68292683e-01 9.01363073e-01 ... 5.02032520e-01\n",
      "   5.27864136e-03 6.26858730e-03]\n",
      "  ...\n",
      "  [6.55018587e-01 4.67073171e-01 9.03593556e-01 ... 5.00000000e-01\n",
      "   7.72208254e-03 7.14198727e-03]\n",
      "  [6.55018587e-01 4.68292683e-01 9.06567534e-01 ... 5.00000000e-01\n",
      "   1.10245285e-02 5.20546024e-03]\n",
      "  [6.54275093e-01 4.67073171e-01 8.97149938e-01 ... 5.04065041e-01\n",
      "   9.23507149e-04 6.21044454e-03]]\n",
      "\n",
      " ...\n",
      "\n",
      " [[6.47583643e-01 4.86585366e-01 8.97149938e-01 ... 4.95934959e-01\n",
      "   5.50541088e-03 1.90048409e-02]\n",
      "  [6.47583643e-01 4.80487805e-01 8.99132590e-01 ... 4.95934959e-01\n",
      "   5.28544306e-03 1.82385223e-02]\n",
      "  [6.50557621e-01 4.69512195e-01 8.97893432e-01 ... 4.95934959e-01\n",
      "   2.59555012e-03 9.91659654e-03]\n",
      "  ...\n",
      "  [6.56505576e-01 4.67073171e-01 8.97149938e-01 ... 4.97967480e-01\n",
      "   5.94504006e-04 2.11259065e-03]\n",
      "  [6.57249071e-01 4.68292683e-01 8.98636927e-01 ... 4.95934959e-01\n",
      "   2.27477693e-03 3.64770446e-03]\n",
      "  [6.57249071e-01 4.68292683e-01 8.98636927e-01 ... 4.95934959e-01\n",
      "   2.27477693e-03 3.64770446e-03]]\n",
      "\n",
      " [[6.26022305e-01 4.91463415e-01 8.95167286e-01 ... 4.95934959e-01\n",
      "   1.24647608e-02 5.69504866e-02]\n",
      "  [6.32713755e-01 4.91463415e-01 8.94919455e-01 ... 4.95934959e-01\n",
      "   1.03771182e-02 4.61738492e-02]\n",
      "  [6.40892193e-01 4.80487805e-01 8.94919455e-01 ... 4.95934959e-01\n",
      "   6.57661120e-03 3.03207113e-02]\n",
      "  ...\n",
      "  [6.53531599e-01 4.70731707e-01 8.97149938e-01 ... 4.97967480e-01\n",
      "   1.48555343e-03 1.97183747e-03]\n",
      "  [6.53531599e-01 4.69512195e-01 8.96902107e-01 ... 4.97967480e-01\n",
      "   1.20567219e-03 3.36538651e-03]\n",
      "  [6.55018587e-01 4.69512195e-01 8.97645601e-01 ... 4.97967480e-01\n",
      "   1.41992163e-03 2.37607025e-03]]\n",
      "\n",
      " [[6.63197026e-01 4.53658537e-01 8.93680297e-01 ... 4.95934959e-01\n",
      "   4.50306374e-03 1.62458614e-02]\n",
      "  [6.60223048e-01 4.65853659e-01 8.97397770e-01 ... 4.95934959e-01\n",
      "   1.48555343e-03 6.44025728e-03]\n",
      "  [6.54275093e-01 4.73170732e-01 8.95910781e-01 ... 4.95934959e-01\n",
      "   1.64966050e-03 1.00311873e-02]\n",
      "  ...\n",
      "  [6.55762082e-01 4.67073171e-01 8.95662949e-01 ... 4.97967480e-01\n",
      "   6.36940733e-04 3.36538651e-03]\n",
      "  [6.56505576e-01 4.64634146e-01 8.95167286e-01 ... 4.97967480e-01\n",
      "   1.12699843e-03 2.11259065e-03]\n",
      "  [6.55762082e-01 4.67073171e-01 8.97397770e-01 ... 4.97967480e-01\n",
      "   8.91542707e-04 1.97183747e-03]]]\n"
     ]
    }
   ],
   "source": [
    "print(X_lp4_numpy.shape)\n",
    "print(X_lp4_numpy)"
   ]
  },
  {
   "attachments": {},
   "cell_type": "markdown",
   "metadata": {},
   "source": [
    "Taking the mean of all the 15 readings for all the 8 columns"
   ]
  },
  {
   "cell_type": "code",
   "execution_count": 12,
   "metadata": {},
   "outputs": [],
   "source": [
    "X_lp4_avg = np.mean(X_lp4_numpy, axis=1)"
   ]
  },
  {
   "attachments": {},
   "cell_type": "markdown",
   "metadata": {},
   "source": [
    "Converting to dataframes for better visualisation"
   ]
  },
  {
   "cell_type": "code",
   "execution_count": 13,
   "metadata": {},
   "outputs": [],
   "source": [
    "X_lp4_dfprime = pd.DataFrame(X_lp4_avg, columns=[\"Fx_lp4\", \"Fy_lp4\", \"Fz_lp4\", \"Tx_lp4\", \"Ty_lp4\", \"Tz_lp4\", \"F_lp4\", \"T_lp4\"])"
   ]
  },
  {
   "attachments": {},
   "cell_type": "markdown",
   "metadata": {},
   "source": [
    "Combining X and Y "
   ]
  },
  {
   "cell_type": "code",
   "execution_count": 14,
   "metadata": {},
   "outputs": [],
   "source": [
    "X_lp4_df = pd.concat([X_lp4_dfprime, Y_lp4], axis = 1)"
   ]
  },
  {
   "attachments": {},
   "cell_type": "markdown",
   "metadata": {},
   "source": [
    "X_lp4_df = "
   ]
  },
  {
   "cell_type": "code",
   "execution_count": 15,
   "metadata": {},
   "outputs": [
    {
     "name": "stdout",
     "output_type": "stream",
     "text": [
      "<class 'pandas.core.frame.DataFrame'>\n",
      "RangeIndex: 117 entries, 0 to 116\n",
      "Data columns (total 9 columns):\n",
      " #   Column  Non-Null Count  Dtype  \n",
      "---  ------  --------------  -----  \n",
      " 0   Fx_lp4  117 non-null    float64\n",
      " 1   Fy_lp4  117 non-null    float64\n",
      " 2   Fz_lp4  117 non-null    float64\n",
      " 3   Tx_lp4  117 non-null    float64\n",
      " 4   Ty_lp4  117 non-null    float64\n",
      " 5   Tz_lp4  117 non-null    float64\n",
      " 6   F_lp4   117 non-null    float64\n",
      " 7   T_lp4   117 non-null    float64\n",
      " 8   Y_lp4   117 non-null    float64\n",
      "dtypes: float64(9)\n",
      "memory usage: 8.4 KB\n",
      "None\n"
     ]
    }
   ],
   "source": [
    "print(X_lp4_df.info())"
   ]
  },
  {
   "cell_type": "code",
   "execution_count": 16,
   "metadata": {},
   "outputs": [
    {
     "name": "stdout",
     "output_type": "stream",
     "text": [
      "           Fx_lp4      Fy_lp4      Fz_lp4      Tx_lp4      Ty_lp4      Tz_lp4  \\\n",
      "count  117.000000  117.000000  117.000000  117.000000  117.000000  117.000000   \n",
      "mean     0.656764    0.455499    0.856319    0.450711    0.601541    0.499956   \n",
      "std      0.031018    0.045388    0.100699    0.022296    0.039280    0.025801   \n",
      "min      0.540570    0.152602    0.288790    0.372899    0.387954    0.360705   \n",
      "25%      0.653036    0.460000    0.876382    0.445543    0.596503    0.496883   \n",
      "50%      0.655514    0.466341    0.897034    0.449130    0.601055    0.502304   \n",
      "75%      0.660421    0.468211    0.899397    0.450797    0.611379    0.507046   \n",
      "max      0.784734    0.564553    0.903924    0.590145    0.775909    0.642547   \n",
      "\n",
      "            F_lp4       T_lp4       Y_lp4  \n",
      "count  117.000000  117.000000  117.000000  \n",
      "mean     0.050816    0.040603    0.974359  \n",
      "std      0.111453    0.056059    0.622309  \n",
      "min      0.001782    0.003675    0.000000  \n",
      "25%      0.004067    0.007036    1.000000  \n",
      "50%      0.006023    0.015385    1.000000  \n",
      "75%      0.023118    0.044427    1.000000  \n",
      "max      0.676966    0.281413    2.000000  \n"
     ]
    }
   ],
   "source": [
    "print(X_lp4_df.describe())"
   ]
  },
  {
   "attachments": {},
   "cell_type": "markdown",
   "metadata": {},
   "source": [
    "Now is that all the data are checked for null values (no null values present), now data is visualised using various tools"
   ]
  },
  {
   "attachments": {},
   "cell_type": "markdown",
   "metadata": {},
   "source": [
    "1. Scatter Plot (done on both decimal and log scale)"
   ]
  },
  {
   "attachments": {},
   "cell_type": "markdown",
   "metadata": {},
   "source": [
    "lp4"
   ]
  },
  {
   "cell_type": "code",
   "execution_count": 17,
   "metadata": {},
   "outputs": [
    {
     "data": {
      "application/vnd.plotly.v1+json": {
       "config": {
        "plotlyServerURL": "https://plot.ly"
       },
       "data": [
        {
         "hovertemplate": "variable=Fx_lp4<br>value=%{x}<br>index=%{y}<extra></extra>",
         "legendgroup": "Fx_lp4",
         "marker": {
          "color": "red",
          "symbol": "circle"
         },
         "mode": "markers",
         "name": "Fx_lp4",
         "orientation": "h",
         "showlegend": true,
         "type": "scatter",
         "x": [
          0.6550185873605947,
          0.6552168525402725,
          0.6550185873605947,
          0.6543246592317223,
          0.654919454770756,
          0.6549690210656753,
          0.6553655514250311,
          0.6549194547707557,
          0.656009913258984,
          0.6565055762081784,
          0.6566542750929367,
          0.6569516728624536,
          0.656654275092937,
          0.6566047087980174,
          0.6565551425030979,
          0.6557620817843867,
          0.654820322180917,
          0.6554646840148699,
          0.6535315985130111,
          0.6534324659231722,
          0.6538289962825279,
          0.6535315985130112,
          0.6533828996282528,
          0.6534820322180915,
          0.6566047087980175,
          0.6658736059479554,
          0.6611648079306072,
          0.6559603469640645,
          0.6547707558859976,
          0.650359355638166,
          0.6544237918215613,
          0.6512515489467163,
          0.6482280049566296,
          0.6680545229244115,
          0.6631474597273855,
          0.6572986369268897,
          0.6559603469640645,
          0.649714993804213,
          0.6528872366790581,
          0.6617596034696405,
          0.6537794299876083,
          0.6514002478314745,
          0.6458488228004956,
          0.6519454770755887,
          0.6566047087980175,
          0.6411400247831475,
          0.6544733581164809,
          0.6636926889714994,
          0.6662701363073109,
          0.6392069392812886,
          0.6491697645600991,
          0.6818339529120199,
          0.6373729863692688,
          0.5892936802973978,
          0.6549194547707559,
          0.5550929368029739,
          0.6168029739776951,
          0.6552168525402725,
          0.784733581164808,
          0.6673605947955391,
          0.664634448574969,
          0.7007682775712516,
          0.748004956629492,
          0.7477571251548947,
          0.6328624535315985,
          0.7180173482032219,
          0.6534820322180915,
          0.6618091697645601,
          0.6698389095415119,
          0.653085501858736,
          0.5818587360594798,
          0.6580421313506816,
          0.5601982651796777,
          0.650557620817844,
          0.6623048327137546,
          0.743543990086741,
          0.6567534076827758,
          0.7060718711276333,
          0.6555142503097893,
          0.5405700123915737,
          0.6477819083023545,
          0.650359355638166,
          0.6601734820322182,
          0.6604213135068153,
          0.6962081784386617,
          0.6831226765799255,
          0.722180916976456,
          0.6589838909541511,
          0.6467410161090458,
          0.655811648079306,
          0.6579925650557621,
          0.6573482032218093,
          0.6598760842627013,
          0.6599752168525402,
          0.6583890954151177,
          0.6646840148698885,
          0.5917719950433705,
          0.6530359355638166,
          0.6197769516728625,
          0.6855018587360596,
          0.6556629491945477,
          0.667905824039653,
          0.6567534076827758,
          0.6558612143742255,
          0.6367781908302353,
          0.653184634448575,
          0.6518463444857496,
          0.6651796778190829,
          0.6563073110285007,
          0.6669640644361834,
          0.6541263940520448,
          0.6383147459727385,
          0.6545229244114001,
          0.662354399008674,
          0.6540768277571251,
          0.6518463444857496,
          0.6572986369268897
         ],
         "xaxis": "x",
         "y": [
          0,
          1,
          2,
          3,
          4,
          5,
          6,
          7,
          8,
          9,
          10,
          11,
          12,
          13,
          14,
          15,
          16,
          17,
          18,
          19,
          20,
          21,
          22,
          23,
          24,
          25,
          26,
          27,
          28,
          29,
          30,
          31,
          32,
          33,
          34,
          35,
          36,
          37,
          38,
          39,
          40,
          41,
          42,
          43,
          44,
          45,
          46,
          47,
          48,
          49,
          50,
          51,
          52,
          53,
          54,
          55,
          56,
          57,
          58,
          59,
          60,
          61,
          62,
          63,
          64,
          65,
          66,
          67,
          68,
          69,
          70,
          71,
          72,
          73,
          74,
          75,
          76,
          77,
          78,
          79,
          80,
          81,
          82,
          83,
          84,
          85,
          86,
          87,
          88,
          89,
          90,
          91,
          92,
          93,
          94,
          95,
          96,
          97,
          98,
          99,
          100,
          101,
          102,
          103,
          104,
          105,
          106,
          107,
          108,
          109,
          110,
          111,
          112,
          113,
          114,
          115,
          116
         ],
         "yaxis": "y"
        },
        {
         "hovertemplate": "variable=Fy_lp4<br>value=%{x}<br>index=%{y}<extra></extra>",
         "legendgroup": "Fy_lp4",
         "marker": {
          "color": "blue",
          "symbol": "circle"
         },
         "mode": "markers",
         "name": "Fy_lp4",
         "orientation": "h",
         "showlegend": true,
         "type": "scatter",
         "x": [
          0.4676422764227643,
          0.4682926829268294,
          0.4678861788617886,
          0.467479674796748,
          0.4677235772357724,
          0.46747967479674796,
          0.4673983739837398,
          0.46731707317073173,
          0.4680487804878049,
          0.46674796747967484,
          0.46658536585365856,
          0.46634146341463417,
          0.466260162601626,
          0.466260162601626,
          0.4660975609756097,
          0.46764227642276424,
          0.4669918699186992,
          0.4670731707317073,
          0.4663414634146342,
          0.46731707317073173,
          0.46560975609756106,
          0.46593495934959356,
          0.46674796747967473,
          0.4656910569105691,
          0.4692682926829269,
          0.4572357723577236,
          0.46317073170731704,
          0.46821138211382113,
          0.4659349593495935,
          0.4707317073170732,
          0.4630081300813008,
          0.4701626016260162,
          0.46821138211382113,
          0.46813008130081296,
          0.47065040650406514,
          0.47065040650406503,
          0.4691056910569106,
          0.48040650406504065,
          0.4651219512195122,
          0.4419512195121951,
          0.4683739837398375,
          0.4675609756097562,
          0.4693495934959351,
          0.4715447154471545,
          0.4692682926829269,
          0.47829268292682936,
          0.4669918699186991,
          0.46056910569105697,
          0.454390243902439,
          0.4801626016260163,
          0.4670731707317073,
          0.4520325203252033,
          0.47512195121951223,
          0.15260162601626018,
          0.45032520325203257,
          0.32861788617886173,
          0.4513821138211382,
          0.4882113821138211,
          0.27056910569105685,
          0.44414634146341464,
          0.4434959349593496,
          0.4170731707317073,
          0.3352032520325203,
          0.3673170731707317,
          0.42463414634146357,
          0.42520325203252035,
          0.46260162601626015,
          0.4630081300813008,
          0.5645528455284553,
          0.476910569105691,
          0.5137398373983741,
          0.45715447154471556,
          0.42422764227642273,
          0.4621951219512196,
          0.4663414634146343,
          0.4497560975609757,
          0.4658536585365854,
          0.32601626016260166,
          0.46414634146341466,
          0.32682926829268294,
          0.45626016260162605,
          0.46008130081300813,
          0.4599999999999999,
          0.46707317073170734,
          0.4601626016260163,
          0.47650406504065046,
          0.5250406504065039,
          0.4678048780487805,
          0.47674796747967474,
          0.4581300813008131,
          0.46731707317073173,
          0.4596747967479676,
          0.4682113821138211,
          0.458780487804878,
          0.46390243902439027,
          0.46447154471544716,
          0.43756097560975615,
          0.46447154471544727,
          0.44113821138211384,
          0.4366666666666667,
          0.467479674796748,
          0.45951219512195113,
          0.4652845528455286,
          0.4681300813008131,
          0.4752032520325204,
          0.46943089430894314,
          0.466829268292683,
          0.46170731707317075,
          0.46780487804878057,
          0.46617886178861784,
          0.4644715447154472,
          0.4845528455284553,
          0.46707317073170723,
          0.46317073170731715,
          0.4699186991869919,
          0.4710569105691057,
          0.4639024390243902
         ],
         "xaxis": "x",
         "y": [
          0,
          1,
          2,
          3,
          4,
          5,
          6,
          7,
          8,
          9,
          10,
          11,
          12,
          13,
          14,
          15,
          16,
          17,
          18,
          19,
          20,
          21,
          22,
          23,
          24,
          25,
          26,
          27,
          28,
          29,
          30,
          31,
          32,
          33,
          34,
          35,
          36,
          37,
          38,
          39,
          40,
          41,
          42,
          43,
          44,
          45,
          46,
          47,
          48,
          49,
          50,
          51,
          52,
          53,
          54,
          55,
          56,
          57,
          58,
          59,
          60,
          61,
          62,
          63,
          64,
          65,
          66,
          67,
          68,
          69,
          70,
          71,
          72,
          73,
          74,
          75,
          76,
          77,
          78,
          79,
          80,
          81,
          82,
          83,
          84,
          85,
          86,
          87,
          88,
          89,
          90,
          91,
          92,
          93,
          94,
          95,
          96,
          97,
          98,
          99,
          100,
          101,
          102,
          103,
          104,
          105,
          106,
          107,
          108,
          109,
          110,
          111,
          112,
          113,
          114,
          115,
          116
         ],
         "yaxis": "y"
        },
        {
         "hovertemplate": "variable=Fz_lp4<br>value=%{x}<br>index=%{y}<extra></extra>",
         "legendgroup": "Fz_lp4",
         "marker": {
          "color": "green",
          "symbol": "circle"
         },
         "mode": "markers",
         "name": "Fz_lp4",
         "orientation": "h",
         "showlegend": true,
         "type": "scatter",
         "x": [
          0.9012143742255265,
          0.9015613382899628,
          0.9020239570425443,
          0.901330028913672,
          0.9014456836018175,
          0.9011813300289137,
          0.9007021891780256,
          0.9012969847170591,
          0.9013795952085915,
          0.9003882693102024,
          0.9002560925237505,
          0.900784799669558,
          0.9002395704254441,
          0.9001734820322181,
          0.9000413052457663,
          0.9007352333746385,
          0.9010491532424617,
          0.9013795952085915,
          0.8985543163981824,
          0.8979925650557621,
          0.8981412639405203,
          0.8978934324659231,
          0.8979264766625362,
          0.8982073523337466,
          0.9023378769103677,
          0.9039239983477901,
          0.8975464684014871,
          0.898256918628666,
          0.8963568773234202,
          0.8971664601404378,
          0.897034283353986,
          0.8952003304419662,
          0.8951838083436598,
          0.9024370095002064,
          0.8882114828583229,
          0.8990830235439898,
          0.900371747211896,
          0.9022552664188352,
          0.8980421313506817,
          0.9035605121850475,
          0.9006856670797192,
          0.9010161090458486,
          0.8879140850888062,
          0.9010491532424619,
          0.9023378769103677,
          0.8977777777777778,
          0.8971168938455185,
          0.897645600991326,
          0.8988021478727798,
          0.8978438661710038,
          0.8980256092523751,
          0.8990830235439902,
          0.8964890541098719,
          0.3268236266005781,
          0.8692936802973978,
          0.6948864105741428,
          0.7546964064436181,
          0.6637092110698058,
          0.2887897562990499,
          0.8348946716232961,
          0.8283353985956217,
          0.8550516315572079,
          0.6335894258570838,
          0.6478810408921933,
          0.7143659644774886,
          0.7863197026022305,
          0.8906237092110698,
          0.8579429987608426,
          0.658223874432053,
          0.891548946716233,
          0.6276414704667492,
          0.8552829409334985,
          0.7603634861627426,
          0.8750433705080544,
          0.8886410574142916,
          0.6639405204460966,
          0.8956794712928543,
          0.7036431226765798,
          0.8944072697232549,
          0.6554812061131764,
          0.8608178438661709,
          0.875952085914911,
          0.87638166047088,
          0.8906732755059893,
          0.8545559686080133,
          0.7849814126394051,
          0.707360594795539,
          0.8906237092110697,
          0.8944568360181744,
          0.8791408508880626,
          0.892028087567121,
          0.8833870301528294,
          0.892094175960347,
          0.8836183395291201,
          0.8906732755059893,
          0.8891201982651797,
          0.7881536555142503,
          0.8931681123502685,
          0.8432878975629906,
          0.8862949194547708,
          0.8993969434118133,
          0.8974142916150353,
          0.897100371747212,
          0.897645600991326,
          0.8946881453944653,
          0.8969021065675341,
          0.8976290788930192,
          0.8999421726559275,
          0.898289962825279,
          0.8980256092523752,
          0.8967368855844693,
          0.8951507641470469,
          0.897100371747212,
          0.8985047501032632,
          0.8979595208591492,
          0.8973316811235027,
          0.8970177612556796
         ],
         "xaxis": "x",
         "y": [
          0,
          1,
          2,
          3,
          4,
          5,
          6,
          7,
          8,
          9,
          10,
          11,
          12,
          13,
          14,
          15,
          16,
          17,
          18,
          19,
          20,
          21,
          22,
          23,
          24,
          25,
          26,
          27,
          28,
          29,
          30,
          31,
          32,
          33,
          34,
          35,
          36,
          37,
          38,
          39,
          40,
          41,
          42,
          43,
          44,
          45,
          46,
          47,
          48,
          49,
          50,
          51,
          52,
          53,
          54,
          55,
          56,
          57,
          58,
          59,
          60,
          61,
          62,
          63,
          64,
          65,
          66,
          67,
          68,
          69,
          70,
          71,
          72,
          73,
          74,
          75,
          76,
          77,
          78,
          79,
          80,
          81,
          82,
          83,
          84,
          85,
          86,
          87,
          88,
          89,
          90,
          91,
          92,
          93,
          94,
          95,
          96,
          97,
          98,
          99,
          100,
          101,
          102,
          103,
          104,
          105,
          106,
          107,
          108,
          109,
          110,
          111,
          112,
          113,
          114,
          115,
          116
         ],
         "yaxis": "y"
        },
        {
         "hovertemplate": "variable=Tx_lp4<br>value=%{x}<br>index=%{y}<extra></extra>",
         "legendgroup": "Tx_lp4",
         "marker": {
          "color": "purple",
          "symbol": "circle"
         },
         "mode": "markers",
         "name": "Tx_lp4",
         "orientation": "h",
         "showlegend": true,
         "type": "scatter",
         "x": [
          0.4505434782608696,
          0.4505434782608696,
          0.45021739130434785,
          0.4501811594202899,
          0.44992753623188414,
          0.44978260869565223,
          0.450036231884058,
          0.4496376811594204,
          0.44989130434782615,
          0.44869565217391316,
          0.44862318840579724,
          0.4485869565217392,
          0.4483695652173914,
          0.44811594202898564,
          0.44804347826086965,
          0.4499637681159421,
          0.448913043478261,
          0.44985507246376816,
          0.4508333333333334,
          0.4502898550724639,
          0.45047101449275373,
          0.45021739130434796,
          0.45079710144927543,
          0.45010869565217404,
          0.4455434782608696,
          0.4502898550724638,
          0.45007246376811605,
          0.447536231884058,
          0.44739130434782626,
          0.44565217391304357,
          0.45163043478260884,
          0.4460144927536233,
          0.44594202898550744,
          0.44789855072463763,
          0.44500000000000006,
          0.4406521739130434,
          0.4442753623188406,
          0.4170289855072465,
          0.4455797101449273,
          0.48971014492753623,
          0.44717391304347837,
          0.4477898550724639,
          0.4419565217391304,
          0.4431884057971015,
          0.4455434782608696,
          0.4417753623188406,
          0.44989130434782615,
          0.45322463768115956,
          0.4548188405797103,
          0.43659420289855083,
          0.4473913043478262,
          0.46478260869565236,
          0.4442753623188406,
          0.39684782608695646,
          0.43224637681159417,
          0.4773913043478261,
          0.442572463768116,
          0.3728985507246377,
          0.5157608695652175,
          0.4530072463768116,
          0.4679710144927537,
          0.461268115942029,
          0.5148188405797101,
          0.4227536231884058,
          0.49115942028985504,
          0.4774275362318841,
          0.4452898550724638,
          0.4481884057971015,
          0.5901449275362318,
          0.443768115942029,
          0.41065217391304343,
          0.43177536231884056,
          0.4241666666666667,
          0.4360144927536232,
          0.4492391304347826,
          0.4771739130434783,
          0.4492391304347827,
          0.3940217391304348,
          0.4481159420289856,
          0.4440579710144928,
          0.4406159420289855,
          0.443695652173913,
          0.45061594202898547,
          0.4491304347826087,
          0.45822463768115934,
          0.4967028985507246,
          0.4952898550724638,
          0.45391304347826084,
          0.4385869565217391,
          0.4502898550724639,
          0.44989130434782615,
          0.4484420289855072,
          0.44945652173913053,
          0.4523913043478262,
          0.452391304347826,
          0.453768115942029,
          0.4718840579710145,
          0.4476811594202899,
          0.46405797101449264,
          0.4603623188405797,
          0.44978260869565223,
          0.4530072463768117,
          0.4509782608695653,
          0.4489855072463769,
          0.44307971014492764,
          0.4465579710144929,
          0.44793478260869585,
          0.44753623188405806,
          0.44909420289855084,
          0.4536956521739131,
          0.44956521739130445,
          0.4385869565217392,
          0.44322463768115955,
          0.45018115942028997,
          0.4474637681159422,
          0.44724637681159435,
          0.44960144927536244
         ],
         "xaxis": "x",
         "y": [
          0,
          1,
          2,
          3,
          4,
          5,
          6,
          7,
          8,
          9,
          10,
          11,
          12,
          13,
          14,
          15,
          16,
          17,
          18,
          19,
          20,
          21,
          22,
          23,
          24,
          25,
          26,
          27,
          28,
          29,
          30,
          31,
          32,
          33,
          34,
          35,
          36,
          37,
          38,
          39,
          40,
          41,
          42,
          43,
          44,
          45,
          46,
          47,
          48,
          49,
          50,
          51,
          52,
          53,
          54,
          55,
          56,
          57,
          58,
          59,
          60,
          61,
          62,
          63,
          64,
          65,
          66,
          67,
          68,
          69,
          70,
          71,
          72,
          73,
          74,
          75,
          76,
          77,
          78,
          79,
          80,
          81,
          82,
          83,
          84,
          85,
          86,
          87,
          88,
          89,
          90,
          91,
          92,
          93,
          94,
          95,
          96,
          97,
          98,
          99,
          100,
          101,
          102,
          103,
          104,
          105,
          106,
          107,
          108,
          109,
          110,
          111,
          112,
          113,
          114,
          115,
          116
         ],
         "yaxis": "y"
        },
        {
         "hovertemplate": "variable=Ty_lp4<br>value=%{x}<br>index=%{y}<extra></extra>",
         "legendgroup": "Ty_lp4",
         "marker": {
          "color": "orange",
          "symbol": "circle"
         },
         "mode": "markers",
         "name": "Ty_lp4",
         "orientation": "h",
         "showlegend": true,
         "type": "scatter",
         "x": [
          0.599000832639467,
          0.5982792117679712,
          0.5987232861504302,
          0.5976686094920899,
          0.5980016652789343,
          0.5991673605328894,
          0.5992228698306966,
          0.5990008326394671,
          0.599000832639467,
          0.5993338884263115,
          0.5993338884263114,
          0.5997224535109631,
          0.5995559256175409,
          0.5992783791285041,
          0.5992228698306967,
          0.5985012489592006,
          0.5988343047460449,
          0.5987787954482376,
          0.6028309741881764,
          0.6027199555925618,
          0.602164862614488,
          0.6016652789342215,
          0.6017207882320289,
          0.6027754648903692,
          0.6126561199000834,
          0.6302525673050235,
          0.6113794060505136,
          0.6025534276991397,
          0.6004995836802665,
          0.5954482375797947,
          0.6011656952539551,
          0.5970580072162088,
          0.596502914238135,
          0.6455731334998611,
          0.6169303358312518,
          0.613766305856231,
          0.6035525950596725,
          0.583902303635859,
          0.599555925617541,
          0.6276436303080767,
          0.598556758257008,
          0.5948376353039133,
          0.5977241187898975,
          0.5927837912850402,
          0.6126561199000834,
          0.5854010546766584,
          0.6034970857618652,
          0.617707466000555,
          0.6223147377185679,
          0.5749653066888704,
          0.5959478212600611,
          0.6427976686094922,
          0.577074660005551,
          0.7759089647515959,
          0.6244796003330557,
          0.6942547876769359,
          0.6850402442409104,
          0.46372467388287536,
          0.5817929503191784,
          0.5810158201498751,
          0.6417429919511518,
          0.6072717180127671,
          0.6094920899250625,
          0.3879544823757979,
          0.5398834304746045,
          0.6301970580072161,
          0.5948931446017208,
          0.5976686094920898,
          0.5311129614210379,
          0.6183180682764363,
          0.7197335553705244,
          0.6103802386899806,
          0.5670274771024145,
          0.5994449070219262,
          0.6038856508465168,
          0.5398834304746045,
          0.6033305578684429,
          0.4640577296697196,
          0.6063835692478491,
          0.622647793505412,
          0.6206494587843464,
          0.6139883430474604,
          0.6081598667776852,
          0.6012212045517625,
          0.6271995559256175,
          0.5714682209270053,
          0.6135442686650013,
          0.5962808770469054,
          0.593616430752151,
          0.6092700527338331,
          0.5917846239245074,
          0.6079378295864557,
          0.5986677768526228,
          0.6143769081321121,
          0.5947266167082986,
          0.6042742159311685,
          0.5917846239245074,
          0.6081598667776853,
          0.5762420205384402,
          0.6459061892867054,
          0.602886483485984,
          0.6193727449347767,
          0.6048848182070496,
          0.6021648626144879,
          0.5745212323064114,
          0.5958923119622537,
          0.5947821260061059,
          0.6223702470163752,
          0.6025534276991397,
          0.618706633361088,
          0.6038301415487095,
          0.5788509575353872,
          0.6009436580627254,
          0.6153760754926451,
          0.6010546766583402,
          0.5973355537052457,
          0.6047737996114348
         ],
         "xaxis": "x",
         "y": [
          0,
          1,
          2,
          3,
          4,
          5,
          6,
          7,
          8,
          9,
          10,
          11,
          12,
          13,
          14,
          15,
          16,
          17,
          18,
          19,
          20,
          21,
          22,
          23,
          24,
          25,
          26,
          27,
          28,
          29,
          30,
          31,
          32,
          33,
          34,
          35,
          36,
          37,
          38,
          39,
          40,
          41,
          42,
          43,
          44,
          45,
          46,
          47,
          48,
          49,
          50,
          51,
          52,
          53,
          54,
          55,
          56,
          57,
          58,
          59,
          60,
          61,
          62,
          63,
          64,
          65,
          66,
          67,
          68,
          69,
          70,
          71,
          72,
          73,
          74,
          75,
          76,
          77,
          78,
          79,
          80,
          81,
          82,
          83,
          84,
          85,
          86,
          87,
          88,
          89,
          90,
          91,
          92,
          93,
          94,
          95,
          96,
          97,
          98,
          99,
          100,
          101,
          102,
          103,
          104,
          105,
          106,
          107,
          108,
          109,
          110,
          111,
          112,
          113,
          114,
          115,
          116
         ],
         "yaxis": "y"
        },
        {
         "hovertemplate": "variable=Tz_lp4<br>value=%{x}<br>index=%{y}<extra></extra>",
         "legendgroup": "Tz_lp4",
         "marker": {
          "color": "yellow",
          "symbol": "circle"
         },
         "mode": "markers",
         "name": "Tz_lp4",
         "orientation": "h",
         "showlegend": true,
         "type": "scatter",
         "x": [
          0.502710027100271,
          0.502710027100271,
          0.5020325203252033,
          0.502710027100271,
          0.5031165311653116,
          0.502981029810298,
          0.50420054200542,
          0.5046070460704607,
          0.5051490514905148,
          0.5035230352303522,
          0.5035230352303522,
          0.5032520325203252,
          0.5032520325203251,
          0.5031165311653115,
          0.5028455284552844,
          0.5044715447154471,
          0.5047425474254742,
          0.5036585365853657,
          0.5070460704607045,
          0.5077235772357722,
          0.5071815718157181,
          0.5073170731707316,
          0.5074525745257452,
          0.5070460704607045,
          0.498509485094851,
          0.5051490514905148,
          0.5029810298102981,
          0.5023035230352303,
          0.4941734417344173,
          0.5023035230352303,
          0.4968834688346883,
          0.4981029810298104,
          0.49823848238482393,
          0.4789972899728997,
          0.4928184281842818,
          0.49905149051490516,
          0.4910569105691057,
          0.47994579945799465,
          0.5092140921409214,
          0.4630081300813008,
          0.501219512195122,
          0.5009485094850948,
          0.49485094850948513,
          0.49850948509485093,
          0.498509485094851,
          0.4991869918699187,
          0.49769647696476965,
          0.49742547425474265,
          0.49945799457994583,
          0.5012195121951221,
          0.49769647696476965,
          0.4962059620596207,
          0.49430894308943096,
          0.5021680216802169,
          0.5033875338753387,
          0.402710027100271,
          0.36070460704607044,
          0.40203252032520326,
          0.4689701897018969,
          0.49403794037940385,
          0.4875338753387534,
          0.521680216802168,
          0.48983739837398377,
          0.5317073170731708,
          0.4378048780487804,
          0.523170731707317,
          0.5078590785907857,
          0.5102981029810298,
          0.6425474254742549,
          0.5147696476964769,
          0.5051490514905148,
          0.490650406504065,
          0.48252032520325205,
          0.4856368563685637,
          0.5093495934959349,
          0.5302168021680216,
          0.5092140921409213,
          0.5410569105691055,
          0.5062330623306232,
          0.48631436314363147,
          0.5027100271002709,
          0.5069105691056909,
          0.5070460704607045,
          0.50840108401084,
          0.5193766937669376,
          0.5327913279132791,
          0.5349593495934959,
          0.5131436314363145,
          0.5073170731707316,
          0.49945799457994594,
          0.5089430894308943,
          0.5043360433604336,
          0.5093495934959349,
          0.5046070460704607,
          0.5140921409214093,
          0.5161246612466125,
          0.49430894308943096,
          0.5082655826558263,
          0.49647696476964764,
          0.5051490514905147,
          0.49837398373983743,
          0.4970189701897019,
          0.49756097560975615,
          0.49783197831978326,
          0.49552845528455286,
          0.49607046070460714,
          0.49092140921409216,
          0.5008130081300813,
          0.4978319783197832,
          0.5033875338753387,
          0.4970189701897019,
          0.4962059620596206,
          0.5,
          0.49796747967479676,
          0.4966124661246613,
          0.4971544715447155,
          0.4968834688346884
         ],
         "xaxis": "x",
         "y": [
          0,
          1,
          2,
          3,
          4,
          5,
          6,
          7,
          8,
          9,
          10,
          11,
          12,
          13,
          14,
          15,
          16,
          17,
          18,
          19,
          20,
          21,
          22,
          23,
          24,
          25,
          26,
          27,
          28,
          29,
          30,
          31,
          32,
          33,
          34,
          35,
          36,
          37,
          38,
          39,
          40,
          41,
          42,
          43,
          44,
          45,
          46,
          47,
          48,
          49,
          50,
          51,
          52,
          53,
          54,
          55,
          56,
          57,
          58,
          59,
          60,
          61,
          62,
          63,
          64,
          65,
          66,
          67,
          68,
          69,
          70,
          71,
          72,
          73,
          74,
          75,
          76,
          77,
          78,
          79,
          80,
          81,
          82,
          83,
          84,
          85,
          86,
          87,
          88,
          89,
          90,
          91,
          92,
          93,
          94,
          95,
          96,
          97,
          98,
          99,
          100,
          101,
          102,
          103,
          104,
          105,
          106,
          107,
          108,
          109,
          110,
          111,
          112,
          113,
          114,
          115,
          116
         ],
         "yaxis": "y"
        }
       ],
       "layout": {
        "legend": {
         "title": {
          "text": "variable"
         },
         "tracegroupgap": 0
        },
        "margin": {
         "t": 60
        },
        "template": {
         "data": {
          "bar": [
           {
            "error_x": {
             "color": "#2a3f5f"
            },
            "error_y": {
             "color": "#2a3f5f"
            },
            "marker": {
             "line": {
              "color": "#E5ECF6",
              "width": 0.5
             },
             "pattern": {
              "fillmode": "overlay",
              "size": 10,
              "solidity": 0.2
             }
            },
            "type": "bar"
           }
          ],
          "barpolar": [
           {
            "marker": {
             "line": {
              "color": "#E5ECF6",
              "width": 0.5
             },
             "pattern": {
              "fillmode": "overlay",
              "size": 10,
              "solidity": 0.2
             }
            },
            "type": "barpolar"
           }
          ],
          "carpet": [
           {
            "aaxis": {
             "endlinecolor": "#2a3f5f",
             "gridcolor": "white",
             "linecolor": "white",
             "minorgridcolor": "white",
             "startlinecolor": "#2a3f5f"
            },
            "baxis": {
             "endlinecolor": "#2a3f5f",
             "gridcolor": "white",
             "linecolor": "white",
             "minorgridcolor": "white",
             "startlinecolor": "#2a3f5f"
            },
            "type": "carpet"
           }
          ],
          "choropleth": [
           {
            "colorbar": {
             "outlinewidth": 0,
             "ticks": ""
            },
            "type": "choropleth"
           }
          ],
          "contour": [
           {
            "colorbar": {
             "outlinewidth": 0,
             "ticks": ""
            },
            "colorscale": [
             [
              0,
              "#0d0887"
             ],
             [
              0.1111111111111111,
              "#46039f"
             ],
             [
              0.2222222222222222,
              "#7201a8"
             ],
             [
              0.3333333333333333,
              "#9c179e"
             ],
             [
              0.4444444444444444,
              "#bd3786"
             ],
             [
              0.5555555555555556,
              "#d8576b"
             ],
             [
              0.6666666666666666,
              "#ed7953"
             ],
             [
              0.7777777777777778,
              "#fb9f3a"
             ],
             [
              0.8888888888888888,
              "#fdca26"
             ],
             [
              1,
              "#f0f921"
             ]
            ],
            "type": "contour"
           }
          ],
          "contourcarpet": [
           {
            "colorbar": {
             "outlinewidth": 0,
             "ticks": ""
            },
            "type": "contourcarpet"
           }
          ],
          "heatmap": [
           {
            "colorbar": {
             "outlinewidth": 0,
             "ticks": ""
            },
            "colorscale": [
             [
              0,
              "#0d0887"
             ],
             [
              0.1111111111111111,
              "#46039f"
             ],
             [
              0.2222222222222222,
              "#7201a8"
             ],
             [
              0.3333333333333333,
              "#9c179e"
             ],
             [
              0.4444444444444444,
              "#bd3786"
             ],
             [
              0.5555555555555556,
              "#d8576b"
             ],
             [
              0.6666666666666666,
              "#ed7953"
             ],
             [
              0.7777777777777778,
              "#fb9f3a"
             ],
             [
              0.8888888888888888,
              "#fdca26"
             ],
             [
              1,
              "#f0f921"
             ]
            ],
            "type": "heatmap"
           }
          ],
          "heatmapgl": [
           {
            "colorbar": {
             "outlinewidth": 0,
             "ticks": ""
            },
            "colorscale": [
             [
              0,
              "#0d0887"
             ],
             [
              0.1111111111111111,
              "#46039f"
             ],
             [
              0.2222222222222222,
              "#7201a8"
             ],
             [
              0.3333333333333333,
              "#9c179e"
             ],
             [
              0.4444444444444444,
              "#bd3786"
             ],
             [
              0.5555555555555556,
              "#d8576b"
             ],
             [
              0.6666666666666666,
              "#ed7953"
             ],
             [
              0.7777777777777778,
              "#fb9f3a"
             ],
             [
              0.8888888888888888,
              "#fdca26"
             ],
             [
              1,
              "#f0f921"
             ]
            ],
            "type": "heatmapgl"
           }
          ],
          "histogram": [
           {
            "marker": {
             "pattern": {
              "fillmode": "overlay",
              "size": 10,
              "solidity": 0.2
             }
            },
            "type": "histogram"
           }
          ],
          "histogram2d": [
           {
            "colorbar": {
             "outlinewidth": 0,
             "ticks": ""
            },
            "colorscale": [
             [
              0,
              "#0d0887"
             ],
             [
              0.1111111111111111,
              "#46039f"
             ],
             [
              0.2222222222222222,
              "#7201a8"
             ],
             [
              0.3333333333333333,
              "#9c179e"
             ],
             [
              0.4444444444444444,
              "#bd3786"
             ],
             [
              0.5555555555555556,
              "#d8576b"
             ],
             [
              0.6666666666666666,
              "#ed7953"
             ],
             [
              0.7777777777777778,
              "#fb9f3a"
             ],
             [
              0.8888888888888888,
              "#fdca26"
             ],
             [
              1,
              "#f0f921"
             ]
            ],
            "type": "histogram2d"
           }
          ],
          "histogram2dcontour": [
           {
            "colorbar": {
             "outlinewidth": 0,
             "ticks": ""
            },
            "colorscale": [
             [
              0,
              "#0d0887"
             ],
             [
              0.1111111111111111,
              "#46039f"
             ],
             [
              0.2222222222222222,
              "#7201a8"
             ],
             [
              0.3333333333333333,
              "#9c179e"
             ],
             [
              0.4444444444444444,
              "#bd3786"
             ],
             [
              0.5555555555555556,
              "#d8576b"
             ],
             [
              0.6666666666666666,
              "#ed7953"
             ],
             [
              0.7777777777777778,
              "#fb9f3a"
             ],
             [
              0.8888888888888888,
              "#fdca26"
             ],
             [
              1,
              "#f0f921"
             ]
            ],
            "type": "histogram2dcontour"
           }
          ],
          "mesh3d": [
           {
            "colorbar": {
             "outlinewidth": 0,
             "ticks": ""
            },
            "type": "mesh3d"
           }
          ],
          "parcoords": [
           {
            "line": {
             "colorbar": {
              "outlinewidth": 0,
              "ticks": ""
             }
            },
            "type": "parcoords"
           }
          ],
          "pie": [
           {
            "automargin": true,
            "type": "pie"
           }
          ],
          "scatter": [
           {
            "fillpattern": {
             "fillmode": "overlay",
             "size": 10,
             "solidity": 0.2
            },
            "type": "scatter"
           }
          ],
          "scatter3d": [
           {
            "line": {
             "colorbar": {
              "outlinewidth": 0,
              "ticks": ""
             }
            },
            "marker": {
             "colorbar": {
              "outlinewidth": 0,
              "ticks": ""
             }
            },
            "type": "scatter3d"
           }
          ],
          "scattercarpet": [
           {
            "marker": {
             "colorbar": {
              "outlinewidth": 0,
              "ticks": ""
             }
            },
            "type": "scattercarpet"
           }
          ],
          "scattergeo": [
           {
            "marker": {
             "colorbar": {
              "outlinewidth": 0,
              "ticks": ""
             }
            },
            "type": "scattergeo"
           }
          ],
          "scattergl": [
           {
            "marker": {
             "colorbar": {
              "outlinewidth": 0,
              "ticks": ""
             }
            },
            "type": "scattergl"
           }
          ],
          "scattermapbox": [
           {
            "marker": {
             "colorbar": {
              "outlinewidth": 0,
              "ticks": ""
             }
            },
            "type": "scattermapbox"
           }
          ],
          "scatterpolar": [
           {
            "marker": {
             "colorbar": {
              "outlinewidth": 0,
              "ticks": ""
             }
            },
            "type": "scatterpolar"
           }
          ],
          "scatterpolargl": [
           {
            "marker": {
             "colorbar": {
              "outlinewidth": 0,
              "ticks": ""
             }
            },
            "type": "scatterpolargl"
           }
          ],
          "scatterternary": [
           {
            "marker": {
             "colorbar": {
              "outlinewidth": 0,
              "ticks": ""
             }
            },
            "type": "scatterternary"
           }
          ],
          "surface": [
           {
            "colorbar": {
             "outlinewidth": 0,
             "ticks": ""
            },
            "colorscale": [
             [
              0,
              "#0d0887"
             ],
             [
              0.1111111111111111,
              "#46039f"
             ],
             [
              0.2222222222222222,
              "#7201a8"
             ],
             [
              0.3333333333333333,
              "#9c179e"
             ],
             [
              0.4444444444444444,
              "#bd3786"
             ],
             [
              0.5555555555555556,
              "#d8576b"
             ],
             [
              0.6666666666666666,
              "#ed7953"
             ],
             [
              0.7777777777777778,
              "#fb9f3a"
             ],
             [
              0.8888888888888888,
              "#fdca26"
             ],
             [
              1,
              "#f0f921"
             ]
            ],
            "type": "surface"
           }
          ],
          "table": [
           {
            "cells": {
             "fill": {
              "color": "#EBF0F8"
             },
             "line": {
              "color": "white"
             }
            },
            "header": {
             "fill": {
              "color": "#C8D4E3"
             },
             "line": {
              "color": "white"
             }
            },
            "type": "table"
           }
          ]
         },
         "layout": {
          "annotationdefaults": {
           "arrowcolor": "#2a3f5f",
           "arrowhead": 0,
           "arrowwidth": 1
          },
          "autotypenumbers": "strict",
          "coloraxis": {
           "colorbar": {
            "outlinewidth": 0,
            "ticks": ""
           }
          },
          "colorscale": {
           "diverging": [
            [
             0,
             "#8e0152"
            ],
            [
             0.1,
             "#c51b7d"
            ],
            [
             0.2,
             "#de77ae"
            ],
            [
             0.3,
             "#f1b6da"
            ],
            [
             0.4,
             "#fde0ef"
            ],
            [
             0.5,
             "#f7f7f7"
            ],
            [
             0.6,
             "#e6f5d0"
            ],
            [
             0.7,
             "#b8e186"
            ],
            [
             0.8,
             "#7fbc41"
            ],
            [
             0.9,
             "#4d9221"
            ],
            [
             1,
             "#276419"
            ]
           ],
           "sequential": [
            [
             0,
             "#0d0887"
            ],
            [
             0.1111111111111111,
             "#46039f"
            ],
            [
             0.2222222222222222,
             "#7201a8"
            ],
            [
             0.3333333333333333,
             "#9c179e"
            ],
            [
             0.4444444444444444,
             "#bd3786"
            ],
            [
             0.5555555555555556,
             "#d8576b"
            ],
            [
             0.6666666666666666,
             "#ed7953"
            ],
            [
             0.7777777777777778,
             "#fb9f3a"
            ],
            [
             0.8888888888888888,
             "#fdca26"
            ],
            [
             1,
             "#f0f921"
            ]
           ],
           "sequentialminus": [
            [
             0,
             "#0d0887"
            ],
            [
             0.1111111111111111,
             "#46039f"
            ],
            [
             0.2222222222222222,
             "#7201a8"
            ],
            [
             0.3333333333333333,
             "#9c179e"
            ],
            [
             0.4444444444444444,
             "#bd3786"
            ],
            [
             0.5555555555555556,
             "#d8576b"
            ],
            [
             0.6666666666666666,
             "#ed7953"
            ],
            [
             0.7777777777777778,
             "#fb9f3a"
            ],
            [
             0.8888888888888888,
             "#fdca26"
            ],
            [
             1,
             "#f0f921"
            ]
           ]
          },
          "colorway": [
           "#636efa",
           "#EF553B",
           "#00cc96",
           "#ab63fa",
           "#FFA15A",
           "#19d3f3",
           "#FF6692",
           "#B6E880",
           "#FF97FF",
           "#FECB52"
          ],
          "font": {
           "color": "#2a3f5f"
          },
          "geo": {
           "bgcolor": "white",
           "lakecolor": "white",
           "landcolor": "#E5ECF6",
           "showlakes": true,
           "showland": true,
           "subunitcolor": "white"
          },
          "hoverlabel": {
           "align": "left"
          },
          "hovermode": "closest",
          "mapbox": {
           "style": "light"
          },
          "paper_bgcolor": "white",
          "plot_bgcolor": "#E5ECF6",
          "polar": {
           "angularaxis": {
            "gridcolor": "white",
            "linecolor": "white",
            "ticks": ""
           },
           "bgcolor": "#E5ECF6",
           "radialaxis": {
            "gridcolor": "white",
            "linecolor": "white",
            "ticks": ""
           }
          },
          "scene": {
           "xaxis": {
            "backgroundcolor": "#E5ECF6",
            "gridcolor": "white",
            "gridwidth": 2,
            "linecolor": "white",
            "showbackground": true,
            "ticks": "",
            "zerolinecolor": "white"
           },
           "yaxis": {
            "backgroundcolor": "#E5ECF6",
            "gridcolor": "white",
            "gridwidth": 2,
            "linecolor": "white",
            "showbackground": true,
            "ticks": "",
            "zerolinecolor": "white"
           },
           "zaxis": {
            "backgroundcolor": "#E5ECF6",
            "gridcolor": "white",
            "gridwidth": 2,
            "linecolor": "white",
            "showbackground": true,
            "ticks": "",
            "zerolinecolor": "white"
           }
          },
          "shapedefaults": {
           "line": {
            "color": "#2a3f5f"
           }
          },
          "ternary": {
           "aaxis": {
            "gridcolor": "white",
            "linecolor": "white",
            "ticks": ""
           },
           "baxis": {
            "gridcolor": "white",
            "linecolor": "white",
            "ticks": ""
           },
           "bgcolor": "#E5ECF6",
           "caxis": {
            "gridcolor": "white",
            "linecolor": "white",
            "ticks": ""
           }
          },
          "title": {
           "x": 0.05
          },
          "xaxis": {
           "automargin": true,
           "gridcolor": "white",
           "linecolor": "white",
           "ticks": "",
           "title": {
            "standoff": 15
           },
           "zerolinecolor": "white",
           "zerolinewidth": 2
          },
          "yaxis": {
           "automargin": true,
           "gridcolor": "white",
           "linecolor": "white",
           "ticks": "",
           "title": {
            "standoff": 15
           },
           "zerolinecolor": "white",
           "zerolinewidth": 2
          }
         }
        },
        "xaxis": {
         "anchor": "y",
         "domain": [
          0,
          1
         ],
         "title": {
          "text": "value"
         }
        },
        "yaxis": {
         "anchor": "x",
         "domain": [
          0,
          1
         ],
         "title": {
          "text": "index"
         }
        }
       }
      }
     },
     "metadata": {},
     "output_type": "display_data"
    },
    {
     "data": {
      "application/vnd.plotly.v1+json": {
       "config": {
        "plotlyServerURL": "https://plot.ly"
       },
       "data": [
        {
         "hovertemplate": "variable=Fx_lp4<br>value=%{x}<br>Y_lp4=%{y}<extra></extra>",
         "legendgroup": "Fx_lp4",
         "marker": {
          "color": "#636efa",
          "symbol": "circle"
         },
         "mode": "markers",
         "name": "Fx_lp4",
         "orientation": "v",
         "showlegend": true,
         "type": "scatter",
         "x": [
          0.6550185873605947,
          0.6552168525402725,
          0.6550185873605947,
          0.6543246592317223,
          0.654919454770756,
          0.6549690210656753,
          0.6553655514250311,
          0.6549194547707557,
          0.656009913258984,
          0.6565055762081784,
          0.6566542750929367,
          0.6569516728624536,
          0.656654275092937,
          0.6566047087980174,
          0.6565551425030979,
          0.6557620817843867,
          0.654820322180917,
          0.6554646840148699,
          0.6535315985130111,
          0.6534324659231722,
          0.6538289962825279,
          0.6535315985130112,
          0.6533828996282528,
          0.6534820322180915,
          0.6566047087980175,
          0.6658736059479554,
          0.6611648079306072,
          0.6559603469640645,
          0.6547707558859976,
          0.650359355638166,
          0.6544237918215613,
          0.6512515489467163,
          0.6482280049566296,
          0.6680545229244115,
          0.6631474597273855,
          0.6572986369268897,
          0.6559603469640645,
          0.649714993804213,
          0.6528872366790581,
          0.6617596034696405,
          0.6537794299876083,
          0.6514002478314745,
          0.6458488228004956,
          0.6519454770755887,
          0.6566047087980175,
          0.6411400247831475,
          0.6544733581164809,
          0.6636926889714994,
          0.6662701363073109,
          0.6392069392812886,
          0.6491697645600991,
          0.6818339529120199,
          0.6373729863692688,
          0.5892936802973978,
          0.6549194547707559,
          0.5550929368029739,
          0.6168029739776951,
          0.6552168525402725,
          0.784733581164808,
          0.6673605947955391,
          0.664634448574969,
          0.7007682775712516,
          0.748004956629492,
          0.7477571251548947,
          0.6328624535315985,
          0.7180173482032219,
          0.6534820322180915,
          0.6618091697645601,
          0.6698389095415119,
          0.653085501858736,
          0.5818587360594798,
          0.6580421313506816,
          0.5601982651796777,
          0.650557620817844,
          0.6623048327137546,
          0.743543990086741,
          0.6567534076827758,
          0.7060718711276333,
          0.6555142503097893,
          0.5405700123915737,
          0.6477819083023545,
          0.650359355638166,
          0.6601734820322182,
          0.6604213135068153,
          0.6962081784386617,
          0.6831226765799255,
          0.722180916976456,
          0.6589838909541511,
          0.6467410161090458,
          0.655811648079306,
          0.6579925650557621,
          0.6573482032218093,
          0.6598760842627013,
          0.6599752168525402,
          0.6583890954151177,
          0.6646840148698885,
          0.5917719950433705,
          0.6530359355638166,
          0.6197769516728625,
          0.6855018587360596,
          0.6556629491945477,
          0.667905824039653,
          0.6567534076827758,
          0.6558612143742255,
          0.6367781908302353,
          0.653184634448575,
          0.6518463444857496,
          0.6651796778190829,
          0.6563073110285007,
          0.6669640644361834,
          0.6541263940520448,
          0.6383147459727385,
          0.6545229244114001,
          0.662354399008674,
          0.6540768277571251,
          0.6518463444857496,
          0.6572986369268897
         ],
         "xaxis": "x",
         "y": [
          0,
          0,
          0,
          0,
          0,
          0,
          0,
          0,
          0,
          0,
          0,
          0,
          0,
          0,
          0,
          0,
          0,
          0,
          0,
          0,
          0,
          0,
          0,
          0,
          1,
          1,
          1,
          1,
          1,
          1,
          1,
          1,
          1,
          1,
          1,
          1,
          1,
          1,
          1,
          1,
          1,
          1,
          1,
          1,
          1,
          1,
          1,
          1,
          1,
          1,
          1,
          1,
          1,
          2,
          1,
          2,
          2,
          2,
          2,
          1,
          1,
          1,
          2,
          2,
          2,
          2,
          2,
          1,
          2,
          1,
          2,
          1,
          2,
          2,
          1,
          2,
          1,
          2,
          1,
          2,
          1,
          1,
          1,
          1,
          2,
          2,
          2,
          1,
          1,
          1,
          1,
          1,
          1,
          1,
          1,
          1,
          2,
          1,
          1,
          1,
          1,
          1,
          1,
          1,
          1,
          1,
          1,
          1,
          1,
          1,
          1,
          1,
          1,
          1,
          1,
          1,
          1
         ],
         "yaxis": "y"
        },
        {
         "hovertemplate": "variable=Fy_lp4<br>value=%{x}<br>Y_lp4=%{y}<extra></extra>",
         "legendgroup": "Fy_lp4",
         "marker": {
          "color": "#EF553B",
          "symbol": "circle"
         },
         "mode": "markers",
         "name": "Fy_lp4",
         "orientation": "v",
         "showlegend": true,
         "type": "scatter",
         "x": [
          0.4676422764227643,
          0.4682926829268294,
          0.4678861788617886,
          0.467479674796748,
          0.4677235772357724,
          0.46747967479674796,
          0.4673983739837398,
          0.46731707317073173,
          0.4680487804878049,
          0.46674796747967484,
          0.46658536585365856,
          0.46634146341463417,
          0.466260162601626,
          0.466260162601626,
          0.4660975609756097,
          0.46764227642276424,
          0.4669918699186992,
          0.4670731707317073,
          0.4663414634146342,
          0.46731707317073173,
          0.46560975609756106,
          0.46593495934959356,
          0.46674796747967473,
          0.4656910569105691,
          0.4692682926829269,
          0.4572357723577236,
          0.46317073170731704,
          0.46821138211382113,
          0.4659349593495935,
          0.4707317073170732,
          0.4630081300813008,
          0.4701626016260162,
          0.46821138211382113,
          0.46813008130081296,
          0.47065040650406514,
          0.47065040650406503,
          0.4691056910569106,
          0.48040650406504065,
          0.4651219512195122,
          0.4419512195121951,
          0.4683739837398375,
          0.4675609756097562,
          0.4693495934959351,
          0.4715447154471545,
          0.4692682926829269,
          0.47829268292682936,
          0.4669918699186991,
          0.46056910569105697,
          0.454390243902439,
          0.4801626016260163,
          0.4670731707317073,
          0.4520325203252033,
          0.47512195121951223,
          0.15260162601626018,
          0.45032520325203257,
          0.32861788617886173,
          0.4513821138211382,
          0.4882113821138211,
          0.27056910569105685,
          0.44414634146341464,
          0.4434959349593496,
          0.4170731707317073,
          0.3352032520325203,
          0.3673170731707317,
          0.42463414634146357,
          0.42520325203252035,
          0.46260162601626015,
          0.4630081300813008,
          0.5645528455284553,
          0.476910569105691,
          0.5137398373983741,
          0.45715447154471556,
          0.42422764227642273,
          0.4621951219512196,
          0.4663414634146343,
          0.4497560975609757,
          0.4658536585365854,
          0.32601626016260166,
          0.46414634146341466,
          0.32682926829268294,
          0.45626016260162605,
          0.46008130081300813,
          0.4599999999999999,
          0.46707317073170734,
          0.4601626016260163,
          0.47650406504065046,
          0.5250406504065039,
          0.4678048780487805,
          0.47674796747967474,
          0.4581300813008131,
          0.46731707317073173,
          0.4596747967479676,
          0.4682113821138211,
          0.458780487804878,
          0.46390243902439027,
          0.46447154471544716,
          0.43756097560975615,
          0.46447154471544727,
          0.44113821138211384,
          0.4366666666666667,
          0.467479674796748,
          0.45951219512195113,
          0.4652845528455286,
          0.4681300813008131,
          0.4752032520325204,
          0.46943089430894314,
          0.466829268292683,
          0.46170731707317075,
          0.46780487804878057,
          0.46617886178861784,
          0.4644715447154472,
          0.4845528455284553,
          0.46707317073170723,
          0.46317073170731715,
          0.4699186991869919,
          0.4710569105691057,
          0.4639024390243902
         ],
         "xaxis": "x",
         "y": [
          0,
          0,
          0,
          0,
          0,
          0,
          0,
          0,
          0,
          0,
          0,
          0,
          0,
          0,
          0,
          0,
          0,
          0,
          0,
          0,
          0,
          0,
          0,
          0,
          1,
          1,
          1,
          1,
          1,
          1,
          1,
          1,
          1,
          1,
          1,
          1,
          1,
          1,
          1,
          1,
          1,
          1,
          1,
          1,
          1,
          1,
          1,
          1,
          1,
          1,
          1,
          1,
          1,
          2,
          1,
          2,
          2,
          2,
          2,
          1,
          1,
          1,
          2,
          2,
          2,
          2,
          2,
          1,
          2,
          1,
          2,
          1,
          2,
          2,
          1,
          2,
          1,
          2,
          1,
          2,
          1,
          1,
          1,
          1,
          2,
          2,
          2,
          1,
          1,
          1,
          1,
          1,
          1,
          1,
          1,
          1,
          2,
          1,
          1,
          1,
          1,
          1,
          1,
          1,
          1,
          1,
          1,
          1,
          1,
          1,
          1,
          1,
          1,
          1,
          1,
          1,
          1
         ],
         "yaxis": "y"
        },
        {
         "hovertemplate": "variable=Fz_lp4<br>value=%{x}<br>Y_lp4=%{y}<extra></extra>",
         "legendgroup": "Fz_lp4",
         "marker": {
          "color": "#00cc96",
          "symbol": "circle"
         },
         "mode": "markers",
         "name": "Fz_lp4",
         "orientation": "v",
         "showlegend": true,
         "type": "scatter",
         "x": [
          0.9012143742255265,
          0.9015613382899628,
          0.9020239570425443,
          0.901330028913672,
          0.9014456836018175,
          0.9011813300289137,
          0.9007021891780256,
          0.9012969847170591,
          0.9013795952085915,
          0.9003882693102024,
          0.9002560925237505,
          0.900784799669558,
          0.9002395704254441,
          0.9001734820322181,
          0.9000413052457663,
          0.9007352333746385,
          0.9010491532424617,
          0.9013795952085915,
          0.8985543163981824,
          0.8979925650557621,
          0.8981412639405203,
          0.8978934324659231,
          0.8979264766625362,
          0.8982073523337466,
          0.9023378769103677,
          0.9039239983477901,
          0.8975464684014871,
          0.898256918628666,
          0.8963568773234202,
          0.8971664601404378,
          0.897034283353986,
          0.8952003304419662,
          0.8951838083436598,
          0.9024370095002064,
          0.8882114828583229,
          0.8990830235439898,
          0.900371747211896,
          0.9022552664188352,
          0.8980421313506817,
          0.9035605121850475,
          0.9006856670797192,
          0.9010161090458486,
          0.8879140850888062,
          0.9010491532424619,
          0.9023378769103677,
          0.8977777777777778,
          0.8971168938455185,
          0.897645600991326,
          0.8988021478727798,
          0.8978438661710038,
          0.8980256092523751,
          0.8990830235439902,
          0.8964890541098719,
          0.3268236266005781,
          0.8692936802973978,
          0.6948864105741428,
          0.7546964064436181,
          0.6637092110698058,
          0.2887897562990499,
          0.8348946716232961,
          0.8283353985956217,
          0.8550516315572079,
          0.6335894258570838,
          0.6478810408921933,
          0.7143659644774886,
          0.7863197026022305,
          0.8906237092110698,
          0.8579429987608426,
          0.658223874432053,
          0.891548946716233,
          0.6276414704667492,
          0.8552829409334985,
          0.7603634861627426,
          0.8750433705080544,
          0.8886410574142916,
          0.6639405204460966,
          0.8956794712928543,
          0.7036431226765798,
          0.8944072697232549,
          0.6554812061131764,
          0.8608178438661709,
          0.875952085914911,
          0.87638166047088,
          0.8906732755059893,
          0.8545559686080133,
          0.7849814126394051,
          0.707360594795539,
          0.8906237092110697,
          0.8944568360181744,
          0.8791408508880626,
          0.892028087567121,
          0.8833870301528294,
          0.892094175960347,
          0.8836183395291201,
          0.8906732755059893,
          0.8891201982651797,
          0.7881536555142503,
          0.8931681123502685,
          0.8432878975629906,
          0.8862949194547708,
          0.8993969434118133,
          0.8974142916150353,
          0.897100371747212,
          0.897645600991326,
          0.8946881453944653,
          0.8969021065675341,
          0.8976290788930192,
          0.8999421726559275,
          0.898289962825279,
          0.8980256092523752,
          0.8967368855844693,
          0.8951507641470469,
          0.897100371747212,
          0.8985047501032632,
          0.8979595208591492,
          0.8973316811235027,
          0.8970177612556796
         ],
         "xaxis": "x",
         "y": [
          0,
          0,
          0,
          0,
          0,
          0,
          0,
          0,
          0,
          0,
          0,
          0,
          0,
          0,
          0,
          0,
          0,
          0,
          0,
          0,
          0,
          0,
          0,
          0,
          1,
          1,
          1,
          1,
          1,
          1,
          1,
          1,
          1,
          1,
          1,
          1,
          1,
          1,
          1,
          1,
          1,
          1,
          1,
          1,
          1,
          1,
          1,
          1,
          1,
          1,
          1,
          1,
          1,
          2,
          1,
          2,
          2,
          2,
          2,
          1,
          1,
          1,
          2,
          2,
          2,
          2,
          2,
          1,
          2,
          1,
          2,
          1,
          2,
          2,
          1,
          2,
          1,
          2,
          1,
          2,
          1,
          1,
          1,
          1,
          2,
          2,
          2,
          1,
          1,
          1,
          1,
          1,
          1,
          1,
          1,
          1,
          2,
          1,
          1,
          1,
          1,
          1,
          1,
          1,
          1,
          1,
          1,
          1,
          1,
          1,
          1,
          1,
          1,
          1,
          1,
          1,
          1
         ],
         "yaxis": "y"
        },
        {
         "hovertemplate": "variable=Tx_lp4<br>value=%{x}<br>Y_lp4=%{y}<extra></extra>",
         "legendgroup": "Tx_lp4",
         "marker": {
          "color": "#ab63fa",
          "symbol": "circle"
         },
         "mode": "markers",
         "name": "Tx_lp4",
         "orientation": "v",
         "showlegend": true,
         "type": "scatter",
         "x": [
          0.4505434782608696,
          0.4505434782608696,
          0.45021739130434785,
          0.4501811594202899,
          0.44992753623188414,
          0.44978260869565223,
          0.450036231884058,
          0.4496376811594204,
          0.44989130434782615,
          0.44869565217391316,
          0.44862318840579724,
          0.4485869565217392,
          0.4483695652173914,
          0.44811594202898564,
          0.44804347826086965,
          0.4499637681159421,
          0.448913043478261,
          0.44985507246376816,
          0.4508333333333334,
          0.4502898550724639,
          0.45047101449275373,
          0.45021739130434796,
          0.45079710144927543,
          0.45010869565217404,
          0.4455434782608696,
          0.4502898550724638,
          0.45007246376811605,
          0.447536231884058,
          0.44739130434782626,
          0.44565217391304357,
          0.45163043478260884,
          0.4460144927536233,
          0.44594202898550744,
          0.44789855072463763,
          0.44500000000000006,
          0.4406521739130434,
          0.4442753623188406,
          0.4170289855072465,
          0.4455797101449273,
          0.48971014492753623,
          0.44717391304347837,
          0.4477898550724639,
          0.4419565217391304,
          0.4431884057971015,
          0.4455434782608696,
          0.4417753623188406,
          0.44989130434782615,
          0.45322463768115956,
          0.4548188405797103,
          0.43659420289855083,
          0.4473913043478262,
          0.46478260869565236,
          0.4442753623188406,
          0.39684782608695646,
          0.43224637681159417,
          0.4773913043478261,
          0.442572463768116,
          0.3728985507246377,
          0.5157608695652175,
          0.4530072463768116,
          0.4679710144927537,
          0.461268115942029,
          0.5148188405797101,
          0.4227536231884058,
          0.49115942028985504,
          0.4774275362318841,
          0.4452898550724638,
          0.4481884057971015,
          0.5901449275362318,
          0.443768115942029,
          0.41065217391304343,
          0.43177536231884056,
          0.4241666666666667,
          0.4360144927536232,
          0.4492391304347826,
          0.4771739130434783,
          0.4492391304347827,
          0.3940217391304348,
          0.4481159420289856,
          0.4440579710144928,
          0.4406159420289855,
          0.443695652173913,
          0.45061594202898547,
          0.4491304347826087,
          0.45822463768115934,
          0.4967028985507246,
          0.4952898550724638,
          0.45391304347826084,
          0.4385869565217391,
          0.4502898550724639,
          0.44989130434782615,
          0.4484420289855072,
          0.44945652173913053,
          0.4523913043478262,
          0.452391304347826,
          0.453768115942029,
          0.4718840579710145,
          0.4476811594202899,
          0.46405797101449264,
          0.4603623188405797,
          0.44978260869565223,
          0.4530072463768117,
          0.4509782608695653,
          0.4489855072463769,
          0.44307971014492764,
          0.4465579710144929,
          0.44793478260869585,
          0.44753623188405806,
          0.44909420289855084,
          0.4536956521739131,
          0.44956521739130445,
          0.4385869565217392,
          0.44322463768115955,
          0.45018115942028997,
          0.4474637681159422,
          0.44724637681159435,
          0.44960144927536244
         ],
         "xaxis": "x",
         "y": [
          0,
          0,
          0,
          0,
          0,
          0,
          0,
          0,
          0,
          0,
          0,
          0,
          0,
          0,
          0,
          0,
          0,
          0,
          0,
          0,
          0,
          0,
          0,
          0,
          1,
          1,
          1,
          1,
          1,
          1,
          1,
          1,
          1,
          1,
          1,
          1,
          1,
          1,
          1,
          1,
          1,
          1,
          1,
          1,
          1,
          1,
          1,
          1,
          1,
          1,
          1,
          1,
          1,
          2,
          1,
          2,
          2,
          2,
          2,
          1,
          1,
          1,
          2,
          2,
          2,
          2,
          2,
          1,
          2,
          1,
          2,
          1,
          2,
          2,
          1,
          2,
          1,
          2,
          1,
          2,
          1,
          1,
          1,
          1,
          2,
          2,
          2,
          1,
          1,
          1,
          1,
          1,
          1,
          1,
          1,
          1,
          2,
          1,
          1,
          1,
          1,
          1,
          1,
          1,
          1,
          1,
          1,
          1,
          1,
          1,
          1,
          1,
          1,
          1,
          1,
          1,
          1
         ],
         "yaxis": "y"
        },
        {
         "hovertemplate": "variable=Ty_lp4<br>value=%{x}<br>Y_lp4=%{y}<extra></extra>",
         "legendgroup": "Ty_lp4",
         "marker": {
          "color": "#FFA15A",
          "symbol": "circle"
         },
         "mode": "markers",
         "name": "Ty_lp4",
         "orientation": "v",
         "showlegend": true,
         "type": "scatter",
         "x": [
          0.599000832639467,
          0.5982792117679712,
          0.5987232861504302,
          0.5976686094920899,
          0.5980016652789343,
          0.5991673605328894,
          0.5992228698306966,
          0.5990008326394671,
          0.599000832639467,
          0.5993338884263115,
          0.5993338884263114,
          0.5997224535109631,
          0.5995559256175409,
          0.5992783791285041,
          0.5992228698306967,
          0.5985012489592006,
          0.5988343047460449,
          0.5987787954482376,
          0.6028309741881764,
          0.6027199555925618,
          0.602164862614488,
          0.6016652789342215,
          0.6017207882320289,
          0.6027754648903692,
          0.6126561199000834,
          0.6302525673050235,
          0.6113794060505136,
          0.6025534276991397,
          0.6004995836802665,
          0.5954482375797947,
          0.6011656952539551,
          0.5970580072162088,
          0.596502914238135,
          0.6455731334998611,
          0.6169303358312518,
          0.613766305856231,
          0.6035525950596725,
          0.583902303635859,
          0.599555925617541,
          0.6276436303080767,
          0.598556758257008,
          0.5948376353039133,
          0.5977241187898975,
          0.5927837912850402,
          0.6126561199000834,
          0.5854010546766584,
          0.6034970857618652,
          0.617707466000555,
          0.6223147377185679,
          0.5749653066888704,
          0.5959478212600611,
          0.6427976686094922,
          0.577074660005551,
          0.7759089647515959,
          0.6244796003330557,
          0.6942547876769359,
          0.6850402442409104,
          0.46372467388287536,
          0.5817929503191784,
          0.5810158201498751,
          0.6417429919511518,
          0.6072717180127671,
          0.6094920899250625,
          0.3879544823757979,
          0.5398834304746045,
          0.6301970580072161,
          0.5948931446017208,
          0.5976686094920898,
          0.5311129614210379,
          0.6183180682764363,
          0.7197335553705244,
          0.6103802386899806,
          0.5670274771024145,
          0.5994449070219262,
          0.6038856508465168,
          0.5398834304746045,
          0.6033305578684429,
          0.4640577296697196,
          0.6063835692478491,
          0.622647793505412,
          0.6206494587843464,
          0.6139883430474604,
          0.6081598667776852,
          0.6012212045517625,
          0.6271995559256175,
          0.5714682209270053,
          0.6135442686650013,
          0.5962808770469054,
          0.593616430752151,
          0.6092700527338331,
          0.5917846239245074,
          0.6079378295864557,
          0.5986677768526228,
          0.6143769081321121,
          0.5947266167082986,
          0.6042742159311685,
          0.5917846239245074,
          0.6081598667776853,
          0.5762420205384402,
          0.6459061892867054,
          0.602886483485984,
          0.6193727449347767,
          0.6048848182070496,
          0.6021648626144879,
          0.5745212323064114,
          0.5958923119622537,
          0.5947821260061059,
          0.6223702470163752,
          0.6025534276991397,
          0.618706633361088,
          0.6038301415487095,
          0.5788509575353872,
          0.6009436580627254,
          0.6153760754926451,
          0.6010546766583402,
          0.5973355537052457,
          0.6047737996114348
         ],
         "xaxis": "x",
         "y": [
          0,
          0,
          0,
          0,
          0,
          0,
          0,
          0,
          0,
          0,
          0,
          0,
          0,
          0,
          0,
          0,
          0,
          0,
          0,
          0,
          0,
          0,
          0,
          0,
          1,
          1,
          1,
          1,
          1,
          1,
          1,
          1,
          1,
          1,
          1,
          1,
          1,
          1,
          1,
          1,
          1,
          1,
          1,
          1,
          1,
          1,
          1,
          1,
          1,
          1,
          1,
          1,
          1,
          2,
          1,
          2,
          2,
          2,
          2,
          1,
          1,
          1,
          2,
          2,
          2,
          2,
          2,
          1,
          2,
          1,
          2,
          1,
          2,
          2,
          1,
          2,
          1,
          2,
          1,
          2,
          1,
          1,
          1,
          1,
          2,
          2,
          2,
          1,
          1,
          1,
          1,
          1,
          1,
          1,
          1,
          1,
          2,
          1,
          1,
          1,
          1,
          1,
          1,
          1,
          1,
          1,
          1,
          1,
          1,
          1,
          1,
          1,
          1,
          1,
          1,
          1,
          1
         ],
         "yaxis": "y"
        },
        {
         "hovertemplate": "variable=Tz_lp4<br>value=%{x}<br>Y_lp4=%{y}<extra></extra>",
         "legendgroup": "Tz_lp4",
         "marker": {
          "color": "#19d3f3",
          "symbol": "circle"
         },
         "mode": "markers",
         "name": "Tz_lp4",
         "orientation": "v",
         "showlegend": true,
         "type": "scatter",
         "x": [
          0.502710027100271,
          0.502710027100271,
          0.5020325203252033,
          0.502710027100271,
          0.5031165311653116,
          0.502981029810298,
          0.50420054200542,
          0.5046070460704607,
          0.5051490514905148,
          0.5035230352303522,
          0.5035230352303522,
          0.5032520325203252,
          0.5032520325203251,
          0.5031165311653115,
          0.5028455284552844,
          0.5044715447154471,
          0.5047425474254742,
          0.5036585365853657,
          0.5070460704607045,
          0.5077235772357722,
          0.5071815718157181,
          0.5073170731707316,
          0.5074525745257452,
          0.5070460704607045,
          0.498509485094851,
          0.5051490514905148,
          0.5029810298102981,
          0.5023035230352303,
          0.4941734417344173,
          0.5023035230352303,
          0.4968834688346883,
          0.4981029810298104,
          0.49823848238482393,
          0.4789972899728997,
          0.4928184281842818,
          0.49905149051490516,
          0.4910569105691057,
          0.47994579945799465,
          0.5092140921409214,
          0.4630081300813008,
          0.501219512195122,
          0.5009485094850948,
          0.49485094850948513,
          0.49850948509485093,
          0.498509485094851,
          0.4991869918699187,
          0.49769647696476965,
          0.49742547425474265,
          0.49945799457994583,
          0.5012195121951221,
          0.49769647696476965,
          0.4962059620596207,
          0.49430894308943096,
          0.5021680216802169,
          0.5033875338753387,
          0.402710027100271,
          0.36070460704607044,
          0.40203252032520326,
          0.4689701897018969,
          0.49403794037940385,
          0.4875338753387534,
          0.521680216802168,
          0.48983739837398377,
          0.5317073170731708,
          0.4378048780487804,
          0.523170731707317,
          0.5078590785907857,
          0.5102981029810298,
          0.6425474254742549,
          0.5147696476964769,
          0.5051490514905148,
          0.490650406504065,
          0.48252032520325205,
          0.4856368563685637,
          0.5093495934959349,
          0.5302168021680216,
          0.5092140921409213,
          0.5410569105691055,
          0.5062330623306232,
          0.48631436314363147,
          0.5027100271002709,
          0.5069105691056909,
          0.5070460704607045,
          0.50840108401084,
          0.5193766937669376,
          0.5327913279132791,
          0.5349593495934959,
          0.5131436314363145,
          0.5073170731707316,
          0.49945799457994594,
          0.5089430894308943,
          0.5043360433604336,
          0.5093495934959349,
          0.5046070460704607,
          0.5140921409214093,
          0.5161246612466125,
          0.49430894308943096,
          0.5082655826558263,
          0.49647696476964764,
          0.5051490514905147,
          0.49837398373983743,
          0.4970189701897019,
          0.49756097560975615,
          0.49783197831978326,
          0.49552845528455286,
          0.49607046070460714,
          0.49092140921409216,
          0.5008130081300813,
          0.4978319783197832,
          0.5033875338753387,
          0.4970189701897019,
          0.4962059620596206,
          0.5,
          0.49796747967479676,
          0.4966124661246613,
          0.4971544715447155,
          0.4968834688346884
         ],
         "xaxis": "x",
         "y": [
          0,
          0,
          0,
          0,
          0,
          0,
          0,
          0,
          0,
          0,
          0,
          0,
          0,
          0,
          0,
          0,
          0,
          0,
          0,
          0,
          0,
          0,
          0,
          0,
          1,
          1,
          1,
          1,
          1,
          1,
          1,
          1,
          1,
          1,
          1,
          1,
          1,
          1,
          1,
          1,
          1,
          1,
          1,
          1,
          1,
          1,
          1,
          1,
          1,
          1,
          1,
          1,
          1,
          2,
          1,
          2,
          2,
          2,
          2,
          1,
          1,
          1,
          2,
          2,
          2,
          2,
          2,
          1,
          2,
          1,
          2,
          1,
          2,
          2,
          1,
          2,
          1,
          2,
          1,
          2,
          1,
          1,
          1,
          1,
          2,
          2,
          2,
          1,
          1,
          1,
          1,
          1,
          1,
          1,
          1,
          1,
          2,
          1,
          1,
          1,
          1,
          1,
          1,
          1,
          1,
          1,
          1,
          1,
          1,
          1,
          1,
          1,
          1,
          1,
          1,
          1,
          1
         ],
         "yaxis": "y"
        }
       ],
       "layout": {
        "legend": {
         "title": {
          "text": "variable"
         },
         "tracegroupgap": 0
        },
        "margin": {
         "t": 60
        },
        "template": {
         "data": {
          "bar": [
           {
            "error_x": {
             "color": "#2a3f5f"
            },
            "error_y": {
             "color": "#2a3f5f"
            },
            "marker": {
             "line": {
              "color": "#E5ECF6",
              "width": 0.5
             },
             "pattern": {
              "fillmode": "overlay",
              "size": 10,
              "solidity": 0.2
             }
            },
            "type": "bar"
           }
          ],
          "barpolar": [
           {
            "marker": {
             "line": {
              "color": "#E5ECF6",
              "width": 0.5
             },
             "pattern": {
              "fillmode": "overlay",
              "size": 10,
              "solidity": 0.2
             }
            },
            "type": "barpolar"
           }
          ],
          "carpet": [
           {
            "aaxis": {
             "endlinecolor": "#2a3f5f",
             "gridcolor": "white",
             "linecolor": "white",
             "minorgridcolor": "white",
             "startlinecolor": "#2a3f5f"
            },
            "baxis": {
             "endlinecolor": "#2a3f5f",
             "gridcolor": "white",
             "linecolor": "white",
             "minorgridcolor": "white",
             "startlinecolor": "#2a3f5f"
            },
            "type": "carpet"
           }
          ],
          "choropleth": [
           {
            "colorbar": {
             "outlinewidth": 0,
             "ticks": ""
            },
            "type": "choropleth"
           }
          ],
          "contour": [
           {
            "colorbar": {
             "outlinewidth": 0,
             "ticks": ""
            },
            "colorscale": [
             [
              0,
              "#0d0887"
             ],
             [
              0.1111111111111111,
              "#46039f"
             ],
             [
              0.2222222222222222,
              "#7201a8"
             ],
             [
              0.3333333333333333,
              "#9c179e"
             ],
             [
              0.4444444444444444,
              "#bd3786"
             ],
             [
              0.5555555555555556,
              "#d8576b"
             ],
             [
              0.6666666666666666,
              "#ed7953"
             ],
             [
              0.7777777777777778,
              "#fb9f3a"
             ],
             [
              0.8888888888888888,
              "#fdca26"
             ],
             [
              1,
              "#f0f921"
             ]
            ],
            "type": "contour"
           }
          ],
          "contourcarpet": [
           {
            "colorbar": {
             "outlinewidth": 0,
             "ticks": ""
            },
            "type": "contourcarpet"
           }
          ],
          "heatmap": [
           {
            "colorbar": {
             "outlinewidth": 0,
             "ticks": ""
            },
            "colorscale": [
             [
              0,
              "#0d0887"
             ],
             [
              0.1111111111111111,
              "#46039f"
             ],
             [
              0.2222222222222222,
              "#7201a8"
             ],
             [
              0.3333333333333333,
              "#9c179e"
             ],
             [
              0.4444444444444444,
              "#bd3786"
             ],
             [
              0.5555555555555556,
              "#d8576b"
             ],
             [
              0.6666666666666666,
              "#ed7953"
             ],
             [
              0.7777777777777778,
              "#fb9f3a"
             ],
             [
              0.8888888888888888,
              "#fdca26"
             ],
             [
              1,
              "#f0f921"
             ]
            ],
            "type": "heatmap"
           }
          ],
          "heatmapgl": [
           {
            "colorbar": {
             "outlinewidth": 0,
             "ticks": ""
            },
            "colorscale": [
             [
              0,
              "#0d0887"
             ],
             [
              0.1111111111111111,
              "#46039f"
             ],
             [
              0.2222222222222222,
              "#7201a8"
             ],
             [
              0.3333333333333333,
              "#9c179e"
             ],
             [
              0.4444444444444444,
              "#bd3786"
             ],
             [
              0.5555555555555556,
              "#d8576b"
             ],
             [
              0.6666666666666666,
              "#ed7953"
             ],
             [
              0.7777777777777778,
              "#fb9f3a"
             ],
             [
              0.8888888888888888,
              "#fdca26"
             ],
             [
              1,
              "#f0f921"
             ]
            ],
            "type": "heatmapgl"
           }
          ],
          "histogram": [
           {
            "marker": {
             "pattern": {
              "fillmode": "overlay",
              "size": 10,
              "solidity": 0.2
             }
            },
            "type": "histogram"
           }
          ],
          "histogram2d": [
           {
            "colorbar": {
             "outlinewidth": 0,
             "ticks": ""
            },
            "colorscale": [
             [
              0,
              "#0d0887"
             ],
             [
              0.1111111111111111,
              "#46039f"
             ],
             [
              0.2222222222222222,
              "#7201a8"
             ],
             [
              0.3333333333333333,
              "#9c179e"
             ],
             [
              0.4444444444444444,
              "#bd3786"
             ],
             [
              0.5555555555555556,
              "#d8576b"
             ],
             [
              0.6666666666666666,
              "#ed7953"
             ],
             [
              0.7777777777777778,
              "#fb9f3a"
             ],
             [
              0.8888888888888888,
              "#fdca26"
             ],
             [
              1,
              "#f0f921"
             ]
            ],
            "type": "histogram2d"
           }
          ],
          "histogram2dcontour": [
           {
            "colorbar": {
             "outlinewidth": 0,
             "ticks": ""
            },
            "colorscale": [
             [
              0,
              "#0d0887"
             ],
             [
              0.1111111111111111,
              "#46039f"
             ],
             [
              0.2222222222222222,
              "#7201a8"
             ],
             [
              0.3333333333333333,
              "#9c179e"
             ],
             [
              0.4444444444444444,
              "#bd3786"
             ],
             [
              0.5555555555555556,
              "#d8576b"
             ],
             [
              0.6666666666666666,
              "#ed7953"
             ],
             [
              0.7777777777777778,
              "#fb9f3a"
             ],
             [
              0.8888888888888888,
              "#fdca26"
             ],
             [
              1,
              "#f0f921"
             ]
            ],
            "type": "histogram2dcontour"
           }
          ],
          "mesh3d": [
           {
            "colorbar": {
             "outlinewidth": 0,
             "ticks": ""
            },
            "type": "mesh3d"
           }
          ],
          "parcoords": [
           {
            "line": {
             "colorbar": {
              "outlinewidth": 0,
              "ticks": ""
             }
            },
            "type": "parcoords"
           }
          ],
          "pie": [
           {
            "automargin": true,
            "type": "pie"
           }
          ],
          "scatter": [
           {
            "fillpattern": {
             "fillmode": "overlay",
             "size": 10,
             "solidity": 0.2
            },
            "type": "scatter"
           }
          ],
          "scatter3d": [
           {
            "line": {
             "colorbar": {
              "outlinewidth": 0,
              "ticks": ""
             }
            },
            "marker": {
             "colorbar": {
              "outlinewidth": 0,
              "ticks": ""
             }
            },
            "type": "scatter3d"
           }
          ],
          "scattercarpet": [
           {
            "marker": {
             "colorbar": {
              "outlinewidth": 0,
              "ticks": ""
             }
            },
            "type": "scattercarpet"
           }
          ],
          "scattergeo": [
           {
            "marker": {
             "colorbar": {
              "outlinewidth": 0,
              "ticks": ""
             }
            },
            "type": "scattergeo"
           }
          ],
          "scattergl": [
           {
            "marker": {
             "colorbar": {
              "outlinewidth": 0,
              "ticks": ""
             }
            },
            "type": "scattergl"
           }
          ],
          "scattermapbox": [
           {
            "marker": {
             "colorbar": {
              "outlinewidth": 0,
              "ticks": ""
             }
            },
            "type": "scattermapbox"
           }
          ],
          "scatterpolar": [
           {
            "marker": {
             "colorbar": {
              "outlinewidth": 0,
              "ticks": ""
             }
            },
            "type": "scatterpolar"
           }
          ],
          "scatterpolargl": [
           {
            "marker": {
             "colorbar": {
              "outlinewidth": 0,
              "ticks": ""
             }
            },
            "type": "scatterpolargl"
           }
          ],
          "scatterternary": [
           {
            "marker": {
             "colorbar": {
              "outlinewidth": 0,
              "ticks": ""
             }
            },
            "type": "scatterternary"
           }
          ],
          "surface": [
           {
            "colorbar": {
             "outlinewidth": 0,
             "ticks": ""
            },
            "colorscale": [
             [
              0,
              "#0d0887"
             ],
             [
              0.1111111111111111,
              "#46039f"
             ],
             [
              0.2222222222222222,
              "#7201a8"
             ],
             [
              0.3333333333333333,
              "#9c179e"
             ],
             [
              0.4444444444444444,
              "#bd3786"
             ],
             [
              0.5555555555555556,
              "#d8576b"
             ],
             [
              0.6666666666666666,
              "#ed7953"
             ],
             [
              0.7777777777777778,
              "#fb9f3a"
             ],
             [
              0.8888888888888888,
              "#fdca26"
             ],
             [
              1,
              "#f0f921"
             ]
            ],
            "type": "surface"
           }
          ],
          "table": [
           {
            "cells": {
             "fill": {
              "color": "#EBF0F8"
             },
             "line": {
              "color": "white"
             }
            },
            "header": {
             "fill": {
              "color": "#C8D4E3"
             },
             "line": {
              "color": "white"
             }
            },
            "type": "table"
           }
          ]
         },
         "layout": {
          "annotationdefaults": {
           "arrowcolor": "#2a3f5f",
           "arrowhead": 0,
           "arrowwidth": 1
          },
          "autotypenumbers": "strict",
          "coloraxis": {
           "colorbar": {
            "outlinewidth": 0,
            "ticks": ""
           }
          },
          "colorscale": {
           "diverging": [
            [
             0,
             "#8e0152"
            ],
            [
             0.1,
             "#c51b7d"
            ],
            [
             0.2,
             "#de77ae"
            ],
            [
             0.3,
             "#f1b6da"
            ],
            [
             0.4,
             "#fde0ef"
            ],
            [
             0.5,
             "#f7f7f7"
            ],
            [
             0.6,
             "#e6f5d0"
            ],
            [
             0.7,
             "#b8e186"
            ],
            [
             0.8,
             "#7fbc41"
            ],
            [
             0.9,
             "#4d9221"
            ],
            [
             1,
             "#276419"
            ]
           ],
           "sequential": [
            [
             0,
             "#0d0887"
            ],
            [
             0.1111111111111111,
             "#46039f"
            ],
            [
             0.2222222222222222,
             "#7201a8"
            ],
            [
             0.3333333333333333,
             "#9c179e"
            ],
            [
             0.4444444444444444,
             "#bd3786"
            ],
            [
             0.5555555555555556,
             "#d8576b"
            ],
            [
             0.6666666666666666,
             "#ed7953"
            ],
            [
             0.7777777777777778,
             "#fb9f3a"
            ],
            [
             0.8888888888888888,
             "#fdca26"
            ],
            [
             1,
             "#f0f921"
            ]
           ],
           "sequentialminus": [
            [
             0,
             "#0d0887"
            ],
            [
             0.1111111111111111,
             "#46039f"
            ],
            [
             0.2222222222222222,
             "#7201a8"
            ],
            [
             0.3333333333333333,
             "#9c179e"
            ],
            [
             0.4444444444444444,
             "#bd3786"
            ],
            [
             0.5555555555555556,
             "#d8576b"
            ],
            [
             0.6666666666666666,
             "#ed7953"
            ],
            [
             0.7777777777777778,
             "#fb9f3a"
            ],
            [
             0.8888888888888888,
             "#fdca26"
            ],
            [
             1,
             "#f0f921"
            ]
           ]
          },
          "colorway": [
           "#636efa",
           "#EF553B",
           "#00cc96",
           "#ab63fa",
           "#FFA15A",
           "#19d3f3",
           "#FF6692",
           "#B6E880",
           "#FF97FF",
           "#FECB52"
          ],
          "font": {
           "color": "#2a3f5f"
          },
          "geo": {
           "bgcolor": "white",
           "lakecolor": "white",
           "landcolor": "#E5ECF6",
           "showlakes": true,
           "showland": true,
           "subunitcolor": "white"
          },
          "hoverlabel": {
           "align": "left"
          },
          "hovermode": "closest",
          "mapbox": {
           "style": "light"
          },
          "paper_bgcolor": "white",
          "plot_bgcolor": "#E5ECF6",
          "polar": {
           "angularaxis": {
            "gridcolor": "white",
            "linecolor": "white",
            "ticks": ""
           },
           "bgcolor": "#E5ECF6",
           "radialaxis": {
            "gridcolor": "white",
            "linecolor": "white",
            "ticks": ""
           }
          },
          "scene": {
           "xaxis": {
            "backgroundcolor": "#E5ECF6",
            "gridcolor": "white",
            "gridwidth": 2,
            "linecolor": "white",
            "showbackground": true,
            "ticks": "",
            "zerolinecolor": "white"
           },
           "yaxis": {
            "backgroundcolor": "#E5ECF6",
            "gridcolor": "white",
            "gridwidth": 2,
            "linecolor": "white",
            "showbackground": true,
            "ticks": "",
            "zerolinecolor": "white"
           },
           "zaxis": {
            "backgroundcolor": "#E5ECF6",
            "gridcolor": "white",
            "gridwidth": 2,
            "linecolor": "white",
            "showbackground": true,
            "ticks": "",
            "zerolinecolor": "white"
           }
          },
          "shapedefaults": {
           "line": {
            "color": "#2a3f5f"
           }
          },
          "ternary": {
           "aaxis": {
            "gridcolor": "white",
            "linecolor": "white",
            "ticks": ""
           },
           "baxis": {
            "gridcolor": "white",
            "linecolor": "white",
            "ticks": ""
           },
           "bgcolor": "#E5ECF6",
           "caxis": {
            "gridcolor": "white",
            "linecolor": "white",
            "ticks": ""
           }
          },
          "title": {
           "x": 0.05
          },
          "xaxis": {
           "automargin": true,
           "gridcolor": "white",
           "linecolor": "white",
           "ticks": "",
           "title": {
            "standoff": 15
           },
           "zerolinecolor": "white",
           "zerolinewidth": 2
          },
          "yaxis": {
           "automargin": true,
           "gridcolor": "white",
           "linecolor": "white",
           "ticks": "",
           "title": {
            "standoff": 15
           },
           "zerolinecolor": "white",
           "zerolinewidth": 2
          }
         }
        },
        "xaxis": {
         "anchor": "y",
         "domain": [
          0,
          1
         ],
         "title": {
          "text": "value"
         },
         "type": "log"
        },
        "yaxis": {
         "anchor": "x",
         "domain": [
          0,
          1
         ],
         "title": {
          "text": "Y_lp4"
         }
        }
       }
      }
     },
     "metadata": {},
     "output_type": "display_data"
    }
   ],
   "source": [
    "dic = {\"Fx_lp4\": \"red\", \"Fy_lp4\": \"blue\" , \"Fz_lp4\": \"green\" , \"Tx_lp4\": \"black\", \"Tx_lp4\": \"purple\", \"Ty_lp4\": \"orange\", \"Tz_lp4\": \"yellow\"}\n",
    "lp4_scatter = plty.scatter(X_lp4_df, x = [\"Fx_lp4\", \"Fy_lp4\", \"Fz_lp4\", \"Tx_lp4\", \"Ty_lp4\", \"Tz_lp4\"],  color_discrete_map= dic)\n",
    "lp4_logscatter = plty.scatter(X_lp4_df,  x = [\"Fx_lp4\", \"Fy_lp4\", \"Fz_lp4\", \"Tx_lp4\", \"Ty_lp4\", \"Tz_lp4\"] , y= \"Y_lp4\", log_x=True)\n",
    "lp4_scatter.show()\n",
    "lp4_logscatter.show()"
   ]
  },
  {
   "cell_type": "markdown",
   "metadata": {},
   "source": [
    "Kernel density estimation plot"
   ]
  },
  {
   "cell_type": "code",
   "execution_count": 18,
   "metadata": {},
   "outputs": [
    {
     "data": {
      "text/plain": [
       "<AxesSubplot:xlabel='F_lp4', ylabel='Density'>"
      ]
     },
     "execution_count": 18,
     "metadata": {},
     "output_type": "execute_result"
    },
    {
     "data": {
      "image/png": "[encoded data removed]",
      "text/plain": [
       "<Figure size 432x288 with 1 Axes>"
      ]
     },
     "metadata": {
      "needs_background": "light"
     },
     "output_type": "display_data"
    }
   ],
   "source": [
    "sns.kdeplot(data=X_lp4_df, x = 'F_lp4', bw_method = \"scott\" , bw_adjust = 1)"
   ]
  },
  {
   "cell_type": "code",
   "execution_count": 19,
   "metadata": {},
   "outputs": [
    {
     "data": {
      "text/plain": [
       "<AxesSubplot:xlabel='T_lp4', ylabel='Density'>"
      ]
     },
     "execution_count": 19,
     "metadata": {},
     "output_type": "execute_result"
    },
    {
     "data": {
      "image/png": "[encoded data removed]",
      "text/plain": [
       "<Figure size 432x288 with 1 Axes>"
      ]
     },
     "metadata": {
      "needs_background": "light"
     },
     "output_type": "display_data"
    }
   ],
   "source": [
    "sns.kdeplot(data=X_lp4_df, x = 'T_lp4', color=\"Green\")"
   ]
  },
  {
   "cell_type": "code",
   "execution_count": 20,
   "metadata": {},
   "outputs": [
    {
     "data": {
      "application/vnd.plotly.v1+json": {
       "config": {
        "plotlyServerURL": "https://plot.ly"
       },
       "data": [
        {
         "hovertemplate": "F_lp4=%{x}<br>T_lp4=%{y}<br>Y_lp4=%{marker.color}<extra></extra>",
         "legendgroup": "",
         "marker": {
          "color": [
           0,
           0,
           0,
           0,
           0,
           0,
           0,
           0,
           0,
           0,
           0,
           0,
           0,
           0,
           0,
           0,
           0,
           0,
           0,
           0,
           0,
           0,
           0,
           0,
           1,
           1,
           1,
           1,
           1,
           1,
           1,
           1,
           1,
           1,
           1,
           1,
           1,
           1,
           1,
           1,
           1,
           1,
           1,
           1,
           1,
           1,
           1,
           1,
           1,
           1,
           1,
           1,
           1,
           2,
           1,
           2,
           2,
           2,
           2,
           1,
           1,
           1,
           2,
           2,
           2,
           2,
           2,
           1,
           2,
           1,
           2,
           1,
           2,
           2,
           1,
           2,
           1,
           2,
           1,
           2,
           1,
           1,
           1,
           1,
           2,
           2,
           2,
           1,
           1,
           1,
           1,
           1,
           1,
           1,
           1,
           1,
           2,
           1,
           1,
           1,
           1,
           1,
           1,
           1,
           1,
           1,
           1,
           1,
           1,
           1,
           1,
           1,
           1,
           1,
           1,
           1,
           1
          ],
          "coloraxis": "coloraxis",
          "symbol": "circle"
         },
         "mode": "markers",
         "name": "",
         "orientation": "v",
         "showlegend": false,
         "type": "scatter",
         "x": [
          0.005134240007518187,
          0.005515341801324312,
          0.006023105560265316,
          0.005280024386928998,
          0.005389840334667157,
          0.005077099302188691,
          0.0045892950924627685,
          0.005225920959048941,
          0.005298878369657438,
          0.004215391379712822,
          0.004067252969272633,
          0.004643895992714672,
          0.0040336586770399726,
          0.003961207612861684,
          0.003815665067065424,
          0.004706157565585694,
          0.0049390502113288255,
          0.005278724486716565,
          0.0026083443882360382,
          0.001968421225726162,
          0.002034957943667252,
          0.0017817087440151489,
          0.0019886476215442883,
          0.0021520907937674066,
          0.007293297520491684,
          0.01084968896277208,
          0.004142694197424506,
          0.004286932786039213,
          0.002917727344333675,
          0.00337966074290464,
          0.0028485118774949896,
          0.003214401665110678,
          0.0041320004868657546,
          0.008293517311237416,
          0.018514675695987734,
          0.005914198686400301,
          0.004883983142116918,
          0.00823976688510203,
          0.003482585514337667,
          0.01324610633352305,
          0.004858313765306109,
          0.0054451272524909155,
          0.014239480562464284,
          0.006643198863660019,
          0.007293297520491684,
          0.008178506534752385,
          0.002149821622266424,
          0.004218020337641327,
          0.005463451153245239,
          0.008747010097286506,
          0.0043311038483159646,
          0.01242802563267923,
          0.008657380797652487,
          0.6362843445440131,
          0.03633375212810425,
          0.23114979632322952,
          0.15779429066577383,
          0.25943660425853843,
          0.6769664162003142,
          0.07530068588578251,
          0.07617394883659735,
          0.059624692879567245,
          0.31501764953601,
          0.27970778939781266,
          0.20597098041466283,
          0.14059969916666754,
          0.008864793452755643,
          0.043267094767220016,
          0.2826055876295244,
          0.006976085912970738,
          0.30017144486911446,
          0.04543302890145833,
          0.15636919262081053,
          0.02538019569116453,
          0.009325905424541057,
          0.26122870930161607,
          0.001863422954344821,
          0.2171894543140502,
          0.003084226392975217,
          0.2728356551665806,
          0.04100903019780933,
          0.023118104115426755,
          0.02210295403657412,
          0.008668033294917932,
          0.056103042444826313,
          0.12414561721316879,
          0.21141020861742324,
          0.006607959718082933,
          0.0057625443631581464,
          0.020016231131464723,
          0.005361442387345198,
          0.014900839546213377,
          0.004773835943031809,
          0.014519827560881498,
          0.006381202419891074,
          0.010020253741516421,
          0.12260540976071503,
          0.004333840906360347,
          0.06107333023232009,
          0.023892419324552015,
          0.003639067557077341,
          0.005867931185968677,
          0.0023649480163243828,
          0.001830296932513689,
          0.009720507905899187,
          0.002691704171746335,
          0.0031326325918891525,
          0.006366360647837587,
          0.003065291717155179,
          0.007853420200763208,
          0.0039015348559917067,
          0.011120779078025712,
          0.002534442049192039,
          0.003754165628123676,
          0.0023926411731429466,
          0.003568213542580036,
          0.0018509896670844109
         ],
         "xaxis": "x",
         "y": [
          0.006448445096943829,
          0.0069375944623007975,
          0.006008372761446135,
          0.007035782702070204,
          0.00664541529603499,
          0.005273716803916392,
          0.005856259326749629,
          0.005379311698366395,
          0.00588466500832326,
          0.004433170587005032,
          0.0043686230875485624,
          0.003942051136159883,
          0.00402149547511931,
          0.00431026224725638,
          0.00443076225177593,
          0.00608546934795342,
          0.004989542349839758,
          0.005621869506052281,
          0.004842303847358888,
          0.003804208168578853,
          0.004716348848283798,
          0.004500318261343879,
          0.005009054636648534,
          0.003674976387510227,
          0.017503371477693253,
          0.03240374439750722,
          0.015342076292549505,
          0.01022273940409643,
          0.01088327435790402,
          0.010867922013401816,
          0.011215724994178595,
          0.009483702768085255,
          0.011483846641966717,
          0.05993950895296869,
          0.03704153649440831,
          0.03581408022271918,
          0.019268982004201452,
          0.06276380291291395,
          0.02004346434082939,
          0.09683852668900124,
          0.008118604398739782,
          0.010384950508155305,
          0.027305525451502676,
          0.021577968249653075,
          0.017503371477693253,
          0.02972833547753872,
          0.008155782868489734,
          0.01904068362821839,
          0.02426507474636261,
          0.04442741092775073,
          0.01435532618079991,
          0.05379544075080251,
          0.03655297435594994,
          0.22928873942862193,
          0.0501861725942713,
          0.17629687657145812,
          0.12603598347643719,
          0.23042970572881552,
          0.11763912754763409,
          0.0882523256410878,
          0.11791950377711301,
          0.09927252556986962,
          0.13658435712356212,
          0.25274714708232715,
          0.11693138921044323,
          0.11777693693565026,
          0.015380840497370034,
          0.03481835085421865,
          0.2814131581292878,
          0.022770827773274604,
          0.14624118834486752,
          0.03344828831556653,
          0.11181591468420302,
          0.03038452676965469,
          0.006572059840609577,
          0.12749386453945624,
          0.005040203496814222,
          0.1795273498874792,
          0.008173892120736383,
          0.0565243155316669,
          0.02427454676954426,
          0.015042038701949041,
          0.008681413552250095,
          0.005333130482744661,
          0.05958436510134248,
          0.09945146888113691,
          0.09266434045157333,
          0.01324938374268307,
          0.022762956237507445,
          0.020828447072839394,
          0.015044507036733174,
          0.009336791729986138,
          0.007600766165965847,
          0.018278673964860218,
          0.014385598352284446,
          0.02415335781337547,
          0.06277698820755159,
          0.005774914380277618,
          0.047409502003678446,
          0.07381466216766032,
          0.0045116331228030136,
          0.024865631487068187,
          0.010594235386360226,
          0.0037821299306768775,
          0.04082159206533945,
          0.009500908911680822,
          0.01754937567129779,
          0.03149527077237166,
          0.009976221604921643,
          0.025103428324177376,
          0.01538511487908269,
          0.044378039902072425,
          0.009554073214763212,
          0.015172914591371454,
          0.007095746068186046,
          0.013565101469243756,
          0.007259693708429954
         ],
         "yaxis": "y"
        }
       ],
       "layout": {
        "coloraxis": {
         "colorbar": {
          "title": {
           "text": "Y_lp4"
          }
         },
         "colorscale": [
          [
           0,
           "#0d0887"
          ],
          [
           0.1111111111111111,
           "#46039f"
          ],
          [
           0.2222222222222222,
           "#7201a8"
          ],
          [
           0.3333333333333333,
           "#9c179e"
          ],
          [
           0.4444444444444444,
           "#bd3786"
          ],
          [
           0.5555555555555556,
           "#d8576b"
          ],
          [
           0.6666666666666666,
           "#ed7953"
          ],
          [
           0.7777777777777778,
           "#fb9f3a"
          ],
          [
           0.8888888888888888,
           "#fdca26"
          ],
          [
           1,
           "#f0f921"
          ]
         ]
        },
        "legend": {
         "tracegroupgap": 0
        },
        "margin": {
         "t": 60
        },
        "template": {
         "data": {
          "bar": [
           {
            "error_x": {
             "color": "#2a3f5f"
            },
            "error_y": {
             "color": "#2a3f5f"
            },
            "marker": {
             "line": {
              "color": "#E5ECF6",
              "width": 0.5
             },
             "pattern": {
              "fillmode": "overlay",
              "size": 10,
              "solidity": 0.2
             }
            },
            "type": "bar"
           }
          ],
          "barpolar": [
           {
            "marker": {
             "line": {
              "color": "#E5ECF6",
              "width": 0.5
             },
             "pattern": {
              "fillmode": "overlay",
              "size": 10,
              "solidity": 0.2
             }
            },
            "type": "barpolar"
           }
          ],
          "carpet": [
           {
            "aaxis": {
             "endlinecolor": "#2a3f5f",
             "gridcolor": "white",
             "linecolor": "white",
             "minorgridcolor": "white",
             "startlinecolor": "#2a3f5f"
            },
            "baxis": {
             "endlinecolor": "#2a3f5f",
             "gridcolor": "white",
             "linecolor": "white",
             "minorgridcolor": "white",
             "startlinecolor": "#2a3f5f"
            },
            "type": "carpet"
           }
          ],
          "choropleth": [
           {
            "colorbar": {
             "outlinewidth": 0,
             "ticks": ""
            },
            "type": "choropleth"
           }
          ],
          "contour": [
           {
            "colorbar": {
             "outlinewidth": 0,
             "ticks": ""
            },
            "colorscale": [
             [
              0,
              "#0d0887"
             ],
             [
              0.1111111111111111,
              "#46039f"
             ],
             [
              0.2222222222222222,
              "#7201a8"
             ],
             [
              0.3333333333333333,
              "#9c179e"
             ],
             [
              0.4444444444444444,
              "#bd3786"
             ],
             [
              0.5555555555555556,
              "#d8576b"
             ],
             [
              0.6666666666666666,
              "#ed7953"
             ],
             [
              0.7777777777777778,
              "#fb9f3a"
             ],
             [
              0.8888888888888888,
              "#fdca26"
             ],
             [
              1,
              "#f0f921"
             ]
            ],
            "type": "contour"
           }
          ],
          "contourcarpet": [
           {
            "colorbar": {
             "outlinewidth": 0,
             "ticks": ""
            },
            "type": "contourcarpet"
           }
          ],
          "heatmap": [
           {
            "colorbar": {
             "outlinewidth": 0,
             "ticks": ""
            },
            "colorscale": [
             [
              0,
              "#0d0887"
             ],
             [
              0.1111111111111111,
              "#46039f"
             ],
             [
              0.2222222222222222,
              "#7201a8"
             ],
             [
              0.3333333333333333,
              "#9c179e"
             ],
             [
              0.4444444444444444,
              "#bd3786"
             ],
             [
              0.5555555555555556,
              "#d8576b"
             ],
             [
              0.6666666666666666,
              "#ed7953"
             ],
             [
              0.7777777777777778,
              "#fb9f3a"
             ],
             [
              0.8888888888888888,
              "#fdca26"
             ],
             [
              1,
              "#f0f921"
             ]
            ],
            "type": "heatmap"
           }
          ],
          "heatmapgl": [
           {
            "colorbar": {
             "outlinewidth": 0,
             "ticks": ""
            },
            "colorscale": [
             [
              0,
              "#0d0887"
             ],
             [
              0.1111111111111111,
              "#46039f"
             ],
             [
              0.2222222222222222,
              "#7201a8"
             ],
             [
              0.3333333333333333,
              "#9c179e"
             ],
             [
              0.4444444444444444,
              "#bd3786"
             ],
             [
              0.5555555555555556,
              "#d8576b"
             ],
             [
              0.6666666666666666,
              "#ed7953"
             ],
             [
              0.7777777777777778,
              "#fb9f3a"
             ],
             [
              0.8888888888888888,
              "#fdca26"
             ],
             [
              1,
              "#f0f921"
             ]
            ],
            "type": "heatmapgl"
           }
          ],
          "histogram": [
           {
            "marker": {
             "pattern": {
              "fillmode": "overlay",
              "size": 10,
              "solidity": 0.2
             }
            },
            "type": "histogram"
           }
          ],
          "histogram2d": [
           {
            "colorbar": {
             "outlinewidth": 0,
             "ticks": ""
            },
            "colorscale": [
             [
              0,
              "#0d0887"
             ],
             [
              0.1111111111111111,
              "#46039f"
             ],
             [
              0.2222222222222222,
              "#7201a8"
             ],
             [
              0.3333333333333333,
              "#9c179e"
             ],
             [
              0.4444444444444444,
              "#bd3786"
             ],
             [
              0.5555555555555556,
              "#d8576b"
             ],
             [
              0.6666666666666666,
              "#ed7953"
             ],
             [
              0.7777777777777778,
              "#fb9f3a"
             ],
             [
              0.8888888888888888,
              "#fdca26"
             ],
             [
              1,
              "#f0f921"
             ]
            ],
            "type": "histogram2d"
           }
          ],
          "histogram2dcontour": [
           {
            "colorbar": {
             "outlinewidth": 0,
             "ticks": ""
            },
            "colorscale": [
             [
              0,
              "#0d0887"
             ],
             [
              0.1111111111111111,
              "#46039f"
             ],
             [
              0.2222222222222222,
              "#7201a8"
             ],
             [
              0.3333333333333333,
              "#9c179e"
             ],
             [
              0.4444444444444444,
              "#bd3786"
             ],
             [
              0.5555555555555556,
              "#d8576b"
             ],
             [
              0.6666666666666666,
              "#ed7953"
             ],
             [
              0.7777777777777778,
              "#fb9f3a"
             ],
             [
              0.8888888888888888,
              "#fdca26"
             ],
             [
              1,
              "#f0f921"
             ]
            ],
            "type": "histogram2dcontour"
           }
          ],
          "mesh3d": [
           {
            "colorbar": {
             "outlinewidth": 0,
             "ticks": ""
            },
            "type": "mesh3d"
           }
          ],
          "parcoords": [
           {
            "line": {
             "colorbar": {
              "outlinewidth": 0,
              "ticks": ""
             }
            },
            "type": "parcoords"
           }
          ],
          "pie": [
           {
            "automargin": true,
            "type": "pie"
           }
          ],
          "scatter": [
           {
            "fillpattern": {
             "fillmode": "overlay",
             "size": 10,
             "solidity": 0.2
            },
            "type": "scatter"
           }
          ],
          "scatter3d": [
           {
            "line": {
             "colorbar": {
              "outlinewidth": 0,
              "ticks": ""
             }
            },
            "marker": {
             "colorbar": {
              "outlinewidth": 0,
              "ticks": ""
             }
            },
            "type": "scatter3d"
           }
          ],
          "scattercarpet": [
           {
            "marker": {
             "colorbar": {
              "outlinewidth": 0,
              "ticks": ""
             }
            },
            "type": "scattercarpet"
           }
          ],
          "scattergeo": [
           {
            "marker": {
             "colorbar": {
              "outlinewidth": 0,
              "ticks": ""
             }
            },
            "type": "scattergeo"
           }
          ],
          "scattergl": [
           {
            "marker": {
             "colorbar": {
              "outlinewidth": 0,
              "ticks": ""
             }
            },
            "type": "scattergl"
           }
          ],
          "scattermapbox": [
           {
            "marker": {
             "colorbar": {
              "outlinewidth": 0,
              "ticks": ""
             }
            },
            "type": "scattermapbox"
           }
          ],
          "scatterpolar": [
           {
            "marker": {
             "colorbar": {
              "outlinewidth": 0,
              "ticks": ""
             }
            },
            "type": "scatterpolar"
           }
          ],
          "scatterpolargl": [
           {
            "marker": {
             "colorbar": {
              "outlinewidth": 0,
              "ticks": ""
             }
            },
            "type": "scatterpolargl"
           }
          ],
          "scatterternary": [
           {
            "marker": {
             "colorbar": {
              "outlinewidth": 0,
              "ticks": ""
             }
            },
            "type": "scatterternary"
           }
          ],
          "surface": [
           {
            "colorbar": {
             "outlinewidth": 0,
             "ticks": ""
            },
            "colorscale": [
             [
              0,
              "#0d0887"
             ],
             [
              0.1111111111111111,
              "#46039f"
             ],
             [
              0.2222222222222222,
              "#7201a8"
             ],
             [
              0.3333333333333333,
              "#9c179e"
             ],
             [
              0.4444444444444444,
              "#bd3786"
             ],
             [
              0.5555555555555556,
              "#d8576b"
             ],
             [
              0.6666666666666666,
              "#ed7953"
             ],
             [
              0.7777777777777778,
              "#fb9f3a"
             ],
             [
              0.8888888888888888,
              "#fdca26"
             ],
             [
              1,
              "#f0f921"
             ]
            ],
            "type": "surface"
           }
          ],
          "table": [
           {
            "cells": {
             "fill": {
              "color": "#EBF0F8"
             },
             "line": {
              "color": "white"
             }
            },
            "header": {
             "fill": {
              "color": "#C8D4E3"
             },
             "line": {
              "color": "white"
             }
            },
            "type": "table"
           }
          ]
         },
         "layout": {
          "annotationdefaults": {
           "arrowcolor": "#2a3f5f",
           "arrowhead": 0,
           "arrowwidth": 1
          },
          "autotypenumbers": "strict",
          "coloraxis": {
           "colorbar": {
            "outlinewidth": 0,
            "ticks": ""
           }
          },
          "colorscale": {
           "diverging": [
            [
             0,
             "#8e0152"
            ],
            [
             0.1,
             "#c51b7d"
            ],
            [
             0.2,
             "#de77ae"
            ],
            [
             0.3,
             "#f1b6da"
            ],
            [
             0.4,
             "#fde0ef"
            ],
            [
             0.5,
             "#f7f7f7"
            ],
            [
             0.6,
             "#e6f5d0"
            ],
            [
             0.7,
             "#b8e186"
            ],
            [
             0.8,
             "#7fbc41"
            ],
            [
             0.9,
             "#4d9221"
            ],
            [
             1,
             "#276419"
            ]
           ],
           "sequential": [
            [
             0,
             "#0d0887"
            ],
            [
             0.1111111111111111,
             "#46039f"
            ],
            [
             0.2222222222222222,
             "#7201a8"
            ],
            [
             0.3333333333333333,
             "#9c179e"
            ],
            [
             0.4444444444444444,
             "#bd3786"
            ],
            [
             0.5555555555555556,
             "#d8576b"
            ],
            [
             0.6666666666666666,
             "#ed7953"
            ],
            [
             0.7777777777777778,
             "#fb9f3a"
            ],
            [
             0.8888888888888888,
             "#fdca26"
            ],
            [
             1,
             "#f0f921"
            ]
           ],
           "sequentialminus": [
            [
             0,
             "#0d0887"
            ],
            [
             0.1111111111111111,
             "#46039f"
            ],
            [
             0.2222222222222222,
             "#7201a8"
            ],
            [
             0.3333333333333333,
             "#9c179e"
            ],
            [
             0.4444444444444444,
             "#bd3786"
            ],
            [
             0.5555555555555556,
             "#d8576b"
            ],
            [
             0.6666666666666666,
             "#ed7953"
            ],
            [
             0.7777777777777778,
             "#fb9f3a"
            ],
            [
             0.8888888888888888,
             "#fdca26"
            ],
            [
             1,
             "#f0f921"
            ]
           ]
          },
          "colorway": [
           "#636efa",
           "#EF553B",
           "#00cc96",
           "#ab63fa",
           "#FFA15A",
           "#19d3f3",
           "#FF6692",
           "#B6E880",
           "#FF97FF",
           "#FECB52"
          ],
          "font": {
           "color": "#2a3f5f"
          },
          "geo": {
           "bgcolor": "white",
           "lakecolor": "white",
           "landcolor": "#E5ECF6",
           "showlakes": true,
           "showland": true,
           "subunitcolor": "white"
          },
          "hoverlabel": {
           "align": "left"
          },
          "hovermode": "closest",
          "mapbox": {
           "style": "light"
          },
          "paper_bgcolor": "white",
          "plot_bgcolor": "#E5ECF6",
          "polar": {
           "angularaxis": {
            "gridcolor": "white",
            "linecolor": "white",
            "ticks": ""
           },
           "bgcolor": "#E5ECF6",
           "radialaxis": {
            "gridcolor": "white",
            "linecolor": "white",
            "ticks": ""
           }
          },
          "scene": {
           "xaxis": {
            "backgroundcolor": "#E5ECF6",
            "gridcolor": "white",
            "gridwidth": 2,
            "linecolor": "white",
            "showbackground": true,
            "ticks": "",
            "zerolinecolor": "white"
           },
           "yaxis": {
            "backgroundcolor": "#E5ECF6",
            "gridcolor": "white",
            "gridwidth": 2,
            "linecolor": "white",
            "showbackground": true,
            "ticks": "",
            "zerolinecolor": "white"
           },
           "zaxis": {
            "backgroundcolor": "#E5ECF6",
            "gridcolor": "white",
            "gridwidth": 2,
            "linecolor": "white",
            "showbackground": true,
            "ticks": "",
            "zerolinecolor": "white"
           }
          },
          "shapedefaults": {
           "line": {
            "color": "#2a3f5f"
           }
          },
          "ternary": {
           "aaxis": {
            "gridcolor": "white",
            "linecolor": "white",
            "ticks": ""
           },
           "baxis": {
            "gridcolor": "white",
            "linecolor": "white",
            "ticks": ""
           },
           "bgcolor": "#E5ECF6",
           "caxis": {
            "gridcolor": "white",
            "linecolor": "white",
            "ticks": ""
           }
          },
          "title": {
           "x": 0.05
          },
          "xaxis": {
           "automargin": true,
           "gridcolor": "white",
           "linecolor": "white",
           "ticks": "",
           "title": {
            "standoff": 15
           },
           "zerolinecolor": "white",
           "zerolinewidth": 2
          },
          "yaxis": {
           "automargin": true,
           "gridcolor": "white",
           "linecolor": "white",
           "ticks": "",
           "title": {
            "standoff": 15
           },
           "zerolinecolor": "white",
           "zerolinewidth": 2
          }
         }
        },
        "xaxis": {
         "anchor": "y",
         "domain": [
          0,
          1
         ],
         "title": {
          "text": "F_lp4"
         },
         "type": "log"
        },
        "yaxis": {
         "anchor": "x",
         "domain": [
          0,
          1
         ],
         "title": {
          "text": "T_lp4"
         },
         "type": "log"
        }
       }
      }
     },
     "metadata": {},
     "output_type": "display_data"
    }
   ],
   "source": [
    "plty.scatter(X_lp4_df, x = \"F_lp4\", y = \"T_lp4\", color=\"Y_lp4\", log_x=True, log_y=True)"
   ]
  },
  {
   "attachments": {},
   "cell_type": "markdown",
   "metadata": {},
   "source": [
    "Boxplot"
   ]
  },
  {
   "cell_type": "code",
   "execution_count": 21,
   "metadata": {},
   "outputs": [
    {
     "data": {
      "application/vnd.plotly.v1+json": {
       "config": {
        "plotlyServerURL": "https://plot.ly"
       },
       "data": [
        {
         "alignmentgroup": "True",
         "hovertemplate": "value=%{x}<br>variable=%{y}<extra></extra>",
         "legendgroup": "",
         "marker": {
          "color": "#636efa"
         },
         "name": "",
         "notched": false,
         "offsetgroup": "",
         "orientation": "h",
         "showlegend": false,
         "type": "box",
         "x": [
          0.005134240007518187,
          0.005515341801324312,
          0.006023105560265316,
          0.005280024386928998,
          0.005389840334667157,
          0.005077099302188691,
          0.0045892950924627685,
          0.005225920959048941,
          0.005298878369657438,
          0.004215391379712822,
          0.004067252969272633,
          0.004643895992714672,
          0.0040336586770399726,
          0.003961207612861684,
          0.003815665067065424,
          0.004706157565585694,
          0.0049390502113288255,
          0.005278724486716565,
          0.0026083443882360382,
          0.001968421225726162,
          0.002034957943667252,
          0.0017817087440151489,
          0.0019886476215442883,
          0.0021520907937674066,
          0.007293297520491684,
          0.01084968896277208,
          0.004142694197424506,
          0.004286932786039213,
          0.002917727344333675,
          0.00337966074290464,
          0.0028485118774949896,
          0.003214401665110678,
          0.0041320004868657546,
          0.008293517311237416,
          0.018514675695987734,
          0.005914198686400301,
          0.004883983142116918,
          0.00823976688510203,
          0.003482585514337667,
          0.01324610633352305,
          0.004858313765306109,
          0.0054451272524909155,
          0.014239480562464284,
          0.006643198863660019,
          0.007293297520491684,
          0.008178506534752385,
          0.002149821622266424,
          0.004218020337641327,
          0.005463451153245239,
          0.008747010097286506,
          0.0043311038483159646,
          0.01242802563267923,
          0.008657380797652487,
          0.6362843445440131,
          0.03633375212810425,
          0.23114979632322952,
          0.15779429066577383,
          0.25943660425853843,
          0.6769664162003142,
          0.07530068588578251,
          0.07617394883659735,
          0.059624692879567245,
          0.31501764953601,
          0.27970778939781266,
          0.20597098041466283,
          0.14059969916666754,
          0.008864793452755643,
          0.043267094767220016,
          0.2826055876295244,
          0.006976085912970738,
          0.30017144486911446,
          0.04543302890145833,
          0.15636919262081053,
          0.02538019569116453,
          0.009325905424541057,
          0.26122870930161607,
          0.001863422954344821,
          0.2171894543140502,
          0.003084226392975217,
          0.2728356551665806,
          0.04100903019780933,
          0.023118104115426755,
          0.02210295403657412,
          0.008668033294917932,
          0.056103042444826313,
          0.12414561721316879,
          0.21141020861742324,
          0.006607959718082933,
          0.0057625443631581464,
          0.020016231131464723,
          0.005361442387345198,
          0.014900839546213377,
          0.004773835943031809,
          0.014519827560881498,
          0.006381202419891074,
          0.010020253741516421,
          0.12260540976071503,
          0.004333840906360347,
          0.06107333023232009,
          0.023892419324552015,
          0.003639067557077341,
          0.005867931185968677,
          0.0023649480163243828,
          0.001830296932513689,
          0.009720507905899187,
          0.002691704171746335,
          0.0031326325918891525,
          0.006366360647837587,
          0.003065291717155179,
          0.007853420200763208,
          0.0039015348559917067,
          0.011120779078025712,
          0.002534442049192039,
          0.003754165628123676,
          0.0023926411731429466,
          0.003568213542580036,
          0.0018509896670844109,
          0.006448445096943829,
          0.0069375944623007975,
          0.006008372761446135,
          0.007035782702070204,
          0.00664541529603499,
          0.005273716803916392,
          0.005856259326749629,
          0.005379311698366395,
          0.00588466500832326,
          0.004433170587005032,
          0.0043686230875485624,
          0.003942051136159883,
          0.00402149547511931,
          0.00431026224725638,
          0.00443076225177593,
          0.00608546934795342,
          0.004989542349839758,
          0.005621869506052281,
          0.004842303847358888,
          0.003804208168578853,
          0.004716348848283798,
          0.004500318261343879,
          0.005009054636648534,
          0.003674976387510227,
          0.017503371477693253,
          0.03240374439750722,
          0.015342076292549505,
          0.01022273940409643,
          0.01088327435790402,
          0.010867922013401816,
          0.011215724994178595,
          0.009483702768085255,
          0.011483846641966717,
          0.05993950895296869,
          0.03704153649440831,
          0.03581408022271918,
          0.019268982004201452,
          0.06276380291291395,
          0.02004346434082939,
          0.09683852668900124,
          0.008118604398739782,
          0.010384950508155305,
          0.027305525451502676,
          0.021577968249653075,
          0.017503371477693253,
          0.02972833547753872,
          0.008155782868489734,
          0.01904068362821839,
          0.02426507474636261,
          0.04442741092775073,
          0.01435532618079991,
          0.05379544075080251,
          0.03655297435594994,
          0.22928873942862193,
          0.0501861725942713,
          0.17629687657145812,
          0.12603598347643719,
          0.23042970572881552,
          0.11763912754763409,
          0.0882523256410878,
          0.11791950377711301,
          0.09927252556986962,
          0.13658435712356212,
          0.25274714708232715,
          0.11693138921044323,
          0.11777693693565026,
          0.015380840497370034,
          0.03481835085421865,
          0.2814131581292878,
          0.022770827773274604,
          0.14624118834486752,
          0.03344828831556653,
          0.11181591468420302,
          0.03038452676965469,
          0.006572059840609577,
          0.12749386453945624,
          0.005040203496814222,
          0.1795273498874792,
          0.008173892120736383,
          0.0565243155316669,
          0.02427454676954426,
          0.015042038701949041,
          0.008681413552250095,
          0.005333130482744661,
          0.05958436510134248,
          0.09945146888113691,
          0.09266434045157333,
          0.01324938374268307,
          0.022762956237507445,
          0.020828447072839394,
          0.015044507036733174,
          0.009336791729986138,
          0.007600766165965847,
          0.018278673964860218,
          0.014385598352284446,
          0.02415335781337547,
          0.06277698820755159,
          0.005774914380277618,
          0.047409502003678446,
          0.07381466216766032,
          0.0045116331228030136,
          0.024865631487068187,
          0.010594235386360226,
          0.0037821299306768775,
          0.04082159206533945,
          0.009500908911680822,
          0.01754937567129779,
          0.03149527077237166,
          0.009976221604921643,
          0.025103428324177376,
          0.01538511487908269,
          0.044378039902072425,
          0.009554073214763212,
          0.015172914591371454,
          0.007095746068186046,
          0.013565101469243756,
          0.007259693708429954
         ],
         "x0": " ",
         "xaxis": "x",
         "y": [
          "F_lp4",
          "F_lp4",
          "F_lp4",
          "F_lp4",
          "F_lp4",
          "F_lp4",
          "F_lp4",
          "F_lp4",
          "F_lp4",
          "F_lp4",
          "F_lp4",
          "F_lp4",
          "F_lp4",
          "F_lp4",
          "F_lp4",
          "F_lp4",
          "F_lp4",
          "F_lp4",
          "F_lp4",
          "F_lp4",
          "F_lp4",
          "F_lp4",
          "F_lp4",
          "F_lp4",
          "F_lp4",
          "F_lp4",
          "F_lp4",
          "F_lp4",
          "F_lp4",
          "F_lp4",
          "F_lp4",
          "F_lp4",
          "F_lp4",
          "F_lp4",
          "F_lp4",
          "F_lp4",
          "F_lp4",
          "F_lp4",
          "F_lp4",
          "F_lp4",
          "F_lp4",
          "F_lp4",
          "F_lp4",
          "F_lp4",
          "F_lp4",
          "F_lp4",
          "F_lp4",
          "F_lp4",
          "F_lp4",
          "F_lp4",
          "F_lp4",
          "F_lp4",
          "F_lp4",
          "F_lp4",
          "F_lp4",
          "F_lp4",
          "F_lp4",
          "F_lp4",
          "F_lp4",
          "F_lp4",
          "F_lp4",
          "F_lp4",
          "F_lp4",
          "F_lp4",
          "F_lp4",
          "F_lp4",
          "F_lp4",
          "F_lp4",
          "F_lp4",
          "F_lp4",
          "F_lp4",
          "F_lp4",
          "F_lp4",
          "F_lp4",
          "F_lp4",
          "F_lp4",
          "F_lp4",
          "F_lp4",
          "F_lp4",
          "F_lp4",
          "F_lp4",
          "F_lp4",
          "F_lp4",
          "F_lp4",
          "F_lp4",
          "F_lp4",
          "F_lp4",
          "F_lp4",
          "F_lp4",
          "F_lp4",
          "F_lp4",
          "F_lp4",
          "F_lp4",
          "F_lp4",
          "F_lp4",
          "F_lp4",
          "F_lp4",
          "F_lp4",
          "F_lp4",
          "F_lp4",
          "F_lp4",
          "F_lp4",
          "F_lp4",
          "F_lp4",
          "F_lp4",
          "F_lp4",
          "F_lp4",
          "F_lp4",
          "F_lp4",
          "F_lp4",
          "F_lp4",
          "F_lp4",
          "F_lp4",
          "F_lp4",
          "F_lp4",
          "F_lp4",
          "F_lp4",
          "T_lp4",
          "T_lp4",
          "T_lp4",
          "T_lp4",
          "T_lp4",
          "T_lp4",
          "T_lp4",
          "T_lp4",
          "T_lp4",
          "T_lp4",
          "T_lp4",
          "T_lp4",
          "T_lp4",
          "T_lp4",
          "T_lp4",
          "T_lp4",
          "T_lp4",
          "T_lp4",
          "T_lp4",
          "T_lp4",
          "T_lp4",
          "T_lp4",
          "T_lp4",
          "T_lp4",
          "T_lp4",
          "T_lp4",
          "T_lp4",
          "T_lp4",
          "T_lp4",
          "T_lp4",
          "T_lp4",
          "T_lp4",
          "T_lp4",
          "T_lp4",
          "T_lp4",
          "T_lp4",
          "T_lp4",
          "T_lp4",
          "T_lp4",
          "T_lp4",
          "T_lp4",
          "T_lp4",
          "T_lp4",
          "T_lp4",
          "T_lp4",
          "T_lp4",
          "T_lp4",
          "T_lp4",
          "T_lp4",
          "T_lp4",
          "T_lp4",
          "T_lp4",
          "T_lp4",
          "T_lp4",
          "T_lp4",
          "T_lp4",
          "T_lp4",
          "T_lp4",
          "T_lp4",
          "T_lp4",
          "T_lp4",
          "T_lp4",
          "T_lp4",
          "T_lp4",
          "T_lp4",
          "T_lp4",
          "T_lp4",
          "T_lp4",
          "T_lp4",
          "T_lp4",
          "T_lp4",
          "T_lp4",
          "T_lp4",
          "T_lp4",
          "T_lp4",
          "T_lp4",
          "T_lp4",
          "T_lp4",
          "T_lp4",
          "T_lp4",
          "T_lp4",
          "T_lp4",
          "T_lp4",
          "T_lp4",
          "T_lp4",
          "T_lp4",
          "T_lp4",
          "T_lp4",
          "T_lp4",
          "T_lp4",
          "T_lp4",
          "T_lp4",
          "T_lp4",
          "T_lp4",
          "T_lp4",
          "T_lp4",
          "T_lp4",
          "T_lp4",
          "T_lp4",
          "T_lp4",
          "T_lp4",
          "T_lp4",
          "T_lp4",
          "T_lp4",
          "T_lp4",
          "T_lp4",
          "T_lp4",
          "T_lp4",
          "T_lp4",
          "T_lp4",
          "T_lp4",
          "T_lp4",
          "T_lp4",
          "T_lp4",
          "T_lp4",
          "T_lp4",
          "T_lp4"
         ],
         "y0": " ",
         "yaxis": "y"
        }
       ],
       "layout": {
        "boxmode": "group",
        "legend": {
         "tracegroupgap": 0
        },
        "margin": {
         "t": 60
        },
        "template": {
         "data": {
          "bar": [
           {
            "error_x": {
             "color": "#2a3f5f"
            },
            "error_y": {
             "color": "#2a3f5f"
            },
            "marker": {
             "line": {
              "color": "#E5ECF6",
              "width": 0.5
             },
             "pattern": {
              "fillmode": "overlay",
              "size": 10,
              "solidity": 0.2
             }
            },
            "type": "bar"
           }
          ],
          "barpolar": [
           {
            "marker": {
             "line": {
              "color": "#E5ECF6",
              "width": 0.5
             },
             "pattern": {
              "fillmode": "overlay",
              "size": 10,
              "solidity": 0.2
             }
            },
            "type": "barpolar"
           }
          ],
          "carpet": [
           {
            "aaxis": {
             "endlinecolor": "#2a3f5f",
             "gridcolor": "white",
             "linecolor": "white",
             "minorgridcolor": "white",
             "startlinecolor": "#2a3f5f"
            },
            "baxis": {
             "endlinecolor": "#2a3f5f",
             "gridcolor": "white",
             "linecolor": "white",
             "minorgridcolor": "white",
             "startlinecolor": "#2a3f5f"
            },
            "type": "carpet"
           }
          ],
          "choropleth": [
           {
            "colorbar": {
             "outlinewidth": 0,
             "ticks": ""
            },
            "type": "choropleth"
           }
          ],
          "contour": [
           {
            "colorbar": {
             "outlinewidth": 0,
             "ticks": ""
            },
            "colorscale": [
             [
              0,
              "#0d0887"
             ],
             [
              0.1111111111111111,
              "#46039f"
             ],
             [
              0.2222222222222222,
              "#7201a8"
             ],
             [
              0.3333333333333333,
              "#9c179e"
             ],
             [
              0.4444444444444444,
              "#bd3786"
             ],
             [
              0.5555555555555556,
              "#d8576b"
             ],
             [
              0.6666666666666666,
              "#ed7953"
             ],
             [
              0.7777777777777778,
              "#fb9f3a"
             ],
             [
              0.8888888888888888,
              "#fdca26"
             ],
             [
              1,
              "#f0f921"
             ]
            ],
            "type": "contour"
           }
          ],
          "contourcarpet": [
           {
            "colorbar": {
             "outlinewidth": 0,
             "ticks": ""
            },
            "type": "contourcarpet"
           }
          ],
          "heatmap": [
           {
            "colorbar": {
             "outlinewidth": 0,
             "ticks": ""
            },
            "colorscale": [
             [
              0,
              "#0d0887"
             ],
             [
              0.1111111111111111,
              "#46039f"
             ],
             [
              0.2222222222222222,
              "#7201a8"
             ],
             [
              0.3333333333333333,
              "#9c179e"
             ],
             [
              0.4444444444444444,
              "#bd3786"
             ],
             [
              0.5555555555555556,
              "#d8576b"
             ],
             [
              0.6666666666666666,
              "#ed7953"
             ],
             [
              0.7777777777777778,
              "#fb9f3a"
             ],
             [
              0.8888888888888888,
              "#fdca26"
             ],
             [
              1,
              "#f0f921"
             ]
            ],
            "type": "heatmap"
           }
          ],
          "heatmapgl": [
           {
            "colorbar": {
             "outlinewidth": 0,
             "ticks": ""
            },
            "colorscale": [
             [
              0,
              "#0d0887"
             ],
             [
              0.1111111111111111,
              "#46039f"
             ],
             [
              0.2222222222222222,
              "#7201a8"
             ],
             [
              0.3333333333333333,
              "#9c179e"
             ],
             [
              0.4444444444444444,
              "#bd3786"
             ],
             [
              0.5555555555555556,
              "#d8576b"
             ],
             [
              0.6666666666666666,
              "#ed7953"
             ],
             [
              0.7777777777777778,
              "#fb9f3a"
             ],
             [
              0.8888888888888888,
              "#fdca26"
             ],
             [
              1,
              "#f0f921"
             ]
            ],
            "type": "heatmapgl"
           }
          ],
          "histogram": [
           {
            "marker": {
             "pattern": {
              "fillmode": "overlay",
              "size": 10,
              "solidity": 0.2
             }
            },
            "type": "histogram"
           }
          ],
          "histogram2d": [
           {
            "colorbar": {
             "outlinewidth": 0,
             "ticks": ""
            },
            "colorscale": [
             [
              0,
              "#0d0887"
             ],
             [
              0.1111111111111111,
              "#46039f"
             ],
             [
              0.2222222222222222,
              "#7201a8"
             ],
             [
              0.3333333333333333,
              "#9c179e"
             ],
             [
              0.4444444444444444,
              "#bd3786"
             ],
             [
              0.5555555555555556,
              "#d8576b"
             ],
             [
              0.6666666666666666,
              "#ed7953"
             ],
             [
              0.7777777777777778,
              "#fb9f3a"
             ],
             [
              0.8888888888888888,
              "#fdca26"
             ],
             [
              1,
              "#f0f921"
             ]
            ],
            "type": "histogram2d"
           }
          ],
          "histogram2dcontour": [
           {
            "colorbar": {
             "outlinewidth": 0,
             "ticks": ""
            },
            "colorscale": [
             [
              0,
              "#0d0887"
             ],
             [
              0.1111111111111111,
              "#46039f"
             ],
             [
              0.2222222222222222,
              "#7201a8"
             ],
             [
              0.3333333333333333,
              "#9c179e"
             ],
             [
              0.4444444444444444,
              "#bd3786"
             ],
             [
              0.5555555555555556,
              "#d8576b"
             ],
             [
              0.6666666666666666,
              "#ed7953"
             ],
             [
              0.7777777777777778,
              "#fb9f3a"
             ],
             [
              0.8888888888888888,
              "#fdca26"
             ],
             [
              1,
              "#f0f921"
             ]
            ],
            "type": "histogram2dcontour"
           }
          ],
          "mesh3d": [
           {
            "colorbar": {
             "outlinewidth": 0,
             "ticks": ""
            },
            "type": "mesh3d"
           }
          ],
          "parcoords": [
           {
            "line": {
             "colorbar": {
              "outlinewidth": 0,
              "ticks": ""
             }
            },
            "type": "parcoords"
           }
          ],
          "pie": [
           {
            "automargin": true,
            "type": "pie"
           }
          ],
          "scatter": [
           {
            "fillpattern": {
             "fillmode": "overlay",
             "size": 10,
             "solidity": 0.2
            },
            "type": "scatter"
           }
          ],
          "scatter3d": [
           {
            "line": {
             "colorbar": {
              "outlinewidth": 0,
              "ticks": ""
             }
            },
            "marker": {
             "colorbar": {
              "outlinewidth": 0,
              "ticks": ""
             }
            },
            "type": "scatter3d"
           }
          ],
          "scattercarpet": [
           {
            "marker": {
             "colorbar": {
              "outlinewidth": 0,
              "ticks": ""
             }
            },
            "type": "scattercarpet"
           }
          ],
          "scattergeo": [
           {
            "marker": {
             "colorbar": {
              "outlinewidth": 0,
              "ticks": ""
             }
            },
            "type": "scattergeo"
           }
          ],
          "scattergl": [
           {
            "marker": {
             "colorbar": {
              "outlinewidth": 0,
              "ticks": ""
             }
            },
            "type": "scattergl"
           }
          ],
          "scattermapbox": [
           {
            "marker": {
             "colorbar": {
              "outlinewidth": 0,
              "ticks": ""
             }
            },
            "type": "scattermapbox"
           }
          ],
          "scatterpolar": [
           {
            "marker": {
             "colorbar": {
              "outlinewidth": 0,
              "ticks": ""
             }
            },
            "type": "scatterpolar"
           }
          ],
          "scatterpolargl": [
           {
            "marker": {
             "colorbar": {
              "outlinewidth": 0,
              "ticks": ""
             }
            },
            "type": "scatterpolargl"
           }
          ],
          "scatterternary": [
           {
            "marker": {
             "colorbar": {
              "outlinewidth": 0,
              "ticks": ""
             }
            },
            "type": "scatterternary"
           }
          ],
          "surface": [
           {
            "colorbar": {
             "outlinewidth": 0,
             "ticks": ""
            },
            "colorscale": [
             [
              0,
              "#0d0887"
             ],
             [
              0.1111111111111111,
              "#46039f"
             ],
             [
              0.2222222222222222,
              "#7201a8"
             ],
             [
              0.3333333333333333,
              "#9c179e"
             ],
             [
              0.4444444444444444,
              "#bd3786"
             ],
             [
              0.5555555555555556,
              "#d8576b"
             ],
             [
              0.6666666666666666,
              "#ed7953"
             ],
             [
              0.7777777777777778,
              "#fb9f3a"
             ],
             [
              0.8888888888888888,
              "#fdca26"
             ],
             [
              1,
              "#f0f921"
             ]
            ],
            "type": "surface"
           }
          ],
          "table": [
           {
            "cells": {
             "fill": {
              "color": "#EBF0F8"
             },
             "line": {
              "color": "white"
             }
            },
            "header": {
             "fill": {
              "color": "#C8D4E3"
             },
             "line": {
              "color": "white"
             }
            },
            "type": "table"
           }
          ]
         },
         "layout": {
          "annotationdefaults": {
           "arrowcolor": "#2a3f5f",
           "arrowhead": 0,
           "arrowwidth": 1
          },
          "autotypenumbers": "strict",
          "coloraxis": {
           "colorbar": {
            "outlinewidth": 0,
            "ticks": ""
           }
          },
          "colorscale": {
           "diverging": [
            [
             0,
             "#8e0152"
            ],
            [
             0.1,
             "#c51b7d"
            ],
            [
             0.2,
             "#de77ae"
            ],
            [
             0.3,
             "#f1b6da"
            ],
            [
             0.4,
             "#fde0ef"
            ],
            [
             0.5,
             "#f7f7f7"
            ],
            [
             0.6,
             "#e6f5d0"
            ],
            [
             0.7,
             "#b8e186"
            ],
            [
             0.8,
             "#7fbc41"
            ],
            [
             0.9,
             "#4d9221"
            ],
            [
             1,
             "#276419"
            ]
           ],
           "sequential": [
            [
             0,
             "#0d0887"
            ],
            [
             0.1111111111111111,
             "#46039f"
            ],
            [
             0.2222222222222222,
             "#7201a8"
            ],
            [
             0.3333333333333333,
             "#9c179e"
            ],
            [
             0.4444444444444444,
             "#bd3786"
            ],
            [
             0.5555555555555556,
             "#d8576b"
            ],
            [
             0.6666666666666666,
             "#ed7953"
            ],
            [
             0.7777777777777778,
             "#fb9f3a"
            ],
            [
             0.8888888888888888,
             "#fdca26"
            ],
            [
             1,
             "#f0f921"
            ]
           ],
           "sequentialminus": [
            [
             0,
             "#0d0887"
            ],
            [
             0.1111111111111111,
             "#46039f"
            ],
            [
             0.2222222222222222,
             "#7201a8"
            ],
            [
             0.3333333333333333,
             "#9c179e"
            ],
            [
             0.4444444444444444,
             "#bd3786"
            ],
            [
             0.5555555555555556,
             "#d8576b"
            ],
            [
             0.6666666666666666,
             "#ed7953"
            ],
            [
             0.7777777777777778,
             "#fb9f3a"
            ],
            [
             0.8888888888888888,
             "#fdca26"
            ],
            [
             1,
             "#f0f921"
            ]
           ]
          },
          "colorway": [
           "#636efa",
           "#EF553B",
           "#00cc96",
           "#ab63fa",
           "#FFA15A",
           "#19d3f3",
           "#FF6692",
           "#B6E880",
           "#FF97FF",
           "#FECB52"
          ],
          "font": {
           "color": "#2a3f5f"
          },
          "geo": {
           "bgcolor": "white",
           "lakecolor": "white",
           "landcolor": "#E5ECF6",
           "showlakes": true,
           "showland": true,
           "subunitcolor": "white"
          },
          "hoverlabel": {
           "align": "left"
          },
          "hovermode": "closest",
          "mapbox": {
           "style": "light"
          },
          "paper_bgcolor": "white",
          "plot_bgcolor": "#E5ECF6",
          "polar": {
           "angularaxis": {
            "gridcolor": "white",
            "linecolor": "white",
            "ticks": ""
           },
           "bgcolor": "#E5ECF6",
           "radialaxis": {
            "gridcolor": "white",
            "linecolor": "white",
            "ticks": ""
           }
          },
          "scene": {
           "xaxis": {
            "backgroundcolor": "#E5ECF6",
            "gridcolor": "white",
            "gridwidth": 2,
            "linecolor": "white",
            "showbackground": true,
            "ticks": "",
            "zerolinecolor": "white"
           },
           "yaxis": {
            "backgroundcolor": "#E5ECF6",
            "gridcolor": "white",
            "gridwidth": 2,
            "linecolor": "white",
            "showbackground": true,
            "ticks": "",
            "zerolinecolor": "white"
           },
           "zaxis": {
            "backgroundcolor": "#E5ECF6",
            "gridcolor": "white",
            "gridwidth": 2,
            "linecolor": "white",
            "showbackground": true,
            "ticks": "",
            "zerolinecolor": "white"
           }
          },
          "shapedefaults": {
           "line": {
            "color": "#2a3f5f"
           }
          },
          "ternary": {
           "aaxis": {
            "gridcolor": "white",
            "linecolor": "white",
            "ticks": ""
           },
           "baxis": {
            "gridcolor": "white",
            "linecolor": "white",
            "ticks": ""
           },
           "bgcolor": "#E5ECF6",
           "caxis": {
            "gridcolor": "white",
            "linecolor": "white",
            "ticks": ""
           }
          },
          "title": {
           "x": 0.05
          },
          "xaxis": {
           "automargin": true,
           "gridcolor": "white",
           "linecolor": "white",
           "ticks": "",
           "title": {
            "standoff": 15
           },
           "zerolinecolor": "white",
           "zerolinewidth": 2
          },
          "yaxis": {
           "automargin": true,
           "gridcolor": "white",
           "linecolor": "white",
           "ticks": "",
           "title": {
            "standoff": 15
           },
           "zerolinecolor": "white",
           "zerolinewidth": 2
          }
         }
        },
        "xaxis": {
         "anchor": "y",
         "domain": [
          0,
          1
         ],
         "title": {
          "text": "value"
         }
        },
        "yaxis": {
         "anchor": "x",
         "domain": [
          0,
          1
         ],
         "title": {
          "text": "variable"
         }
        }
       }
      }
     },
     "metadata": {},
     "output_type": "display_data"
    }
   ],
   "source": [
    "plty.box(X_lp4_df, x = [\"F_lp4\", \"T_lp4\"])"
   ]
  },
  {
   "attachments": {},
   "cell_type": "markdown",
   "metadata": {},
   "source": [
    "Refining the cluster and plotting scatter and box plots without outliers"
   ]
  },
  {
   "cell_type": "code",
   "execution_count": 22,
   "metadata": {},
   "outputs": [],
   "source": [
    "#X_lp4_df = X_lp4_df.drop(X_lp4_df[((X_lp4_df.F_lp4 < 0.09) & (X_lp4_df.Y_lp4==1))].index)\n",
    "# X_lp4_df.loc[X_lp4_df[\"T_lp4\"] > 0.0995, \"T_lp4\"] = 0.0994\n",
    "# X_lp4_df.loc[X_lp4_df[\"F_lp4\"] > 0.0455, \"F_lp4\"] = 0.0454"
   ]
  },
  {
   "cell_type": "code",
   "execution_count": 23,
   "metadata": {},
   "outputs": [
    {
     "data": {
      "application/vnd.plotly.v1+json": {
       "config": {
        "plotlyServerURL": "https://plot.ly"
       },
       "data": [
        {
         "hovertemplate": "F_lp4=%{x}<br>T_lp4=%{y}<br>Y_lp4=%{marker.color}<extra></extra>",
         "legendgroup": "",
         "marker": {
          "color": [
           0,
           0,
           0,
           0,
           0,
           0,
           0,
           0,
           0,
           0,
           0,
           0,
           0,
           0,
           0,
           0,
           0,
           0,
           0,
           0,
           0,
           0,
           0,
           0,
           1,
           1,
           1,
           1,
           1,
           1,
           1,
           1,
           1,
           1,
           1,
           1,
           1,
           1,
           1,
           1,
           1,
           1,
           1,
           1,
           1,
           1,
           1,
           1,
           1,
           1,
           1,
           1,
           1,
           2,
           1,
           2,
           2,
           2,
           2,
           1,
           1,
           1,
           2,
           2,
           2,
           2,
           2,
           1,
           2,
           1,
           2,
           1,
           2,
           2,
           1,
           2,
           1,
           2,
           1,
           2,
           1,
           1,
           1,
           1,
           2,
           2,
           2,
           1,
           1,
           1,
           1,
           1,
           1,
           1,
           1,
           1,
           2,
           1,
           1,
           1,
           1,
           1,
           1,
           1,
           1,
           1,
           1,
           1,
           1,
           1,
           1,
           1,
           1,
           1,
           1,
           1,
           1
          ],
          "coloraxis": "coloraxis",
          "symbol": "circle"
         },
         "mode": "markers",
         "name": "",
         "orientation": "v",
         "showlegend": false,
         "type": "scatter",
         "x": [
          0.005134240007518187,
          0.005515341801324312,
          0.006023105560265316,
          0.005280024386928998,
          0.005389840334667157,
          0.005077099302188691,
          0.0045892950924627685,
          0.005225920959048941,
          0.005298878369657438,
          0.004215391379712822,
          0.004067252969272633,
          0.004643895992714672,
          0.0040336586770399726,
          0.003961207612861684,
          0.003815665067065424,
          0.004706157565585694,
          0.0049390502113288255,
          0.005278724486716565,
          0.0026083443882360382,
          0.001968421225726162,
          0.002034957943667252,
          0.0017817087440151489,
          0.0019886476215442883,
          0.0021520907937674066,
          0.007293297520491684,
          0.01084968896277208,
          0.004142694197424506,
          0.004286932786039213,
          0.002917727344333675,
          0.00337966074290464,
          0.0028485118774949896,
          0.003214401665110678,
          0.0041320004868657546,
          0.008293517311237416,
          0.018514675695987734,
          0.005914198686400301,
          0.004883983142116918,
          0.00823976688510203,
          0.003482585514337667,
          0.01324610633352305,
          0.004858313765306109,
          0.0054451272524909155,
          0.014239480562464284,
          0.006643198863660019,
          0.007293297520491684,
          0.008178506534752385,
          0.002149821622266424,
          0.004218020337641327,
          0.005463451153245239,
          0.008747010097286506,
          0.0043311038483159646,
          0.01242802563267923,
          0.008657380797652487,
          0.6362843445440131,
          0.03633375212810425,
          0.23114979632322952,
          0.15779429066577383,
          0.25943660425853843,
          0.6769664162003142,
          0.07530068588578251,
          0.07617394883659735,
          0.059624692879567245,
          0.31501764953601,
          0.27970778939781266,
          0.20597098041466283,
          0.14059969916666754,
          0.008864793452755643,
          0.043267094767220016,
          0.2826055876295244,
          0.006976085912970738,
          0.30017144486911446,
          0.04543302890145833,
          0.15636919262081053,
          0.02538019569116453,
          0.009325905424541057,
          0.26122870930161607,
          0.001863422954344821,
          0.2171894543140502,
          0.003084226392975217,
          0.2728356551665806,
          0.04100903019780933,
          0.023118104115426755,
          0.02210295403657412,
          0.008668033294917932,
          0.056103042444826313,
          0.12414561721316879,
          0.21141020861742324,
          0.006607959718082933,
          0.0057625443631581464,
          0.020016231131464723,
          0.005361442387345198,
          0.014900839546213377,
          0.004773835943031809,
          0.014519827560881498,
          0.006381202419891074,
          0.010020253741516421,
          0.12260540976071503,
          0.004333840906360347,
          0.06107333023232009,
          0.023892419324552015,
          0.003639067557077341,
          0.005867931185968677,
          0.0023649480163243828,
          0.001830296932513689,
          0.009720507905899187,
          0.002691704171746335,
          0.0031326325918891525,
          0.006366360647837587,
          0.003065291717155179,
          0.007853420200763208,
          0.0039015348559917067,
          0.011120779078025712,
          0.002534442049192039,
          0.003754165628123676,
          0.0023926411731429466,
          0.003568213542580036,
          0.0018509896670844109
         ],
         "xaxis": "x",
         "y": [
          0.006448445096943829,
          0.0069375944623007975,
          0.006008372761446135,
          0.007035782702070204,
          0.00664541529603499,
          0.005273716803916392,
          0.005856259326749629,
          0.005379311698366395,
          0.00588466500832326,
          0.004433170587005032,
          0.0043686230875485624,
          0.003942051136159883,
          0.00402149547511931,
          0.00431026224725638,
          0.00443076225177593,
          0.00608546934795342,
          0.004989542349839758,
          0.005621869506052281,
          0.004842303847358888,
          0.003804208168578853,
          0.004716348848283798,
          0.004500318261343879,
          0.005009054636648534,
          0.003674976387510227,
          0.017503371477693253,
          0.03240374439750722,
          0.015342076292549505,
          0.01022273940409643,
          0.01088327435790402,
          0.010867922013401816,
          0.011215724994178595,
          0.009483702768085255,
          0.011483846641966717,
          0.05993950895296869,
          0.03704153649440831,
          0.03581408022271918,
          0.019268982004201452,
          0.06276380291291395,
          0.02004346434082939,
          0.09683852668900124,
          0.008118604398739782,
          0.010384950508155305,
          0.027305525451502676,
          0.021577968249653075,
          0.017503371477693253,
          0.02972833547753872,
          0.008155782868489734,
          0.01904068362821839,
          0.02426507474636261,
          0.04442741092775073,
          0.01435532618079991,
          0.05379544075080251,
          0.03655297435594994,
          0.22928873942862193,
          0.0501861725942713,
          0.17629687657145812,
          0.12603598347643719,
          0.23042970572881552,
          0.11763912754763409,
          0.0882523256410878,
          0.11791950377711301,
          0.09927252556986962,
          0.13658435712356212,
          0.25274714708232715,
          0.11693138921044323,
          0.11777693693565026,
          0.015380840497370034,
          0.03481835085421865,
          0.2814131581292878,
          0.022770827773274604,
          0.14624118834486752,
          0.03344828831556653,
          0.11181591468420302,
          0.03038452676965469,
          0.006572059840609577,
          0.12749386453945624,
          0.005040203496814222,
          0.1795273498874792,
          0.008173892120736383,
          0.0565243155316669,
          0.02427454676954426,
          0.015042038701949041,
          0.008681413552250095,
          0.005333130482744661,
          0.05958436510134248,
          0.09945146888113691,
          0.09266434045157333,
          0.01324938374268307,
          0.022762956237507445,
          0.020828447072839394,
          0.015044507036733174,
          0.009336791729986138,
          0.007600766165965847,
          0.018278673964860218,
          0.014385598352284446,
          0.02415335781337547,
          0.06277698820755159,
          0.005774914380277618,
          0.047409502003678446,
          0.07381466216766032,
          0.0045116331228030136,
          0.024865631487068187,
          0.010594235386360226,
          0.0037821299306768775,
          0.04082159206533945,
          0.009500908911680822,
          0.01754937567129779,
          0.03149527077237166,
          0.009976221604921643,
          0.025103428324177376,
          0.01538511487908269,
          0.044378039902072425,
          0.009554073214763212,
          0.015172914591371454,
          0.007095746068186046,
          0.013565101469243756,
          0.007259693708429954
         ],
         "yaxis": "y"
        }
       ],
       "layout": {
        "coloraxis": {
         "colorbar": {
          "title": {
           "text": "Y_lp4"
          }
         },
         "colorscale": [
          [
           0,
           "#0d0887"
          ],
          [
           0.1111111111111111,
           "#46039f"
          ],
          [
           0.2222222222222222,
           "#7201a8"
          ],
          [
           0.3333333333333333,
           "#9c179e"
          ],
          [
           0.4444444444444444,
           "#bd3786"
          ],
          [
           0.5555555555555556,
           "#d8576b"
          ],
          [
           0.6666666666666666,
           "#ed7953"
          ],
          [
           0.7777777777777778,
           "#fb9f3a"
          ],
          [
           0.8888888888888888,
           "#fdca26"
          ],
          [
           1,
           "#f0f921"
          ]
         ]
        },
        "legend": {
         "tracegroupgap": 0
        },
        "margin": {
         "t": 60
        },
        "template": {
         "data": {
          "bar": [
           {
            "error_x": {
             "color": "#2a3f5f"
            },
            "error_y": {
             "color": "#2a3f5f"
            },
            "marker": {
             "line": {
              "color": "#E5ECF6",
              "width": 0.5
             },
             "pattern": {
              "fillmode": "overlay",
              "size": 10,
              "solidity": 0.2
             }
            },
            "type": "bar"
           }
          ],
          "barpolar": [
           {
            "marker": {
             "line": {
              "color": "#E5ECF6",
              "width": 0.5
             },
             "pattern": {
              "fillmode": "overlay",
              "size": 10,
              "solidity": 0.2
             }
            },
            "type": "barpolar"
           }
          ],
          "carpet": [
           {
            "aaxis": {
             "endlinecolor": "#2a3f5f",
             "gridcolor": "white",
             "linecolor": "white",
             "minorgridcolor": "white",
             "startlinecolor": "#2a3f5f"
            },
            "baxis": {
             "endlinecolor": "#2a3f5f",
             "gridcolor": "white",
             "linecolor": "white",
             "minorgridcolor": "white",
             "startlinecolor": "#2a3f5f"
            },
            "type": "carpet"
           }
          ],
          "choropleth": [
           {
            "colorbar": {
             "outlinewidth": 0,
             "ticks": ""
            },
            "type": "choropleth"
           }
          ],
          "contour": [
           {
            "colorbar": {
             "outlinewidth": 0,
             "ticks": ""
            },
            "colorscale": [
             [
              0,
              "#0d0887"
             ],
             [
              0.1111111111111111,
              "#46039f"
             ],
             [
              0.2222222222222222,
              "#7201a8"
             ],
             [
              0.3333333333333333,
              "#9c179e"
             ],
             [
              0.4444444444444444,
              "#bd3786"
             ],
             [
              0.5555555555555556,
              "#d8576b"
             ],
             [
              0.6666666666666666,
              "#ed7953"
             ],
             [
              0.7777777777777778,
              "#fb9f3a"
             ],
             [
              0.8888888888888888,
              "#fdca26"
             ],
             [
              1,
              "#f0f921"
             ]
            ],
            "type": "contour"
           }
          ],
          "contourcarpet": [
           {
            "colorbar": {
             "outlinewidth": 0,
             "ticks": ""
            },
            "type": "contourcarpet"
           }
          ],
          "heatmap": [
           {
            "colorbar": {
             "outlinewidth": 0,
             "ticks": ""
            },
            "colorscale": [
             [
              0,
              "#0d0887"
             ],
             [
              0.1111111111111111,
              "#46039f"
             ],
             [
              0.2222222222222222,
              "#7201a8"
             ],
             [
              0.3333333333333333,
              "#9c179e"
             ],
             [
              0.4444444444444444,
              "#bd3786"
             ],
             [
              0.5555555555555556,
              "#d8576b"
             ],
             [
              0.6666666666666666,
              "#ed7953"
             ],
             [
              0.7777777777777778,
              "#fb9f3a"
             ],
             [
              0.8888888888888888,
              "#fdca26"
             ],
             [
              1,
              "#f0f921"
             ]
            ],
            "type": "heatmap"
           }
          ],
          "heatmapgl": [
           {
            "colorbar": {
             "outlinewidth": 0,
             "ticks": ""
            },
            "colorscale": [
             [
              0,
              "#0d0887"
             ],
             [
              0.1111111111111111,
              "#46039f"
             ],
             [
              0.2222222222222222,
              "#7201a8"
             ],
             [
              0.3333333333333333,
              "#9c179e"
             ],
             [
              0.4444444444444444,
              "#bd3786"
             ],
             [
              0.5555555555555556,
              "#d8576b"
             ],
             [
              0.6666666666666666,
              "#ed7953"
             ],
             [
              0.7777777777777778,
              "#fb9f3a"
             ],
             [
              0.8888888888888888,
              "#fdca26"
             ],
             [
              1,
              "#f0f921"
             ]
            ],
            "type": "heatmapgl"
           }
          ],
          "histogram": [
           {
            "marker": {
             "pattern": {
              "fillmode": "overlay",
              "size": 10,
              "solidity": 0.2
             }
            },
            "type": "histogram"
           }
          ],
          "histogram2d": [
           {
            "colorbar": {
             "outlinewidth": 0,
             "ticks": ""
            },
            "colorscale": [
             [
              0,
              "#0d0887"
             ],
             [
              0.1111111111111111,
              "#46039f"
             ],
             [
              0.2222222222222222,
              "#7201a8"
             ],
             [
              0.3333333333333333,
              "#9c179e"
             ],
             [
              0.4444444444444444,
              "#bd3786"
             ],
             [
              0.5555555555555556,
              "#d8576b"
             ],
             [
              0.6666666666666666,
              "#ed7953"
             ],
             [
              0.7777777777777778,
              "#fb9f3a"
             ],
             [
              0.8888888888888888,
              "#fdca26"
             ],
             [
              1,
              "#f0f921"
             ]
            ],
            "type": "histogram2d"
           }
          ],
          "histogram2dcontour": [
           {
            "colorbar": {
             "outlinewidth": 0,
             "ticks": ""
            },
            "colorscale": [
             [
              0,
              "#0d0887"
             ],
             [
              0.1111111111111111,
              "#46039f"
             ],
             [
              0.2222222222222222,
              "#7201a8"
             ],
             [
              0.3333333333333333,
              "#9c179e"
             ],
             [
              0.4444444444444444,
              "#bd3786"
             ],
             [
              0.5555555555555556,
              "#d8576b"
             ],
             [
              0.6666666666666666,
              "#ed7953"
             ],
             [
              0.7777777777777778,
              "#fb9f3a"
             ],
             [
              0.8888888888888888,
              "#fdca26"
             ],
             [
              1,
              "#f0f921"
             ]
            ],
            "type": "histogram2dcontour"
           }
          ],
          "mesh3d": [
           {
            "colorbar": {
             "outlinewidth": 0,
             "ticks": ""
            },
            "type": "mesh3d"
           }
          ],
          "parcoords": [
           {
            "line": {
             "colorbar": {
              "outlinewidth": 0,
              "ticks": ""
             }
            },
            "type": "parcoords"
           }
          ],
          "pie": [
           {
            "automargin": true,
            "type": "pie"
           }
          ],
          "scatter": [
           {
            "fillpattern": {
             "fillmode": "overlay",
             "size": 10,
             "solidity": 0.2
            },
            "type": "scatter"
           }
          ],
          "scatter3d": [
           {
            "line": {
             "colorbar": {
              "outlinewidth": 0,
              "ticks": ""
             }
            },
            "marker": {
             "colorbar": {
              "outlinewidth": 0,
              "ticks": ""
             }
            },
            "type": "scatter3d"
           }
          ],
          "scattercarpet": [
           {
            "marker": {
             "colorbar": {
              "outlinewidth": 0,
              "ticks": ""
             }
            },
            "type": "scattercarpet"
           }
          ],
          "scattergeo": [
           {
            "marker": {
             "colorbar": {
              "outlinewidth": 0,
              "ticks": ""
             }
            },
            "type": "scattergeo"
           }
          ],
          "scattergl": [
           {
            "marker": {
             "colorbar": {
              "outlinewidth": 0,
              "ticks": ""
             }
            },
            "type": "scattergl"
           }
          ],
          "scattermapbox": [
           {
            "marker": {
             "colorbar": {
              "outlinewidth": 0,
              "ticks": ""
             }
            },
            "type": "scattermapbox"
           }
          ],
          "scatterpolar": [
           {
            "marker": {
             "colorbar": {
              "outlinewidth": 0,
              "ticks": ""
             }
            },
            "type": "scatterpolar"
           }
          ],
          "scatterpolargl": [
           {
            "marker": {
             "colorbar": {
              "outlinewidth": 0,
              "ticks": ""
             }
            },
            "type": "scatterpolargl"
           }
          ],
          "scatterternary": [
           {
            "marker": {
             "colorbar": {
              "outlinewidth": 0,
              "ticks": ""
             }
            },
            "type": "scatterternary"
           }
          ],
          "surface": [
           {
            "colorbar": {
             "outlinewidth": 0,
             "ticks": ""
            },
            "colorscale": [
             [
              0,
              "#0d0887"
             ],
             [
              0.1111111111111111,
              "#46039f"
             ],
             [
              0.2222222222222222,
              "#7201a8"
             ],
             [
              0.3333333333333333,
              "#9c179e"
             ],
             [
              0.4444444444444444,
              "#bd3786"
             ],
             [
              0.5555555555555556,
              "#d8576b"
             ],
             [
              0.6666666666666666,
              "#ed7953"
             ],
             [
              0.7777777777777778,
              "#fb9f3a"
             ],
             [
              0.8888888888888888,
              "#fdca26"
             ],
             [
              1,
              "#f0f921"
             ]
            ],
            "type": "surface"
           }
          ],
          "table": [
           {
            "cells": {
             "fill": {
              "color": "#EBF0F8"
             },
             "line": {
              "color": "white"
             }
            },
            "header": {
             "fill": {
              "color": "#C8D4E3"
             },
             "line": {
              "color": "white"
             }
            },
            "type": "table"
           }
          ]
         },
         "layout": {
          "annotationdefaults": {
           "arrowcolor": "#2a3f5f",
           "arrowhead": 0,
           "arrowwidth": 1
          },
          "autotypenumbers": "strict",
          "coloraxis": {
           "colorbar": {
            "outlinewidth": 0,
            "ticks": ""
           }
          },
          "colorscale": {
           "diverging": [
            [
             0,
             "#8e0152"
            ],
            [
             0.1,
             "#c51b7d"
            ],
            [
             0.2,
             "#de77ae"
            ],
            [
             0.3,
             "#f1b6da"
            ],
            [
             0.4,
             "#fde0ef"
            ],
            [
             0.5,
             "#f7f7f7"
            ],
            [
             0.6,
             "#e6f5d0"
            ],
            [
             0.7,
             "#b8e186"
            ],
            [
             0.8,
             "#7fbc41"
            ],
            [
             0.9,
             "#4d9221"
            ],
            [
             1,
             "#276419"
            ]
           ],
           "sequential": [
            [
             0,
             "#0d0887"
            ],
            [
             0.1111111111111111,
             "#46039f"
            ],
            [
             0.2222222222222222,
             "#7201a8"
            ],
            [
             0.3333333333333333,
             "#9c179e"
            ],
            [
             0.4444444444444444,
             "#bd3786"
            ],
            [
             0.5555555555555556,
             "#d8576b"
            ],
            [
             0.6666666666666666,
             "#ed7953"
            ],
            [
             0.7777777777777778,
             "#fb9f3a"
            ],
            [
             0.8888888888888888,
             "#fdca26"
            ],
            [
             1,
             "#f0f921"
            ]
           ],
           "sequentialminus": [
            [
             0,
             "#0d0887"
            ],
            [
             0.1111111111111111,
             "#46039f"
            ],
            [
             0.2222222222222222,
             "#7201a8"
            ],
            [
             0.3333333333333333,
             "#9c179e"
            ],
            [
             0.4444444444444444,
             "#bd3786"
            ],
            [
             0.5555555555555556,
             "#d8576b"
            ],
            [
             0.6666666666666666,
             "#ed7953"
            ],
            [
             0.7777777777777778,
             "#fb9f3a"
            ],
            [
             0.8888888888888888,
             "#fdca26"
            ],
            [
             1,
             "#f0f921"
            ]
           ]
          },
          "colorway": [
           "#636efa",
           "#EF553B",
           "#00cc96",
           "#ab63fa",
           "#FFA15A",
           "#19d3f3",
           "#FF6692",
           "#B6E880",
           "#FF97FF",
           "#FECB52"
          ],
          "font": {
           "color": "#2a3f5f"
          },
          "geo": {
           "bgcolor": "white",
           "lakecolor": "white",
           "landcolor": "#E5ECF6",
           "showlakes": true,
           "showland": true,
           "subunitcolor": "white"
          },
          "hoverlabel": {
           "align": "left"
          },
          "hovermode": "closest",
          "mapbox": {
           "style": "light"
          },
          "paper_bgcolor": "white",
          "plot_bgcolor": "#E5ECF6",
          "polar": {
           "angularaxis": {
            "gridcolor": "white",
            "linecolor": "white",
            "ticks": ""
           },
           "bgcolor": "#E5ECF6",
           "radialaxis": {
            "gridcolor": "white",
            "linecolor": "white",
            "ticks": ""
           }
          },
          "scene": {
           "xaxis": {
            "backgroundcolor": "#E5ECF6",
            "gridcolor": "white",
            "gridwidth": 2,
            "linecolor": "white",
            "showbackground": true,
            "ticks": "",
            "zerolinecolor": "white"
           },
           "yaxis": {
            "backgroundcolor": "#E5ECF6",
            "gridcolor": "white",
            "gridwidth": 2,
            "linecolor": "white",
            "showbackground": true,
            "ticks": "",
            "zerolinecolor": "white"
           },
           "zaxis": {
            "backgroundcolor": "#E5ECF6",
            "gridcolor": "white",
            "gridwidth": 2,
            "linecolor": "white",
            "showbackground": true,
            "ticks": "",
            "zerolinecolor": "white"
           }
          },
          "shapedefaults": {
           "line": {
            "color": "#2a3f5f"
           }
          },
          "ternary": {
           "aaxis": {
            "gridcolor": "white",
            "linecolor": "white",
            "ticks": ""
           },
           "baxis": {
            "gridcolor": "white",
            "linecolor": "white",
            "ticks": ""
           },
           "bgcolor": "#E5ECF6",
           "caxis": {
            "gridcolor": "white",
            "linecolor": "white",
            "ticks": ""
           }
          },
          "title": {
           "x": 0.05
          },
          "xaxis": {
           "automargin": true,
           "gridcolor": "white",
           "linecolor": "white",
           "ticks": "",
           "title": {
            "standoff": 15
           },
           "zerolinecolor": "white",
           "zerolinewidth": 2
          },
          "yaxis": {
           "automargin": true,
           "gridcolor": "white",
           "linecolor": "white",
           "ticks": "",
           "title": {
            "standoff": 15
           },
           "zerolinecolor": "white",
           "zerolinewidth": 2
          }
         }
        },
        "xaxis": {
         "anchor": "y",
         "domain": [
          0,
          1
         ],
         "title": {
          "text": "F_lp4"
         },
         "type": "log"
        },
        "yaxis": {
         "anchor": "x",
         "domain": [
          0,
          1
         ],
         "title": {
          "text": "T_lp4"
         },
         "type": "log"
        }
       }
      }
     },
     "metadata": {},
     "output_type": "display_data"
    }
   ],
   "source": [
    "plty.scatter(X_lp4_df, x = \"F_lp4\", y = \"T_lp4\", color=\"Y_lp4\", log_x=True, log_y=True)"
   ]
  },
  {
   "cell_type": "code",
   "execution_count": 24,
   "metadata": {},
   "outputs": [
    {
     "data": {
      "application/vnd.plotly.v1+json": {
       "config": {
        "plotlyServerURL": "https://plot.ly"
       },
       "data": [
        {
         "hovertemplate": "variable=Fx_lp4<br>value=%{x}<br>index=%{y}<extra></extra>",
         "legendgroup": "Fx_lp4",
         "marker": {
          "color": "red",
          "symbol": "circle"
         },
         "mode": "markers",
         "name": "Fx_lp4",
         "orientation": "h",
         "showlegend": true,
         "type": "scatter",
         "x": [
          0.6550185873605947,
          0.6552168525402725,
          0.6550185873605947,
          0.6543246592317223,
          0.654919454770756,
          0.6549690210656753,
          0.6553655514250311,
          0.6549194547707557,
          0.656009913258984,
          0.6565055762081784,
          0.6566542750929367,
          0.6569516728624536,
          0.656654275092937,
          0.6566047087980174,
          0.6565551425030979,
          0.6557620817843867,
          0.654820322180917,
          0.6554646840148699,
          0.6535315985130111,
          0.6534324659231722,
          0.6538289962825279,
          0.6535315985130112,
          0.6533828996282528,
          0.6534820322180915,
          0.6566047087980175,
          0.6658736059479554,
          0.6611648079306072,
          0.6559603469640645,
          0.6547707558859976,
          0.650359355638166,
          0.6544237918215613,
          0.6512515489467163,
          0.6482280049566296,
          0.6680545229244115,
          0.6631474597273855,
          0.6572986369268897,
          0.6559603469640645,
          0.649714993804213,
          0.6528872366790581,
          0.6617596034696405,
          0.6537794299876083,
          0.6514002478314745,
          0.6458488228004956,
          0.6519454770755887,
          0.6566047087980175,
          0.6411400247831475,
          0.6544733581164809,
          0.6636926889714994,
          0.6662701363073109,
          0.6392069392812886,
          0.6491697645600991,
          0.6818339529120199,
          0.6373729863692688,
          0.5892936802973978,
          0.6549194547707559,
          0.5550929368029739,
          0.6168029739776951,
          0.6552168525402725,
          0.784733581164808,
          0.6673605947955391,
          0.664634448574969,
          0.7007682775712516,
          0.748004956629492,
          0.7477571251548947,
          0.6328624535315985,
          0.7180173482032219,
          0.6534820322180915,
          0.6618091697645601,
          0.6698389095415119,
          0.653085501858736,
          0.5818587360594798,
          0.6580421313506816,
          0.5601982651796777,
          0.650557620817844,
          0.6623048327137546,
          0.743543990086741,
          0.6567534076827758,
          0.7060718711276333,
          0.6555142503097893,
          0.5405700123915737,
          0.6477819083023545,
          0.650359355638166,
          0.6601734820322182,
          0.6604213135068153,
          0.6962081784386617,
          0.6831226765799255,
          0.722180916976456,
          0.6589838909541511,
          0.6467410161090458,
          0.655811648079306,
          0.6579925650557621,
          0.6573482032218093,
          0.6598760842627013,
          0.6599752168525402,
          0.6583890954151177,
          0.6646840148698885,
          0.5917719950433705,
          0.6530359355638166,
          0.6197769516728625,
          0.6855018587360596,
          0.6556629491945477,
          0.667905824039653,
          0.6567534076827758,
          0.6558612143742255,
          0.6367781908302353,
          0.653184634448575,
          0.6518463444857496,
          0.6651796778190829,
          0.6563073110285007,
          0.6669640644361834,
          0.6541263940520448,
          0.6383147459727385,
          0.6545229244114001,
          0.662354399008674,
          0.6540768277571251,
          0.6518463444857496,
          0.6572986369268897
         ],
         "xaxis": "x",
         "y": [
          0,
          1,
          2,
          3,
          4,
          5,
          6,
          7,
          8,
          9,
          10,
          11,
          12,
          13,
          14,
          15,
          16,
          17,
          18,
          19,
          20,
          21,
          22,
          23,
          24,
          25,
          26,
          27,
          28,
          29,
          30,
          31,
          32,
          33,
          34,
          35,
          36,
          37,
          38,
          39,
          40,
          41,
          42,
          43,
          44,
          45,
          46,
          47,
          48,
          49,
          50,
          51,
          52,
          53,
          54,
          55,
          56,
          57,
          58,
          59,
          60,
          61,
          62,
          63,
          64,
          65,
          66,
          67,
          68,
          69,
          70,
          71,
          72,
          73,
          74,
          75,
          76,
          77,
          78,
          79,
          80,
          81,
          82,
          83,
          84,
          85,
          86,
          87,
          88,
          89,
          90,
          91,
          92,
          93,
          94,
          95,
          96,
          97,
          98,
          99,
          100,
          101,
          102,
          103,
          104,
          105,
          106,
          107,
          108,
          109,
          110,
          111,
          112,
          113,
          114,
          115,
          116
         ],
         "yaxis": "y"
        },
        {
         "hovertemplate": "variable=Fy_lp4<br>value=%{x}<br>index=%{y}<extra></extra>",
         "legendgroup": "Fy_lp4",
         "marker": {
          "color": "blue",
          "symbol": "circle"
         },
         "mode": "markers",
         "name": "Fy_lp4",
         "orientation": "h",
         "showlegend": true,
         "type": "scatter",
         "x": [
          0.4676422764227643,
          0.4682926829268294,
          0.4678861788617886,
          0.467479674796748,
          0.4677235772357724,
          0.46747967479674796,
          0.4673983739837398,
          0.46731707317073173,
          0.4680487804878049,
          0.46674796747967484,
          0.46658536585365856,
          0.46634146341463417,
          0.466260162601626,
          0.466260162601626,
          0.4660975609756097,
          0.46764227642276424,
          0.4669918699186992,
          0.4670731707317073,
          0.4663414634146342,
          0.46731707317073173,
          0.46560975609756106,
          0.46593495934959356,
          0.46674796747967473,
          0.4656910569105691,
          0.4692682926829269,
          0.4572357723577236,
          0.46317073170731704,
          0.46821138211382113,
          0.4659349593495935,
          0.4707317073170732,
          0.4630081300813008,
          0.4701626016260162,
          0.46821138211382113,
          0.46813008130081296,
          0.47065040650406514,
          0.47065040650406503,
          0.4691056910569106,
          0.48040650406504065,
          0.4651219512195122,
          0.4419512195121951,
          0.4683739837398375,
          0.4675609756097562,
          0.4693495934959351,
          0.4715447154471545,
          0.4692682926829269,
          0.47829268292682936,
          0.4669918699186991,
          0.46056910569105697,
          0.454390243902439,
          0.4801626016260163,
          0.4670731707317073,
          0.4520325203252033,
          0.47512195121951223,
          0.15260162601626018,
          0.45032520325203257,
          0.32861788617886173,
          0.4513821138211382,
          0.4882113821138211,
          0.27056910569105685,
          0.44414634146341464,
          0.4434959349593496,
          0.4170731707317073,
          0.3352032520325203,
          0.3673170731707317,
          0.42463414634146357,
          0.42520325203252035,
          0.46260162601626015,
          0.4630081300813008,
          0.5645528455284553,
          0.476910569105691,
          0.5137398373983741,
          0.45715447154471556,
          0.42422764227642273,
          0.4621951219512196,
          0.4663414634146343,
          0.4497560975609757,
          0.4658536585365854,
          0.32601626016260166,
          0.46414634146341466,
          0.32682926829268294,
          0.45626016260162605,
          0.46008130081300813,
          0.4599999999999999,
          0.46707317073170734,
          0.4601626016260163,
          0.47650406504065046,
          0.5250406504065039,
          0.4678048780487805,
          0.47674796747967474,
          0.4581300813008131,
          0.46731707317073173,
          0.4596747967479676,
          0.4682113821138211,
          0.458780487804878,
          0.46390243902439027,
          0.46447154471544716,
          0.43756097560975615,
          0.46447154471544727,
          0.44113821138211384,
          0.4366666666666667,
          0.467479674796748,
          0.45951219512195113,
          0.4652845528455286,
          0.4681300813008131,
          0.4752032520325204,
          0.46943089430894314,
          0.466829268292683,
          0.46170731707317075,
          0.46780487804878057,
          0.46617886178861784,
          0.4644715447154472,
          0.4845528455284553,
          0.46707317073170723,
          0.46317073170731715,
          0.4699186991869919,
          0.4710569105691057,
          0.4639024390243902
         ],
         "xaxis": "x",
         "y": [
          0,
          1,
          2,
          3,
          4,
          5,
          6,
          7,
          8,
          9,
          10,
          11,
          12,
          13,
          14,
          15,
          16,
          17,
          18,
          19,
          20,
          21,
          22,
          23,
          24,
          25,
          26,
          27,
          28,
          29,
          30,
          31,
          32,
          33,
          34,
          35,
          36,
          37,
          38,
          39,
          40,
          41,
          42,
          43,
          44,
          45,
          46,
          47,
          48,
          49,
          50,
          51,
          52,
          53,
          54,
          55,
          56,
          57,
          58,
          59,
          60,
          61,
          62,
          63,
          64,
          65,
          66,
          67,
          68,
          69,
          70,
          71,
          72,
          73,
          74,
          75,
          76,
          77,
          78,
          79,
          80,
          81,
          82,
          83,
          84,
          85,
          86,
          87,
          88,
          89,
          90,
          91,
          92,
          93,
          94,
          95,
          96,
          97,
          98,
          99,
          100,
          101,
          102,
          103,
          104,
          105,
          106,
          107,
          108,
          109,
          110,
          111,
          112,
          113,
          114,
          115,
          116
         ],
         "yaxis": "y"
        },
        {
         "hovertemplate": "variable=Fz_lp4<br>value=%{x}<br>index=%{y}<extra></extra>",
         "legendgroup": "Fz_lp4",
         "marker": {
          "color": "green",
          "symbol": "circle"
         },
         "mode": "markers",
         "name": "Fz_lp4",
         "orientation": "h",
         "showlegend": true,
         "type": "scatter",
         "x": [
          0.9012143742255265,
          0.9015613382899628,
          0.9020239570425443,
          0.901330028913672,
          0.9014456836018175,
          0.9011813300289137,
          0.9007021891780256,
          0.9012969847170591,
          0.9013795952085915,
          0.9003882693102024,
          0.9002560925237505,
          0.900784799669558,
          0.9002395704254441,
          0.9001734820322181,
          0.9000413052457663,
          0.9007352333746385,
          0.9010491532424617,
          0.9013795952085915,
          0.8985543163981824,
          0.8979925650557621,
          0.8981412639405203,
          0.8978934324659231,
          0.8979264766625362,
          0.8982073523337466,
          0.9023378769103677,
          0.9039239983477901,
          0.8975464684014871,
          0.898256918628666,
          0.8963568773234202,
          0.8971664601404378,
          0.897034283353986,
          0.8952003304419662,
          0.8951838083436598,
          0.9024370095002064,
          0.8882114828583229,
          0.8990830235439898,
          0.900371747211896,
          0.9022552664188352,
          0.8980421313506817,
          0.9035605121850475,
          0.9006856670797192,
          0.9010161090458486,
          0.8879140850888062,
          0.9010491532424619,
          0.9023378769103677,
          0.8977777777777778,
          0.8971168938455185,
          0.897645600991326,
          0.8988021478727798,
          0.8978438661710038,
          0.8980256092523751,
          0.8990830235439902,
          0.8964890541098719,
          0.3268236266005781,
          0.8692936802973978,
          0.6948864105741428,
          0.7546964064436181,
          0.6637092110698058,
          0.2887897562990499,
          0.8348946716232961,
          0.8283353985956217,
          0.8550516315572079,
          0.6335894258570838,
          0.6478810408921933,
          0.7143659644774886,
          0.7863197026022305,
          0.8906237092110698,
          0.8579429987608426,
          0.658223874432053,
          0.891548946716233,
          0.6276414704667492,
          0.8552829409334985,
          0.7603634861627426,
          0.8750433705080544,
          0.8886410574142916,
          0.6639405204460966,
          0.8956794712928543,
          0.7036431226765798,
          0.8944072697232549,
          0.6554812061131764,
          0.8608178438661709,
          0.875952085914911,
          0.87638166047088,
          0.8906732755059893,
          0.8545559686080133,
          0.7849814126394051,
          0.707360594795539,
          0.8906237092110697,
          0.8944568360181744,
          0.8791408508880626,
          0.892028087567121,
          0.8833870301528294,
          0.892094175960347,
          0.8836183395291201,
          0.8906732755059893,
          0.8891201982651797,
          0.7881536555142503,
          0.8931681123502685,
          0.8432878975629906,
          0.8862949194547708,
          0.8993969434118133,
          0.8974142916150353,
          0.897100371747212,
          0.897645600991326,
          0.8946881453944653,
          0.8969021065675341,
          0.8976290788930192,
          0.8999421726559275,
          0.898289962825279,
          0.8980256092523752,
          0.8967368855844693,
          0.8951507641470469,
          0.897100371747212,
          0.8985047501032632,
          0.8979595208591492,
          0.8973316811235027,
          0.8970177612556796
         ],
         "xaxis": "x",
         "y": [
          0,
          1,
          2,
          3,
          4,
          5,
          6,
          7,
          8,
          9,
          10,
          11,
          12,
          13,
          14,
          15,
          16,
          17,
          18,
          19,
          20,
          21,
          22,
          23,
          24,
          25,
          26,
          27,
          28,
          29,
          30,
          31,
          32,
          33,
          34,
          35,
          36,
          37,
          38,
          39,
          40,
          41,
          42,
          43,
          44,
          45,
          46,
          47,
          48,
          49,
          50,
          51,
          52,
          53,
          54,
          55,
          56,
          57,
          58,
          59,
          60,
          61,
          62,
          63,
          64,
          65,
          66,
          67,
          68,
          69,
          70,
          71,
          72,
          73,
          74,
          75,
          76,
          77,
          78,
          79,
          80,
          81,
          82,
          83,
          84,
          85,
          86,
          87,
          88,
          89,
          90,
          91,
          92,
          93,
          94,
          95,
          96,
          97,
          98,
          99,
          100,
          101,
          102,
          103,
          104,
          105,
          106,
          107,
          108,
          109,
          110,
          111,
          112,
          113,
          114,
          115,
          116
         ],
         "yaxis": "y"
        },
        {
         "hovertemplate": "variable=Tx_lp4<br>value=%{x}<br>index=%{y}<extra></extra>",
         "legendgroup": "Tx_lp4",
         "marker": {
          "color": "purple",
          "symbol": "circle"
         },
         "mode": "markers",
         "name": "Tx_lp4",
         "orientation": "h",
         "showlegend": true,
         "type": "scatter",
         "x": [
          0.4505434782608696,
          0.4505434782608696,
          0.45021739130434785,
          0.4501811594202899,
          0.44992753623188414,
          0.44978260869565223,
          0.450036231884058,
          0.4496376811594204,
          0.44989130434782615,
          0.44869565217391316,
          0.44862318840579724,
          0.4485869565217392,
          0.4483695652173914,
          0.44811594202898564,
          0.44804347826086965,
          0.4499637681159421,
          0.448913043478261,
          0.44985507246376816,
          0.4508333333333334,
          0.4502898550724639,
          0.45047101449275373,
          0.45021739130434796,
          0.45079710144927543,
          0.45010869565217404,
          0.4455434782608696,
          0.4502898550724638,
          0.45007246376811605,
          0.447536231884058,
          0.44739130434782626,
          0.44565217391304357,
          0.45163043478260884,
          0.4460144927536233,
          0.44594202898550744,
          0.44789855072463763,
          0.44500000000000006,
          0.4406521739130434,
          0.4442753623188406,
          0.4170289855072465,
          0.4455797101449273,
          0.48971014492753623,
          0.44717391304347837,
          0.4477898550724639,
          0.4419565217391304,
          0.4431884057971015,
          0.4455434782608696,
          0.4417753623188406,
          0.44989130434782615,
          0.45322463768115956,
          0.4548188405797103,
          0.43659420289855083,
          0.4473913043478262,
          0.46478260869565236,
          0.4442753623188406,
          0.39684782608695646,
          0.43224637681159417,
          0.4773913043478261,
          0.442572463768116,
          0.3728985507246377,
          0.5157608695652175,
          0.4530072463768116,
          0.4679710144927537,
          0.461268115942029,
          0.5148188405797101,
          0.4227536231884058,
          0.49115942028985504,
          0.4774275362318841,
          0.4452898550724638,
          0.4481884057971015,
          0.5901449275362318,
          0.443768115942029,
          0.41065217391304343,
          0.43177536231884056,
          0.4241666666666667,
          0.4360144927536232,
          0.4492391304347826,
          0.4771739130434783,
          0.4492391304347827,
          0.3940217391304348,
          0.4481159420289856,
          0.4440579710144928,
          0.4406159420289855,
          0.443695652173913,
          0.45061594202898547,
          0.4491304347826087,
          0.45822463768115934,
          0.4967028985507246,
          0.4952898550724638,
          0.45391304347826084,
          0.4385869565217391,
          0.4502898550724639,
          0.44989130434782615,
          0.4484420289855072,
          0.44945652173913053,
          0.4523913043478262,
          0.452391304347826,
          0.453768115942029,
          0.4718840579710145,
          0.4476811594202899,
          0.46405797101449264,
          0.4603623188405797,
          0.44978260869565223,
          0.4530072463768117,
          0.4509782608695653,
          0.4489855072463769,
          0.44307971014492764,
          0.4465579710144929,
          0.44793478260869585,
          0.44753623188405806,
          0.44909420289855084,
          0.4536956521739131,
          0.44956521739130445,
          0.4385869565217392,
          0.44322463768115955,
          0.45018115942028997,
          0.4474637681159422,
          0.44724637681159435,
          0.44960144927536244
         ],
         "xaxis": "x",
         "y": [
          0,
          1,
          2,
          3,
          4,
          5,
          6,
          7,
          8,
          9,
          10,
          11,
          12,
          13,
          14,
          15,
          16,
          17,
          18,
          19,
          20,
          21,
          22,
          23,
          24,
          25,
          26,
          27,
          28,
          29,
          30,
          31,
          32,
          33,
          34,
          35,
          36,
          37,
          38,
          39,
          40,
          41,
          42,
          43,
          44,
          45,
          46,
          47,
          48,
          49,
          50,
          51,
          52,
          53,
          54,
          55,
          56,
          57,
          58,
          59,
          60,
          61,
          62,
          63,
          64,
          65,
          66,
          67,
          68,
          69,
          70,
          71,
          72,
          73,
          74,
          75,
          76,
          77,
          78,
          79,
          80,
          81,
          82,
          83,
          84,
          85,
          86,
          87,
          88,
          89,
          90,
          91,
          92,
          93,
          94,
          95,
          96,
          97,
          98,
          99,
          100,
          101,
          102,
          103,
          104,
          105,
          106,
          107,
          108,
          109,
          110,
          111,
          112,
          113,
          114,
          115,
          116
         ],
         "yaxis": "y"
        },
        {
         "hovertemplate": "variable=Ty_lp4<br>value=%{x}<br>index=%{y}<extra></extra>",
         "legendgroup": "Ty_lp4",
         "marker": {
          "color": "orange",
          "symbol": "circle"
         },
         "mode": "markers",
         "name": "Ty_lp4",
         "orientation": "h",
         "showlegend": true,
         "type": "scatter",
         "x": [
          0.599000832639467,
          0.5982792117679712,
          0.5987232861504302,
          0.5976686094920899,
          0.5980016652789343,
          0.5991673605328894,
          0.5992228698306966,
          0.5990008326394671,
          0.599000832639467,
          0.5993338884263115,
          0.5993338884263114,
          0.5997224535109631,
          0.5995559256175409,
          0.5992783791285041,
          0.5992228698306967,
          0.5985012489592006,
          0.5988343047460449,
          0.5987787954482376,
          0.6028309741881764,
          0.6027199555925618,
          0.602164862614488,
          0.6016652789342215,
          0.6017207882320289,
          0.6027754648903692,
          0.6126561199000834,
          0.6302525673050235,
          0.6113794060505136,
          0.6025534276991397,
          0.6004995836802665,
          0.5954482375797947,
          0.6011656952539551,
          0.5970580072162088,
          0.596502914238135,
          0.6455731334998611,
          0.6169303358312518,
          0.613766305856231,
          0.6035525950596725,
          0.583902303635859,
          0.599555925617541,
          0.6276436303080767,
          0.598556758257008,
          0.5948376353039133,
          0.5977241187898975,
          0.5927837912850402,
          0.6126561199000834,
          0.5854010546766584,
          0.6034970857618652,
          0.617707466000555,
          0.6223147377185679,
          0.5749653066888704,
          0.5959478212600611,
          0.6427976686094922,
          0.577074660005551,
          0.7759089647515959,
          0.6244796003330557,
          0.6942547876769359,
          0.6850402442409104,
          0.46372467388287536,
          0.5817929503191784,
          0.5810158201498751,
          0.6417429919511518,
          0.6072717180127671,
          0.6094920899250625,
          0.3879544823757979,
          0.5398834304746045,
          0.6301970580072161,
          0.5948931446017208,
          0.5976686094920898,
          0.5311129614210379,
          0.6183180682764363,
          0.7197335553705244,
          0.6103802386899806,
          0.5670274771024145,
          0.5994449070219262,
          0.6038856508465168,
          0.5398834304746045,
          0.6033305578684429,
          0.4640577296697196,
          0.6063835692478491,
          0.622647793505412,
          0.6206494587843464,
          0.6139883430474604,
          0.6081598667776852,
          0.6012212045517625,
          0.6271995559256175,
          0.5714682209270053,
          0.6135442686650013,
          0.5962808770469054,
          0.593616430752151,
          0.6092700527338331,
          0.5917846239245074,
          0.6079378295864557,
          0.5986677768526228,
          0.6143769081321121,
          0.5947266167082986,
          0.6042742159311685,
          0.5917846239245074,
          0.6081598667776853,
          0.5762420205384402,
          0.6459061892867054,
          0.602886483485984,
          0.6193727449347767,
          0.6048848182070496,
          0.6021648626144879,
          0.5745212323064114,
          0.5958923119622537,
          0.5947821260061059,
          0.6223702470163752,
          0.6025534276991397,
          0.618706633361088,
          0.6038301415487095,
          0.5788509575353872,
          0.6009436580627254,
          0.6153760754926451,
          0.6010546766583402,
          0.5973355537052457,
          0.6047737996114348
         ],
         "xaxis": "x",
         "y": [
          0,
          1,
          2,
          3,
          4,
          5,
          6,
          7,
          8,
          9,
          10,
          11,
          12,
          13,
          14,
          15,
          16,
          17,
          18,
          19,
          20,
          21,
          22,
          23,
          24,
          25,
          26,
          27,
          28,
          29,
          30,
          31,
          32,
          33,
          34,
          35,
          36,
          37,
          38,
          39,
          40,
          41,
          42,
          43,
          44,
          45,
          46,
          47,
          48,
          49,
          50,
          51,
          52,
          53,
          54,
          55,
          56,
          57,
          58,
          59,
          60,
          61,
          62,
          63,
          64,
          65,
          66,
          67,
          68,
          69,
          70,
          71,
          72,
          73,
          74,
          75,
          76,
          77,
          78,
          79,
          80,
          81,
          82,
          83,
          84,
          85,
          86,
          87,
          88,
          89,
          90,
          91,
          92,
          93,
          94,
          95,
          96,
          97,
          98,
          99,
          100,
          101,
          102,
          103,
          104,
          105,
          106,
          107,
          108,
          109,
          110,
          111,
          112,
          113,
          114,
          115,
          116
         ],
         "yaxis": "y"
        },
        {
         "hovertemplate": "variable=Tz_lp4<br>value=%{x}<br>index=%{y}<extra></extra>",
         "legendgroup": "Tz_lp4",
         "marker": {
          "color": "yellow",
          "symbol": "circle"
         },
         "mode": "markers",
         "name": "Tz_lp4",
         "orientation": "h",
         "showlegend": true,
         "type": "scatter",
         "x": [
          0.502710027100271,
          0.502710027100271,
          0.5020325203252033,
          0.502710027100271,
          0.5031165311653116,
          0.502981029810298,
          0.50420054200542,
          0.5046070460704607,
          0.5051490514905148,
          0.5035230352303522,
          0.5035230352303522,
          0.5032520325203252,
          0.5032520325203251,
          0.5031165311653115,
          0.5028455284552844,
          0.5044715447154471,
          0.5047425474254742,
          0.5036585365853657,
          0.5070460704607045,
          0.5077235772357722,
          0.5071815718157181,
          0.5073170731707316,
          0.5074525745257452,
          0.5070460704607045,
          0.498509485094851,
          0.5051490514905148,
          0.5029810298102981,
          0.5023035230352303,
          0.4941734417344173,
          0.5023035230352303,
          0.4968834688346883,
          0.4981029810298104,
          0.49823848238482393,
          0.4789972899728997,
          0.4928184281842818,
          0.49905149051490516,
          0.4910569105691057,
          0.47994579945799465,
          0.5092140921409214,
          0.4630081300813008,
          0.501219512195122,
          0.5009485094850948,
          0.49485094850948513,
          0.49850948509485093,
          0.498509485094851,
          0.4991869918699187,
          0.49769647696476965,
          0.49742547425474265,
          0.49945799457994583,
          0.5012195121951221,
          0.49769647696476965,
          0.4962059620596207,
          0.49430894308943096,
          0.5021680216802169,
          0.5033875338753387,
          0.402710027100271,
          0.36070460704607044,
          0.40203252032520326,
          0.4689701897018969,
          0.49403794037940385,
          0.4875338753387534,
          0.521680216802168,
          0.48983739837398377,
          0.5317073170731708,
          0.4378048780487804,
          0.523170731707317,
          0.5078590785907857,
          0.5102981029810298,
          0.6425474254742549,
          0.5147696476964769,
          0.5051490514905148,
          0.490650406504065,
          0.48252032520325205,
          0.4856368563685637,
          0.5093495934959349,
          0.5302168021680216,
          0.5092140921409213,
          0.5410569105691055,
          0.5062330623306232,
          0.48631436314363147,
          0.5027100271002709,
          0.5069105691056909,
          0.5070460704607045,
          0.50840108401084,
          0.5193766937669376,
          0.5327913279132791,
          0.5349593495934959,
          0.5131436314363145,
          0.5073170731707316,
          0.49945799457994594,
          0.5089430894308943,
          0.5043360433604336,
          0.5093495934959349,
          0.5046070460704607,
          0.5140921409214093,
          0.5161246612466125,
          0.49430894308943096,
          0.5082655826558263,
          0.49647696476964764,
          0.5051490514905147,
          0.49837398373983743,
          0.4970189701897019,
          0.49756097560975615,
          0.49783197831978326,
          0.49552845528455286,
          0.49607046070460714,
          0.49092140921409216,
          0.5008130081300813,
          0.4978319783197832,
          0.5033875338753387,
          0.4970189701897019,
          0.4962059620596206,
          0.5,
          0.49796747967479676,
          0.4966124661246613,
          0.4971544715447155,
          0.4968834688346884
         ],
         "xaxis": "x",
         "y": [
          0,
          1,
          2,
          3,
          4,
          5,
          6,
          7,
          8,
          9,
          10,
          11,
          12,
          13,
          14,
          15,
          16,
          17,
          18,
          19,
          20,
          21,
          22,
          23,
          24,
          25,
          26,
          27,
          28,
          29,
          30,
          31,
          32,
          33,
          34,
          35,
          36,
          37,
          38,
          39,
          40,
          41,
          42,
          43,
          44,
          45,
          46,
          47,
          48,
          49,
          50,
          51,
          52,
          53,
          54,
          55,
          56,
          57,
          58,
          59,
          60,
          61,
          62,
          63,
          64,
          65,
          66,
          67,
          68,
          69,
          70,
          71,
          72,
          73,
          74,
          75,
          76,
          77,
          78,
          79,
          80,
          81,
          82,
          83,
          84,
          85,
          86,
          87,
          88,
          89,
          90,
          91,
          92,
          93,
          94,
          95,
          96,
          97,
          98,
          99,
          100,
          101,
          102,
          103,
          104,
          105,
          106,
          107,
          108,
          109,
          110,
          111,
          112,
          113,
          114,
          115,
          116
         ],
         "yaxis": "y"
        }
       ],
       "layout": {
        "legend": {
         "title": {
          "text": "variable"
         },
         "tracegroupgap": 0
        },
        "margin": {
         "t": 60
        },
        "template": {
         "data": {
          "bar": [
           {
            "error_x": {
             "color": "#2a3f5f"
            },
            "error_y": {
             "color": "#2a3f5f"
            },
            "marker": {
             "line": {
              "color": "#E5ECF6",
              "width": 0.5
             },
             "pattern": {
              "fillmode": "overlay",
              "size": 10,
              "solidity": 0.2
             }
            },
            "type": "bar"
           }
          ],
          "barpolar": [
           {
            "marker": {
             "line": {
              "color": "#E5ECF6",
              "width": 0.5
             },
             "pattern": {
              "fillmode": "overlay",
              "size": 10,
              "solidity": 0.2
             }
            },
            "type": "barpolar"
           }
          ],
          "carpet": [
           {
            "aaxis": {
             "endlinecolor": "#2a3f5f",
             "gridcolor": "white",
             "linecolor": "white",
             "minorgridcolor": "white",
             "startlinecolor": "#2a3f5f"
            },
            "baxis": {
             "endlinecolor": "#2a3f5f",
             "gridcolor": "white",
             "linecolor": "white",
             "minorgridcolor": "white",
             "startlinecolor": "#2a3f5f"
            },
            "type": "carpet"
           }
          ],
          "choropleth": [
           {
            "colorbar": {
             "outlinewidth": 0,
             "ticks": ""
            },
            "type": "choropleth"
           }
          ],
          "contour": [
           {
            "colorbar": {
             "outlinewidth": 0,
             "ticks": ""
            },
            "colorscale": [
             [
              0,
              "#0d0887"
             ],
             [
              0.1111111111111111,
              "#46039f"
             ],
             [
              0.2222222222222222,
              "#7201a8"
             ],
             [
              0.3333333333333333,
              "#9c179e"
             ],
             [
              0.4444444444444444,
              "#bd3786"
             ],
             [
              0.5555555555555556,
              "#d8576b"
             ],
             [
              0.6666666666666666,
              "#ed7953"
             ],
             [
              0.7777777777777778,
              "#fb9f3a"
             ],
             [
              0.8888888888888888,
              "#fdca26"
             ],
             [
              1,
              "#f0f921"
             ]
            ],
            "type": "contour"
           }
          ],
          "contourcarpet": [
           {
            "colorbar": {
             "outlinewidth": 0,
             "ticks": ""
            },
            "type": "contourcarpet"
           }
          ],
          "heatmap": [
           {
            "colorbar": {
             "outlinewidth": 0,
             "ticks": ""
            },
            "colorscale": [
             [
              0,
              "#0d0887"
             ],
             [
              0.1111111111111111,
              "#46039f"
             ],
             [
              0.2222222222222222,
              "#7201a8"
             ],
             [
              0.3333333333333333,
              "#9c179e"
             ],
             [
              0.4444444444444444,
              "#bd3786"
             ],
             [
              0.5555555555555556,
              "#d8576b"
             ],
             [
              0.6666666666666666,
              "#ed7953"
             ],
             [
              0.7777777777777778,
              "#fb9f3a"
             ],
             [
              0.8888888888888888,
              "#fdca26"
             ],
             [
              1,
              "#f0f921"
             ]
            ],
            "type": "heatmap"
           }
          ],
          "heatmapgl": [
           {
            "colorbar": {
             "outlinewidth": 0,
             "ticks": ""
            },
            "colorscale": [
             [
              0,
              "#0d0887"
             ],
             [
              0.1111111111111111,
              "#46039f"
             ],
             [
              0.2222222222222222,
              "#7201a8"
             ],
             [
              0.3333333333333333,
              "#9c179e"
             ],
             [
              0.4444444444444444,
              "#bd3786"
             ],
             [
              0.5555555555555556,
              "#d8576b"
             ],
             [
              0.6666666666666666,
              "#ed7953"
             ],
             [
              0.7777777777777778,
              "#fb9f3a"
             ],
             [
              0.8888888888888888,
              "#fdca26"
             ],
             [
              1,
              "#f0f921"
             ]
            ],
            "type": "heatmapgl"
           }
          ],
          "histogram": [
           {
            "marker": {
             "pattern": {
              "fillmode": "overlay",
              "size": 10,
              "solidity": 0.2
             }
            },
            "type": "histogram"
           }
          ],
          "histogram2d": [
           {
            "colorbar": {
             "outlinewidth": 0,
             "ticks": ""
            },
            "colorscale": [
             [
              0,
              "#0d0887"
             ],
             [
              0.1111111111111111,
              "#46039f"
             ],
             [
              0.2222222222222222,
              "#7201a8"
             ],
             [
              0.3333333333333333,
              "#9c179e"
             ],
             [
              0.4444444444444444,
              "#bd3786"
             ],
             [
              0.5555555555555556,
              "#d8576b"
             ],
             [
              0.6666666666666666,
              "#ed7953"
             ],
             [
              0.7777777777777778,
              "#fb9f3a"
             ],
             [
              0.8888888888888888,
              "#fdca26"
             ],
             [
              1,
              "#f0f921"
             ]
            ],
            "type": "histogram2d"
           }
          ],
          "histogram2dcontour": [
           {
            "colorbar": {
             "outlinewidth": 0,
             "ticks": ""
            },
            "colorscale": [
             [
              0,
              "#0d0887"
             ],
             [
              0.1111111111111111,
              "#46039f"
             ],
             [
              0.2222222222222222,
              "#7201a8"
             ],
             [
              0.3333333333333333,
              "#9c179e"
             ],
             [
              0.4444444444444444,
              "#bd3786"
             ],
             [
              0.5555555555555556,
              "#d8576b"
             ],
             [
              0.6666666666666666,
              "#ed7953"
             ],
             [
              0.7777777777777778,
              "#fb9f3a"
             ],
             [
              0.8888888888888888,
              "#fdca26"
             ],
             [
              1,
              "#f0f921"
             ]
            ],
            "type": "histogram2dcontour"
           }
          ],
          "mesh3d": [
           {
            "colorbar": {
             "outlinewidth": 0,
             "ticks": ""
            },
            "type": "mesh3d"
           }
          ],
          "parcoords": [
           {
            "line": {
             "colorbar": {
              "outlinewidth": 0,
              "ticks": ""
             }
            },
            "type": "parcoords"
           }
          ],
          "pie": [
           {
            "automargin": true,
            "type": "pie"
           }
          ],
          "scatter": [
           {
            "fillpattern": {
             "fillmode": "overlay",
             "size": 10,
             "solidity": 0.2
            },
            "type": "scatter"
           }
          ],
          "scatter3d": [
           {
            "line": {
             "colorbar": {
              "outlinewidth": 0,
              "ticks": ""
             }
            },
            "marker": {
             "colorbar": {
              "outlinewidth": 0,
              "ticks": ""
             }
            },
            "type": "scatter3d"
           }
          ],
          "scattercarpet": [
           {
            "marker": {
             "colorbar": {
              "outlinewidth": 0,
              "ticks": ""
             }
            },
            "type": "scattercarpet"
           }
          ],
          "scattergeo": [
           {
            "marker": {
             "colorbar": {
              "outlinewidth": 0,
              "ticks": ""
             }
            },
            "type": "scattergeo"
           }
          ],
          "scattergl": [
           {
            "marker": {
             "colorbar": {
              "outlinewidth": 0,
              "ticks": ""
             }
            },
            "type": "scattergl"
           }
          ],
          "scattermapbox": [
           {
            "marker": {
             "colorbar": {
              "outlinewidth": 0,
              "ticks": ""
             }
            },
            "type": "scattermapbox"
           }
          ],
          "scatterpolar": [
           {
            "marker": {
             "colorbar": {
              "outlinewidth": 0,
              "ticks": ""
             }
            },
            "type": "scatterpolar"
           }
          ],
          "scatterpolargl": [
           {
            "marker": {
             "colorbar": {
              "outlinewidth": 0,
              "ticks": ""
             }
            },
            "type": "scatterpolargl"
           }
          ],
          "scatterternary": [
           {
            "marker": {
             "colorbar": {
              "outlinewidth": 0,
              "ticks": ""
             }
            },
            "type": "scatterternary"
           }
          ],
          "surface": [
           {
            "colorbar": {
             "outlinewidth": 0,
             "ticks": ""
            },
            "colorscale": [
             [
              0,
              "#0d0887"
             ],
             [
              0.1111111111111111,
              "#46039f"
             ],
             [
              0.2222222222222222,
              "#7201a8"
             ],
             [
              0.3333333333333333,
              "#9c179e"
             ],
             [
              0.4444444444444444,
              "#bd3786"
             ],
             [
              0.5555555555555556,
              "#d8576b"
             ],
             [
              0.6666666666666666,
              "#ed7953"
             ],
             [
              0.7777777777777778,
              "#fb9f3a"
             ],
             [
              0.8888888888888888,
              "#fdca26"
             ],
             [
              1,
              "#f0f921"
             ]
            ],
            "type": "surface"
           }
          ],
          "table": [
           {
            "cells": {
             "fill": {
              "color": "#EBF0F8"
             },
             "line": {
              "color": "white"
             }
            },
            "header": {
             "fill": {
              "color": "#C8D4E3"
             },
             "line": {
              "color": "white"
             }
            },
            "type": "table"
           }
          ]
         },
         "layout": {
          "annotationdefaults": {
           "arrowcolor": "#2a3f5f",
           "arrowhead": 0,
           "arrowwidth": 1
          },
          "autotypenumbers": "strict",
          "coloraxis": {
           "colorbar": {
            "outlinewidth": 0,
            "ticks": ""
           }
          },
          "colorscale": {
           "diverging": [
            [
             0,
             "#8e0152"
            ],
            [
             0.1,
             "#c51b7d"
            ],
            [
             0.2,
             "#de77ae"
            ],
            [
             0.3,
             "#f1b6da"
            ],
            [
             0.4,
             "#fde0ef"
            ],
            [
             0.5,
             "#f7f7f7"
            ],
            [
             0.6,
             "#e6f5d0"
            ],
            [
             0.7,
             "#b8e186"
            ],
            [
             0.8,
             "#7fbc41"
            ],
            [
             0.9,
             "#4d9221"
            ],
            [
             1,
             "#276419"
            ]
           ],
           "sequential": [
            [
             0,
             "#0d0887"
            ],
            [
             0.1111111111111111,
             "#46039f"
            ],
            [
             0.2222222222222222,
             "#7201a8"
            ],
            [
             0.3333333333333333,
             "#9c179e"
            ],
            [
             0.4444444444444444,
             "#bd3786"
            ],
            [
             0.5555555555555556,
             "#d8576b"
            ],
            [
             0.6666666666666666,
             "#ed7953"
            ],
            [
             0.7777777777777778,
             "#fb9f3a"
            ],
            [
             0.8888888888888888,
             "#fdca26"
            ],
            [
             1,
             "#f0f921"
            ]
           ],
           "sequentialminus": [
            [
             0,
             "#0d0887"
            ],
            [
             0.1111111111111111,
             "#46039f"
            ],
            [
             0.2222222222222222,
             "#7201a8"
            ],
            [
             0.3333333333333333,
             "#9c179e"
            ],
            [
             0.4444444444444444,
             "#bd3786"
            ],
            [
             0.5555555555555556,
             "#d8576b"
            ],
            [
             0.6666666666666666,
             "#ed7953"
            ],
            [
             0.7777777777777778,
             "#fb9f3a"
            ],
            [
             0.8888888888888888,
             "#fdca26"
            ],
            [
             1,
             "#f0f921"
            ]
           ]
          },
          "colorway": [
           "#636efa",
           "#EF553B",
           "#00cc96",
           "#ab63fa",
           "#FFA15A",
           "#19d3f3",
           "#FF6692",
           "#B6E880",
           "#FF97FF",
           "#FECB52"
          ],
          "font": {
           "color": "#2a3f5f"
          },
          "geo": {
           "bgcolor": "white",
           "lakecolor": "white",
           "landcolor": "#E5ECF6",
           "showlakes": true,
           "showland": true,
           "subunitcolor": "white"
          },
          "hoverlabel": {
           "align": "left"
          },
          "hovermode": "closest",
          "mapbox": {
           "style": "light"
          },
          "paper_bgcolor": "white",
          "plot_bgcolor": "#E5ECF6",
          "polar": {
           "angularaxis": {
            "gridcolor": "white",
            "linecolor": "white",
            "ticks": ""
           },
           "bgcolor": "#E5ECF6",
           "radialaxis": {
            "gridcolor": "white",
            "linecolor": "white",
            "ticks": ""
           }
          },
          "scene": {
           "xaxis": {
            "backgroundcolor": "#E5ECF6",
            "gridcolor": "white",
            "gridwidth": 2,
            "linecolor": "white",
            "showbackground": true,
            "ticks": "",
            "zerolinecolor": "white"
           },
           "yaxis": {
            "backgroundcolor": "#E5ECF6",
            "gridcolor": "white",
            "gridwidth": 2,
            "linecolor": "white",
            "showbackground": true,
            "ticks": "",
            "zerolinecolor": "white"
           },
           "zaxis": {
            "backgroundcolor": "#E5ECF6",
            "gridcolor": "white",
            "gridwidth": 2,
            "linecolor": "white",
            "showbackground": true,
            "ticks": "",
            "zerolinecolor": "white"
           }
          },
          "shapedefaults": {
           "line": {
            "color": "#2a3f5f"
           }
          },
          "ternary": {
           "aaxis": {
            "gridcolor": "white",
            "linecolor": "white",
            "ticks": ""
           },
           "baxis": {
            "gridcolor": "white",
            "linecolor": "white",
            "ticks": ""
           },
           "bgcolor": "#E5ECF6",
           "caxis": {
            "gridcolor": "white",
            "linecolor": "white",
            "ticks": ""
           }
          },
          "title": {
           "x": 0.05
          },
          "xaxis": {
           "automargin": true,
           "gridcolor": "white",
           "linecolor": "white",
           "ticks": "",
           "title": {
            "standoff": 15
           },
           "zerolinecolor": "white",
           "zerolinewidth": 2
          },
          "yaxis": {
           "automargin": true,
           "gridcolor": "white",
           "linecolor": "white",
           "ticks": "",
           "title": {
            "standoff": 15
           },
           "zerolinecolor": "white",
           "zerolinewidth": 2
          }
         }
        },
        "xaxis": {
         "anchor": "y",
         "domain": [
          0,
          1
         ],
         "title": {
          "text": "value"
         }
        },
        "yaxis": {
         "anchor": "x",
         "domain": [
          0,
          1
         ],
         "title": {
          "text": "index"
         }
        }
       }
      }
     },
     "metadata": {},
     "output_type": "display_data"
    }
   ],
   "source": [
    "plty.scatter(X_lp4_df, x = [\"Fx_lp4\", \"Fy_lp4\", \"Fz_lp4\", \"Tx_lp4\", \"Ty_lp4\", \"Tz_lp4\"],   color_discrete_map= dic)"
   ]
  },
  {
   "cell_type": "code",
   "execution_count": 25,
   "metadata": {},
   "outputs": [
    {
     "data": {
      "application/vnd.plotly.v1+json": {
       "config": {
        "plotlyServerURL": "https://plot.ly"
       },
       "data": [
        {
         "hovertemplate": "value=%{x}<br>index=%{y}<br>Y_lp4=%{marker.color}<extra></extra>",
         "legendgroup": "",
         "marker": {
          "color": [
           0,
           0,
           0,
           0,
           0,
           0,
           0,
           0,
           0,
           0,
           0,
           0,
           0,
           0,
           0,
           0,
           0,
           0,
           0,
           0,
           0,
           0,
           0,
           0,
           1,
           1,
           1,
           1,
           1,
           1,
           1,
           1,
           1,
           1,
           1,
           1,
           1,
           1,
           1,
           1,
           1,
           1,
           1,
           1,
           1,
           1,
           1,
           1,
           1,
           1,
           1,
           1,
           1,
           2,
           1,
           2,
           2,
           2,
           2,
           1,
           1,
           1,
           2,
           2,
           2,
           2,
           2,
           1,
           2,
           1,
           2,
           1,
           2,
           2,
           1,
           2,
           1,
           2,
           1,
           2,
           1,
           1,
           1,
           1,
           2,
           2,
           2,
           1,
           1,
           1,
           1,
           1,
           1,
           1,
           1,
           1,
           2,
           1,
           1,
           1,
           1,
           1,
           1,
           1,
           1,
           1,
           1,
           1,
           1,
           1,
           1,
           1,
           1,
           1,
           1,
           1,
           1,
           0,
           0,
           0,
           0,
           0,
           0,
           0,
           0,
           0,
           0,
           0,
           0,
           0,
           0,
           0,
           0,
           0,
           0,
           0,
           0,
           0,
           0,
           0,
           0,
           1,
           1,
           1,
           1,
           1,
           1,
           1,
           1,
           1,
           1,
           1,
           1,
           1,
           1,
           1,
           1,
           1,
           1,
           1,
           1,
           1,
           1,
           1,
           1,
           1,
           1,
           1,
           1,
           1,
           2,
           1,
           2,
           2,
           2,
           2,
           1,
           1,
           1,
           2,
           2,
           2,
           2,
           2,
           1,
           2,
           1,
           2,
           1,
           2,
           2,
           1,
           2,
           1,
           2,
           1,
           2,
           1,
           1,
           1,
           1,
           2,
           2,
           2,
           1,
           1,
           1,
           1,
           1,
           1,
           1,
           1,
           1,
           2,
           1,
           1,
           1,
           1,
           1,
           1,
           1,
           1,
           1,
           1,
           1,
           1,
           1,
           1,
           1,
           1,
           1,
           1,
           1,
           1,
           0,
           0,
           0,
           0,
           0,
           0,
           0,
           0,
           0,
           0,
           0,
           0,
           0,
           0,
           0,
           0,
           0,
           0,
           0,
           0,
           0,
           0,
           0,
           0,
           1,
           1,
           1,
           1,
           1,
           1,
           1,
           1,
           1,
           1,
           1,
           1,
           1,
           1,
           1,
           1,
           1,
           1,
           1,
           1,
           1,
           1,
           1,
           1,
           1,
           1,
           1,
           1,
           1,
           2,
           1,
           2,
           2,
           2,
           2,
           1,
           1,
           1,
           2,
           2,
           2,
           2,
           2,
           1,
           2,
           1,
           2,
           1,
           2,
           2,
           1,
           2,
           1,
           2,
           1,
           2,
           1,
           1,
           1,
           1,
           2,
           2,
           2,
           1,
           1,
           1,
           1,
           1,
           1,
           1,
           1,
           1,
           2,
           1,
           1,
           1,
           1,
           1,
           1,
           1,
           1,
           1,
           1,
           1,
           1,
           1,
           1,
           1,
           1,
           1,
           1,
           1,
           1,
           0,
           0,
           0,
           0,
           0,
           0,
           0,
           0,
           0,
           0,
           0,
           0,
           0,
           0,
           0,
           0,
           0,
           0,
           0,
           0,
           0,
           0,
           0,
           0,
           1,
           1,
           1,
           1,
           1,
           1,
           1,
           1,
           1,
           1,
           1,
           1,
           1,
           1,
           1,
           1,
           1,
           1,
           1,
           1,
           1,
           1,
           1,
           1,
           1,
           1,
           1,
           1,
           1,
           2,
           1,
           2,
           2,
           2,
           2,
           1,
           1,
           1,
           2,
           2,
           2,
           2,
           2,
           1,
           2,
           1,
           2,
           1,
           2,
           2,
           1,
           2,
           1,
           2,
           1,
           2,
           1,
           1,
           1,
           1,
           2,
           2,
           2,
           1,
           1,
           1,
           1,
           1,
           1,
           1,
           1,
           1,
           2,
           1,
           1,
           1,
           1,
           1,
           1,
           1,
           1,
           1,
           1,
           1,
           1,
           1,
           1,
           1,
           1,
           1,
           1,
           1,
           1,
           0,
           0,
           0,
           0,
           0,
           0,
           0,
           0,
           0,
           0,
           0,
           0,
           0,
           0,
           0,
           0,
           0,
           0,
           0,
           0,
           0,
           0,
           0,
           0,
           1,
           1,
           1,
           1,
           1,
           1,
           1,
           1,
           1,
           1,
           1,
           1,
           1,
           1,
           1,
           1,
           1,
           1,
           1,
           1,
           1,
           1,
           1,
           1,
           1,
           1,
           1,
           1,
           1,
           2,
           1,
           2,
           2,
           2,
           2,
           1,
           1,
           1,
           2,
           2,
           2,
           2,
           2,
           1,
           2,
           1,
           2,
           1,
           2,
           2,
           1,
           2,
           1,
           2,
           1,
           2,
           1,
           1,
           1,
           1,
           2,
           2,
           2,
           1,
           1,
           1,
           1,
           1,
           1,
           1,
           1,
           1,
           2,
           1,
           1,
           1,
           1,
           1,
           1,
           1,
           1,
           1,
           1,
           1,
           1,
           1,
           1,
           1,
           1,
           1,
           1,
           1,
           1,
           0,
           0,
           0,
           0,
           0,
           0,
           0,
           0,
           0,
           0,
           0,
           0,
           0,
           0,
           0,
           0,
           0,
           0,
           0,
           0,
           0,
           0,
           0,
           0,
           1,
           1,
           1,
           1,
           1,
           1,
           1,
           1,
           1,
           1,
           1,
           1,
           1,
           1,
           1,
           1,
           1,
           1,
           1,
           1,
           1,
           1,
           1,
           1,
           1,
           1,
           1,
           1,
           1,
           2,
           1,
           2,
           2,
           2,
           2,
           1,
           1,
           1,
           2,
           2,
           2,
           2,
           2,
           1,
           2,
           1,
           2,
           1,
           2,
           2,
           1,
           2,
           1,
           2,
           1,
           2,
           1,
           1,
           1,
           1,
           2,
           2,
           2,
           1,
           1,
           1,
           1,
           1,
           1,
           1,
           1,
           1,
           2,
           1,
           1,
           1,
           1,
           1,
           1,
           1,
           1,
           1,
           1,
           1,
           1,
           1,
           1,
           1,
           1,
           1,
           1,
           1,
           1
          ],
          "coloraxis": "coloraxis",
          "symbol": "circle"
         },
         "mode": "markers",
         "name": "",
         "orientation": "h",
         "showlegend": false,
         "type": "scatter",
         "x": [
          0.6550185873605947,
          0.6552168525402725,
          0.6550185873605947,
          0.6543246592317223,
          0.654919454770756,
          0.6549690210656753,
          0.6553655514250311,
          0.6549194547707557,
          0.656009913258984,
          0.6565055762081784,
          0.6566542750929367,
          0.6569516728624536,
          0.656654275092937,
          0.6566047087980174,
          0.6565551425030979,
          0.6557620817843867,
          0.654820322180917,
          0.6554646840148699,
          0.6535315985130111,
          0.6534324659231722,
          0.6538289962825279,
          0.6535315985130112,
          0.6533828996282528,
          0.6534820322180915,
          0.6566047087980175,
          0.6658736059479554,
          0.6611648079306072,
          0.6559603469640645,
          0.6547707558859976,
          0.650359355638166,
          0.6544237918215613,
          0.6512515489467163,
          0.6482280049566296,
          0.6680545229244115,
          0.6631474597273855,
          0.6572986369268897,
          0.6559603469640645,
          0.649714993804213,
          0.6528872366790581,
          0.6617596034696405,
          0.6537794299876083,
          0.6514002478314745,
          0.6458488228004956,
          0.6519454770755887,
          0.6566047087980175,
          0.6411400247831475,
          0.6544733581164809,
          0.6636926889714994,
          0.6662701363073109,
          0.6392069392812886,
          0.6491697645600991,
          0.6818339529120199,
          0.6373729863692688,
          0.5892936802973978,
          0.6549194547707559,
          0.5550929368029739,
          0.6168029739776951,
          0.6552168525402725,
          0.784733581164808,
          0.6673605947955391,
          0.664634448574969,
          0.7007682775712516,
          0.748004956629492,
          0.7477571251548947,
          0.6328624535315985,
          0.7180173482032219,
          0.6534820322180915,
          0.6618091697645601,
          0.6698389095415119,
          0.653085501858736,
          0.5818587360594798,
          0.6580421313506816,
          0.5601982651796777,
          0.650557620817844,
          0.6623048327137546,
          0.743543990086741,
          0.6567534076827758,
          0.7060718711276333,
          0.6555142503097893,
          0.5405700123915737,
          0.6477819083023545,
          0.650359355638166,
          0.6601734820322182,
          0.6604213135068153,
          0.6962081784386617,
          0.6831226765799255,
          0.722180916976456,
          0.6589838909541511,
          0.6467410161090458,
          0.655811648079306,
          0.6579925650557621,
          0.6573482032218093,
          0.6598760842627013,
          0.6599752168525402,
          0.6583890954151177,
          0.6646840148698885,
          0.5917719950433705,
          0.6530359355638166,
          0.6197769516728625,
          0.6855018587360596,
          0.6556629491945477,
          0.667905824039653,
          0.6567534076827758,
          0.6558612143742255,
          0.6367781908302353,
          0.653184634448575,
          0.6518463444857496,
          0.6651796778190829,
          0.6563073110285007,
          0.6669640644361834,
          0.6541263940520448,
          0.6383147459727385,
          0.6545229244114001,
          0.662354399008674,
          0.6540768277571251,
          0.6518463444857496,
          0.6572986369268897,
          0.4676422764227643,
          0.4682926829268294,
          0.4678861788617886,
          0.467479674796748,
          0.4677235772357724,
          0.46747967479674796,
          0.4673983739837398,
          0.46731707317073173,
          0.4680487804878049,
          0.46674796747967484,
          0.46658536585365856,
          0.46634146341463417,
          0.466260162601626,
          0.466260162601626,
          0.4660975609756097,
          0.46764227642276424,
          0.4669918699186992,
          0.4670731707317073,
          0.4663414634146342,
          0.46731707317073173,
          0.46560975609756106,
          0.46593495934959356,
          0.46674796747967473,
          0.4656910569105691,
          0.4692682926829269,
          0.4572357723577236,
          0.46317073170731704,
          0.46821138211382113,
          0.4659349593495935,
          0.4707317073170732,
          0.4630081300813008,
          0.4701626016260162,
          0.46821138211382113,
          0.46813008130081296,
          0.47065040650406514,
          0.47065040650406503,
          0.4691056910569106,
          0.48040650406504065,
          0.4651219512195122,
          0.4419512195121951,
          0.4683739837398375,
          0.4675609756097562,
          0.4693495934959351,
          0.4715447154471545,
          0.4692682926829269,
          0.47829268292682936,
          0.4669918699186991,
          0.46056910569105697,
          0.454390243902439,
          0.4801626016260163,
          0.4670731707317073,
          0.4520325203252033,
          0.47512195121951223,
          0.15260162601626018,
          0.45032520325203257,
          0.32861788617886173,
          0.4513821138211382,
          0.4882113821138211,
          0.27056910569105685,
          0.44414634146341464,
          0.4434959349593496,
          0.4170731707317073,
          0.3352032520325203,
          0.3673170731707317,
          0.42463414634146357,
          0.42520325203252035,
          0.46260162601626015,
          0.4630081300813008,
          0.5645528455284553,
          0.476910569105691,
          0.5137398373983741,
          0.45715447154471556,
          0.42422764227642273,
          0.4621951219512196,
          0.4663414634146343,
          0.4497560975609757,
          0.4658536585365854,
          0.32601626016260166,
          0.46414634146341466,
          0.32682926829268294,
          0.45626016260162605,
          0.46008130081300813,
          0.4599999999999999,
          0.46707317073170734,
          0.4601626016260163,
          0.47650406504065046,
          0.5250406504065039,
          0.4678048780487805,
          0.47674796747967474,
          0.4581300813008131,
          0.46731707317073173,
          0.4596747967479676,
          0.4682113821138211,
          0.458780487804878,
          0.46390243902439027,
          0.46447154471544716,
          0.43756097560975615,
          0.46447154471544727,
          0.44113821138211384,
          0.4366666666666667,
          0.467479674796748,
          0.45951219512195113,
          0.4652845528455286,
          0.4681300813008131,
          0.4752032520325204,
          0.46943089430894314,
          0.466829268292683,
          0.46170731707317075,
          0.46780487804878057,
          0.46617886178861784,
          0.4644715447154472,
          0.4845528455284553,
          0.46707317073170723,
          0.46317073170731715,
          0.4699186991869919,
          0.4710569105691057,
          0.4639024390243902,
          0.9012143742255265,
          0.9015613382899628,
          0.9020239570425443,
          0.901330028913672,
          0.9014456836018175,
          0.9011813300289137,
          0.9007021891780256,
          0.9012969847170591,
          0.9013795952085915,
          0.9003882693102024,
          0.9002560925237505,
          0.900784799669558,
          0.9002395704254441,
          0.9001734820322181,
          0.9000413052457663,
          0.9007352333746385,
          0.9010491532424617,
          0.9013795952085915,
          0.8985543163981824,
          0.8979925650557621,
          0.8981412639405203,
          0.8978934324659231,
          0.8979264766625362,
          0.8982073523337466,
          0.9023378769103677,
          0.9039239983477901,
          0.8975464684014871,
          0.898256918628666,
          0.8963568773234202,
          0.8971664601404378,
          0.897034283353986,
          0.8952003304419662,
          0.8951838083436598,
          0.9024370095002064,
          0.8882114828583229,
          0.8990830235439898,
          0.900371747211896,
          0.9022552664188352,
          0.8980421313506817,
          0.9035605121850475,
          0.9006856670797192,
          0.9010161090458486,
          0.8879140850888062,
          0.9010491532424619,
          0.9023378769103677,
          0.8977777777777778,
          0.8971168938455185,
          0.897645600991326,
          0.8988021478727798,
          0.8978438661710038,
          0.8980256092523751,
          0.8990830235439902,
          0.8964890541098719,
          0.3268236266005781,
          0.8692936802973978,
          0.6948864105741428,
          0.7546964064436181,
          0.6637092110698058,
          0.2887897562990499,
          0.8348946716232961,
          0.8283353985956217,
          0.8550516315572079,
          0.6335894258570838,
          0.6478810408921933,
          0.7143659644774886,
          0.7863197026022305,
          0.8906237092110698,
          0.8579429987608426,
          0.658223874432053,
          0.891548946716233,
          0.6276414704667492,
          0.8552829409334985,
          0.7603634861627426,
          0.8750433705080544,
          0.8886410574142916,
          0.6639405204460966,
          0.8956794712928543,
          0.7036431226765798,
          0.8944072697232549,
          0.6554812061131764,
          0.8608178438661709,
          0.875952085914911,
          0.87638166047088,
          0.8906732755059893,
          0.8545559686080133,
          0.7849814126394051,
          0.707360594795539,
          0.8906237092110697,
          0.8944568360181744,
          0.8791408508880626,
          0.892028087567121,
          0.8833870301528294,
          0.892094175960347,
          0.8836183395291201,
          0.8906732755059893,
          0.8891201982651797,
          0.7881536555142503,
          0.8931681123502685,
          0.8432878975629906,
          0.8862949194547708,
          0.8993969434118133,
          0.8974142916150353,
          0.897100371747212,
          0.897645600991326,
          0.8946881453944653,
          0.8969021065675341,
          0.8976290788930192,
          0.8999421726559275,
          0.898289962825279,
          0.8980256092523752,
          0.8967368855844693,
          0.8951507641470469,
          0.897100371747212,
          0.8985047501032632,
          0.8979595208591492,
          0.8973316811235027,
          0.8970177612556796,
          0.4505434782608696,
          0.4505434782608696,
          0.45021739130434785,
          0.4501811594202899,
          0.44992753623188414,
          0.44978260869565223,
          0.450036231884058,
          0.4496376811594204,
          0.44989130434782615,
          0.44869565217391316,
          0.44862318840579724,
          0.4485869565217392,
          0.4483695652173914,
          0.44811594202898564,
          0.44804347826086965,
          0.4499637681159421,
          0.448913043478261,
          0.44985507246376816,
          0.4508333333333334,
          0.4502898550724639,
          0.45047101449275373,
          0.45021739130434796,
          0.45079710144927543,
          0.45010869565217404,
          0.4455434782608696,
          0.4502898550724638,
          0.45007246376811605,
          0.447536231884058,
          0.44739130434782626,
          0.44565217391304357,
          0.45163043478260884,
          0.4460144927536233,
          0.44594202898550744,
          0.44789855072463763,
          0.44500000000000006,
          0.4406521739130434,
          0.4442753623188406,
          0.4170289855072465,
          0.4455797101449273,
          0.48971014492753623,
          0.44717391304347837,
          0.4477898550724639,
          0.4419565217391304,
          0.4431884057971015,
          0.4455434782608696,
          0.4417753623188406,
          0.44989130434782615,
          0.45322463768115956,
          0.4548188405797103,
          0.43659420289855083,
          0.4473913043478262,
          0.46478260869565236,
          0.4442753623188406,
          0.39684782608695646,
          0.43224637681159417,
          0.4773913043478261,
          0.442572463768116,
          0.3728985507246377,
          0.5157608695652175,
          0.4530072463768116,
          0.4679710144927537,
          0.461268115942029,
          0.5148188405797101,
          0.4227536231884058,
          0.49115942028985504,
          0.4774275362318841,
          0.4452898550724638,
          0.4481884057971015,
          0.5901449275362318,
          0.443768115942029,
          0.41065217391304343,
          0.43177536231884056,
          0.4241666666666667,
          0.4360144927536232,
          0.4492391304347826,
          0.4771739130434783,
          0.4492391304347827,
          0.3940217391304348,
          0.4481159420289856,
          0.4440579710144928,
          0.4406159420289855,
          0.443695652173913,
          0.45061594202898547,
          0.4491304347826087,
          0.45822463768115934,
          0.4967028985507246,
          0.4952898550724638,
          0.45391304347826084,
          0.4385869565217391,
          0.4502898550724639,
          0.44989130434782615,
          0.4484420289855072,
          0.44945652173913053,
          0.4523913043478262,
          0.452391304347826,
          0.453768115942029,
          0.4718840579710145,
          0.4476811594202899,
          0.46405797101449264,
          0.4603623188405797,
          0.44978260869565223,
          0.4530072463768117,
          0.4509782608695653,
          0.4489855072463769,
          0.44307971014492764,
          0.4465579710144929,
          0.44793478260869585,
          0.44753623188405806,
          0.44909420289855084,
          0.4536956521739131,
          0.44956521739130445,
          0.4385869565217392,
          0.44322463768115955,
          0.45018115942028997,
          0.4474637681159422,
          0.44724637681159435,
          0.44960144927536244,
          0.599000832639467,
          0.5982792117679712,
          0.5987232861504302,
          0.5976686094920899,
          0.5980016652789343,
          0.5991673605328894,
          0.5992228698306966,
          0.5990008326394671,
          0.599000832639467,
          0.5993338884263115,
          0.5993338884263114,
          0.5997224535109631,
          0.5995559256175409,
          0.5992783791285041,
          0.5992228698306967,
          0.5985012489592006,
          0.5988343047460449,
          0.5987787954482376,
          0.6028309741881764,
          0.6027199555925618,
          0.602164862614488,
          0.6016652789342215,
          0.6017207882320289,
          0.6027754648903692,
          0.6126561199000834,
          0.6302525673050235,
          0.6113794060505136,
          0.6025534276991397,
          0.6004995836802665,
          0.5954482375797947,
          0.6011656952539551,
          0.5970580072162088,
          0.596502914238135,
          0.6455731334998611,
          0.6169303358312518,
          0.613766305856231,
          0.6035525950596725,
          0.583902303635859,
          0.599555925617541,
          0.6276436303080767,
          0.598556758257008,
          0.5948376353039133,
          0.5977241187898975,
          0.5927837912850402,
          0.6126561199000834,
          0.5854010546766584,
          0.6034970857618652,
          0.617707466000555,
          0.6223147377185679,
          0.5749653066888704,
          0.5959478212600611,
          0.6427976686094922,
          0.577074660005551,
          0.7759089647515959,
          0.6244796003330557,
          0.6942547876769359,
          0.6850402442409104,
          0.46372467388287536,
          0.5817929503191784,
          0.5810158201498751,
          0.6417429919511518,
          0.6072717180127671,
          0.6094920899250625,
          0.3879544823757979,
          0.5398834304746045,
          0.6301970580072161,
          0.5948931446017208,
          0.5976686094920898,
          0.5311129614210379,
          0.6183180682764363,
          0.7197335553705244,
          0.6103802386899806,
          0.5670274771024145,
          0.5994449070219262,
          0.6038856508465168,
          0.5398834304746045,
          0.6033305578684429,
          0.4640577296697196,
          0.6063835692478491,
          0.622647793505412,
          0.6206494587843464,
          0.6139883430474604,
          0.6081598667776852,
          0.6012212045517625,
          0.6271995559256175,
          0.5714682209270053,
          0.6135442686650013,
          0.5962808770469054,
          0.593616430752151,
          0.6092700527338331,
          0.5917846239245074,
          0.6079378295864557,
          0.5986677768526228,
          0.6143769081321121,
          0.5947266167082986,
          0.6042742159311685,
          0.5917846239245074,
          0.6081598667776853,
          0.5762420205384402,
          0.6459061892867054,
          0.602886483485984,
          0.6193727449347767,
          0.6048848182070496,
          0.6021648626144879,
          0.5745212323064114,
          0.5958923119622537,
          0.5947821260061059,
          0.6223702470163752,
          0.6025534276991397,
          0.618706633361088,
          0.6038301415487095,
          0.5788509575353872,
          0.6009436580627254,
          0.6153760754926451,
          0.6010546766583402,
          0.5973355537052457,
          0.6047737996114348,
          0.502710027100271,
          0.502710027100271,
          0.5020325203252033,
          0.502710027100271,
          0.5031165311653116,
          0.502981029810298,
          0.50420054200542,
          0.5046070460704607,
          0.5051490514905148,
          0.5035230352303522,
          0.5035230352303522,
          0.5032520325203252,
          0.5032520325203251,
          0.5031165311653115,
          0.5028455284552844,
          0.5044715447154471,
          0.5047425474254742,
          0.5036585365853657,
          0.5070460704607045,
          0.5077235772357722,
          0.5071815718157181,
          0.5073170731707316,
          0.5074525745257452,
          0.5070460704607045,
          0.498509485094851,
          0.5051490514905148,
          0.5029810298102981,
          0.5023035230352303,
          0.4941734417344173,
          0.5023035230352303,
          0.4968834688346883,
          0.4981029810298104,
          0.49823848238482393,
          0.4789972899728997,
          0.4928184281842818,
          0.49905149051490516,
          0.4910569105691057,
          0.47994579945799465,
          0.5092140921409214,
          0.4630081300813008,
          0.501219512195122,
          0.5009485094850948,
          0.49485094850948513,
          0.49850948509485093,
          0.498509485094851,
          0.4991869918699187,
          0.49769647696476965,
          0.49742547425474265,
          0.49945799457994583,
          0.5012195121951221,
          0.49769647696476965,
          0.4962059620596207,
          0.49430894308943096,
          0.5021680216802169,
          0.5033875338753387,
          0.402710027100271,
          0.36070460704607044,
          0.40203252032520326,
          0.4689701897018969,
          0.49403794037940385,
          0.4875338753387534,
          0.521680216802168,
          0.48983739837398377,
          0.5317073170731708,
          0.4378048780487804,
          0.523170731707317,
          0.5078590785907857,
          0.5102981029810298,
          0.6425474254742549,
          0.5147696476964769,
          0.5051490514905148,
          0.490650406504065,
          0.48252032520325205,
          0.4856368563685637,
          0.5093495934959349,
          0.5302168021680216,
          0.5092140921409213,
          0.5410569105691055,
          0.5062330623306232,
          0.48631436314363147,
          0.5027100271002709,
          0.5069105691056909,
          0.5070460704607045,
          0.50840108401084,
          0.5193766937669376,
          0.5327913279132791,
          0.5349593495934959,
          0.5131436314363145,
          0.5073170731707316,
          0.49945799457994594,
          0.5089430894308943,
          0.5043360433604336,
          0.5093495934959349,
          0.5046070460704607,
          0.5140921409214093,
          0.5161246612466125,
          0.49430894308943096,
          0.5082655826558263,
          0.49647696476964764,
          0.5051490514905147,
          0.49837398373983743,
          0.4970189701897019,
          0.49756097560975615,
          0.49783197831978326,
          0.49552845528455286,
          0.49607046070460714,
          0.49092140921409216,
          0.5008130081300813,
          0.4978319783197832,
          0.5033875338753387,
          0.4970189701897019,
          0.4962059620596206,
          0.5,
          0.49796747967479676,
          0.4966124661246613,
          0.4971544715447155,
          0.4968834688346884
         ],
         "xaxis": "x",
         "y": [
          0,
          1,
          2,
          3,
          4,
          5,
          6,
          7,
          8,
          9,
          10,
          11,
          12,
          13,
          14,
          15,
          16,
          17,
          18,
          19,
          20,
          21,
          22,
          23,
          24,
          25,
          26,
          27,
          28,
          29,
          30,
          31,
          32,
          33,
          34,
          35,
          36,
          37,
          38,
          39,
          40,
          41,
          42,
          43,
          44,
          45,
          46,
          47,
          48,
          49,
          50,
          51,
          52,
          53,
          54,
          55,
          56,
          57,
          58,
          59,
          60,
          61,
          62,
          63,
          64,
          65,
          66,
          67,
          68,
          69,
          70,
          71,
          72,
          73,
          74,
          75,
          76,
          77,
          78,
          79,
          80,
          81,
          82,
          83,
          84,
          85,
          86,
          87,
          88,
          89,
          90,
          91,
          92,
          93,
          94,
          95,
          96,
          97,
          98,
          99,
          100,
          101,
          102,
          103,
          104,
          105,
          106,
          107,
          108,
          109,
          110,
          111,
          112,
          113,
          114,
          115,
          116,
          0,
          1,
          2,
          3,
          4,
          5,
          6,
          7,
          8,
          9,
          10,
          11,
          12,
          13,
          14,
          15,
          16,
          17,
          18,
          19,
          20,
          21,
          22,
          23,
          24,
          25,
          26,
          27,
          28,
          29,
          30,
          31,
          32,
          33,
          34,
          35,
          36,
          37,
          38,
          39,
          40,
          41,
          42,
          43,
          44,
          45,
          46,
          47,
          48,
          49,
          50,
          51,
          52,
          53,
          54,
          55,
          56,
          57,
          58,
          59,
          60,
          61,
          62,
          63,
          64,
          65,
          66,
          67,
          68,
          69,
          70,
          71,
          72,
          73,
          74,
          75,
          76,
          77,
          78,
          79,
          80,
          81,
          82,
          83,
          84,
          85,
          86,
          87,
          88,
          89,
          90,
          91,
          92,
          93,
          94,
          95,
          96,
          97,
          98,
          99,
          100,
          101,
          102,
          103,
          104,
          105,
          106,
          107,
          108,
          109,
          110,
          111,
          112,
          113,
          114,
          115,
          116,
          0,
          1,
          2,
          3,
          4,
          5,
          6,
          7,
          8,
          9,
          10,
          11,
          12,
          13,
          14,
          15,
          16,
          17,
          18,
          19,
          20,
          21,
          22,
          23,
          24,
          25,
          26,
          27,
          28,
          29,
          30,
          31,
          32,
          33,
          34,
          35,
          36,
          37,
          38,
          39,
          40,
          41,
          42,
          43,
          44,
          45,
          46,
          47,
          48,
          49,
          50,
          51,
          52,
          53,
          54,
          55,
          56,
          57,
          58,
          59,
          60,
          61,
          62,
          63,
          64,
          65,
          66,
          67,
          68,
          69,
          70,
          71,
          72,
          73,
          74,
          75,
          76,
          77,
          78,
          79,
          80,
          81,
          82,
          83,
          84,
          85,
          86,
          87,
          88,
          89,
          90,
          91,
          92,
          93,
          94,
          95,
          96,
          97,
          98,
          99,
          100,
          101,
          102,
          103,
          104,
          105,
          106,
          107,
          108,
          109,
          110,
          111,
          112,
          113,
          114,
          115,
          116,
          0,
          1,
          2,
          3,
          4,
          5,
          6,
          7,
          8,
          9,
          10,
          11,
          12,
          13,
          14,
          15,
          16,
          17,
          18,
          19,
          20,
          21,
          22,
          23,
          24,
          25,
          26,
          27,
          28,
          29,
          30,
          31,
          32,
          33,
          34,
          35,
          36,
          37,
          38,
          39,
          40,
          41,
          42,
          43,
          44,
          45,
          46,
          47,
          48,
          49,
          50,
          51,
          52,
          53,
          54,
          55,
          56,
          57,
          58,
          59,
          60,
          61,
          62,
          63,
          64,
          65,
          66,
          67,
          68,
          69,
          70,
          71,
          72,
          73,
          74,
          75,
          76,
          77,
          78,
          79,
          80,
          81,
          82,
          83,
          84,
          85,
          86,
          87,
          88,
          89,
          90,
          91,
          92,
          93,
          94,
          95,
          96,
          97,
          98,
          99,
          100,
          101,
          102,
          103,
          104,
          105,
          106,
          107,
          108,
          109,
          110,
          111,
          112,
          113,
          114,
          115,
          116,
          0,
          1,
          2,
          3,
          4,
          5,
          6,
          7,
          8,
          9,
          10,
          11,
          12,
          13,
          14,
          15,
          16,
          17,
          18,
          19,
          20,
          21,
          22,
          23,
          24,
          25,
          26,
          27,
          28,
          29,
          30,
          31,
          32,
          33,
          34,
          35,
          36,
          37,
          38,
          39,
          40,
          41,
          42,
          43,
          44,
          45,
          46,
          47,
          48,
          49,
          50,
          51,
          52,
          53,
          54,
          55,
          56,
          57,
          58,
          59,
          60,
          61,
          62,
          63,
          64,
          65,
          66,
          67,
          68,
          69,
          70,
          71,
          72,
          73,
          74,
          75,
          76,
          77,
          78,
          79,
          80,
          81,
          82,
          83,
          84,
          85,
          86,
          87,
          88,
          89,
          90,
          91,
          92,
          93,
          94,
          95,
          96,
          97,
          98,
          99,
          100,
          101,
          102,
          103,
          104,
          105,
          106,
          107,
          108,
          109,
          110,
          111,
          112,
          113,
          114,
          115,
          116,
          0,
          1,
          2,
          3,
          4,
          5,
          6,
          7,
          8,
          9,
          10,
          11,
          12,
          13,
          14,
          15,
          16,
          17,
          18,
          19,
          20,
          21,
          22,
          23,
          24,
          25,
          26,
          27,
          28,
          29,
          30,
          31,
          32,
          33,
          34,
          35,
          36,
          37,
          38,
          39,
          40,
          41,
          42,
          43,
          44,
          45,
          46,
          47,
          48,
          49,
          50,
          51,
          52,
          53,
          54,
          55,
          56,
          57,
          58,
          59,
          60,
          61,
          62,
          63,
          64,
          65,
          66,
          67,
          68,
          69,
          70,
          71,
          72,
          73,
          74,
          75,
          76,
          77,
          78,
          79,
          80,
          81,
          82,
          83,
          84,
          85,
          86,
          87,
          88,
          89,
          90,
          91,
          92,
          93,
          94,
          95,
          96,
          97,
          98,
          99,
          100,
          101,
          102,
          103,
          104,
          105,
          106,
          107,
          108,
          109,
          110,
          111,
          112,
          113,
          114,
          115,
          116
         ],
         "yaxis": "y"
        }
       ],
       "layout": {
        "coloraxis": {
         "colorbar": {
          "title": {
           "text": "Y_lp4"
          }
         },
         "colorscale": [
          [
           0,
           "#0d0887"
          ],
          [
           0.1111111111111111,
           "#46039f"
          ],
          [
           0.2222222222222222,
           "#7201a8"
          ],
          [
           0.3333333333333333,
           "#9c179e"
          ],
          [
           0.4444444444444444,
           "#bd3786"
          ],
          [
           0.5555555555555556,
           "#d8576b"
          ],
          [
           0.6666666666666666,
           "#ed7953"
          ],
          [
           0.7777777777777778,
           "#fb9f3a"
          ],
          [
           0.8888888888888888,
           "#fdca26"
          ],
          [
           1,
           "#f0f921"
          ]
         ]
        },
        "legend": {
         "tracegroupgap": 0
        },
        "margin": {
         "t": 60
        },
        "template": {
         "data": {
          "bar": [
           {
            "error_x": {
             "color": "#2a3f5f"
            },
            "error_y": {
             "color": "#2a3f5f"
            },
            "marker": {
             "line": {
              "color": "#E5ECF6",
              "width": 0.5
             },
             "pattern": {
              "fillmode": "overlay",
              "size": 10,
              "solidity": 0.2
             }
            },
            "type": "bar"
           }
          ],
          "barpolar": [
           {
            "marker": {
             "line": {
              "color": "#E5ECF6",
              "width": 0.5
             },
             "pattern": {
              "fillmode": "overlay",
              "size": 10,
              "solidity": 0.2
             }
            },
            "type": "barpolar"
           }
          ],
          "carpet": [
           {
            "aaxis": {
             "endlinecolor": "#2a3f5f",
             "gridcolor": "white",
             "linecolor": "white",
             "minorgridcolor": "white",
             "startlinecolor": "#2a3f5f"
            },
            "baxis": {
             "endlinecolor": "#2a3f5f",
             "gridcolor": "white",
             "linecolor": "white",
             "minorgridcolor": "white",
             "startlinecolor": "#2a3f5f"
            },
            "type": "carpet"
           }
          ],
          "choropleth": [
           {
            "colorbar": {
             "outlinewidth": 0,
             "ticks": ""
            },
            "type": "choropleth"
           }
          ],
          "contour": [
           {
            "colorbar": {
             "outlinewidth": 0,
             "ticks": ""
            },
            "colorscale": [
             [
              0,
              "#0d0887"
             ],
             [
              0.1111111111111111,
              "#46039f"
             ],
             [
              0.2222222222222222,
              "#7201a8"
             ],
             [
              0.3333333333333333,
              "#9c179e"
             ],
             [
              0.4444444444444444,
              "#bd3786"
             ],
             [
              0.5555555555555556,
              "#d8576b"
             ],
             [
              0.6666666666666666,
              "#ed7953"
             ],
             [
              0.7777777777777778,
              "#fb9f3a"
             ],
             [
              0.8888888888888888,
              "#fdca26"
             ],
             [
              1,
              "#f0f921"
             ]
            ],
            "type": "contour"
           }
          ],
          "contourcarpet": [
           {
            "colorbar": {
             "outlinewidth": 0,
             "ticks": ""
            },
            "type": "contourcarpet"
           }
          ],
          "heatmap": [
           {
            "colorbar": {
             "outlinewidth": 0,
             "ticks": ""
            },
            "colorscale": [
             [
              0,
              "#0d0887"
             ],
             [
              0.1111111111111111,
              "#46039f"
             ],
             [
              0.2222222222222222,
              "#7201a8"
             ],
             [
              0.3333333333333333,
              "#9c179e"
             ],
             [
              0.4444444444444444,
              "#bd3786"
             ],
             [
              0.5555555555555556,
              "#d8576b"
             ],
             [
              0.6666666666666666,
              "#ed7953"
             ],
             [
              0.7777777777777778,
              "#fb9f3a"
             ],
             [
              0.8888888888888888,
              "#fdca26"
             ],
             [
              1,
              "#f0f921"
             ]
            ],
            "type": "heatmap"
           }
          ],
          "heatmapgl": [
           {
            "colorbar": {
             "outlinewidth": 0,
             "ticks": ""
            },
            "colorscale": [
             [
              0,
              "#0d0887"
             ],
             [
              0.1111111111111111,
              "#46039f"
             ],
             [
              0.2222222222222222,
              "#7201a8"
             ],
             [
              0.3333333333333333,
              "#9c179e"
             ],
             [
              0.4444444444444444,
              "#bd3786"
             ],
             [
              0.5555555555555556,
              "#d8576b"
             ],
             [
              0.6666666666666666,
              "#ed7953"
             ],
             [
              0.7777777777777778,
              "#fb9f3a"
             ],
             [
              0.8888888888888888,
              "#fdca26"
             ],
             [
              1,
              "#f0f921"
             ]
            ],
            "type": "heatmapgl"
           }
          ],
          "histogram": [
           {
            "marker": {
             "pattern": {
              "fillmode": "overlay",
              "size": 10,
              "solidity": 0.2
             }
            },
            "type": "histogram"
           }
          ],
          "histogram2d": [
           {
            "colorbar": {
             "outlinewidth": 0,
             "ticks": ""
            },
            "colorscale": [
             [
              0,
              "#0d0887"
             ],
             [
              0.1111111111111111,
              "#46039f"
             ],
             [
              0.2222222222222222,
              "#7201a8"
             ],
             [
              0.3333333333333333,
              "#9c179e"
             ],
             [
              0.4444444444444444,
              "#bd3786"
             ],
             [
              0.5555555555555556,
              "#d8576b"
             ],
             [
              0.6666666666666666,
              "#ed7953"
             ],
             [
              0.7777777777777778,
              "#fb9f3a"
             ],
             [
              0.8888888888888888,
              "#fdca26"
             ],
             [
              1,
              "#f0f921"
             ]
            ],
            "type": "histogram2d"
           }
          ],
          "histogram2dcontour": [
           {
            "colorbar": {
             "outlinewidth": 0,
             "ticks": ""
            },
            "colorscale": [
             [
              0,
              "#0d0887"
             ],
             [
              0.1111111111111111,
              "#46039f"
             ],
             [
              0.2222222222222222,
              "#7201a8"
             ],
             [
              0.3333333333333333,
              "#9c179e"
             ],
             [
              0.4444444444444444,
              "#bd3786"
             ],
             [
              0.5555555555555556,
              "#d8576b"
             ],
             [
              0.6666666666666666,
              "#ed7953"
             ],
             [
              0.7777777777777778,
              "#fb9f3a"
             ],
             [
              0.8888888888888888,
              "#fdca26"
             ],
             [
              1,
              "#f0f921"
             ]
            ],
            "type": "histogram2dcontour"
           }
          ],
          "mesh3d": [
           {
            "colorbar": {
             "outlinewidth": 0,
             "ticks": ""
            },
            "type": "mesh3d"
           }
          ],
          "parcoords": [
           {
            "line": {
             "colorbar": {
              "outlinewidth": 0,
              "ticks": ""
             }
            },
            "type": "parcoords"
           }
          ],
          "pie": [
           {
            "automargin": true,
            "type": "pie"
           }
          ],
          "scatter": [
           {
            "fillpattern": {
             "fillmode": "overlay",
             "size": 10,
             "solidity": 0.2
            },
            "type": "scatter"
           }
          ],
          "scatter3d": [
           {
            "line": {
             "colorbar": {
              "outlinewidth": 0,
              "ticks": ""
             }
            },
            "marker": {
             "colorbar": {
              "outlinewidth": 0,
              "ticks": ""
             }
            },
            "type": "scatter3d"
           }
          ],
          "scattercarpet": [
           {
            "marker": {
             "colorbar": {
              "outlinewidth": 0,
              "ticks": ""
             }
            },
            "type": "scattercarpet"
           }
          ],
          "scattergeo": [
           {
            "marker": {
             "colorbar": {
              "outlinewidth": 0,
              "ticks": ""
             }
            },
            "type": "scattergeo"
           }
          ],
          "scattergl": [
           {
            "marker": {
             "colorbar": {
              "outlinewidth": 0,
              "ticks": ""
             }
            },
            "type": "scattergl"
           }
          ],
          "scattermapbox": [
           {
            "marker": {
             "colorbar": {
              "outlinewidth": 0,
              "ticks": ""
             }
            },
            "type": "scattermapbox"
           }
          ],
          "scatterpolar": [
           {
            "marker": {
             "colorbar": {
              "outlinewidth": 0,
              "ticks": ""
             }
            },
            "type": "scatterpolar"
           }
          ],
          "scatterpolargl": [
           {
            "marker": {
             "colorbar": {
              "outlinewidth": 0,
              "ticks": ""
             }
            },
            "type": "scatterpolargl"
           }
          ],
          "scatterternary": [
           {
            "marker": {
             "colorbar": {
              "outlinewidth": 0,
              "ticks": ""
             }
            },
            "type": "scatterternary"
           }
          ],
          "surface": [
           {
            "colorbar": {
             "outlinewidth": 0,
             "ticks": ""
            },
            "colorscale": [
             [
              0,
              "#0d0887"
             ],
             [
              0.1111111111111111,
              "#46039f"
             ],
             [
              0.2222222222222222,
              "#7201a8"
             ],
             [
              0.3333333333333333,
              "#9c179e"
             ],
             [
              0.4444444444444444,
              "#bd3786"
             ],
             [
              0.5555555555555556,
              "#d8576b"
             ],
             [
              0.6666666666666666,
              "#ed7953"
             ],
             [
              0.7777777777777778,
              "#fb9f3a"
             ],
             [
              0.8888888888888888,
              "#fdca26"
             ],
             [
              1,
              "#f0f921"
             ]
            ],
            "type": "surface"
           }
          ],
          "table": [
           {
            "cells": {
             "fill": {
              "color": "#EBF0F8"
             },
             "line": {
              "color": "white"
             }
            },
            "header": {
             "fill": {
              "color": "#C8D4E3"
             },
             "line": {
              "color": "white"
             }
            },
            "type": "table"
           }
          ]
         },
         "layout": {
          "annotationdefaults": {
           "arrowcolor": "#2a3f5f",
           "arrowhead": 0,
           "arrowwidth": 1
          },
          "autotypenumbers": "strict",
          "coloraxis": {
           "colorbar": {
            "outlinewidth": 0,
            "ticks": ""
           }
          },
          "colorscale": {
           "diverging": [
            [
             0,
             "#8e0152"
            ],
            [
             0.1,
             "#c51b7d"
            ],
            [
             0.2,
             "#de77ae"
            ],
            [
             0.3,
             "#f1b6da"
            ],
            [
             0.4,
             "#fde0ef"
            ],
            [
             0.5,
             "#f7f7f7"
            ],
            [
             0.6,
             "#e6f5d0"
            ],
            [
             0.7,
             "#b8e186"
            ],
            [
             0.8,
             "#7fbc41"
            ],
            [
             0.9,
             "#4d9221"
            ],
            [
             1,
             "#276419"
            ]
           ],
           "sequential": [
            [
             0,
             "#0d0887"
            ],
            [
             0.1111111111111111,
             "#46039f"
            ],
            [
             0.2222222222222222,
             "#7201a8"
            ],
            [
             0.3333333333333333,
             "#9c179e"
            ],
            [
             0.4444444444444444,
             "#bd3786"
            ],
            [
             0.5555555555555556,
             "#d8576b"
            ],
            [
             0.6666666666666666,
             "#ed7953"
            ],
            [
             0.7777777777777778,
             "#fb9f3a"
            ],
            [
             0.8888888888888888,
             "#fdca26"
            ],
            [
             1,
             "#f0f921"
            ]
           ],
           "sequentialminus": [
            [
             0,
             "#0d0887"
            ],
            [
             0.1111111111111111,
             "#46039f"
            ],
            [
             0.2222222222222222,
             "#7201a8"
            ],
            [
             0.3333333333333333,
             "#9c179e"
            ],
            [
             0.4444444444444444,
             "#bd3786"
            ],
            [
             0.5555555555555556,
             "#d8576b"
            ],
            [
             0.6666666666666666,
             "#ed7953"
            ],
            [
             0.7777777777777778,
             "#fb9f3a"
            ],
            [
             0.8888888888888888,
             "#fdca26"
            ],
            [
             1,
             "#f0f921"
            ]
           ]
          },
          "colorway": [
           "#636efa",
           "#EF553B",
           "#00cc96",
           "#ab63fa",
           "#FFA15A",
           "#19d3f3",
           "#FF6692",
           "#B6E880",
           "#FF97FF",
           "#FECB52"
          ],
          "font": {
           "color": "#2a3f5f"
          },
          "geo": {
           "bgcolor": "white",
           "lakecolor": "white",
           "landcolor": "#E5ECF6",
           "showlakes": true,
           "showland": true,
           "subunitcolor": "white"
          },
          "hoverlabel": {
           "align": "left"
          },
          "hovermode": "closest",
          "mapbox": {
           "style": "light"
          },
          "paper_bgcolor": "white",
          "plot_bgcolor": "#E5ECF6",
          "polar": {
           "angularaxis": {
            "gridcolor": "white",
            "linecolor": "white",
            "ticks": ""
           },
           "bgcolor": "#E5ECF6",
           "radialaxis": {
            "gridcolor": "white",
            "linecolor": "white",
            "ticks": ""
           }
          },
          "scene": {
           "xaxis": {
            "backgroundcolor": "#E5ECF6",
            "gridcolor": "white",
            "gridwidth": 2,
            "linecolor": "white",
            "showbackground": true,
            "ticks": "",
            "zerolinecolor": "white"
           },
           "yaxis": {
            "backgroundcolor": "#E5ECF6",
            "gridcolor": "white",
            "gridwidth": 2,
            "linecolor": "white",
            "showbackground": true,
            "ticks": "",
            "zerolinecolor": "white"
           },
           "zaxis": {
            "backgroundcolor": "#E5ECF6",
            "gridcolor": "white",
            "gridwidth": 2,
            "linecolor": "white",
            "showbackground": true,
            "ticks": "",
            "zerolinecolor": "white"
           }
          },
          "shapedefaults": {
           "line": {
            "color": "#2a3f5f"
           }
          },
          "ternary": {
           "aaxis": {
            "gridcolor": "white",
            "linecolor": "white",
            "ticks": ""
           },
           "baxis": {
            "gridcolor": "white",
            "linecolor": "white",
            "ticks": ""
           },
           "bgcolor": "#E5ECF6",
           "caxis": {
            "gridcolor": "white",
            "linecolor": "white",
            "ticks": ""
           }
          },
          "title": {
           "x": 0.05
          },
          "xaxis": {
           "automargin": true,
           "gridcolor": "white",
           "linecolor": "white",
           "ticks": "",
           "title": {
            "standoff": 15
           },
           "zerolinecolor": "white",
           "zerolinewidth": 2
          },
          "yaxis": {
           "automargin": true,
           "gridcolor": "white",
           "linecolor": "white",
           "ticks": "",
           "title": {
            "standoff": 15
           },
           "zerolinecolor": "white",
           "zerolinewidth": 2
          }
         }
        },
        "xaxis": {
         "anchor": "y",
         "domain": [
          0,
          1
         ],
         "title": {
          "text": "value"
         }
        },
        "yaxis": {
         "anchor": "x",
         "domain": [
          0,
          1
         ],
         "title": {
          "text": "index"
         }
        }
       }
      }
     },
     "metadata": {},
     "output_type": "display_data"
    }
   ],
   "source": [
    "plty.scatter(X_lp4_df, x = [\"Fx_lp4\", \"Fy_lp4\", \"Fz_lp4\", \"Tx_lp4\", \"Ty_lp4\", \"Tz_lp4\"],   color= \"Y_lp4\")"
   ]
  },
  {
   "attachments": {},
   "cell_type": "markdown",
   "metadata": {},
   "source": [
    "Boxplot"
   ]
  },
  {
   "cell_type": "code",
   "execution_count": 26,
   "metadata": {},
   "outputs": [
    {
     "data": {
      "application/vnd.plotly.v1+json": {
       "config": {
        "plotlyServerURL": "https://plot.ly"
       },
       "data": [
        {
         "alignmentgroup": "True",
         "hovertemplate": "value=%{x}<br>variable=%{y}<extra></extra>",
         "legendgroup": "",
         "marker": {
          "color": "#636efa"
         },
         "name": "",
         "notched": false,
         "offsetgroup": "",
         "orientation": "h",
         "showlegend": false,
         "type": "box",
         "x": [
          0.005134240007518187,
          0.005515341801324312,
          0.006023105560265316,
          0.005280024386928998,
          0.005389840334667157,
          0.005077099302188691,
          0.0045892950924627685,
          0.005225920959048941,
          0.005298878369657438,
          0.004215391379712822,
          0.004067252969272633,
          0.004643895992714672,
          0.0040336586770399726,
          0.003961207612861684,
          0.003815665067065424,
          0.004706157565585694,
          0.0049390502113288255,
          0.005278724486716565,
          0.0026083443882360382,
          0.001968421225726162,
          0.002034957943667252,
          0.0017817087440151489,
          0.0019886476215442883,
          0.0021520907937674066,
          0.007293297520491684,
          0.01084968896277208,
          0.004142694197424506,
          0.004286932786039213,
          0.002917727344333675,
          0.00337966074290464,
          0.0028485118774949896,
          0.003214401665110678,
          0.0041320004868657546,
          0.008293517311237416,
          0.018514675695987734,
          0.005914198686400301,
          0.004883983142116918,
          0.00823976688510203,
          0.003482585514337667,
          0.01324610633352305,
          0.004858313765306109,
          0.0054451272524909155,
          0.014239480562464284,
          0.006643198863660019,
          0.007293297520491684,
          0.008178506534752385,
          0.002149821622266424,
          0.004218020337641327,
          0.005463451153245239,
          0.008747010097286506,
          0.0043311038483159646,
          0.01242802563267923,
          0.008657380797652487,
          0.6362843445440131,
          0.03633375212810425,
          0.23114979632322952,
          0.15779429066577383,
          0.25943660425853843,
          0.6769664162003142,
          0.07530068588578251,
          0.07617394883659735,
          0.059624692879567245,
          0.31501764953601,
          0.27970778939781266,
          0.20597098041466283,
          0.14059969916666754,
          0.008864793452755643,
          0.043267094767220016,
          0.2826055876295244,
          0.006976085912970738,
          0.30017144486911446,
          0.04543302890145833,
          0.15636919262081053,
          0.02538019569116453,
          0.009325905424541057,
          0.26122870930161607,
          0.001863422954344821,
          0.2171894543140502,
          0.003084226392975217,
          0.2728356551665806,
          0.04100903019780933,
          0.023118104115426755,
          0.02210295403657412,
          0.008668033294917932,
          0.056103042444826313,
          0.12414561721316879,
          0.21141020861742324,
          0.006607959718082933,
          0.0057625443631581464,
          0.020016231131464723,
          0.005361442387345198,
          0.014900839546213377,
          0.004773835943031809,
          0.014519827560881498,
          0.006381202419891074,
          0.010020253741516421,
          0.12260540976071503,
          0.004333840906360347,
          0.06107333023232009,
          0.023892419324552015,
          0.003639067557077341,
          0.005867931185968677,
          0.0023649480163243828,
          0.001830296932513689,
          0.009720507905899187,
          0.002691704171746335,
          0.0031326325918891525,
          0.006366360647837587,
          0.003065291717155179,
          0.007853420200763208,
          0.0039015348559917067,
          0.011120779078025712,
          0.002534442049192039,
          0.003754165628123676,
          0.0023926411731429466,
          0.003568213542580036,
          0.0018509896670844109,
          0.006448445096943829,
          0.0069375944623007975,
          0.006008372761446135,
          0.007035782702070204,
          0.00664541529603499,
          0.005273716803916392,
          0.005856259326749629,
          0.005379311698366395,
          0.00588466500832326,
          0.004433170587005032,
          0.0043686230875485624,
          0.003942051136159883,
          0.00402149547511931,
          0.00431026224725638,
          0.00443076225177593,
          0.00608546934795342,
          0.004989542349839758,
          0.005621869506052281,
          0.004842303847358888,
          0.003804208168578853,
          0.004716348848283798,
          0.004500318261343879,
          0.005009054636648534,
          0.003674976387510227,
          0.017503371477693253,
          0.03240374439750722,
          0.015342076292549505,
          0.01022273940409643,
          0.01088327435790402,
          0.010867922013401816,
          0.011215724994178595,
          0.009483702768085255,
          0.011483846641966717,
          0.05993950895296869,
          0.03704153649440831,
          0.03581408022271918,
          0.019268982004201452,
          0.06276380291291395,
          0.02004346434082939,
          0.09683852668900124,
          0.008118604398739782,
          0.010384950508155305,
          0.027305525451502676,
          0.021577968249653075,
          0.017503371477693253,
          0.02972833547753872,
          0.008155782868489734,
          0.01904068362821839,
          0.02426507474636261,
          0.04442741092775073,
          0.01435532618079991,
          0.05379544075080251,
          0.03655297435594994,
          0.22928873942862193,
          0.0501861725942713,
          0.17629687657145812,
          0.12603598347643719,
          0.23042970572881552,
          0.11763912754763409,
          0.0882523256410878,
          0.11791950377711301,
          0.09927252556986962,
          0.13658435712356212,
          0.25274714708232715,
          0.11693138921044323,
          0.11777693693565026,
          0.015380840497370034,
          0.03481835085421865,
          0.2814131581292878,
          0.022770827773274604,
          0.14624118834486752,
          0.03344828831556653,
          0.11181591468420302,
          0.03038452676965469,
          0.006572059840609577,
          0.12749386453945624,
          0.005040203496814222,
          0.1795273498874792,
          0.008173892120736383,
          0.0565243155316669,
          0.02427454676954426,
          0.015042038701949041,
          0.008681413552250095,
          0.005333130482744661,
          0.05958436510134248,
          0.09945146888113691,
          0.09266434045157333,
          0.01324938374268307,
          0.022762956237507445,
          0.020828447072839394,
          0.015044507036733174,
          0.009336791729986138,
          0.007600766165965847,
          0.018278673964860218,
          0.014385598352284446,
          0.02415335781337547,
          0.06277698820755159,
          0.005774914380277618,
          0.047409502003678446,
          0.07381466216766032,
          0.0045116331228030136,
          0.024865631487068187,
          0.010594235386360226,
          0.0037821299306768775,
          0.04082159206533945,
          0.009500908911680822,
          0.01754937567129779,
          0.03149527077237166,
          0.009976221604921643,
          0.025103428324177376,
          0.01538511487908269,
          0.044378039902072425,
          0.009554073214763212,
          0.015172914591371454,
          0.007095746068186046,
          0.013565101469243756,
          0.007259693708429954
         ],
         "x0": " ",
         "xaxis": "x",
         "y": [
          "F_lp4",
          "F_lp4",
          "F_lp4",
          "F_lp4",
          "F_lp4",
          "F_lp4",
          "F_lp4",
          "F_lp4",
          "F_lp4",
          "F_lp4",
          "F_lp4",
          "F_lp4",
          "F_lp4",
          "F_lp4",
          "F_lp4",
          "F_lp4",
          "F_lp4",
          "F_lp4",
          "F_lp4",
          "F_lp4",
          "F_lp4",
          "F_lp4",
          "F_lp4",
          "F_lp4",
          "F_lp4",
          "F_lp4",
          "F_lp4",
          "F_lp4",
          "F_lp4",
          "F_lp4",
          "F_lp4",
          "F_lp4",
          "F_lp4",
          "F_lp4",
          "F_lp4",
          "F_lp4",
          "F_lp4",
          "F_lp4",
          "F_lp4",
          "F_lp4",
          "F_lp4",
          "F_lp4",
          "F_lp4",
          "F_lp4",
          "F_lp4",
          "F_lp4",
          "F_lp4",
          "F_lp4",
          "F_lp4",
          "F_lp4",
          "F_lp4",
          "F_lp4",
          "F_lp4",
          "F_lp4",
          "F_lp4",
          "F_lp4",
          "F_lp4",
          "F_lp4",
          "F_lp4",
          "F_lp4",
          "F_lp4",
          "F_lp4",
          "F_lp4",
          "F_lp4",
          "F_lp4",
          "F_lp4",
          "F_lp4",
          "F_lp4",
          "F_lp4",
          "F_lp4",
          "F_lp4",
          "F_lp4",
          "F_lp4",
          "F_lp4",
          "F_lp4",
          "F_lp4",
          "F_lp4",
          "F_lp4",
          "F_lp4",
          "F_lp4",
          "F_lp4",
          "F_lp4",
          "F_lp4",
          "F_lp4",
          "F_lp4",
          "F_lp4",
          "F_lp4",
          "F_lp4",
          "F_lp4",
          "F_lp4",
          "F_lp4",
          "F_lp4",
          "F_lp4",
          "F_lp4",
          "F_lp4",
          "F_lp4",
          "F_lp4",
          "F_lp4",
          "F_lp4",
          "F_lp4",
          "F_lp4",
          "F_lp4",
          "F_lp4",
          "F_lp4",
          "F_lp4",
          "F_lp4",
          "F_lp4",
          "F_lp4",
          "F_lp4",
          "F_lp4",
          "F_lp4",
          "F_lp4",
          "F_lp4",
          "F_lp4",
          "F_lp4",
          "F_lp4",
          "F_lp4",
          "T_lp4",
          "T_lp4",
          "T_lp4",
          "T_lp4",
          "T_lp4",
          "T_lp4",
          "T_lp4",
          "T_lp4",
          "T_lp4",
          "T_lp4",
          "T_lp4",
          "T_lp4",
          "T_lp4",
          "T_lp4",
          "T_lp4",
          "T_lp4",
          "T_lp4",
          "T_lp4",
          "T_lp4",
          "T_lp4",
          "T_lp4",
          "T_lp4",
          "T_lp4",
          "T_lp4",
          "T_lp4",
          "T_lp4",
          "T_lp4",
          "T_lp4",
          "T_lp4",
          "T_lp4",
          "T_lp4",
          "T_lp4",
          "T_lp4",
          "T_lp4",
          "T_lp4",
          "T_lp4",
          "T_lp4",
          "T_lp4",
          "T_lp4",
          "T_lp4",
          "T_lp4",
          "T_lp4",
          "T_lp4",
          "T_lp4",
          "T_lp4",
          "T_lp4",
          "T_lp4",
          "T_lp4",
          "T_lp4",
          "T_lp4",
          "T_lp4",
          "T_lp4",
          "T_lp4",
          "T_lp4",
          "T_lp4",
          "T_lp4",
          "T_lp4",
          "T_lp4",
          "T_lp4",
          "T_lp4",
          "T_lp4",
          "T_lp4",
          "T_lp4",
          "T_lp4",
          "T_lp4",
          "T_lp4",
          "T_lp4",
          "T_lp4",
          "T_lp4",
          "T_lp4",
          "T_lp4",
          "T_lp4",
          "T_lp4",
          "T_lp4",
          "T_lp4",
          "T_lp4",
          "T_lp4",
          "T_lp4",
          "T_lp4",
          "T_lp4",
          "T_lp4",
          "T_lp4",
          "T_lp4",
          "T_lp4",
          "T_lp4",
          "T_lp4",
          "T_lp4",
          "T_lp4",
          "T_lp4",
          "T_lp4",
          "T_lp4",
          "T_lp4",
          "T_lp4",
          "T_lp4",
          "T_lp4",
          "T_lp4",
          "T_lp4",
          "T_lp4",
          "T_lp4",
          "T_lp4",
          "T_lp4",
          "T_lp4",
          "T_lp4",
          "T_lp4",
          "T_lp4",
          "T_lp4",
          "T_lp4",
          "T_lp4",
          "T_lp4",
          "T_lp4",
          "T_lp4",
          "T_lp4",
          "T_lp4",
          "T_lp4",
          "T_lp4",
          "T_lp4",
          "T_lp4"
         ],
         "y0": " ",
         "yaxis": "y"
        }
       ],
       "layout": {
        "boxmode": "group",
        "legend": {
         "tracegroupgap": 0
        },
        "margin": {
         "t": 60
        },
        "template": {
         "data": {
          "bar": [
           {
            "error_x": {
             "color": "#2a3f5f"
            },
            "error_y": {
             "color": "#2a3f5f"
            },
            "marker": {
             "line": {
              "color": "#E5ECF6",
              "width": 0.5
             },
             "pattern": {
              "fillmode": "overlay",
              "size": 10,
              "solidity": 0.2
             }
            },
            "type": "bar"
           }
          ],
          "barpolar": [
           {
            "marker": {
             "line": {
              "color": "#E5ECF6",
              "width": 0.5
             },
             "pattern": {
              "fillmode": "overlay",
              "size": 10,
              "solidity": 0.2
             }
            },
            "type": "barpolar"
           }
          ],
          "carpet": [
           {
            "aaxis": {
             "endlinecolor": "#2a3f5f",
             "gridcolor": "white",
             "linecolor": "white",
             "minorgridcolor": "white",
             "startlinecolor": "#2a3f5f"
            },
            "baxis": {
             "endlinecolor": "#2a3f5f",
             "gridcolor": "white",
             "linecolor": "white",
             "minorgridcolor": "white",
             "startlinecolor": "#2a3f5f"
            },
            "type": "carpet"
           }
          ],
          "choropleth": [
           {
            "colorbar": {
             "outlinewidth": 0,
             "ticks": ""
            },
            "type": "choropleth"
           }
          ],
          "contour": [
           {
            "colorbar": {
             "outlinewidth": 0,
             "ticks": ""
            },
            "colorscale": [
             [
              0,
              "#0d0887"
             ],
             [
              0.1111111111111111,
              "#46039f"
             ],
             [
              0.2222222222222222,
              "#7201a8"
             ],
             [
              0.3333333333333333,
              "#9c179e"
             ],
             [
              0.4444444444444444,
              "#bd3786"
             ],
             [
              0.5555555555555556,
              "#d8576b"
             ],
             [
              0.6666666666666666,
              "#ed7953"
             ],
             [
              0.7777777777777778,
              "#fb9f3a"
             ],
             [
              0.8888888888888888,
              "#fdca26"
             ],
             [
              1,
              "#f0f921"
             ]
            ],
            "type": "contour"
           }
          ],
          "contourcarpet": [
           {
            "colorbar": {
             "outlinewidth": 0,
             "ticks": ""
            },
            "type": "contourcarpet"
           }
          ],
          "heatmap": [
           {
            "colorbar": {
             "outlinewidth": 0,
             "ticks": ""
            },
            "colorscale": [
             [
              0,
              "#0d0887"
             ],
             [
              0.1111111111111111,
              "#46039f"
             ],
             [
              0.2222222222222222,
              "#7201a8"
             ],
             [
              0.3333333333333333,
              "#9c179e"
             ],
             [
              0.4444444444444444,
              "#bd3786"
             ],
             [
              0.5555555555555556,
              "#d8576b"
             ],
             [
              0.6666666666666666,
              "#ed7953"
             ],
             [
              0.7777777777777778,
              "#fb9f3a"
             ],
             [
              0.8888888888888888,
              "#fdca26"
             ],
             [
              1,
              "#f0f921"
             ]
            ],
            "type": "heatmap"
           }
          ],
          "heatmapgl": [
           {
            "colorbar": {
             "outlinewidth": 0,
             "ticks": ""
            },
            "colorscale": [
             [
              0,
              "#0d0887"
             ],
             [
              0.1111111111111111,
              "#46039f"
             ],
             [
              0.2222222222222222,
              "#7201a8"
             ],
             [
              0.3333333333333333,
              "#9c179e"
             ],
             [
              0.4444444444444444,
              "#bd3786"
             ],
             [
              0.5555555555555556,
              "#d8576b"
             ],
             [
              0.6666666666666666,
              "#ed7953"
             ],
             [
              0.7777777777777778,
              "#fb9f3a"
             ],
             [
              0.8888888888888888,
              "#fdca26"
             ],
             [
              1,
              "#f0f921"
             ]
            ],
            "type": "heatmapgl"
           }
          ],
          "histogram": [
           {
            "marker": {
             "pattern": {
              "fillmode": "overlay",
              "size": 10,
              "solidity": 0.2
             }
            },
            "type": "histogram"
           }
          ],
          "histogram2d": [
           {
            "colorbar": {
             "outlinewidth": 0,
             "ticks": ""
            },
            "colorscale": [
             [
              0,
              "#0d0887"
             ],
             [
              0.1111111111111111,
              "#46039f"
             ],
             [
              0.2222222222222222,
              "#7201a8"
             ],
             [
              0.3333333333333333,
              "#9c179e"
             ],
             [
              0.4444444444444444,
              "#bd3786"
             ],
             [
              0.5555555555555556,
              "#d8576b"
             ],
             [
              0.6666666666666666,
              "#ed7953"
             ],
             [
              0.7777777777777778,
              "#fb9f3a"
             ],
             [
              0.8888888888888888,
              "#fdca26"
             ],
             [
              1,
              "#f0f921"
             ]
            ],
            "type": "histogram2d"
           }
          ],
          "histogram2dcontour": [
           {
            "colorbar": {
             "outlinewidth": 0,
             "ticks": ""
            },
            "colorscale": [
             [
              0,
              "#0d0887"
             ],
             [
              0.1111111111111111,
              "#46039f"
             ],
             [
              0.2222222222222222,
              "#7201a8"
             ],
             [
              0.3333333333333333,
              "#9c179e"
             ],
             [
              0.4444444444444444,
              "#bd3786"
             ],
             [
              0.5555555555555556,
              "#d8576b"
             ],
             [
              0.6666666666666666,
              "#ed7953"
             ],
             [
              0.7777777777777778,
              "#fb9f3a"
             ],
             [
              0.8888888888888888,
              "#fdca26"
             ],
             [
              1,
              "#f0f921"
             ]
            ],
            "type": "histogram2dcontour"
           }
          ],
          "mesh3d": [
           {
            "colorbar": {
             "outlinewidth": 0,
             "ticks": ""
            },
            "type": "mesh3d"
           }
          ],
          "parcoords": [
           {
            "line": {
             "colorbar": {
              "outlinewidth": 0,
              "ticks": ""
             }
            },
            "type": "parcoords"
           }
          ],
          "pie": [
           {
            "automargin": true,
            "type": "pie"
           }
          ],
          "scatter": [
           {
            "fillpattern": {
             "fillmode": "overlay",
             "size": 10,
             "solidity": 0.2
            },
            "type": "scatter"
           }
          ],
          "scatter3d": [
           {
            "line": {
             "colorbar": {
              "outlinewidth": 0,
              "ticks": ""
             }
            },
            "marker": {
             "colorbar": {
              "outlinewidth": 0,
              "ticks": ""
             }
            },
            "type": "scatter3d"
           }
          ],
          "scattercarpet": [
           {
            "marker": {
             "colorbar": {
              "outlinewidth": 0,
              "ticks": ""
             }
            },
            "type": "scattercarpet"
           }
          ],
          "scattergeo": [
           {
            "marker": {
             "colorbar": {
              "outlinewidth": 0,
              "ticks": ""
             }
            },
            "type": "scattergeo"
           }
          ],
          "scattergl": [
           {
            "marker": {
             "colorbar": {
              "outlinewidth": 0,
              "ticks": ""
             }
            },
            "type": "scattergl"
           }
          ],
          "scattermapbox": [
           {
            "marker": {
             "colorbar": {
              "outlinewidth": 0,
              "ticks": ""
             }
            },
            "type": "scattermapbox"
           }
          ],
          "scatterpolar": [
           {
            "marker": {
             "colorbar": {
              "outlinewidth": 0,
              "ticks": ""
             }
            },
            "type": "scatterpolar"
           }
          ],
          "scatterpolargl": [
           {
            "marker": {
             "colorbar": {
              "outlinewidth": 0,
              "ticks": ""
             }
            },
            "type": "scatterpolargl"
           }
          ],
          "scatterternary": [
           {
            "marker": {
             "colorbar": {
              "outlinewidth": 0,
              "ticks": ""
             }
            },
            "type": "scatterternary"
           }
          ],
          "surface": [
           {
            "colorbar": {
             "outlinewidth": 0,
             "ticks": ""
            },
            "colorscale": [
             [
              0,
              "#0d0887"
             ],
             [
              0.1111111111111111,
              "#46039f"
             ],
             [
              0.2222222222222222,
              "#7201a8"
             ],
             [
              0.3333333333333333,
              "#9c179e"
             ],
             [
              0.4444444444444444,
              "#bd3786"
             ],
             [
              0.5555555555555556,
              "#d8576b"
             ],
             [
              0.6666666666666666,
              "#ed7953"
             ],
             [
              0.7777777777777778,
              "#fb9f3a"
             ],
             [
              0.8888888888888888,
              "#fdca26"
             ],
             [
              1,
              "#f0f921"
             ]
            ],
            "type": "surface"
           }
          ],
          "table": [
           {
            "cells": {
             "fill": {
              "color": "#EBF0F8"
             },
             "line": {
              "color": "white"
             }
            },
            "header": {
             "fill": {
              "color": "#C8D4E3"
             },
             "line": {
              "color": "white"
             }
            },
            "type": "table"
           }
          ]
         },
         "layout": {
          "annotationdefaults": {
           "arrowcolor": "#2a3f5f",
           "arrowhead": 0,
           "arrowwidth": 1
          },
          "autotypenumbers": "strict",
          "coloraxis": {
           "colorbar": {
            "outlinewidth": 0,
            "ticks": ""
           }
          },
          "colorscale": {
           "diverging": [
            [
             0,
             "#8e0152"
            ],
            [
             0.1,
             "#c51b7d"
            ],
            [
             0.2,
             "#de77ae"
            ],
            [
             0.3,
             "#f1b6da"
            ],
            [
             0.4,
             "#fde0ef"
            ],
            [
             0.5,
             "#f7f7f7"
            ],
            [
             0.6,
             "#e6f5d0"
            ],
            [
             0.7,
             "#b8e186"
            ],
            [
             0.8,
             "#7fbc41"
            ],
            [
             0.9,
             "#4d9221"
            ],
            [
             1,
             "#276419"
            ]
           ],
           "sequential": [
            [
             0,
             "#0d0887"
            ],
            [
             0.1111111111111111,
             "#46039f"
            ],
            [
             0.2222222222222222,
             "#7201a8"
            ],
            [
             0.3333333333333333,
             "#9c179e"
            ],
            [
             0.4444444444444444,
             "#bd3786"
            ],
            [
             0.5555555555555556,
             "#d8576b"
            ],
            [
             0.6666666666666666,
             "#ed7953"
            ],
            [
             0.7777777777777778,
             "#fb9f3a"
            ],
            [
             0.8888888888888888,
             "#fdca26"
            ],
            [
             1,
             "#f0f921"
            ]
           ],
           "sequentialminus": [
            [
             0,
             "#0d0887"
            ],
            [
             0.1111111111111111,
             "#46039f"
            ],
            [
             0.2222222222222222,
             "#7201a8"
            ],
            [
             0.3333333333333333,
             "#9c179e"
            ],
            [
             0.4444444444444444,
             "#bd3786"
            ],
            [
             0.5555555555555556,
             "#d8576b"
            ],
            [
             0.6666666666666666,
             "#ed7953"
            ],
            [
             0.7777777777777778,
             "#fb9f3a"
            ],
            [
             0.8888888888888888,
             "#fdca26"
            ],
            [
             1,
             "#f0f921"
            ]
           ]
          },
          "colorway": [
           "#636efa",
           "#EF553B",
           "#00cc96",
           "#ab63fa",
           "#FFA15A",
           "#19d3f3",
           "#FF6692",
           "#B6E880",
           "#FF97FF",
           "#FECB52"
          ],
          "font": {
           "color": "#2a3f5f"
          },
          "geo": {
           "bgcolor": "white",
           "lakecolor": "white",
           "landcolor": "#E5ECF6",
           "showlakes": true,
           "showland": true,
           "subunitcolor": "white"
          },
          "hoverlabel": {
           "align": "left"
          },
          "hovermode": "closest",
          "mapbox": {
           "style": "light"
          },
          "paper_bgcolor": "white",
          "plot_bgcolor": "#E5ECF6",
          "polar": {
           "angularaxis": {
            "gridcolor": "white",
            "linecolor": "white",
            "ticks": ""
           },
           "bgcolor": "#E5ECF6",
           "radialaxis": {
            "gridcolor": "white",
            "linecolor": "white",
            "ticks": ""
           }
          },
          "scene": {
           "xaxis": {
            "backgroundcolor": "#E5ECF6",
            "gridcolor": "white",
            "gridwidth": 2,
            "linecolor": "white",
            "showbackground": true,
            "ticks": "",
            "zerolinecolor": "white"
           },
           "yaxis": {
            "backgroundcolor": "#E5ECF6",
            "gridcolor": "white",
            "gridwidth": 2,
            "linecolor": "white",
            "showbackground": true,
            "ticks": "",
            "zerolinecolor": "white"
           },
           "zaxis": {
            "backgroundcolor": "#E5ECF6",
            "gridcolor": "white",
            "gridwidth": 2,
            "linecolor": "white",
            "showbackground": true,
            "ticks": "",
            "zerolinecolor": "white"
           }
          },
          "shapedefaults": {
           "line": {
            "color": "#2a3f5f"
           }
          },
          "ternary": {
           "aaxis": {
            "gridcolor": "white",
            "linecolor": "white",
            "ticks": ""
           },
           "baxis": {
            "gridcolor": "white",
            "linecolor": "white",
            "ticks": ""
           },
           "bgcolor": "#E5ECF6",
           "caxis": {
            "gridcolor": "white",
            "linecolor": "white",
            "ticks": ""
           }
          },
          "title": {
           "x": 0.05
          },
          "xaxis": {
           "automargin": true,
           "gridcolor": "white",
           "linecolor": "white",
           "ticks": "",
           "title": {
            "standoff": 15
           },
           "zerolinecolor": "white",
           "zerolinewidth": 2
          },
          "yaxis": {
           "automargin": true,
           "gridcolor": "white",
           "linecolor": "white",
           "ticks": "",
           "title": {
            "standoff": 15
           },
           "zerolinecolor": "white",
           "zerolinewidth": 2
          }
         }
        },
        "xaxis": {
         "anchor": "y",
         "domain": [
          0,
          1
         ],
         "title": {
          "text": "value"
         }
        },
        "yaxis": {
         "anchor": "x",
         "domain": [
          0,
          1
         ],
         "title": {
          "text": "variable"
         }
        }
       }
      }
     },
     "metadata": {},
     "output_type": "display_data"
    }
   ],
   "source": [
    "plty.box(X_lp4_df, x = [\"F_lp4\", \"T_lp4\"])"
   ]
  },
  {
   "attachments": {},
   "cell_type": "markdown",
   "metadata": {},
   "source": [
    "To know the class distribution"
   ]
  },
  {
   "cell_type": "code",
   "execution_count": 27,
   "metadata": {},
   "outputs": [
    {
     "data": {
      "text/plain": [
       "(array([0., 1., 2.]), array([24, 72, 21], dtype=int64))"
      ]
     },
     "execution_count": 27,
     "metadata": {},
     "output_type": "execute_result"
    }
   ],
   "source": [
    "np.unique(Y_lp4.to_numpy(), return_counts=True)"
   ]
  },
  {
   "attachments": {},
   "cell_type": "markdown",
   "metadata": {},
   "source": [
    "Training the dataset"
   ]
  },
  {
   "attachments": {},
   "cell_type": "markdown",
   "metadata": {},
   "source": [
    "Splitting test and train set in the ratio of 70:30"
   ]
  },
  {
   "cell_type": "code",
   "execution_count": 28,
   "metadata": {},
   "outputs": [],
   "source": [
    "from sklearn.model_selection import train_test_split\n",
    "\n",
    "lp4_train, lp4_test = train_test_split(X_lp4_df, test_size=0.3, random_state=2)\n"
   ]
  },
  {
   "attachments": {},
   "cell_type": "markdown",
   "metadata": {},
   "source": [
    "1. Decision Tree"
   ]
  },
  {
   "cell_type": "code",
   "execution_count": 29,
   "metadata": {},
   "outputs": [
    {
     "name": "stdout",
     "output_type": "stream",
     "text": [
      "Training using Decision Tree...\n"
     ]
    },
    {
     "data": {
      "text/html": [
       "<style>#sk-container-id-1 {color: black;background-color: white;}#sk-container-id-1 pre{padding: 0;}#sk-container-id-1 div.sk-toggleable {background-color: white;}#sk-container-id-1 label.sk-toggleable__label {cursor: pointer;display: block;width: 100%;margin-bottom: 0;padding: 0.3em;box-sizing: border-box;text-align: center;}#sk-container-id-1 label.sk-toggleable__label-arrow:before {content: \"▸\";float: left;margin-right: 0.25em;color: #696969;}#sk-container-id-1 label.sk-toggleable__label-arrow:hover:before {color: black;}#sk-container-id-1 div.sk-estimator:hover label.sk-toggleable__label-arrow:before {color: black;}#sk-container-id-1 div.sk-toggleable__content {max-height: 0;max-width: 0;overflow: hidden;text-align: left;background-color: #f0f8ff;}#sk-container-id-1 div.sk-toggleable__content pre {margin: 0.2em;color: black;border-radius: 0.25em;background-color: #f0f8ff;}#sk-container-id-1 input.sk-toggleable__control:checked~div.sk-toggleable__content {max-height: 200px;max-width: 100%;overflow: auto;}#sk-container-id-1 input.sk-toggleable__control:checked~label.sk-toggleable__label-arrow:before {content: \"▾\";}#sk-container-id-1 div.sk-estimator input.sk-toggleable__control:checked~label.sk-toggleable__label {background-color: #d4ebff;}#sk-container-id-1 div.sk-label input.sk-toggleable__control:checked~label.sk-toggleable__label {background-color: #d4ebff;}#sk-container-id-1 input.sk-hidden--visually {border: 0;clip: rect(1px 1px 1px 1px);clip: rect(1px, 1px, 1px, 1px);height: 1px;margin: -1px;overflow: hidden;padding: 0;position: absolute;width: 1px;}#sk-container-id-1 div.sk-estimator {font-family: monospace;background-color: #f0f8ff;border: 1px dotted black;border-radius: 0.25em;box-sizing: border-box;margin-bottom: 0.5em;}#sk-container-id-1 div.sk-estimator:hover {background-color: #d4ebff;}#sk-container-id-1 div.sk-parallel-item::after {content: \"\";width: 100%;border-bottom: 1px solid gray;flex-grow: 1;}#sk-container-id-1 div.sk-label:hover label.sk-toggleable__label {background-color: #d4ebff;}#sk-container-id-1 div.sk-serial::before {content: \"\";position: absolute;border-left: 1px solid gray;box-sizing: border-box;top: 0;bottom: 0;left: 50%;z-index: 0;}#sk-container-id-1 div.sk-serial {display: flex;flex-direction: column;align-items: center;background-color: white;padding-right: 0.2em;padding-left: 0.2em;position: relative;}#sk-container-id-1 div.sk-item {position: relative;z-index: 1;}#sk-container-id-1 div.sk-parallel {display: flex;align-items: stretch;justify-content: center;background-color: white;position: relative;}#sk-container-id-1 div.sk-item::before, #sk-container-id-1 div.sk-parallel-item::before {content: \"\";position: absolute;border-left: 1px solid gray;box-sizing: border-box;top: 0;bottom: 0;left: 50%;z-index: -1;}#sk-container-id-1 div.sk-parallel-item {display: flex;flex-direction: column;z-index: 1;position: relative;background-color: white;}#sk-container-id-1 div.sk-parallel-item:first-child::after {align-self: flex-end;width: 50%;}#sk-container-id-1 div.sk-parallel-item:last-child::after {align-self: flex-start;width: 50%;}#sk-container-id-1 div.sk-parallel-item:only-child::after {width: 0;}#sk-container-id-1 div.sk-dashed-wrapped {border: 1px dashed gray;margin: 0 0.4em 0.5em 0.4em;box-sizing: border-box;padding-bottom: 0.4em;background-color: white;}#sk-container-id-1 div.sk-label label {font-family: monospace;font-weight: bold;display: inline-block;line-height: 1.2em;}#sk-container-id-1 div.sk-label-container {text-align: center;}#sk-container-id-1 div.sk-container {/* jupyter's `normalize.less` sets `[hidden] { display: none; }` but bootstrap.min.css set `[hidden] { display: none !important; }` so we also need the `!important` here to be able to override the default hidden behavior on the sphinx rendered scikit-learn.org. See: https://github.com/scikit-learn/scikit-learn/issues/21755 */display: inline-block !important;position: relative;}#sk-container-id-1 div.sk-text-repr-fallback {display: none;}</style><div id=\"sk-container-id-1\" class=\"sk-top-container\"><div class=\"sk-text-repr-fallback\"><pre>DecisionTreeClassifier(max_depth=2)</pre><b>In a Jupyter environment, please rerun this cell to show the HTML representation or trust the notebook. <br />On GitHub, the HTML representation is unable to render, please try loading this page with nbviewer.org.</b></div><div class=\"sk-container\" hidden><div class=\"sk-item\"><div class=\"sk-estimator sk-toggleable\"><input class=\"sk-toggleable__control sk-hidden--visually\" id=\"sk-estimator-id-1\" type=\"checkbox\" checked><label for=\"sk-estimator-id-1\" class=\"sk-toggleable__label sk-toggleable__label-arrow\">DecisionTreeClassifier</label><div class=\"sk-toggleable__content\"><pre>DecisionTreeClassifier(max_depth=2)</pre></div></div></div></div></div>"
      ],
      "text/plain": [
       "DecisionTreeClassifier(max_depth=2)"
      ]
     },
     "execution_count": 29,
     "metadata": {},
     "output_type": "execute_result"
    }
   ],
   "source": [
    "print(\"Training using Decision Tree...\")\n",
    "from sklearn import tree\n",
    "from sklearn.metrics import accuracy_score\n",
    "from sklearn.metrics import confusion_matrix, recall_score, precision_score, f1_score\n",
    "from sklearn.model_selection import cross_validate\n",
    "acc = pd.DataFrame(columns={\"Model\": [], \"Train\": [], \"Dev\": [], \"Test\":[], \"Precision Score\": [], \"Recall Score\": [], \"F1 Score\": [] })\n",
    "X = lp4_train[[\"F_lp4\", \"T_lp4\" ]]\n",
    "Y = lp4_train[\"Y_lp4\"]\n",
    "lp4_model = tree.DecisionTreeClassifier(max_depth=2)\n",
    "treemodel = cross_validate(lp4_model, X, Y, cv=3,return_train_score=True)\n",
    "lp4_model.fit(X, Y)"
   ]
  },
  {
   "attachments": {},
   "cell_type": "markdown",
   "metadata": {},
   "source": [
    "Results"
   ]
  },
  {
   "cell_type": "code",
   "execution_count": 30,
   "metadata": {},
   "outputs": [
    {
     "name": "stdout",
     "output_type": "stream",
     "text": [
      "++++++Decision Tree++++++\n",
      "+++Train Results+++\n",
      "Parametes: \n",
      " {'ccp_alpha': 0.0, 'class_weight': None, 'criterion': 'gini', 'max_depth': 2, 'max_features': None, 'max_leaf_nodes': None, 'min_impurity_decrease': 0.0, 'min_samples_leaf': 1, 'min_samples_split': 2, 'min_weight_fraction_leaf': 0.0, 'random_state': None, 'splitter': 'best'}\n",
      "\n",
      "Train Score 0.9197530864197531\n",
      "_____________________________________________________________________________________\n",
      "Validation Score 0.8765432098765431\n",
      "_____________________________________________________________________________________\n",
      "\n",
      "+++Test Results+++\n",
      "Parametes: \n",
      " {'ccp_alpha': 0.0, 'class_weight': None, 'criterion': 'gini', 'max_depth': 2, 'max_features': None, 'max_leaf_nodes': None, 'min_impurity_decrease': 0.0, 'min_samples_leaf': 1, 'min_samples_split': 2, 'min_weight_fraction_leaf': 0.0, 'random_state': None, 'splitter': 'best'}\n",
      "\n",
      "Prediction of test set: [1. 1. 1. 2. 0. 2. 1. 2. 1. 1. 1. 1. 1. 1. 0. 0. 2. 1. 0. 1. 1. 1. 1. 0.\n",
      " 1. 1. 0. 0. 0. 1. 1. 1. 2. 2. 0. 0.]\n",
      "\n",
      "Test accuracy score 0.9166666666666666\n",
      "\n",
      "Confusion Matrix:\n",
      " [[ 9  1  0]\n",
      " [ 1 18  0]\n",
      " [ 0  1  6]]\n",
      "\n",
      "Precision Score: [0.9 0.9 1. ]\n",
      "Recall Score: [0.9        0.94736842 0.85714286]\n",
      "F1 Score: [0.9        0.92307692 0.92307692]\n"
     ]
    }
   ],
   "source": [
    "print(\"++++++Decision Tree++++++\")\n",
    "print(\"+++Train Results+++\\nParametes: \\n\",lp4_model.get_params())\n",
    "train_pred = lp4_model.predict(lp4_train[[\"F_lp4\", \"T_lp4\"]])\n",
    "accuracy_scr1 = treemodel['train_score'].mean()\n",
    "print(\"\\nTrain Score\", treemodel['train_score'].mean())\n",
    "print(\"_____________________________________________________________________________________\")\n",
    "print(\"Validation Score\", treemodel['test_score'].mean())\n",
    "print(\"_____________________________________________________________________________________\")\n",
    "print(\"\\n+++Test Results+++\\nParametes: \\n\",lp4_model.get_params())\n",
    "test_pred = lp4_model.predict(lp4_test[[\"F_lp4\", \"T_lp4\"]])\n",
    "print(\"\\nPrediction of test set:\", test_pred)\n",
    "accuracy_scr2 = accuracy_score(lp4_test[\"Y_lp4\"], test_pred)\n",
    "print(\"\\nTest accuracy score\", accuracy_scr2)\n",
    "confMat = confusion_matrix(lp4_test[\"Y_lp4\"], test_pred, labels=[0,1,2])\n",
    "print(\"\\nConfusion Matrix:\\n\",confMat)\n",
    "prec_tree = precision_score(lp4_test[\"Y_lp4\"], test_pred, average=None, zero_division=0)\n",
    "print(\"\\nPrecision Score:\",prec_tree)\n",
    "Rec_tree = recall_score(lp4_test[\"Y_lp4\"], test_pred, average=None, zero_division=0)\n",
    "print(\"Recall Score:\",Rec_tree)\n",
    "f1_tree = f1_score(lp4_test[\"Y_lp4\"], test_pred, average=None, zero_division=0)\n",
    "print(\"F1 Score:\",f1_tree)\n",
    "acc.loc[len(acc.index)] = ['Decision Tree', accuracy_scr1, treemodel['test_score'].mean(), accuracy_scr2, prec_tree.mean(), Rec_tree.mean(), f1_tree.mean()] "
   ]
  },
  {
   "cell_type": "code",
   "execution_count": 31,
   "metadata": {},
   "outputs": [],
   "source": [
    "#lp4_model.predict_proba(lp4_test[[\"F_lp4\", \"T_lp4\"]])"
   ]
  },
  {
   "attachments": {},
   "cell_type": "markdown",
   "metadata": {},
   "source": [
    "Printing the tree"
   ]
  },
  {
   "cell_type": "code",
   "execution_count": 32,
   "metadata": {},
   "outputs": [
    {
     "data": {
      "text/plain": [
       "[Text(0.6, 0.8333333333333334, 'X[0] <= 0.099\\ngini = 0.512\\nsamples = 81\\nvalue = [14, 53, 14]'),\n",
       " Text(0.4, 0.5, 'X[1] <= 0.007\\ngini = 0.368\\nsamples = 69\\nvalue = [14, 53, 2]'),\n",
       " Text(0.2, 0.16666666666666666, 'gini = 0.388\\nsamples = 19\\nvalue = [14, 5, 0]'),\n",
       " Text(0.6, 0.16666666666666666, 'gini = 0.077\\nsamples = 50\\nvalue = [0, 48, 2]'),\n",
       " Text(0.8, 0.5, 'gini = 0.0\\nsamples = 12\\nvalue = [0, 0, 12]')]"
      ]
     },
     "execution_count": 32,
     "metadata": {},
     "output_type": "execute_result"
    },
    {
     "data": {
      "image/png": "[encoded data removed]",
      "text/plain": [
       "<Figure size 432x288 with 1 Axes>"
      ]
     },
     "metadata": {
      "needs_background": "light"
     },
     "output_type": "display_data"
    }
   ],
   "source": [
    "tree.plot_tree(lp4_model)"
   ]
  },
  {
   "attachments": {},
   "cell_type": "markdown",
   "metadata": {},
   "source": [
    "Exporting the model to txt file"
   ]
  },
  {
   "cell_type": "code",
   "execution_count": 33,
   "metadata": {},
   "outputs": [],
   "source": [
    "# from sklearn.tree import export_text\n",
    "# lp4export_tree = export_text(lp4_model) \n",
    "# with open('lp4exportree.txt', 'w') as f:\n",
    "#     f.writelines(lp4export_tree)"
   ]
  },
  {
   "attachments": {},
   "cell_type": "markdown",
   "metadata": {},
   "source": [
    "2. Random Forest Classifier"
   ]
  },
  {
   "cell_type": "code",
   "execution_count": 34,
   "metadata": {},
   "outputs": [
    {
     "data": {
      "text/html": [
       "<style>#sk-container-id-2 {color: black;background-color: white;}#sk-container-id-2 pre{padding: 0;}#sk-container-id-2 div.sk-toggleable {background-color: white;}#sk-container-id-2 label.sk-toggleable__label {cursor: pointer;display: block;width: 100%;margin-bottom: 0;padding: 0.3em;box-sizing: border-box;text-align: center;}#sk-container-id-2 label.sk-toggleable__label-arrow:before {content: \"▸\";float: left;margin-right: 0.25em;color: #696969;}#sk-container-id-2 label.sk-toggleable__label-arrow:hover:before {color: black;}#sk-container-id-2 div.sk-estimator:hover label.sk-toggleable__label-arrow:before {color: black;}#sk-container-id-2 div.sk-toggleable__content {max-height: 0;max-width: 0;overflow: hidden;text-align: left;background-color: #f0f8ff;}#sk-container-id-2 div.sk-toggleable__content pre {margin: 0.2em;color: black;border-radius: 0.25em;background-color: #f0f8ff;}#sk-container-id-2 input.sk-toggleable__control:checked~div.sk-toggleable__content {max-height: 200px;max-width: 100%;overflow: auto;}#sk-container-id-2 input.sk-toggleable__control:checked~label.sk-toggleable__label-arrow:before {content: \"▾\";}#sk-container-id-2 div.sk-estimator input.sk-toggleable__control:checked~label.sk-toggleable__label {background-color: #d4ebff;}#sk-container-id-2 div.sk-label input.sk-toggleable__control:checked~label.sk-toggleable__label {background-color: #d4ebff;}#sk-container-id-2 input.sk-hidden--visually {border: 0;clip: rect(1px 1px 1px 1px);clip: rect(1px, 1px, 1px, 1px);height: 1px;margin: -1px;overflow: hidden;padding: 0;position: absolute;width: 1px;}#sk-container-id-2 div.sk-estimator {font-family: monospace;background-color: #f0f8ff;border: 1px dotted black;border-radius: 0.25em;box-sizing: border-box;margin-bottom: 0.5em;}#sk-container-id-2 div.sk-estimator:hover {background-color: #d4ebff;}#sk-container-id-2 div.sk-parallel-item::after {content: \"\";width: 100%;border-bottom: 1px solid gray;flex-grow: 1;}#sk-container-id-2 div.sk-label:hover label.sk-toggleable__label {background-color: #d4ebff;}#sk-container-id-2 div.sk-serial::before {content: \"\";position: absolute;border-left: 1px solid gray;box-sizing: border-box;top: 0;bottom: 0;left: 50%;z-index: 0;}#sk-container-id-2 div.sk-serial {display: flex;flex-direction: column;align-items: center;background-color: white;padding-right: 0.2em;padding-left: 0.2em;position: relative;}#sk-container-id-2 div.sk-item {position: relative;z-index: 1;}#sk-container-id-2 div.sk-parallel {display: flex;align-items: stretch;justify-content: center;background-color: white;position: relative;}#sk-container-id-2 div.sk-item::before, #sk-container-id-2 div.sk-parallel-item::before {content: \"\";position: absolute;border-left: 1px solid gray;box-sizing: border-box;top: 0;bottom: 0;left: 50%;z-index: -1;}#sk-container-id-2 div.sk-parallel-item {display: flex;flex-direction: column;z-index: 1;position: relative;background-color: white;}#sk-container-id-2 div.sk-parallel-item:first-child::after {align-self: flex-end;width: 50%;}#sk-container-id-2 div.sk-parallel-item:last-child::after {align-self: flex-start;width: 50%;}#sk-container-id-2 div.sk-parallel-item:only-child::after {width: 0;}#sk-container-id-2 div.sk-dashed-wrapped {border: 1px dashed gray;margin: 0 0.4em 0.5em 0.4em;box-sizing: border-box;padding-bottom: 0.4em;background-color: white;}#sk-container-id-2 div.sk-label label {font-family: monospace;font-weight: bold;display: inline-block;line-height: 1.2em;}#sk-container-id-2 div.sk-label-container {text-align: center;}#sk-container-id-2 div.sk-container {/* jupyter's `normalize.less` sets `[hidden] { display: none; }` but bootstrap.min.css set `[hidden] { display: none !important; }` so we also need the `!important` here to be able to override the default hidden behavior on the sphinx rendered scikit-learn.org. See: https://github.com/scikit-learn/scikit-learn/issues/21755 */display: inline-block !important;position: relative;}#sk-container-id-2 div.sk-text-repr-fallback {display: none;}</style><div id=\"sk-container-id-2\" class=\"sk-top-container\"><div class=\"sk-text-repr-fallback\"><pre>RandomForestClassifier(max_depth=3)</pre><b>In a Jupyter environment, please rerun this cell to show the HTML representation or trust the notebook. <br />On GitHub, the HTML representation is unable to render, please try loading this page with nbviewer.org.</b></div><div class=\"sk-container\" hidden><div class=\"sk-item\"><div class=\"sk-estimator sk-toggleable\"><input class=\"sk-toggleable__control sk-hidden--visually\" id=\"sk-estimator-id-2\" type=\"checkbox\" checked><label for=\"sk-estimator-id-2\" class=\"sk-toggleable__label sk-toggleable__label-arrow\">RandomForestClassifier</label><div class=\"sk-toggleable__content\"><pre>RandomForestClassifier(max_depth=3)</pre></div></div></div></div></div>"
      ],
      "text/plain": [
       "RandomForestClassifier(max_depth=3)"
      ]
     },
     "execution_count": 34,
     "metadata": {},
     "output_type": "execute_result"
    }
   ],
   "source": [
    "from sklearn.ensemble import RandomForestClassifier\n",
    "lp4_forest = RandomForestClassifier(max_depth=3)\n",
    "X = lp4_train[[\"F_lp4\", \"T_lp4\"]]\n",
    "Y = lp4_train[\"Y_lp4\"]\n",
    "forestmodel = cross_validate(lp4_forest, X, Y, cv=3,return_train_score=True)\n",
    "lp4_forest.fit(X, Y)"
   ]
  },
  {
   "cell_type": "code",
   "execution_count": 35,
   "metadata": {},
   "outputs": [
    {
     "name": "stdout",
     "output_type": "stream",
     "text": [
      "++++++Random Forest++++++\n",
      "+++Train Results+++\n",
      "Parametes: \n",
      " {'bootstrap': True, 'ccp_alpha': 0.0, 'class_weight': None, 'criterion': 'gini', 'max_depth': 3, 'max_features': 'sqrt', 'max_leaf_nodes': None, 'max_samples': None, 'min_impurity_decrease': 0.0, 'min_samples_leaf': 1, 'min_samples_split': 2, 'min_weight_fraction_leaf': 0.0, 'n_estimators': 100, 'n_jobs': None, 'oob_score': False, 'random_state': None, 'verbose': 0, 'warm_start': False}\n",
      "\n",
      "Train Score 0.95679012345679\n",
      "_____________________________________________________________________________________\n",
      "Validation Score 0.8641975308641975\n",
      "_____________________________________________________________________________________\n",
      "+++Test Results+++\n",
      "Parametes: \n",
      " {'bootstrap': True, 'ccp_alpha': 0.0, 'class_weight': None, 'criterion': 'gini', 'max_depth': 3, 'max_features': 'sqrt', 'max_leaf_nodes': None, 'max_samples': None, 'min_impurity_decrease': 0.0, 'min_samples_leaf': 1, 'min_samples_split': 2, 'min_weight_fraction_leaf': 0.0, 'n_estimators': 100, 'n_jobs': None, 'oob_score': False, 'random_state': None, 'verbose': 0, 'warm_start': False}\n",
      "\n",
      "Test accuracy score 0.8333333333333334\n",
      "Confusion Matrix:\n",
      " [[ 8  2  0]\n",
      " [ 1 16  2]\n",
      " [ 0  1  6]]\n",
      "\n",
      "Precision Score: [0.88888889 0.84210526 0.75      ]\n",
      "Recall Score: [0.8        0.84210526 0.85714286]\n",
      "F1 Score: [0.84210526 0.84210526 0.8       ]\n"
     ]
    }
   ],
   "source": [
    "print(\"++++++Random Forest++++++\")\n",
    "print(\"+++Train Results+++\\nParametes: \\n\",lp4_forest.get_params())\n",
    "train_pred = lp4_forest.predict(lp4_train[[\"F_lp4\", \"T_lp4\"]])\n",
    "accuracy_scr1 = forestmodel['train_score'].mean()\n",
    "print(\"\\nTrain Score\", forestmodel['train_score'].mean())\n",
    "print(\"_____________________________________________________________________________________\")\n",
    "print(\"Validation Score\", forestmodel['test_score'].mean())\n",
    "print(\"_____________________________________________________________________________________\")\n",
    "print(\"+++Test Results+++\\nParametes: \\n\",lp4_forest.get_params())\n",
    "test_pred = lp4_forest.predict(lp4_test[[\"F_lp4\", \"T_lp4\"]])\n",
    "#print(\"\\nPrediction of test set:\", test_pred)\n",
    "accuracy_scr2 = accuracy_score(lp4_test[\"Y_lp4\"], test_pred)\n",
    "print(\"\\nTest accuracy score\", accuracy_scr2)\n",
    "confMat = confusion_matrix(lp4_test[\"Y_lp4\"], test_pred, labels=[0,1,2])\n",
    "print(\"Confusion Matrix:\\n\",confMat)\n",
    "prec_forest = precision_score(lp4_test[\"Y_lp4\"], test_pred, average=None, zero_division=0)\n",
    "print(\"\\nPrecision Score:\",prec_forest)\n",
    "Rec_forest = recall_score(lp4_test[\"Y_lp4\"], test_pred, average=None, zero_division=0)\n",
    "print(\"Recall Score:\",Rec_forest)\n",
    "f1_forest = f1_score(lp4_test[\"Y_lp4\"], test_pred, average=None, zero_division=0)\n",
    "print(\"F1 Score:\",f1_forest)\n",
    "acc.loc[len(acc.index)] = ['Random Forest', accuracy_scr1, forestmodel['test_score'].mean(), accuracy_scr2, prec_forest.mean(), Rec_forest.mean(), f1_forest.mean()] "
   ]
  },
  {
   "attachments": {},
   "cell_type": "markdown",
   "metadata": {},
   "source": [
    "3. Support Vector Machines"
   ]
  },
  {
   "cell_type": "code",
   "execution_count": 36,
   "metadata": {},
   "outputs": [
    {
     "data": {
      "text/html": [
       "<style>#sk-container-id-3 {color: black;background-color: white;}#sk-container-id-3 pre{padding: 0;}#sk-container-id-3 div.sk-toggleable {background-color: white;}#sk-container-id-3 label.sk-toggleable__label {cursor: pointer;display: block;width: 100%;margin-bottom: 0;padding: 0.3em;box-sizing: border-box;text-align: center;}#sk-container-id-3 label.sk-toggleable__label-arrow:before {content: \"▸\";float: left;margin-right: 0.25em;color: #696969;}#sk-container-id-3 label.sk-toggleable__label-arrow:hover:before {color: black;}#sk-container-id-3 div.sk-estimator:hover label.sk-toggleable__label-arrow:before {color: black;}#sk-container-id-3 div.sk-toggleable__content {max-height: 0;max-width: 0;overflow: hidden;text-align: left;background-color: #f0f8ff;}#sk-container-id-3 div.sk-toggleable__content pre {margin: 0.2em;color: black;border-radius: 0.25em;background-color: #f0f8ff;}#sk-container-id-3 input.sk-toggleable__control:checked~div.sk-toggleable__content {max-height: 200px;max-width: 100%;overflow: auto;}#sk-container-id-3 input.sk-toggleable__control:checked~label.sk-toggleable__label-arrow:before {content: \"▾\";}#sk-container-id-3 div.sk-estimator input.sk-toggleable__control:checked~label.sk-toggleable__label {background-color: #d4ebff;}#sk-container-id-3 div.sk-label input.sk-toggleable__control:checked~label.sk-toggleable__label {background-color: #d4ebff;}#sk-container-id-3 input.sk-hidden--visually {border: 0;clip: rect(1px 1px 1px 1px);clip: rect(1px, 1px, 1px, 1px);height: 1px;margin: -1px;overflow: hidden;padding: 0;position: absolute;width: 1px;}#sk-container-id-3 div.sk-estimator {font-family: monospace;background-color: #f0f8ff;border: 1px dotted black;border-radius: 0.25em;box-sizing: border-box;margin-bottom: 0.5em;}#sk-container-id-3 div.sk-estimator:hover {background-color: #d4ebff;}#sk-container-id-3 div.sk-parallel-item::after {content: \"\";width: 100%;border-bottom: 1px solid gray;flex-grow: 1;}#sk-container-id-3 div.sk-label:hover label.sk-toggleable__label {background-color: #d4ebff;}#sk-container-id-3 div.sk-serial::before {content: \"\";position: absolute;border-left: 1px solid gray;box-sizing: border-box;top: 0;bottom: 0;left: 50%;z-index: 0;}#sk-container-id-3 div.sk-serial {display: flex;flex-direction: column;align-items: center;background-color: white;padding-right: 0.2em;padding-left: 0.2em;position: relative;}#sk-container-id-3 div.sk-item {position: relative;z-index: 1;}#sk-container-id-3 div.sk-parallel {display: flex;align-items: stretch;justify-content: center;background-color: white;position: relative;}#sk-container-id-3 div.sk-item::before, #sk-container-id-3 div.sk-parallel-item::before {content: \"\";position: absolute;border-left: 1px solid gray;box-sizing: border-box;top: 0;bottom: 0;left: 50%;z-index: -1;}#sk-container-id-3 div.sk-parallel-item {display: flex;flex-direction: column;z-index: 1;position: relative;background-color: white;}#sk-container-id-3 div.sk-parallel-item:first-child::after {align-self: flex-end;width: 50%;}#sk-container-id-3 div.sk-parallel-item:last-child::after {align-self: flex-start;width: 50%;}#sk-container-id-3 div.sk-parallel-item:only-child::after {width: 0;}#sk-container-id-3 div.sk-dashed-wrapped {border: 1px dashed gray;margin: 0 0.4em 0.5em 0.4em;box-sizing: border-box;padding-bottom: 0.4em;background-color: white;}#sk-container-id-3 div.sk-label label {font-family: monospace;font-weight: bold;display: inline-block;line-height: 1.2em;}#sk-container-id-3 div.sk-label-container {text-align: center;}#sk-container-id-3 div.sk-container {/* jupyter's `normalize.less` sets `[hidden] { display: none; }` but bootstrap.min.css set `[hidden] { display: none !important; }` so we also need the `!important` here to be able to override the default hidden behavior on the sphinx rendered scikit-learn.org. See: https://github.com/scikit-learn/scikit-learn/issues/21755 */display: inline-block !important;position: relative;}#sk-container-id-3 div.sk-text-repr-fallback {display: none;}</style><div id=\"sk-container-id-3\" class=\"sk-top-container\"><div class=\"sk-text-repr-fallback\"><pre>SVC(decision_function_shape=&#x27;ovo&#x27;)</pre><b>In a Jupyter environment, please rerun this cell to show the HTML representation or trust the notebook. <br />On GitHub, the HTML representation is unable to render, please try loading this page with nbviewer.org.</b></div><div class=\"sk-container\" hidden><div class=\"sk-item\"><div class=\"sk-estimator sk-toggleable\"><input class=\"sk-toggleable__control sk-hidden--visually\" id=\"sk-estimator-id-3\" type=\"checkbox\" checked><label for=\"sk-estimator-id-3\" class=\"sk-toggleable__label sk-toggleable__label-arrow\">SVC</label><div class=\"sk-toggleable__content\"><pre>SVC(decision_function_shape=&#x27;ovo&#x27;)</pre></div></div></div></div></div>"
      ],
      "text/plain": [
       "SVC(decision_function_shape='ovo')"
      ]
     },
     "execution_count": 36,
     "metadata": {},
     "output_type": "execute_result"
    }
   ],
   "source": [
    "from sklearn import svm\n",
    "X = lp4_train[[\"F_lp4\", \"T_lp4\" ]]\n",
    "Y = lp4_train[\"Y_lp4\"]\n",
    "lp4_SVM_Model = svm.SVC(decision_function_shape='ovo')\n",
    "svmmodel = cross_validate(lp4_SVM_Model, X, Y, cv=3,return_train_score=True)\n",
    "lp4_SVM_Model.fit(X, Y)"
   ]
  },
  {
   "cell_type": "code",
   "execution_count": 37,
   "metadata": {},
   "outputs": [
    {
     "name": "stdout",
     "output_type": "stream",
     "text": [
      "++++++Support Vector Machines++++++\n",
      "+++Train Results+++\n",
      "Parametes: \n",
      " {'C': 1.0, 'break_ties': False, 'cache_size': 200, 'class_weight': None, 'coef0': 0.0, 'decision_function_shape': 'ovo', 'degree': 3, 'gamma': 'scale', 'kernel': 'rbf', 'max_iter': -1, 'probability': False, 'random_state': None, 'shrinking': True, 'tol': 0.001, 'verbose': False}\n",
      "\n",
      "Train Score 0.8024691358024691\n",
      "_____________________________________________________________________________________\n",
      "Validation Score 0.8024691358024691\n",
      "_____________________________________________________________________________________\n",
      "+++Test Results+++\n",
      "Parametes: \n",
      " {'C': 1.0, 'break_ties': False, 'cache_size': 200, 'class_weight': None, 'coef0': 0.0, 'decision_function_shape': 'ovo', 'degree': 3, 'gamma': 'scale', 'kernel': 'rbf', 'max_iter': -1, 'probability': False, 'random_state': None, 'shrinking': True, 'tol': 0.001, 'verbose': False}\n",
      "\n",
      "Test Accuracy 0.6944444444444444\n",
      "Confusion Matrix:\n",
      " [[ 0 10  0]\n",
      " [ 0 19  0]\n",
      " [ 0  1  6]]\n",
      "\n",
      "Precision Score: [0.         0.63333333 1.        ]\n",
      "Recall Score: [0.         1.         0.85714286]\n",
      "F1 Score: [0.         0.7755102  0.92307692]\n"
     ]
    }
   ],
   "source": [
    "print(\"++++++Support Vector Machines++++++\")\n",
    "print(\"+++Train Results+++\\nParametes: \\n\",lp4_SVM_Model.get_params())\n",
    "train_pred = lp4_SVM_Model.predict(lp4_train[[\"F_lp4\", \"T_lp4\"]])\n",
    "accuracy_scr1 = svmmodel['train_score'].mean()\n",
    "print(\"\\nTrain Score\", svmmodel['train_score'].mean())\n",
    "print(\"_____________________________________________________________________________________\")\n",
    "print(\"Validation Score\", svmmodel['test_score'].mean())\n",
    "print(\"_____________________________________________________________________________________\")\n",
    "print(\"+++Test Results+++\\nParametes: \\n\",lp4_SVM_Model.get_params())\n",
    "X_test = lp4_test[[\"F_lp4\", \"T_lp4\" ]]\n",
    "Y_test = lp4_test[\"Y_lp4\"]\n",
    "test_pred = lp4_SVM_Model.predict(X_test)\n",
    "accuracy_scr2 = accuracy_score(Y_test, test_pred)\n",
    "print(\"\\nTest Accuracy\", accuracy_scr2)\n",
    "confMat = confusion_matrix(lp4_test[\"Y_lp4\"], test_pred, labels=[0,1,2])\n",
    "print(\"Confusion Matrix:\\n\",confMat)\n",
    "prec_SVM = precision_score(lp4_test[\"Y_lp4\"], test_pred, average=None, zero_division=0)\n",
    "print(\"\\nPrecision Score:\",prec_SVM)\n",
    "Rec_SVM = recall_score(lp4_test[\"Y_lp4\"], test_pred, average=None, zero_division=0)\n",
    "print(\"Recall Score:\",Rec_SVM)\n",
    "f1_SVM = f1_score(lp4_test[\"Y_lp4\"], test_pred, average=None, zero_division=0)\n",
    "print(\"F1 Score:\",f1_SVM)\n",
    "acc.loc[len(acc.index)] = ['SVM', accuracy_scr1, svmmodel['test_score'].mean(), accuracy_scr2,prec_SVM.mean(), Rec_SVM.mean(), f1_SVM.mean()] "
   ]
  },
  {
   "attachments": {},
   "cell_type": "markdown",
   "metadata": {},
   "source": [
    "4. Gaussian Naive Bayes"
   ]
  },
  {
   "cell_type": "code",
   "execution_count": 38,
   "metadata": {},
   "outputs": [
    {
     "data": {
      "text/html": [
       "<style>#sk-container-id-4 {color: black;background-color: white;}#sk-container-id-4 pre{padding: 0;}#sk-container-id-4 div.sk-toggleable {background-color: white;}#sk-container-id-4 label.sk-toggleable__label {cursor: pointer;display: block;width: 100%;margin-bottom: 0;padding: 0.3em;box-sizing: border-box;text-align: center;}#sk-container-id-4 label.sk-toggleable__label-arrow:before {content: \"▸\";float: left;margin-right: 0.25em;color: #696969;}#sk-container-id-4 label.sk-toggleable__label-arrow:hover:before {color: black;}#sk-container-id-4 div.sk-estimator:hover label.sk-toggleable__label-arrow:before {color: black;}#sk-container-id-4 div.sk-toggleable__content {max-height: 0;max-width: 0;overflow: hidden;text-align: left;background-color: #f0f8ff;}#sk-container-id-4 div.sk-toggleable__content pre {margin: 0.2em;color: black;border-radius: 0.25em;background-color: #f0f8ff;}#sk-container-id-4 input.sk-toggleable__control:checked~div.sk-toggleable__content {max-height: 200px;max-width: 100%;overflow: auto;}#sk-container-id-4 input.sk-toggleable__control:checked~label.sk-toggleable__label-arrow:before {content: \"▾\";}#sk-container-id-4 div.sk-estimator input.sk-toggleable__control:checked~label.sk-toggleable__label {background-color: #d4ebff;}#sk-container-id-4 div.sk-label input.sk-toggleable__control:checked~label.sk-toggleable__label {background-color: #d4ebff;}#sk-container-id-4 input.sk-hidden--visually {border: 0;clip: rect(1px 1px 1px 1px);clip: rect(1px, 1px, 1px, 1px);height: 1px;margin: -1px;overflow: hidden;padding: 0;position: absolute;width: 1px;}#sk-container-id-4 div.sk-estimator {font-family: monospace;background-color: #f0f8ff;border: 1px dotted black;border-radius: 0.25em;box-sizing: border-box;margin-bottom: 0.5em;}#sk-container-id-4 div.sk-estimator:hover {background-color: #d4ebff;}#sk-container-id-4 div.sk-parallel-item::after {content: \"\";width: 100%;border-bottom: 1px solid gray;flex-grow: 1;}#sk-container-id-4 div.sk-label:hover label.sk-toggleable__label {background-color: #d4ebff;}#sk-container-id-4 div.sk-serial::before {content: \"\";position: absolute;border-left: 1px solid gray;box-sizing: border-box;top: 0;bottom: 0;left: 50%;z-index: 0;}#sk-container-id-4 div.sk-serial {display: flex;flex-direction: column;align-items: center;background-color: white;padding-right: 0.2em;padding-left: 0.2em;position: relative;}#sk-container-id-4 div.sk-item {position: relative;z-index: 1;}#sk-container-id-4 div.sk-parallel {display: flex;align-items: stretch;justify-content: center;background-color: white;position: relative;}#sk-container-id-4 div.sk-item::before, #sk-container-id-4 div.sk-parallel-item::before {content: \"\";position: absolute;border-left: 1px solid gray;box-sizing: border-box;top: 0;bottom: 0;left: 50%;z-index: -1;}#sk-container-id-4 div.sk-parallel-item {display: flex;flex-direction: column;z-index: 1;position: relative;background-color: white;}#sk-container-id-4 div.sk-parallel-item:first-child::after {align-self: flex-end;width: 50%;}#sk-container-id-4 div.sk-parallel-item:last-child::after {align-self: flex-start;width: 50%;}#sk-container-id-4 div.sk-parallel-item:only-child::after {width: 0;}#sk-container-id-4 div.sk-dashed-wrapped {border: 1px dashed gray;margin: 0 0.4em 0.5em 0.4em;box-sizing: border-box;padding-bottom: 0.4em;background-color: white;}#sk-container-id-4 div.sk-label label {font-family: monospace;font-weight: bold;display: inline-block;line-height: 1.2em;}#sk-container-id-4 div.sk-label-container {text-align: center;}#sk-container-id-4 div.sk-container {/* jupyter's `normalize.less` sets `[hidden] { display: none; }` but bootstrap.min.css set `[hidden] { display: none !important; }` so we also need the `!important` here to be able to override the default hidden behavior on the sphinx rendered scikit-learn.org. See: https://github.com/scikit-learn/scikit-learn/issues/21755 */display: inline-block !important;position: relative;}#sk-container-id-4 div.sk-text-repr-fallback {display: none;}</style><div id=\"sk-container-id-4\" class=\"sk-top-container\"><div class=\"sk-text-repr-fallback\"><pre>GaussianNB()</pre><b>In a Jupyter environment, please rerun this cell to show the HTML representation or trust the notebook. <br />On GitHub, the HTML representation is unable to render, please try loading this page with nbviewer.org.</b></div><div class=\"sk-container\" hidden><div class=\"sk-item\"><div class=\"sk-estimator sk-toggleable\"><input class=\"sk-toggleable__control sk-hidden--visually\" id=\"sk-estimator-id-4\" type=\"checkbox\" checked><label for=\"sk-estimator-id-4\" class=\"sk-toggleable__label sk-toggleable__label-arrow\">GaussianNB</label><div class=\"sk-toggleable__content\"><pre>GaussianNB()</pre></div></div></div></div></div>"
      ],
      "text/plain": [
       "GaussianNB()"
      ]
     },
     "execution_count": 38,
     "metadata": {},
     "output_type": "execute_result"
    }
   ],
   "source": [
    "from sklearn.naive_bayes import GaussianNB\n",
    "X = lp4_train[[\"F_lp4\", \"T_lp4\" ]]\n",
    "Y = lp4_train[\"Y_lp4\"]\n",
    "lp4_GNB_Model = GaussianNB()\n",
    "gnbmodel = cross_validate(lp4_GNB_Model, X, Y, cv=3,return_train_score=True)\n",
    "lp4_GNB_Model.fit(X, Y)"
   ]
  },
  {
   "cell_type": "code",
   "execution_count": 39,
   "metadata": {},
   "outputs": [
    {
     "name": "stdout",
     "output_type": "stream",
     "text": [
      "++++++Gaussian Naive Bayes++++++\n",
      "+++Train Results+++\n",
      "Parametes: \n",
      " {'priors': None, 'var_smoothing': 1e-09}\n",
      "\n",
      "Train Score 0.9012345679012346\n",
      "_____________________________________________________________________________________\n",
      "Validation Score 0.8765432098765432\n",
      "_____________________________________________________________________________________\n",
      "Test Accuracy 0.8611111111111112\n",
      "Confusion Matrix:\n",
      " [[10  0  0]\n",
      " [ 1 15  3]\n",
      " [ 0  1  6]]\n",
      "\n",
      "Precision Score: [0.90909091 0.9375     0.66666667]\n",
      "Recall Score: [1.         0.78947368 0.85714286]\n",
      "F1 Score: [0.95238095 0.85714286 0.75      ]\n"
     ]
    }
   ],
   "source": [
    "print(\"++++++Gaussian Naive Bayes++++++\")\n",
    "print(\"+++Train Results+++\\nParametes: \\n\",lp4_GNB_Model.get_params())\n",
    "train_pred = lp4_GNB_Model.predict(lp4_train[[\"F_lp4\", \"T_lp4\"]])\n",
    "accuracy_scr1 = gnbmodel['train_score'].mean()\n",
    "print(\"\\nTrain Score\", gnbmodel['train_score'].mean())\n",
    "print(\"_____________________________________________________________________________________\")\n",
    "print(\"Validation Score\", gnbmodel['test_score'].mean())\n",
    "print(\"_____________________________________________________________________________________\")\n",
    "X_test = lp4_test[[\"F_lp4\", \"T_lp4\" ]]\n",
    "Y_test = lp4_test[\"Y_lp4\"]\n",
    "test_pred = lp4_GNB_Model.predict(X_test)\n",
    "accuracy_scr2 = accuracy_score(Y_test, test_pred)\n",
    "print(\"Test Accuracy\", accuracy_scr2)\n",
    "confMat = confusion_matrix(lp4_test[\"Y_lp4\"], test_pred, labels=[0,1,2])\n",
    "print(\"Confusion Matrix:\\n\",confMat)\n",
    "prec_GNB = precision_score(lp4_test[\"Y_lp4\"], test_pred, average=None, zero_division=0)\n",
    "print(\"\\nPrecision Score:\",prec_GNB)\n",
    "Rec_GNB = recall_score(lp4_test[\"Y_lp4\"], test_pred, average=None, zero_division=0)\n",
    "print(\"Recall Score:\",Rec_GNB)\n",
    "f1_GNB = f1_score(lp4_test[\"Y_lp4\"], test_pred, average=None, zero_division=0)\n",
    "print(\"F1 Score:\",f1_GNB)\n",
    "acc.loc[len(acc.index)] = ['Gaussian Naive Bayes', accuracy_scr1, gnbmodel['test_score'].mean(), accuracy_scr2, prec_GNB.mean(), Rec_GNB.mean(), f1_GNB.mean()] "
   ]
  },
  {
   "attachments": {},
   "cell_type": "markdown",
   "metadata": {},
   "source": [
    "5. Shallow Neural Networks"
   ]
  },
  {
   "attachments": {},
   "cell_type": "markdown",
   "metadata": {},
   "source": [
    "Splitting the data as test validation (dev) and train set using stratified shuffling with 4 n splits"
   ]
  },
  {
   "cell_type": "code",
   "execution_count": 40,
   "metadata": {},
   "outputs": [],
   "source": [
    "from sklearn.model_selection import StratifiedShuffleSplit\n",
    "sss = StratifiedShuffleSplit(n_splits=3, test_size=0.3, random_state=0)\n",
    "lp4_train = sss.split(X_lp4_df[[\"F_lp4\", \"T_lp4\" ]], X_lp4_df[\"Y_lp4\"])\n",
    "for train,test in sss.split(X_lp4_df[[\"F_lp4\", \"T_lp4\" ]], X_lp4_df[\"Y_lp4\"]):\n",
    "    X = X_lp4_df[[\"F_lp4\", \"T_lp4\" ]].iloc[train]\n",
    "    Y = X_lp4_df[\"Y_lp4\"].iloc[train]\n",
    "    X_dt = X_lp4_df[[\"F_lp4\", \"T_lp4\" ]].iloc[test]\n",
    "    Y_dt = X_lp4_df[\"Y_lp4\"].iloc[test]\n",
    "sss = StratifiedShuffleSplit(n_splits=4, test_size=0.5, random_state=0)\n",
    "for train,test in sss.split(X_dt, Y_dt):\n",
    "    xd = X_dt.iloc[train]\n",
    "    yd = Y_dt.iloc[train]\n",
    "    X_test = X_dt.iloc[test]\n",
    "    Y_test = Y_dt.iloc[test]\n",
    "# lp4_train, lp4_Devtest = train_test_split(X_lp4_df, test_size=0.3, random_state=2)\n",
    "# lp4_dev, lp4_test = train_test_split(lp4_Devtest, test_size=0.5, random_state=2)\n",
    "# print(xd.value_counts())  \n",
    "# print(yd.value_counts())\n",
    "# print(X_test.value_counts())  \n",
    "# print(Y_test.value_counts())"
   ]
  },
  {
   "cell_type": "code",
   "execution_count": 41,
   "metadata": {},
   "outputs": [],
   "source": [
    "import tensorflow as tf\n",
    "from tensorflow import keras\n",
    "from keras.layers import Dense\n",
    "from keras.layers import Dropout\n",
    "import tensorflow as tf   #For reproducability\n",
    "tf.random.set_seed(2)\n",
    "lp4_SNN_model = tf.keras.Sequential()\n",
    "lp4_SNN_model.add(Dense(2, activation='LeakyReLU', input_shape = (2,)))\n",
    "lp4_SNN_model.add(Dense(100, activation='LeakyReLU'))\n",
    "#lp4_SNN_model.add(Dropout(0.2))\n",
    "lp4_SNN_model.add(Dense(30, activation='LeakyReLU'))\n",
    "# lp4_SNN_model.add(Dense(84, activation='relu'))\n",
    "# lp4_SNN_model.add(Dense(84, activation='relu'))\n",
    "# lp4_SNN_model.add(Dense(14, activation='relu'))\n",
    "lp4_SNN_model.add(Dense(4, activation='softmax'))"
   ]
  },
  {
   "cell_type": "code",
   "execution_count": 42,
   "metadata": {},
   "outputs": [
    {
     "name": "stdout",
     "output_type": "stream",
     "text": [
      "Epoch 1/65\n",
      "21/21 [==============================] - 1s 26ms/step - loss: 1.1401 - accuracy: 0.5926 - val_loss: 0.9868 - val_accuracy: 0.6111\n",
      "Epoch 2/65\n",
      "21/21 [==============================] - 0s 4ms/step - loss: 0.9290 - accuracy: 0.6420 - val_loss: 0.9225 - val_accuracy: 0.6111\n",
      "Epoch 3/65\n",
      "21/21 [==============================] - 0s 4ms/step - loss: 0.7869 - accuracy: 0.7037 - val_loss: 1.0305 - val_accuracy: 0.6111\n",
      "Epoch 4/65\n",
      "21/21 [==============================] - 0s 5ms/step - loss: 0.7014 - accuracy: 0.7407 - val_loss: 0.8084 - val_accuracy: 0.6667\n",
      "Epoch 5/65\n",
      "21/21 [==============================] - 0s 4ms/step - loss: 0.6205 - accuracy: 0.7654 - val_loss: 0.7600 - val_accuracy: 0.7222\n",
      "Epoch 6/65\n",
      "21/21 [==============================] - 0s 3ms/step - loss: 0.5976 - accuracy: 0.7531 - val_loss: 0.7539 - val_accuracy: 0.7222\n",
      "Epoch 7/65\n",
      "21/21 [==============================] - 0s 4ms/step - loss: 0.6077 - accuracy: 0.7531 - val_loss: 0.7937 - val_accuracy: 0.6111\n",
      "Epoch 8/65\n",
      "21/21 [==============================] - 0s 4ms/step - loss: 0.6068 - accuracy: 0.7407 - val_loss: 0.7338 - val_accuracy: 0.7222\n",
      "Epoch 9/65\n",
      "21/21 [==============================] - 0s 4ms/step - loss: 0.6152 - accuracy: 0.7531 - val_loss: 0.8060 - val_accuracy: 0.6111\n",
      "Epoch 10/65\n",
      "21/21 [==============================] - 0s 4ms/step - loss: 0.5699 - accuracy: 0.7531 - val_loss: 0.7637 - val_accuracy: 0.7222\n",
      "Epoch 11/65\n",
      "21/21 [==============================] - 0s 3ms/step - loss: 0.5127 - accuracy: 0.7531 - val_loss: 0.7697 - val_accuracy: 0.6667\n",
      "Epoch 12/65\n",
      "21/21 [==============================] - 0s 3ms/step - loss: 0.4798 - accuracy: 0.7778 - val_loss: 1.1509 - val_accuracy: 0.4444\n",
      "Epoch 13/65\n",
      "21/21 [==============================] - 0s 3ms/step - loss: 0.6516 - accuracy: 0.6790 - val_loss: 0.8291 - val_accuracy: 0.6111\n",
      "Epoch 14/65\n",
      "21/21 [==============================] - 0s 4ms/step - loss: 0.5722 - accuracy: 0.7531 - val_loss: 0.7491 - val_accuracy: 0.6667\n",
      "Epoch 15/65\n",
      "21/21 [==============================] - 0s 4ms/step - loss: 0.5223 - accuracy: 0.7531 - val_loss: 0.7150 - val_accuracy: 0.6667\n",
      "Epoch 16/65\n",
      "21/21 [==============================] - 0s 3ms/step - loss: 0.4989 - accuracy: 0.7654 - val_loss: 0.7541 - val_accuracy: 0.7222\n",
      "Epoch 17/65\n",
      "21/21 [==============================] - 0s 3ms/step - loss: 0.5799 - accuracy: 0.7407 - val_loss: 0.6867 - val_accuracy: 0.7222\n",
      "Epoch 18/65\n",
      "21/21 [==============================] - 0s 3ms/step - loss: 0.5152 - accuracy: 0.7407 - val_loss: 0.7275 - val_accuracy: 0.7222\n",
      "Epoch 19/65\n",
      "21/21 [==============================] - 0s 3ms/step - loss: 0.5110 - accuracy: 0.7531 - val_loss: 0.7512 - val_accuracy: 0.7222\n",
      "Epoch 20/65\n",
      "21/21 [==============================] - 0s 3ms/step - loss: 0.5121 - accuracy: 0.7531 - val_loss: 0.7720 - val_accuracy: 0.6667\n",
      "Epoch 21/65\n",
      "21/21 [==============================] - 0s 4ms/step - loss: 0.5187 - accuracy: 0.7531 - val_loss: 0.6760 - val_accuracy: 0.7222\n",
      "Epoch 22/65\n",
      "21/21 [==============================] - 0s 3ms/step - loss: 0.4891 - accuracy: 0.7654 - val_loss: 0.7668 - val_accuracy: 0.6667\n",
      "Epoch 23/65\n",
      "21/21 [==============================] - 0s 4ms/step - loss: 0.5129 - accuracy: 0.7407 - val_loss: 0.7806 - val_accuracy: 0.6667\n",
      "Epoch 24/65\n",
      "21/21 [==============================] - 0s 3ms/step - loss: 0.5001 - accuracy: 0.7654 - val_loss: 0.6955 - val_accuracy: 0.7222\n",
      "Epoch 25/65\n",
      "21/21 [==============================] - 0s 4ms/step - loss: 0.4481 - accuracy: 0.7531 - val_loss: 0.7927 - val_accuracy: 0.6667\n",
      "Epoch 26/65\n",
      "21/21 [==============================] - 0s 5ms/step - loss: 0.4641 - accuracy: 0.7284 - val_loss: 0.7225 - val_accuracy: 0.6667\n",
      "Epoch 27/65\n",
      "21/21 [==============================] - 0s 6ms/step - loss: 0.4726 - accuracy: 0.7901 - val_loss: 0.6168 - val_accuracy: 0.7222\n",
      "Epoch 28/65\n",
      "21/21 [==============================] - 0s 6ms/step - loss: 0.4804 - accuracy: 0.7778 - val_loss: 0.6569 - val_accuracy: 0.7222\n",
      "Epoch 29/65\n",
      "21/21 [==============================] - 0s 5ms/step - loss: 0.5839 - accuracy: 0.6543 - val_loss: 0.8149 - val_accuracy: 0.6111\n",
      "Epoch 30/65\n",
      "21/21 [==============================] - 0s 4ms/step - loss: 0.5295 - accuracy: 0.7531 - val_loss: 0.7354 - val_accuracy: 0.7222\n",
      "Epoch 31/65\n",
      "21/21 [==============================] - 0s 5ms/step - loss: 0.5845 - accuracy: 0.7407 - val_loss: 0.7335 - val_accuracy: 0.7222\n",
      "Epoch 32/65\n",
      "21/21 [==============================] - 0s 4ms/step - loss: 0.4725 - accuracy: 0.7531 - val_loss: 0.6657 - val_accuracy: 0.6667\n",
      "Epoch 33/65\n",
      "21/21 [==============================] - 0s 6ms/step - loss: 0.4459 - accuracy: 0.7654 - val_loss: 0.6801 - val_accuracy: 0.8333\n",
      "Epoch 34/65\n",
      "21/21 [==============================] - 0s 6ms/step - loss: 0.4278 - accuracy: 0.7654 - val_loss: 0.5736 - val_accuracy: 0.7222\n",
      "Epoch 35/65\n",
      "21/21 [==============================] - 0s 5ms/step - loss: 0.4060 - accuracy: 0.8642 - val_loss: 0.5914 - val_accuracy: 0.7222\n",
      "Epoch 36/65\n",
      "21/21 [==============================] - 0s 6ms/step - loss: 0.4229 - accuracy: 0.7901 - val_loss: 0.6289 - val_accuracy: 0.7222\n",
      "Epoch 37/65\n",
      "21/21 [==============================] - 0s 6ms/step - loss: 0.4395 - accuracy: 0.7407 - val_loss: 0.7011 - val_accuracy: 0.8333\n",
      "Epoch 38/65\n",
      "21/21 [==============================] - 0s 5ms/step - loss: 0.4213 - accuracy: 0.8395 - val_loss: 0.6673 - val_accuracy: 0.7222\n",
      "Epoch 39/65\n",
      "21/21 [==============================] - 0s 6ms/step - loss: 0.3551 - accuracy: 0.8889 - val_loss: 0.5605 - val_accuracy: 0.8889\n",
      "Epoch 40/65\n",
      "21/21 [==============================] - 0s 6ms/step - loss: 0.4075 - accuracy: 0.8272 - val_loss: 0.5396 - val_accuracy: 0.7222\n",
      "Epoch 41/65\n",
      "21/21 [==============================] - 0s 9ms/step - loss: 0.6332 - accuracy: 0.7037 - val_loss: 0.9228 - val_accuracy: 0.5000\n",
      "Epoch 42/65\n",
      "21/21 [==============================] - 0s 11ms/step - loss: 0.4953 - accuracy: 0.7407 - val_loss: 0.6807 - val_accuracy: 0.6111\n",
      "Epoch 43/65\n",
      "21/21 [==============================] - 0s 13ms/step - loss: 0.4065 - accuracy: 0.7654 - val_loss: 0.5668 - val_accuracy: 0.7222\n",
      "Epoch 44/65\n",
      "21/21 [==============================] - 0s 7ms/step - loss: 0.4057 - accuracy: 0.8025 - val_loss: 0.5609 - val_accuracy: 0.8889\n",
      "Epoch 45/65\n",
      "21/21 [==============================] - 0s 8ms/step - loss: 0.3785 - accuracy: 0.8025 - val_loss: 0.5277 - val_accuracy: 0.7778\n",
      "Epoch 46/65\n",
      "21/21 [==============================] - 0s 10ms/step - loss: 0.3936 - accuracy: 0.8272 - val_loss: 0.6386 - val_accuracy: 0.7222\n",
      "Epoch 47/65\n",
      "21/21 [==============================] - 0s 8ms/step - loss: 0.4127 - accuracy: 0.7654 - val_loss: 0.9621 - val_accuracy: 0.7778\n",
      "Epoch 48/65\n",
      "21/21 [==============================] - 0s 7ms/step - loss: 0.4223 - accuracy: 0.8395 - val_loss: 0.6077 - val_accuracy: 0.7778\n",
      "Epoch 49/65\n",
      "21/21 [==============================] - 0s 8ms/step - loss: 0.3645 - accuracy: 0.8765 - val_loss: 0.5784 - val_accuracy: 0.8333\n",
      "Epoch 50/65\n",
      "21/21 [==============================] - 0s 8ms/step - loss: 0.4307 - accuracy: 0.8395 - val_loss: 0.5342 - val_accuracy: 0.7778\n",
      "Epoch 51/65\n",
      "21/21 [==============================] - 0s 7ms/step - loss: 0.3548 - accuracy: 0.7901 - val_loss: 0.6078 - val_accuracy: 0.6667\n",
      "Epoch 52/65\n",
      "21/21 [==============================] - 0s 7ms/step - loss: 0.4003 - accuracy: 0.7901 - val_loss: 0.6557 - val_accuracy: 0.7222\n",
      "Epoch 53/65\n",
      "21/21 [==============================] - 0s 6ms/step - loss: 0.4026 - accuracy: 0.8025 - val_loss: 0.7784 - val_accuracy: 0.7222\n",
      "Epoch 54/65\n",
      "21/21 [==============================] - 0s 7ms/step - loss: 0.3980 - accuracy: 0.8272 - val_loss: 0.5347 - val_accuracy: 0.7778\n",
      "Epoch 55/65\n",
      "21/21 [==============================] - 0s 8ms/step - loss: 0.4383 - accuracy: 0.7531 - val_loss: 0.5562 - val_accuracy: 0.7222\n",
      "Epoch 56/65\n",
      "21/21 [==============================] - 0s 8ms/step - loss: 0.3545 - accuracy: 0.8642 - val_loss: 0.5468 - val_accuracy: 0.7778\n",
      "Epoch 57/65\n",
      "21/21 [==============================] - 0s 5ms/step - loss: 0.3919 - accuracy: 0.8025 - val_loss: 0.6930 - val_accuracy: 0.7222\n",
      "Epoch 58/65\n",
      "21/21 [==============================] - 0s 5ms/step - loss: 0.4602 - accuracy: 0.7284 - val_loss: 0.6788 - val_accuracy: 0.6667\n",
      "Epoch 59/65\n",
      "21/21 [==============================] - 0s 5ms/step - loss: 0.3639 - accuracy: 0.8395 - val_loss: 0.6913 - val_accuracy: 0.7222\n",
      "Epoch 60/65\n",
      "21/21 [==============================] - 0s 5ms/step - loss: 0.4365 - accuracy: 0.7654 - val_loss: 0.6397 - val_accuracy: 0.7222\n",
      "Epoch 61/65\n",
      "21/21 [==============================] - 0s 6ms/step - loss: 0.3620 - accuracy: 0.8272 - val_loss: 0.7017 - val_accuracy: 0.7222\n",
      "Epoch 62/65\n",
      "21/21 [==============================] - 0s 7ms/step - loss: 0.4697 - accuracy: 0.7037 - val_loss: 0.5969 - val_accuracy: 0.7222\n",
      "Epoch 63/65\n",
      "21/21 [==============================] - 0s 6ms/step - loss: 0.3552 - accuracy: 0.8148 - val_loss: 0.5262 - val_accuracy: 0.8333\n",
      "Epoch 64/65\n",
      "21/21 [==============================] - 0s 10ms/step - loss: 0.3428 - accuracy: 0.7778 - val_loss: 0.5042 - val_accuracy: 0.8889\n",
      "Epoch 65/65\n",
      "21/21 [==============================] - 0s 6ms/step - loss: 0.3512 - accuracy: 0.8519 - val_loss: 0.5579 - val_accuracy: 0.8333\n"
     ]
    }
   ],
   "source": [
    "#opti = keras.optimizers.experimental.SGD(learning_rate=0.01)\n",
    "opti = keras.optimizers.Adam(learning_rate=0.007)\n",
    "lp4_SNN_model.compile(optimizer=opti, loss='sparse_categorical_crossentropy', metrics=[\"accuracy\"])\n",
    "history = lp4_SNN_model.fit(X, Y, batch_size=4, epochs=65, validation_data = (xd, yd))"
   ]
  },
  {
   "attachments": {},
   "cell_type": "markdown",
   "metadata": {},
   "source": [
    "Plotting loss vs epoch"
   ]
  },
  {
   "cell_type": "code",
   "execution_count": 43,
   "metadata": {},
   "outputs": [
    {
     "data": {
      "image/png": "[encoded data removed]",
      "text/plain": [
       "<Figure size 432x288 with 1 Axes>"
      ]
     },
     "metadata": {
      "needs_background": "light"
     },
     "output_type": "display_data"
    },
    {
     "data": {
      "image/png": "[encoded data removed]",
      "text/plain": [
       "<Figure size 432x288 with 1 Axes>"
      ]
     },
     "metadata": {
      "needs_background": "light"
     },
     "output_type": "display_data"
    }
   ],
   "source": [
    "plt.plot(history.history['loss'])\n",
    "plt.plot(history.history['val_loss'])\n",
    "plt.title('Model loss')\n",
    "plt.ylabel('loss')\n",
    "plt.xlabel('epoch')\n",
    "plt.legend(['train', 'dev'], loc='upper right')\n",
    "plt.show()\n",
    "plt.plot(history.history['accuracy'])\n",
    "plt.plot(history.history['val_accuracy'])\n",
    "plt.title('Model accuracy')\n",
    "plt.ylabel('accuracy')\n",
    "plt.xlabel('epoch')\n",
    "plt.legend(['train', 'dev'], loc='upper right')\n",
    "plt.show()"
   ]
  },
  {
   "cell_type": "code",
   "execution_count": 44,
   "metadata": {},
   "outputs": [
    {
     "name": "stdout",
     "output_type": "stream",
     "text": [
      "Model: \"sequential\"\n",
      "_________________________________________________________________\n",
      " Layer (type)                Output Shape              Param #   \n",
      "=================================================================\n",
      " dense (Dense)               (None, 2)                 6         \n",
      "                                                                 \n",
      " dense_1 (Dense)             (None, 100)               300       \n",
      "                                                                 \n",
      " dense_2 (Dense)             (None, 30)                3030      \n",
      "                                                                 \n",
      " dense_3 (Dense)             (None, 4)                 124       \n",
      "                                                                 \n",
      "=================================================================\n",
      "Total params: 3,460\n",
      "Trainable params: 3,460\n",
      "Non-trainable params: 0\n",
      "_________________________________________________________________\n"
     ]
    }
   ],
   "source": [
    "lp4_SNN_model.summary()"
   ]
  },
  {
   "cell_type": "code",
   "execution_count": 45,
   "metadata": {},
   "outputs": [
    {
     "name": "stdout",
     "output_type": "stream",
     "text": [
      "1/1 [==============================] - 0s 466ms/step\n",
      "Confusion Matrix:\n",
      " [[3 0 0]\n",
      " [3 8 0]\n",
      " [0 0 4]]\n",
      "\n",
      "Precision Score: [0.5 1.  1. ]\n",
      "Recall Score: [1.         0.72727273 1.        ]\n",
      "F1 Score: [0.66666667 0.84210526 1.        ]\n"
     ]
    }
   ],
   "source": [
    "pred = lp4_SNN_model.predict(X_test)\n",
    "# #print(pred*100)\n",
    "pred_class = np.argmax(pred, axis=1)\n",
    "# #print(pred_class)\n",
    "# acc_score_SNN = accuracy_score(Y_test, pred_class)\n",
    "# print(acc_score_SNN)\n",
    "confMat = confusion_matrix(Y_test, pred_class, labels=[0,1,2])\n",
    "print(\"Confusion Matrix:\\n\",confMat)\n",
    "prec_SNN = precision_score(Y_test, pred_class, average=None, zero_division=0)\n",
    "print(\"\\nPrecision Score:\",prec_SNN)\n",
    "Rec_SNN = recall_score(Y_test, pred_class, average=None, zero_division=0)\n",
    "print(\"Recall Score:\",Rec_SNN)\n",
    "f1_SNN = f1_score(Y_test, pred_class, average=None, zero_division=0)\n",
    "print(\"F1 Score:\",f1_SNN)"
   ]
  },
  {
   "cell_type": "code",
   "execution_count": 46,
   "metadata": {},
   "outputs": [
    {
     "name": "stdout",
     "output_type": "stream",
     "text": [
      "['loss', 'accuracy']\n",
      "1/1 [==============================] - 0s 305ms/step - loss: 0.3129 - accuracy: 0.8333\n",
      "[0.31291887164115906, 0.8333333134651184]\n"
     ]
    }
   ],
   "source": [
    "print(lp4_SNN_model.metrics_names)\n",
    "test_accuracy = lp4_SNN_model.evaluate(X_test, Y_test)\n",
    "print(test_accuracy)"
   ]
  },
  {
   "cell_type": "code",
   "execution_count": 47,
   "metadata": {},
   "outputs": [],
   "source": [
    "acc.loc[len(acc.index)] = ['ANN', ((history.history['accuracy'][-1])),((history.history['val_accuracy'][-1])), test_accuracy[1], prec_SNN.mean(), Rec_SNN.mean(), f1_SNN.mean()] "
   ]
  },
  {
   "attachments": {},
   "cell_type": "markdown",
   "metadata": {},
   "source": [
    "Exporting the model and weights"
   ]
  },
  {
   "cell_type": "code",
   "execution_count": 48,
   "metadata": {},
   "outputs": [
    {
     "name": "stderr",
     "output_type": "stream",
     "text": [
      "WARNING:absl:Found untraced functions such as leaky_re_lu_layer_call_fn, leaky_re_lu_layer_call_and_return_conditional_losses, leaky_re_lu_1_layer_call_fn, leaky_re_lu_1_layer_call_and_return_conditional_losses, leaky_re_lu_2_layer_call_fn while saving (showing 5 of 6). These functions will not be directly callable after loading.\n"
     ]
    },
    {
     "name": "stdout",
     "output_type": "stream",
     "text": [
      "INFO:tensorflow:Assets written to: exports/lp4_SNN_Export\\assets\n"
     ]
    },
    {
     "name": "stderr",
     "output_type": "stream",
     "text": [
      "INFO:tensorflow:Assets written to: exports/lp4_SNN_Export\\assets\n"
     ]
    }
   ],
   "source": [
    "lp4_SNN_model.save('exports/lp4_SNN_Export')\n",
    "lp4_SNN_model.save_weights('exports/lp4_SNNWeights_Export')"
   ]
  },
  {
   "attachments": {},
   "cell_type": "markdown",
   "metadata": {},
   "source": [
    "Overall parameters"
   ]
  },
  {
   "cell_type": "code",
   "execution_count": 49,
   "metadata": {},
   "outputs": [
    {
     "data": {
      "text/html": [
       "<div>\n",
       "<style scoped>\n",
       "    .dataframe tbody tr th:only-of-type {\n",
       "        vertical-align: middle;\n",
       "    }\n",
       "\n",
       "    .dataframe tbody tr th {\n",
       "        vertical-align: top;\n",
       "    }\n",
       "\n",
       "    .dataframe thead th {\n",
       "        text-align: right;\n",
       "    }\n",
       "</style>\n",
       "<table border=\"1\" class=\"dataframe\">\n",
       "  <thead>\n",
       "    <tr style=\"text-align: right;\">\n",
       "      <th></th>\n",
       "      <th>Model</th>\n",
       "      <th>Train</th>\n",
       "      <th>Dev</th>\n",
       "      <th>Test</th>\n",
       "      <th>Precision Score</th>\n",
       "      <th>Recall Score</th>\n",
       "      <th>F1 Score</th>\n",
       "    </tr>\n",
       "  </thead>\n",
       "  <tbody>\n",
       "    <tr>\n",
       "      <th>0</th>\n",
       "      <td>Decision Tree</td>\n",
       "      <td>0.919753</td>\n",
       "      <td>0.876543</td>\n",
       "      <td>0.916667</td>\n",
       "      <td>0.933333</td>\n",
       "      <td>0.901504</td>\n",
       "      <td>0.915385</td>\n",
       "    </tr>\n",
       "    <tr>\n",
       "      <th>1</th>\n",
       "      <td>Random Forest</td>\n",
       "      <td>0.956790</td>\n",
       "      <td>0.864198</td>\n",
       "      <td>0.833333</td>\n",
       "      <td>0.826998</td>\n",
       "      <td>0.833083</td>\n",
       "      <td>0.828070</td>\n",
       "    </tr>\n",
       "    <tr>\n",
       "      <th>2</th>\n",
       "      <td>SVM</td>\n",
       "      <td>0.802469</td>\n",
       "      <td>0.802469</td>\n",
       "      <td>0.694444</td>\n",
       "      <td>0.544444</td>\n",
       "      <td>0.619048</td>\n",
       "      <td>0.566196</td>\n",
       "    </tr>\n",
       "    <tr>\n",
       "      <th>3</th>\n",
       "      <td>Gaussian Naive Bayes</td>\n",
       "      <td>0.901235</td>\n",
       "      <td>0.876543</td>\n",
       "      <td>0.861111</td>\n",
       "      <td>0.837753</td>\n",
       "      <td>0.882206</td>\n",
       "      <td>0.853175</td>\n",
       "    </tr>\n",
       "    <tr>\n",
       "      <th>4</th>\n",
       "      <td>ANN</td>\n",
       "      <td>0.851852</td>\n",
       "      <td>0.833333</td>\n",
       "      <td>0.833333</td>\n",
       "      <td>0.833333</td>\n",
       "      <td>0.909091</td>\n",
       "      <td>0.836257</td>\n",
       "    </tr>\n",
       "  </tbody>\n",
       "</table>\n",
       "</div>"
      ],
      "text/plain": [
       "                  Model     Train       Dev      Test  Precision Score  \\\n",
       "0         Decision Tree  0.919753  0.876543  0.916667         0.933333   \n",
       "1         Random Forest  0.956790  0.864198  0.833333         0.826998   \n",
       "2                   SVM  0.802469  0.802469  0.694444         0.544444   \n",
       "3  Gaussian Naive Bayes  0.901235  0.876543  0.861111         0.837753   \n",
       "4                   ANN  0.851852  0.833333  0.833333         0.833333   \n",
       "\n",
       "   Recall Score  F1 Score  \n",
       "0      0.901504  0.915385  \n",
       "1      0.833083  0.828070  \n",
       "2      0.619048  0.566196  \n",
       "3      0.882206  0.853175  \n",
       "4      0.909091  0.836257  "
      ]
     },
     "execution_count": 49,
     "metadata": {},
     "output_type": "execute_result"
    }
   ],
   "source": [
    "acc"
   ]
  }
 ],
 "metadata": {
  "kernelspec": {
   "display_name": "Python 3",
   "language": "python",
   "name": "python3"
  },
  "language_info": {
   "codemirror_mode": {
    "name": "ipython",
    "version": 3
   },
   "file_extension": ".py",
   "mimetype": "text/x-python",
   "name": "python",
   "nbconvert_exporter": "python",
   "pygments_lexer": "ipython3",
   "version": "3.10.5"
  },
  "orig_nbformat": 4,
  "vscode": {
   "interpreter": {
    "hash": "cf2d32023d47a0ae6c67322ace2959f21890c49a1554fe001e59942aa2e6c9ed"
   }
  }
 },
 "nbformat": 4,
 "nbformat_minor": 2
}
