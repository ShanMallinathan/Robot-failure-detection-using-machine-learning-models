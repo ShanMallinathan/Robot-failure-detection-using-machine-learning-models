{
 "cells": [
  {
   "cell_type": "code",
   "execution_count": 1,
   "metadata": {},
   "outputs": [],
   "source": [
    "import pandas as pd\n",
    "import numpy as np\n",
    "import math \n",
    "import matplotlib.pyplot as plt\n",
    "import seaborn as sns\n",
    "import plotly.express as plty"
   ]
  },
  {
   "attachments": {},
   "cell_type": "markdown",
   "metadata": {},
   "source": [
    "The following code blocks helps to import the csv files saved"
   ]
  },
  {
   "cell_type": "code",
   "execution_count": 2,
   "metadata": {},
   "outputs": [],
   "source": [
    "#X\n",
    "X_lp3 = pd.read_csv(\"Data_files\\X\\X_lp3.csv\").dropna()"
   ]
  },
  {
   "cell_type": "code",
   "execution_count": 3,
   "metadata": {},
   "outputs": [],
   "source": [
    "#Y\n",
    "Y_lp3 = pd.read_csv(\"Data_files\\Y\\Y_lp3.csv\")"
   ]
  },
  {
   "attachments": {},
   "cell_type": "markdown",
   "metadata": {},
   "source": [
    "The next step is to find the corelation.\n",
    "A benchmark of 80 percent is kept in order to eliminate corelated variables since the dataset is small"
   ]
  },
  {
   "cell_type": "code",
   "execution_count": 4,
   "metadata": {},
   "outputs": [
    {
     "data": {
      "text/html": [
       "<div>\n",
       "<style scoped>\n",
       "    .dataframe tbody tr th:only-of-type {\n",
       "        vertical-align: middle;\n",
       "    }\n",
       "\n",
       "    .dataframe tbody tr th {\n",
       "        vertical-align: top;\n",
       "    }\n",
       "\n",
       "    .dataframe thead th {\n",
       "        text-align: right;\n",
       "    }\n",
       "</style>\n",
       "<table border=\"1\" class=\"dataframe\">\n",
       "  <thead>\n",
       "    <tr style=\"text-align: right;\">\n",
       "      <th></th>\n",
       "      <th>Fx_lp3</th>\n",
       "      <th>Fy_lp3</th>\n",
       "      <th>Fz_lp3</th>\n",
       "      <th>Tx_lp3</th>\n",
       "      <th>Ty_lp3</th>\n",
       "      <th>Tz_lp3</th>\n",
       "    </tr>\n",
       "  </thead>\n",
       "  <tbody>\n",
       "    <tr>\n",
       "      <th>Fx_lp3</th>\n",
       "      <td>1.000000</td>\n",
       "      <td>-0.068451</td>\n",
       "      <td>0.188836</td>\n",
       "      <td>0.124083</td>\n",
       "      <td>0.765225</td>\n",
       "      <td>0.072475</td>\n",
       "    </tr>\n",
       "    <tr>\n",
       "      <th>Fy_lp3</th>\n",
       "      <td>-0.068451</td>\n",
       "      <td>1.000000</td>\n",
       "      <td>0.052115</td>\n",
       "      <td>-0.801335</td>\n",
       "      <td>-0.222284</td>\n",
       "      <td>-0.402858</td>\n",
       "    </tr>\n",
       "    <tr>\n",
       "      <th>Fz_lp3</th>\n",
       "      <td>0.188836</td>\n",
       "      <td>0.052115</td>\n",
       "      <td>1.000000</td>\n",
       "      <td>-0.357864</td>\n",
       "      <td>0.363493</td>\n",
       "      <td>-0.382500</td>\n",
       "    </tr>\n",
       "    <tr>\n",
       "      <th>Tx_lp3</th>\n",
       "      <td>0.124083</td>\n",
       "      <td>-0.801335</td>\n",
       "      <td>-0.357864</td>\n",
       "      <td>1.000000</td>\n",
       "      <td>0.162308</td>\n",
       "      <td>0.595860</td>\n",
       "    </tr>\n",
       "    <tr>\n",
       "      <th>Ty_lp3</th>\n",
       "      <td>0.765225</td>\n",
       "      <td>-0.222284</td>\n",
       "      <td>0.363493</td>\n",
       "      <td>0.162308</td>\n",
       "      <td>1.000000</td>\n",
       "      <td>0.095073</td>\n",
       "    </tr>\n",
       "    <tr>\n",
       "      <th>Tz_lp3</th>\n",
       "      <td>0.072475</td>\n",
       "      <td>-0.402858</td>\n",
       "      <td>-0.382500</td>\n",
       "      <td>0.595860</td>\n",
       "      <td>0.095073</td>\n",
       "      <td>1.000000</td>\n",
       "    </tr>\n",
       "  </tbody>\n",
       "</table>\n",
       "</div>"
      ],
      "text/plain": [
       "          Fx_lp3    Fy_lp3    Fz_lp3    Tx_lp3    Ty_lp3    Tz_lp3\n",
       "Fx_lp3  1.000000 -0.068451  0.188836  0.124083  0.765225  0.072475\n",
       "Fy_lp3 -0.068451  1.000000  0.052115 -0.801335 -0.222284 -0.402858\n",
       "Fz_lp3  0.188836  0.052115  1.000000 -0.357864  0.363493 -0.382500\n",
       "Tx_lp3  0.124083 -0.801335 -0.357864  1.000000  0.162308  0.595860\n",
       "Ty_lp3  0.765225 -0.222284  0.363493  0.162308  1.000000  0.095073\n",
       "Tz_lp3  0.072475 -0.402858 -0.382500  0.595860  0.095073  1.000000"
      ]
     },
     "execution_count": 4,
     "metadata": {},
     "output_type": "execute_result"
    }
   ],
   "source": [
    "X_lp3.corr(method = 'pearson')"
   ]
  },
  {
   "attachments": {},
   "cell_type": "markdown",
   "metadata": {},
   "source": [
    "Since there is no corelation among variables in the datset, other analysis can be done"
   ]
  },
  {
   "attachments": {},
   "cell_type": "markdown",
   "metadata": {},
   "source": [
    "Adding 2 more rows of resultant force and torque using the formula.\n",
    "F= √(F_X^2+F_Y^2+ F_Z^2 ) and similarly for T"
   ]
  },
  {
   "cell_type": "code",
   "execution_count": 5,
   "metadata": {},
   "outputs": [],
   "source": [
    "X_lp3[\"F_lp3\"] = (X_lp3['Fx_lp3']**2 + X_lp3['Fy_lp3']**2 + X_lp3[\"Fz_lp3\"]**2)**0.5\n",
    "X_lp3[\"T_lp3\"] = (X_lp3[\"Tx_lp3\"]**2 + X_lp3[\"Ty_lp3\"]**2 + X_lp3[\"Tz_lp3\"]**2)**0.5"
   ]
  },
  {
   "attachments": {},
   "cell_type": "markdown",
   "metadata": {},
   "source": [
    "Applying Min-Max normalization for all the attributes"
   ]
  },
  {
   "cell_type": "code",
   "execution_count": 6,
   "metadata": {},
   "outputs": [],
   "source": [
    "X_lp3 = (X_lp3 - X_lp3.min())/(X_lp3.max() - X_lp3.min())"
   ]
  },
  {
   "cell_type": "code",
   "execution_count": 7,
   "metadata": {},
   "outputs": [
    {
     "data": {
      "text/html": [
       "<div>\n",
       "<style scoped>\n",
       "    .dataframe tbody tr th:only-of-type {\n",
       "        vertical-align: middle;\n",
       "    }\n",
       "\n",
       "    .dataframe tbody tr th {\n",
       "        vertical-align: top;\n",
       "    }\n",
       "\n",
       "    .dataframe thead th {\n",
       "        text-align: right;\n",
       "    }\n",
       "</style>\n",
       "<table border=\"1\" class=\"dataframe\">\n",
       "  <thead>\n",
       "    <tr style=\"text-align: right;\">\n",
       "      <th></th>\n",
       "      <th>Fx_lp3</th>\n",
       "      <th>Fy_lp3</th>\n",
       "      <th>Fz_lp3</th>\n",
       "      <th>Tx_lp3</th>\n",
       "      <th>Ty_lp3</th>\n",
       "      <th>Tz_lp3</th>\n",
       "      <th>F_lp3</th>\n",
       "      <th>T_lp3</th>\n",
       "    </tr>\n",
       "  </thead>\n",
       "  <tbody>\n",
       "    <tr>\n",
       "      <th>0</th>\n",
       "      <td>0.407643</td>\n",
       "      <td>0.444079</td>\n",
       "      <td>0.202279</td>\n",
       "      <td>0.501185</td>\n",
       "      <td>0.269674</td>\n",
       "      <td>0.575472</td>\n",
       "      <td>0.086388</td>\n",
       "      <td>0.003743</td>\n",
       "    </tr>\n",
       "    <tr>\n",
       "      <th>1</th>\n",
       "      <td>0.407643</td>\n",
       "      <td>0.444079</td>\n",
       "      <td>0.196581</td>\n",
       "      <td>0.501185</td>\n",
       "      <td>0.270633</td>\n",
       "      <td>0.575472</td>\n",
       "      <td>0.080115</td>\n",
       "      <td>0.002598</td>\n",
       "    </tr>\n",
       "    <tr>\n",
       "      <th>2</th>\n",
       "      <td>0.407643</td>\n",
       "      <td>0.444079</td>\n",
       "      <td>0.196581</td>\n",
       "      <td>0.501185</td>\n",
       "      <td>0.270633</td>\n",
       "      <td>0.575472</td>\n",
       "      <td>0.080115</td>\n",
       "      <td>0.002598</td>\n",
       "    </tr>\n",
       "    <tr>\n",
       "      <th>3</th>\n",
       "      <td>0.407643</td>\n",
       "      <td>0.444079</td>\n",
       "      <td>0.199430</td>\n",
       "      <td>0.501185</td>\n",
       "      <td>0.270633</td>\n",
       "      <td>0.575472</td>\n",
       "      <td>0.083252</td>\n",
       "      <td>0.002598</td>\n",
       "    </tr>\n",
       "    <tr>\n",
       "      <th>4</th>\n",
       "      <td>0.404459</td>\n",
       "      <td>0.444079</td>\n",
       "      <td>0.196581</td>\n",
       "      <td>0.502370</td>\n",
       "      <td>0.269674</td>\n",
       "      <td>0.580189</td>\n",
       "      <td>0.080215</td>\n",
       "      <td>0.003968</td>\n",
       "    </tr>\n",
       "  </tbody>\n",
       "</table>\n",
       "</div>"
      ],
      "text/plain": [
       "     Fx_lp3    Fy_lp3    Fz_lp3    Tx_lp3    Ty_lp3    Tz_lp3     F_lp3  \\\n",
       "0  0.407643  0.444079  0.202279  0.501185  0.269674  0.575472  0.086388   \n",
       "1  0.407643  0.444079  0.196581  0.501185  0.270633  0.575472  0.080115   \n",
       "2  0.407643  0.444079  0.196581  0.501185  0.270633  0.575472  0.080115   \n",
       "3  0.407643  0.444079  0.199430  0.501185  0.270633  0.575472  0.083252   \n",
       "4  0.404459  0.444079  0.196581  0.502370  0.269674  0.580189  0.080215   \n",
       "\n",
       "      T_lp3  \n",
       "0  0.003743  \n",
       "1  0.002598  \n",
       "2  0.002598  \n",
       "3  0.002598  \n",
       "4  0.003968  "
      ]
     },
     "execution_count": 7,
     "metadata": {},
     "output_type": "execute_result"
    }
   ],
   "source": [
    "X_lp3.head()"
   ]
  },
  {
   "attachments": {},
   "cell_type": "markdown",
   "metadata": {},
   "source": [
    "PCA on the resultant values"
   ]
  },
  {
   "cell_type": "code",
   "execution_count": 8,
   "metadata": {},
   "outputs": [
    {
     "name": "stdout",
     "output_type": "stream",
     "text": [
      "[0.90796711 0.09203289]\n"
     ]
    }
   ],
   "source": [
    "from sklearn.decomposition import PCA\n",
    "pca = PCA(n_components=2)\n",
    "pca.fit(X_lp3[[\"F_lp3\", \"T_lp3\"]])\n",
    "print(pca.explained_variance_ratio_)"
   ]
  },
  {
   "cell_type": "code",
   "execution_count": 9,
   "metadata": {},
   "outputs": [
    {
     "data": {
      "text/plain": [
       "<AxesSubplot:>"
      ]
     },
     "execution_count": 9,
     "metadata": {},
     "output_type": "execute_result"
    },
    {
     "data": {
      "image/png": "[encoded data removed]",
      "text/plain": [
       "<Figure size 432x288 with 2 Axes>"
      ]
     },
     "metadata": {
      "needs_background": "light"
     },
     "output_type": "display_data"
    }
   ],
   "source": [
    "sns.heatmap(X_lp3[[\"Fx_lp3\", \"Fy_lp3\", \"Fz_lp3\", \"Tx_lp3\", \"Ty_lp3\", \"Tz_lp3\"]].corr())"
   ]
  },
  {
   "attachments": {},
   "cell_type": "markdown",
   "metadata": {},
   "source": [
    "Converting the DF to numpy so as to convert it into 3d arrays and compute the average and overall force torque values\n",
    "Followed by reshaping it into 3d numpy arrays"
   ]
  },
  {
   "cell_type": "code",
   "execution_count": 10,
   "metadata": {},
   "outputs": [],
   "source": [
    "X_lp3_numpy = X_lp3.to_numpy()\n",
    "X_lp3_numpy = X_lp3_numpy.reshape(-1,15,8)"
   ]
  },
  {
   "cell_type": "code",
   "execution_count": 11,
   "metadata": {},
   "outputs": [
    {
     "name": "stdout",
     "output_type": "stream",
     "text": [
      "(47, 15, 8)\n",
      "[[[0.40764331 0.44407895 0.2022792  ... 0.5754717  0.08638823 0.00374288]\n",
      "  [0.40764331 0.44407895 0.1965812  ... 0.5754717  0.08011548 0.00259755]\n",
      "  [0.40764331 0.44407895 0.1965812  ... 0.5754717  0.08011548 0.00259755]\n",
      "  ...\n",
      "  [0.40764331 0.44407895 0.19373219 ... 0.5754717  0.07697915 0.00374288]\n",
      "  [0.4044586  0.44407895 0.1994302  ... 0.58018868 0.08334983 0.00287546]\n",
      "  [0.40764331 0.44407895 0.1965812  ... 0.5754717  0.08011548 0.00259755]]\n",
      "\n",
      " [[0.43312102 0.44407895 0.1965812  ... 0.56132075 0.08074988 0.00418402]\n",
      "  [0.5477707  0.4375     0.1994302  ... 0.58962264 0.11579946 0.05908502]\n",
      "  [0.39808917 0.46052632 0.18233618 ... 0.57075472 0.06519577 0.01869571]\n",
      "  ...\n",
      "  [0.41082803 0.43092105 0.1994302  ... 0.5754717  0.08366315 0.00773468]\n",
      "  [0.40127389 0.46381579 0.19373219 ... 0.55660377 0.07770185 0.01762113]\n",
      "  [0.40127389 0.45065789 0.1994302  ... 0.5990566  0.08348696 0.01329685]]\n",
      "\n",
      " [[0.40764331 0.42763158 0.21367521 ... 0.58490566 0.09957906 0.01519619]\n",
      "  [0.41401274 0.45394737 0.18233618 ... 0.5754717  0.06441298 0.00611494]\n",
      "  [0.40127389 0.43092105 0.18803419 ... 0.59433962 0.07144823 0.01363646]\n",
      "  ...\n",
      "  [0.41401274 0.41776316 0.21937322 ... 0.58490566 0.10657375 0.01413246]\n",
      "  [0.39808917 0.46381579 0.16239316 ... 0.60849057 0.04353248 0.02593036]\n",
      "  [0.39490446 0.41447368 0.21652422 ... 0.57075472 0.10444902 0.02239322]]\n",
      "\n",
      " ...\n",
      "\n",
      " [[0.37579618 0.38157895 0.28205128 ... 0.50943396 0.18188628 0.05927804]\n",
      "  [0.35987261 0.41447368 0.20512821 ... 0.5754717  0.09676662 0.03802091]\n",
      "  [0.35350318 0.44078947 0.19373219 ... 0.55660377 0.08411287 0.035023  ]\n",
      "  ...\n",
      "  [0.41401274 0.4375     0.20797721 ... 0.54716981 0.09273667 0.00635436]\n",
      "  [0.41082803 0.42434211 0.21367521 ... 0.58490566 0.09976306 0.01421365]\n",
      "  [0.42356688 0.46381579 0.19088319 ... 0.56603774 0.07443273 0.01236718]]\n",
      "\n",
      " [[0.37579618 0.38157895 0.28205128 ... 0.50943396 0.18188628 0.05927804]\n",
      "  [0.35987261 0.41447368 0.20512821 ... 0.5754717  0.09676662 0.03802091]\n",
      "  [0.35350318 0.44078947 0.19373219 ... 0.55660377 0.08411287 0.035023  ]\n",
      "  ...\n",
      "  [0.41401274 0.4375     0.20797721 ... 0.54716981 0.09273667 0.00635436]\n",
      "  [0.41082803 0.42434211 0.21367521 ... 0.58490566 0.09976306 0.01421365]\n",
      "  [0.42356688 0.46381579 0.19088319 ... 0.56603774 0.07443273 0.01236718]]\n",
      "\n",
      " [[0.         0.39802632 0.14814815 ... 0.82075472 0.28649172 0.33158878]\n",
      "  [0.16878981 0.46052632 0.11965812 ... 0.54245283 0.12394265 0.12626771]\n",
      "  [0.27070064 0.48684211 0.13960114 ... 0.54716981 0.06798815 0.09251816]\n",
      "  ...\n",
      "  [0.41082803 0.45723684 0.1994302  ... 0.5754717  0.08334983 0.0130807 ]\n",
      "  [0.38853503 0.45394737 0.21937322 ... 0.5754717  0.10634048 0.01801857]\n",
      "  [0.38216561 0.45065789 0.1994302  ... 0.55660377 0.08512667 0.02701369]]]\n"
     ]
    }
   ],
   "source": [
    "print(X_lp3_numpy.shape)\n",
    "print(X_lp3_numpy)"
   ]
  },
  {
   "attachments": {},
   "cell_type": "markdown",
   "metadata": {},
   "source": [
    "Taking the mean of all the 15 readings for all the 8 columns"
   ]
  },
  {
   "cell_type": "code",
   "execution_count": 12,
   "metadata": {},
   "outputs": [],
   "source": [
    "X_lp3_avg = np.mean(X_lp3_numpy, axis=1)"
   ]
  },
  {
   "attachments": {},
   "cell_type": "markdown",
   "metadata": {},
   "source": [
    "Converting to dataframes for better visualisation"
   ]
  },
  {
   "cell_type": "code",
   "execution_count": 13,
   "metadata": {},
   "outputs": [],
   "source": [
    "X_lp3_dfprime = pd.DataFrame(X_lp3_avg, columns=[\"Fx_lp3\", \"Fy_lp3\", \"Fz_lp3\", \"Tx_lp3\", \"Ty_lp3\", \"Tz_lp3\", \"F_lp3\", \"T_lp3\"])"
   ]
  },
  {
   "attachments": {},
   "cell_type": "markdown",
   "metadata": {},
   "source": [
    "Combining X and Y "
   ]
  },
  {
   "cell_type": "code",
   "execution_count": 14,
   "metadata": {},
   "outputs": [],
   "source": [
    "X_lp3_df = pd.concat([X_lp3_dfprime, Y_lp3], axis = 1)"
   ]
  },
  {
   "attachments": {},
   "cell_type": "markdown",
   "metadata": {},
   "source": [
    "X_lp3_df = "
   ]
  },
  {
   "cell_type": "code",
   "execution_count": 15,
   "metadata": {},
   "outputs": [
    {
     "name": "stdout",
     "output_type": "stream",
     "text": [
      "<class 'pandas.core.frame.DataFrame'>\n",
      "RangeIndex: 47 entries, 0 to 46\n",
      "Data columns (total 9 columns):\n",
      " #   Column  Non-Null Count  Dtype  \n",
      "---  ------  --------------  -----  \n",
      " 0   Fx_lp3  47 non-null     float64\n",
      " 1   Fy_lp3  47 non-null     float64\n",
      " 2   Fz_lp3  47 non-null     float64\n",
      " 3   Tx_lp3  47 non-null     float64\n",
      " 4   Ty_lp3  47 non-null     float64\n",
      " 5   Tz_lp3  47 non-null     float64\n",
      " 6   F_lp3   47 non-null     float64\n",
      " 7   T_lp3   47 non-null     float64\n",
      " 8   Y_lp3   47 non-null     float64\n",
      "dtypes: float64(9)\n",
      "memory usage: 3.4 KB\n",
      "None\n"
     ]
    }
   ],
   "source": [
    "print(X_lp3_df.info())"
   ]
  },
  {
   "cell_type": "code",
   "execution_count": 16,
   "metadata": {},
   "outputs": [
    {
     "name": "stdout",
     "output_type": "stream",
     "text": [
      "          Fx_lp3     Fy_lp3     Fz_lp3     Tx_lp3     Ty_lp3     Tz_lp3  \\\n",
      "count  47.000000  47.000000  47.000000  47.000000  47.000000  47.000000   \n",
      "mean    0.412188   0.440850   0.202348   0.490589   0.263560   0.544025   \n",
      "std     0.026937   0.018741   0.013576   0.015153   0.017307   0.017778   \n",
      "min     0.365605   0.388596   0.169041   0.448657   0.237876   0.496855   \n",
      "25%     0.402442   0.436842   0.196486   0.482701   0.252911   0.531761   \n",
      "50%     0.405945   0.438816   0.200190   0.489889   0.257582   0.539623   \n",
      "75%     0.411677   0.443969   0.207028   0.499092   0.269482   0.553616   \n",
      "max     0.508917   0.488158   0.261728   0.524803   0.317274   0.580818   \n",
      "\n",
      "           F_lp3      T_lp3      Y_lp3  \n",
      "count  47.000000  47.000000  47.000000  \n",
      "mean    0.099494   0.041827   1.021277  \n",
      "std     0.025211   0.024972   1.010582  \n",
      "min     0.071640   0.002955   0.000000  \n",
      "25%     0.081492   0.024047   0.000000  \n",
      "50%     0.092266   0.035995   1.000000  \n",
      "75%     0.105781   0.049612   2.000000  \n",
      "max     0.180388   0.107075   3.000000  \n"
     ]
    }
   ],
   "source": [
    "print(X_lp3_df.describe())"
   ]
  },
  {
   "attachments": {},
   "cell_type": "markdown",
   "metadata": {},
   "source": [
    "Now is that all the data are checked for null values (no null values present), now data is visualised using various tools"
   ]
  },
  {
   "attachments": {},
   "cell_type": "markdown",
   "metadata": {},
   "source": [
    "1. Scatter Plot (done on both decimal and log scale)"
   ]
  },
  {
   "attachments": {},
   "cell_type": "markdown",
   "metadata": {},
   "source": [
    "lp3"
   ]
  },
  {
   "cell_type": "code",
   "execution_count": 17,
   "metadata": {},
   "outputs": [
    {
     "data": {
      "application/vnd.plotly.v1+json": {
       "config": {
        "plotlyServerURL": "https://plot.ly"
       },
       "data": [
        {
         "hovertemplate": "variable=Fx_lp3<br>value=%{x}<br>index=%{y}<extra></extra>",
         "legendgroup": "Fx_lp3",
         "marker": {
          "color": "red",
          "symbol": "circle"
         },
         "mode": "markers",
         "name": "Fx_lp3",
         "orientation": "h",
         "showlegend": true,
         "type": "scatter",
         "x": [
          0.4074309978768578,
          0.4174097664543524,
          0.4044585987261147,
          0.4065817409766455,
          0.4078556263269639,
          0.4063694267515924,
          0.4048832271762209,
          0.4055201698513801,
          0.4038216560509554,
          0.4016985138004247,
          0.40912951167728234,
          0.4089171974522293,
          0.4036093418259023,
          0.4078556263269639,
          0.4042462845010616,
          0.4059447983014863,
          0.40594479830148616,
          0.4033970276008493,
          0.4031847133757962,
          0.40509554140127396,
          0.49108280254777076,
          0.4490445859872611,
          0.45159235668789816,
          0.38683651804670915,
          0.38938428874734604,
          0.413588110403397,
          0.41528662420382173,
          0.4010615711252654,
          0.4065817409766454,
          0.39150743099787694,
          0.3983014861995754,
          0.4197452229299363,
          0.4197452229299363,
          0.46687898089171964,
          0.46687898089171964,
          0.373036093418259,
          0.4038216560509554,
          0.40976645435244163,
          0.39150743099787694,
          0.383864118895966,
          0.5089171974522293,
          0.4346072186836517,
          0.4046709129511677,
          0.40658174097664534,
          0.39978768577494694,
          0.39978768577494694,
          0.36560509554140125
         ],
         "xaxis": "x",
         "y": [
          0,
          1,
          2,
          3,
          4,
          5,
          6,
          7,
          8,
          9,
          10,
          11,
          12,
          13,
          14,
          15,
          16,
          17,
          18,
          19,
          20,
          21,
          22,
          23,
          24,
          25,
          26,
          27,
          28,
          29,
          30,
          31,
          32,
          33,
          34,
          35,
          36,
          37,
          38,
          39,
          40,
          41,
          42,
          43,
          44,
          45,
          46
         ],
         "yaxis": "y"
        },
        {
         "hovertemplate": "variable=Fy_lp3<br>value=%{x}<br>index=%{y}<extra></extra>",
         "legendgroup": "Fy_lp3",
         "marker": {
          "color": "blue",
          "symbol": "circle"
         },
         "mode": "markers",
         "name": "Fy_lp3",
         "orientation": "h",
         "showlegend": true,
         "type": "scatter",
         "x": [
          0.44407894736842113,
          0.4403508771929825,
          0.44254385964912285,
          0.43618421052631573,
          0.43793859649122807,
          0.43662280701754397,
          0.4385964912280702,
          0.43815789473684214,
          0.43750000000000006,
          0.4379385964912281,
          0.44605263157894737,
          0.43881578947368427,
          0.44495614035087716,
          0.43859649122807026,
          0.4390350877192982,
          0.43706140350877193,
          0.43596491228070183,
          0.43793859649122807,
          0.4421052631578947,
          0.44057017543859645,
          0.443859649122807,
          0.4581140350877193,
          0.40679824561403516,
          0.48815789473684207,
          0.48486842105263156,
          0.4337719298245614,
          0.42127192982456135,
          0.4399122807017544,
          0.443421052631579,
          0.43486842105263157,
          0.443421052631579,
          0.4469298245614034,
          0.4469298245614034,
          0.38859649122807016,
          0.3885964912280702,
          0.42807017543859643,
          0.43793859649122807,
          0.44649122807017544,
          0.437938596491228,
          0.43706140350877193,
          0.47872807017543867,
          0.4701754385964913,
          0.43881578947368427,
          0.48026315789473684,
          0.4304824561403508,
          0.4304824561403508,
          0.4429824561403509
         ],
         "xaxis": "x",
         "y": [
          0,
          1,
          2,
          3,
          4,
          5,
          6,
          7,
          8,
          9,
          10,
          11,
          12,
          13,
          14,
          15,
          16,
          17,
          18,
          19,
          20,
          21,
          22,
          23,
          24,
          25,
          26,
          27,
          28,
          29,
          30,
          31,
          32,
          33,
          34,
          35,
          36,
          37,
          38,
          39,
          40,
          41,
          42,
          43,
          44,
          45,
          46
         ],
         "yaxis": "y"
        },
        {
         "hovertemplate": "variable=Fz_lp3<br>value=%{x}<br>index=%{y}<extra></extra>",
         "legendgroup": "Fz_lp3",
         "marker": {
          "color": "green",
          "symbol": "circle"
         },
         "mode": "markers",
         "name": "Fz_lp3",
         "orientation": "h",
         "showlegend": true,
         "type": "scatter",
         "x": [
          0.19810066476733146,
          0.19753086419753085,
          0.19525166191832855,
          0.2020892687559354,
          0.19544159544159542,
          0.1956315289648623,
          0.19677113010446348,
          0.19468186134852802,
          0.19715099715099713,
          0.1998100664767331,
          0.19924026590693253,
          0.2001899335232669,
          0.1943019943019943,
          0.19886039886039886,
          0.19468186134852802,
          0.19506172839506172,
          0.19620132953466285,
          0.19715099715099715,
          0.19715099715099713,
          0.19715099715099715,
          0.21785375118708453,
          0.2617283950617284,
          0.20645773979107312,
          0.21671415004748334,
          0.19943019943019943,
          0.20455840455840452,
          0.20037986704653374,
          0.20341880341880342,
          0.20759734093067425,
          0.2024691358024691,
          0.209306742640076,
          0.20987654320987656,
          0.20987654320987656,
          0.2022792022792023,
          0.20227920227920226,
          0.17094017094017094,
          0.21139601139601139,
          0.21006647673314338,
          0.21063627730294396,
          0.22545109211775874,
          0.22355175688509019,
          0.16904083570750233,
          0.20512820512820512,
          0.1872744539411206,
          0.2043684710351377,
          0.2043684710351377,
          0.19145299145299147
         ],
         "xaxis": "x",
         "y": [
          0,
          1,
          2,
          3,
          4,
          5,
          6,
          7,
          8,
          9,
          10,
          11,
          12,
          13,
          14,
          15,
          16,
          17,
          18,
          19,
          20,
          21,
          22,
          23,
          24,
          25,
          26,
          27,
          28,
          29,
          30,
          31,
          32,
          33,
          34,
          35,
          36,
          37,
          38,
          39,
          40,
          41,
          42,
          43,
          44,
          45,
          46
         ],
         "yaxis": "y"
        },
        {
         "hovertemplate": "variable=Tx_lp3<br>value=%{x}<br>index=%{y}<extra></extra>",
         "legendgroup": "Tx_lp3",
         "marker": {
          "color": "purple",
          "symbol": "circle"
         },
         "mode": "markers",
         "name": "Tx_lp3",
         "orientation": "h",
         "showlegend": true,
         "type": "scatter",
         "x": [
          0.5014218009478673,
          0.5018167456556083,
          0.49984202211690365,
          0.4996050552922591,
          0.49565560821485,
          0.49383886255924175,
          0.4888625592417062,
          0.4846761453396525,
          0.481437598736177,
          0.4803317535545023,
          0.4742496050552923,
          0.5044233807266983,
          0.4976303317535545,
          0.4985781990521327,
          0.49573459715639806,
          0.49360189573459723,
          0.48988941548183257,
          0.4830173775671406,
          0.4794628751974724,
          0.4778830963665086,
          0.48278041074249606,
          0.4567930489731438,
          0.5201421800947866,
          0.4486571879936809,
          0.47203791469194323,
          0.4883886255924171,
          0.49770932069510276,
          0.4826224328593997,
          0.4760663507109004,
          0.49691943127962096,
          0.4858609794628752,
          0.48428120063191155,
          0.48428120063191155,
          0.5248025276461294,
          0.5248025276461294,
          0.5035545023696683,
          0.4834913112164298,
          0.4707740916271722,
          0.4893364928909953,
          0.4962085308056872,
          0.49636650868878357,
          0.4715639810426541,
          0.5003949447077409,
          0.48491311216429694,
          0.5102685624012637,
          0.5102685624012637,
          0.4924170616113744
         ],
         "xaxis": "x",
         "y": [
          0,
          1,
          2,
          3,
          4,
          5,
          6,
          7,
          8,
          9,
          10,
          11,
          12,
          13,
          14,
          15,
          16,
          17,
          18,
          19,
          20,
          21,
          22,
          23,
          24,
          25,
          26,
          27,
          28,
          29,
          30,
          31,
          32,
          33,
          34,
          35,
          36,
          37,
          38,
          39,
          40,
          41,
          42,
          43,
          44,
          45,
          46
         ],
         "yaxis": "y"
        },
        {
         "hovertemplate": "variable=Ty_lp3<br>value=%{x}<br>index=%{y}<extra></extra>",
         "legendgroup": "Ty_lp3",
         "marker": {
          "color": "orange",
          "symbol": "circle"
         },
         "mode": "markers",
         "name": "Ty_lp3",
         "orientation": "h",
         "showlegend": true,
         "type": "scatter",
         "x": [
          0.2703774792066539,
          0.272296865003199,
          0.2648112603966731,
          0.26199616122840685,
          0.2602687140115163,
          0.25655790147152907,
          0.2542546385156749,
          0.2527831094049904,
          0.25175943698016634,
          0.2507997440818938,
          0.25406269993602043,
          0.2693538067818298,
          0.26353166986564297,
          0.2612923864363404,
          0.2579654510556622,
          0.2575815738963531,
          0.2547024952015355,
          0.25246321177223285,
          0.2523352527191298,
          0.2527831094049903,
          0.2963531669865643,
          0.317274472168906,
          0.2829174664107485,
          0.2461932181701855,
          0.2564939219449776,
          0.26231605886116444,
          0.2596928982725527,
          0.254510556621881,
          0.255662188099808,
          0.25579014715291104,
          0.2530390275111964,
          0.2696097248880358,
          0.26960972488803586,
          0.3068458093410109,
          0.3068458093410109,
          0.23787587971849006,
          0.2550863723608445,
          0.2541906589891235,
          0.24574536148432502,
          0.24670505438259754,
          0.3004478566858605,
          0.25259117082533594,
          0.27357645553422905,
          0.2792066538707613,
          0.26596289187460015,
          0.26596289187460015,
          0.24484964811260396
         ],
         "xaxis": "x",
         "y": [
          0,
          1,
          2,
          3,
          4,
          5,
          6,
          7,
          8,
          9,
          10,
          11,
          12,
          13,
          14,
          15,
          16,
          17,
          18,
          19,
          20,
          21,
          22,
          23,
          24,
          25,
          26,
          27,
          28,
          29,
          30,
          31,
          32,
          33,
          34,
          35,
          36,
          37,
          38,
          39,
          40,
          41,
          42,
          43,
          44,
          45,
          46
         ],
         "yaxis": "y"
        },
        {
         "hovertemplate": "variable=Tz_lp3<br>value=%{x}<br>index=%{y}<extra></extra>",
         "legendgroup": "Tz_lp3",
         "marker": {
          "color": "yellow",
          "symbol": "circle"
         },
         "mode": "markers",
         "name": "Tz_lp3",
         "orientation": "h",
         "showlegend": true,
         "type": "scatter",
         "x": [
          0.5764150943396227,
          0.5742138364779874,
          0.5679245283018868,
          0.5477987421383648,
          0.5468553459119497,
          0.5437106918238995,
          0.5367924528301885,
          0.5261006289308177,
          0.5298742138364779,
          0.5242138364779875,
          0.5355345911949686,
          0.580817610062893,
          0.5622641509433962,
          0.5500000000000002,
          0.5477987421383648,
          0.5459119496855346,
          0.529245283018868,
          0.530188679245283,
          0.5251572327044025,
          0.5333333333333334,
          0.5352201257861634,
          0.5270440251572327,
          0.5660377358490566,
          0.5465408805031446,
          0.5559748427672956,
          0.528616352201258,
          0.5261006289308178,
          0.5349056603773585,
          0.5292452830188679,
          0.5411949685534592,
          0.5393081761006289,
          0.5396226415094341,
          0.5396226415094341,
          0.5625786163522014,
          0.5625786163522013,
          0.5512578616352202,
          0.5339622641509435,
          0.5383647798742139,
          0.5342767295597484,
          0.5160377358490567,
          0.5358490566037736,
          0.4968553459119497,
          0.5499999999999999,
          0.5512578616352202,
          0.5666666666666667,
          0.5666666666666667,
          0.5792452830188679
         ],
         "xaxis": "x",
         "y": [
          0,
          1,
          2,
          3,
          4,
          5,
          6,
          7,
          8,
          9,
          10,
          11,
          12,
          13,
          14,
          15,
          16,
          17,
          18,
          19,
          20,
          21,
          22,
          23,
          24,
          25,
          26,
          27,
          28,
          29,
          30,
          31,
          32,
          33,
          34,
          35,
          36,
          37,
          38,
          39,
          40,
          41,
          42,
          43,
          44,
          45,
          46
         ],
         "yaxis": "y"
        }
       ],
       "layout": {
        "legend": {
         "title": {
          "text": "variable"
         },
         "tracegroupgap": 0
        },
        "margin": {
         "t": 60
        },
        "template": {
         "data": {
          "bar": [
           {
            "error_x": {
             "color": "#2a3f5f"
            },
            "error_y": {
             "color": "#2a3f5f"
            },
            "marker": {
             "line": {
              "color": "#E5ECF6",
              "width": 0.5
             },
             "pattern": {
              "fillmode": "overlay",
              "size": 10,
              "solidity": 0.2
             }
            },
            "type": "bar"
           }
          ],
          "barpolar": [
           {
            "marker": {
             "line": {
              "color": "#E5ECF6",
              "width": 0.5
             },
             "pattern": {
              "fillmode": "overlay",
              "size": 10,
              "solidity": 0.2
             }
            },
            "type": "barpolar"
           }
          ],
          "carpet": [
           {
            "aaxis": {
             "endlinecolor": "#2a3f5f",
             "gridcolor": "white",
             "linecolor": "white",
             "minorgridcolor": "white",
             "startlinecolor": "#2a3f5f"
            },
            "baxis": {
             "endlinecolor": "#2a3f5f",
             "gridcolor": "white",
             "linecolor": "white",
             "minorgridcolor": "white",
             "startlinecolor": "#2a3f5f"
            },
            "type": "carpet"
           }
          ],
          "choropleth": [
           {
            "colorbar": {
             "outlinewidth": 0,
             "ticks": ""
            },
            "type": "choropleth"
           }
          ],
          "contour": [
           {
            "colorbar": {
             "outlinewidth": 0,
             "ticks": ""
            },
            "colorscale": [
             [
              0,
              "#0d0887"
             ],
             [
              0.1111111111111111,
              "#46039f"
             ],
             [
              0.2222222222222222,
              "#7201a8"
             ],
             [
              0.3333333333333333,
              "#9c179e"
             ],
             [
              0.4444444444444444,
              "#bd3786"
             ],
             [
              0.5555555555555556,
              "#d8576b"
             ],
             [
              0.6666666666666666,
              "#ed7953"
             ],
             [
              0.7777777777777778,
              "#fb9f3a"
             ],
             [
              0.8888888888888888,
              "#fdca26"
             ],
             [
              1,
              "#f0f921"
             ]
            ],
            "type": "contour"
           }
          ],
          "contourcarpet": [
           {
            "colorbar": {
             "outlinewidth": 0,
             "ticks": ""
            },
            "type": "contourcarpet"
           }
          ],
          "heatmap": [
           {
            "colorbar": {
             "outlinewidth": 0,
             "ticks": ""
            },
            "colorscale": [
             [
              0,
              "#0d0887"
             ],
             [
              0.1111111111111111,
              "#46039f"
             ],
             [
              0.2222222222222222,
              "#7201a8"
             ],
             [
              0.3333333333333333,
              "#9c179e"
             ],
             [
              0.4444444444444444,
              "#bd3786"
             ],
             [
              0.5555555555555556,
              "#d8576b"
             ],
             [
              0.6666666666666666,
              "#ed7953"
             ],
             [
              0.7777777777777778,
              "#fb9f3a"
             ],
             [
              0.8888888888888888,
              "#fdca26"
             ],
             [
              1,
              "#f0f921"
             ]
            ],
            "type": "heatmap"
           }
          ],
          "heatmapgl": [
           {
            "colorbar": {
             "outlinewidth": 0,
             "ticks": ""
            },
            "colorscale": [
             [
              0,
              "#0d0887"
             ],
             [
              0.1111111111111111,
              "#46039f"
             ],
             [
              0.2222222222222222,
              "#7201a8"
             ],
             [
              0.3333333333333333,
              "#9c179e"
             ],
             [
              0.4444444444444444,
              "#bd3786"
             ],
             [
              0.5555555555555556,
              "#d8576b"
             ],
             [
              0.6666666666666666,
              "#ed7953"
             ],
             [
              0.7777777777777778,
              "#fb9f3a"
             ],
             [
              0.8888888888888888,
              "#fdca26"
             ],
             [
              1,
              "#f0f921"
             ]
            ],
            "type": "heatmapgl"
           }
          ],
          "histogram": [
           {
            "marker": {
             "pattern": {
              "fillmode": "overlay",
              "size": 10,
              "solidity": 0.2
             }
            },
            "type": "histogram"
           }
          ],
          "histogram2d": [
           {
            "colorbar": {
             "outlinewidth": 0,
             "ticks": ""
            },
            "colorscale": [
             [
              0,
              "#0d0887"
             ],
             [
              0.1111111111111111,
              "#46039f"
             ],
             [
              0.2222222222222222,
              "#7201a8"
             ],
             [
              0.3333333333333333,
              "#9c179e"
             ],
             [
              0.4444444444444444,
              "#bd3786"
             ],
             [
              0.5555555555555556,
              "#d8576b"
             ],
             [
              0.6666666666666666,
              "#ed7953"
             ],
             [
              0.7777777777777778,
              "#fb9f3a"
             ],
             [
              0.8888888888888888,
              "#fdca26"
             ],
             [
              1,
              "#f0f921"
             ]
            ],
            "type": "histogram2d"
           }
          ],
          "histogram2dcontour": [
           {
            "colorbar": {
             "outlinewidth": 0,
             "ticks": ""
            },
            "colorscale": [
             [
              0,
              "#0d0887"
             ],
             [
              0.1111111111111111,
              "#46039f"
             ],
             [
              0.2222222222222222,
              "#7201a8"
             ],
             [
              0.3333333333333333,
              "#9c179e"
             ],
             [
              0.4444444444444444,
              "#bd3786"
             ],
             [
              0.5555555555555556,
              "#d8576b"
             ],
             [
              0.6666666666666666,
              "#ed7953"
             ],
             [
              0.7777777777777778,
              "#fb9f3a"
             ],
             [
              0.8888888888888888,
              "#fdca26"
             ],
             [
              1,
              "#f0f921"
             ]
            ],
            "type": "histogram2dcontour"
           }
          ],
          "mesh3d": [
           {
            "colorbar": {
             "outlinewidth": 0,
             "ticks": ""
            },
            "type": "mesh3d"
           }
          ],
          "parcoords": [
           {
            "line": {
             "colorbar": {
              "outlinewidth": 0,
              "ticks": ""
             }
            },
            "type": "parcoords"
           }
          ],
          "pie": [
           {
            "automargin": true,
            "type": "pie"
           }
          ],
          "scatter": [
           {
            "fillpattern": {
             "fillmode": "overlay",
             "size": 10,
             "solidity": 0.2
            },
            "type": "scatter"
           }
          ],
          "scatter3d": [
           {
            "line": {
             "colorbar": {
              "outlinewidth": 0,
              "ticks": ""
             }
            },
            "marker": {
             "colorbar": {
              "outlinewidth": 0,
              "ticks": ""
             }
            },
            "type": "scatter3d"
           }
          ],
          "scattercarpet": [
           {
            "marker": {
             "colorbar": {
              "outlinewidth": 0,
              "ticks": ""
             }
            },
            "type": "scattercarpet"
           }
          ],
          "scattergeo": [
           {
            "marker": {
             "colorbar": {
              "outlinewidth": 0,
              "ticks": ""
             }
            },
            "type": "scattergeo"
           }
          ],
          "scattergl": [
           {
            "marker": {
             "colorbar": {
              "outlinewidth": 0,
              "ticks": ""
             }
            },
            "type": "scattergl"
           }
          ],
          "scattermapbox": [
           {
            "marker": {
             "colorbar": {
              "outlinewidth": 0,
              "ticks": ""
             }
            },
            "type": "scattermapbox"
           }
          ],
          "scatterpolar": [
           {
            "marker": {
             "colorbar": {
              "outlinewidth": 0,
              "ticks": ""
             }
            },
            "type": "scatterpolar"
           }
          ],
          "scatterpolargl": [
           {
            "marker": {
             "colorbar": {
              "outlinewidth": 0,
              "ticks": ""
             }
            },
            "type": "scatterpolargl"
           }
          ],
          "scatterternary": [
           {
            "marker": {
             "colorbar": {
              "outlinewidth": 0,
              "ticks": ""
             }
            },
            "type": "scatterternary"
           }
          ],
          "surface": [
           {
            "colorbar": {
             "outlinewidth": 0,
             "ticks": ""
            },
            "colorscale": [
             [
              0,
              "#0d0887"
             ],
             [
              0.1111111111111111,
              "#46039f"
             ],
             [
              0.2222222222222222,
              "#7201a8"
             ],
             [
              0.3333333333333333,
              "#9c179e"
             ],
             [
              0.4444444444444444,
              "#bd3786"
             ],
             [
              0.5555555555555556,
              "#d8576b"
             ],
             [
              0.6666666666666666,
              "#ed7953"
             ],
             [
              0.7777777777777778,
              "#fb9f3a"
             ],
             [
              0.8888888888888888,
              "#fdca26"
             ],
             [
              1,
              "#f0f921"
             ]
            ],
            "type": "surface"
           }
          ],
          "table": [
           {
            "cells": {
             "fill": {
              "color": "#EBF0F8"
             },
             "line": {
              "color": "white"
             }
            },
            "header": {
             "fill": {
              "color": "#C8D4E3"
             },
             "line": {
              "color": "white"
             }
            },
            "type": "table"
           }
          ]
         },
         "layout": {
          "annotationdefaults": {
           "arrowcolor": "#2a3f5f",
           "arrowhead": 0,
           "arrowwidth": 1
          },
          "autotypenumbers": "strict",
          "coloraxis": {
           "colorbar": {
            "outlinewidth": 0,
            "ticks": ""
           }
          },
          "colorscale": {
           "diverging": [
            [
             0,
             "#8e0152"
            ],
            [
             0.1,
             "#c51b7d"
            ],
            [
             0.2,
             "#de77ae"
            ],
            [
             0.3,
             "#f1b6da"
            ],
            [
             0.4,
             "#fde0ef"
            ],
            [
             0.5,
             "#f7f7f7"
            ],
            [
             0.6,
             "#e6f5d0"
            ],
            [
             0.7,
             "#b8e186"
            ],
            [
             0.8,
             "#7fbc41"
            ],
            [
             0.9,
             "#4d9221"
            ],
            [
             1,
             "#276419"
            ]
           ],
           "sequential": [
            [
             0,
             "#0d0887"
            ],
            [
             0.1111111111111111,
             "#46039f"
            ],
            [
             0.2222222222222222,
             "#7201a8"
            ],
            [
             0.3333333333333333,
             "#9c179e"
            ],
            [
             0.4444444444444444,
             "#bd3786"
            ],
            [
             0.5555555555555556,
             "#d8576b"
            ],
            [
             0.6666666666666666,
             "#ed7953"
            ],
            [
             0.7777777777777778,
             "#fb9f3a"
            ],
            [
             0.8888888888888888,
             "#fdca26"
            ],
            [
             1,
             "#f0f921"
            ]
           ],
           "sequentialminus": [
            [
             0,
             "#0d0887"
            ],
            [
             0.1111111111111111,
             "#46039f"
            ],
            [
             0.2222222222222222,
             "#7201a8"
            ],
            [
             0.3333333333333333,
             "#9c179e"
            ],
            [
             0.4444444444444444,
             "#bd3786"
            ],
            [
             0.5555555555555556,
             "#d8576b"
            ],
            [
             0.6666666666666666,
             "#ed7953"
            ],
            [
             0.7777777777777778,
             "#fb9f3a"
            ],
            [
             0.8888888888888888,
             "#fdca26"
            ],
            [
             1,
             "#f0f921"
            ]
           ]
          },
          "colorway": [
           "#636efa",
           "#EF553B",
           "#00cc96",
           "#ab63fa",
           "#FFA15A",
           "#19d3f3",
           "#FF6692",
           "#B6E880",
           "#FF97FF",
           "#FECB52"
          ],
          "font": {
           "color": "#2a3f5f"
          },
          "geo": {
           "bgcolor": "white",
           "lakecolor": "white",
           "landcolor": "#E5ECF6",
           "showlakes": true,
           "showland": true,
           "subunitcolor": "white"
          },
          "hoverlabel": {
           "align": "left"
          },
          "hovermode": "closest",
          "mapbox": {
           "style": "light"
          },
          "paper_bgcolor": "white",
          "plot_bgcolor": "#E5ECF6",
          "polar": {
           "angularaxis": {
            "gridcolor": "white",
            "linecolor": "white",
            "ticks": ""
           },
           "bgcolor": "#E5ECF6",
           "radialaxis": {
            "gridcolor": "white",
            "linecolor": "white",
            "ticks": ""
           }
          },
          "scene": {
           "xaxis": {
            "backgroundcolor": "#E5ECF6",
            "gridcolor": "white",
            "gridwidth": 2,
            "linecolor": "white",
            "showbackground": true,
            "ticks": "",
            "zerolinecolor": "white"
           },
           "yaxis": {
            "backgroundcolor": "#E5ECF6",
            "gridcolor": "white",
            "gridwidth": 2,
            "linecolor": "white",
            "showbackground": true,
            "ticks": "",
            "zerolinecolor": "white"
           },
           "zaxis": {
            "backgroundcolor": "#E5ECF6",
            "gridcolor": "white",
            "gridwidth": 2,
            "linecolor": "white",
            "showbackground": true,
            "ticks": "",
            "zerolinecolor": "white"
           }
          },
          "shapedefaults": {
           "line": {
            "color": "#2a3f5f"
           }
          },
          "ternary": {
           "aaxis": {
            "gridcolor": "white",
            "linecolor": "white",
            "ticks": ""
           },
           "baxis": {
            "gridcolor": "white",
            "linecolor": "white",
            "ticks": ""
           },
           "bgcolor": "#E5ECF6",
           "caxis": {
            "gridcolor": "white",
            "linecolor": "white",
            "ticks": ""
           }
          },
          "title": {
           "x": 0.05
          },
          "xaxis": {
           "automargin": true,
           "gridcolor": "white",
           "linecolor": "white",
           "ticks": "",
           "title": {
            "standoff": 15
           },
           "zerolinecolor": "white",
           "zerolinewidth": 2
          },
          "yaxis": {
           "automargin": true,
           "gridcolor": "white",
           "linecolor": "white",
           "ticks": "",
           "title": {
            "standoff": 15
           },
           "zerolinecolor": "white",
           "zerolinewidth": 2
          }
         }
        },
        "xaxis": {
         "anchor": "y",
         "domain": [
          0,
          1
         ],
         "title": {
          "text": "value"
         }
        },
        "yaxis": {
         "anchor": "x",
         "domain": [
          0,
          1
         ],
         "title": {
          "text": "index"
         }
        }
       }
      }
     },
     "metadata": {},
     "output_type": "display_data"
    },
    {
     "data": {
      "application/vnd.plotly.v1+json": {
       "config": {
        "plotlyServerURL": "https://plot.ly"
       },
       "data": [
        {
         "hovertemplate": "variable=Fx_lp3<br>value=%{x}<br>Y_lp3=%{y}<extra></extra>",
         "legendgroup": "Fx_lp3",
         "marker": {
          "color": "#636efa",
          "symbol": "circle"
         },
         "mode": "markers",
         "name": "Fx_lp3",
         "orientation": "v",
         "showlegend": true,
         "type": "scatter",
         "x": [
          0.4074309978768578,
          0.4174097664543524,
          0.4044585987261147,
          0.4065817409766455,
          0.4078556263269639,
          0.4063694267515924,
          0.4048832271762209,
          0.4055201698513801,
          0.4038216560509554,
          0.4016985138004247,
          0.40912951167728234,
          0.4089171974522293,
          0.4036093418259023,
          0.4078556263269639,
          0.4042462845010616,
          0.4059447983014863,
          0.40594479830148616,
          0.4033970276008493,
          0.4031847133757962,
          0.40509554140127396,
          0.49108280254777076,
          0.4490445859872611,
          0.45159235668789816,
          0.38683651804670915,
          0.38938428874734604,
          0.413588110403397,
          0.41528662420382173,
          0.4010615711252654,
          0.4065817409766454,
          0.39150743099787694,
          0.3983014861995754,
          0.4197452229299363,
          0.4197452229299363,
          0.46687898089171964,
          0.46687898089171964,
          0.373036093418259,
          0.4038216560509554,
          0.40976645435244163,
          0.39150743099787694,
          0.383864118895966,
          0.5089171974522293,
          0.4346072186836517,
          0.4046709129511677,
          0.40658174097664534,
          0.39978768577494694,
          0.39978768577494694,
          0.36560509554140125
         ],
         "xaxis": "x",
         "y": [
          0,
          0,
          0,
          0,
          0,
          0,
          0,
          0,
          0,
          0,
          0,
          0,
          0,
          0,
          0,
          0,
          0,
          0,
          0,
          0,
          2,
          2,
          1,
          2,
          1,
          1,
          1,
          1,
          1,
          2,
          1,
          2,
          2,
          2,
          2,
          3,
          2,
          2,
          2,
          2,
          2,
          3,
          2,
          3,
          1,
          1,
          2
         ],
         "yaxis": "y"
        },
        {
         "hovertemplate": "variable=Fy_lp3<br>value=%{x}<br>Y_lp3=%{y}<extra></extra>",
         "legendgroup": "Fy_lp3",
         "marker": {
          "color": "#EF553B",
          "symbol": "circle"
         },
         "mode": "markers",
         "name": "Fy_lp3",
         "orientation": "v",
         "showlegend": true,
         "type": "scatter",
         "x": [
          0.44407894736842113,
          0.4403508771929825,
          0.44254385964912285,
          0.43618421052631573,
          0.43793859649122807,
          0.43662280701754397,
          0.4385964912280702,
          0.43815789473684214,
          0.43750000000000006,
          0.4379385964912281,
          0.44605263157894737,
          0.43881578947368427,
          0.44495614035087716,
          0.43859649122807026,
          0.4390350877192982,
          0.43706140350877193,
          0.43596491228070183,
          0.43793859649122807,
          0.4421052631578947,
          0.44057017543859645,
          0.443859649122807,
          0.4581140350877193,
          0.40679824561403516,
          0.48815789473684207,
          0.48486842105263156,
          0.4337719298245614,
          0.42127192982456135,
          0.4399122807017544,
          0.443421052631579,
          0.43486842105263157,
          0.443421052631579,
          0.4469298245614034,
          0.4469298245614034,
          0.38859649122807016,
          0.3885964912280702,
          0.42807017543859643,
          0.43793859649122807,
          0.44649122807017544,
          0.437938596491228,
          0.43706140350877193,
          0.47872807017543867,
          0.4701754385964913,
          0.43881578947368427,
          0.48026315789473684,
          0.4304824561403508,
          0.4304824561403508,
          0.4429824561403509
         ],
         "xaxis": "x",
         "y": [
          0,
          0,
          0,
          0,
          0,
          0,
          0,
          0,
          0,
          0,
          0,
          0,
          0,
          0,
          0,
          0,
          0,
          0,
          0,
          0,
          2,
          2,
          1,
          2,
          1,
          1,
          1,
          1,
          1,
          2,
          1,
          2,
          2,
          2,
          2,
          3,
          2,
          2,
          2,
          2,
          2,
          3,
          2,
          3,
          1,
          1,
          2
         ],
         "yaxis": "y"
        },
        {
         "hovertemplate": "variable=Fz_lp3<br>value=%{x}<br>Y_lp3=%{y}<extra></extra>",
         "legendgroup": "Fz_lp3",
         "marker": {
          "color": "#00cc96",
          "symbol": "circle"
         },
         "mode": "markers",
         "name": "Fz_lp3",
         "orientation": "v",
         "showlegend": true,
         "type": "scatter",
         "x": [
          0.19810066476733146,
          0.19753086419753085,
          0.19525166191832855,
          0.2020892687559354,
          0.19544159544159542,
          0.1956315289648623,
          0.19677113010446348,
          0.19468186134852802,
          0.19715099715099713,
          0.1998100664767331,
          0.19924026590693253,
          0.2001899335232669,
          0.1943019943019943,
          0.19886039886039886,
          0.19468186134852802,
          0.19506172839506172,
          0.19620132953466285,
          0.19715099715099715,
          0.19715099715099713,
          0.19715099715099715,
          0.21785375118708453,
          0.2617283950617284,
          0.20645773979107312,
          0.21671415004748334,
          0.19943019943019943,
          0.20455840455840452,
          0.20037986704653374,
          0.20341880341880342,
          0.20759734093067425,
          0.2024691358024691,
          0.209306742640076,
          0.20987654320987656,
          0.20987654320987656,
          0.2022792022792023,
          0.20227920227920226,
          0.17094017094017094,
          0.21139601139601139,
          0.21006647673314338,
          0.21063627730294396,
          0.22545109211775874,
          0.22355175688509019,
          0.16904083570750233,
          0.20512820512820512,
          0.1872744539411206,
          0.2043684710351377,
          0.2043684710351377,
          0.19145299145299147
         ],
         "xaxis": "x",
         "y": [
          0,
          0,
          0,
          0,
          0,
          0,
          0,
          0,
          0,
          0,
          0,
          0,
          0,
          0,
          0,
          0,
          0,
          0,
          0,
          0,
          2,
          2,
          1,
          2,
          1,
          1,
          1,
          1,
          1,
          2,
          1,
          2,
          2,
          2,
          2,
          3,
          2,
          2,
          2,
          2,
          2,
          3,
          2,
          3,
          1,
          1,
          2
         ],
         "yaxis": "y"
        },
        {
         "hovertemplate": "variable=Tx_lp3<br>value=%{x}<br>Y_lp3=%{y}<extra></extra>",
         "legendgroup": "Tx_lp3",
         "marker": {
          "color": "#ab63fa",
          "symbol": "circle"
         },
         "mode": "markers",
         "name": "Tx_lp3",
         "orientation": "v",
         "showlegend": true,
         "type": "scatter",
         "x": [
          0.5014218009478673,
          0.5018167456556083,
          0.49984202211690365,
          0.4996050552922591,
          0.49565560821485,
          0.49383886255924175,
          0.4888625592417062,
          0.4846761453396525,
          0.481437598736177,
          0.4803317535545023,
          0.4742496050552923,
          0.5044233807266983,
          0.4976303317535545,
          0.4985781990521327,
          0.49573459715639806,
          0.49360189573459723,
          0.48988941548183257,
          0.4830173775671406,
          0.4794628751974724,
          0.4778830963665086,
          0.48278041074249606,
          0.4567930489731438,
          0.5201421800947866,
          0.4486571879936809,
          0.47203791469194323,
          0.4883886255924171,
          0.49770932069510276,
          0.4826224328593997,
          0.4760663507109004,
          0.49691943127962096,
          0.4858609794628752,
          0.48428120063191155,
          0.48428120063191155,
          0.5248025276461294,
          0.5248025276461294,
          0.5035545023696683,
          0.4834913112164298,
          0.4707740916271722,
          0.4893364928909953,
          0.4962085308056872,
          0.49636650868878357,
          0.4715639810426541,
          0.5003949447077409,
          0.48491311216429694,
          0.5102685624012637,
          0.5102685624012637,
          0.4924170616113744
         ],
         "xaxis": "x",
         "y": [
          0,
          0,
          0,
          0,
          0,
          0,
          0,
          0,
          0,
          0,
          0,
          0,
          0,
          0,
          0,
          0,
          0,
          0,
          0,
          0,
          2,
          2,
          1,
          2,
          1,
          1,
          1,
          1,
          1,
          2,
          1,
          2,
          2,
          2,
          2,
          3,
          2,
          2,
          2,
          2,
          2,
          3,
          2,
          3,
          1,
          1,
          2
         ],
         "yaxis": "y"
        },
        {
         "hovertemplate": "variable=Ty_lp3<br>value=%{x}<br>Y_lp3=%{y}<extra></extra>",
         "legendgroup": "Ty_lp3",
         "marker": {
          "color": "#FFA15A",
          "symbol": "circle"
         },
         "mode": "markers",
         "name": "Ty_lp3",
         "orientation": "v",
         "showlegend": true,
         "type": "scatter",
         "x": [
          0.2703774792066539,
          0.272296865003199,
          0.2648112603966731,
          0.26199616122840685,
          0.2602687140115163,
          0.25655790147152907,
          0.2542546385156749,
          0.2527831094049904,
          0.25175943698016634,
          0.2507997440818938,
          0.25406269993602043,
          0.2693538067818298,
          0.26353166986564297,
          0.2612923864363404,
          0.2579654510556622,
          0.2575815738963531,
          0.2547024952015355,
          0.25246321177223285,
          0.2523352527191298,
          0.2527831094049903,
          0.2963531669865643,
          0.317274472168906,
          0.2829174664107485,
          0.2461932181701855,
          0.2564939219449776,
          0.26231605886116444,
          0.2596928982725527,
          0.254510556621881,
          0.255662188099808,
          0.25579014715291104,
          0.2530390275111964,
          0.2696097248880358,
          0.26960972488803586,
          0.3068458093410109,
          0.3068458093410109,
          0.23787587971849006,
          0.2550863723608445,
          0.2541906589891235,
          0.24574536148432502,
          0.24670505438259754,
          0.3004478566858605,
          0.25259117082533594,
          0.27357645553422905,
          0.2792066538707613,
          0.26596289187460015,
          0.26596289187460015,
          0.24484964811260396
         ],
         "xaxis": "x",
         "y": [
          0,
          0,
          0,
          0,
          0,
          0,
          0,
          0,
          0,
          0,
          0,
          0,
          0,
          0,
          0,
          0,
          0,
          0,
          0,
          0,
          2,
          2,
          1,
          2,
          1,
          1,
          1,
          1,
          1,
          2,
          1,
          2,
          2,
          2,
          2,
          3,
          2,
          2,
          2,
          2,
          2,
          3,
          2,
          3,
          1,
          1,
          2
         ],
         "yaxis": "y"
        },
        {
         "hovertemplate": "variable=Tz_lp3<br>value=%{x}<br>Y_lp3=%{y}<extra></extra>",
         "legendgroup": "Tz_lp3",
         "marker": {
          "color": "#19d3f3",
          "symbol": "circle"
         },
         "mode": "markers",
         "name": "Tz_lp3",
         "orientation": "v",
         "showlegend": true,
         "type": "scatter",
         "x": [
          0.5764150943396227,
          0.5742138364779874,
          0.5679245283018868,
          0.5477987421383648,
          0.5468553459119497,
          0.5437106918238995,
          0.5367924528301885,
          0.5261006289308177,
          0.5298742138364779,
          0.5242138364779875,
          0.5355345911949686,
          0.580817610062893,
          0.5622641509433962,
          0.5500000000000002,
          0.5477987421383648,
          0.5459119496855346,
          0.529245283018868,
          0.530188679245283,
          0.5251572327044025,
          0.5333333333333334,
          0.5352201257861634,
          0.5270440251572327,
          0.5660377358490566,
          0.5465408805031446,
          0.5559748427672956,
          0.528616352201258,
          0.5261006289308178,
          0.5349056603773585,
          0.5292452830188679,
          0.5411949685534592,
          0.5393081761006289,
          0.5396226415094341,
          0.5396226415094341,
          0.5625786163522014,
          0.5625786163522013,
          0.5512578616352202,
          0.5339622641509435,
          0.5383647798742139,
          0.5342767295597484,
          0.5160377358490567,
          0.5358490566037736,
          0.4968553459119497,
          0.5499999999999999,
          0.5512578616352202,
          0.5666666666666667,
          0.5666666666666667,
          0.5792452830188679
         ],
         "xaxis": "x",
         "y": [
          0,
          0,
          0,
          0,
          0,
          0,
          0,
          0,
          0,
          0,
          0,
          0,
          0,
          0,
          0,
          0,
          0,
          0,
          0,
          0,
          2,
          2,
          1,
          2,
          1,
          1,
          1,
          1,
          1,
          2,
          1,
          2,
          2,
          2,
          2,
          3,
          2,
          2,
          2,
          2,
          2,
          3,
          2,
          3,
          1,
          1,
          2
         ],
         "yaxis": "y"
        }
       ],
       "layout": {
        "legend": {
         "title": {
          "text": "variable"
         },
         "tracegroupgap": 0
        },
        "margin": {
         "t": 60
        },
        "template": {
         "data": {
          "bar": [
           {
            "error_x": {
             "color": "#2a3f5f"
            },
            "error_y": {
             "color": "#2a3f5f"
            },
            "marker": {
             "line": {
              "color": "#E5ECF6",
              "width": 0.5
             },
             "pattern": {
              "fillmode": "overlay",
              "size": 10,
              "solidity": 0.2
             }
            },
            "type": "bar"
           }
          ],
          "barpolar": [
           {
            "marker": {
             "line": {
              "color": "#E5ECF6",
              "width": 0.5
             },
             "pattern": {
              "fillmode": "overlay",
              "size": 10,
              "solidity": 0.2
             }
            },
            "type": "barpolar"
           }
          ],
          "carpet": [
           {
            "aaxis": {
             "endlinecolor": "#2a3f5f",
             "gridcolor": "white",
             "linecolor": "white",
             "minorgridcolor": "white",
             "startlinecolor": "#2a3f5f"
            },
            "baxis": {
             "endlinecolor": "#2a3f5f",
             "gridcolor": "white",
             "linecolor": "white",
             "minorgridcolor": "white",
             "startlinecolor": "#2a3f5f"
            },
            "type": "carpet"
           }
          ],
          "choropleth": [
           {
            "colorbar": {
             "outlinewidth": 0,
             "ticks": ""
            },
            "type": "choropleth"
           }
          ],
          "contour": [
           {
            "colorbar": {
             "outlinewidth": 0,
             "ticks": ""
            },
            "colorscale": [
             [
              0,
              "#0d0887"
             ],
             [
              0.1111111111111111,
              "#46039f"
             ],
             [
              0.2222222222222222,
              "#7201a8"
             ],
             [
              0.3333333333333333,
              "#9c179e"
             ],
             [
              0.4444444444444444,
              "#bd3786"
             ],
             [
              0.5555555555555556,
              "#d8576b"
             ],
             [
              0.6666666666666666,
              "#ed7953"
             ],
             [
              0.7777777777777778,
              "#fb9f3a"
             ],
             [
              0.8888888888888888,
              "#fdca26"
             ],
             [
              1,
              "#f0f921"
             ]
            ],
            "type": "contour"
           }
          ],
          "contourcarpet": [
           {
            "colorbar": {
             "outlinewidth": 0,
             "ticks": ""
            },
            "type": "contourcarpet"
           }
          ],
          "heatmap": [
           {
            "colorbar": {
             "outlinewidth": 0,
             "ticks": ""
            },
            "colorscale": [
             [
              0,
              "#0d0887"
             ],
             [
              0.1111111111111111,
              "#46039f"
             ],
             [
              0.2222222222222222,
              "#7201a8"
             ],
             [
              0.3333333333333333,
              "#9c179e"
             ],
             [
              0.4444444444444444,
              "#bd3786"
             ],
             [
              0.5555555555555556,
              "#d8576b"
             ],
             [
              0.6666666666666666,
              "#ed7953"
             ],
             [
              0.7777777777777778,
              "#fb9f3a"
             ],
             [
              0.8888888888888888,
              "#fdca26"
             ],
             [
              1,
              "#f0f921"
             ]
            ],
            "type": "heatmap"
           }
          ],
          "heatmapgl": [
           {
            "colorbar": {
             "outlinewidth": 0,
             "ticks": ""
            },
            "colorscale": [
             [
              0,
              "#0d0887"
             ],
             [
              0.1111111111111111,
              "#46039f"
             ],
             [
              0.2222222222222222,
              "#7201a8"
             ],
             [
              0.3333333333333333,
              "#9c179e"
             ],
             [
              0.4444444444444444,
              "#bd3786"
             ],
             [
              0.5555555555555556,
              "#d8576b"
             ],
             [
              0.6666666666666666,
              "#ed7953"
             ],
             [
              0.7777777777777778,
              "#fb9f3a"
             ],
             [
              0.8888888888888888,
              "#fdca26"
             ],
             [
              1,
              "#f0f921"
             ]
            ],
            "type": "heatmapgl"
           }
          ],
          "histogram": [
           {
            "marker": {
             "pattern": {
              "fillmode": "overlay",
              "size": 10,
              "solidity": 0.2
             }
            },
            "type": "histogram"
           }
          ],
          "histogram2d": [
           {
            "colorbar": {
             "outlinewidth": 0,
             "ticks": ""
            },
            "colorscale": [
             [
              0,
              "#0d0887"
             ],
             [
              0.1111111111111111,
              "#46039f"
             ],
             [
              0.2222222222222222,
              "#7201a8"
             ],
             [
              0.3333333333333333,
              "#9c179e"
             ],
             [
              0.4444444444444444,
              "#bd3786"
             ],
             [
              0.5555555555555556,
              "#d8576b"
             ],
             [
              0.6666666666666666,
              "#ed7953"
             ],
             [
              0.7777777777777778,
              "#fb9f3a"
             ],
             [
              0.8888888888888888,
              "#fdca26"
             ],
             [
              1,
              "#f0f921"
             ]
            ],
            "type": "histogram2d"
           }
          ],
          "histogram2dcontour": [
           {
            "colorbar": {
             "outlinewidth": 0,
             "ticks": ""
            },
            "colorscale": [
             [
              0,
              "#0d0887"
             ],
             [
              0.1111111111111111,
              "#46039f"
             ],
             [
              0.2222222222222222,
              "#7201a8"
             ],
             [
              0.3333333333333333,
              "#9c179e"
             ],
             [
              0.4444444444444444,
              "#bd3786"
             ],
             [
              0.5555555555555556,
              "#d8576b"
             ],
             [
              0.6666666666666666,
              "#ed7953"
             ],
             [
              0.7777777777777778,
              "#fb9f3a"
             ],
             [
              0.8888888888888888,
              "#fdca26"
             ],
             [
              1,
              "#f0f921"
             ]
            ],
            "type": "histogram2dcontour"
           }
          ],
          "mesh3d": [
           {
            "colorbar": {
             "outlinewidth": 0,
             "ticks": ""
            },
            "type": "mesh3d"
           }
          ],
          "parcoords": [
           {
            "line": {
             "colorbar": {
              "outlinewidth": 0,
              "ticks": ""
             }
            },
            "type": "parcoords"
           }
          ],
          "pie": [
           {
            "automargin": true,
            "type": "pie"
           }
          ],
          "scatter": [
           {
            "fillpattern": {
             "fillmode": "overlay",
             "size": 10,
             "solidity": 0.2
            },
            "type": "scatter"
           }
          ],
          "scatter3d": [
           {
            "line": {
             "colorbar": {
              "outlinewidth": 0,
              "ticks": ""
             }
            },
            "marker": {
             "colorbar": {
              "outlinewidth": 0,
              "ticks": ""
             }
            },
            "type": "scatter3d"
           }
          ],
          "scattercarpet": [
           {
            "marker": {
             "colorbar": {
              "outlinewidth": 0,
              "ticks": ""
             }
            },
            "type": "scattercarpet"
           }
          ],
          "scattergeo": [
           {
            "marker": {
             "colorbar": {
              "outlinewidth": 0,
              "ticks": ""
             }
            },
            "type": "scattergeo"
           }
          ],
          "scattergl": [
           {
            "marker": {
             "colorbar": {
              "outlinewidth": 0,
              "ticks": ""
             }
            },
            "type": "scattergl"
           }
          ],
          "scattermapbox": [
           {
            "marker": {
             "colorbar": {
              "outlinewidth": 0,
              "ticks": ""
             }
            },
            "type": "scattermapbox"
           }
          ],
          "scatterpolar": [
           {
            "marker": {
             "colorbar": {
              "outlinewidth": 0,
              "ticks": ""
             }
            },
            "type": "scatterpolar"
           }
          ],
          "scatterpolargl": [
           {
            "marker": {
             "colorbar": {
              "outlinewidth": 0,
              "ticks": ""
             }
            },
            "type": "scatterpolargl"
           }
          ],
          "scatterternary": [
           {
            "marker": {
             "colorbar": {
              "outlinewidth": 0,
              "ticks": ""
             }
            },
            "type": "scatterternary"
           }
          ],
          "surface": [
           {
            "colorbar": {
             "outlinewidth": 0,
             "ticks": ""
            },
            "colorscale": [
             [
              0,
              "#0d0887"
             ],
             [
              0.1111111111111111,
              "#46039f"
             ],
             [
              0.2222222222222222,
              "#7201a8"
             ],
             [
              0.3333333333333333,
              "#9c179e"
             ],
             [
              0.4444444444444444,
              "#bd3786"
             ],
             [
              0.5555555555555556,
              "#d8576b"
             ],
             [
              0.6666666666666666,
              "#ed7953"
             ],
             [
              0.7777777777777778,
              "#fb9f3a"
             ],
             [
              0.8888888888888888,
              "#fdca26"
             ],
             [
              1,
              "#f0f921"
             ]
            ],
            "type": "surface"
           }
          ],
          "table": [
           {
            "cells": {
             "fill": {
              "color": "#EBF0F8"
             },
             "line": {
              "color": "white"
             }
            },
            "header": {
             "fill": {
              "color": "#C8D4E3"
             },
             "line": {
              "color": "white"
             }
            },
            "type": "table"
           }
          ]
         },
         "layout": {
          "annotationdefaults": {
           "arrowcolor": "#2a3f5f",
           "arrowhead": 0,
           "arrowwidth": 1
          },
          "autotypenumbers": "strict",
          "coloraxis": {
           "colorbar": {
            "outlinewidth": 0,
            "ticks": ""
           }
          },
          "colorscale": {
           "diverging": [
            [
             0,
             "#8e0152"
            ],
            [
             0.1,
             "#c51b7d"
            ],
            [
             0.2,
             "#de77ae"
            ],
            [
             0.3,
             "#f1b6da"
            ],
            [
             0.4,
             "#fde0ef"
            ],
            [
             0.5,
             "#f7f7f7"
            ],
            [
             0.6,
             "#e6f5d0"
            ],
            [
             0.7,
             "#b8e186"
            ],
            [
             0.8,
             "#7fbc41"
            ],
            [
             0.9,
             "#4d9221"
            ],
            [
             1,
             "#276419"
            ]
           ],
           "sequential": [
            [
             0,
             "#0d0887"
            ],
            [
             0.1111111111111111,
             "#46039f"
            ],
            [
             0.2222222222222222,
             "#7201a8"
            ],
            [
             0.3333333333333333,
             "#9c179e"
            ],
            [
             0.4444444444444444,
             "#bd3786"
            ],
            [
             0.5555555555555556,
             "#d8576b"
            ],
            [
             0.6666666666666666,
             "#ed7953"
            ],
            [
             0.7777777777777778,
             "#fb9f3a"
            ],
            [
             0.8888888888888888,
             "#fdca26"
            ],
            [
             1,
             "#f0f921"
            ]
           ],
           "sequentialminus": [
            [
             0,
             "#0d0887"
            ],
            [
             0.1111111111111111,
             "#46039f"
            ],
            [
             0.2222222222222222,
             "#7201a8"
            ],
            [
             0.3333333333333333,
             "#9c179e"
            ],
            [
             0.4444444444444444,
             "#bd3786"
            ],
            [
             0.5555555555555556,
             "#d8576b"
            ],
            [
             0.6666666666666666,
             "#ed7953"
            ],
            [
             0.7777777777777778,
             "#fb9f3a"
            ],
            [
             0.8888888888888888,
             "#fdca26"
            ],
            [
             1,
             "#f0f921"
            ]
           ]
          },
          "colorway": [
           "#636efa",
           "#EF553B",
           "#00cc96",
           "#ab63fa",
           "#FFA15A",
           "#19d3f3",
           "#FF6692",
           "#B6E880",
           "#FF97FF",
           "#FECB52"
          ],
          "font": {
           "color": "#2a3f5f"
          },
          "geo": {
           "bgcolor": "white",
           "lakecolor": "white",
           "landcolor": "#E5ECF6",
           "showlakes": true,
           "showland": true,
           "subunitcolor": "white"
          },
          "hoverlabel": {
           "align": "left"
          },
          "hovermode": "closest",
          "mapbox": {
           "style": "light"
          },
          "paper_bgcolor": "white",
          "plot_bgcolor": "#E5ECF6",
          "polar": {
           "angularaxis": {
            "gridcolor": "white",
            "linecolor": "white",
            "ticks": ""
           },
           "bgcolor": "#E5ECF6",
           "radialaxis": {
            "gridcolor": "white",
            "linecolor": "white",
            "ticks": ""
           }
          },
          "scene": {
           "xaxis": {
            "backgroundcolor": "#E5ECF6",
            "gridcolor": "white",
            "gridwidth": 2,
            "linecolor": "white",
            "showbackground": true,
            "ticks": "",
            "zerolinecolor": "white"
           },
           "yaxis": {
            "backgroundcolor": "#E5ECF6",
            "gridcolor": "white",
            "gridwidth": 2,
            "linecolor": "white",
            "showbackground": true,
            "ticks": "",
            "zerolinecolor": "white"
           },
           "zaxis": {
            "backgroundcolor": "#E5ECF6",
            "gridcolor": "white",
            "gridwidth": 2,
            "linecolor": "white",
            "showbackground": true,
            "ticks": "",
            "zerolinecolor": "white"
           }
          },
          "shapedefaults": {
           "line": {
            "color": "#2a3f5f"
           }
          },
          "ternary": {
           "aaxis": {
            "gridcolor": "white",
            "linecolor": "white",
            "ticks": ""
           },
           "baxis": {
            "gridcolor": "white",
            "linecolor": "white",
            "ticks": ""
           },
           "bgcolor": "#E5ECF6",
           "caxis": {
            "gridcolor": "white",
            "linecolor": "white",
            "ticks": ""
           }
          },
          "title": {
           "x": 0.05
          },
          "xaxis": {
           "automargin": true,
           "gridcolor": "white",
           "linecolor": "white",
           "ticks": "",
           "title": {
            "standoff": 15
           },
           "zerolinecolor": "white",
           "zerolinewidth": 2
          },
          "yaxis": {
           "automargin": true,
           "gridcolor": "white",
           "linecolor": "white",
           "ticks": "",
           "title": {
            "standoff": 15
           },
           "zerolinecolor": "white",
           "zerolinewidth": 2
          }
         }
        },
        "xaxis": {
         "anchor": "y",
         "domain": [
          0,
          1
         ],
         "title": {
          "text": "value"
         },
         "type": "log"
        },
        "yaxis": {
         "anchor": "x",
         "domain": [
          0,
          1
         ],
         "title": {
          "text": "Y_lp3"
         }
        }
       }
      }
     },
     "metadata": {},
     "output_type": "display_data"
    }
   ],
   "source": [
    "dic = {\"Fx_lp3\": \"red\", \"Fy_lp3\": \"blue\" , \"Fz_lp3\": \"green\" , \"Tx_lp3\": \"black\", \"Tx_lp3\": \"purple\", \"Ty_lp3\": \"orange\", \"Tz_lp3\": \"yellow\"}\n",
    "lp3_scatter = plty.scatter(X_lp3_df, x = [\"Fx_lp3\", \"Fy_lp3\", \"Fz_lp3\", \"Tx_lp3\", \"Ty_lp3\", \"Tz_lp3\"],  color_discrete_map= dic)\n",
    "lp3_logscatter = plty.scatter(X_lp3_df,  x = [\"Fx_lp3\", \"Fy_lp3\", \"Fz_lp3\", \"Tx_lp3\", \"Ty_lp3\", \"Tz_lp3\"] , y= \"Y_lp3\", log_x=True)\n",
    "lp3_scatter.show()\n",
    "lp3_logscatter.show()"
   ]
  },
  {
   "cell_type": "markdown",
   "metadata": {},
   "source": [
    "Kernel density estimation plot"
   ]
  },
  {
   "cell_type": "code",
   "execution_count": 18,
   "metadata": {},
   "outputs": [
    {
     "data": {
      "text/plain": [
       "<AxesSubplot:xlabel='F_lp3', ylabel='Density'>"
      ]
     },
     "execution_count": 18,
     "metadata": {},
     "output_type": "execute_result"
    },
    {
     "data": {
      "image/png": "[encoded data removed]",
      "text/plain": [
       "<Figure size 432x288 with 1 Axes>"
      ]
     },
     "metadata": {
      "needs_background": "light"
     },
     "output_type": "display_data"
    }
   ],
   "source": [
    "sns.kdeplot(data=X_lp3_df, x = 'F_lp3', bw_method = \"scott\" , bw_adjust = 1)"
   ]
  },
  {
   "cell_type": "code",
   "execution_count": 19,
   "metadata": {},
   "outputs": [
    {
     "data": {
      "text/plain": [
       "<AxesSubplot:xlabel='T_lp3', ylabel='Density'>"
      ]
     },
     "execution_count": 19,
     "metadata": {},
     "output_type": "execute_result"
    },
    {
     "data": {
      "image/png": "[encoded data removed]",
      "text/plain": [
       "<Figure size 432x288 with 1 Axes>"
      ]
     },
     "metadata": {
      "needs_background": "light"
     },
     "output_type": "display_data"
    }
   ],
   "source": [
    "sns.kdeplot(data=X_lp3_df, x = 'T_lp3', color=\"Green\")"
   ]
  },
  {
   "cell_type": "code",
   "execution_count": 20,
   "metadata": {},
   "outputs": [
    {
     "data": {
      "application/vnd.plotly.v1+json": {
       "config": {
        "plotlyServerURL": "https://plot.ly"
       },
       "data": [
        {
         "hovertemplate": "F_lp3=%{x}<br>T_lp3=%{y}<br>Y_lp3=%{marker.color}<extra></extra>",
         "legendgroup": "",
         "marker": {
          "color": [
           0,
           0,
           0,
           0,
           0,
           0,
           0,
           0,
           0,
           0,
           0,
           0,
           0,
           0,
           0,
           0,
           0,
           0,
           0,
           0,
           2,
           2,
           1,
           2,
           1,
           1,
           1,
           1,
           1,
           2,
           1,
           2,
           2,
           2,
           2,
           3,
           2,
           2,
           2,
           2,
           2,
           3,
           2,
           3,
           1,
           1,
           2
          ],
          "coloraxis": "coloraxis",
          "symbol": "circle"
         },
         "mode": "markers",
         "name": "",
         "orientation": "v",
         "showlegend": false,
         "type": "scatter",
         "x": [
          0.08179743788306847,
          0.08414031294439552,
          0.07950458672261128,
          0.08731340272457334,
          0.07981160765600386,
          0.07983925683609067,
          0.08087474020879157,
          0.07885566203244744,
          0.08147452014874516,
          0.08450160052893578,
          0.08690531903950365,
          0.08482875111482821,
          0.07836208010860175,
          0.08358148598263042,
          0.07927468085428618,
          0.07896449705032448,
          0.08065596713149369,
          0.08151034232982961,
          0.08163472574766845,
          0.08130454907513755,
          0.1669212989607865,
          0.16012364760123235,
          0.1259803634115901,
          0.12603133438405986,
          0.11425206064813544,
          0.09452013494576593,
          0.09226561952235851,
          0.09066503460204167,
          0.09620958269334946,
          0.09194879938116506,
          0.0989585125062555,
          0.10343534441501757,
          0.10343534441501757,
          0.1462204978171887,
          0.1462204978171887,
          0.07164049410356507,
          0.0985047335988926,
          0.0996421594819458,
          0.10275726659872308,
          0.12286518166273765,
          0.1803877524975081,
          0.10906029214936887,
          0.09344417768800815,
          0.11247471255677761,
          0.0925062561135222,
          0.0925062561135222,
          0.10812745330777397
         ],
         "xaxis": "x",
         "y": [
          0.002955277301027452,
          0.015814161890648302,
          0.017118455043082615,
          0.019169717827381413,
          0.02140104515420131,
          0.024049630835349754,
          0.02774867660598769,
          0.032792008401309684,
          0.03447113742264939,
          0.036610897011878044,
          0.03854648792285851,
          0.011349339068626748,
          0.016120743331131823,
          0.02025020035182589,
          0.0242158946061628,
          0.022041585083251863,
          0.029527638607967834,
          0.03357746835959118,
          0.035995130224200526,
          0.03586075756256985,
          0.09859755680423851,
          0.09584554886515328,
          0.060629243395644135,
          0.0713361955466607,
          0.04979685116090409,
          0.035113768493063344,
          0.04275954517071217,
          0.038749220708561787,
          0.03778510531910685,
          0.026521204539917746,
          0.03926366373074116,
          0.040236432456458554,
          0.04023643245645855,
          0.10707471318677951,
          0.10707471318677951,
          0.05351055756544853,
          0.031743426252680285,
          0.045450814340611635,
          0.043597110007633014,
          0.04942718939996175,
          0.08796733203469352,
          0.07086751918272943,
          0.023401202955524163,
          0.061571185860391675,
          0.024043375387555292,
          0.024043375387555292,
          0.059594412088190336
         ],
         "yaxis": "y"
        }
       ],
       "layout": {
        "coloraxis": {
         "colorbar": {
          "title": {
           "text": "Y_lp3"
          }
         },
         "colorscale": [
          [
           0,
           "#0d0887"
          ],
          [
           0.1111111111111111,
           "#46039f"
          ],
          [
           0.2222222222222222,
           "#7201a8"
          ],
          [
           0.3333333333333333,
           "#9c179e"
          ],
          [
           0.4444444444444444,
           "#bd3786"
          ],
          [
           0.5555555555555556,
           "#d8576b"
          ],
          [
           0.6666666666666666,
           "#ed7953"
          ],
          [
           0.7777777777777778,
           "#fb9f3a"
          ],
          [
           0.8888888888888888,
           "#fdca26"
          ],
          [
           1,
           "#f0f921"
          ]
         ]
        },
        "legend": {
         "tracegroupgap": 0
        },
        "margin": {
         "t": 60
        },
        "template": {
         "data": {
          "bar": [
           {
            "error_x": {
             "color": "#2a3f5f"
            },
            "error_y": {
             "color": "#2a3f5f"
            },
            "marker": {
             "line": {
              "color": "#E5ECF6",
              "width": 0.5
             },
             "pattern": {
              "fillmode": "overlay",
              "size": 10,
              "solidity": 0.2
             }
            },
            "type": "bar"
           }
          ],
          "barpolar": [
           {
            "marker": {
             "line": {
              "color": "#E5ECF6",
              "width": 0.5
             },
             "pattern": {
              "fillmode": "overlay",
              "size": 10,
              "solidity": 0.2
             }
            },
            "type": "barpolar"
           }
          ],
          "carpet": [
           {
            "aaxis": {
             "endlinecolor": "#2a3f5f",
             "gridcolor": "white",
             "linecolor": "white",
             "minorgridcolor": "white",
             "startlinecolor": "#2a3f5f"
            },
            "baxis": {
             "endlinecolor": "#2a3f5f",
             "gridcolor": "white",
             "linecolor": "white",
             "minorgridcolor": "white",
             "startlinecolor": "#2a3f5f"
            },
            "type": "carpet"
           }
          ],
          "choropleth": [
           {
            "colorbar": {
             "outlinewidth": 0,
             "ticks": ""
            },
            "type": "choropleth"
           }
          ],
          "contour": [
           {
            "colorbar": {
             "outlinewidth": 0,
             "ticks": ""
            },
            "colorscale": [
             [
              0,
              "#0d0887"
             ],
             [
              0.1111111111111111,
              "#46039f"
             ],
             [
              0.2222222222222222,
              "#7201a8"
             ],
             [
              0.3333333333333333,
              "#9c179e"
             ],
             [
              0.4444444444444444,
              "#bd3786"
             ],
             [
              0.5555555555555556,
              "#d8576b"
             ],
             [
              0.6666666666666666,
              "#ed7953"
             ],
             [
              0.7777777777777778,
              "#fb9f3a"
             ],
             [
              0.8888888888888888,
              "#fdca26"
             ],
             [
              1,
              "#f0f921"
             ]
            ],
            "type": "contour"
           }
          ],
          "contourcarpet": [
           {
            "colorbar": {
             "outlinewidth": 0,
             "ticks": ""
            },
            "type": "contourcarpet"
           }
          ],
          "heatmap": [
           {
            "colorbar": {
             "outlinewidth": 0,
             "ticks": ""
            },
            "colorscale": [
             [
              0,
              "#0d0887"
             ],
             [
              0.1111111111111111,
              "#46039f"
             ],
             [
              0.2222222222222222,
              "#7201a8"
             ],
             [
              0.3333333333333333,
              "#9c179e"
             ],
             [
              0.4444444444444444,
              "#bd3786"
             ],
             [
              0.5555555555555556,
              "#d8576b"
             ],
             [
              0.6666666666666666,
              "#ed7953"
             ],
             [
              0.7777777777777778,
              "#fb9f3a"
             ],
             [
              0.8888888888888888,
              "#fdca26"
             ],
             [
              1,
              "#f0f921"
             ]
            ],
            "type": "heatmap"
           }
          ],
          "heatmapgl": [
           {
            "colorbar": {
             "outlinewidth": 0,
             "ticks": ""
            },
            "colorscale": [
             [
              0,
              "#0d0887"
             ],
             [
              0.1111111111111111,
              "#46039f"
             ],
             [
              0.2222222222222222,
              "#7201a8"
             ],
             [
              0.3333333333333333,
              "#9c179e"
             ],
             [
              0.4444444444444444,
              "#bd3786"
             ],
             [
              0.5555555555555556,
              "#d8576b"
             ],
             [
              0.6666666666666666,
              "#ed7953"
             ],
             [
              0.7777777777777778,
              "#fb9f3a"
             ],
             [
              0.8888888888888888,
              "#fdca26"
             ],
             [
              1,
              "#f0f921"
             ]
            ],
            "type": "heatmapgl"
           }
          ],
          "histogram": [
           {
            "marker": {
             "pattern": {
              "fillmode": "overlay",
              "size": 10,
              "solidity": 0.2
             }
            },
            "type": "histogram"
           }
          ],
          "histogram2d": [
           {
            "colorbar": {
             "outlinewidth": 0,
             "ticks": ""
            },
            "colorscale": [
             [
              0,
              "#0d0887"
             ],
             [
              0.1111111111111111,
              "#46039f"
             ],
             [
              0.2222222222222222,
              "#7201a8"
             ],
             [
              0.3333333333333333,
              "#9c179e"
             ],
             [
              0.4444444444444444,
              "#bd3786"
             ],
             [
              0.5555555555555556,
              "#d8576b"
             ],
             [
              0.6666666666666666,
              "#ed7953"
             ],
             [
              0.7777777777777778,
              "#fb9f3a"
             ],
             [
              0.8888888888888888,
              "#fdca26"
             ],
             [
              1,
              "#f0f921"
             ]
            ],
            "type": "histogram2d"
           }
          ],
          "histogram2dcontour": [
           {
            "colorbar": {
             "outlinewidth": 0,
             "ticks": ""
            },
            "colorscale": [
             [
              0,
              "#0d0887"
             ],
             [
              0.1111111111111111,
              "#46039f"
             ],
             [
              0.2222222222222222,
              "#7201a8"
             ],
             [
              0.3333333333333333,
              "#9c179e"
             ],
             [
              0.4444444444444444,
              "#bd3786"
             ],
             [
              0.5555555555555556,
              "#d8576b"
             ],
             [
              0.6666666666666666,
              "#ed7953"
             ],
             [
              0.7777777777777778,
              "#fb9f3a"
             ],
             [
              0.8888888888888888,
              "#fdca26"
             ],
             [
              1,
              "#f0f921"
             ]
            ],
            "type": "histogram2dcontour"
           }
          ],
          "mesh3d": [
           {
            "colorbar": {
             "outlinewidth": 0,
             "ticks": ""
            },
            "type": "mesh3d"
           }
          ],
          "parcoords": [
           {
            "line": {
             "colorbar": {
              "outlinewidth": 0,
              "ticks": ""
             }
            },
            "type": "parcoords"
           }
          ],
          "pie": [
           {
            "automargin": true,
            "type": "pie"
           }
          ],
          "scatter": [
           {
            "fillpattern": {
             "fillmode": "overlay",
             "size": 10,
             "solidity": 0.2
            },
            "type": "scatter"
           }
          ],
          "scatter3d": [
           {
            "line": {
             "colorbar": {
              "outlinewidth": 0,
              "ticks": ""
             }
            },
            "marker": {
             "colorbar": {
              "outlinewidth": 0,
              "ticks": ""
             }
            },
            "type": "scatter3d"
           }
          ],
          "scattercarpet": [
           {
            "marker": {
             "colorbar": {
              "outlinewidth": 0,
              "ticks": ""
             }
            },
            "type": "scattercarpet"
           }
          ],
          "scattergeo": [
           {
            "marker": {
             "colorbar": {
              "outlinewidth": 0,
              "ticks": ""
             }
            },
            "type": "scattergeo"
           }
          ],
          "scattergl": [
           {
            "marker": {
             "colorbar": {
              "outlinewidth": 0,
              "ticks": ""
             }
            },
            "type": "scattergl"
           }
          ],
          "scattermapbox": [
           {
            "marker": {
             "colorbar": {
              "outlinewidth": 0,
              "ticks": ""
             }
            },
            "type": "scattermapbox"
           }
          ],
          "scatterpolar": [
           {
            "marker": {
             "colorbar": {
              "outlinewidth": 0,
              "ticks": ""
             }
            },
            "type": "scatterpolar"
           }
          ],
          "scatterpolargl": [
           {
            "marker": {
             "colorbar": {
              "outlinewidth": 0,
              "ticks": ""
             }
            },
            "type": "scatterpolargl"
           }
          ],
          "scatterternary": [
           {
            "marker": {
             "colorbar": {
              "outlinewidth": 0,
              "ticks": ""
             }
            },
            "type": "scatterternary"
           }
          ],
          "surface": [
           {
            "colorbar": {
             "outlinewidth": 0,
             "ticks": ""
            },
            "colorscale": [
             [
              0,
              "#0d0887"
             ],
             [
              0.1111111111111111,
              "#46039f"
             ],
             [
              0.2222222222222222,
              "#7201a8"
             ],
             [
              0.3333333333333333,
              "#9c179e"
             ],
             [
              0.4444444444444444,
              "#bd3786"
             ],
             [
              0.5555555555555556,
              "#d8576b"
             ],
             [
              0.6666666666666666,
              "#ed7953"
             ],
             [
              0.7777777777777778,
              "#fb9f3a"
             ],
             [
              0.8888888888888888,
              "#fdca26"
             ],
             [
              1,
              "#f0f921"
             ]
            ],
            "type": "surface"
           }
          ],
          "table": [
           {
            "cells": {
             "fill": {
              "color": "#EBF0F8"
             },
             "line": {
              "color": "white"
             }
            },
            "header": {
             "fill": {
              "color": "#C8D4E3"
             },
             "line": {
              "color": "white"
             }
            },
            "type": "table"
           }
          ]
         },
         "layout": {
          "annotationdefaults": {
           "arrowcolor": "#2a3f5f",
           "arrowhead": 0,
           "arrowwidth": 1
          },
          "autotypenumbers": "strict",
          "coloraxis": {
           "colorbar": {
            "outlinewidth": 0,
            "ticks": ""
           }
          },
          "colorscale": {
           "diverging": [
            [
             0,
             "#8e0152"
            ],
            [
             0.1,
             "#c51b7d"
            ],
            [
             0.2,
             "#de77ae"
            ],
            [
             0.3,
             "#f1b6da"
            ],
            [
             0.4,
             "#fde0ef"
            ],
            [
             0.5,
             "#f7f7f7"
            ],
            [
             0.6,
             "#e6f5d0"
            ],
            [
             0.7,
             "#b8e186"
            ],
            [
             0.8,
             "#7fbc41"
            ],
            [
             0.9,
             "#4d9221"
            ],
            [
             1,
             "#276419"
            ]
           ],
           "sequential": [
            [
             0,
             "#0d0887"
            ],
            [
             0.1111111111111111,
             "#46039f"
            ],
            [
             0.2222222222222222,
             "#7201a8"
            ],
            [
             0.3333333333333333,
             "#9c179e"
            ],
            [
             0.4444444444444444,
             "#bd3786"
            ],
            [
             0.5555555555555556,
             "#d8576b"
            ],
            [
             0.6666666666666666,
             "#ed7953"
            ],
            [
             0.7777777777777778,
             "#fb9f3a"
            ],
            [
             0.8888888888888888,
             "#fdca26"
            ],
            [
             1,
             "#f0f921"
            ]
           ],
           "sequentialminus": [
            [
             0,
             "#0d0887"
            ],
            [
             0.1111111111111111,
             "#46039f"
            ],
            [
             0.2222222222222222,
             "#7201a8"
            ],
            [
             0.3333333333333333,
             "#9c179e"
            ],
            [
             0.4444444444444444,
             "#bd3786"
            ],
            [
             0.5555555555555556,
             "#d8576b"
            ],
            [
             0.6666666666666666,
             "#ed7953"
            ],
            [
             0.7777777777777778,
             "#fb9f3a"
            ],
            [
             0.8888888888888888,
             "#fdca26"
            ],
            [
             1,
             "#f0f921"
            ]
           ]
          },
          "colorway": [
           "#636efa",
           "#EF553B",
           "#00cc96",
           "#ab63fa",
           "#FFA15A",
           "#19d3f3",
           "#FF6692",
           "#B6E880",
           "#FF97FF",
           "#FECB52"
          ],
          "font": {
           "color": "#2a3f5f"
          },
          "geo": {
           "bgcolor": "white",
           "lakecolor": "white",
           "landcolor": "#E5ECF6",
           "showlakes": true,
           "showland": true,
           "subunitcolor": "white"
          },
          "hoverlabel": {
           "align": "left"
          },
          "hovermode": "closest",
          "mapbox": {
           "style": "light"
          },
          "paper_bgcolor": "white",
          "plot_bgcolor": "#E5ECF6",
          "polar": {
           "angularaxis": {
            "gridcolor": "white",
            "linecolor": "white",
            "ticks": ""
           },
           "bgcolor": "#E5ECF6",
           "radialaxis": {
            "gridcolor": "white",
            "linecolor": "white",
            "ticks": ""
           }
          },
          "scene": {
           "xaxis": {
            "backgroundcolor": "#E5ECF6",
            "gridcolor": "white",
            "gridwidth": 2,
            "linecolor": "white",
            "showbackground": true,
            "ticks": "",
            "zerolinecolor": "white"
           },
           "yaxis": {
            "backgroundcolor": "#E5ECF6",
            "gridcolor": "white",
            "gridwidth": 2,
            "linecolor": "white",
            "showbackground": true,
            "ticks": "",
            "zerolinecolor": "white"
           },
           "zaxis": {
            "backgroundcolor": "#E5ECF6",
            "gridcolor": "white",
            "gridwidth": 2,
            "linecolor": "white",
            "showbackground": true,
            "ticks": "",
            "zerolinecolor": "white"
           }
          },
          "shapedefaults": {
           "line": {
            "color": "#2a3f5f"
           }
          },
          "ternary": {
           "aaxis": {
            "gridcolor": "white",
            "linecolor": "white",
            "ticks": ""
           },
           "baxis": {
            "gridcolor": "white",
            "linecolor": "white",
            "ticks": ""
           },
           "bgcolor": "#E5ECF6",
           "caxis": {
            "gridcolor": "white",
            "linecolor": "white",
            "ticks": ""
           }
          },
          "title": {
           "x": 0.05
          },
          "xaxis": {
           "automargin": true,
           "gridcolor": "white",
           "linecolor": "white",
           "ticks": "",
           "title": {
            "standoff": 15
           },
           "zerolinecolor": "white",
           "zerolinewidth": 2
          },
          "yaxis": {
           "automargin": true,
           "gridcolor": "white",
           "linecolor": "white",
           "ticks": "",
           "title": {
            "standoff": 15
           },
           "zerolinecolor": "white",
           "zerolinewidth": 2
          }
         }
        },
        "xaxis": {
         "anchor": "y",
         "domain": [
          0,
          1
         ],
         "title": {
          "text": "F_lp3"
         },
         "type": "log"
        },
        "yaxis": {
         "anchor": "x",
         "domain": [
          0,
          1
         ],
         "title": {
          "text": "T_lp3"
         },
         "type": "log"
        }
       }
      }
     },
     "metadata": {},
     "output_type": "display_data"
    }
   ],
   "source": [
    "plty.scatter(X_lp3_df, x = \"F_lp3\", y = \"T_lp3\", color=\"Y_lp3\", log_x=True, log_y=True)"
   ]
  },
  {
   "attachments": {},
   "cell_type": "markdown",
   "metadata": {},
   "source": [
    "Boxplot"
   ]
  },
  {
   "cell_type": "code",
   "execution_count": 21,
   "metadata": {},
   "outputs": [
    {
     "data": {
      "application/vnd.plotly.v1+json": {
       "config": {
        "plotlyServerURL": "https://plot.ly"
       },
       "data": [
        {
         "alignmentgroup": "True",
         "hovertemplate": "value=%{x}<br>variable=%{y}<extra></extra>",
         "legendgroup": "",
         "marker": {
          "color": "#636efa"
         },
         "name": "",
         "notched": false,
         "offsetgroup": "",
         "orientation": "h",
         "showlegend": false,
         "type": "box",
         "x": [
          0.08179743788306847,
          0.08414031294439552,
          0.07950458672261128,
          0.08731340272457334,
          0.07981160765600386,
          0.07983925683609067,
          0.08087474020879157,
          0.07885566203244744,
          0.08147452014874516,
          0.08450160052893578,
          0.08690531903950365,
          0.08482875111482821,
          0.07836208010860175,
          0.08358148598263042,
          0.07927468085428618,
          0.07896449705032448,
          0.08065596713149369,
          0.08151034232982961,
          0.08163472574766845,
          0.08130454907513755,
          0.1669212989607865,
          0.16012364760123235,
          0.1259803634115901,
          0.12603133438405986,
          0.11425206064813544,
          0.09452013494576593,
          0.09226561952235851,
          0.09066503460204167,
          0.09620958269334946,
          0.09194879938116506,
          0.0989585125062555,
          0.10343534441501757,
          0.10343534441501757,
          0.1462204978171887,
          0.1462204978171887,
          0.07164049410356507,
          0.0985047335988926,
          0.0996421594819458,
          0.10275726659872308,
          0.12286518166273765,
          0.1803877524975081,
          0.10906029214936887,
          0.09344417768800815,
          0.11247471255677761,
          0.0925062561135222,
          0.0925062561135222,
          0.10812745330777397,
          0.002955277301027452,
          0.015814161890648302,
          0.017118455043082615,
          0.019169717827381413,
          0.02140104515420131,
          0.024049630835349754,
          0.02774867660598769,
          0.032792008401309684,
          0.03447113742264939,
          0.036610897011878044,
          0.03854648792285851,
          0.011349339068626748,
          0.016120743331131823,
          0.02025020035182589,
          0.0242158946061628,
          0.022041585083251863,
          0.029527638607967834,
          0.03357746835959118,
          0.035995130224200526,
          0.03586075756256985,
          0.09859755680423851,
          0.09584554886515328,
          0.060629243395644135,
          0.0713361955466607,
          0.04979685116090409,
          0.035113768493063344,
          0.04275954517071217,
          0.038749220708561787,
          0.03778510531910685,
          0.026521204539917746,
          0.03926366373074116,
          0.040236432456458554,
          0.04023643245645855,
          0.10707471318677951,
          0.10707471318677951,
          0.05351055756544853,
          0.031743426252680285,
          0.045450814340611635,
          0.043597110007633014,
          0.04942718939996175,
          0.08796733203469352,
          0.07086751918272943,
          0.023401202955524163,
          0.061571185860391675,
          0.024043375387555292,
          0.024043375387555292,
          0.059594412088190336
         ],
         "x0": " ",
         "xaxis": "x",
         "y": [
          "F_lp3",
          "F_lp3",
          "F_lp3",
          "F_lp3",
          "F_lp3",
          "F_lp3",
          "F_lp3",
          "F_lp3",
          "F_lp3",
          "F_lp3",
          "F_lp3",
          "F_lp3",
          "F_lp3",
          "F_lp3",
          "F_lp3",
          "F_lp3",
          "F_lp3",
          "F_lp3",
          "F_lp3",
          "F_lp3",
          "F_lp3",
          "F_lp3",
          "F_lp3",
          "F_lp3",
          "F_lp3",
          "F_lp3",
          "F_lp3",
          "F_lp3",
          "F_lp3",
          "F_lp3",
          "F_lp3",
          "F_lp3",
          "F_lp3",
          "F_lp3",
          "F_lp3",
          "F_lp3",
          "F_lp3",
          "F_lp3",
          "F_lp3",
          "F_lp3",
          "F_lp3",
          "F_lp3",
          "F_lp3",
          "F_lp3",
          "F_lp3",
          "F_lp3",
          "F_lp3",
          "T_lp3",
          "T_lp3",
          "T_lp3",
          "T_lp3",
          "T_lp3",
          "T_lp3",
          "T_lp3",
          "T_lp3",
          "T_lp3",
          "T_lp3",
          "T_lp3",
          "T_lp3",
          "T_lp3",
          "T_lp3",
          "T_lp3",
          "T_lp3",
          "T_lp3",
          "T_lp3",
          "T_lp3",
          "T_lp3",
          "T_lp3",
          "T_lp3",
          "T_lp3",
          "T_lp3",
          "T_lp3",
          "T_lp3",
          "T_lp3",
          "T_lp3",
          "T_lp3",
          "T_lp3",
          "T_lp3",
          "T_lp3",
          "T_lp3",
          "T_lp3",
          "T_lp3",
          "T_lp3",
          "T_lp3",
          "T_lp3",
          "T_lp3",
          "T_lp3",
          "T_lp3",
          "T_lp3",
          "T_lp3",
          "T_lp3",
          "T_lp3",
          "T_lp3",
          "T_lp3"
         ],
         "y0": " ",
         "yaxis": "y"
        }
       ],
       "layout": {
        "boxmode": "group",
        "legend": {
         "tracegroupgap": 0
        },
        "margin": {
         "t": 60
        },
        "template": {
         "data": {
          "bar": [
           {
            "error_x": {
             "color": "#2a3f5f"
            },
            "error_y": {
             "color": "#2a3f5f"
            },
            "marker": {
             "line": {
              "color": "#E5ECF6",
              "width": 0.5
             },
             "pattern": {
              "fillmode": "overlay",
              "size": 10,
              "solidity": 0.2
             }
            },
            "type": "bar"
           }
          ],
          "barpolar": [
           {
            "marker": {
             "line": {
              "color": "#E5ECF6",
              "width": 0.5
             },
             "pattern": {
              "fillmode": "overlay",
              "size": 10,
              "solidity": 0.2
             }
            },
            "type": "barpolar"
           }
          ],
          "carpet": [
           {
            "aaxis": {
             "endlinecolor": "#2a3f5f",
             "gridcolor": "white",
             "linecolor": "white",
             "minorgridcolor": "white",
             "startlinecolor": "#2a3f5f"
            },
            "baxis": {
             "endlinecolor": "#2a3f5f",
             "gridcolor": "white",
             "linecolor": "white",
             "minorgridcolor": "white",
             "startlinecolor": "#2a3f5f"
            },
            "type": "carpet"
           }
          ],
          "choropleth": [
           {
            "colorbar": {
             "outlinewidth": 0,
             "ticks": ""
            },
            "type": "choropleth"
           }
          ],
          "contour": [
           {
            "colorbar": {
             "outlinewidth": 0,
             "ticks": ""
            },
            "colorscale": [
             [
              0,
              "#0d0887"
             ],
             [
              0.1111111111111111,
              "#46039f"
             ],
             [
              0.2222222222222222,
              "#7201a8"
             ],
             [
              0.3333333333333333,
              "#9c179e"
             ],
             [
              0.4444444444444444,
              "#bd3786"
             ],
             [
              0.5555555555555556,
              "#d8576b"
             ],
             [
              0.6666666666666666,
              "#ed7953"
             ],
             [
              0.7777777777777778,
              "#fb9f3a"
             ],
             [
              0.8888888888888888,
              "#fdca26"
             ],
             [
              1,
              "#f0f921"
             ]
            ],
            "type": "contour"
           }
          ],
          "contourcarpet": [
           {
            "colorbar": {
             "outlinewidth": 0,
             "ticks": ""
            },
            "type": "contourcarpet"
           }
          ],
          "heatmap": [
           {
            "colorbar": {
             "outlinewidth": 0,
             "ticks": ""
            },
            "colorscale": [
             [
              0,
              "#0d0887"
             ],
             [
              0.1111111111111111,
              "#46039f"
             ],
             [
              0.2222222222222222,
              "#7201a8"
             ],
             [
              0.3333333333333333,
              "#9c179e"
             ],
             [
              0.4444444444444444,
              "#bd3786"
             ],
             [
              0.5555555555555556,
              "#d8576b"
             ],
             [
              0.6666666666666666,
              "#ed7953"
             ],
             [
              0.7777777777777778,
              "#fb9f3a"
             ],
             [
              0.8888888888888888,
              "#fdca26"
             ],
             [
              1,
              "#f0f921"
             ]
            ],
            "type": "heatmap"
           }
          ],
          "heatmapgl": [
           {
            "colorbar": {
             "outlinewidth": 0,
             "ticks": ""
            },
            "colorscale": [
             [
              0,
              "#0d0887"
             ],
             [
              0.1111111111111111,
              "#46039f"
             ],
             [
              0.2222222222222222,
              "#7201a8"
             ],
             [
              0.3333333333333333,
              "#9c179e"
             ],
             [
              0.4444444444444444,
              "#bd3786"
             ],
             [
              0.5555555555555556,
              "#d8576b"
             ],
             [
              0.6666666666666666,
              "#ed7953"
             ],
             [
              0.7777777777777778,
              "#fb9f3a"
             ],
             [
              0.8888888888888888,
              "#fdca26"
             ],
             [
              1,
              "#f0f921"
             ]
            ],
            "type": "heatmapgl"
           }
          ],
          "histogram": [
           {
            "marker": {
             "pattern": {
              "fillmode": "overlay",
              "size": 10,
              "solidity": 0.2
             }
            },
            "type": "histogram"
           }
          ],
          "histogram2d": [
           {
            "colorbar": {
             "outlinewidth": 0,
             "ticks": ""
            },
            "colorscale": [
             [
              0,
              "#0d0887"
             ],
             [
              0.1111111111111111,
              "#46039f"
             ],
             [
              0.2222222222222222,
              "#7201a8"
             ],
             [
              0.3333333333333333,
              "#9c179e"
             ],
             [
              0.4444444444444444,
              "#bd3786"
             ],
             [
              0.5555555555555556,
              "#d8576b"
             ],
             [
              0.6666666666666666,
              "#ed7953"
             ],
             [
              0.7777777777777778,
              "#fb9f3a"
             ],
             [
              0.8888888888888888,
              "#fdca26"
             ],
             [
              1,
              "#f0f921"
             ]
            ],
            "type": "histogram2d"
           }
          ],
          "histogram2dcontour": [
           {
            "colorbar": {
             "outlinewidth": 0,
             "ticks": ""
            },
            "colorscale": [
             [
              0,
              "#0d0887"
             ],
             [
              0.1111111111111111,
              "#46039f"
             ],
             [
              0.2222222222222222,
              "#7201a8"
             ],
             [
              0.3333333333333333,
              "#9c179e"
             ],
             [
              0.4444444444444444,
              "#bd3786"
             ],
             [
              0.5555555555555556,
              "#d8576b"
             ],
             [
              0.6666666666666666,
              "#ed7953"
             ],
             [
              0.7777777777777778,
              "#fb9f3a"
             ],
             [
              0.8888888888888888,
              "#fdca26"
             ],
             [
              1,
              "#f0f921"
             ]
            ],
            "type": "histogram2dcontour"
           }
          ],
          "mesh3d": [
           {
            "colorbar": {
             "outlinewidth": 0,
             "ticks": ""
            },
            "type": "mesh3d"
           }
          ],
          "parcoords": [
           {
            "line": {
             "colorbar": {
              "outlinewidth": 0,
              "ticks": ""
             }
            },
            "type": "parcoords"
           }
          ],
          "pie": [
           {
            "automargin": true,
            "type": "pie"
           }
          ],
          "scatter": [
           {
            "fillpattern": {
             "fillmode": "overlay",
             "size": 10,
             "solidity": 0.2
            },
            "type": "scatter"
           }
          ],
          "scatter3d": [
           {
            "line": {
             "colorbar": {
              "outlinewidth": 0,
              "ticks": ""
             }
            },
            "marker": {
             "colorbar": {
              "outlinewidth": 0,
              "ticks": ""
             }
            },
            "type": "scatter3d"
           }
          ],
          "scattercarpet": [
           {
            "marker": {
             "colorbar": {
              "outlinewidth": 0,
              "ticks": ""
             }
            },
            "type": "scattercarpet"
           }
          ],
          "scattergeo": [
           {
            "marker": {
             "colorbar": {
              "outlinewidth": 0,
              "ticks": ""
             }
            },
            "type": "scattergeo"
           }
          ],
          "scattergl": [
           {
            "marker": {
             "colorbar": {
              "outlinewidth": 0,
              "ticks": ""
             }
            },
            "type": "scattergl"
           }
          ],
          "scattermapbox": [
           {
            "marker": {
             "colorbar": {
              "outlinewidth": 0,
              "ticks": ""
             }
            },
            "type": "scattermapbox"
           }
          ],
          "scatterpolar": [
           {
            "marker": {
             "colorbar": {
              "outlinewidth": 0,
              "ticks": ""
             }
            },
            "type": "scatterpolar"
           }
          ],
          "scatterpolargl": [
           {
            "marker": {
             "colorbar": {
              "outlinewidth": 0,
              "ticks": ""
             }
            },
            "type": "scatterpolargl"
           }
          ],
          "scatterternary": [
           {
            "marker": {
             "colorbar": {
              "outlinewidth": 0,
              "ticks": ""
             }
            },
            "type": "scatterternary"
           }
          ],
          "surface": [
           {
            "colorbar": {
             "outlinewidth": 0,
             "ticks": ""
            },
            "colorscale": [
             [
              0,
              "#0d0887"
             ],
             [
              0.1111111111111111,
              "#46039f"
             ],
             [
              0.2222222222222222,
              "#7201a8"
             ],
             [
              0.3333333333333333,
              "#9c179e"
             ],
             [
              0.4444444444444444,
              "#bd3786"
             ],
             [
              0.5555555555555556,
              "#d8576b"
             ],
             [
              0.6666666666666666,
              "#ed7953"
             ],
             [
              0.7777777777777778,
              "#fb9f3a"
             ],
             [
              0.8888888888888888,
              "#fdca26"
             ],
             [
              1,
              "#f0f921"
             ]
            ],
            "type": "surface"
           }
          ],
          "table": [
           {
            "cells": {
             "fill": {
              "color": "#EBF0F8"
             },
             "line": {
              "color": "white"
             }
            },
            "header": {
             "fill": {
              "color": "#C8D4E3"
             },
             "line": {
              "color": "white"
             }
            },
            "type": "table"
           }
          ]
         },
         "layout": {
          "annotationdefaults": {
           "arrowcolor": "#2a3f5f",
           "arrowhead": 0,
           "arrowwidth": 1
          },
          "autotypenumbers": "strict",
          "coloraxis": {
           "colorbar": {
            "outlinewidth": 0,
            "ticks": ""
           }
          },
          "colorscale": {
           "diverging": [
            [
             0,
             "#8e0152"
            ],
            [
             0.1,
             "#c51b7d"
            ],
            [
             0.2,
             "#de77ae"
            ],
            [
             0.3,
             "#f1b6da"
            ],
            [
             0.4,
             "#fde0ef"
            ],
            [
             0.5,
             "#f7f7f7"
            ],
            [
             0.6,
             "#e6f5d0"
            ],
            [
             0.7,
             "#b8e186"
            ],
            [
             0.8,
             "#7fbc41"
            ],
            [
             0.9,
             "#4d9221"
            ],
            [
             1,
             "#276419"
            ]
           ],
           "sequential": [
            [
             0,
             "#0d0887"
            ],
            [
             0.1111111111111111,
             "#46039f"
            ],
            [
             0.2222222222222222,
             "#7201a8"
            ],
            [
             0.3333333333333333,
             "#9c179e"
            ],
            [
             0.4444444444444444,
             "#bd3786"
            ],
            [
             0.5555555555555556,
             "#d8576b"
            ],
            [
             0.6666666666666666,
             "#ed7953"
            ],
            [
             0.7777777777777778,
             "#fb9f3a"
            ],
            [
             0.8888888888888888,
             "#fdca26"
            ],
            [
             1,
             "#f0f921"
            ]
           ],
           "sequentialminus": [
            [
             0,
             "#0d0887"
            ],
            [
             0.1111111111111111,
             "#46039f"
            ],
            [
             0.2222222222222222,
             "#7201a8"
            ],
            [
             0.3333333333333333,
             "#9c179e"
            ],
            [
             0.4444444444444444,
             "#bd3786"
            ],
            [
             0.5555555555555556,
             "#d8576b"
            ],
            [
             0.6666666666666666,
             "#ed7953"
            ],
            [
             0.7777777777777778,
             "#fb9f3a"
            ],
            [
             0.8888888888888888,
             "#fdca26"
            ],
            [
             1,
             "#f0f921"
            ]
           ]
          },
          "colorway": [
           "#636efa",
           "#EF553B",
           "#00cc96",
           "#ab63fa",
           "#FFA15A",
           "#19d3f3",
           "#FF6692",
           "#B6E880",
           "#FF97FF",
           "#FECB52"
          ],
          "font": {
           "color": "#2a3f5f"
          },
          "geo": {
           "bgcolor": "white",
           "lakecolor": "white",
           "landcolor": "#E5ECF6",
           "showlakes": true,
           "showland": true,
           "subunitcolor": "white"
          },
          "hoverlabel": {
           "align": "left"
          },
          "hovermode": "closest",
          "mapbox": {
           "style": "light"
          },
          "paper_bgcolor": "white",
          "plot_bgcolor": "#E5ECF6",
          "polar": {
           "angularaxis": {
            "gridcolor": "white",
            "linecolor": "white",
            "ticks": ""
           },
           "bgcolor": "#E5ECF6",
           "radialaxis": {
            "gridcolor": "white",
            "linecolor": "white",
            "ticks": ""
           }
          },
          "scene": {
           "xaxis": {
            "backgroundcolor": "#E5ECF6",
            "gridcolor": "white",
            "gridwidth": 2,
            "linecolor": "white",
            "showbackground": true,
            "ticks": "",
            "zerolinecolor": "white"
           },
           "yaxis": {
            "backgroundcolor": "#E5ECF6",
            "gridcolor": "white",
            "gridwidth": 2,
            "linecolor": "white",
            "showbackground": true,
            "ticks": "",
            "zerolinecolor": "white"
           },
           "zaxis": {
            "backgroundcolor": "#E5ECF6",
            "gridcolor": "white",
            "gridwidth": 2,
            "linecolor": "white",
            "showbackground": true,
            "ticks": "",
            "zerolinecolor": "white"
           }
          },
          "shapedefaults": {
           "line": {
            "color": "#2a3f5f"
           }
          },
          "ternary": {
           "aaxis": {
            "gridcolor": "white",
            "linecolor": "white",
            "ticks": ""
           },
           "baxis": {
            "gridcolor": "white",
            "linecolor": "white",
            "ticks": ""
           },
           "bgcolor": "#E5ECF6",
           "caxis": {
            "gridcolor": "white",
            "linecolor": "white",
            "ticks": ""
           }
          },
          "title": {
           "x": 0.05
          },
          "xaxis": {
           "automargin": true,
           "gridcolor": "white",
           "linecolor": "white",
           "ticks": "",
           "title": {
            "standoff": 15
           },
           "zerolinecolor": "white",
           "zerolinewidth": 2
          },
          "yaxis": {
           "automargin": true,
           "gridcolor": "white",
           "linecolor": "white",
           "ticks": "",
           "title": {
            "standoff": 15
           },
           "zerolinecolor": "white",
           "zerolinewidth": 2
          }
         }
        },
        "xaxis": {
         "anchor": "y",
         "domain": [
          0,
          1
         ],
         "title": {
          "text": "value"
         }
        },
        "yaxis": {
         "anchor": "x",
         "domain": [
          0,
          1
         ],
         "title": {
          "text": "variable"
         }
        }
       }
      }
     },
     "metadata": {},
     "output_type": "display_data"
    }
   ],
   "source": [
    "plty.box(X_lp3_df, x = [\"F_lp3\", \"T_lp3\"])"
   ]
  },
  {
   "attachments": {},
   "cell_type": "markdown",
   "metadata": {},
   "source": [
    "Refining the cluster and plotting scatter and box plots without outliers"
   ]
  },
  {
   "cell_type": "code",
   "execution_count": 22,
   "metadata": {},
   "outputs": [],
   "source": [
    "X_lp3_df = X_lp3_df.drop(X_lp3_df[((X_lp3_df.F_lp3 < 0.09) & (X_lp3_df.Y_lp3==1))].index)\n",
    "X_lp3_df.loc[X_lp3_df[\"T_lp3\"] > 0.088, \"T_lp3\"] = 0.0713\n",
    "X_lp3_df.loc[X_lp3_df[\"F_lp3\"] > 0.127, \"F_lp3\"] = 0.126"
   ]
  },
  {
   "cell_type": "code",
   "execution_count": 23,
   "metadata": {},
   "outputs": [
    {
     "data": {
      "application/vnd.plotly.v1+json": {
       "config": {
        "plotlyServerURL": "https://plot.ly"
       },
       "data": [
        {
         "hovertemplate": "F_lp3=%{x}<br>T_lp3=%{y}<br>Y_lp3=%{marker.color}<extra></extra>",
         "legendgroup": "",
         "marker": {
          "color": [
           0,
           0,
           0,
           0,
           0,
           0,
           0,
           0,
           0,
           0,
           0,
           0,
           0,
           0,
           0,
           0,
           0,
           0,
           0,
           0,
           2,
           2,
           1,
           2,
           1,
           1,
           1,
           1,
           1,
           2,
           1,
           2,
           2,
           2,
           2,
           3,
           2,
           2,
           2,
           2,
           2,
           3,
           2,
           3,
           1,
           1,
           2
          ],
          "coloraxis": "coloraxis",
          "symbol": "circle"
         },
         "mode": "markers",
         "name": "",
         "orientation": "v",
         "showlegend": false,
         "type": "scatter",
         "x": [
          0.08179743788306847,
          0.08414031294439552,
          0.07950458672261128,
          0.08731340272457334,
          0.07981160765600386,
          0.07983925683609067,
          0.08087474020879157,
          0.07885566203244744,
          0.08147452014874516,
          0.08450160052893578,
          0.08690531903950365,
          0.08482875111482821,
          0.07836208010860175,
          0.08358148598263042,
          0.07927468085428618,
          0.07896449705032448,
          0.08065596713149369,
          0.08151034232982961,
          0.08163472574766845,
          0.08130454907513755,
          0.126,
          0.126,
          0.1259803634115901,
          0.12603133438405986,
          0.11425206064813544,
          0.09452013494576593,
          0.09226561952235851,
          0.09066503460204167,
          0.09620958269334946,
          0.09194879938116506,
          0.0989585125062555,
          0.10343534441501757,
          0.10343534441501757,
          0.126,
          0.126,
          0.07164049410356507,
          0.0985047335988926,
          0.0996421594819458,
          0.10275726659872308,
          0.12286518166273765,
          0.126,
          0.10906029214936887,
          0.09344417768800815,
          0.11247471255677761,
          0.0925062561135222,
          0.0925062561135222,
          0.10812745330777397
         ],
         "xaxis": "x",
         "y": [
          0.002955277301027452,
          0.015814161890648302,
          0.017118455043082615,
          0.019169717827381413,
          0.02140104515420131,
          0.024049630835349754,
          0.02774867660598769,
          0.032792008401309684,
          0.03447113742264939,
          0.036610897011878044,
          0.03854648792285851,
          0.011349339068626748,
          0.016120743331131823,
          0.02025020035182589,
          0.0242158946061628,
          0.022041585083251863,
          0.029527638607967834,
          0.03357746835959118,
          0.035995130224200526,
          0.03586075756256985,
          0.0713,
          0.0713,
          0.060629243395644135,
          0.0713361955466607,
          0.04979685116090409,
          0.035113768493063344,
          0.04275954517071217,
          0.038749220708561787,
          0.03778510531910685,
          0.026521204539917746,
          0.03926366373074116,
          0.040236432456458554,
          0.04023643245645855,
          0.0713,
          0.0713,
          0.05351055756544853,
          0.031743426252680285,
          0.045450814340611635,
          0.043597110007633014,
          0.04942718939996175,
          0.08796733203469352,
          0.07086751918272943,
          0.023401202955524163,
          0.061571185860391675,
          0.024043375387555292,
          0.024043375387555292,
          0.059594412088190336
         ],
         "yaxis": "y"
        }
       ],
       "layout": {
        "coloraxis": {
         "colorbar": {
          "title": {
           "text": "Y_lp3"
          }
         },
         "colorscale": [
          [
           0,
           "#0d0887"
          ],
          [
           0.1111111111111111,
           "#46039f"
          ],
          [
           0.2222222222222222,
           "#7201a8"
          ],
          [
           0.3333333333333333,
           "#9c179e"
          ],
          [
           0.4444444444444444,
           "#bd3786"
          ],
          [
           0.5555555555555556,
           "#d8576b"
          ],
          [
           0.6666666666666666,
           "#ed7953"
          ],
          [
           0.7777777777777778,
           "#fb9f3a"
          ],
          [
           0.8888888888888888,
           "#fdca26"
          ],
          [
           1,
           "#f0f921"
          ]
         ]
        },
        "legend": {
         "tracegroupgap": 0
        },
        "margin": {
         "t": 60
        },
        "template": {
         "data": {
          "bar": [
           {
            "error_x": {
             "color": "#2a3f5f"
            },
            "error_y": {
             "color": "#2a3f5f"
            },
            "marker": {
             "line": {
              "color": "#E5ECF6",
              "width": 0.5
             },
             "pattern": {
              "fillmode": "overlay",
              "size": 10,
              "solidity": 0.2
             }
            },
            "type": "bar"
           }
          ],
          "barpolar": [
           {
            "marker": {
             "line": {
              "color": "#E5ECF6",
              "width": 0.5
             },
             "pattern": {
              "fillmode": "overlay",
              "size": 10,
              "solidity": 0.2
             }
            },
            "type": "barpolar"
           }
          ],
          "carpet": [
           {
            "aaxis": {
             "endlinecolor": "#2a3f5f",
             "gridcolor": "white",
             "linecolor": "white",
             "minorgridcolor": "white",
             "startlinecolor": "#2a3f5f"
            },
            "baxis": {
             "endlinecolor": "#2a3f5f",
             "gridcolor": "white",
             "linecolor": "white",
             "minorgridcolor": "white",
             "startlinecolor": "#2a3f5f"
            },
            "type": "carpet"
           }
          ],
          "choropleth": [
           {
            "colorbar": {
             "outlinewidth": 0,
             "ticks": ""
            },
            "type": "choropleth"
           }
          ],
          "contour": [
           {
            "colorbar": {
             "outlinewidth": 0,
             "ticks": ""
            },
            "colorscale": [
             [
              0,
              "#0d0887"
             ],
             [
              0.1111111111111111,
              "#46039f"
             ],
             [
              0.2222222222222222,
              "#7201a8"
             ],
             [
              0.3333333333333333,
              "#9c179e"
             ],
             [
              0.4444444444444444,
              "#bd3786"
             ],
             [
              0.5555555555555556,
              "#d8576b"
             ],
             [
              0.6666666666666666,
              "#ed7953"
             ],
             [
              0.7777777777777778,
              "#fb9f3a"
             ],
             [
              0.8888888888888888,
              "#fdca26"
             ],
             [
              1,
              "#f0f921"
             ]
            ],
            "type": "contour"
           }
          ],
          "contourcarpet": [
           {
            "colorbar": {
             "outlinewidth": 0,
             "ticks": ""
            },
            "type": "contourcarpet"
           }
          ],
          "heatmap": [
           {
            "colorbar": {
             "outlinewidth": 0,
             "ticks": ""
            },
            "colorscale": [
             [
              0,
              "#0d0887"
             ],
             [
              0.1111111111111111,
              "#46039f"
             ],
             [
              0.2222222222222222,
              "#7201a8"
             ],
             [
              0.3333333333333333,
              "#9c179e"
             ],
             [
              0.4444444444444444,
              "#bd3786"
             ],
             [
              0.5555555555555556,
              "#d8576b"
             ],
             [
              0.6666666666666666,
              "#ed7953"
             ],
             [
              0.7777777777777778,
              "#fb9f3a"
             ],
             [
              0.8888888888888888,
              "#fdca26"
             ],
             [
              1,
              "#f0f921"
             ]
            ],
            "type": "heatmap"
           }
          ],
          "heatmapgl": [
           {
            "colorbar": {
             "outlinewidth": 0,
             "ticks": ""
            },
            "colorscale": [
             [
              0,
              "#0d0887"
             ],
             [
              0.1111111111111111,
              "#46039f"
             ],
             [
              0.2222222222222222,
              "#7201a8"
             ],
             [
              0.3333333333333333,
              "#9c179e"
             ],
             [
              0.4444444444444444,
              "#bd3786"
             ],
             [
              0.5555555555555556,
              "#d8576b"
             ],
             [
              0.6666666666666666,
              "#ed7953"
             ],
             [
              0.7777777777777778,
              "#fb9f3a"
             ],
             [
              0.8888888888888888,
              "#fdca26"
             ],
             [
              1,
              "#f0f921"
             ]
            ],
            "type": "heatmapgl"
           }
          ],
          "histogram": [
           {
            "marker": {
             "pattern": {
              "fillmode": "overlay",
              "size": 10,
              "solidity": 0.2
             }
            },
            "type": "histogram"
           }
          ],
          "histogram2d": [
           {
            "colorbar": {
             "outlinewidth": 0,
             "ticks": ""
            },
            "colorscale": [
             [
              0,
              "#0d0887"
             ],
             [
              0.1111111111111111,
              "#46039f"
             ],
             [
              0.2222222222222222,
              "#7201a8"
             ],
             [
              0.3333333333333333,
              "#9c179e"
             ],
             [
              0.4444444444444444,
              "#bd3786"
             ],
             [
              0.5555555555555556,
              "#d8576b"
             ],
             [
              0.6666666666666666,
              "#ed7953"
             ],
             [
              0.7777777777777778,
              "#fb9f3a"
             ],
             [
              0.8888888888888888,
              "#fdca26"
             ],
             [
              1,
              "#f0f921"
             ]
            ],
            "type": "histogram2d"
           }
          ],
          "histogram2dcontour": [
           {
            "colorbar": {
             "outlinewidth": 0,
             "ticks": ""
            },
            "colorscale": [
             [
              0,
              "#0d0887"
             ],
             [
              0.1111111111111111,
              "#46039f"
             ],
             [
              0.2222222222222222,
              "#7201a8"
             ],
             [
              0.3333333333333333,
              "#9c179e"
             ],
             [
              0.4444444444444444,
              "#bd3786"
             ],
             [
              0.5555555555555556,
              "#d8576b"
             ],
             [
              0.6666666666666666,
              "#ed7953"
             ],
             [
              0.7777777777777778,
              "#fb9f3a"
             ],
             [
              0.8888888888888888,
              "#fdca26"
             ],
             [
              1,
              "#f0f921"
             ]
            ],
            "type": "histogram2dcontour"
           }
          ],
          "mesh3d": [
           {
            "colorbar": {
             "outlinewidth": 0,
             "ticks": ""
            },
            "type": "mesh3d"
           }
          ],
          "parcoords": [
           {
            "line": {
             "colorbar": {
              "outlinewidth": 0,
              "ticks": ""
             }
            },
            "type": "parcoords"
           }
          ],
          "pie": [
           {
            "automargin": true,
            "type": "pie"
           }
          ],
          "scatter": [
           {
            "fillpattern": {
             "fillmode": "overlay",
             "size": 10,
             "solidity": 0.2
            },
            "type": "scatter"
           }
          ],
          "scatter3d": [
           {
            "line": {
             "colorbar": {
              "outlinewidth": 0,
              "ticks": ""
             }
            },
            "marker": {
             "colorbar": {
              "outlinewidth": 0,
              "ticks": ""
             }
            },
            "type": "scatter3d"
           }
          ],
          "scattercarpet": [
           {
            "marker": {
             "colorbar": {
              "outlinewidth": 0,
              "ticks": ""
             }
            },
            "type": "scattercarpet"
           }
          ],
          "scattergeo": [
           {
            "marker": {
             "colorbar": {
              "outlinewidth": 0,
              "ticks": ""
             }
            },
            "type": "scattergeo"
           }
          ],
          "scattergl": [
           {
            "marker": {
             "colorbar": {
              "outlinewidth": 0,
              "ticks": ""
             }
            },
            "type": "scattergl"
           }
          ],
          "scattermapbox": [
           {
            "marker": {
             "colorbar": {
              "outlinewidth": 0,
              "ticks": ""
             }
            },
            "type": "scattermapbox"
           }
          ],
          "scatterpolar": [
           {
            "marker": {
             "colorbar": {
              "outlinewidth": 0,
              "ticks": ""
             }
            },
            "type": "scatterpolar"
           }
          ],
          "scatterpolargl": [
           {
            "marker": {
             "colorbar": {
              "outlinewidth": 0,
              "ticks": ""
             }
            },
            "type": "scatterpolargl"
           }
          ],
          "scatterternary": [
           {
            "marker": {
             "colorbar": {
              "outlinewidth": 0,
              "ticks": ""
             }
            },
            "type": "scatterternary"
           }
          ],
          "surface": [
           {
            "colorbar": {
             "outlinewidth": 0,
             "ticks": ""
            },
            "colorscale": [
             [
              0,
              "#0d0887"
             ],
             [
              0.1111111111111111,
              "#46039f"
             ],
             [
              0.2222222222222222,
              "#7201a8"
             ],
             [
              0.3333333333333333,
              "#9c179e"
             ],
             [
              0.4444444444444444,
              "#bd3786"
             ],
             [
              0.5555555555555556,
              "#d8576b"
             ],
             [
              0.6666666666666666,
              "#ed7953"
             ],
             [
              0.7777777777777778,
              "#fb9f3a"
             ],
             [
              0.8888888888888888,
              "#fdca26"
             ],
             [
              1,
              "#f0f921"
             ]
            ],
            "type": "surface"
           }
          ],
          "table": [
           {
            "cells": {
             "fill": {
              "color": "#EBF0F8"
             },
             "line": {
              "color": "white"
             }
            },
            "header": {
             "fill": {
              "color": "#C8D4E3"
             },
             "line": {
              "color": "white"
             }
            },
            "type": "table"
           }
          ]
         },
         "layout": {
          "annotationdefaults": {
           "arrowcolor": "#2a3f5f",
           "arrowhead": 0,
           "arrowwidth": 1
          },
          "autotypenumbers": "strict",
          "coloraxis": {
           "colorbar": {
            "outlinewidth": 0,
            "ticks": ""
           }
          },
          "colorscale": {
           "diverging": [
            [
             0,
             "#8e0152"
            ],
            [
             0.1,
             "#c51b7d"
            ],
            [
             0.2,
             "#de77ae"
            ],
            [
             0.3,
             "#f1b6da"
            ],
            [
             0.4,
             "#fde0ef"
            ],
            [
             0.5,
             "#f7f7f7"
            ],
            [
             0.6,
             "#e6f5d0"
            ],
            [
             0.7,
             "#b8e186"
            ],
            [
             0.8,
             "#7fbc41"
            ],
            [
             0.9,
             "#4d9221"
            ],
            [
             1,
             "#276419"
            ]
           ],
           "sequential": [
            [
             0,
             "#0d0887"
            ],
            [
             0.1111111111111111,
             "#46039f"
            ],
            [
             0.2222222222222222,
             "#7201a8"
            ],
            [
             0.3333333333333333,
             "#9c179e"
            ],
            [
             0.4444444444444444,
             "#bd3786"
            ],
            [
             0.5555555555555556,
             "#d8576b"
            ],
            [
             0.6666666666666666,
             "#ed7953"
            ],
            [
             0.7777777777777778,
             "#fb9f3a"
            ],
            [
             0.8888888888888888,
             "#fdca26"
            ],
            [
             1,
             "#f0f921"
            ]
           ],
           "sequentialminus": [
            [
             0,
             "#0d0887"
            ],
            [
             0.1111111111111111,
             "#46039f"
            ],
            [
             0.2222222222222222,
             "#7201a8"
            ],
            [
             0.3333333333333333,
             "#9c179e"
            ],
            [
             0.4444444444444444,
             "#bd3786"
            ],
            [
             0.5555555555555556,
             "#d8576b"
            ],
            [
             0.6666666666666666,
             "#ed7953"
            ],
            [
             0.7777777777777778,
             "#fb9f3a"
            ],
            [
             0.8888888888888888,
             "#fdca26"
            ],
            [
             1,
             "#f0f921"
            ]
           ]
          },
          "colorway": [
           "#636efa",
           "#EF553B",
           "#00cc96",
           "#ab63fa",
           "#FFA15A",
           "#19d3f3",
           "#FF6692",
           "#B6E880",
           "#FF97FF",
           "#FECB52"
          ],
          "font": {
           "color": "#2a3f5f"
          },
          "geo": {
           "bgcolor": "white",
           "lakecolor": "white",
           "landcolor": "#E5ECF6",
           "showlakes": true,
           "showland": true,
           "subunitcolor": "white"
          },
          "hoverlabel": {
           "align": "left"
          },
          "hovermode": "closest",
          "mapbox": {
           "style": "light"
          },
          "paper_bgcolor": "white",
          "plot_bgcolor": "#E5ECF6",
          "polar": {
           "angularaxis": {
            "gridcolor": "white",
            "linecolor": "white",
            "ticks": ""
           },
           "bgcolor": "#E5ECF6",
           "radialaxis": {
            "gridcolor": "white",
            "linecolor": "white",
            "ticks": ""
           }
          },
          "scene": {
           "xaxis": {
            "backgroundcolor": "#E5ECF6",
            "gridcolor": "white",
            "gridwidth": 2,
            "linecolor": "white",
            "showbackground": true,
            "ticks": "",
            "zerolinecolor": "white"
           },
           "yaxis": {
            "backgroundcolor": "#E5ECF6",
            "gridcolor": "white",
            "gridwidth": 2,
            "linecolor": "white",
            "showbackground": true,
            "ticks": "",
            "zerolinecolor": "white"
           },
           "zaxis": {
            "backgroundcolor": "#E5ECF6",
            "gridcolor": "white",
            "gridwidth": 2,
            "linecolor": "white",
            "showbackground": true,
            "ticks": "",
            "zerolinecolor": "white"
           }
          },
          "shapedefaults": {
           "line": {
            "color": "#2a3f5f"
           }
          },
          "ternary": {
           "aaxis": {
            "gridcolor": "white",
            "linecolor": "white",
            "ticks": ""
           },
           "baxis": {
            "gridcolor": "white",
            "linecolor": "white",
            "ticks": ""
           },
           "bgcolor": "#E5ECF6",
           "caxis": {
            "gridcolor": "white",
            "linecolor": "white",
            "ticks": ""
           }
          },
          "title": {
           "x": 0.05
          },
          "xaxis": {
           "automargin": true,
           "gridcolor": "white",
           "linecolor": "white",
           "ticks": "",
           "title": {
            "standoff": 15
           },
           "zerolinecolor": "white",
           "zerolinewidth": 2
          },
          "yaxis": {
           "automargin": true,
           "gridcolor": "white",
           "linecolor": "white",
           "ticks": "",
           "title": {
            "standoff": 15
           },
           "zerolinecolor": "white",
           "zerolinewidth": 2
          }
         }
        },
        "xaxis": {
         "anchor": "y",
         "domain": [
          0,
          1
         ],
         "title": {
          "text": "F_lp3"
         },
         "type": "log"
        },
        "yaxis": {
         "anchor": "x",
         "domain": [
          0,
          1
         ],
         "title": {
          "text": "T_lp3"
         },
         "type": "log"
        }
       }
      }
     },
     "metadata": {},
     "output_type": "display_data"
    }
   ],
   "source": [
    "plty.scatter(X_lp3_df, x = \"F_lp3\", y = \"T_lp3\", color=\"Y_lp3\", log_x=True, log_y=True)"
   ]
  },
  {
   "cell_type": "code",
   "execution_count": 24,
   "metadata": {},
   "outputs": [
    {
     "data": {
      "application/vnd.plotly.v1+json": {
       "config": {
        "plotlyServerURL": "https://plot.ly"
       },
       "data": [
        {
         "hovertemplate": "variable=Fx_lp3<br>value=%{x}<br>index=%{y}<extra></extra>",
         "legendgroup": "Fx_lp3",
         "marker": {
          "color": "red",
          "symbol": "circle"
         },
         "mode": "markers",
         "name": "Fx_lp3",
         "orientation": "h",
         "showlegend": true,
         "type": "scatter",
         "x": [
          0.4074309978768578,
          0.4174097664543524,
          0.4044585987261147,
          0.4065817409766455,
          0.4078556263269639,
          0.4063694267515924,
          0.4048832271762209,
          0.4055201698513801,
          0.4038216560509554,
          0.4016985138004247,
          0.40912951167728234,
          0.4089171974522293,
          0.4036093418259023,
          0.4078556263269639,
          0.4042462845010616,
          0.4059447983014863,
          0.40594479830148616,
          0.4033970276008493,
          0.4031847133757962,
          0.40509554140127396,
          0.49108280254777076,
          0.4490445859872611,
          0.45159235668789816,
          0.38683651804670915,
          0.38938428874734604,
          0.413588110403397,
          0.41528662420382173,
          0.4010615711252654,
          0.4065817409766454,
          0.39150743099787694,
          0.3983014861995754,
          0.4197452229299363,
          0.4197452229299363,
          0.46687898089171964,
          0.46687898089171964,
          0.373036093418259,
          0.4038216560509554,
          0.40976645435244163,
          0.39150743099787694,
          0.383864118895966,
          0.5089171974522293,
          0.4346072186836517,
          0.4046709129511677,
          0.40658174097664534,
          0.39978768577494694,
          0.39978768577494694,
          0.36560509554140125
         ],
         "xaxis": "x",
         "y": [
          0,
          1,
          2,
          3,
          4,
          5,
          6,
          7,
          8,
          9,
          10,
          11,
          12,
          13,
          14,
          15,
          16,
          17,
          18,
          19,
          20,
          21,
          22,
          23,
          24,
          25,
          26,
          27,
          28,
          29,
          30,
          31,
          32,
          33,
          34,
          35,
          36,
          37,
          38,
          39,
          40,
          41,
          42,
          43,
          44,
          45,
          46
         ],
         "yaxis": "y"
        },
        {
         "hovertemplate": "variable=Fy_lp3<br>value=%{x}<br>index=%{y}<extra></extra>",
         "legendgroup": "Fy_lp3",
         "marker": {
          "color": "blue",
          "symbol": "circle"
         },
         "mode": "markers",
         "name": "Fy_lp3",
         "orientation": "h",
         "showlegend": true,
         "type": "scatter",
         "x": [
          0.44407894736842113,
          0.4403508771929825,
          0.44254385964912285,
          0.43618421052631573,
          0.43793859649122807,
          0.43662280701754397,
          0.4385964912280702,
          0.43815789473684214,
          0.43750000000000006,
          0.4379385964912281,
          0.44605263157894737,
          0.43881578947368427,
          0.44495614035087716,
          0.43859649122807026,
          0.4390350877192982,
          0.43706140350877193,
          0.43596491228070183,
          0.43793859649122807,
          0.4421052631578947,
          0.44057017543859645,
          0.443859649122807,
          0.4581140350877193,
          0.40679824561403516,
          0.48815789473684207,
          0.48486842105263156,
          0.4337719298245614,
          0.42127192982456135,
          0.4399122807017544,
          0.443421052631579,
          0.43486842105263157,
          0.443421052631579,
          0.4469298245614034,
          0.4469298245614034,
          0.38859649122807016,
          0.3885964912280702,
          0.42807017543859643,
          0.43793859649122807,
          0.44649122807017544,
          0.437938596491228,
          0.43706140350877193,
          0.47872807017543867,
          0.4701754385964913,
          0.43881578947368427,
          0.48026315789473684,
          0.4304824561403508,
          0.4304824561403508,
          0.4429824561403509
         ],
         "xaxis": "x",
         "y": [
          0,
          1,
          2,
          3,
          4,
          5,
          6,
          7,
          8,
          9,
          10,
          11,
          12,
          13,
          14,
          15,
          16,
          17,
          18,
          19,
          20,
          21,
          22,
          23,
          24,
          25,
          26,
          27,
          28,
          29,
          30,
          31,
          32,
          33,
          34,
          35,
          36,
          37,
          38,
          39,
          40,
          41,
          42,
          43,
          44,
          45,
          46
         ],
         "yaxis": "y"
        },
        {
         "hovertemplate": "variable=Fz_lp3<br>value=%{x}<br>index=%{y}<extra></extra>",
         "legendgroup": "Fz_lp3",
         "marker": {
          "color": "green",
          "symbol": "circle"
         },
         "mode": "markers",
         "name": "Fz_lp3",
         "orientation": "h",
         "showlegend": true,
         "type": "scatter",
         "x": [
          0.19810066476733146,
          0.19753086419753085,
          0.19525166191832855,
          0.2020892687559354,
          0.19544159544159542,
          0.1956315289648623,
          0.19677113010446348,
          0.19468186134852802,
          0.19715099715099713,
          0.1998100664767331,
          0.19924026590693253,
          0.2001899335232669,
          0.1943019943019943,
          0.19886039886039886,
          0.19468186134852802,
          0.19506172839506172,
          0.19620132953466285,
          0.19715099715099715,
          0.19715099715099713,
          0.19715099715099715,
          0.21785375118708453,
          0.2617283950617284,
          0.20645773979107312,
          0.21671415004748334,
          0.19943019943019943,
          0.20455840455840452,
          0.20037986704653374,
          0.20341880341880342,
          0.20759734093067425,
          0.2024691358024691,
          0.209306742640076,
          0.20987654320987656,
          0.20987654320987656,
          0.2022792022792023,
          0.20227920227920226,
          0.17094017094017094,
          0.21139601139601139,
          0.21006647673314338,
          0.21063627730294396,
          0.22545109211775874,
          0.22355175688509019,
          0.16904083570750233,
          0.20512820512820512,
          0.1872744539411206,
          0.2043684710351377,
          0.2043684710351377,
          0.19145299145299147
         ],
         "xaxis": "x",
         "y": [
          0,
          1,
          2,
          3,
          4,
          5,
          6,
          7,
          8,
          9,
          10,
          11,
          12,
          13,
          14,
          15,
          16,
          17,
          18,
          19,
          20,
          21,
          22,
          23,
          24,
          25,
          26,
          27,
          28,
          29,
          30,
          31,
          32,
          33,
          34,
          35,
          36,
          37,
          38,
          39,
          40,
          41,
          42,
          43,
          44,
          45,
          46
         ],
         "yaxis": "y"
        },
        {
         "hovertemplate": "variable=Tx_lp3<br>value=%{x}<br>index=%{y}<extra></extra>",
         "legendgroup": "Tx_lp3",
         "marker": {
          "color": "purple",
          "symbol": "circle"
         },
         "mode": "markers",
         "name": "Tx_lp3",
         "orientation": "h",
         "showlegend": true,
         "type": "scatter",
         "x": [
          0.5014218009478673,
          0.5018167456556083,
          0.49984202211690365,
          0.4996050552922591,
          0.49565560821485,
          0.49383886255924175,
          0.4888625592417062,
          0.4846761453396525,
          0.481437598736177,
          0.4803317535545023,
          0.4742496050552923,
          0.5044233807266983,
          0.4976303317535545,
          0.4985781990521327,
          0.49573459715639806,
          0.49360189573459723,
          0.48988941548183257,
          0.4830173775671406,
          0.4794628751974724,
          0.4778830963665086,
          0.48278041074249606,
          0.4567930489731438,
          0.5201421800947866,
          0.4486571879936809,
          0.47203791469194323,
          0.4883886255924171,
          0.49770932069510276,
          0.4826224328593997,
          0.4760663507109004,
          0.49691943127962096,
          0.4858609794628752,
          0.48428120063191155,
          0.48428120063191155,
          0.5248025276461294,
          0.5248025276461294,
          0.5035545023696683,
          0.4834913112164298,
          0.4707740916271722,
          0.4893364928909953,
          0.4962085308056872,
          0.49636650868878357,
          0.4715639810426541,
          0.5003949447077409,
          0.48491311216429694,
          0.5102685624012637,
          0.5102685624012637,
          0.4924170616113744
         ],
         "xaxis": "x",
         "y": [
          0,
          1,
          2,
          3,
          4,
          5,
          6,
          7,
          8,
          9,
          10,
          11,
          12,
          13,
          14,
          15,
          16,
          17,
          18,
          19,
          20,
          21,
          22,
          23,
          24,
          25,
          26,
          27,
          28,
          29,
          30,
          31,
          32,
          33,
          34,
          35,
          36,
          37,
          38,
          39,
          40,
          41,
          42,
          43,
          44,
          45,
          46
         ],
         "yaxis": "y"
        },
        {
         "hovertemplate": "variable=Ty_lp3<br>value=%{x}<br>index=%{y}<extra></extra>",
         "legendgroup": "Ty_lp3",
         "marker": {
          "color": "orange",
          "symbol": "circle"
         },
         "mode": "markers",
         "name": "Ty_lp3",
         "orientation": "h",
         "showlegend": true,
         "type": "scatter",
         "x": [
          0.2703774792066539,
          0.272296865003199,
          0.2648112603966731,
          0.26199616122840685,
          0.2602687140115163,
          0.25655790147152907,
          0.2542546385156749,
          0.2527831094049904,
          0.25175943698016634,
          0.2507997440818938,
          0.25406269993602043,
          0.2693538067818298,
          0.26353166986564297,
          0.2612923864363404,
          0.2579654510556622,
          0.2575815738963531,
          0.2547024952015355,
          0.25246321177223285,
          0.2523352527191298,
          0.2527831094049903,
          0.2963531669865643,
          0.317274472168906,
          0.2829174664107485,
          0.2461932181701855,
          0.2564939219449776,
          0.26231605886116444,
          0.2596928982725527,
          0.254510556621881,
          0.255662188099808,
          0.25579014715291104,
          0.2530390275111964,
          0.2696097248880358,
          0.26960972488803586,
          0.3068458093410109,
          0.3068458093410109,
          0.23787587971849006,
          0.2550863723608445,
          0.2541906589891235,
          0.24574536148432502,
          0.24670505438259754,
          0.3004478566858605,
          0.25259117082533594,
          0.27357645553422905,
          0.2792066538707613,
          0.26596289187460015,
          0.26596289187460015,
          0.24484964811260396
         ],
         "xaxis": "x",
         "y": [
          0,
          1,
          2,
          3,
          4,
          5,
          6,
          7,
          8,
          9,
          10,
          11,
          12,
          13,
          14,
          15,
          16,
          17,
          18,
          19,
          20,
          21,
          22,
          23,
          24,
          25,
          26,
          27,
          28,
          29,
          30,
          31,
          32,
          33,
          34,
          35,
          36,
          37,
          38,
          39,
          40,
          41,
          42,
          43,
          44,
          45,
          46
         ],
         "yaxis": "y"
        },
        {
         "hovertemplate": "variable=Tz_lp3<br>value=%{x}<br>index=%{y}<extra></extra>",
         "legendgroup": "Tz_lp3",
         "marker": {
          "color": "yellow",
          "symbol": "circle"
         },
         "mode": "markers",
         "name": "Tz_lp3",
         "orientation": "h",
         "showlegend": true,
         "type": "scatter",
         "x": [
          0.5764150943396227,
          0.5742138364779874,
          0.5679245283018868,
          0.5477987421383648,
          0.5468553459119497,
          0.5437106918238995,
          0.5367924528301885,
          0.5261006289308177,
          0.5298742138364779,
          0.5242138364779875,
          0.5355345911949686,
          0.580817610062893,
          0.5622641509433962,
          0.5500000000000002,
          0.5477987421383648,
          0.5459119496855346,
          0.529245283018868,
          0.530188679245283,
          0.5251572327044025,
          0.5333333333333334,
          0.5352201257861634,
          0.5270440251572327,
          0.5660377358490566,
          0.5465408805031446,
          0.5559748427672956,
          0.528616352201258,
          0.5261006289308178,
          0.5349056603773585,
          0.5292452830188679,
          0.5411949685534592,
          0.5393081761006289,
          0.5396226415094341,
          0.5396226415094341,
          0.5625786163522014,
          0.5625786163522013,
          0.5512578616352202,
          0.5339622641509435,
          0.5383647798742139,
          0.5342767295597484,
          0.5160377358490567,
          0.5358490566037736,
          0.4968553459119497,
          0.5499999999999999,
          0.5512578616352202,
          0.5666666666666667,
          0.5666666666666667,
          0.5792452830188679
         ],
         "xaxis": "x",
         "y": [
          0,
          1,
          2,
          3,
          4,
          5,
          6,
          7,
          8,
          9,
          10,
          11,
          12,
          13,
          14,
          15,
          16,
          17,
          18,
          19,
          20,
          21,
          22,
          23,
          24,
          25,
          26,
          27,
          28,
          29,
          30,
          31,
          32,
          33,
          34,
          35,
          36,
          37,
          38,
          39,
          40,
          41,
          42,
          43,
          44,
          45,
          46
         ],
         "yaxis": "y"
        }
       ],
       "layout": {
        "legend": {
         "title": {
          "text": "variable"
         },
         "tracegroupgap": 0
        },
        "margin": {
         "t": 60
        },
        "template": {
         "data": {
          "bar": [
           {
            "error_x": {
             "color": "#2a3f5f"
            },
            "error_y": {
             "color": "#2a3f5f"
            },
            "marker": {
             "line": {
              "color": "#E5ECF6",
              "width": 0.5
             },
             "pattern": {
              "fillmode": "overlay",
              "size": 10,
              "solidity": 0.2
             }
            },
            "type": "bar"
           }
          ],
          "barpolar": [
           {
            "marker": {
             "line": {
              "color": "#E5ECF6",
              "width": 0.5
             },
             "pattern": {
              "fillmode": "overlay",
              "size": 10,
              "solidity": 0.2
             }
            },
            "type": "barpolar"
           }
          ],
          "carpet": [
           {
            "aaxis": {
             "endlinecolor": "#2a3f5f",
             "gridcolor": "white",
             "linecolor": "white",
             "minorgridcolor": "white",
             "startlinecolor": "#2a3f5f"
            },
            "baxis": {
             "endlinecolor": "#2a3f5f",
             "gridcolor": "white",
             "linecolor": "white",
             "minorgridcolor": "white",
             "startlinecolor": "#2a3f5f"
            },
            "type": "carpet"
           }
          ],
          "choropleth": [
           {
            "colorbar": {
             "outlinewidth": 0,
             "ticks": ""
            },
            "type": "choropleth"
           }
          ],
          "contour": [
           {
            "colorbar": {
             "outlinewidth": 0,
             "ticks": ""
            },
            "colorscale": [
             [
              0,
              "#0d0887"
             ],
             [
              0.1111111111111111,
              "#46039f"
             ],
             [
              0.2222222222222222,
              "#7201a8"
             ],
             [
              0.3333333333333333,
              "#9c179e"
             ],
             [
              0.4444444444444444,
              "#bd3786"
             ],
             [
              0.5555555555555556,
              "#d8576b"
             ],
             [
              0.6666666666666666,
              "#ed7953"
             ],
             [
              0.7777777777777778,
              "#fb9f3a"
             ],
             [
              0.8888888888888888,
              "#fdca26"
             ],
             [
              1,
              "#f0f921"
             ]
            ],
            "type": "contour"
           }
          ],
          "contourcarpet": [
           {
            "colorbar": {
             "outlinewidth": 0,
             "ticks": ""
            },
            "type": "contourcarpet"
           }
          ],
          "heatmap": [
           {
            "colorbar": {
             "outlinewidth": 0,
             "ticks": ""
            },
            "colorscale": [
             [
              0,
              "#0d0887"
             ],
             [
              0.1111111111111111,
              "#46039f"
             ],
             [
              0.2222222222222222,
              "#7201a8"
             ],
             [
              0.3333333333333333,
              "#9c179e"
             ],
             [
              0.4444444444444444,
              "#bd3786"
             ],
             [
              0.5555555555555556,
              "#d8576b"
             ],
             [
              0.6666666666666666,
              "#ed7953"
             ],
             [
              0.7777777777777778,
              "#fb9f3a"
             ],
             [
              0.8888888888888888,
              "#fdca26"
             ],
             [
              1,
              "#f0f921"
             ]
            ],
            "type": "heatmap"
           }
          ],
          "heatmapgl": [
           {
            "colorbar": {
             "outlinewidth": 0,
             "ticks": ""
            },
            "colorscale": [
             [
              0,
              "#0d0887"
             ],
             [
              0.1111111111111111,
              "#46039f"
             ],
             [
              0.2222222222222222,
              "#7201a8"
             ],
             [
              0.3333333333333333,
              "#9c179e"
             ],
             [
              0.4444444444444444,
              "#bd3786"
             ],
             [
              0.5555555555555556,
              "#d8576b"
             ],
             [
              0.6666666666666666,
              "#ed7953"
             ],
             [
              0.7777777777777778,
              "#fb9f3a"
             ],
             [
              0.8888888888888888,
              "#fdca26"
             ],
             [
              1,
              "#f0f921"
             ]
            ],
            "type": "heatmapgl"
           }
          ],
          "histogram": [
           {
            "marker": {
             "pattern": {
              "fillmode": "overlay",
              "size": 10,
              "solidity": 0.2
             }
            },
            "type": "histogram"
           }
          ],
          "histogram2d": [
           {
            "colorbar": {
             "outlinewidth": 0,
             "ticks": ""
            },
            "colorscale": [
             [
              0,
              "#0d0887"
             ],
             [
              0.1111111111111111,
              "#46039f"
             ],
             [
              0.2222222222222222,
              "#7201a8"
             ],
             [
              0.3333333333333333,
              "#9c179e"
             ],
             [
              0.4444444444444444,
              "#bd3786"
             ],
             [
              0.5555555555555556,
              "#d8576b"
             ],
             [
              0.6666666666666666,
              "#ed7953"
             ],
             [
              0.7777777777777778,
              "#fb9f3a"
             ],
             [
              0.8888888888888888,
              "#fdca26"
             ],
             [
              1,
              "#f0f921"
             ]
            ],
            "type": "histogram2d"
           }
          ],
          "histogram2dcontour": [
           {
            "colorbar": {
             "outlinewidth": 0,
             "ticks": ""
            },
            "colorscale": [
             [
              0,
              "#0d0887"
             ],
             [
              0.1111111111111111,
              "#46039f"
             ],
             [
              0.2222222222222222,
              "#7201a8"
             ],
             [
              0.3333333333333333,
              "#9c179e"
             ],
             [
              0.4444444444444444,
              "#bd3786"
             ],
             [
              0.5555555555555556,
              "#d8576b"
             ],
             [
              0.6666666666666666,
              "#ed7953"
             ],
             [
              0.7777777777777778,
              "#fb9f3a"
             ],
             [
              0.8888888888888888,
              "#fdca26"
             ],
             [
              1,
              "#f0f921"
             ]
            ],
            "type": "histogram2dcontour"
           }
          ],
          "mesh3d": [
           {
            "colorbar": {
             "outlinewidth": 0,
             "ticks": ""
            },
            "type": "mesh3d"
           }
          ],
          "parcoords": [
           {
            "line": {
             "colorbar": {
              "outlinewidth": 0,
              "ticks": ""
             }
            },
            "type": "parcoords"
           }
          ],
          "pie": [
           {
            "automargin": true,
            "type": "pie"
           }
          ],
          "scatter": [
           {
            "fillpattern": {
             "fillmode": "overlay",
             "size": 10,
             "solidity": 0.2
            },
            "type": "scatter"
           }
          ],
          "scatter3d": [
           {
            "line": {
             "colorbar": {
              "outlinewidth": 0,
              "ticks": ""
             }
            },
            "marker": {
             "colorbar": {
              "outlinewidth": 0,
              "ticks": ""
             }
            },
            "type": "scatter3d"
           }
          ],
          "scattercarpet": [
           {
            "marker": {
             "colorbar": {
              "outlinewidth": 0,
              "ticks": ""
             }
            },
            "type": "scattercarpet"
           }
          ],
          "scattergeo": [
           {
            "marker": {
             "colorbar": {
              "outlinewidth": 0,
              "ticks": ""
             }
            },
            "type": "scattergeo"
           }
          ],
          "scattergl": [
           {
            "marker": {
             "colorbar": {
              "outlinewidth": 0,
              "ticks": ""
             }
            },
            "type": "scattergl"
           }
          ],
          "scattermapbox": [
           {
            "marker": {
             "colorbar": {
              "outlinewidth": 0,
              "ticks": ""
             }
            },
            "type": "scattermapbox"
           }
          ],
          "scatterpolar": [
           {
            "marker": {
             "colorbar": {
              "outlinewidth": 0,
              "ticks": ""
             }
            },
            "type": "scatterpolar"
           }
          ],
          "scatterpolargl": [
           {
            "marker": {
             "colorbar": {
              "outlinewidth": 0,
              "ticks": ""
             }
            },
            "type": "scatterpolargl"
           }
          ],
          "scatterternary": [
           {
            "marker": {
             "colorbar": {
              "outlinewidth": 0,
              "ticks": ""
             }
            },
            "type": "scatterternary"
           }
          ],
          "surface": [
           {
            "colorbar": {
             "outlinewidth": 0,
             "ticks": ""
            },
            "colorscale": [
             [
              0,
              "#0d0887"
             ],
             [
              0.1111111111111111,
              "#46039f"
             ],
             [
              0.2222222222222222,
              "#7201a8"
             ],
             [
              0.3333333333333333,
              "#9c179e"
             ],
             [
              0.4444444444444444,
              "#bd3786"
             ],
             [
              0.5555555555555556,
              "#d8576b"
             ],
             [
              0.6666666666666666,
              "#ed7953"
             ],
             [
              0.7777777777777778,
              "#fb9f3a"
             ],
             [
              0.8888888888888888,
              "#fdca26"
             ],
             [
              1,
              "#f0f921"
             ]
            ],
            "type": "surface"
           }
          ],
          "table": [
           {
            "cells": {
             "fill": {
              "color": "#EBF0F8"
             },
             "line": {
              "color": "white"
             }
            },
            "header": {
             "fill": {
              "color": "#C8D4E3"
             },
             "line": {
              "color": "white"
             }
            },
            "type": "table"
           }
          ]
         },
         "layout": {
          "annotationdefaults": {
           "arrowcolor": "#2a3f5f",
           "arrowhead": 0,
           "arrowwidth": 1
          },
          "autotypenumbers": "strict",
          "coloraxis": {
           "colorbar": {
            "outlinewidth": 0,
            "ticks": ""
           }
          },
          "colorscale": {
           "diverging": [
            [
             0,
             "#8e0152"
            ],
            [
             0.1,
             "#c51b7d"
            ],
            [
             0.2,
             "#de77ae"
            ],
            [
             0.3,
             "#f1b6da"
            ],
            [
             0.4,
             "#fde0ef"
            ],
            [
             0.5,
             "#f7f7f7"
            ],
            [
             0.6,
             "#e6f5d0"
            ],
            [
             0.7,
             "#b8e186"
            ],
            [
             0.8,
             "#7fbc41"
            ],
            [
             0.9,
             "#4d9221"
            ],
            [
             1,
             "#276419"
            ]
           ],
           "sequential": [
            [
             0,
             "#0d0887"
            ],
            [
             0.1111111111111111,
             "#46039f"
            ],
            [
             0.2222222222222222,
             "#7201a8"
            ],
            [
             0.3333333333333333,
             "#9c179e"
            ],
            [
             0.4444444444444444,
             "#bd3786"
            ],
            [
             0.5555555555555556,
             "#d8576b"
            ],
            [
             0.6666666666666666,
             "#ed7953"
            ],
            [
             0.7777777777777778,
             "#fb9f3a"
            ],
            [
             0.8888888888888888,
             "#fdca26"
            ],
            [
             1,
             "#f0f921"
            ]
           ],
           "sequentialminus": [
            [
             0,
             "#0d0887"
            ],
            [
             0.1111111111111111,
             "#46039f"
            ],
            [
             0.2222222222222222,
             "#7201a8"
            ],
            [
             0.3333333333333333,
             "#9c179e"
            ],
            [
             0.4444444444444444,
             "#bd3786"
            ],
            [
             0.5555555555555556,
             "#d8576b"
            ],
            [
             0.6666666666666666,
             "#ed7953"
            ],
            [
             0.7777777777777778,
             "#fb9f3a"
            ],
            [
             0.8888888888888888,
             "#fdca26"
            ],
            [
             1,
             "#f0f921"
            ]
           ]
          },
          "colorway": [
           "#636efa",
           "#EF553B",
           "#00cc96",
           "#ab63fa",
           "#FFA15A",
           "#19d3f3",
           "#FF6692",
           "#B6E880",
           "#FF97FF",
           "#FECB52"
          ],
          "font": {
           "color": "#2a3f5f"
          },
          "geo": {
           "bgcolor": "white",
           "lakecolor": "white",
           "landcolor": "#E5ECF6",
           "showlakes": true,
           "showland": true,
           "subunitcolor": "white"
          },
          "hoverlabel": {
           "align": "left"
          },
          "hovermode": "closest",
          "mapbox": {
           "style": "light"
          },
          "paper_bgcolor": "white",
          "plot_bgcolor": "#E5ECF6",
          "polar": {
           "angularaxis": {
            "gridcolor": "white",
            "linecolor": "white",
            "ticks": ""
           },
           "bgcolor": "#E5ECF6",
           "radialaxis": {
            "gridcolor": "white",
            "linecolor": "white",
            "ticks": ""
           }
          },
          "scene": {
           "xaxis": {
            "backgroundcolor": "#E5ECF6",
            "gridcolor": "white",
            "gridwidth": 2,
            "linecolor": "white",
            "showbackground": true,
            "ticks": "",
            "zerolinecolor": "white"
           },
           "yaxis": {
            "backgroundcolor": "#E5ECF6",
            "gridcolor": "white",
            "gridwidth": 2,
            "linecolor": "white",
            "showbackground": true,
            "ticks": "",
            "zerolinecolor": "white"
           },
           "zaxis": {
            "backgroundcolor": "#E5ECF6",
            "gridcolor": "white",
            "gridwidth": 2,
            "linecolor": "white",
            "showbackground": true,
            "ticks": "",
            "zerolinecolor": "white"
           }
          },
          "shapedefaults": {
           "line": {
            "color": "#2a3f5f"
           }
          },
          "ternary": {
           "aaxis": {
            "gridcolor": "white",
            "linecolor": "white",
            "ticks": ""
           },
           "baxis": {
            "gridcolor": "white",
            "linecolor": "white",
            "ticks": ""
           },
           "bgcolor": "#E5ECF6",
           "caxis": {
            "gridcolor": "white",
            "linecolor": "white",
            "ticks": ""
           }
          },
          "title": {
           "x": 0.05
          },
          "xaxis": {
           "automargin": true,
           "gridcolor": "white",
           "linecolor": "white",
           "ticks": "",
           "title": {
            "standoff": 15
           },
           "zerolinecolor": "white",
           "zerolinewidth": 2
          },
          "yaxis": {
           "automargin": true,
           "gridcolor": "white",
           "linecolor": "white",
           "ticks": "",
           "title": {
            "standoff": 15
           },
           "zerolinecolor": "white",
           "zerolinewidth": 2
          }
         }
        },
        "xaxis": {
         "anchor": "y",
         "domain": [
          0,
          1
         ],
         "title": {
          "text": "value"
         }
        },
        "yaxis": {
         "anchor": "x",
         "domain": [
          0,
          1
         ],
         "title": {
          "text": "index"
         }
        }
       }
      }
     },
     "metadata": {},
     "output_type": "display_data"
    }
   ],
   "source": [
    "plty.scatter(X_lp3_df, x = [\"Fx_lp3\", \"Fy_lp3\", \"Fz_lp3\", \"Tx_lp3\", \"Ty_lp3\", \"Tz_lp3\"],   color_discrete_map= dic)"
   ]
  },
  {
   "cell_type": "code",
   "execution_count": 25,
   "metadata": {},
   "outputs": [
    {
     "data": {
      "application/vnd.plotly.v1+json": {
       "config": {
        "plotlyServerURL": "https://plot.ly"
       },
       "data": [
        {
         "hovertemplate": "value=%{x}<br>index=%{y}<br>Y_lp3=%{marker.color}<extra></extra>",
         "legendgroup": "",
         "marker": {
          "color": [
           0,
           0,
           0,
           0,
           0,
           0,
           0,
           0,
           0,
           0,
           0,
           0,
           0,
           0,
           0,
           0,
           0,
           0,
           0,
           0,
           2,
           2,
           1,
           2,
           1,
           1,
           1,
           1,
           1,
           2,
           1,
           2,
           2,
           2,
           2,
           3,
           2,
           2,
           2,
           2,
           2,
           3,
           2,
           3,
           1,
           1,
           2,
           0,
           0,
           0,
           0,
           0,
           0,
           0,
           0,
           0,
           0,
           0,
           0,
           0,
           0,
           0,
           0,
           0,
           0,
           0,
           0,
           2,
           2,
           1,
           2,
           1,
           1,
           1,
           1,
           1,
           2,
           1,
           2,
           2,
           2,
           2,
           3,
           2,
           2,
           2,
           2,
           2,
           3,
           2,
           3,
           1,
           1,
           2,
           0,
           0,
           0,
           0,
           0,
           0,
           0,
           0,
           0,
           0,
           0,
           0,
           0,
           0,
           0,
           0,
           0,
           0,
           0,
           0,
           2,
           2,
           1,
           2,
           1,
           1,
           1,
           1,
           1,
           2,
           1,
           2,
           2,
           2,
           2,
           3,
           2,
           2,
           2,
           2,
           2,
           3,
           2,
           3,
           1,
           1,
           2,
           0,
           0,
           0,
           0,
           0,
           0,
           0,
           0,
           0,
           0,
           0,
           0,
           0,
           0,
           0,
           0,
           0,
           0,
           0,
           0,
           2,
           2,
           1,
           2,
           1,
           1,
           1,
           1,
           1,
           2,
           1,
           2,
           2,
           2,
           2,
           3,
           2,
           2,
           2,
           2,
           2,
           3,
           2,
           3,
           1,
           1,
           2,
           0,
           0,
           0,
           0,
           0,
           0,
           0,
           0,
           0,
           0,
           0,
           0,
           0,
           0,
           0,
           0,
           0,
           0,
           0,
           0,
           2,
           2,
           1,
           2,
           1,
           1,
           1,
           1,
           1,
           2,
           1,
           2,
           2,
           2,
           2,
           3,
           2,
           2,
           2,
           2,
           2,
           3,
           2,
           3,
           1,
           1,
           2,
           0,
           0,
           0,
           0,
           0,
           0,
           0,
           0,
           0,
           0,
           0,
           0,
           0,
           0,
           0,
           0,
           0,
           0,
           0,
           0,
           2,
           2,
           1,
           2,
           1,
           1,
           1,
           1,
           1,
           2,
           1,
           2,
           2,
           2,
           2,
           3,
           2,
           2,
           2,
           2,
           2,
           3,
           2,
           3,
           1,
           1,
           2
          ],
          "coloraxis": "coloraxis",
          "symbol": "circle"
         },
         "mode": "markers",
         "name": "",
         "orientation": "h",
         "showlegend": false,
         "type": "scatter",
         "x": [
          0.4074309978768578,
          0.4174097664543524,
          0.4044585987261147,
          0.4065817409766455,
          0.4078556263269639,
          0.4063694267515924,
          0.4048832271762209,
          0.4055201698513801,
          0.4038216560509554,
          0.4016985138004247,
          0.40912951167728234,
          0.4089171974522293,
          0.4036093418259023,
          0.4078556263269639,
          0.4042462845010616,
          0.4059447983014863,
          0.40594479830148616,
          0.4033970276008493,
          0.4031847133757962,
          0.40509554140127396,
          0.49108280254777076,
          0.4490445859872611,
          0.45159235668789816,
          0.38683651804670915,
          0.38938428874734604,
          0.413588110403397,
          0.41528662420382173,
          0.4010615711252654,
          0.4065817409766454,
          0.39150743099787694,
          0.3983014861995754,
          0.4197452229299363,
          0.4197452229299363,
          0.46687898089171964,
          0.46687898089171964,
          0.373036093418259,
          0.4038216560509554,
          0.40976645435244163,
          0.39150743099787694,
          0.383864118895966,
          0.5089171974522293,
          0.4346072186836517,
          0.4046709129511677,
          0.40658174097664534,
          0.39978768577494694,
          0.39978768577494694,
          0.36560509554140125,
          0.44407894736842113,
          0.4403508771929825,
          0.44254385964912285,
          0.43618421052631573,
          0.43793859649122807,
          0.43662280701754397,
          0.4385964912280702,
          0.43815789473684214,
          0.43750000000000006,
          0.4379385964912281,
          0.44605263157894737,
          0.43881578947368427,
          0.44495614035087716,
          0.43859649122807026,
          0.4390350877192982,
          0.43706140350877193,
          0.43596491228070183,
          0.43793859649122807,
          0.4421052631578947,
          0.44057017543859645,
          0.443859649122807,
          0.4581140350877193,
          0.40679824561403516,
          0.48815789473684207,
          0.48486842105263156,
          0.4337719298245614,
          0.42127192982456135,
          0.4399122807017544,
          0.443421052631579,
          0.43486842105263157,
          0.443421052631579,
          0.4469298245614034,
          0.4469298245614034,
          0.38859649122807016,
          0.3885964912280702,
          0.42807017543859643,
          0.43793859649122807,
          0.44649122807017544,
          0.437938596491228,
          0.43706140350877193,
          0.47872807017543867,
          0.4701754385964913,
          0.43881578947368427,
          0.48026315789473684,
          0.4304824561403508,
          0.4304824561403508,
          0.4429824561403509,
          0.19810066476733146,
          0.19753086419753085,
          0.19525166191832855,
          0.2020892687559354,
          0.19544159544159542,
          0.1956315289648623,
          0.19677113010446348,
          0.19468186134852802,
          0.19715099715099713,
          0.1998100664767331,
          0.19924026590693253,
          0.2001899335232669,
          0.1943019943019943,
          0.19886039886039886,
          0.19468186134852802,
          0.19506172839506172,
          0.19620132953466285,
          0.19715099715099715,
          0.19715099715099713,
          0.19715099715099715,
          0.21785375118708453,
          0.2617283950617284,
          0.20645773979107312,
          0.21671415004748334,
          0.19943019943019943,
          0.20455840455840452,
          0.20037986704653374,
          0.20341880341880342,
          0.20759734093067425,
          0.2024691358024691,
          0.209306742640076,
          0.20987654320987656,
          0.20987654320987656,
          0.2022792022792023,
          0.20227920227920226,
          0.17094017094017094,
          0.21139601139601139,
          0.21006647673314338,
          0.21063627730294396,
          0.22545109211775874,
          0.22355175688509019,
          0.16904083570750233,
          0.20512820512820512,
          0.1872744539411206,
          0.2043684710351377,
          0.2043684710351377,
          0.19145299145299147,
          0.5014218009478673,
          0.5018167456556083,
          0.49984202211690365,
          0.4996050552922591,
          0.49565560821485,
          0.49383886255924175,
          0.4888625592417062,
          0.4846761453396525,
          0.481437598736177,
          0.4803317535545023,
          0.4742496050552923,
          0.5044233807266983,
          0.4976303317535545,
          0.4985781990521327,
          0.49573459715639806,
          0.49360189573459723,
          0.48988941548183257,
          0.4830173775671406,
          0.4794628751974724,
          0.4778830963665086,
          0.48278041074249606,
          0.4567930489731438,
          0.5201421800947866,
          0.4486571879936809,
          0.47203791469194323,
          0.4883886255924171,
          0.49770932069510276,
          0.4826224328593997,
          0.4760663507109004,
          0.49691943127962096,
          0.4858609794628752,
          0.48428120063191155,
          0.48428120063191155,
          0.5248025276461294,
          0.5248025276461294,
          0.5035545023696683,
          0.4834913112164298,
          0.4707740916271722,
          0.4893364928909953,
          0.4962085308056872,
          0.49636650868878357,
          0.4715639810426541,
          0.5003949447077409,
          0.48491311216429694,
          0.5102685624012637,
          0.5102685624012637,
          0.4924170616113744,
          0.2703774792066539,
          0.272296865003199,
          0.2648112603966731,
          0.26199616122840685,
          0.2602687140115163,
          0.25655790147152907,
          0.2542546385156749,
          0.2527831094049904,
          0.25175943698016634,
          0.2507997440818938,
          0.25406269993602043,
          0.2693538067818298,
          0.26353166986564297,
          0.2612923864363404,
          0.2579654510556622,
          0.2575815738963531,
          0.2547024952015355,
          0.25246321177223285,
          0.2523352527191298,
          0.2527831094049903,
          0.2963531669865643,
          0.317274472168906,
          0.2829174664107485,
          0.2461932181701855,
          0.2564939219449776,
          0.26231605886116444,
          0.2596928982725527,
          0.254510556621881,
          0.255662188099808,
          0.25579014715291104,
          0.2530390275111964,
          0.2696097248880358,
          0.26960972488803586,
          0.3068458093410109,
          0.3068458093410109,
          0.23787587971849006,
          0.2550863723608445,
          0.2541906589891235,
          0.24574536148432502,
          0.24670505438259754,
          0.3004478566858605,
          0.25259117082533594,
          0.27357645553422905,
          0.2792066538707613,
          0.26596289187460015,
          0.26596289187460015,
          0.24484964811260396,
          0.5764150943396227,
          0.5742138364779874,
          0.5679245283018868,
          0.5477987421383648,
          0.5468553459119497,
          0.5437106918238995,
          0.5367924528301885,
          0.5261006289308177,
          0.5298742138364779,
          0.5242138364779875,
          0.5355345911949686,
          0.580817610062893,
          0.5622641509433962,
          0.5500000000000002,
          0.5477987421383648,
          0.5459119496855346,
          0.529245283018868,
          0.530188679245283,
          0.5251572327044025,
          0.5333333333333334,
          0.5352201257861634,
          0.5270440251572327,
          0.5660377358490566,
          0.5465408805031446,
          0.5559748427672956,
          0.528616352201258,
          0.5261006289308178,
          0.5349056603773585,
          0.5292452830188679,
          0.5411949685534592,
          0.5393081761006289,
          0.5396226415094341,
          0.5396226415094341,
          0.5625786163522014,
          0.5625786163522013,
          0.5512578616352202,
          0.5339622641509435,
          0.5383647798742139,
          0.5342767295597484,
          0.5160377358490567,
          0.5358490566037736,
          0.4968553459119497,
          0.5499999999999999,
          0.5512578616352202,
          0.5666666666666667,
          0.5666666666666667,
          0.5792452830188679
         ],
         "xaxis": "x",
         "y": [
          0,
          1,
          2,
          3,
          4,
          5,
          6,
          7,
          8,
          9,
          10,
          11,
          12,
          13,
          14,
          15,
          16,
          17,
          18,
          19,
          20,
          21,
          22,
          23,
          24,
          25,
          26,
          27,
          28,
          29,
          30,
          31,
          32,
          33,
          34,
          35,
          36,
          37,
          38,
          39,
          40,
          41,
          42,
          43,
          44,
          45,
          46,
          0,
          1,
          2,
          3,
          4,
          5,
          6,
          7,
          8,
          9,
          10,
          11,
          12,
          13,
          14,
          15,
          16,
          17,
          18,
          19,
          20,
          21,
          22,
          23,
          24,
          25,
          26,
          27,
          28,
          29,
          30,
          31,
          32,
          33,
          34,
          35,
          36,
          37,
          38,
          39,
          40,
          41,
          42,
          43,
          44,
          45,
          46,
          0,
          1,
          2,
          3,
          4,
          5,
          6,
          7,
          8,
          9,
          10,
          11,
          12,
          13,
          14,
          15,
          16,
          17,
          18,
          19,
          20,
          21,
          22,
          23,
          24,
          25,
          26,
          27,
          28,
          29,
          30,
          31,
          32,
          33,
          34,
          35,
          36,
          37,
          38,
          39,
          40,
          41,
          42,
          43,
          44,
          45,
          46,
          0,
          1,
          2,
          3,
          4,
          5,
          6,
          7,
          8,
          9,
          10,
          11,
          12,
          13,
          14,
          15,
          16,
          17,
          18,
          19,
          20,
          21,
          22,
          23,
          24,
          25,
          26,
          27,
          28,
          29,
          30,
          31,
          32,
          33,
          34,
          35,
          36,
          37,
          38,
          39,
          40,
          41,
          42,
          43,
          44,
          45,
          46,
          0,
          1,
          2,
          3,
          4,
          5,
          6,
          7,
          8,
          9,
          10,
          11,
          12,
          13,
          14,
          15,
          16,
          17,
          18,
          19,
          20,
          21,
          22,
          23,
          24,
          25,
          26,
          27,
          28,
          29,
          30,
          31,
          32,
          33,
          34,
          35,
          36,
          37,
          38,
          39,
          40,
          41,
          42,
          43,
          44,
          45,
          46,
          0,
          1,
          2,
          3,
          4,
          5,
          6,
          7,
          8,
          9,
          10,
          11,
          12,
          13,
          14,
          15,
          16,
          17,
          18,
          19,
          20,
          21,
          22,
          23,
          24,
          25,
          26,
          27,
          28,
          29,
          30,
          31,
          32,
          33,
          34,
          35,
          36,
          37,
          38,
          39,
          40,
          41,
          42,
          43,
          44,
          45,
          46
         ],
         "yaxis": "y"
        }
       ],
       "layout": {
        "coloraxis": {
         "colorbar": {
          "title": {
           "text": "Y_lp3"
          }
         },
         "colorscale": [
          [
           0,
           "#0d0887"
          ],
          [
           0.1111111111111111,
           "#46039f"
          ],
          [
           0.2222222222222222,
           "#7201a8"
          ],
          [
           0.3333333333333333,
           "#9c179e"
          ],
          [
           0.4444444444444444,
           "#bd3786"
          ],
          [
           0.5555555555555556,
           "#d8576b"
          ],
          [
           0.6666666666666666,
           "#ed7953"
          ],
          [
           0.7777777777777778,
           "#fb9f3a"
          ],
          [
           0.8888888888888888,
           "#fdca26"
          ],
          [
           1,
           "#f0f921"
          ]
         ]
        },
        "legend": {
         "tracegroupgap": 0
        },
        "margin": {
         "t": 60
        },
        "template": {
         "data": {
          "bar": [
           {
            "error_x": {
             "color": "#2a3f5f"
            },
            "error_y": {
             "color": "#2a3f5f"
            },
            "marker": {
             "line": {
              "color": "#E5ECF6",
              "width": 0.5
             },
             "pattern": {
              "fillmode": "overlay",
              "size": 10,
              "solidity": 0.2
             }
            },
            "type": "bar"
           }
          ],
          "barpolar": [
           {
            "marker": {
             "line": {
              "color": "#E5ECF6",
              "width": 0.5
             },
             "pattern": {
              "fillmode": "overlay",
              "size": 10,
              "solidity": 0.2
             }
            },
            "type": "barpolar"
           }
          ],
          "carpet": [
           {
            "aaxis": {
             "endlinecolor": "#2a3f5f",
             "gridcolor": "white",
             "linecolor": "white",
             "minorgridcolor": "white",
             "startlinecolor": "#2a3f5f"
            },
            "baxis": {
             "endlinecolor": "#2a3f5f",
             "gridcolor": "white",
             "linecolor": "white",
             "minorgridcolor": "white",
             "startlinecolor": "#2a3f5f"
            },
            "type": "carpet"
           }
          ],
          "choropleth": [
           {
            "colorbar": {
             "outlinewidth": 0,
             "ticks": ""
            },
            "type": "choropleth"
           }
          ],
          "contour": [
           {
            "colorbar": {
             "outlinewidth": 0,
             "ticks": ""
            },
            "colorscale": [
             [
              0,
              "#0d0887"
             ],
             [
              0.1111111111111111,
              "#46039f"
             ],
             [
              0.2222222222222222,
              "#7201a8"
             ],
             [
              0.3333333333333333,
              "#9c179e"
             ],
             [
              0.4444444444444444,
              "#bd3786"
             ],
             [
              0.5555555555555556,
              "#d8576b"
             ],
             [
              0.6666666666666666,
              "#ed7953"
             ],
             [
              0.7777777777777778,
              "#fb9f3a"
             ],
             [
              0.8888888888888888,
              "#fdca26"
             ],
             [
              1,
              "#f0f921"
             ]
            ],
            "type": "contour"
           }
          ],
          "contourcarpet": [
           {
            "colorbar": {
             "outlinewidth": 0,
             "ticks": ""
            },
            "type": "contourcarpet"
           }
          ],
          "heatmap": [
           {
            "colorbar": {
             "outlinewidth": 0,
             "ticks": ""
            },
            "colorscale": [
             [
              0,
              "#0d0887"
             ],
             [
              0.1111111111111111,
              "#46039f"
             ],
             [
              0.2222222222222222,
              "#7201a8"
             ],
             [
              0.3333333333333333,
              "#9c179e"
             ],
             [
              0.4444444444444444,
              "#bd3786"
             ],
             [
              0.5555555555555556,
              "#d8576b"
             ],
             [
              0.6666666666666666,
              "#ed7953"
             ],
             [
              0.7777777777777778,
              "#fb9f3a"
             ],
             [
              0.8888888888888888,
              "#fdca26"
             ],
             [
              1,
              "#f0f921"
             ]
            ],
            "type": "heatmap"
           }
          ],
          "heatmapgl": [
           {
            "colorbar": {
             "outlinewidth": 0,
             "ticks": ""
            },
            "colorscale": [
             [
              0,
              "#0d0887"
             ],
             [
              0.1111111111111111,
              "#46039f"
             ],
             [
              0.2222222222222222,
              "#7201a8"
             ],
             [
              0.3333333333333333,
              "#9c179e"
             ],
             [
              0.4444444444444444,
              "#bd3786"
             ],
             [
              0.5555555555555556,
              "#d8576b"
             ],
             [
              0.6666666666666666,
              "#ed7953"
             ],
             [
              0.7777777777777778,
              "#fb9f3a"
             ],
             [
              0.8888888888888888,
              "#fdca26"
             ],
             [
              1,
              "#f0f921"
             ]
            ],
            "type": "heatmapgl"
           }
          ],
          "histogram": [
           {
            "marker": {
             "pattern": {
              "fillmode": "overlay",
              "size": 10,
              "solidity": 0.2
             }
            },
            "type": "histogram"
           }
          ],
          "histogram2d": [
           {
            "colorbar": {
             "outlinewidth": 0,
             "ticks": ""
            },
            "colorscale": [
             [
              0,
              "#0d0887"
             ],
             [
              0.1111111111111111,
              "#46039f"
             ],
             [
              0.2222222222222222,
              "#7201a8"
             ],
             [
              0.3333333333333333,
              "#9c179e"
             ],
             [
              0.4444444444444444,
              "#bd3786"
             ],
             [
              0.5555555555555556,
              "#d8576b"
             ],
             [
              0.6666666666666666,
              "#ed7953"
             ],
             [
              0.7777777777777778,
              "#fb9f3a"
             ],
             [
              0.8888888888888888,
              "#fdca26"
             ],
             [
              1,
              "#f0f921"
             ]
            ],
            "type": "histogram2d"
           }
          ],
          "histogram2dcontour": [
           {
            "colorbar": {
             "outlinewidth": 0,
             "ticks": ""
            },
            "colorscale": [
             [
              0,
              "#0d0887"
             ],
             [
              0.1111111111111111,
              "#46039f"
             ],
             [
              0.2222222222222222,
              "#7201a8"
             ],
             [
              0.3333333333333333,
              "#9c179e"
             ],
             [
              0.4444444444444444,
              "#bd3786"
             ],
             [
              0.5555555555555556,
              "#d8576b"
             ],
             [
              0.6666666666666666,
              "#ed7953"
             ],
             [
              0.7777777777777778,
              "#fb9f3a"
             ],
             [
              0.8888888888888888,
              "#fdca26"
             ],
             [
              1,
              "#f0f921"
             ]
            ],
            "type": "histogram2dcontour"
           }
          ],
          "mesh3d": [
           {
            "colorbar": {
             "outlinewidth": 0,
             "ticks": ""
            },
            "type": "mesh3d"
           }
          ],
          "parcoords": [
           {
            "line": {
             "colorbar": {
              "outlinewidth": 0,
              "ticks": ""
             }
            },
            "type": "parcoords"
           }
          ],
          "pie": [
           {
            "automargin": true,
            "type": "pie"
           }
          ],
          "scatter": [
           {
            "fillpattern": {
             "fillmode": "overlay",
             "size": 10,
             "solidity": 0.2
            },
            "type": "scatter"
           }
          ],
          "scatter3d": [
           {
            "line": {
             "colorbar": {
              "outlinewidth": 0,
              "ticks": ""
             }
            },
            "marker": {
             "colorbar": {
              "outlinewidth": 0,
              "ticks": ""
             }
            },
            "type": "scatter3d"
           }
          ],
          "scattercarpet": [
           {
            "marker": {
             "colorbar": {
              "outlinewidth": 0,
              "ticks": ""
             }
            },
            "type": "scattercarpet"
           }
          ],
          "scattergeo": [
           {
            "marker": {
             "colorbar": {
              "outlinewidth": 0,
              "ticks": ""
             }
            },
            "type": "scattergeo"
           }
          ],
          "scattergl": [
           {
            "marker": {
             "colorbar": {
              "outlinewidth": 0,
              "ticks": ""
             }
            },
            "type": "scattergl"
           }
          ],
          "scattermapbox": [
           {
            "marker": {
             "colorbar": {
              "outlinewidth": 0,
              "ticks": ""
             }
            },
            "type": "scattermapbox"
           }
          ],
          "scatterpolar": [
           {
            "marker": {
             "colorbar": {
              "outlinewidth": 0,
              "ticks": ""
             }
            },
            "type": "scatterpolar"
           }
          ],
          "scatterpolargl": [
           {
            "marker": {
             "colorbar": {
              "outlinewidth": 0,
              "ticks": ""
             }
            },
            "type": "scatterpolargl"
           }
          ],
          "scatterternary": [
           {
            "marker": {
             "colorbar": {
              "outlinewidth": 0,
              "ticks": ""
             }
            },
            "type": "scatterternary"
           }
          ],
          "surface": [
           {
            "colorbar": {
             "outlinewidth": 0,
             "ticks": ""
            },
            "colorscale": [
             [
              0,
              "#0d0887"
             ],
             [
              0.1111111111111111,
              "#46039f"
             ],
             [
              0.2222222222222222,
              "#7201a8"
             ],
             [
              0.3333333333333333,
              "#9c179e"
             ],
             [
              0.4444444444444444,
              "#bd3786"
             ],
             [
              0.5555555555555556,
              "#d8576b"
             ],
             [
              0.6666666666666666,
              "#ed7953"
             ],
             [
              0.7777777777777778,
              "#fb9f3a"
             ],
             [
              0.8888888888888888,
              "#fdca26"
             ],
             [
              1,
              "#f0f921"
             ]
            ],
            "type": "surface"
           }
          ],
          "table": [
           {
            "cells": {
             "fill": {
              "color": "#EBF0F8"
             },
             "line": {
              "color": "white"
             }
            },
            "header": {
             "fill": {
              "color": "#C8D4E3"
             },
             "line": {
              "color": "white"
             }
            },
            "type": "table"
           }
          ]
         },
         "layout": {
          "annotationdefaults": {
           "arrowcolor": "#2a3f5f",
           "arrowhead": 0,
           "arrowwidth": 1
          },
          "autotypenumbers": "strict",
          "coloraxis": {
           "colorbar": {
            "outlinewidth": 0,
            "ticks": ""
           }
          },
          "colorscale": {
           "diverging": [
            [
             0,
             "#8e0152"
            ],
            [
             0.1,
             "#c51b7d"
            ],
            [
             0.2,
             "#de77ae"
            ],
            [
             0.3,
             "#f1b6da"
            ],
            [
             0.4,
             "#fde0ef"
            ],
            [
             0.5,
             "#f7f7f7"
            ],
            [
             0.6,
             "#e6f5d0"
            ],
            [
             0.7,
             "#b8e186"
            ],
            [
             0.8,
             "#7fbc41"
            ],
            [
             0.9,
             "#4d9221"
            ],
            [
             1,
             "#276419"
            ]
           ],
           "sequential": [
            [
             0,
             "#0d0887"
            ],
            [
             0.1111111111111111,
             "#46039f"
            ],
            [
             0.2222222222222222,
             "#7201a8"
            ],
            [
             0.3333333333333333,
             "#9c179e"
            ],
            [
             0.4444444444444444,
             "#bd3786"
            ],
            [
             0.5555555555555556,
             "#d8576b"
            ],
            [
             0.6666666666666666,
             "#ed7953"
            ],
            [
             0.7777777777777778,
             "#fb9f3a"
            ],
            [
             0.8888888888888888,
             "#fdca26"
            ],
            [
             1,
             "#f0f921"
            ]
           ],
           "sequentialminus": [
            [
             0,
             "#0d0887"
            ],
            [
             0.1111111111111111,
             "#46039f"
            ],
            [
             0.2222222222222222,
             "#7201a8"
            ],
            [
             0.3333333333333333,
             "#9c179e"
            ],
            [
             0.4444444444444444,
             "#bd3786"
            ],
            [
             0.5555555555555556,
             "#d8576b"
            ],
            [
             0.6666666666666666,
             "#ed7953"
            ],
            [
             0.7777777777777778,
             "#fb9f3a"
            ],
            [
             0.8888888888888888,
             "#fdca26"
            ],
            [
             1,
             "#f0f921"
            ]
           ]
          },
          "colorway": [
           "#636efa",
           "#EF553B",
           "#00cc96",
           "#ab63fa",
           "#FFA15A",
           "#19d3f3",
           "#FF6692",
           "#B6E880",
           "#FF97FF",
           "#FECB52"
          ],
          "font": {
           "color": "#2a3f5f"
          },
          "geo": {
           "bgcolor": "white",
           "lakecolor": "white",
           "landcolor": "#E5ECF6",
           "showlakes": true,
           "showland": true,
           "subunitcolor": "white"
          },
          "hoverlabel": {
           "align": "left"
          },
          "hovermode": "closest",
          "mapbox": {
           "style": "light"
          },
          "paper_bgcolor": "white",
          "plot_bgcolor": "#E5ECF6",
          "polar": {
           "angularaxis": {
            "gridcolor": "white",
            "linecolor": "white",
            "ticks": ""
           },
           "bgcolor": "#E5ECF6",
           "radialaxis": {
            "gridcolor": "white",
            "linecolor": "white",
            "ticks": ""
           }
          },
          "scene": {
           "xaxis": {
            "backgroundcolor": "#E5ECF6",
            "gridcolor": "white",
            "gridwidth": 2,
            "linecolor": "white",
            "showbackground": true,
            "ticks": "",
            "zerolinecolor": "white"
           },
           "yaxis": {
            "backgroundcolor": "#E5ECF6",
            "gridcolor": "white",
            "gridwidth": 2,
            "linecolor": "white",
            "showbackground": true,
            "ticks": "",
            "zerolinecolor": "white"
           },
           "zaxis": {
            "backgroundcolor": "#E5ECF6",
            "gridcolor": "white",
            "gridwidth": 2,
            "linecolor": "white",
            "showbackground": true,
            "ticks": "",
            "zerolinecolor": "white"
           }
          },
          "shapedefaults": {
           "line": {
            "color": "#2a3f5f"
           }
          },
          "ternary": {
           "aaxis": {
            "gridcolor": "white",
            "linecolor": "white",
            "ticks": ""
           },
           "baxis": {
            "gridcolor": "white",
            "linecolor": "white",
            "ticks": ""
           },
           "bgcolor": "#E5ECF6",
           "caxis": {
            "gridcolor": "white",
            "linecolor": "white",
            "ticks": ""
           }
          },
          "title": {
           "x": 0.05
          },
          "xaxis": {
           "automargin": true,
           "gridcolor": "white",
           "linecolor": "white",
           "ticks": "",
           "title": {
            "standoff": 15
           },
           "zerolinecolor": "white",
           "zerolinewidth": 2
          },
          "yaxis": {
           "automargin": true,
           "gridcolor": "white",
           "linecolor": "white",
           "ticks": "",
           "title": {
            "standoff": 15
           },
           "zerolinecolor": "white",
           "zerolinewidth": 2
          }
         }
        },
        "xaxis": {
         "anchor": "y",
         "domain": [
          0,
          1
         ],
         "title": {
          "text": "value"
         }
        },
        "yaxis": {
         "anchor": "x",
         "domain": [
          0,
          1
         ],
         "title": {
          "text": "index"
         }
        }
       }
      }
     },
     "metadata": {},
     "output_type": "display_data"
    }
   ],
   "source": [
    "plty.scatter(X_lp3_df, x = [\"Fx_lp3\", \"Fy_lp3\", \"Fz_lp3\", \"Tx_lp3\", \"Ty_lp3\", \"Tz_lp3\"],   color= \"Y_lp3\")"
   ]
  },
  {
   "attachments": {},
   "cell_type": "markdown",
   "metadata": {},
   "source": [
    "Boxplot"
   ]
  },
  {
   "cell_type": "code",
   "execution_count": 26,
   "metadata": {},
   "outputs": [
    {
     "data": {
      "application/vnd.plotly.v1+json": {
       "config": {
        "plotlyServerURL": "https://plot.ly"
       },
       "data": [
        {
         "alignmentgroup": "True",
         "hovertemplate": "value=%{x}<br>variable=%{y}<extra></extra>",
         "legendgroup": "",
         "marker": {
          "color": "#636efa"
         },
         "name": "",
         "notched": false,
         "offsetgroup": "",
         "orientation": "h",
         "showlegend": false,
         "type": "box",
         "x": [
          0.08179743788306847,
          0.08414031294439552,
          0.07950458672261128,
          0.08731340272457334,
          0.07981160765600386,
          0.07983925683609067,
          0.08087474020879157,
          0.07885566203244744,
          0.08147452014874516,
          0.08450160052893578,
          0.08690531903950365,
          0.08482875111482821,
          0.07836208010860175,
          0.08358148598263042,
          0.07927468085428618,
          0.07896449705032448,
          0.08065596713149369,
          0.08151034232982961,
          0.08163472574766845,
          0.08130454907513755,
          0.126,
          0.126,
          0.1259803634115901,
          0.12603133438405986,
          0.11425206064813544,
          0.09452013494576593,
          0.09226561952235851,
          0.09066503460204167,
          0.09620958269334946,
          0.09194879938116506,
          0.0989585125062555,
          0.10343534441501757,
          0.10343534441501757,
          0.126,
          0.126,
          0.07164049410356507,
          0.0985047335988926,
          0.0996421594819458,
          0.10275726659872308,
          0.12286518166273765,
          0.126,
          0.10906029214936887,
          0.09344417768800815,
          0.11247471255677761,
          0.0925062561135222,
          0.0925062561135222,
          0.10812745330777397,
          0.002955277301027452,
          0.015814161890648302,
          0.017118455043082615,
          0.019169717827381413,
          0.02140104515420131,
          0.024049630835349754,
          0.02774867660598769,
          0.032792008401309684,
          0.03447113742264939,
          0.036610897011878044,
          0.03854648792285851,
          0.011349339068626748,
          0.016120743331131823,
          0.02025020035182589,
          0.0242158946061628,
          0.022041585083251863,
          0.029527638607967834,
          0.03357746835959118,
          0.035995130224200526,
          0.03586075756256985,
          0.0713,
          0.0713,
          0.060629243395644135,
          0.0713361955466607,
          0.04979685116090409,
          0.035113768493063344,
          0.04275954517071217,
          0.038749220708561787,
          0.03778510531910685,
          0.026521204539917746,
          0.03926366373074116,
          0.040236432456458554,
          0.04023643245645855,
          0.0713,
          0.0713,
          0.05351055756544853,
          0.031743426252680285,
          0.045450814340611635,
          0.043597110007633014,
          0.04942718939996175,
          0.08796733203469352,
          0.07086751918272943,
          0.023401202955524163,
          0.061571185860391675,
          0.024043375387555292,
          0.024043375387555292,
          0.059594412088190336
         ],
         "x0": " ",
         "xaxis": "x",
         "y": [
          "F_lp3",
          "F_lp3",
          "F_lp3",
          "F_lp3",
          "F_lp3",
          "F_lp3",
          "F_lp3",
          "F_lp3",
          "F_lp3",
          "F_lp3",
          "F_lp3",
          "F_lp3",
          "F_lp3",
          "F_lp3",
          "F_lp3",
          "F_lp3",
          "F_lp3",
          "F_lp3",
          "F_lp3",
          "F_lp3",
          "F_lp3",
          "F_lp3",
          "F_lp3",
          "F_lp3",
          "F_lp3",
          "F_lp3",
          "F_lp3",
          "F_lp3",
          "F_lp3",
          "F_lp3",
          "F_lp3",
          "F_lp3",
          "F_lp3",
          "F_lp3",
          "F_lp3",
          "F_lp3",
          "F_lp3",
          "F_lp3",
          "F_lp3",
          "F_lp3",
          "F_lp3",
          "F_lp3",
          "F_lp3",
          "F_lp3",
          "F_lp3",
          "F_lp3",
          "F_lp3",
          "T_lp3",
          "T_lp3",
          "T_lp3",
          "T_lp3",
          "T_lp3",
          "T_lp3",
          "T_lp3",
          "T_lp3",
          "T_lp3",
          "T_lp3",
          "T_lp3",
          "T_lp3",
          "T_lp3",
          "T_lp3",
          "T_lp3",
          "T_lp3",
          "T_lp3",
          "T_lp3",
          "T_lp3",
          "T_lp3",
          "T_lp3",
          "T_lp3",
          "T_lp3",
          "T_lp3",
          "T_lp3",
          "T_lp3",
          "T_lp3",
          "T_lp3",
          "T_lp3",
          "T_lp3",
          "T_lp3",
          "T_lp3",
          "T_lp3",
          "T_lp3",
          "T_lp3",
          "T_lp3",
          "T_lp3",
          "T_lp3",
          "T_lp3",
          "T_lp3",
          "T_lp3",
          "T_lp3",
          "T_lp3",
          "T_lp3",
          "T_lp3",
          "T_lp3",
          "T_lp3"
         ],
         "y0": " ",
         "yaxis": "y"
        }
       ],
       "layout": {
        "boxmode": "group",
        "legend": {
         "tracegroupgap": 0
        },
        "margin": {
         "t": 60
        },
        "template": {
         "data": {
          "bar": [
           {
            "error_x": {
             "color": "#2a3f5f"
            },
            "error_y": {
             "color": "#2a3f5f"
            },
            "marker": {
             "line": {
              "color": "#E5ECF6",
              "width": 0.5
             },
             "pattern": {
              "fillmode": "overlay",
              "size": 10,
              "solidity": 0.2
             }
            },
            "type": "bar"
           }
          ],
          "barpolar": [
           {
            "marker": {
             "line": {
              "color": "#E5ECF6",
              "width": 0.5
             },
             "pattern": {
              "fillmode": "overlay",
              "size": 10,
              "solidity": 0.2
             }
            },
            "type": "barpolar"
           }
          ],
          "carpet": [
           {
            "aaxis": {
             "endlinecolor": "#2a3f5f",
             "gridcolor": "white",
             "linecolor": "white",
             "minorgridcolor": "white",
             "startlinecolor": "#2a3f5f"
            },
            "baxis": {
             "endlinecolor": "#2a3f5f",
             "gridcolor": "white",
             "linecolor": "white",
             "minorgridcolor": "white",
             "startlinecolor": "#2a3f5f"
            },
            "type": "carpet"
           }
          ],
          "choropleth": [
           {
            "colorbar": {
             "outlinewidth": 0,
             "ticks": ""
            },
            "type": "choropleth"
           }
          ],
          "contour": [
           {
            "colorbar": {
             "outlinewidth": 0,
             "ticks": ""
            },
            "colorscale": [
             [
              0,
              "#0d0887"
             ],
             [
              0.1111111111111111,
              "#46039f"
             ],
             [
              0.2222222222222222,
              "#7201a8"
             ],
             [
              0.3333333333333333,
              "#9c179e"
             ],
             [
              0.4444444444444444,
              "#bd3786"
             ],
             [
              0.5555555555555556,
              "#d8576b"
             ],
             [
              0.6666666666666666,
              "#ed7953"
             ],
             [
              0.7777777777777778,
              "#fb9f3a"
             ],
             [
              0.8888888888888888,
              "#fdca26"
             ],
             [
              1,
              "#f0f921"
             ]
            ],
            "type": "contour"
           }
          ],
          "contourcarpet": [
           {
            "colorbar": {
             "outlinewidth": 0,
             "ticks": ""
            },
            "type": "contourcarpet"
           }
          ],
          "heatmap": [
           {
            "colorbar": {
             "outlinewidth": 0,
             "ticks": ""
            },
            "colorscale": [
             [
              0,
              "#0d0887"
             ],
             [
              0.1111111111111111,
              "#46039f"
             ],
             [
              0.2222222222222222,
              "#7201a8"
             ],
             [
              0.3333333333333333,
              "#9c179e"
             ],
             [
              0.4444444444444444,
              "#bd3786"
             ],
             [
              0.5555555555555556,
              "#d8576b"
             ],
             [
              0.6666666666666666,
              "#ed7953"
             ],
             [
              0.7777777777777778,
              "#fb9f3a"
             ],
             [
              0.8888888888888888,
              "#fdca26"
             ],
             [
              1,
              "#f0f921"
             ]
            ],
            "type": "heatmap"
           }
          ],
          "heatmapgl": [
           {
            "colorbar": {
             "outlinewidth": 0,
             "ticks": ""
            },
            "colorscale": [
             [
              0,
              "#0d0887"
             ],
             [
              0.1111111111111111,
              "#46039f"
             ],
             [
              0.2222222222222222,
              "#7201a8"
             ],
             [
              0.3333333333333333,
              "#9c179e"
             ],
             [
              0.4444444444444444,
              "#bd3786"
             ],
             [
              0.5555555555555556,
              "#d8576b"
             ],
             [
              0.6666666666666666,
              "#ed7953"
             ],
             [
              0.7777777777777778,
              "#fb9f3a"
             ],
             [
              0.8888888888888888,
              "#fdca26"
             ],
             [
              1,
              "#f0f921"
             ]
            ],
            "type": "heatmapgl"
           }
          ],
          "histogram": [
           {
            "marker": {
             "pattern": {
              "fillmode": "overlay",
              "size": 10,
              "solidity": 0.2
             }
            },
            "type": "histogram"
           }
          ],
          "histogram2d": [
           {
            "colorbar": {
             "outlinewidth": 0,
             "ticks": ""
            },
            "colorscale": [
             [
              0,
              "#0d0887"
             ],
             [
              0.1111111111111111,
              "#46039f"
             ],
             [
              0.2222222222222222,
              "#7201a8"
             ],
             [
              0.3333333333333333,
              "#9c179e"
             ],
             [
              0.4444444444444444,
              "#bd3786"
             ],
             [
              0.5555555555555556,
              "#d8576b"
             ],
             [
              0.6666666666666666,
              "#ed7953"
             ],
             [
              0.7777777777777778,
              "#fb9f3a"
             ],
             [
              0.8888888888888888,
              "#fdca26"
             ],
             [
              1,
              "#f0f921"
             ]
            ],
            "type": "histogram2d"
           }
          ],
          "histogram2dcontour": [
           {
            "colorbar": {
             "outlinewidth": 0,
             "ticks": ""
            },
            "colorscale": [
             [
              0,
              "#0d0887"
             ],
             [
              0.1111111111111111,
              "#46039f"
             ],
             [
              0.2222222222222222,
              "#7201a8"
             ],
             [
              0.3333333333333333,
              "#9c179e"
             ],
             [
              0.4444444444444444,
              "#bd3786"
             ],
             [
              0.5555555555555556,
              "#d8576b"
             ],
             [
              0.6666666666666666,
              "#ed7953"
             ],
             [
              0.7777777777777778,
              "#fb9f3a"
             ],
             [
              0.8888888888888888,
              "#fdca26"
             ],
             [
              1,
              "#f0f921"
             ]
            ],
            "type": "histogram2dcontour"
           }
          ],
          "mesh3d": [
           {
            "colorbar": {
             "outlinewidth": 0,
             "ticks": ""
            },
            "type": "mesh3d"
           }
          ],
          "parcoords": [
           {
            "line": {
             "colorbar": {
              "outlinewidth": 0,
              "ticks": ""
             }
            },
            "type": "parcoords"
           }
          ],
          "pie": [
           {
            "automargin": true,
            "type": "pie"
           }
          ],
          "scatter": [
           {
            "fillpattern": {
             "fillmode": "overlay",
             "size": 10,
             "solidity": 0.2
            },
            "type": "scatter"
           }
          ],
          "scatter3d": [
           {
            "line": {
             "colorbar": {
              "outlinewidth": 0,
              "ticks": ""
             }
            },
            "marker": {
             "colorbar": {
              "outlinewidth": 0,
              "ticks": ""
             }
            },
            "type": "scatter3d"
           }
          ],
          "scattercarpet": [
           {
            "marker": {
             "colorbar": {
              "outlinewidth": 0,
              "ticks": ""
             }
            },
            "type": "scattercarpet"
           }
          ],
          "scattergeo": [
           {
            "marker": {
             "colorbar": {
              "outlinewidth": 0,
              "ticks": ""
             }
            },
            "type": "scattergeo"
           }
          ],
          "scattergl": [
           {
            "marker": {
             "colorbar": {
              "outlinewidth": 0,
              "ticks": ""
             }
            },
            "type": "scattergl"
           }
          ],
          "scattermapbox": [
           {
            "marker": {
             "colorbar": {
              "outlinewidth": 0,
              "ticks": ""
             }
            },
            "type": "scattermapbox"
           }
          ],
          "scatterpolar": [
           {
            "marker": {
             "colorbar": {
              "outlinewidth": 0,
              "ticks": ""
             }
            },
            "type": "scatterpolar"
           }
          ],
          "scatterpolargl": [
           {
            "marker": {
             "colorbar": {
              "outlinewidth": 0,
              "ticks": ""
             }
            },
            "type": "scatterpolargl"
           }
          ],
          "scatterternary": [
           {
            "marker": {
             "colorbar": {
              "outlinewidth": 0,
              "ticks": ""
             }
            },
            "type": "scatterternary"
           }
          ],
          "surface": [
           {
            "colorbar": {
             "outlinewidth": 0,
             "ticks": ""
            },
            "colorscale": [
             [
              0,
              "#0d0887"
             ],
             [
              0.1111111111111111,
              "#46039f"
             ],
             [
              0.2222222222222222,
              "#7201a8"
             ],
             [
              0.3333333333333333,
              "#9c179e"
             ],
             [
              0.4444444444444444,
              "#bd3786"
             ],
             [
              0.5555555555555556,
              "#d8576b"
             ],
             [
              0.6666666666666666,
              "#ed7953"
             ],
             [
              0.7777777777777778,
              "#fb9f3a"
             ],
             [
              0.8888888888888888,
              "#fdca26"
             ],
             [
              1,
              "#f0f921"
             ]
            ],
            "type": "surface"
           }
          ],
          "table": [
           {
            "cells": {
             "fill": {
              "color": "#EBF0F8"
             },
             "line": {
              "color": "white"
             }
            },
            "header": {
             "fill": {
              "color": "#C8D4E3"
             },
             "line": {
              "color": "white"
             }
            },
            "type": "table"
           }
          ]
         },
         "layout": {
          "annotationdefaults": {
           "arrowcolor": "#2a3f5f",
           "arrowhead": 0,
           "arrowwidth": 1
          },
          "autotypenumbers": "strict",
          "coloraxis": {
           "colorbar": {
            "outlinewidth": 0,
            "ticks": ""
           }
          },
          "colorscale": {
           "diverging": [
            [
             0,
             "#8e0152"
            ],
            [
             0.1,
             "#c51b7d"
            ],
            [
             0.2,
             "#de77ae"
            ],
            [
             0.3,
             "#f1b6da"
            ],
            [
             0.4,
             "#fde0ef"
            ],
            [
             0.5,
             "#f7f7f7"
            ],
            [
             0.6,
             "#e6f5d0"
            ],
            [
             0.7,
             "#b8e186"
            ],
            [
             0.8,
             "#7fbc41"
            ],
            [
             0.9,
             "#4d9221"
            ],
            [
             1,
             "#276419"
            ]
           ],
           "sequential": [
            [
             0,
             "#0d0887"
            ],
            [
             0.1111111111111111,
             "#46039f"
            ],
            [
             0.2222222222222222,
             "#7201a8"
            ],
            [
             0.3333333333333333,
             "#9c179e"
            ],
            [
             0.4444444444444444,
             "#bd3786"
            ],
            [
             0.5555555555555556,
             "#d8576b"
            ],
            [
             0.6666666666666666,
             "#ed7953"
            ],
            [
             0.7777777777777778,
             "#fb9f3a"
            ],
            [
             0.8888888888888888,
             "#fdca26"
            ],
            [
             1,
             "#f0f921"
            ]
           ],
           "sequentialminus": [
            [
             0,
             "#0d0887"
            ],
            [
             0.1111111111111111,
             "#46039f"
            ],
            [
             0.2222222222222222,
             "#7201a8"
            ],
            [
             0.3333333333333333,
             "#9c179e"
            ],
            [
             0.4444444444444444,
             "#bd3786"
            ],
            [
             0.5555555555555556,
             "#d8576b"
            ],
            [
             0.6666666666666666,
             "#ed7953"
            ],
            [
             0.7777777777777778,
             "#fb9f3a"
            ],
            [
             0.8888888888888888,
             "#fdca26"
            ],
            [
             1,
             "#f0f921"
            ]
           ]
          },
          "colorway": [
           "#636efa",
           "#EF553B",
           "#00cc96",
           "#ab63fa",
           "#FFA15A",
           "#19d3f3",
           "#FF6692",
           "#B6E880",
           "#FF97FF",
           "#FECB52"
          ],
          "font": {
           "color": "#2a3f5f"
          },
          "geo": {
           "bgcolor": "white",
           "lakecolor": "white",
           "landcolor": "#E5ECF6",
           "showlakes": true,
           "showland": true,
           "subunitcolor": "white"
          },
          "hoverlabel": {
           "align": "left"
          },
          "hovermode": "closest",
          "mapbox": {
           "style": "light"
          },
          "paper_bgcolor": "white",
          "plot_bgcolor": "#E5ECF6",
          "polar": {
           "angularaxis": {
            "gridcolor": "white",
            "linecolor": "white",
            "ticks": ""
           },
           "bgcolor": "#E5ECF6",
           "radialaxis": {
            "gridcolor": "white",
            "linecolor": "white",
            "ticks": ""
           }
          },
          "scene": {
           "xaxis": {
            "backgroundcolor": "#E5ECF6",
            "gridcolor": "white",
            "gridwidth": 2,
            "linecolor": "white",
            "showbackground": true,
            "ticks": "",
            "zerolinecolor": "white"
           },
           "yaxis": {
            "backgroundcolor": "#E5ECF6",
            "gridcolor": "white",
            "gridwidth": 2,
            "linecolor": "white",
            "showbackground": true,
            "ticks": "",
            "zerolinecolor": "white"
           },
           "zaxis": {
            "backgroundcolor": "#E5ECF6",
            "gridcolor": "white",
            "gridwidth": 2,
            "linecolor": "white",
            "showbackground": true,
            "ticks": "",
            "zerolinecolor": "white"
           }
          },
          "shapedefaults": {
           "line": {
            "color": "#2a3f5f"
           }
          },
          "ternary": {
           "aaxis": {
            "gridcolor": "white",
            "linecolor": "white",
            "ticks": ""
           },
           "baxis": {
            "gridcolor": "white",
            "linecolor": "white",
            "ticks": ""
           },
           "bgcolor": "#E5ECF6",
           "caxis": {
            "gridcolor": "white",
            "linecolor": "white",
            "ticks": ""
           }
          },
          "title": {
           "x": 0.05
          },
          "xaxis": {
           "automargin": true,
           "gridcolor": "white",
           "linecolor": "white",
           "ticks": "",
           "title": {
            "standoff": 15
           },
           "zerolinecolor": "white",
           "zerolinewidth": 2
          },
          "yaxis": {
           "automargin": true,
           "gridcolor": "white",
           "linecolor": "white",
           "ticks": "",
           "title": {
            "standoff": 15
           },
           "zerolinecolor": "white",
           "zerolinewidth": 2
          }
         }
        },
        "xaxis": {
         "anchor": "y",
         "domain": [
          0,
          1
         ],
         "title": {
          "text": "value"
         }
        },
        "yaxis": {
         "anchor": "x",
         "domain": [
          0,
          1
         ],
         "title": {
          "text": "variable"
         }
        }
       }
      }
     },
     "metadata": {},
     "output_type": "display_data"
    }
   ],
   "source": [
    "plty.box(X_lp3_df, x = [\"F_lp3\", \"T_lp3\"])"
   ]
  },
  {
   "attachments": {},
   "cell_type": "markdown",
   "metadata": {},
   "source": [
    "To know the class distribution"
   ]
  },
  {
   "cell_type": "code",
   "execution_count": 27,
   "metadata": {},
   "outputs": [
    {
     "data": {
      "text/plain": [
       "(array([0., 1., 2., 3.]), array([20,  9, 15,  3], dtype=int64))"
      ]
     },
     "execution_count": 27,
     "metadata": {},
     "output_type": "execute_result"
    }
   ],
   "source": [
    "np.unique(Y_lp3.to_numpy(), return_counts=True)"
   ]
  },
  {
   "attachments": {},
   "cell_type": "markdown",
   "metadata": {},
   "source": [
    "Training the dataset"
   ]
  },
  {
   "attachments": {},
   "cell_type": "markdown",
   "metadata": {},
   "source": [
    "Splitting test and train set in the ratio of 70:30"
   ]
  },
  {
   "cell_type": "code",
   "execution_count": 28,
   "metadata": {},
   "outputs": [],
   "source": [
    "from sklearn.model_selection import train_test_split\n",
    "\n",
    "lp3_train, lp3_test = train_test_split(X_lp3_df, test_size=0.3, random_state=2)\n"
   ]
  },
  {
   "attachments": {},
   "cell_type": "markdown",
   "metadata": {},
   "source": [
    "1. Decision Tree"
   ]
  },
  {
   "cell_type": "code",
   "execution_count": 29,
   "metadata": {},
   "outputs": [
    {
     "name": "stdout",
     "output_type": "stream",
     "text": [
      "Training using Decision Tree...\n"
     ]
    },
    {
     "name": "stderr",
     "output_type": "stream",
     "text": [
      "c:\\Users\\Mallinathan G\\AppData\\Local\\Programs\\Python\\Python310\\lib\\site-packages\\sklearn\\model_selection\\_split.py:680: UserWarning:\n",
      "\n",
      "The least populated class in y has only 1 members, which is less than n_splits=3.\n",
      "\n"
     ]
    },
    {
     "data": {
      "text/html": [
       "<style>#sk-container-id-1 {color: black;background-color: white;}#sk-container-id-1 pre{padding: 0;}#sk-container-id-1 div.sk-toggleable {background-color: white;}#sk-container-id-1 label.sk-toggleable__label {cursor: pointer;display: block;width: 100%;margin-bottom: 0;padding: 0.3em;box-sizing: border-box;text-align: center;}#sk-container-id-1 label.sk-toggleable__label-arrow:before {content: \"▸\";float: left;margin-right: 0.25em;color: #696969;}#sk-container-id-1 label.sk-toggleable__label-arrow:hover:before {color: black;}#sk-container-id-1 div.sk-estimator:hover label.sk-toggleable__label-arrow:before {color: black;}#sk-container-id-1 div.sk-toggleable__content {max-height: 0;max-width: 0;overflow: hidden;text-align: left;background-color: #f0f8ff;}#sk-container-id-1 div.sk-toggleable__content pre {margin: 0.2em;color: black;border-radius: 0.25em;background-color: #f0f8ff;}#sk-container-id-1 input.sk-toggleable__control:checked~div.sk-toggleable__content {max-height: 200px;max-width: 100%;overflow: auto;}#sk-container-id-1 input.sk-toggleable__control:checked~label.sk-toggleable__label-arrow:before {content: \"▾\";}#sk-container-id-1 div.sk-estimator input.sk-toggleable__control:checked~label.sk-toggleable__label {background-color: #d4ebff;}#sk-container-id-1 div.sk-label input.sk-toggleable__control:checked~label.sk-toggleable__label {background-color: #d4ebff;}#sk-container-id-1 input.sk-hidden--visually {border: 0;clip: rect(1px 1px 1px 1px);clip: rect(1px, 1px, 1px, 1px);height: 1px;margin: -1px;overflow: hidden;padding: 0;position: absolute;width: 1px;}#sk-container-id-1 div.sk-estimator {font-family: monospace;background-color: #f0f8ff;border: 1px dotted black;border-radius: 0.25em;box-sizing: border-box;margin-bottom: 0.5em;}#sk-container-id-1 div.sk-estimator:hover {background-color: #d4ebff;}#sk-container-id-1 div.sk-parallel-item::after {content: \"\";width: 100%;border-bottom: 1px solid gray;flex-grow: 1;}#sk-container-id-1 div.sk-label:hover label.sk-toggleable__label {background-color: #d4ebff;}#sk-container-id-1 div.sk-serial::before {content: \"\";position: absolute;border-left: 1px solid gray;box-sizing: border-box;top: 0;bottom: 0;left: 50%;z-index: 0;}#sk-container-id-1 div.sk-serial {display: flex;flex-direction: column;align-items: center;background-color: white;padding-right: 0.2em;padding-left: 0.2em;position: relative;}#sk-container-id-1 div.sk-item {position: relative;z-index: 1;}#sk-container-id-1 div.sk-parallel {display: flex;align-items: stretch;justify-content: center;background-color: white;position: relative;}#sk-container-id-1 div.sk-item::before, #sk-container-id-1 div.sk-parallel-item::before {content: \"\";position: absolute;border-left: 1px solid gray;box-sizing: border-box;top: 0;bottom: 0;left: 50%;z-index: -1;}#sk-container-id-1 div.sk-parallel-item {display: flex;flex-direction: column;z-index: 1;position: relative;background-color: white;}#sk-container-id-1 div.sk-parallel-item:first-child::after {align-self: flex-end;width: 50%;}#sk-container-id-1 div.sk-parallel-item:last-child::after {align-self: flex-start;width: 50%;}#sk-container-id-1 div.sk-parallel-item:only-child::after {width: 0;}#sk-container-id-1 div.sk-dashed-wrapped {border: 1px dashed gray;margin: 0 0.4em 0.5em 0.4em;box-sizing: border-box;padding-bottom: 0.4em;background-color: white;}#sk-container-id-1 div.sk-label label {font-family: monospace;font-weight: bold;display: inline-block;line-height: 1.2em;}#sk-container-id-1 div.sk-label-container {text-align: center;}#sk-container-id-1 div.sk-container {/* jupyter's `normalize.less` sets `[hidden] { display: none; }` but bootstrap.min.css set `[hidden] { display: none !important; }` so we also need the `!important` here to be able to override the default hidden behavior on the sphinx rendered scikit-learn.org. See: https://github.com/scikit-learn/scikit-learn/issues/21755 */display: inline-block !important;position: relative;}#sk-container-id-1 div.sk-text-repr-fallback {display: none;}</style><div id=\"sk-container-id-1\" class=\"sk-top-container\"><div class=\"sk-text-repr-fallback\"><pre>DecisionTreeClassifier(max_depth=2)</pre><b>In a Jupyter environment, please rerun this cell to show the HTML representation or trust the notebook. <br />On GitHub, the HTML representation is unable to render, please try loading this page with nbviewer.org.</b></div><div class=\"sk-container\" hidden><div class=\"sk-item\"><div class=\"sk-estimator sk-toggleable\"><input class=\"sk-toggleable__control sk-hidden--visually\" id=\"sk-estimator-id-1\" type=\"checkbox\" checked><label for=\"sk-estimator-id-1\" class=\"sk-toggleable__label sk-toggleable__label-arrow\">DecisionTreeClassifier</label><div class=\"sk-toggleable__content\"><pre>DecisionTreeClassifier(max_depth=2)</pre></div></div></div></div></div>"
      ],
      "text/plain": [
       "DecisionTreeClassifier(max_depth=2)"
      ]
     },
     "execution_count": 29,
     "metadata": {},
     "output_type": "execute_result"
    }
   ],
   "source": [
    "print(\"Training using Decision Tree...\")\n",
    "from sklearn import tree\n",
    "from sklearn.metrics import accuracy_score\n",
    "from sklearn.metrics import confusion_matrix, recall_score, precision_score, f1_score\n",
    "from sklearn.model_selection import cross_validate\n",
    "acc = pd.DataFrame(columns={\"Model\": [], \"Train\": [], \"Dev\": [], \"Test\":[], \"Precision Score\": [], \"Recall Score\": [], \"F1 Score\": [] })\n",
    "X = lp3_train[[\"F_lp3\", \"T_lp3\" ]]\n",
    "Y = lp3_train[\"Y_lp3\"]\n",
    "lp3_model = tree.DecisionTreeClassifier(max_depth=2)\n",
    "treemodel = cross_validate(lp3_model, X, Y, cv=3,return_train_score=True)\n",
    "lp3_model.fit(X, Y)"
   ]
  },
  {
   "attachments": {},
   "cell_type": "markdown",
   "metadata": {},
   "source": [
    "Results"
   ]
  },
  {
   "cell_type": "code",
   "execution_count": 30,
   "metadata": {},
   "outputs": [
    {
     "name": "stdout",
     "output_type": "stream",
     "text": [
      "++++++Decision Tree++++++\n",
      "+++Train Results+++\n",
      "Parametes: \n",
      " {'ccp_alpha': 0.0, 'class_weight': None, 'criterion': 'gini', 'max_depth': 2, 'max_features': None, 'max_leaf_nodes': None, 'min_impurity_decrease': 0.0, 'min_samples_leaf': 1, 'min_samples_split': 2, 'min_weight_fraction_leaf': 0.0, 'random_state': None, 'splitter': 'best'}\n",
      "\n",
      "Train Score 0.8751803751803752\n",
      "_____________________________________________________________________________________\n",
      "Validation Score 0.7545454545454545\n",
      "_____________________________________________________________________________________\n",
      "\n",
      "+++Test Results+++\n",
      "Parametes: \n",
      " {'ccp_alpha': 0.0, 'class_weight': None, 'criterion': 'gini', 'max_depth': 2, 'max_features': None, 'max_leaf_nodes': None, 'min_impurity_decrease': 0.0, 'min_samples_leaf': 1, 'min_samples_split': 2, 'min_weight_fraction_leaf': 0.0, 'random_state': None, 'splitter': 'best'}\n",
      "\n",
      "Prediction of test set: [2. 0. 1. 0. 0. 2. 1. 0. 0. 0. 0. 0. 0. 2. 1.]\n",
      "\n",
      "Test accuracy score 0.7333333333333333\n",
      "\n",
      "Confusion Matrix:\n",
      " [[8 0 0 0]\n",
      " [0 2 1 0]\n",
      " [0 1 1 0]\n",
      " [1 0 1 0]]\n",
      "\n",
      "Precision Score: [0.88888889 0.66666667 0.33333333 0.        ]\n",
      "Recall Score: [1.         0.66666667 0.5        0.        ]\n",
      "F1 Score: [0.94117647 0.66666667 0.4        0.        ]\n"
     ]
    }
   ],
   "source": [
    "print(\"++++++Decision Tree++++++\")\n",
    "print(\"+++Train Results+++\\nParametes: \\n\",lp3_model.get_params())\n",
    "train_pred = lp3_model.predict(lp3_train[[\"F_lp3\", \"T_lp3\"]])\n",
    "accuracy_scr1 = treemodel['train_score'].mean()\n",
    "print(\"\\nTrain Score\", treemodel['train_score'].mean())\n",
    "print(\"_____________________________________________________________________________________\")\n",
    "print(\"Validation Score\", treemodel['test_score'].mean())\n",
    "print(\"_____________________________________________________________________________________\")\n",
    "print(\"\\n+++Test Results+++\\nParametes: \\n\",lp3_model.get_params())\n",
    "test_pred = lp3_model.predict(lp3_test[[\"F_lp3\", \"T_lp3\"]])\n",
    "print(\"\\nPrediction of test set:\", test_pred)\n",
    "accuracy_scr2 = accuracy_score(lp3_test[\"Y_lp3\"], test_pred)\n",
    "print(\"\\nTest accuracy score\", accuracy_scr2)\n",
    "confMat = confusion_matrix(lp3_test[\"Y_lp3\"], test_pred, labels=[0,1,2,3])\n",
    "print(\"\\nConfusion Matrix:\\n\",confMat)\n",
    "prec_tree = precision_score(lp3_test[\"Y_lp3\"], test_pred, average=None, zero_division=0)\n",
    "print(\"\\nPrecision Score:\",prec_tree)\n",
    "Rec_tree = recall_score(lp3_test[\"Y_lp3\"], test_pred, average=None, zero_division=0)\n",
    "print(\"Recall Score:\",Rec_tree)\n",
    "f1_tree = f1_score(lp3_test[\"Y_lp3\"], test_pred, average=None, zero_division=0)\n",
    "print(\"F1 Score:\",f1_tree)\n",
    "acc.loc[len(acc.index)] = ['Decision Tree', accuracy_scr1, treemodel['test_score'].mean(), accuracy_scr2, prec_tree.mean(), Rec_tree.mean(), f1_tree.mean()] "
   ]
  },
  {
   "cell_type": "code",
   "execution_count": 31,
   "metadata": {},
   "outputs": [],
   "source": [
    "#lp3_model.predict_proba(lp3_test[[\"F_lp3\", \"T_lp3\"]])"
   ]
  },
  {
   "attachments": {},
   "cell_type": "markdown",
   "metadata": {},
   "source": [
    "Printing the tree"
   ]
  },
  {
   "cell_type": "code",
   "execution_count": 32,
   "metadata": {},
   "outputs": [
    {
     "data": {
      "text/plain": [
       "[Text(0.4, 0.8333333333333334, 'X[0] <= 0.089\\ngini = 0.658\\nsamples = 32\\nvalue = [12, 6, 13, 1]'),\n",
       " Text(0.2, 0.5, 'gini = 0.0\\nsamples = 12\\nvalue = [12, 0, 0, 0]'),\n",
       " Text(0.6, 0.5, 'X[0] <= 0.097\\ngini = 0.485\\nsamples = 20\\nvalue = [0, 6, 13, 1]'),\n",
       " Text(0.4, 0.16666666666666666, 'gini = 0.32\\nsamples = 5\\nvalue = [0, 4, 1, 0]'),\n",
       " Text(0.8, 0.16666666666666666, 'gini = 0.338\\nsamples = 15\\nvalue = [0, 2, 12, 1]')]"
      ]
     },
     "execution_count": 32,
     "metadata": {},
     "output_type": "execute_result"
    },
    {
     "data": {
      "image/png": "[encoded data removed]",
      "text/plain": [
       "<Figure size 432x288 with 1 Axes>"
      ]
     },
     "metadata": {
      "needs_background": "light"
     },
     "output_type": "display_data"
    }
   ],
   "source": [
    "tree.plot_tree(lp3_model)"
   ]
  },
  {
   "attachments": {},
   "cell_type": "markdown",
   "metadata": {},
   "source": [
    "Exporting the model to txt file"
   ]
  },
  {
   "cell_type": "code",
   "execution_count": 33,
   "metadata": {},
   "outputs": [],
   "source": [
    "# from sklearn.tree import export_text\n",
    "# lp3export_tree = export_text(lp3_model) \n",
    "# with open('lp3exportree.txt', 'w') as f:\n",
    "#     f.writelines(lp3export_tree)"
   ]
  },
  {
   "attachments": {},
   "cell_type": "markdown",
   "metadata": {},
   "source": [
    "2. Random Forest Classifier"
   ]
  },
  {
   "cell_type": "code",
   "execution_count": 34,
   "metadata": {},
   "outputs": [
    {
     "name": "stderr",
     "output_type": "stream",
     "text": [
      "c:\\Users\\Mallinathan G\\AppData\\Local\\Programs\\Python\\Python310\\lib\\site-packages\\sklearn\\model_selection\\_split.py:680: UserWarning:\n",
      "\n",
      "The least populated class in y has only 1 members, which is less than n_splits=3.\n",
      "\n"
     ]
    },
    {
     "data": {
      "text/html": [
       "<style>#sk-container-id-2 {color: black;background-color: white;}#sk-container-id-2 pre{padding: 0;}#sk-container-id-2 div.sk-toggleable {background-color: white;}#sk-container-id-2 label.sk-toggleable__label {cursor: pointer;display: block;width: 100%;margin-bottom: 0;padding: 0.3em;box-sizing: border-box;text-align: center;}#sk-container-id-2 label.sk-toggleable__label-arrow:before {content: \"▸\";float: left;margin-right: 0.25em;color: #696969;}#sk-container-id-2 label.sk-toggleable__label-arrow:hover:before {color: black;}#sk-container-id-2 div.sk-estimator:hover label.sk-toggleable__label-arrow:before {color: black;}#sk-container-id-2 div.sk-toggleable__content {max-height: 0;max-width: 0;overflow: hidden;text-align: left;background-color: #f0f8ff;}#sk-container-id-2 div.sk-toggleable__content pre {margin: 0.2em;color: black;border-radius: 0.25em;background-color: #f0f8ff;}#sk-container-id-2 input.sk-toggleable__control:checked~div.sk-toggleable__content {max-height: 200px;max-width: 100%;overflow: auto;}#sk-container-id-2 input.sk-toggleable__control:checked~label.sk-toggleable__label-arrow:before {content: \"▾\";}#sk-container-id-2 div.sk-estimator input.sk-toggleable__control:checked~label.sk-toggleable__label {background-color: #d4ebff;}#sk-container-id-2 div.sk-label input.sk-toggleable__control:checked~label.sk-toggleable__label {background-color: #d4ebff;}#sk-container-id-2 input.sk-hidden--visually {border: 0;clip: rect(1px 1px 1px 1px);clip: rect(1px, 1px, 1px, 1px);height: 1px;margin: -1px;overflow: hidden;padding: 0;position: absolute;width: 1px;}#sk-container-id-2 div.sk-estimator {font-family: monospace;background-color: #f0f8ff;border: 1px dotted black;border-radius: 0.25em;box-sizing: border-box;margin-bottom: 0.5em;}#sk-container-id-2 div.sk-estimator:hover {background-color: #d4ebff;}#sk-container-id-2 div.sk-parallel-item::after {content: \"\";width: 100%;border-bottom: 1px solid gray;flex-grow: 1;}#sk-container-id-2 div.sk-label:hover label.sk-toggleable__label {background-color: #d4ebff;}#sk-container-id-2 div.sk-serial::before {content: \"\";position: absolute;border-left: 1px solid gray;box-sizing: border-box;top: 0;bottom: 0;left: 50%;z-index: 0;}#sk-container-id-2 div.sk-serial {display: flex;flex-direction: column;align-items: center;background-color: white;padding-right: 0.2em;padding-left: 0.2em;position: relative;}#sk-container-id-2 div.sk-item {position: relative;z-index: 1;}#sk-container-id-2 div.sk-parallel {display: flex;align-items: stretch;justify-content: center;background-color: white;position: relative;}#sk-container-id-2 div.sk-item::before, #sk-container-id-2 div.sk-parallel-item::before {content: \"\";position: absolute;border-left: 1px solid gray;box-sizing: border-box;top: 0;bottom: 0;left: 50%;z-index: -1;}#sk-container-id-2 div.sk-parallel-item {display: flex;flex-direction: column;z-index: 1;position: relative;background-color: white;}#sk-container-id-2 div.sk-parallel-item:first-child::after {align-self: flex-end;width: 50%;}#sk-container-id-2 div.sk-parallel-item:last-child::after {align-self: flex-start;width: 50%;}#sk-container-id-2 div.sk-parallel-item:only-child::after {width: 0;}#sk-container-id-2 div.sk-dashed-wrapped {border: 1px dashed gray;margin: 0 0.4em 0.5em 0.4em;box-sizing: border-box;padding-bottom: 0.4em;background-color: white;}#sk-container-id-2 div.sk-label label {font-family: monospace;font-weight: bold;display: inline-block;line-height: 1.2em;}#sk-container-id-2 div.sk-label-container {text-align: center;}#sk-container-id-2 div.sk-container {/* jupyter's `normalize.less` sets `[hidden] { display: none; }` but bootstrap.min.css set `[hidden] { display: none !important; }` so we also need the `!important` here to be able to override the default hidden behavior on the sphinx rendered scikit-learn.org. See: https://github.com/scikit-learn/scikit-learn/issues/21755 */display: inline-block !important;position: relative;}#sk-container-id-2 div.sk-text-repr-fallback {display: none;}</style><div id=\"sk-container-id-2\" class=\"sk-top-container\"><div class=\"sk-text-repr-fallback\"><pre>RandomForestClassifier(max_depth=2)</pre><b>In a Jupyter environment, please rerun this cell to show the HTML representation or trust the notebook. <br />On GitHub, the HTML representation is unable to render, please try loading this page with nbviewer.org.</b></div><div class=\"sk-container\" hidden><div class=\"sk-item\"><div class=\"sk-estimator sk-toggleable\"><input class=\"sk-toggleable__control sk-hidden--visually\" id=\"sk-estimator-id-2\" type=\"checkbox\" checked><label for=\"sk-estimator-id-2\" class=\"sk-toggleable__label sk-toggleable__label-arrow\">RandomForestClassifier</label><div class=\"sk-toggleable__content\"><pre>RandomForestClassifier(max_depth=2)</pre></div></div></div></div></div>"
      ],
      "text/plain": [
       "RandomForestClassifier(max_depth=2)"
      ]
     },
     "execution_count": 34,
     "metadata": {},
     "output_type": "execute_result"
    }
   ],
   "source": [
    "from sklearn.ensemble import RandomForestClassifier\n",
    "lp3_forest = RandomForestClassifier(max_depth=2)\n",
    "X = lp3_train[[\"F_lp3\", \"T_lp3\"]]\n",
    "Y = lp3_train[\"Y_lp3\"]\n",
    "forestmodel = cross_validate(lp3_forest, X, Y, cv=3,return_train_score=True)\n",
    "lp3_forest.fit(X, Y)"
   ]
  },
  {
   "cell_type": "code",
   "execution_count": 35,
   "metadata": {},
   "outputs": [
    {
     "name": "stdout",
     "output_type": "stream",
     "text": [
      "++++++Random Forest++++++\n",
      "+++Train Results+++\n",
      "Parametes: \n",
      " {'bootstrap': True, 'ccp_alpha': 0.0, 'class_weight': None, 'criterion': 'gini', 'max_depth': 2, 'max_features': 'sqrt', 'max_leaf_nodes': None, 'max_samples': None, 'min_impurity_decrease': 0.0, 'min_samples_leaf': 1, 'min_samples_split': 2, 'min_weight_fraction_leaf': 0.0, 'n_estimators': 100, 'n_jobs': None, 'oob_score': False, 'random_state': None, 'verbose': 0, 'warm_start': False}\n",
      "\n",
      "Train Score 0.8751803751803752\n",
      "_____________________________________________________________________________________\n",
      "Validation Score 0.7515151515151516\n",
      "_____________________________________________________________________________________\n",
      "+++Test Results+++\n",
      "Parametes: \n",
      " {'bootstrap': True, 'ccp_alpha': 0.0, 'class_weight': None, 'criterion': 'gini', 'max_depth': 2, 'max_features': 'sqrt', 'max_leaf_nodes': None, 'max_samples': None, 'min_impurity_decrease': 0.0, 'min_samples_leaf': 1, 'min_samples_split': 2, 'min_weight_fraction_leaf': 0.0, 'n_estimators': 100, 'n_jobs': None, 'oob_score': False, 'random_state': None, 'verbose': 0, 'warm_start': False}\n",
      "\n",
      "Test accuracy score 0.7333333333333333\n",
      "Confusion Matrix:\n",
      " [[8 0 0 0]\n",
      " [0 2 1 0]\n",
      " [0 1 1 0]\n",
      " [1 0 1 0]]\n",
      "\n",
      "Precision Score: [0.88888889 0.66666667 0.33333333 0.        ]\n",
      "Recall Score: [1.         0.66666667 0.5        0.        ]\n",
      "F1 Score: [0.94117647 0.66666667 0.4        0.        ]\n"
     ]
    }
   ],
   "source": [
    "print(\"++++++Random Forest++++++\")\n",
    "print(\"+++Train Results+++\\nParametes: \\n\",lp3_forest.get_params())\n",
    "train_pred = lp3_forest.predict(lp3_train[[\"F_lp3\", \"T_lp3\"]])\n",
    "accuracy_scr1 = forestmodel['train_score'].mean()\n",
    "print(\"\\nTrain Score\", forestmodel['train_score'].mean())\n",
    "print(\"_____________________________________________________________________________________\")\n",
    "print(\"Validation Score\", forestmodel['test_score'].mean())\n",
    "print(\"_____________________________________________________________________________________\")\n",
    "print(\"+++Test Results+++\\nParametes: \\n\",lp3_forest.get_params())\n",
    "test_pred = lp3_forest.predict(lp3_test[[\"F_lp3\", \"T_lp3\"]])\n",
    "#print(\"\\nPrediction of test set:\", test_pred)\n",
    "accuracy_scr2 = accuracy_score(lp3_test[\"Y_lp3\"], test_pred)\n",
    "print(\"\\nTest accuracy score\", accuracy_scr2)\n",
    "confMat = confusion_matrix(lp3_test[\"Y_lp3\"], test_pred, labels=[0,1,2,3])\n",
    "print(\"Confusion Matrix:\\n\",confMat)\n",
    "prec_forest = precision_score(lp3_test[\"Y_lp3\"], test_pred, average=None, zero_division=0)\n",
    "print(\"\\nPrecision Score:\",prec_forest)\n",
    "Rec_forest = recall_score(lp3_test[\"Y_lp3\"], test_pred, average=None, zero_division=0)\n",
    "print(\"Recall Score:\",Rec_forest)\n",
    "f1_forest = f1_score(lp3_test[\"Y_lp3\"], test_pred, average=None, zero_division=0)\n",
    "print(\"F1 Score:\",f1_forest)\n",
    "acc.loc[len(acc.index)] = ['Random Forest', accuracy_scr1, forestmodel['test_score'].mean(), accuracy_scr2, prec_forest.mean(), Rec_forest.mean(), f1_forest.mean()] "
   ]
  },
  {
   "attachments": {},
   "cell_type": "markdown",
   "metadata": {},
   "source": [
    "3. Support Vector Machines"
   ]
  },
  {
   "cell_type": "code",
   "execution_count": 36,
   "metadata": {},
   "outputs": [
    {
     "name": "stderr",
     "output_type": "stream",
     "text": [
      "c:\\Users\\Mallinathan G\\AppData\\Local\\Programs\\Python\\Python310\\lib\\site-packages\\sklearn\\model_selection\\_split.py:680: UserWarning:\n",
      "\n",
      "The least populated class in y has only 1 members, which is less than n_splits=3.\n",
      "\n"
     ]
    },
    {
     "data": {
      "text/html": [
       "<style>#sk-container-id-3 {color: black;background-color: white;}#sk-container-id-3 pre{padding: 0;}#sk-container-id-3 div.sk-toggleable {background-color: white;}#sk-container-id-3 label.sk-toggleable__label {cursor: pointer;display: block;width: 100%;margin-bottom: 0;padding: 0.3em;box-sizing: border-box;text-align: center;}#sk-container-id-3 label.sk-toggleable__label-arrow:before {content: \"▸\";float: left;margin-right: 0.25em;color: #696969;}#sk-container-id-3 label.sk-toggleable__label-arrow:hover:before {color: black;}#sk-container-id-3 div.sk-estimator:hover label.sk-toggleable__label-arrow:before {color: black;}#sk-container-id-3 div.sk-toggleable__content {max-height: 0;max-width: 0;overflow: hidden;text-align: left;background-color: #f0f8ff;}#sk-container-id-3 div.sk-toggleable__content pre {margin: 0.2em;color: black;border-radius: 0.25em;background-color: #f0f8ff;}#sk-container-id-3 input.sk-toggleable__control:checked~div.sk-toggleable__content {max-height: 200px;max-width: 100%;overflow: auto;}#sk-container-id-3 input.sk-toggleable__control:checked~label.sk-toggleable__label-arrow:before {content: \"▾\";}#sk-container-id-3 div.sk-estimator input.sk-toggleable__control:checked~label.sk-toggleable__label {background-color: #d4ebff;}#sk-container-id-3 div.sk-label input.sk-toggleable__control:checked~label.sk-toggleable__label {background-color: #d4ebff;}#sk-container-id-3 input.sk-hidden--visually {border: 0;clip: rect(1px 1px 1px 1px);clip: rect(1px, 1px, 1px, 1px);height: 1px;margin: -1px;overflow: hidden;padding: 0;position: absolute;width: 1px;}#sk-container-id-3 div.sk-estimator {font-family: monospace;background-color: #f0f8ff;border: 1px dotted black;border-radius: 0.25em;box-sizing: border-box;margin-bottom: 0.5em;}#sk-container-id-3 div.sk-estimator:hover {background-color: #d4ebff;}#sk-container-id-3 div.sk-parallel-item::after {content: \"\";width: 100%;border-bottom: 1px solid gray;flex-grow: 1;}#sk-container-id-3 div.sk-label:hover label.sk-toggleable__label {background-color: #d4ebff;}#sk-container-id-3 div.sk-serial::before {content: \"\";position: absolute;border-left: 1px solid gray;box-sizing: border-box;top: 0;bottom: 0;left: 50%;z-index: 0;}#sk-container-id-3 div.sk-serial {display: flex;flex-direction: column;align-items: center;background-color: white;padding-right: 0.2em;padding-left: 0.2em;position: relative;}#sk-container-id-3 div.sk-item {position: relative;z-index: 1;}#sk-container-id-3 div.sk-parallel {display: flex;align-items: stretch;justify-content: center;background-color: white;position: relative;}#sk-container-id-3 div.sk-item::before, #sk-container-id-3 div.sk-parallel-item::before {content: \"\";position: absolute;border-left: 1px solid gray;box-sizing: border-box;top: 0;bottom: 0;left: 50%;z-index: -1;}#sk-container-id-3 div.sk-parallel-item {display: flex;flex-direction: column;z-index: 1;position: relative;background-color: white;}#sk-container-id-3 div.sk-parallel-item:first-child::after {align-self: flex-end;width: 50%;}#sk-container-id-3 div.sk-parallel-item:last-child::after {align-self: flex-start;width: 50%;}#sk-container-id-3 div.sk-parallel-item:only-child::after {width: 0;}#sk-container-id-3 div.sk-dashed-wrapped {border: 1px dashed gray;margin: 0 0.4em 0.5em 0.4em;box-sizing: border-box;padding-bottom: 0.4em;background-color: white;}#sk-container-id-3 div.sk-label label {font-family: monospace;font-weight: bold;display: inline-block;line-height: 1.2em;}#sk-container-id-3 div.sk-label-container {text-align: center;}#sk-container-id-3 div.sk-container {/* jupyter's `normalize.less` sets `[hidden] { display: none; }` but bootstrap.min.css set `[hidden] { display: none !important; }` so we also need the `!important` here to be able to override the default hidden behavior on the sphinx rendered scikit-learn.org. See: https://github.com/scikit-learn/scikit-learn/issues/21755 */display: inline-block !important;position: relative;}#sk-container-id-3 div.sk-text-repr-fallback {display: none;}</style><div id=\"sk-container-id-3\" class=\"sk-top-container\"><div class=\"sk-text-repr-fallback\"><pre>SVC(decision_function_shape=&#x27;ovo&#x27;)</pre><b>In a Jupyter environment, please rerun this cell to show the HTML representation or trust the notebook. <br />On GitHub, the HTML representation is unable to render, please try loading this page with nbviewer.org.</b></div><div class=\"sk-container\" hidden><div class=\"sk-item\"><div class=\"sk-estimator sk-toggleable\"><input class=\"sk-toggleable__control sk-hidden--visually\" id=\"sk-estimator-id-3\" type=\"checkbox\" checked><label for=\"sk-estimator-id-3\" class=\"sk-toggleable__label sk-toggleable__label-arrow\">SVC</label><div class=\"sk-toggleable__content\"><pre>SVC(decision_function_shape=&#x27;ovo&#x27;)</pre></div></div></div></div></div>"
      ],
      "text/plain": [
       "SVC(decision_function_shape='ovo')"
      ]
     },
     "execution_count": 36,
     "metadata": {},
     "output_type": "execute_result"
    }
   ],
   "source": [
    "from sklearn import svm\n",
    "X = lp3_train[[\"F_lp3\", \"T_lp3\" ]]\n",
    "Y = lp3_train[\"Y_lp3\"]\n",
    "lp3_SVM_Model = svm.SVC(decision_function_shape='ovo')\n",
    "svmmodel = cross_validate(lp3_SVM_Model, X, Y, cv=3,return_train_score=True)\n",
    "lp3_SVM_Model.fit(X, Y)"
   ]
  },
  {
   "cell_type": "code",
   "execution_count": 37,
   "metadata": {},
   "outputs": [
    {
     "name": "stdout",
     "output_type": "stream",
     "text": [
      "++++++Support Vector Machines++++++\n",
      "+++Train Results+++\n",
      "Parametes: \n",
      " {'C': 1.0, 'break_ties': False, 'cache_size': 200, 'class_weight': None, 'coef0': 0.0, 'decision_function_shape': 'ovo', 'degree': 3, 'gamma': 'scale', 'kernel': 'rbf', 'max_iter': -1, 'probability': False, 'random_state': None, 'shrinking': True, 'tol': 0.001, 'verbose': False}\n",
      "\n",
      "Train Score 0.7344877344877346\n",
      "_____________________________________________________________________________________\n",
      "Validation Score 0.7212121212121213\n",
      "_____________________________________________________________________________________\n",
      "+++Test Results+++\n",
      "Parametes: \n",
      " {'C': 1.0, 'break_ties': False, 'cache_size': 200, 'class_weight': None, 'coef0': 0.0, 'decision_function_shape': 'ovo', 'degree': 3, 'gamma': 'scale', 'kernel': 'rbf', 'max_iter': -1, 'probability': False, 'random_state': None, 'shrinking': True, 'tol': 0.001, 'verbose': False}\n",
      "\n",
      "Test Accuracy 0.6\n",
      "Confusion Matrix:\n",
      " [[8 0 0 0]\n",
      " [1 0 2 0]\n",
      " [1 0 1 0]\n",
      " [1 0 1 0]]\n",
      "\n",
      "Precision Score: [0.72727273 0.         0.25       0.        ]\n",
      "Recall Score: [1.  0.  0.5 0. ]\n",
      "F1 Score: [0.84210526 0.         0.33333333 0.        ]\n"
     ]
    }
   ],
   "source": [
    "print(\"++++++Support Vector Machines++++++\")\n",
    "print(\"+++Train Results+++\\nParametes: \\n\",lp3_SVM_Model.get_params())\n",
    "train_pred = lp3_SVM_Model.predict(lp3_train[[\"F_lp3\", \"T_lp3\"]])\n",
    "accuracy_scr1 = svmmodel['train_score'].mean()\n",
    "print(\"\\nTrain Score\", svmmodel['train_score'].mean())\n",
    "print(\"_____________________________________________________________________________________\")\n",
    "print(\"Validation Score\", svmmodel['test_score'].mean())\n",
    "print(\"_____________________________________________________________________________________\")\n",
    "print(\"+++Test Results+++\\nParametes: \\n\",lp3_SVM_Model.get_params())\n",
    "X_test = lp3_test[[\"F_lp3\", \"T_lp3\" ]]\n",
    "Y_test = lp3_test[\"Y_lp3\"]\n",
    "test_pred = lp3_SVM_Model.predict(X_test)\n",
    "accuracy_scr2 = accuracy_score(Y_test, test_pred)\n",
    "print(\"\\nTest Accuracy\", accuracy_scr2)\n",
    "confMat = confusion_matrix(lp3_test[\"Y_lp3\"], test_pred, labels=[0,1,2,3])\n",
    "print(\"Confusion Matrix:\\n\",confMat)\n",
    "prec_SVM = precision_score(lp3_test[\"Y_lp3\"], test_pred, average=None, zero_division=0)\n",
    "print(\"\\nPrecision Score:\",prec_SVM)\n",
    "Rec_SVM = recall_score(lp3_test[\"Y_lp3\"], test_pred, average=None, zero_division=0)\n",
    "print(\"Recall Score:\",Rec_SVM)\n",
    "f1_SVM = f1_score(lp3_test[\"Y_lp3\"], test_pred, average=None, zero_division=0)\n",
    "print(\"F1 Score:\",f1_SVM)\n",
    "acc.loc[len(acc.index)] = ['SVM', accuracy_scr1, svmmodel['test_score'].mean(), accuracy_scr2,prec_SVM.mean(), Rec_SVM.mean(), f1_SVM.mean()] "
   ]
  },
  {
   "attachments": {},
   "cell_type": "markdown",
   "metadata": {},
   "source": [
    "4. Gaussian Naive Bayes"
   ]
  },
  {
   "cell_type": "code",
   "execution_count": 38,
   "metadata": {},
   "outputs": [
    {
     "name": "stderr",
     "output_type": "stream",
     "text": [
      "c:\\Users\\Mallinathan G\\AppData\\Local\\Programs\\Python\\Python310\\lib\\site-packages\\sklearn\\model_selection\\_split.py:680: UserWarning:\n",
      "\n",
      "The least populated class in y has only 1 members, which is less than n_splits=3.\n",
      "\n"
     ]
    },
    {
     "data": {
      "text/html": [
       "<style>#sk-container-id-4 {color: black;background-color: white;}#sk-container-id-4 pre{padding: 0;}#sk-container-id-4 div.sk-toggleable {background-color: white;}#sk-container-id-4 label.sk-toggleable__label {cursor: pointer;display: block;width: 100%;margin-bottom: 0;padding: 0.3em;box-sizing: border-box;text-align: center;}#sk-container-id-4 label.sk-toggleable__label-arrow:before {content: \"▸\";float: left;margin-right: 0.25em;color: #696969;}#sk-container-id-4 label.sk-toggleable__label-arrow:hover:before {color: black;}#sk-container-id-4 div.sk-estimator:hover label.sk-toggleable__label-arrow:before {color: black;}#sk-container-id-4 div.sk-toggleable__content {max-height: 0;max-width: 0;overflow: hidden;text-align: left;background-color: #f0f8ff;}#sk-container-id-4 div.sk-toggleable__content pre {margin: 0.2em;color: black;border-radius: 0.25em;background-color: #f0f8ff;}#sk-container-id-4 input.sk-toggleable__control:checked~div.sk-toggleable__content {max-height: 200px;max-width: 100%;overflow: auto;}#sk-container-id-4 input.sk-toggleable__control:checked~label.sk-toggleable__label-arrow:before {content: \"▾\";}#sk-container-id-4 div.sk-estimator input.sk-toggleable__control:checked~label.sk-toggleable__label {background-color: #d4ebff;}#sk-container-id-4 div.sk-label input.sk-toggleable__control:checked~label.sk-toggleable__label {background-color: #d4ebff;}#sk-container-id-4 input.sk-hidden--visually {border: 0;clip: rect(1px 1px 1px 1px);clip: rect(1px, 1px, 1px, 1px);height: 1px;margin: -1px;overflow: hidden;padding: 0;position: absolute;width: 1px;}#sk-container-id-4 div.sk-estimator {font-family: monospace;background-color: #f0f8ff;border: 1px dotted black;border-radius: 0.25em;box-sizing: border-box;margin-bottom: 0.5em;}#sk-container-id-4 div.sk-estimator:hover {background-color: #d4ebff;}#sk-container-id-4 div.sk-parallel-item::after {content: \"\";width: 100%;border-bottom: 1px solid gray;flex-grow: 1;}#sk-container-id-4 div.sk-label:hover label.sk-toggleable__label {background-color: #d4ebff;}#sk-container-id-4 div.sk-serial::before {content: \"\";position: absolute;border-left: 1px solid gray;box-sizing: border-box;top: 0;bottom: 0;left: 50%;z-index: 0;}#sk-container-id-4 div.sk-serial {display: flex;flex-direction: column;align-items: center;background-color: white;padding-right: 0.2em;padding-left: 0.2em;position: relative;}#sk-container-id-4 div.sk-item {position: relative;z-index: 1;}#sk-container-id-4 div.sk-parallel {display: flex;align-items: stretch;justify-content: center;background-color: white;position: relative;}#sk-container-id-4 div.sk-item::before, #sk-container-id-4 div.sk-parallel-item::before {content: \"\";position: absolute;border-left: 1px solid gray;box-sizing: border-box;top: 0;bottom: 0;left: 50%;z-index: -1;}#sk-container-id-4 div.sk-parallel-item {display: flex;flex-direction: column;z-index: 1;position: relative;background-color: white;}#sk-container-id-4 div.sk-parallel-item:first-child::after {align-self: flex-end;width: 50%;}#sk-container-id-4 div.sk-parallel-item:last-child::after {align-self: flex-start;width: 50%;}#sk-container-id-4 div.sk-parallel-item:only-child::after {width: 0;}#sk-container-id-4 div.sk-dashed-wrapped {border: 1px dashed gray;margin: 0 0.4em 0.5em 0.4em;box-sizing: border-box;padding-bottom: 0.4em;background-color: white;}#sk-container-id-4 div.sk-label label {font-family: monospace;font-weight: bold;display: inline-block;line-height: 1.2em;}#sk-container-id-4 div.sk-label-container {text-align: center;}#sk-container-id-4 div.sk-container {/* jupyter's `normalize.less` sets `[hidden] { display: none; }` but bootstrap.min.css set `[hidden] { display: none !important; }` so we also need the `!important` here to be able to override the default hidden behavior on the sphinx rendered scikit-learn.org. See: https://github.com/scikit-learn/scikit-learn/issues/21755 */display: inline-block !important;position: relative;}#sk-container-id-4 div.sk-text-repr-fallback {display: none;}</style><div id=\"sk-container-id-4\" class=\"sk-top-container\"><div class=\"sk-text-repr-fallback\"><pre>GaussianNB()</pre><b>In a Jupyter environment, please rerun this cell to show the HTML representation or trust the notebook. <br />On GitHub, the HTML representation is unable to render, please try loading this page with nbviewer.org.</b></div><div class=\"sk-container\" hidden><div class=\"sk-item\"><div class=\"sk-estimator sk-toggleable\"><input class=\"sk-toggleable__control sk-hidden--visually\" id=\"sk-estimator-id-4\" type=\"checkbox\" checked><label for=\"sk-estimator-id-4\" class=\"sk-toggleable__label sk-toggleable__label-arrow\">GaussianNB</label><div class=\"sk-toggleable__content\"><pre>GaussianNB()</pre></div></div></div></div></div>"
      ],
      "text/plain": [
       "GaussianNB()"
      ]
     },
     "execution_count": 38,
     "metadata": {},
     "output_type": "execute_result"
    }
   ],
   "source": [
    "from sklearn.naive_bayes import GaussianNB\n",
    "X = lp3_train[[\"F_lp3\", \"T_lp3\" ]]\n",
    "Y = lp3_train[\"Y_lp3\"]\n",
    "lp3_GNB_Model = GaussianNB()\n",
    "gnbmodel = cross_validate(lp3_GNB_Model, X, Y, cv=3,return_train_score=True)\n",
    "lp3_GNB_Model.fit(X, Y)"
   ]
  },
  {
   "cell_type": "code",
   "execution_count": 39,
   "metadata": {},
   "outputs": [
    {
     "name": "stdout",
     "output_type": "stream",
     "text": [
      "++++++Gaussian Naive Bayes++++++\n",
      "+++Train Results+++\n",
      "Parametes: \n",
      " {'priors': None, 'var_smoothing': 1e-09}\n",
      "\n",
      "Train Score 0.7821067821067821\n",
      "_____________________________________________________________________________________\n",
      "Validation Score 0.7515151515151516\n",
      "_____________________________________________________________________________________\n",
      "Test Accuracy 0.8\n",
      "Confusion Matrix:\n",
      " [[8 0 0 0]\n",
      " [0 3 0 0]\n",
      " [0 1 1 0]\n",
      " [0 1 1 0]]\n",
      "\n",
      "Precision Score: [1.  0.6 0.5 0. ]\n",
      "Recall Score: [1.  1.  0.5 0. ]\n",
      "F1 Score: [1.   0.75 0.5  0.  ]\n"
     ]
    }
   ],
   "source": [
    "print(\"++++++Gaussian Naive Bayes++++++\")\n",
    "print(\"+++Train Results+++\\nParametes: \\n\",lp3_GNB_Model.get_params())\n",
    "train_pred = lp3_GNB_Model.predict(lp3_train[[\"F_lp3\", \"T_lp3\"]])\n",
    "accuracy_scr1 = gnbmodel['train_score'].mean()\n",
    "print(\"\\nTrain Score\", gnbmodel['train_score'].mean())\n",
    "print(\"_____________________________________________________________________________________\")\n",
    "print(\"Validation Score\", gnbmodel['test_score'].mean())\n",
    "print(\"_____________________________________________________________________________________\")\n",
    "X_test = lp3_test[[\"F_lp3\", \"T_lp3\" ]]\n",
    "Y_test = lp3_test[\"Y_lp3\"]\n",
    "test_pred = lp3_GNB_Model.predict(X_test)\n",
    "accuracy_scr2 = accuracy_score(Y_test, test_pred)\n",
    "print(\"Test Accuracy\", accuracy_scr2)\n",
    "confMat = confusion_matrix(lp3_test[\"Y_lp3\"], test_pred, labels=[0,1,2,3])\n",
    "print(\"Confusion Matrix:\\n\",confMat)\n",
    "prec_GNB = precision_score(lp3_test[\"Y_lp3\"], test_pred, average=None, zero_division=0)\n",
    "print(\"\\nPrecision Score:\",prec_GNB)\n",
    "Rec_GNB = recall_score(lp3_test[\"Y_lp3\"], test_pred, average=None, zero_division=0)\n",
    "print(\"Recall Score:\",Rec_GNB)\n",
    "f1_GNB = f1_score(lp3_test[\"Y_lp3\"], test_pred, average=None, zero_division=0)\n",
    "print(\"F1 Score:\",f1_GNB)\n",
    "acc.loc[len(acc.index)] = ['Gaussian Naive Bayes', accuracy_scr1, gnbmodel['test_score'].mean(), accuracy_scr2, prec_GNB.mean(), Rec_GNB.mean(), f1_GNB.mean()] "
   ]
  },
  {
   "attachments": {},
   "cell_type": "markdown",
   "metadata": {},
   "source": [
    "5. Shallow Neural Networks"
   ]
  },
  {
   "attachments": {},
   "cell_type": "markdown",
   "metadata": {},
   "source": [
    "Splitting the data as test validation (dev) and train set using stratified shuffling with 4 n splits"
   ]
  },
  {
   "cell_type": "code",
   "execution_count": 40,
   "metadata": {},
   "outputs": [],
   "source": [
    "from sklearn.model_selection import StratifiedShuffleSplit\n",
    "sss = StratifiedShuffleSplit(n_splits=4, test_size=0.15, random_state=0)\n",
    "lp3_train = sss.split(X_lp3_df[[\"F_lp3\", \"T_lp3\" ]], X_lp3_df[\"Y_lp3\"])\n",
    "for train,test in sss.split(X_lp3_df[[\"F_lp3\", \"T_lp3\" ]], X_lp3_df[\"Y_lp3\"]):\n",
    "    X_dt = X_lp3_df[[\"F_lp3\", \"T_lp3\" ]].iloc[train]\n",
    "    Y_dt = X_lp3_df[\"Y_lp3\"].iloc[train]\n",
    "    X_test = X_lp3_df[[\"F_lp3\", \"T_lp3\" ]].iloc[test]\n",
    "    Y_test = X_lp3_df[\"Y_lp3\"].iloc[test]\n",
    "sss = StratifiedShuffleSplit(n_splits=4, test_size=0.18, random_state=0)\n",
    "for train,test in sss.split(X_dt, Y_dt):\n",
    "    xd = X_dt.iloc[test]\n",
    "    yd = Y_dt.iloc[test]\n",
    "    X = X_dt.iloc[train]\n",
    "    Y = Y_dt.iloc[train]\n",
    "# lp3_train, lp3_Devtest = train_test_split(X_lp3_df, test_size=0.3, random_state=2)\n",
    "# lp3_dev, lp3_test = train_test_split(lp3_Devtest, test_size=0.5, random_state=2)\n",
    "# print(xd.value_counts())  \n",
    "# print(yd.value_counts())\n",
    "# print(X_test.value_counts())  \n",
    "# print(Y_test.value_counts())"
   ]
  },
  {
   "cell_type": "code",
   "execution_count": 41,
   "metadata": {},
   "outputs": [],
   "source": [
    "import tensorflow as tf\n",
    "from tensorflow import keras\n",
    "from keras.layers import Dense\n",
    "from keras.layers import Dropout\n",
    " #For reproducability\n",
    "tf.random.set_seed(0)\n",
    "lp3_SNN_model = tf.keras.Sequential()\n",
    "lp3_SNN_model.add(Dense(2, activation='LeakyReLU', input_shape = (2,)))\n",
    "lp3_SNN_model.add(Dense(100, activation='LeakyReLU'))\n",
    "#lp3_SNN_model.add(Dropout(0.2))\n",
    "# lp3_SNN_model.add(Dense(15, activation='relu'))\n",
    "# lp3_SNN_model.add(Dense(84, activation='relu'))\n",
    "# lp3_SNN_model.add(Dense(84, activation='relu'))\n",
    "# lp3_SNN_model.add(Dense(14, activation='relu'))\n",
    "lp3_SNN_model.add(Dense(4, activation='softmax'))"
   ]
  },
  {
   "cell_type": "code",
   "execution_count": 42,
   "metadata": {},
   "outputs": [
    {
     "name": "stdout",
     "output_type": "stream",
     "text": [
      "Epoch 1/95\n",
      "8/8 [==============================] - 1s 28ms/step - loss: 1.3577 - accuracy: 0.4194 - val_loss: 1.2760 - val_accuracy: 0.5000\n",
      "Epoch 2/95\n",
      "8/8 [==============================] - 0s 5ms/step - loss: 1.2686 - accuracy: 0.4194 - val_loss: 1.2345 - val_accuracy: 0.5000\n",
      "Epoch 3/95\n",
      "8/8 [==============================] - 0s 5ms/step - loss: 1.2128 - accuracy: 0.4194 - val_loss: 1.2423 - val_accuracy: 0.5000\n",
      "Epoch 4/95\n",
      "8/8 [==============================] - 0s 5ms/step - loss: 1.2205 - accuracy: 0.4194 - val_loss: 1.2422 - val_accuracy: 0.5000\n",
      "Epoch 5/95\n",
      "8/8 [==============================] - 0s 5ms/step - loss: 1.1956 - accuracy: 0.5161 - val_loss: 1.2417 - val_accuracy: 0.6250\n",
      "Epoch 6/95\n",
      "8/8 [==============================] - 0s 5ms/step - loss: 1.1815 - accuracy: 0.5806 - val_loss: 1.2397 - val_accuracy: 0.6250\n",
      "Epoch 7/95\n",
      "8/8 [==============================] - 0s 5ms/step - loss: 1.1684 - accuracy: 0.5806 - val_loss: 1.2232 - val_accuracy: 0.6250\n",
      "Epoch 8/95\n",
      "8/8 [==============================] - 0s 5ms/step - loss: 1.1612 - accuracy: 0.4516 - val_loss: 1.2150 - val_accuracy: 0.6250\n",
      "Epoch 9/95\n",
      "8/8 [==============================] - 0s 5ms/step - loss: 1.1463 - accuracy: 0.6129 - val_loss: 1.2246 - val_accuracy: 0.6250\n",
      "Epoch 10/95\n",
      "8/8 [==============================] - 0s 5ms/step - loss: 1.1283 - accuracy: 0.5806 - val_loss: 1.1610 - val_accuracy: 0.6250\n",
      "Epoch 11/95\n",
      "8/8 [==============================] - 0s 6ms/step - loss: 1.1054 - accuracy: 0.6774 - val_loss: 1.1803 - val_accuracy: 0.6250\n",
      "Epoch 12/95\n",
      "8/8 [==============================] - 0s 5ms/step - loss: 1.0753 - accuracy: 0.5806 - val_loss: 1.1300 - val_accuracy: 0.6250\n",
      "Epoch 13/95\n",
      "8/8 [==============================] - 0s 5ms/step - loss: 1.0742 - accuracy: 0.5484 - val_loss: 1.1946 - val_accuracy: 0.3750\n",
      "Epoch 14/95\n",
      "8/8 [==============================] - 0s 5ms/step - loss: 0.9700 - accuracy: 0.6129 - val_loss: 1.1127 - val_accuracy: 0.6250\n",
      "Epoch 15/95\n",
      "8/8 [==============================] - 0s 11ms/step - loss: 0.9752 - accuracy: 0.6129 - val_loss: 1.1060 - val_accuracy: 0.6250\n",
      "Epoch 16/95\n",
      "8/8 [==============================] - 0s 5ms/step - loss: 0.9278 - accuracy: 0.6774 - val_loss: 1.0936 - val_accuracy: 0.6250\n",
      "Epoch 17/95\n",
      "8/8 [==============================] - 0s 5ms/step - loss: 0.9227 - accuracy: 0.6129 - val_loss: 1.0797 - val_accuracy: 0.6250\n",
      "Epoch 18/95\n",
      "8/8 [==============================] - 0s 5ms/step - loss: 0.9386 - accuracy: 0.6129 - val_loss: 1.0920 - val_accuracy: 0.6250\n",
      "Epoch 19/95\n",
      "8/8 [==============================] - 0s 5ms/step - loss: 0.8579 - accuracy: 0.6452 - val_loss: 1.0850 - val_accuracy: 0.6250\n",
      "Epoch 20/95\n",
      "8/8 [==============================] - 0s 5ms/step - loss: 0.8334 - accuracy: 0.6452 - val_loss: 1.0994 - val_accuracy: 0.6250\n",
      "Epoch 21/95\n",
      "8/8 [==============================] - 0s 5ms/step - loss: 0.8301 - accuracy: 0.6774 - val_loss: 1.0691 - val_accuracy: 0.6250\n",
      "Epoch 22/95\n",
      "8/8 [==============================] - 0s 5ms/step - loss: 0.8000 - accuracy: 0.6774 - val_loss: 1.0694 - val_accuracy: 0.6250\n",
      "Epoch 23/95\n",
      "8/8 [==============================] - 0s 5ms/step - loss: 0.7923 - accuracy: 0.6774 - val_loss: 1.1237 - val_accuracy: 0.3750\n",
      "Epoch 24/95\n",
      "8/8 [==============================] - 0s 5ms/step - loss: 0.8100 - accuracy: 0.7097 - val_loss: 1.0826 - val_accuracy: 0.6250\n",
      "Epoch 25/95\n",
      "8/8 [==============================] - 0s 5ms/step - loss: 0.8044 - accuracy: 0.6452 - val_loss: 1.0948 - val_accuracy: 0.6250\n",
      "Epoch 26/95\n",
      "8/8 [==============================] - 0s 5ms/step - loss: 0.8111 - accuracy: 0.6129 - val_loss: 1.1012 - val_accuracy: 0.5000\n",
      "Epoch 27/95\n",
      "8/8 [==============================] - 0s 5ms/step - loss: 0.7638 - accuracy: 0.6774 - val_loss: 1.0882 - val_accuracy: 0.6250\n",
      "Epoch 28/95\n",
      "8/8 [==============================] - 0s 5ms/step - loss: 0.7707 - accuracy: 0.6774 - val_loss: 1.0953 - val_accuracy: 0.6250\n",
      "Epoch 29/95\n",
      "8/8 [==============================] - 0s 5ms/step - loss: 0.7871 - accuracy: 0.6774 - val_loss: 1.1174 - val_accuracy: 0.5000\n",
      "Epoch 30/95\n",
      "8/8 [==============================] - 0s 5ms/step - loss: 0.7865 - accuracy: 0.6774 - val_loss: 1.1254 - val_accuracy: 0.6250\n",
      "Epoch 31/95\n",
      "8/8 [==============================] - 0s 5ms/step - loss: 0.7391 - accuracy: 0.7097 - val_loss: 1.1128 - val_accuracy: 0.6250\n",
      "Epoch 32/95\n",
      "8/8 [==============================] - 0s 6ms/step - loss: 0.7175 - accuracy: 0.6774 - val_loss: 1.1554 - val_accuracy: 0.5000\n",
      "Epoch 33/95\n",
      "8/8 [==============================] - 0s 5ms/step - loss: 0.7691 - accuracy: 0.6452 - val_loss: 1.1283 - val_accuracy: 0.6250\n",
      "Epoch 34/95\n",
      "8/8 [==============================] - 0s 6ms/step - loss: 0.7356 - accuracy: 0.6774 - val_loss: 1.1391 - val_accuracy: 0.6250\n",
      "Epoch 35/95\n",
      "8/8 [==============================] - 0s 5ms/step - loss: 0.7954 - accuracy: 0.6452 - val_loss: 1.1372 - val_accuracy: 0.6250\n",
      "Epoch 36/95\n",
      "8/8 [==============================] - 0s 5ms/step - loss: 0.7605 - accuracy: 0.6774 - val_loss: 1.1504 - val_accuracy: 0.5000\n",
      "Epoch 37/95\n",
      "8/8 [==============================] - 0s 5ms/step - loss: 0.7340 - accuracy: 0.7097 - val_loss: 1.1479 - val_accuracy: 0.6250\n",
      "Epoch 38/95\n",
      "8/8 [==============================] - 0s 5ms/step - loss: 0.7170 - accuracy: 0.6774 - val_loss: 1.1531 - val_accuracy: 0.6250\n",
      "Epoch 39/95\n",
      "8/8 [==============================] - 0s 5ms/step - loss: 0.7059 - accuracy: 0.6774 - val_loss: 1.1565 - val_accuracy: 0.7500\n",
      "Epoch 40/95\n",
      "8/8 [==============================] - 0s 5ms/step - loss: 0.7037 - accuracy: 0.6774 - val_loss: 1.1912 - val_accuracy: 0.5000\n",
      "Epoch 41/95\n",
      "8/8 [==============================] - 0s 5ms/step - loss: 0.7212 - accuracy: 0.7419 - val_loss: 1.1711 - val_accuracy: 0.6250\n",
      "Epoch 42/95\n",
      "8/8 [==============================] - 0s 5ms/step - loss: 0.7072 - accuracy: 0.6774 - val_loss: 1.2169 - val_accuracy: 0.5000\n",
      "Epoch 43/95\n",
      "8/8 [==============================] - 0s 5ms/step - loss: 0.6882 - accuracy: 0.7419 - val_loss: 1.1886 - val_accuracy: 0.6250\n",
      "Epoch 44/95\n",
      "8/8 [==============================] - 0s 5ms/step - loss: 0.7085 - accuracy: 0.6774 - val_loss: 1.2089 - val_accuracy: 0.5000\n",
      "Epoch 45/95\n",
      "8/8 [==============================] - 0s 5ms/step - loss: 0.7086 - accuracy: 0.7419 - val_loss: 1.1998 - val_accuracy: 0.6250\n",
      "Epoch 46/95\n",
      "8/8 [==============================] - 0s 5ms/step - loss: 0.7246 - accuracy: 0.6129 - val_loss: 1.1961 - val_accuracy: 0.6250\n",
      "Epoch 47/95\n",
      "8/8 [==============================] - 0s 5ms/step - loss: 0.6883 - accuracy: 0.6774 - val_loss: 1.1928 - val_accuracy: 0.6250\n",
      "Epoch 48/95\n",
      "8/8 [==============================] - 0s 6ms/step - loss: 0.6830 - accuracy: 0.7097 - val_loss: 1.2337 - val_accuracy: 0.3750\n",
      "Epoch 49/95\n",
      "8/8 [==============================] - 0s 5ms/step - loss: 0.6926 - accuracy: 0.6774 - val_loss: 1.2196 - val_accuracy: 0.5000\n",
      "Epoch 50/95\n",
      "8/8 [==============================] - 0s 5ms/step - loss: 0.6983 - accuracy: 0.7742 - val_loss: 1.2138 - val_accuracy: 0.6250\n",
      "Epoch 51/95\n",
      "8/8 [==============================] - 0s 5ms/step - loss: 0.6791 - accuracy: 0.7419 - val_loss: 1.2318 - val_accuracy: 0.5000\n",
      "Epoch 52/95\n",
      "8/8 [==============================] - 0s 5ms/step - loss: 0.6909 - accuracy: 0.7419 - val_loss: 1.2222 - val_accuracy: 0.7500\n",
      "Epoch 53/95\n",
      "8/8 [==============================] - 0s 5ms/step - loss: 0.7130 - accuracy: 0.6129 - val_loss: 1.2664 - val_accuracy: 0.5000\n",
      "Epoch 54/95\n",
      "8/8 [==============================] - 0s 5ms/step - loss: 0.7134 - accuracy: 0.7742 - val_loss: 1.2415 - val_accuracy: 0.6250\n",
      "Epoch 55/95\n",
      "8/8 [==============================] - 0s 5ms/step - loss: 0.6643 - accuracy: 0.7097 - val_loss: 1.2633 - val_accuracy: 0.5000\n",
      "Epoch 56/95\n",
      "8/8 [==============================] - 0s 5ms/step - loss: 0.6633 - accuracy: 0.7097 - val_loss: 1.2584 - val_accuracy: 0.5000\n",
      "Epoch 57/95\n",
      "8/8 [==============================] - 0s 5ms/step - loss: 0.7165 - accuracy: 0.7419 - val_loss: 1.2638 - val_accuracy: 0.5000\n",
      "Epoch 58/95\n",
      "8/8 [==============================] - 0s 5ms/step - loss: 0.6833 - accuracy: 0.6774 - val_loss: 1.2787 - val_accuracy: 0.5000\n",
      "Epoch 59/95\n",
      "8/8 [==============================] - 0s 5ms/step - loss: 0.8034 - accuracy: 0.6129 - val_loss: 1.2389 - val_accuracy: 0.6250\n",
      "Epoch 60/95\n",
      "8/8 [==============================] - 0s 5ms/step - loss: 0.7012 - accuracy: 0.7097 - val_loss: 1.2620 - val_accuracy: 0.6250\n",
      "Epoch 61/95\n",
      "8/8 [==============================] - 0s 5ms/step - loss: 0.6795 - accuracy: 0.6774 - val_loss: 1.3020 - val_accuracy: 0.3750\n",
      "Epoch 62/95\n",
      "8/8 [==============================] - 0s 5ms/step - loss: 0.6502 - accuracy: 0.6774 - val_loss: 1.2569 - val_accuracy: 0.6250\n",
      "Epoch 63/95\n",
      "8/8 [==============================] - 0s 5ms/step - loss: 0.6669 - accuracy: 0.8065 - val_loss: 1.2579 - val_accuracy: 0.6250\n",
      "Epoch 64/95\n",
      "8/8 [==============================] - 0s 5ms/step - loss: 0.6636 - accuracy: 0.6774 - val_loss: 1.3760 - val_accuracy: 0.3750\n",
      "Epoch 65/95\n",
      "8/8 [==============================] - 0s 5ms/step - loss: 0.6754 - accuracy: 0.6774 - val_loss: 1.2821 - val_accuracy: 0.6250\n",
      "Epoch 66/95\n",
      "8/8 [==============================] - 0s 5ms/step - loss: 0.6591 - accuracy: 0.7742 - val_loss: 1.4219 - val_accuracy: 0.3750\n",
      "Epoch 67/95\n",
      "8/8 [==============================] - 0s 5ms/step - loss: 0.7114 - accuracy: 0.6452 - val_loss: 1.2844 - val_accuracy: 0.6250\n",
      "Epoch 68/95\n",
      "8/8 [==============================] - 0s 5ms/step - loss: 0.6867 - accuracy: 0.7742 - val_loss: 1.3066 - val_accuracy: 0.5000\n",
      "Epoch 69/95\n",
      "8/8 [==============================] - 0s 5ms/step - loss: 0.6633 - accuracy: 0.7419 - val_loss: 1.3470 - val_accuracy: 0.5000\n",
      "Epoch 70/95\n",
      "8/8 [==============================] - 0s 5ms/step - loss: 0.6472 - accuracy: 0.7097 - val_loss: 1.2912 - val_accuracy: 0.6250\n",
      "Epoch 71/95\n",
      "8/8 [==============================] - 0s 5ms/step - loss: 0.6317 - accuracy: 0.7419 - val_loss: 1.3027 - val_accuracy: 0.7500\n",
      "Epoch 72/95\n",
      "8/8 [==============================] - 0s 5ms/step - loss: 0.6705 - accuracy: 0.7742 - val_loss: 1.3356 - val_accuracy: 0.5000\n",
      "Epoch 73/95\n",
      "8/8 [==============================] - 0s 5ms/step - loss: 0.6841 - accuracy: 0.6129 - val_loss: 1.3223 - val_accuracy: 0.5000\n",
      "Epoch 74/95\n",
      "8/8 [==============================] - 0s 5ms/step - loss: 0.6532 - accuracy: 0.8065 - val_loss: 1.3072 - val_accuracy: 0.7500\n",
      "Epoch 75/95\n",
      "8/8 [==============================] - 0s 5ms/step - loss: 0.6651 - accuracy: 0.7419 - val_loss: 1.3210 - val_accuracy: 0.5000\n",
      "Epoch 76/95\n",
      "8/8 [==============================] - 0s 5ms/step - loss: 0.6878 - accuracy: 0.7097 - val_loss: 1.2898 - val_accuracy: 0.6250\n",
      "Epoch 77/95\n",
      "8/8 [==============================] - 0s 5ms/step - loss: 0.6423 - accuracy: 0.7097 - val_loss: 1.3457 - val_accuracy: 0.5000\n",
      "Epoch 78/95\n",
      "8/8 [==============================] - 0s 5ms/step - loss: 0.6496 - accuracy: 0.6774 - val_loss: 1.3162 - val_accuracy: 0.6250\n",
      "Epoch 79/95\n",
      "8/8 [==============================] - 0s 5ms/step - loss: 0.6615 - accuracy: 0.7097 - val_loss: 1.3631 - val_accuracy: 0.5000\n",
      "Epoch 80/95\n",
      "8/8 [==============================] - 0s 5ms/step - loss: 0.6609 - accuracy: 0.7742 - val_loss: 1.3340 - val_accuracy: 0.6250\n",
      "Epoch 81/95\n",
      "8/8 [==============================] - 0s 5ms/step - loss: 0.6418 - accuracy: 0.7742 - val_loss: 1.4101 - val_accuracy: 0.5000\n",
      "Epoch 82/95\n",
      "8/8 [==============================] - 0s 5ms/step - loss: 0.6319 - accuracy: 0.6452 - val_loss: 1.3346 - val_accuracy: 0.6250\n",
      "Epoch 83/95\n",
      "8/8 [==============================] - 0s 5ms/step - loss: 0.6538 - accuracy: 0.8065 - val_loss: 1.3336 - val_accuracy: 0.5000\n",
      "Epoch 84/95\n",
      "8/8 [==============================] - 0s 5ms/step - loss: 0.6687 - accuracy: 0.7419 - val_loss: 1.3421 - val_accuracy: 0.5000\n",
      "Epoch 85/95\n",
      "8/8 [==============================] - 0s 5ms/step - loss: 0.6287 - accuracy: 0.7419 - val_loss: 1.3322 - val_accuracy: 0.6250\n",
      "Epoch 86/95\n",
      "8/8 [==============================] - 0s 5ms/step - loss: 0.6684 - accuracy: 0.7742 - val_loss: 1.3538 - val_accuracy: 0.6250\n",
      "Epoch 87/95\n",
      "8/8 [==============================] - 0s 5ms/step - loss: 0.6334 - accuracy: 0.8065 - val_loss: 1.3558 - val_accuracy: 0.5000\n",
      "Epoch 88/95\n",
      "8/8 [==============================] - 0s 5ms/step - loss: 0.6596 - accuracy: 0.6452 - val_loss: 1.3358 - val_accuracy: 0.6250\n",
      "Epoch 89/95\n",
      "8/8 [==============================] - 0s 5ms/step - loss: 0.6893 - accuracy: 0.6129 - val_loss: 1.3605 - val_accuracy: 0.5000\n",
      "Epoch 90/95\n",
      "8/8 [==============================] - 0s 5ms/step - loss: 0.7158 - accuracy: 0.7742 - val_loss: 1.3573 - val_accuracy: 0.6250\n",
      "Epoch 91/95\n",
      "8/8 [==============================] - 0s 5ms/step - loss: 0.6549 - accuracy: 0.6452 - val_loss: 1.3873 - val_accuracy: 0.5000\n",
      "Epoch 92/95\n",
      "8/8 [==============================] - 0s 5ms/step - loss: 0.6377 - accuracy: 0.7419 - val_loss: 1.3375 - val_accuracy: 0.6250\n",
      "Epoch 93/95\n",
      "8/8 [==============================] - 0s 5ms/step - loss: 0.6450 - accuracy: 0.7097 - val_loss: 1.3716 - val_accuracy: 0.5000\n",
      "Epoch 94/95\n",
      "8/8 [==============================] - 0s 5ms/step - loss: 0.6258 - accuracy: 0.7419 - val_loss: 1.3424 - val_accuracy: 0.6250\n",
      "Epoch 95/95\n",
      "8/8 [==============================] - 0s 5ms/step - loss: 0.6661 - accuracy: 0.7097 - val_loss: 1.3537 - val_accuracy: 0.6250\n"
     ]
    }
   ],
   "source": [
    "#opti = keras.optimizers.experimental.SGD(learning_rate=0.01)\n",
    "opti = keras.optimizers.Adam(learning_rate=0.007)\n",
    "lp3_SNN_model.compile(optimizer=opti, loss='sparse_categorical_crossentropy', metrics=[\"accuracy\"])\n",
    "history = lp3_SNN_model.fit(X, Y, batch_size=4, epochs=95, validation_data = (xd, yd))"
   ]
  },
  {
   "attachments": {},
   "cell_type": "markdown",
   "metadata": {},
   "source": [
    "Plotting loss vs epoch"
   ]
  },
  {
   "cell_type": "code",
   "execution_count": 43,
   "metadata": {},
   "outputs": [
    {
     "data": {
      "image/png": "[encoded data removed]",
      "text/plain": [
       "<Figure size 432x288 with 1 Axes>"
      ]
     },
     "metadata": {
      "needs_background": "light"
     },
     "output_type": "display_data"
    },
    {
     "data": {
      "image/png": "[encoded data removed]",
      "text/plain": [
       "<Figure size 432x288 with 1 Axes>"
      ]
     },
     "metadata": {
      "needs_background": "light"
     },
     "output_type": "display_data"
    }
   ],
   "source": [
    "plt.plot(history.history['loss'])\n",
    "plt.plot(history.history['val_loss'])\n",
    "plt.title('Model loss')\n",
    "plt.ylabel('loss')\n",
    "plt.xlabel('epoch')\n",
    "plt.legend(['train', 'dev'], loc='upper right')\n",
    "plt.show()\n",
    "plt.plot(history.history['accuracy'])\n",
    "plt.plot(history.history['val_accuracy'])\n",
    "plt.title('Model accuracy')\n",
    "plt.ylabel('accuracy')\n",
    "plt.xlabel('epoch')\n",
    "plt.legend(['train', 'dev'], loc='upper right')\n",
    "plt.show()"
   ]
  },
  {
   "cell_type": "code",
   "execution_count": 44,
   "metadata": {},
   "outputs": [
    {
     "name": "stdout",
     "output_type": "stream",
     "text": [
      "Model: \"sequential\"\n",
      "_________________________________________________________________\n",
      " Layer (type)                Output Shape              Param #   \n",
      "=================================================================\n",
      " dense (Dense)               (None, 2)                 6         \n",
      "                                                                 \n",
      " dense_1 (Dense)             (None, 100)               300       \n",
      "                                                                 \n",
      " dense_2 (Dense)             (None, 4)                 404       \n",
      "                                                                 \n",
      "=================================================================\n",
      "Total params: 710\n",
      "Trainable params: 710\n",
      "Non-trainable params: 0\n",
      "_________________________________________________________________\n"
     ]
    }
   ],
   "source": [
    "lp3_SNN_model.summary()"
   ]
  },
  {
   "cell_type": "code",
   "execution_count": 45,
   "metadata": {},
   "outputs": [
    {
     "name": "stdout",
     "output_type": "stream",
     "text": [
      "1/1 [==============================] - 0s 91ms/step\n",
      "Confusion Matrix:\n",
      " [[3 0 0 0]\n",
      " [1 0 1 0]\n",
      " [0 0 3 0]\n",
      " [0 0 0 0]]\n",
      "\n",
      "Precision Score: [0.75 0.   0.75]\n",
      "Recall Score: [1. 0. 1.]\n",
      "F1 Score: [0.85714286 0.         0.85714286]\n"
     ]
    }
   ],
   "source": [
    "pred = lp3_SNN_model.predict(X_test)\n",
    "# #print(pred*100)\n",
    "pred_class = np.argmax(pred, axis=1)\n",
    "# #print(pred_class)\n",
    "# acc_score_SNN = accuracy_score(Y_test, pred_class)\n",
    "# print(acc_score_SNN)\n",
    "confMat = confusion_matrix(Y_test, pred_class, labels=[0,1,2,3])\n",
    "print(\"Confusion Matrix:\\n\",confMat)\n",
    "prec_SNN = precision_score(Y_test, pred_class, average=None, zero_division=0)\n",
    "print(\"\\nPrecision Score:\",prec_SNN)\n",
    "Rec_SNN = recall_score(Y_test, pred_class, average=None, zero_division=0)\n",
    "print(\"Recall Score:\",Rec_SNN)\n",
    "f1_SNN = f1_score(Y_test, pred_class, average=None, zero_division=0)\n",
    "print(\"F1 Score:\",f1_SNN)"
   ]
  },
  {
   "cell_type": "code",
   "execution_count": 46,
   "metadata": {},
   "outputs": [
    {
     "name": "stdout",
     "output_type": "stream",
     "text": [
      "['loss', 'accuracy']\n",
      "1/1 [==============================] - 0s 129ms/step - loss: 0.7147 - accuracy: 0.7500\n",
      "[0.7146539092063904, 0.75]\n"
     ]
    }
   ],
   "source": [
    "print(lp3_SNN_model.metrics_names)\n",
    "test_accuracy = lp3_SNN_model.evaluate(X_test, Y_test)\n",
    "print(test_accuracy)"
   ]
  },
  {
   "cell_type": "code",
   "execution_count": 47,
   "metadata": {},
   "outputs": [],
   "source": [
    "acc.loc[len(acc.index)] = ['ANN', ((history.history['accuracy'][-1])),((history.history['val_accuracy'][-1])), test_accuracy[1], prec_SNN.mean(), Rec_SNN.mean(), f1_SNN.mean()] "
   ]
  },
  {
   "attachments": {},
   "cell_type": "markdown",
   "metadata": {},
   "source": [
    "Exporting the model and weights"
   ]
  },
  {
   "cell_type": "code",
   "execution_count": 48,
   "metadata": {},
   "outputs": [],
   "source": [
    "# lp3_SNN_model.save('exports/lp3_SNN_Export')\n",
    "# lp3_SNN_model.save_weights('exports/lp3_SNNWeights_Export')"
   ]
  },
  {
   "attachments": {},
   "cell_type": "markdown",
   "metadata": {},
   "source": [
    "Overall parameters"
   ]
  },
  {
   "cell_type": "code",
   "execution_count": 49,
   "metadata": {},
   "outputs": [
    {
     "data": {
      "text/html": [
       "<div>\n",
       "<style scoped>\n",
       "    .dataframe tbody tr th:only-of-type {\n",
       "        vertical-align: middle;\n",
       "    }\n",
       "\n",
       "    .dataframe tbody tr th {\n",
       "        vertical-align: top;\n",
       "    }\n",
       "\n",
       "    .dataframe thead th {\n",
       "        text-align: right;\n",
       "    }\n",
       "</style>\n",
       "<table border=\"1\" class=\"dataframe\">\n",
       "  <thead>\n",
       "    <tr style=\"text-align: right;\">\n",
       "      <th></th>\n",
       "      <th>Model</th>\n",
       "      <th>Train</th>\n",
       "      <th>Dev</th>\n",
       "      <th>Test</th>\n",
       "      <th>Precision Score</th>\n",
       "      <th>Recall Score</th>\n",
       "      <th>F1 Score</th>\n",
       "    </tr>\n",
       "  </thead>\n",
       "  <tbody>\n",
       "    <tr>\n",
       "      <th>0</th>\n",
       "      <td>Decision Tree</td>\n",
       "      <td>0.875180</td>\n",
       "      <td>0.754545</td>\n",
       "      <td>0.733333</td>\n",
       "      <td>0.472222</td>\n",
       "      <td>0.541667</td>\n",
       "      <td>0.501961</td>\n",
       "    </tr>\n",
       "    <tr>\n",
       "      <th>1</th>\n",
       "      <td>Random Forest</td>\n",
       "      <td>0.875180</td>\n",
       "      <td>0.751515</td>\n",
       "      <td>0.733333</td>\n",
       "      <td>0.472222</td>\n",
       "      <td>0.541667</td>\n",
       "      <td>0.501961</td>\n",
       "    </tr>\n",
       "    <tr>\n",
       "      <th>2</th>\n",
       "      <td>SVM</td>\n",
       "      <td>0.734488</td>\n",
       "      <td>0.721212</td>\n",
       "      <td>0.600000</td>\n",
       "      <td>0.244318</td>\n",
       "      <td>0.375000</td>\n",
       "      <td>0.293860</td>\n",
       "    </tr>\n",
       "    <tr>\n",
       "      <th>3</th>\n",
       "      <td>Gaussian Naive Bayes</td>\n",
       "      <td>0.782107</td>\n",
       "      <td>0.751515</td>\n",
       "      <td>0.800000</td>\n",
       "      <td>0.525000</td>\n",
       "      <td>0.625000</td>\n",
       "      <td>0.562500</td>\n",
       "    </tr>\n",
       "    <tr>\n",
       "      <th>4</th>\n",
       "      <td>ANN</td>\n",
       "      <td>0.709677</td>\n",
       "      <td>0.625000</td>\n",
       "      <td>0.750000</td>\n",
       "      <td>0.500000</td>\n",
       "      <td>0.666667</td>\n",
       "      <td>0.571429</td>\n",
       "    </tr>\n",
       "  </tbody>\n",
       "</table>\n",
       "</div>"
      ],
      "text/plain": [
       "                  Model     Train       Dev      Test  Precision Score  \\\n",
       "0         Decision Tree  0.875180  0.754545  0.733333         0.472222   \n",
       "1         Random Forest  0.875180  0.751515  0.733333         0.472222   \n",
       "2                   SVM  0.734488  0.721212  0.600000         0.244318   \n",
       "3  Gaussian Naive Bayes  0.782107  0.751515  0.800000         0.525000   \n",
       "4                   ANN  0.709677  0.625000  0.750000         0.500000   \n",
       "\n",
       "   Recall Score  F1 Score  \n",
       "0      0.541667  0.501961  \n",
       "1      0.541667  0.501961  \n",
       "2      0.375000  0.293860  \n",
       "3      0.625000  0.562500  \n",
       "4      0.666667  0.571429  "
      ]
     },
     "execution_count": 49,
     "metadata": {},
     "output_type": "execute_result"
    }
   ],
   "source": [
    "acc"
   ]
  }
 ],
 "metadata": {
  "kernelspec": {
   "display_name": "Python 3",
   "language": "python",
   "name": "python3"
  },
  "language_info": {
   "codemirror_mode": {
    "name": "ipython",
    "version": 3
   },
   "file_extension": ".py",
   "mimetype": "text/x-python",
   "name": "python",
   "nbconvert_exporter": "python",
   "pygments_lexer": "ipython3",
   "version": "3.10.5"
  },
  "orig_nbformat": 4,
  "vscode": {
   "interpreter": {
    "hash": "cf2d32023d47a0ae6c67322ace2959f21890c49a1554fe001e59942aa2e6c9ed"
   }
  }
 },
 "nbformat": 4,
 "nbformat_minor": 2
}
