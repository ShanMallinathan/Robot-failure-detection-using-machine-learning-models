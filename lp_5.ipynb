{
 "cells": [
  {
   "cell_type": "code",
   "execution_count": 1,
   "metadata": {},
   "outputs": [],
   "source": [
    "import pandas as pd\n",
    "import numpy as np\n",
    "import math \n",
    "import matplotlib.pyplot as plt\n",
    "import seaborn as sns\n",
    "import plotly.express as plty"
   ]
  },
  {
   "attachments": {},
   "cell_type": "markdown",
   "metadata": {},
   "source": [
    "The following code blocks helps to import the csv files saved"
   ]
  },
  {
   "cell_type": "code",
   "execution_count": 2,
   "metadata": {},
   "outputs": [],
   "source": [
    "#X\n",
    "X_lp5 = pd.read_csv(\"Data_files\\X\\X_lp5.csv\").dropna()"
   ]
  },
  {
   "cell_type": "code",
   "execution_count": 3,
   "metadata": {},
   "outputs": [],
   "source": [
    "#Y\n",
    "Y_lp5 = pd.read_csv(\"Data_files\\Y\\Y_lp5.csv\")"
   ]
  },
  {
   "attachments": {},
   "cell_type": "markdown",
   "metadata": {},
   "source": [
    "The next step is to find the corelation.\n",
    "A benchmark of 80 percent is kept in order to eliminate corelated variables since the dataset is small"
   ]
  },
  {
   "cell_type": "code",
   "execution_count": 4,
   "metadata": {},
   "outputs": [
    {
     "data": {
      "text/html": [
       "<div>\n",
       "<style scoped>\n",
       "    .dataframe tbody tr th:only-of-type {\n",
       "        vertical-align: middle;\n",
       "    }\n",
       "\n",
       "    .dataframe tbody tr th {\n",
       "        vertical-align: top;\n",
       "    }\n",
       "\n",
       "    .dataframe thead th {\n",
       "        text-align: right;\n",
       "    }\n",
       "</style>\n",
       "<table border=\"1\" class=\"dataframe\">\n",
       "  <thead>\n",
       "    <tr style=\"text-align: right;\">\n",
       "      <th></th>\n",
       "      <th>Fx_lp5</th>\n",
       "      <th>Fy_lp5</th>\n",
       "      <th>Fz_lp5</th>\n",
       "      <th>Tx_lp5</th>\n",
       "      <th>Ty_lp5</th>\n",
       "      <th>Tz_lp5</th>\n",
       "    </tr>\n",
       "  </thead>\n",
       "  <tbody>\n",
       "    <tr>\n",
       "      <th>Fx_lp5</th>\n",
       "      <td>1.000000</td>\n",
       "      <td>0.076592</td>\n",
       "      <td>-0.042929</td>\n",
       "      <td>0.306486</td>\n",
       "      <td>-0.063062</td>\n",
       "      <td>0.279654</td>\n",
       "    </tr>\n",
       "    <tr>\n",
       "      <th>Fy_lp5</th>\n",
       "      <td>0.076592</td>\n",
       "      <td>1.000000</td>\n",
       "      <td>0.582030</td>\n",
       "      <td>-0.046219</td>\n",
       "      <td>0.026881</td>\n",
       "      <td>0.195701</td>\n",
       "    </tr>\n",
       "    <tr>\n",
       "      <th>Fz_lp5</th>\n",
       "      <td>-0.042929</td>\n",
       "      <td>0.582030</td>\n",
       "      <td>1.000000</td>\n",
       "      <td>-0.230975</td>\n",
       "      <td>0.135385</td>\n",
       "      <td>0.043144</td>\n",
       "    </tr>\n",
       "    <tr>\n",
       "      <th>Tx_lp5</th>\n",
       "      <td>0.306486</td>\n",
       "      <td>-0.046219</td>\n",
       "      <td>-0.230975</td>\n",
       "      <td>1.000000</td>\n",
       "      <td>0.094246</td>\n",
       "      <td>0.204614</td>\n",
       "    </tr>\n",
       "    <tr>\n",
       "      <th>Ty_lp5</th>\n",
       "      <td>-0.063062</td>\n",
       "      <td>0.026881</td>\n",
       "      <td>0.135385</td>\n",
       "      <td>0.094246</td>\n",
       "      <td>1.000000</td>\n",
       "      <td>-0.170569</td>\n",
       "    </tr>\n",
       "    <tr>\n",
       "      <th>Tz_lp5</th>\n",
       "      <td>0.279654</td>\n",
       "      <td>0.195701</td>\n",
       "      <td>0.043144</td>\n",
       "      <td>0.204614</td>\n",
       "      <td>-0.170569</td>\n",
       "      <td>1.000000</td>\n",
       "    </tr>\n",
       "  </tbody>\n",
       "</table>\n",
       "</div>"
      ],
      "text/plain": [
       "          Fx_lp5    Fy_lp5    Fz_lp5    Tx_lp5    Ty_lp5    Tz_lp5\n",
       "Fx_lp5  1.000000  0.076592 -0.042929  0.306486 -0.063062  0.279654\n",
       "Fy_lp5  0.076592  1.000000  0.582030 -0.046219  0.026881  0.195701\n",
       "Fz_lp5 -0.042929  0.582030  1.000000 -0.230975  0.135385  0.043144\n",
       "Tx_lp5  0.306486 -0.046219 -0.230975  1.000000  0.094246  0.204614\n",
       "Ty_lp5 -0.063062  0.026881  0.135385  0.094246  1.000000 -0.170569\n",
       "Tz_lp5  0.279654  0.195701  0.043144  0.204614 -0.170569  1.000000"
      ]
     },
     "execution_count": 4,
     "metadata": {},
     "output_type": "execute_result"
    }
   ],
   "source": [
    "X_lp5.corr(method = 'pearson')"
   ]
  },
  {
   "attachments": {},
   "cell_type": "markdown",
   "metadata": {},
   "source": [
    "Since there is no corelation among variables in the datset, other analysis can be done"
   ]
  },
  {
   "attachments": {},
   "cell_type": "markdown",
   "metadata": {},
   "source": [
    "Adding 2 more rows of resultant force and torque using the formula.\n",
    "F= √(F_X^2+F_Y^2+ F_Z^2 ) and similarly for T"
   ]
  },
  {
   "cell_type": "code",
   "execution_count": 5,
   "metadata": {},
   "outputs": [],
   "source": [
    "X_lp5[\"F_lp5\"] = (X_lp5['Fx_lp5']**2 + X_lp5['Fy_lp5']**2 + X_lp5[\"Fz_lp5\"]**2)**0.5\n",
    "X_lp5[\"T_lp5\"] = (X_lp5[\"Tx_lp5\"]**2 + X_lp5[\"Ty_lp5\"]**2 + X_lp5[\"Tz_lp5\"]**2)**0.5"
   ]
  },
  {
   "attachments": {},
   "cell_type": "markdown",
   "metadata": {},
   "source": [
    "Applying Min-Max normalization for all the attributes"
   ]
  },
  {
   "cell_type": "code",
   "execution_count": 6,
   "metadata": {},
   "outputs": [],
   "source": [
    "X_lp5 = (X_lp5 - X_lp5.min())/(X_lp5.max() - X_lp5.min())"
   ]
  },
  {
   "cell_type": "code",
   "execution_count": 7,
   "metadata": {},
   "outputs": [
    {
     "data": {
      "text/html": [
       "<div>\n",
       "<style scoped>\n",
       "    .dataframe tbody tr th:only-of-type {\n",
       "        vertical-align: middle;\n",
       "    }\n",
       "\n",
       "    .dataframe tbody tr th {\n",
       "        vertical-align: top;\n",
       "    }\n",
       "\n",
       "    .dataframe thead th {\n",
       "        text-align: right;\n",
       "    }\n",
       "</style>\n",
       "<table border=\"1\" class=\"dataframe\">\n",
       "  <thead>\n",
       "    <tr style=\"text-align: right;\">\n",
       "      <th></th>\n",
       "      <th>Fx_lp5</th>\n",
       "      <th>Fy_lp5</th>\n",
       "      <th>Fz_lp5</th>\n",
       "      <th>Tx_lp5</th>\n",
       "      <th>Ty_lp5</th>\n",
       "      <th>Tz_lp5</th>\n",
       "      <th>F_lp5</th>\n",
       "      <th>T_lp5</th>\n",
       "    </tr>\n",
       "  </thead>\n",
       "  <tbody>\n",
       "    <tr>\n",
       "      <th>0</th>\n",
       "      <td>0.655019</td>\n",
       "      <td>0.464634</td>\n",
       "      <td>0.916481</td>\n",
       "      <td>0.447826</td>\n",
       "      <td>0.486158</td>\n",
       "      <td>0.504065</td>\n",
       "      <td>0.022004</td>\n",
       "      <td>0.003648</td>\n",
       "    </tr>\n",
       "    <tr>\n",
       "      <th>1</th>\n",
       "      <td>0.655019</td>\n",
       "      <td>0.464634</td>\n",
       "      <td>0.915985</td>\n",
       "      <td>0.447826</td>\n",
       "      <td>0.486833</td>\n",
       "      <td>0.504065</td>\n",
       "      <td>0.021454</td>\n",
       "      <td>0.002736</td>\n",
       "    </tr>\n",
       "    <tr>\n",
       "      <th>2</th>\n",
       "      <td>0.655019</td>\n",
       "      <td>0.464634</td>\n",
       "      <td>0.915985</td>\n",
       "      <td>0.447826</td>\n",
       "      <td>0.486833</td>\n",
       "      <td>0.504065</td>\n",
       "      <td>0.021454</td>\n",
       "      <td>0.002736</td>\n",
       "    </tr>\n",
       "    <tr>\n",
       "      <th>3</th>\n",
       "      <td>0.655019</td>\n",
       "      <td>0.464634</td>\n",
       "      <td>0.916233</td>\n",
       "      <td>0.447826</td>\n",
       "      <td>0.486833</td>\n",
       "      <td>0.504065</td>\n",
       "      <td>0.021729</td>\n",
       "      <td>0.002736</td>\n",
       "    </tr>\n",
       "    <tr>\n",
       "      <th>4</th>\n",
       "      <td>0.654275</td>\n",
       "      <td>0.464634</td>\n",
       "      <td>0.915985</td>\n",
       "      <td>0.448370</td>\n",
       "      <td>0.486158</td>\n",
       "      <td>0.506098</td>\n",
       "      <td>0.021463</td>\n",
       "      <td>0.003827</td>\n",
       "    </tr>\n",
       "  </tbody>\n",
       "</table>\n",
       "</div>"
      ],
      "text/plain": [
       "     Fx_lp5    Fy_lp5    Fz_lp5    Tx_lp5    Ty_lp5    Tz_lp5     F_lp5  \\\n",
       "0  0.655019  0.464634  0.916481  0.447826  0.486158  0.504065  0.022004   \n",
       "1  0.655019  0.464634  0.915985  0.447826  0.486833  0.504065  0.021454   \n",
       "2  0.655019  0.464634  0.915985  0.447826  0.486833  0.504065  0.021454   \n",
       "3  0.655019  0.464634  0.916233  0.447826  0.486833  0.504065  0.021729   \n",
       "4  0.654275  0.464634  0.915985  0.448370  0.486158  0.506098  0.021463   \n",
       "\n",
       "      T_lp5  \n",
       "0  0.003648  \n",
       "1  0.002736  \n",
       "2  0.002736  \n",
       "3  0.002736  \n",
       "4  0.003827  "
      ]
     },
     "execution_count": 7,
     "metadata": {},
     "output_type": "execute_result"
    }
   ],
   "source": [
    "X_lp5.head()"
   ]
  },
  {
   "attachments": {},
   "cell_type": "markdown",
   "metadata": {},
   "source": [
    "PCA on the resultant values"
   ]
  },
  {
   "cell_type": "code",
   "execution_count": 8,
   "metadata": {},
   "outputs": [
    {
     "name": "stdout",
     "output_type": "stream",
     "text": [
      "[0.88085862 0.11914138]\n"
     ]
    }
   ],
   "source": [
    "from sklearn.decomposition import PCA\n",
    "pca = PCA(n_components=2)\n",
    "pca.fit(X_lp5[[\"F_lp5\", \"T_lp5\"]])\n",
    "print(pca.explained_variance_ratio_)"
   ]
  },
  {
   "cell_type": "code",
   "execution_count": 9,
   "metadata": {},
   "outputs": [
    {
     "data": {
      "text/plain": [
       "<AxesSubplot:>"
      ]
     },
     "execution_count": 9,
     "metadata": {},
     "output_type": "execute_result"
    },
    {
     "data": {
      "image/png": "[encoded data removed]",
      "text/plain": [
       "<Figure size 432x288 with 2 Axes>"
      ]
     },
     "metadata": {
      "needs_background": "light"
     },
     "output_type": "display_data"
    }
   ],
   "source": [
    "sns.heatmap(X_lp5[[\"Fx_lp5\", \"Fy_lp5\", \"Fz_lp5\", \"Tx_lp5\", \"Ty_lp5\", \"Tz_lp5\"]].corr())"
   ]
  },
  {
   "attachments": {},
   "cell_type": "markdown",
   "metadata": {},
   "source": [
    "Converting the DF to numpy so as to convert it into 3d arrays and compute the average and overall force torque values\n",
    "Followed by reshaping it into 3d numpy arrays"
   ]
  },
  {
   "cell_type": "code",
   "execution_count": 10,
   "metadata": {},
   "outputs": [],
   "source": [
    "X_lp5_numpy = X_lp5.to_numpy()\n",
    "X_lp5_numpy = X_lp5_numpy.reshape(-1,15,8)"
   ]
  },
  {
   "cell_type": "code",
   "execution_count": 11,
   "metadata": {},
   "outputs": [
    {
     "name": "stdout",
     "output_type": "stream",
     "text": [
      "(164, 15, 8)\n",
      "[[[6.55018587e-01 4.64634146e-01 9.16480793e-01 ... 5.04065041e-01\n",
      "   2.20039576e-02 3.64770446e-03]\n",
      "  [6.55018587e-01 4.64634146e-01 9.15985130e-01 ... 5.04065041e-01\n",
      "   2.14542854e-02 2.73577835e-03]\n",
      "  [6.55018587e-01 4.64634146e-01 9.15985130e-01 ... 5.04065041e-01\n",
      "   2.14542854e-02 2.73577835e-03]\n",
      "  ...\n",
      "  [6.55018587e-01 4.64634146e-01 9.15737299e-01 ... 5.04065041e-01\n",
      "   2.11794535e-02 3.64770446e-03]\n",
      "  [6.54275093e-01 4.64634146e-01 9.16232962e-01 ... 5.06097561e-01\n",
      "   2.17377071e-02 2.95704873e-03]\n",
      "  [6.55018587e-01 4.64634146e-01 9.15985130e-01 ... 5.04065041e-01\n",
      "   2.14542854e-02 2.73577835e-03]]\n",
      "\n",
      " [[6.60966543e-01 4.64634146e-01 9.15985130e-01 ... 4.97967480e-01\n",
      "   2.15098768e-02 3.99894631e-03]\n",
      "  [6.87732342e-01 4.62195122e-01 9.16232962e-01 ... 5.10162602e-01\n",
      "   2.45812187e-02 4.77117828e-02]\n",
      "  [6.52788104e-01 4.70731707e-01 9.14745973e-01 ... 5.02032520e-01\n",
      "   2.01468941e-02 1.55533286e-02]\n",
      "  ...\n",
      "  [6.55762082e-01 4.59756098e-01 9.16232962e-01 ... 5.04065041e-01\n",
      "   2.17651629e-02 6.82602357e-03]\n",
      "  [6.53531599e-01 4.71951220e-01 9.15737299e-01 ... 4.95934959e-01\n",
      "   2.12427825e-02 1.46977346e-02]\n",
      "  [6.53531599e-01 4.67073171e-01 9.16232962e-01 ... 5.14227642e-01\n",
      "   2.17497232e-02 1.12546858e-02]]\n",
      "\n",
      " [[6.55018587e-01 4.58536585e-01 9.17472119e-01 ... 5.08130081e-01\n",
      "   2.31598502e-02 1.27669656e-02]\n",
      "  [6.56505576e-01 4.68292683e-01 9.14745973e-01 ... 5.04065041e-01\n",
      "   2.00782989e-02 5.53636529e-03]\n",
      "  [6.53531599e-01 4.59756098e-01 9.15241636e-01 ... 5.12195122e-01\n",
      "   2.06947874e-02 1.15250879e-02]\n",
      "  ...\n",
      "  [6.56505576e-01 4.54878049e-01 9.17967782e-01 ... 5.08130081e-01\n",
      "   2.37727841e-02 1.19200118e-02]\n",
      "  [6.52788104e-01 4.71951220e-01 9.13011152e-01 ... 5.18292683e-01\n",
      "   1.82485722e-02 2.13136423e-02]\n",
      "  [6.52044610e-01 4.53658537e-01 9.17719950e-01 ... 5.02032520e-01\n",
      "   2.35865972e-02 1.84973239e-02]]\n",
      "\n",
      " ...\n",
      "\n",
      " [[6.47583643e-01 4.86585366e-01 8.97149938e-01 ... 4.95934959e-01\n",
      "   5.50541088e-03 1.90048409e-02]\n",
      "  [6.47583643e-01 4.80487805e-01 8.99132590e-01 ... 4.95934959e-01\n",
      "   5.28544306e-03 1.82385223e-02]\n",
      "  [6.50557621e-01 4.69512195e-01 8.97893432e-01 ... 4.95934959e-01\n",
      "   2.59555012e-03 9.91659654e-03]\n",
      "  ...\n",
      "  [6.56505576e-01 4.67073171e-01 8.97149938e-01 ... 4.97967480e-01\n",
      "   5.94504006e-04 2.11259065e-03]\n",
      "  [6.57249071e-01 4.68292683e-01 8.98636927e-01 ... 4.95934959e-01\n",
      "   2.27477693e-03 3.64770446e-03]\n",
      "  [6.57249071e-01 4.68292683e-01 8.98636927e-01 ... 4.95934959e-01\n",
      "   2.27477693e-03 3.64770446e-03]]\n",
      "\n",
      " [[6.26022305e-01 4.91463415e-01 8.95167286e-01 ... 4.95934959e-01\n",
      "   1.24647608e-02 5.69504866e-02]\n",
      "  [6.32713755e-01 4.91463415e-01 8.94919455e-01 ... 4.95934959e-01\n",
      "   1.03771182e-02 4.61738492e-02]\n",
      "  [6.40892193e-01 4.80487805e-01 8.94919455e-01 ... 4.95934959e-01\n",
      "   6.57661120e-03 3.03207113e-02]\n",
      "  ...\n",
      "  [6.53531599e-01 4.70731707e-01 8.97149938e-01 ... 4.97967480e-01\n",
      "   1.48555343e-03 1.97183747e-03]\n",
      "  [6.53531599e-01 4.69512195e-01 8.96902107e-01 ... 4.97967480e-01\n",
      "   1.20567219e-03 3.36538651e-03]\n",
      "  [6.55018587e-01 4.69512195e-01 8.97645601e-01 ... 4.97967480e-01\n",
      "   1.41992163e-03 2.37607025e-03]]\n",
      "\n",
      " [[6.63197026e-01 4.53658537e-01 8.93680297e-01 ... 4.95934959e-01\n",
      "   4.50306374e-03 1.62458614e-02]\n",
      "  [6.60223048e-01 4.65853659e-01 8.97397770e-01 ... 4.95934959e-01\n",
      "   1.48555343e-03 6.44025728e-03]\n",
      "  [6.54275093e-01 4.73170732e-01 8.95910781e-01 ... 4.95934959e-01\n",
      "   1.64966050e-03 1.00311873e-02]\n",
      "  ...\n",
      "  [6.55762082e-01 4.67073171e-01 8.95662949e-01 ... 4.97967480e-01\n",
      "   6.36940733e-04 3.36538651e-03]\n",
      "  [6.56505576e-01 4.64634146e-01 8.95167286e-01 ... 4.97967480e-01\n",
      "   1.12699843e-03 2.11259065e-03]\n",
      "  [6.55762082e-01 4.67073171e-01 8.97397770e-01 ... 4.97967480e-01\n",
      "   8.91542707e-04 1.97183747e-03]]]\n"
     ]
    }
   ],
   "source": [
    "print(X_lp5_numpy.shape)\n",
    "print(X_lp5_numpy)"
   ]
  },
  {
   "attachments": {},
   "cell_type": "markdown",
   "metadata": {},
   "source": [
    "Taking the mean of all the 15 readings for all the 8 columns"
   ]
  },
  {
   "cell_type": "code",
   "execution_count": 12,
   "metadata": {},
   "outputs": [],
   "source": [
    "X_lp5_avg = np.mean(X_lp5_numpy, axis=1)"
   ]
  },
  {
   "attachments": {},
   "cell_type": "markdown",
   "metadata": {},
   "source": [
    "Converting to dataframes for better visualisation"
   ]
  },
  {
   "cell_type": "code",
   "execution_count": 13,
   "metadata": {},
   "outputs": [],
   "source": [
    "X_lp5_dfprime = pd.DataFrame(X_lp5_avg, columns=[\"Fx_lp5\", \"Fy_lp5\", \"Fz_lp5\", \"Tx_lp5\", \"Ty_lp5\", \"Tz_lp5\", \"F_lp5\", \"T_lp5\"])"
   ]
  },
  {
   "attachments": {},
   "cell_type": "markdown",
   "metadata": {},
   "source": [
    "Combining X and Y "
   ]
  },
  {
   "cell_type": "code",
   "execution_count": 14,
   "metadata": {},
   "outputs": [],
   "source": [
    "X_lp5_df = pd.concat([X_lp5_dfprime, Y_lp5], axis = 1)"
   ]
  },
  {
   "attachments": {},
   "cell_type": "markdown",
   "metadata": {},
   "source": [
    "X_lp5_df = "
   ]
  },
  {
   "cell_type": "code",
   "execution_count": 15,
   "metadata": {},
   "outputs": [
    {
     "name": "stdout",
     "output_type": "stream",
     "text": [
      "<class 'pandas.core.frame.DataFrame'>\n",
      "RangeIndex: 164 entries, 0 to 163\n",
      "Data columns (total 9 columns):\n",
      " #   Column  Non-Null Count  Dtype  \n",
      "---  ------  --------------  -----  \n",
      " 0   Fx_lp5  164 non-null    float64\n",
      " 1   Fy_lp5  164 non-null    float64\n",
      " 2   Fz_lp5  164 non-null    float64\n",
      " 3   Tx_lp5  164 non-null    float64\n",
      " 4   Ty_lp5  164 non-null    float64\n",
      " 5   Tz_lp5  164 non-null    float64\n",
      " 6   F_lp5   164 non-null    float64\n",
      " 7   T_lp5   164 non-null    float64\n",
      " 8   Y_lp5   164 non-null    float64\n",
      "dtypes: float64(9)\n",
      "memory usage: 11.7 KB\n",
      "None\n"
     ]
    }
   ],
   "source": [
    "print(X_lp5_df.info())"
   ]
  },
  {
   "cell_type": "code",
   "execution_count": 16,
   "metadata": {},
   "outputs": [
    {
     "name": "stdout",
     "output_type": "stream",
     "text": [
      "           Fx_lp5      Fy_lp5      Fz_lp5      Tx_lp5      Ty_lp5      Tz_lp5  \\\n",
      "count  164.000000  164.000000  164.000000  164.000000  164.000000  164.000000   \n",
      "mean     0.656566    0.457781    0.873563    0.448484    0.486105    0.497259   \n",
      "std      0.026381    0.038636    0.089228    0.019491    0.027771    0.022549   \n",
      "min      0.540570    0.152602    0.288790    0.372899    0.314607    0.360705   \n",
      "25%      0.653185    0.461118    0.890673    0.442627    0.477853    0.491023   \n",
      "50%      0.654994    0.464797    0.898397    0.447844    0.485933    0.498509   \n",
      "75%      0.658538    0.467805    0.915820    0.450290    0.493045    0.504505   \n",
      "max      0.784734    0.564553    0.921652    0.590145    0.629214    0.642547   \n",
      "\n",
      "            F_lp5       T_lp5       Y_lp5  \n",
      "count  164.000000  164.000000  164.000000  \n",
      "mean     0.042889    0.038716    1.908537  \n",
      "std      0.094862    0.048546    1.468750  \n",
      "min      0.001782    0.003021    0.000000  \n",
      "25%      0.004837    0.009541    0.000000  \n",
      "50%      0.014380    0.021681    2.000000  \n",
      "75%      0.023596    0.043550    3.000000  \n",
      "max      0.676966    0.281413    4.000000  \n"
     ]
    }
   ],
   "source": [
    "print(X_lp5_df.describe())"
   ]
  },
  {
   "attachments": {},
   "cell_type": "markdown",
   "metadata": {},
   "source": [
    "Now is that all the data are checked for null values (no null values present), now data is visualised using various tools"
   ]
  },
  {
   "attachments": {},
   "cell_type": "markdown",
   "metadata": {},
   "source": [
    "1. Scatter Plot (done on both decimal and log scale)"
   ]
  },
  {
   "attachments": {},
   "cell_type": "markdown",
   "metadata": {},
   "source": [
    "lp5"
   ]
  },
  {
   "cell_type": "code",
   "execution_count": 17,
   "metadata": {},
   "outputs": [
    {
     "data": {
      "application/vnd.plotly.v1+json": {
       "config": {
        "plotlyServerURL": "https://plot.ly"
       },
       "data": [
        {
         "hovertemplate": "variable=Fx_lp5<br>value=%{x}<br>index=%{y}<extra></extra>",
         "legendgroup": "Fx_lp5",
         "marker": {
          "color": "red",
          "symbol": "circle"
         },
         "mode": "markers",
         "name": "Fx_lp5",
         "orientation": "h",
         "showlegend": true,
         "type": "scatter",
         "x": [
          0.6549690210656753,
          0.6572986369268897,
          0.6542750929368031,
          0.6547707558859975,
          0.6550681536555143,
          0.6547211895910781,
          0.6543742255266419,
          0.6545229244114004,
          0.6541263940520445,
          0.6536307311028501,
          0.655365551425031,
          0.6553159851301114,
          0.6540768277571252,
          0.6550681536555142,
          0.6542255266418836,
          0.6546220570012391,
          0.6546220570012391,
          0.6540272614622058,
          0.6539776951672863,
          0.6544237918215613,
          0.6744981412639405,
          0.6646840148698885,
          0.6652788104089219,
          0.6501610904584882,
          0.6507558859975217,
          0.6564064436183394,
          0.6568029739776952,
          0.6534820322180916,
          0.6547707558859975,
          0.6512515489467162,
          0.6528376703841388,
          0.6578438661710038,
          0.6578438661710037,
          0.6688475836431227,
          0.6688475836431227,
          0.6469392812887237,
          0.6538785625774473,
          0.6555142503097893,
          0.6512515489467162,
          0.6494671623296158,
          0.6786617100371746,
          0.6613135068153656,
          0.6543246592317223,
          0.6547707558859975,
          0.653184634448575,
          0.653184634448575,
          0.6452044609665427,
          0.6550185873605947,
          0.6552168525402725,
          0.6550185873605947,
          0.6543246592317223,
          0.654919454770756,
          0.6549690210656753,
          0.6553655514250311,
          0.6549194547707557,
          0.656009913258984,
          0.6565055762081784,
          0.6566542750929367,
          0.6569516728624536,
          0.656654275092937,
          0.6566047087980174,
          0.6565551425030979,
          0.6557620817843867,
          0.654820322180917,
          0.6554646840148699,
          0.6535315985130111,
          0.6534324659231722,
          0.6538289962825279,
          0.6535315985130112,
          0.6533828996282528,
          0.6534820322180915,
          0.6566047087980175,
          0.6658736059479554,
          0.6611648079306072,
          0.6559603469640645,
          0.6547707558859976,
          0.650359355638166,
          0.6544237918215613,
          0.6512515489467163,
          0.6482280049566296,
          0.6680545229244115,
          0.6631474597273855,
          0.6572986369268897,
          0.6559603469640645,
          0.649714993804213,
          0.6528872366790581,
          0.6617596034696405,
          0.6537794299876083,
          0.6514002478314745,
          0.6458488228004956,
          0.6519454770755887,
          0.6566047087980175,
          0.6411400247831475,
          0.6544733581164809,
          0.6636926889714994,
          0.6662701363073109,
          0.6392069392812886,
          0.6491697645600991,
          0.6818339529120199,
          0.6373729863692688,
          0.5892936802973978,
          0.6549194547707559,
          0.5550929368029739,
          0.6168029739776951,
          0.6552168525402725,
          0.784733581164808,
          0.6673605947955391,
          0.664634448574969,
          0.7007682775712516,
          0.748004956629492,
          0.7477571251548947,
          0.6328624535315985,
          0.7180173482032219,
          0.6534820322180915,
          0.6618091697645601,
          0.6698389095415119,
          0.653085501858736,
          0.5818587360594798,
          0.6580421313506816,
          0.5601982651796777,
          0.650557620817844,
          0.6623048327137546,
          0.743543990086741,
          0.6567534076827758,
          0.7060718711276333,
          0.6555142503097893,
          0.5405700123915737,
          0.6477819083023545,
          0.650359355638166,
          0.6601734820322182,
          0.6604213135068153,
          0.6962081784386617,
          0.6831226765799255,
          0.722180916976456,
          0.6589838909541511,
          0.6467410161090458,
          0.655811648079306,
          0.6579925650557621,
          0.6573482032218093,
          0.6598760842627013,
          0.6599752168525402,
          0.6583890954151177,
          0.6646840148698885,
          0.5917719950433705,
          0.6530359355638166,
          0.6197769516728625,
          0.6855018587360596,
          0.6556629491945477,
          0.667905824039653,
          0.6567534076827758,
          0.6558612143742255,
          0.6367781908302353,
          0.653184634448575,
          0.6518463444857496,
          0.6651796778190829,
          0.6563073110285007,
          0.6669640644361834,
          0.6541263940520448,
          0.6383147459727385,
          0.6545229244114001,
          0.662354399008674,
          0.6540768277571251,
          0.6518463444857496,
          0.6572986369268897
         ],
         "xaxis": "x",
         "y": [
          0,
          1,
          2,
          3,
          4,
          5,
          6,
          7,
          8,
          9,
          10,
          11,
          12,
          13,
          14,
          15,
          16,
          17,
          18,
          19,
          20,
          21,
          22,
          23,
          24,
          25,
          26,
          27,
          28,
          29,
          30,
          31,
          32,
          33,
          34,
          35,
          36,
          37,
          38,
          39,
          40,
          41,
          42,
          43,
          44,
          45,
          46,
          47,
          48,
          49,
          50,
          51,
          52,
          53,
          54,
          55,
          56,
          57,
          58,
          59,
          60,
          61,
          62,
          63,
          64,
          65,
          66,
          67,
          68,
          69,
          70,
          71,
          72,
          73,
          74,
          75,
          76,
          77,
          78,
          79,
          80,
          81,
          82,
          83,
          84,
          85,
          86,
          87,
          88,
          89,
          90,
          91,
          92,
          93,
          94,
          95,
          96,
          97,
          98,
          99,
          100,
          101,
          102,
          103,
          104,
          105,
          106,
          107,
          108,
          109,
          110,
          111,
          112,
          113,
          114,
          115,
          116,
          117,
          118,
          119,
          120,
          121,
          122,
          123,
          124,
          125,
          126,
          127,
          128,
          129,
          130,
          131,
          132,
          133,
          134,
          135,
          136,
          137,
          138,
          139,
          140,
          141,
          142,
          143,
          144,
          145,
          146,
          147,
          148,
          149,
          150,
          151,
          152,
          153,
          154,
          155,
          156,
          157,
          158,
          159,
          160,
          161,
          162,
          163
         ],
         "yaxis": "y"
        },
        {
         "hovertemplate": "variable=Fy_lp5<br>value=%{x}<br>index=%{y}<extra></extra>",
         "legendgroup": "Fy_lp5",
         "marker": {
          "color": "blue",
          "symbol": "circle"
         },
         "mode": "markers",
         "name": "Fy_lp5",
         "orientation": "h",
         "showlegend": true,
         "type": "scatter",
         "x": [
          0.4646341463414635,
          0.4632520325203252,
          0.46406504065040655,
          0.46170731707317075,
          0.4623577235772357,
          0.46186991869918703,
          0.4626016260162602,
          0.4624390243902439,
          0.46219512195121953,
          0.4623577235772359,
          0.4653658536585367,
          0.46268292682926837,
          0.4649593495934959,
          0.4626016260162602,
          0.4627642276422765,
          0.46203252032520337,
          0.46162601626016275,
          0.46235772357723576,
          0.46390243902439027,
          0.4633333333333335,
          0.4645528455284554,
          0.46983739837398375,
          0.45081300813008135,
          0.48097560975609766,
          0.47975609756097565,
          0.4608130081300813,
          0.4561788617886179,
          0.46308943089430893,
          0.4643902439024391,
          0.461219512195122,
          0.46439024390243905,
          0.46569105691056906,
          0.46569105691056906,
          0.4440650406504065,
          0.4440650406504065,
          0.45869918699186996,
          0.4634146341463415,
          0.46552845528455283,
          0.46235772357723576,
          0.46203252032520326,
          0.477479674796748,
          0.474308943089431,
          0.4626829268292683,
          0.47804878048780497,
          0.4595934959349593,
          0.4595934959349593,
          0.4642276422764227,
          0.4676422764227643,
          0.4682926829268294,
          0.4678861788617886,
          0.467479674796748,
          0.4677235772357724,
          0.46747967479674796,
          0.4673983739837398,
          0.46731707317073173,
          0.4680487804878049,
          0.46674796747967484,
          0.46658536585365856,
          0.46634146341463417,
          0.466260162601626,
          0.466260162601626,
          0.4660975609756097,
          0.46764227642276424,
          0.4669918699186992,
          0.4670731707317073,
          0.4663414634146342,
          0.46731707317073173,
          0.46560975609756106,
          0.46593495934959356,
          0.46674796747967473,
          0.4656910569105691,
          0.4692682926829269,
          0.4572357723577236,
          0.46317073170731704,
          0.46821138211382113,
          0.4659349593495935,
          0.4707317073170732,
          0.4630081300813008,
          0.4701626016260162,
          0.46821138211382113,
          0.46813008130081296,
          0.47065040650406514,
          0.47065040650406503,
          0.4691056910569106,
          0.48040650406504065,
          0.4651219512195122,
          0.4419512195121951,
          0.4683739837398375,
          0.4675609756097562,
          0.4693495934959351,
          0.4715447154471545,
          0.4692682926829269,
          0.47829268292682936,
          0.4669918699186991,
          0.46056910569105697,
          0.454390243902439,
          0.4801626016260163,
          0.4670731707317073,
          0.4520325203252033,
          0.47512195121951223,
          0.15260162601626018,
          0.45032520325203257,
          0.32861788617886173,
          0.4513821138211382,
          0.4882113821138211,
          0.27056910569105685,
          0.44414634146341464,
          0.4434959349593496,
          0.4170731707317073,
          0.3352032520325203,
          0.3673170731707317,
          0.42463414634146357,
          0.42520325203252035,
          0.46260162601626015,
          0.4630081300813008,
          0.5645528455284553,
          0.476910569105691,
          0.5137398373983741,
          0.45715447154471556,
          0.42422764227642273,
          0.4621951219512196,
          0.4663414634146343,
          0.4497560975609757,
          0.4658536585365854,
          0.32601626016260166,
          0.46414634146341466,
          0.32682926829268294,
          0.45626016260162605,
          0.46008130081300813,
          0.4599999999999999,
          0.46707317073170734,
          0.4601626016260163,
          0.47650406504065046,
          0.5250406504065039,
          0.4678048780487805,
          0.47674796747967474,
          0.4581300813008131,
          0.46731707317073173,
          0.4596747967479676,
          0.4682113821138211,
          0.458780487804878,
          0.46390243902439027,
          0.46447154471544716,
          0.43756097560975615,
          0.46447154471544727,
          0.44113821138211384,
          0.4366666666666667,
          0.467479674796748,
          0.45951219512195113,
          0.4652845528455286,
          0.4681300813008131,
          0.4752032520325204,
          0.46943089430894314,
          0.466829268292683,
          0.46170731707317075,
          0.46780487804878057,
          0.46617886178861784,
          0.4644715447154472,
          0.4845528455284553,
          0.46707317073170723,
          0.46317073170731715,
          0.4699186991869919,
          0.4710569105691057,
          0.4639024390243902
         ],
         "xaxis": "x",
         "y": [
          0,
          1,
          2,
          3,
          4,
          5,
          6,
          7,
          8,
          9,
          10,
          11,
          12,
          13,
          14,
          15,
          16,
          17,
          18,
          19,
          20,
          21,
          22,
          23,
          24,
          25,
          26,
          27,
          28,
          29,
          30,
          31,
          32,
          33,
          34,
          35,
          36,
          37,
          38,
          39,
          40,
          41,
          42,
          43,
          44,
          45,
          46,
          47,
          48,
          49,
          50,
          51,
          52,
          53,
          54,
          55,
          56,
          57,
          58,
          59,
          60,
          61,
          62,
          63,
          64,
          65,
          66,
          67,
          68,
          69,
          70,
          71,
          72,
          73,
          74,
          75,
          76,
          77,
          78,
          79,
          80,
          81,
          82,
          83,
          84,
          85,
          86,
          87,
          88,
          89,
          90,
          91,
          92,
          93,
          94,
          95,
          96,
          97,
          98,
          99,
          100,
          101,
          102,
          103,
          104,
          105,
          106,
          107,
          108,
          109,
          110,
          111,
          112,
          113,
          114,
          115,
          116,
          117,
          118,
          119,
          120,
          121,
          122,
          123,
          124,
          125,
          126,
          127,
          128,
          129,
          130,
          131,
          132,
          133,
          134,
          135,
          136,
          137,
          138,
          139,
          140,
          141,
          142,
          143,
          144,
          145,
          146,
          147,
          148,
          149,
          150,
          151,
          152,
          153,
          154,
          155,
          156,
          157,
          158,
          159,
          160,
          161,
          162,
          163
         ],
         "yaxis": "y"
        },
        {
         "hovertemplate": "variable=Fz_lp5<br>value=%{x}<br>index=%{y}<extra></extra>",
         "legendgroup": "Fz_lp5",
         "marker": {
          "color": "green",
          "symbol": "circle"
         },
         "mode": "markers",
         "name": "Fz_lp5",
         "orientation": "h",
         "showlegend": true,
         "type": "scatter",
         "x": [
          0.9161173068979761,
          0.9160677406030566,
          0.9158694754233786,
          0.9164642709624122,
          0.9158859975216854,
          0.9159025196199917,
          0.9160016522098307,
          0.9158199091284591,
          0.9160346964064436,
          0.9162660057827344,
          0.916216439487815,
          0.9162990499793473,
          0.9157868649318464,
          0.9161833952912021,
          0.9158199091284591,
          0.9158529533250722,
          0.9159520859149113,
          0.9160346964064436,
          0.9160346964064437,
          0.9160346964064436,
          0.9178356051218505,
          0.9216522098306485,
          0.9168442792234615,
          0.9177364725320115,
          0.9162329615861216,
          0.9166790582403966,
          0.916315572077654,
          0.9165799256505578,
          0.9169434118133003,
          0.9164973151590251,
          0.9170921106980587,
          0.9171416769929782,
          0.9171416769929782,
          0.9164807930607187,
          0.9164807930607187,
          0.9137546468401487,
          0.9174060305658819,
          0.9171581990912847,
          0.9172077653862039,
          0.9184964890541097,
          0.9183312680710449,
          0.9135894258570839,
          0.9167286245353161,
          0.9151755472945063,
          0.9166625361420899,
          0.9166625361420899,
          0.9155390334572491,
          0.9012143742255265,
          0.9015613382899628,
          0.9020239570425443,
          0.901330028913672,
          0.9014456836018175,
          0.9011813300289137,
          0.9007021891780256,
          0.9012969847170591,
          0.9013795952085915,
          0.9003882693102024,
          0.9002560925237505,
          0.900784799669558,
          0.9002395704254441,
          0.9001734820322181,
          0.9000413052457663,
          0.9007352333746385,
          0.9010491532424617,
          0.9013795952085915,
          0.8985543163981824,
          0.8979925650557621,
          0.8981412639405203,
          0.8978934324659231,
          0.8979264766625362,
          0.8982073523337466,
          0.9023378769103677,
          0.9039239983477901,
          0.8975464684014871,
          0.898256918628666,
          0.8963568773234202,
          0.8971664601404378,
          0.897034283353986,
          0.8952003304419662,
          0.8951838083436598,
          0.9024370095002064,
          0.8882114828583229,
          0.8990830235439898,
          0.900371747211896,
          0.9022552664188352,
          0.8980421313506817,
          0.9035605121850475,
          0.9006856670797192,
          0.9010161090458486,
          0.8879140850888062,
          0.9010491532424619,
          0.9023378769103677,
          0.8977777777777778,
          0.8971168938455185,
          0.897645600991326,
          0.8988021478727798,
          0.8978438661710038,
          0.8980256092523751,
          0.8990830235439902,
          0.8964890541098719,
          0.3268236266005781,
          0.8692936802973978,
          0.6948864105741428,
          0.7546964064436181,
          0.6637092110698058,
          0.2887897562990499,
          0.8348946716232961,
          0.8283353985956217,
          0.8550516315572079,
          0.6335894258570838,
          0.6478810408921933,
          0.7143659644774886,
          0.7863197026022305,
          0.8906237092110698,
          0.8579429987608426,
          0.658223874432053,
          0.891548946716233,
          0.6276414704667492,
          0.8552829409334985,
          0.7603634861627426,
          0.8750433705080544,
          0.8886410574142916,
          0.6639405204460966,
          0.8956794712928543,
          0.7036431226765798,
          0.8944072697232549,
          0.6554812061131764,
          0.8608178438661709,
          0.875952085914911,
          0.87638166047088,
          0.8906732755059893,
          0.8545559686080133,
          0.7849814126394051,
          0.707360594795539,
          0.8906237092110697,
          0.8944568360181744,
          0.8791408508880626,
          0.892028087567121,
          0.8833870301528294,
          0.892094175960347,
          0.8836183395291201,
          0.8906732755059893,
          0.8891201982651797,
          0.7881536555142503,
          0.8931681123502685,
          0.8432878975629906,
          0.8862949194547708,
          0.8993969434118133,
          0.8974142916150353,
          0.897100371747212,
          0.897645600991326,
          0.8946881453944653,
          0.8969021065675341,
          0.8976290788930192,
          0.8999421726559275,
          0.898289962825279,
          0.8980256092523752,
          0.8967368855844693,
          0.8951507641470469,
          0.897100371747212,
          0.8985047501032632,
          0.8979595208591492,
          0.8973316811235027,
          0.8970177612556796
         ],
         "xaxis": "x",
         "y": [
          0,
          1,
          2,
          3,
          4,
          5,
          6,
          7,
          8,
          9,
          10,
          11,
          12,
          13,
          14,
          15,
          16,
          17,
          18,
          19,
          20,
          21,
          22,
          23,
          24,
          25,
          26,
          27,
          28,
          29,
          30,
          31,
          32,
          33,
          34,
          35,
          36,
          37,
          38,
          39,
          40,
          41,
          42,
          43,
          44,
          45,
          46,
          47,
          48,
          49,
          50,
          51,
          52,
          53,
          54,
          55,
          56,
          57,
          58,
          59,
          60,
          61,
          62,
          63,
          64,
          65,
          66,
          67,
          68,
          69,
          70,
          71,
          72,
          73,
          74,
          75,
          76,
          77,
          78,
          79,
          80,
          81,
          82,
          83,
          84,
          85,
          86,
          87,
          88,
          89,
          90,
          91,
          92,
          93,
          94,
          95,
          96,
          97,
          98,
          99,
          100,
          101,
          102,
          103,
          104,
          105,
          106,
          107,
          108,
          109,
          110,
          111,
          112,
          113,
          114,
          115,
          116,
          117,
          118,
          119,
          120,
          121,
          122,
          123,
          124,
          125,
          126,
          127,
          128,
          129,
          130,
          131,
          132,
          133,
          134,
          135,
          136,
          137,
          138,
          139,
          140,
          141,
          142,
          143,
          144,
          145,
          146,
          147,
          148,
          149,
          150,
          151,
          152,
          153,
          154,
          155,
          156,
          157,
          158,
          159,
          160,
          161,
          162,
          163
         ],
         "yaxis": "y"
        },
        {
         "hovertemplate": "variable=Tx_lp5<br>value=%{x}<br>index=%{y}<extra></extra>",
         "legendgroup": "Tx_lp5",
         "marker": {
          "color": "purple",
          "symbol": "circle"
         },
         "mode": "markers",
         "name": "Tx_lp5",
         "orientation": "h",
         "showlegend": true,
         "type": "scatter",
         "x": [
          0.4479347826086958,
          0.4481159420289856,
          0.4472101449275362,
          0.44710144927536233,
          0.4452898550724638,
          0.44445652173913053,
          0.44217391304347825,
          0.44025362318840583,
          0.43876811594202897,
          0.4382608695652174,
          0.43547101449275366,
          0.4493115942028985,
          0.44619565217391305,
          0.44663043478260867,
          0.44532608695652176,
          0.4443478260869565,
          0.4426449275362318,
          0.43949275362318846,
          0.4378623188405797,
          0.43713768115942037,
          0.4393840579710145,
          0.42746376811594206,
          0.45652173913043476,
          0.42373188405797096,
          0.43445652173913035,
          0.4419565217391304,
          0.44623188405797104,
          0.4393115942028985,
          0.4363043478260869,
          0.44586956521739135,
          0.44079710144927536,
          0.440072463768116,
          0.440072463768116,
          0.45865942028985507,
          0.45865942028985507,
          0.44891304347826083,
          0.43851449275362325,
          0.43387681159420294,
          0.44239130434782603,
          0.44554347826086954,
          0.44561594202898547,
          0.43423913043478257,
          0.447463768115942,
          0.44036231884057975,
          0.45199275362318836,
          0.45199275362318836,
          0.4438043478260869,
          0.4505434782608696,
          0.4505434782608696,
          0.45021739130434785,
          0.4501811594202899,
          0.44992753623188414,
          0.44978260869565223,
          0.450036231884058,
          0.4496376811594204,
          0.44989130434782615,
          0.44869565217391316,
          0.44862318840579724,
          0.4485869565217392,
          0.4483695652173914,
          0.44811594202898564,
          0.44804347826086965,
          0.4499637681159421,
          0.448913043478261,
          0.44985507246376816,
          0.4508333333333334,
          0.4502898550724639,
          0.45047101449275373,
          0.45021739130434796,
          0.45079710144927543,
          0.45010869565217404,
          0.4455434782608696,
          0.4502898550724638,
          0.45007246376811605,
          0.447536231884058,
          0.44739130434782626,
          0.44565217391304357,
          0.45163043478260884,
          0.4460144927536233,
          0.44594202898550744,
          0.44789855072463763,
          0.44500000000000006,
          0.4406521739130434,
          0.4442753623188406,
          0.4170289855072465,
          0.4455797101449273,
          0.48971014492753623,
          0.44717391304347837,
          0.4477898550724639,
          0.4419565217391304,
          0.4431884057971015,
          0.4455434782608696,
          0.4417753623188406,
          0.44989130434782615,
          0.45322463768115956,
          0.4548188405797103,
          0.43659420289855083,
          0.4473913043478262,
          0.46478260869565236,
          0.4442753623188406,
          0.39684782608695646,
          0.43224637681159417,
          0.4773913043478261,
          0.442572463768116,
          0.3728985507246377,
          0.5157608695652175,
          0.4530072463768116,
          0.4679710144927537,
          0.461268115942029,
          0.5148188405797101,
          0.4227536231884058,
          0.49115942028985504,
          0.4774275362318841,
          0.4452898550724638,
          0.4481884057971015,
          0.5901449275362318,
          0.443768115942029,
          0.41065217391304343,
          0.43177536231884056,
          0.4241666666666667,
          0.4360144927536232,
          0.4492391304347826,
          0.4771739130434783,
          0.4492391304347827,
          0.3940217391304348,
          0.4481159420289856,
          0.4440579710144928,
          0.4406159420289855,
          0.443695652173913,
          0.45061594202898547,
          0.4491304347826087,
          0.45822463768115934,
          0.4967028985507246,
          0.4952898550724638,
          0.45391304347826084,
          0.4385869565217391,
          0.4502898550724639,
          0.44989130434782615,
          0.4484420289855072,
          0.44945652173913053,
          0.4523913043478262,
          0.452391304347826,
          0.453768115942029,
          0.4718840579710145,
          0.4476811594202899,
          0.46405797101449264,
          0.4603623188405797,
          0.44978260869565223,
          0.4530072463768117,
          0.4509782608695653,
          0.4489855072463769,
          0.44307971014492764,
          0.4465579710144929,
          0.44793478260869585,
          0.44753623188405806,
          0.44909420289855084,
          0.4536956521739131,
          0.44956521739130445,
          0.4385869565217392,
          0.44322463768115955,
          0.45018115942028997,
          0.4474637681159422,
          0.44724637681159435,
          0.44960144927536244
         ],
         "xaxis": "x",
         "y": [
          0,
          1,
          2,
          3,
          4,
          5,
          6,
          7,
          8,
          9,
          10,
          11,
          12,
          13,
          14,
          15,
          16,
          17,
          18,
          19,
          20,
          21,
          22,
          23,
          24,
          25,
          26,
          27,
          28,
          29,
          30,
          31,
          32,
          33,
          34,
          35,
          36,
          37,
          38,
          39,
          40,
          41,
          42,
          43,
          44,
          45,
          46,
          47,
          48,
          49,
          50,
          51,
          52,
          53,
          54,
          55,
          56,
          57,
          58,
          59,
          60,
          61,
          62,
          63,
          64,
          65,
          66,
          67,
          68,
          69,
          70,
          71,
          72,
          73,
          74,
          75,
          76,
          77,
          78,
          79,
          80,
          81,
          82,
          83,
          84,
          85,
          86,
          87,
          88,
          89,
          90,
          91,
          92,
          93,
          94,
          95,
          96,
          97,
          98,
          99,
          100,
          101,
          102,
          103,
          104,
          105,
          106,
          107,
          108,
          109,
          110,
          111,
          112,
          113,
          114,
          115,
          116,
          117,
          118,
          119,
          120,
          121,
          122,
          123,
          124,
          125,
          126,
          127,
          128,
          129,
          130,
          131,
          132,
          133,
          134,
          135,
          136,
          137,
          138,
          139,
          140,
          141,
          142,
          143,
          144,
          145,
          146,
          147,
          148,
          149,
          150,
          151,
          152,
          153,
          154,
          155,
          156,
          157,
          158,
          159,
          160,
          161,
          162,
          163
         ],
         "yaxis": "y"
        },
        {
         "hovertemplate": "variable=Ty_lp5<br>value=%{x}<br>index=%{y}<extra></extra>",
         "legendgroup": "Ty_lp5",
         "marker": {
          "color": "orange",
          "symbol": "circle"
         },
         "mode": "markers",
         "name": "Ty_lp5",
         "orientation": "h",
         "showlegend": true,
         "type": "scatter",
         "x": [
          0.48665316227774036,
          0.48800360117038033,
          0.482736889489084,
          0.48075624577987847,
          0.4795408507765024,
          0.4769300022507315,
          0.4753094755795633,
          0.47427413909520594,
          0.47355390501913125,
          0.47287868557281115,
          0.4751744316902993,
          0.48593292820166556,
          0.48183659689399044,
          0.48026108485257707,
          0.4779203241053343,
          0.4776502363268062,
          0.47562457798784596,
          0.47404906594643254,
          0.4739590366869233,
          0.47427413909520594,
          0.5049291019581365,
          0.5196488858879137,
          0.4954760297096557,
          0.4696376322304749,
          0.4768849876209768,
          0.48098131892865187,
          0.47913571910871033,
          0.47548953409858197,
          0.47629979743416606,
          0.47638982669367547,
          0.4744541976142246,
          0.4861129867206842,
          0.48611298672068426,
          0.5123115012379024,
          0.5123115012379024,
          0.46378573036236775,
          0.4758046365068646,
          0.4752644609498086,
          0.4693225298221923,
          0.46999774926851223,
          0.5078100382624353,
          0.47413909520594183,
          0.4889038937654737,
          0.4928651811838847,
          0.48354715282466804,
          0.48354715282466804,
          0.46869232500562685,
          0.4857528696826468,
          0.4851676794958361,
          0.48552779653387346,
          0.4846725185685347,
          0.48494260634706277,
          0.4858879135719108,
          0.4859329282016656,
          0.4857528696826468,
          0.48575286968264686,
          0.4860229574611748,
          0.4860229574611748,
          0.4863380598694576,
          0.48620301598019366,
          0.48597794283142026,
          0.48593292820166556,
          0.48534773801485487,
          0.48561782579338275,
          0.4855728111636282,
          0.4888588791357191,
          0.48876884987620983,
          0.48831870357866314,
          0.487913571910871,
          0.48795858654062574,
          0.4888138645059646,
          0.49682646860229573,
          0.5110961062345263,
          0.49579113211793835,
          0.4886338059869457,
          0.4869682646860229,
          0.4828719333783481,
          0.4875084402430791,
          0.48417735764123343,
          0.4837272113436867,
          0.5235201440468152,
          0.5002925950934054,
          0.4977267611973891,
          0.4894440693225299,
          0.47350889038937655,
          0.4862030159801935,
          0.5089804186360568,
          0.48539275264460946,
          0.4823767724510466,
          0.4847175331982895,
          0.4807112311501239,
          0.49682646860229573,
          0.4747242853927526,
          0.48939905469277506,
          0.5009227999099707,
          0.5046590141796085,
          0.46626153499887457,
          0.48327706504614,
          0.5212694125590818,
          0.4679720909295521,
          0.6292144947107811,
          0.5064145847400405,
          0.562997974341661,
          0.5555255458023858,
          0.37605221697051533,
          0.47179833445869923,
          0.4711681296421337,
          0.520414134593743,
          0.4924600495160928,
          0.49426063470627946,
          0.31460724735539053,
          0.43781228899392305,
          0.5110510916047716,
          0.48242178708080125,
          0.48467251856853477,
          0.43069997749268524,
          0.5014179608372722,
          0.5836596893990547,
          0.4949808687823542,
          0.4598244429439568,
          0.4861129867206842,
          0.48971415710105787,
          0.43781228899392305,
          0.4892640108035111,
          0.3763223047490433,
          0.491739815440018,
          0.5049291019581365,
          0.5033085752869683,
          0.4979068197164079,
          0.4931802835921675,
          0.4875534548728337,
          0.5086203015980193,
          0.46342561332433035,
          0.49754670267837053,
          0.4835471528246681,
          0.4813864505964439,
          0.49408057618726087,
          0.47990096781453967,
          0.4930002250731488,
          0.4854827819041188,
          0.49822192212469046,
          0.4822867431915372,
          0.49002925950934056,
          0.47990096781453967,
          0.4931802835921675,
          0.46729687148323207,
          0.5237902318253432,
          0.4889038937654738,
          0.5022732388026109,
          0.49052442043664185,
          0.4883187035786631,
          0.4659014179608373,
          0.4832320504163853,
          0.4823317578212919,
          0.5047040288093629,
          0.4886338059869458,
          0.5017330632455548,
          0.48966914247130316,
          0.4694125590817015,
          0.48732838172406034,
          0.4990321854602745,
          0.4874184109835697,
          0.48440243079000683,
          0.4904343911771326
         ],
         "xaxis": "x",
         "y": [
          0,
          1,
          2,
          3,
          4,
          5,
          6,
          7,
          8,
          9,
          10,
          11,
          12,
          13,
          14,
          15,
          16,
          17,
          18,
          19,
          20,
          21,
          22,
          23,
          24,
          25,
          26,
          27,
          28,
          29,
          30,
          31,
          32,
          33,
          34,
          35,
          36,
          37,
          38,
          39,
          40,
          41,
          42,
          43,
          44,
          45,
          46,
          47,
          48,
          49,
          50,
          51,
          52,
          53,
          54,
          55,
          56,
          57,
          58,
          59,
          60,
          61,
          62,
          63,
          64,
          65,
          66,
          67,
          68,
          69,
          70,
          71,
          72,
          73,
          74,
          75,
          76,
          77,
          78,
          79,
          80,
          81,
          82,
          83,
          84,
          85,
          86,
          87,
          88,
          89,
          90,
          91,
          92,
          93,
          94,
          95,
          96,
          97,
          98,
          99,
          100,
          101,
          102,
          103,
          104,
          105,
          106,
          107,
          108,
          109,
          110,
          111,
          112,
          113,
          114,
          115,
          116,
          117,
          118,
          119,
          120,
          121,
          122,
          123,
          124,
          125,
          126,
          127,
          128,
          129,
          130,
          131,
          132,
          133,
          134,
          135,
          136,
          137,
          138,
          139,
          140,
          141,
          142,
          143,
          144,
          145,
          146,
          147,
          148,
          149,
          150,
          151,
          152,
          153,
          154,
          155,
          156,
          157,
          158,
          159,
          160,
          161,
          162,
          163
         ],
         "yaxis": "y"
        },
        {
         "hovertemplate": "variable=Tz_lp5<br>value=%{x}<br>index=%{y}<extra></extra>",
         "legendgroup": "Tz_lp5",
         "marker": {
          "color": "yellow",
          "symbol": "circle"
         },
         "mode": "markers",
         "name": "Tz_lp5",
         "orientation": "h",
         "showlegend": true,
         "type": "scatter",
         "x": [
          0.5044715447154471,
          0.5035230352303522,
          0.5008130081300813,
          0.49214092140921406,
          0.49173441734417345,
          0.49037940379403794,
          0.48739837398373975,
          0.48279132791327917,
          0.4844173441734417,
          0.4819783197831978,
          0.48685636856368564,
          0.5063685636856368,
          0.4983739837398374,
          0.49308943089430896,
          0.49214092140921406,
          0.4913279132791329,
          0.4841463414634146,
          0.48455284552845523,
          0.4823848238482384,
          0.48590785907859074,
          0.4867208672086721,
          0.48319783197831984,
          0.49999999999999994,
          0.4915989159891599,
          0.4956639566395664,
          0.48387533875338756,
          0.4827913279132791,
          0.48658536585365847,
          0.4841463414634145,
          0.48929539295392954,
          0.48848238482384826,
          0.4886178861788618,
          0.4886178861788618,
          0.49850948509485093,
          0.49850948509485093,
          0.4936314363143631,
          0.487669376693767,
          0.4880758807588076,
          0.4863143631436314,
          0.4784552845528455,
          0.4869918699186992,
          0.47018970189701903,
          0.49308943089430896,
          0.4936314363143631,
          0.500271002710027,
          0.500271002710027,
          0.5056910569105691,
          0.502710027100271,
          0.502710027100271,
          0.5020325203252033,
          0.502710027100271,
          0.5031165311653116,
          0.502981029810298,
          0.50420054200542,
          0.5046070460704607,
          0.5051490514905148,
          0.5035230352303522,
          0.5035230352303522,
          0.5032520325203252,
          0.5032520325203251,
          0.5031165311653115,
          0.5028455284552844,
          0.5044715447154471,
          0.5047425474254742,
          0.5036585365853657,
          0.5070460704607045,
          0.5077235772357722,
          0.5071815718157181,
          0.5073170731707316,
          0.5074525745257452,
          0.5070460704607045,
          0.498509485094851,
          0.5051490514905148,
          0.5029810298102981,
          0.5023035230352303,
          0.4941734417344173,
          0.5023035230352303,
          0.4968834688346883,
          0.4981029810298104,
          0.49823848238482393,
          0.4789972899728997,
          0.4928184281842818,
          0.49905149051490516,
          0.4910569105691057,
          0.47994579945799465,
          0.5092140921409214,
          0.4630081300813008,
          0.501219512195122,
          0.5009485094850948,
          0.49485094850948513,
          0.49850948509485093,
          0.498509485094851,
          0.4991869918699187,
          0.49769647696476965,
          0.49742547425474265,
          0.49945799457994583,
          0.5012195121951221,
          0.49769647696476965,
          0.4962059620596207,
          0.49430894308943096,
          0.5021680216802169,
          0.5033875338753387,
          0.402710027100271,
          0.36070460704607044,
          0.40203252032520326,
          0.4689701897018969,
          0.49403794037940385,
          0.4875338753387534,
          0.521680216802168,
          0.48983739837398377,
          0.5317073170731708,
          0.4378048780487804,
          0.523170731707317,
          0.5078590785907857,
          0.5102981029810298,
          0.6425474254742549,
          0.5147696476964769,
          0.5051490514905148,
          0.490650406504065,
          0.48252032520325205,
          0.4856368563685637,
          0.5093495934959349,
          0.5302168021680216,
          0.5092140921409213,
          0.5410569105691055,
          0.5062330623306232,
          0.48631436314363147,
          0.5027100271002709,
          0.5069105691056909,
          0.5070460704607045,
          0.50840108401084,
          0.5193766937669376,
          0.5327913279132791,
          0.5349593495934959,
          0.5131436314363145,
          0.5073170731707316,
          0.49945799457994594,
          0.5089430894308943,
          0.5043360433604336,
          0.5093495934959349,
          0.5046070460704607,
          0.5140921409214093,
          0.5161246612466125,
          0.49430894308943096,
          0.5082655826558263,
          0.49647696476964764,
          0.5051490514905147,
          0.49837398373983743,
          0.4970189701897019,
          0.49756097560975615,
          0.49783197831978326,
          0.49552845528455286,
          0.49607046070460714,
          0.49092140921409216,
          0.5008130081300813,
          0.4978319783197832,
          0.5033875338753387,
          0.4970189701897019,
          0.4962059620596206,
          0.5,
          0.49796747967479676,
          0.4966124661246613,
          0.4971544715447155,
          0.4968834688346884
         ],
         "xaxis": "x",
         "y": [
          0,
          1,
          2,
          3,
          4,
          5,
          6,
          7,
          8,
          9,
          10,
          11,
          12,
          13,
          14,
          15,
          16,
          17,
          18,
          19,
          20,
          21,
          22,
          23,
          24,
          25,
          26,
          27,
          28,
          29,
          30,
          31,
          32,
          33,
          34,
          35,
          36,
          37,
          38,
          39,
          40,
          41,
          42,
          43,
          44,
          45,
          46,
          47,
          48,
          49,
          50,
          51,
          52,
          53,
          54,
          55,
          56,
          57,
          58,
          59,
          60,
          61,
          62,
          63,
          64,
          65,
          66,
          67,
          68,
          69,
          70,
          71,
          72,
          73,
          74,
          75,
          76,
          77,
          78,
          79,
          80,
          81,
          82,
          83,
          84,
          85,
          86,
          87,
          88,
          89,
          90,
          91,
          92,
          93,
          94,
          95,
          96,
          97,
          98,
          99,
          100,
          101,
          102,
          103,
          104,
          105,
          106,
          107,
          108,
          109,
          110,
          111,
          112,
          113,
          114,
          115,
          116,
          117,
          118,
          119,
          120,
          121,
          122,
          123,
          124,
          125,
          126,
          127,
          128,
          129,
          130,
          131,
          132,
          133,
          134,
          135,
          136,
          137,
          138,
          139,
          140,
          141,
          142,
          143,
          144,
          145,
          146,
          147,
          148,
          149,
          150,
          151,
          152,
          153,
          154,
          155,
          156,
          157,
          158,
          159,
          160,
          161,
          162,
          163
         ],
         "yaxis": "y"
        }
       ],
       "layout": {
        "legend": {
         "title": {
          "text": "variable"
         },
         "tracegroupgap": 0
        },
        "margin": {
         "t": 60
        },
        "template": {
         "data": {
          "bar": [
           {
            "error_x": {
             "color": "#2a3f5f"
            },
            "error_y": {
             "color": "#2a3f5f"
            },
            "marker": {
             "line": {
              "color": "#E5ECF6",
              "width": 0.5
             },
             "pattern": {
              "fillmode": "overlay",
              "size": 10,
              "solidity": 0.2
             }
            },
            "type": "bar"
           }
          ],
          "barpolar": [
           {
            "marker": {
             "line": {
              "color": "#E5ECF6",
              "width": 0.5
             },
             "pattern": {
              "fillmode": "overlay",
              "size": 10,
              "solidity": 0.2
             }
            },
            "type": "barpolar"
           }
          ],
          "carpet": [
           {
            "aaxis": {
             "endlinecolor": "#2a3f5f",
             "gridcolor": "white",
             "linecolor": "white",
             "minorgridcolor": "white",
             "startlinecolor": "#2a3f5f"
            },
            "baxis": {
             "endlinecolor": "#2a3f5f",
             "gridcolor": "white",
             "linecolor": "white",
             "minorgridcolor": "white",
             "startlinecolor": "#2a3f5f"
            },
            "type": "carpet"
           }
          ],
          "choropleth": [
           {
            "colorbar": {
             "outlinewidth": 0,
             "ticks": ""
            },
            "type": "choropleth"
           }
          ],
          "contour": [
           {
            "colorbar": {
             "outlinewidth": 0,
             "ticks": ""
            },
            "colorscale": [
             [
              0,
              "#0d0887"
             ],
             [
              0.1111111111111111,
              "#46039f"
             ],
             [
              0.2222222222222222,
              "#7201a8"
             ],
             [
              0.3333333333333333,
              "#9c179e"
             ],
             [
              0.4444444444444444,
              "#bd3786"
             ],
             [
              0.5555555555555556,
              "#d8576b"
             ],
             [
              0.6666666666666666,
              "#ed7953"
             ],
             [
              0.7777777777777778,
              "#fb9f3a"
             ],
             [
              0.8888888888888888,
              "#fdca26"
             ],
             [
              1,
              "#f0f921"
             ]
            ],
            "type": "contour"
           }
          ],
          "contourcarpet": [
           {
            "colorbar": {
             "outlinewidth": 0,
             "ticks": ""
            },
            "type": "contourcarpet"
           }
          ],
          "heatmap": [
           {
            "colorbar": {
             "outlinewidth": 0,
             "ticks": ""
            },
            "colorscale": [
             [
              0,
              "#0d0887"
             ],
             [
              0.1111111111111111,
              "#46039f"
             ],
             [
              0.2222222222222222,
              "#7201a8"
             ],
             [
              0.3333333333333333,
              "#9c179e"
             ],
             [
              0.4444444444444444,
              "#bd3786"
             ],
             [
              0.5555555555555556,
              "#d8576b"
             ],
             [
              0.6666666666666666,
              "#ed7953"
             ],
             [
              0.7777777777777778,
              "#fb9f3a"
             ],
             [
              0.8888888888888888,
              "#fdca26"
             ],
             [
              1,
              "#f0f921"
             ]
            ],
            "type": "heatmap"
           }
          ],
          "heatmapgl": [
           {
            "colorbar": {
             "outlinewidth": 0,
             "ticks": ""
            },
            "colorscale": [
             [
              0,
              "#0d0887"
             ],
             [
              0.1111111111111111,
              "#46039f"
             ],
             [
              0.2222222222222222,
              "#7201a8"
             ],
             [
              0.3333333333333333,
              "#9c179e"
             ],
             [
              0.4444444444444444,
              "#bd3786"
             ],
             [
              0.5555555555555556,
              "#d8576b"
             ],
             [
              0.6666666666666666,
              "#ed7953"
             ],
             [
              0.7777777777777778,
              "#fb9f3a"
             ],
             [
              0.8888888888888888,
              "#fdca26"
             ],
             [
              1,
              "#f0f921"
             ]
            ],
            "type": "heatmapgl"
           }
          ],
          "histogram": [
           {
            "marker": {
             "pattern": {
              "fillmode": "overlay",
              "size": 10,
              "solidity": 0.2
             }
            },
            "type": "histogram"
           }
          ],
          "histogram2d": [
           {
            "colorbar": {
             "outlinewidth": 0,
             "ticks": ""
            },
            "colorscale": [
             [
              0,
              "#0d0887"
             ],
             [
              0.1111111111111111,
              "#46039f"
             ],
             [
              0.2222222222222222,
              "#7201a8"
             ],
             [
              0.3333333333333333,
              "#9c179e"
             ],
             [
              0.4444444444444444,
              "#bd3786"
             ],
             [
              0.5555555555555556,
              "#d8576b"
             ],
             [
              0.6666666666666666,
              "#ed7953"
             ],
             [
              0.7777777777777778,
              "#fb9f3a"
             ],
             [
              0.8888888888888888,
              "#fdca26"
             ],
             [
              1,
              "#f0f921"
             ]
            ],
            "type": "histogram2d"
           }
          ],
          "histogram2dcontour": [
           {
            "colorbar": {
             "outlinewidth": 0,
             "ticks": ""
            },
            "colorscale": [
             [
              0,
              "#0d0887"
             ],
             [
              0.1111111111111111,
              "#46039f"
             ],
             [
              0.2222222222222222,
              "#7201a8"
             ],
             [
              0.3333333333333333,
              "#9c179e"
             ],
             [
              0.4444444444444444,
              "#bd3786"
             ],
             [
              0.5555555555555556,
              "#d8576b"
             ],
             [
              0.6666666666666666,
              "#ed7953"
             ],
             [
              0.7777777777777778,
              "#fb9f3a"
             ],
             [
              0.8888888888888888,
              "#fdca26"
             ],
             [
              1,
              "#f0f921"
             ]
            ],
            "type": "histogram2dcontour"
           }
          ],
          "mesh3d": [
           {
            "colorbar": {
             "outlinewidth": 0,
             "ticks": ""
            },
            "type": "mesh3d"
           }
          ],
          "parcoords": [
           {
            "line": {
             "colorbar": {
              "outlinewidth": 0,
              "ticks": ""
             }
            },
            "type": "parcoords"
           }
          ],
          "pie": [
           {
            "automargin": true,
            "type": "pie"
           }
          ],
          "scatter": [
           {
            "fillpattern": {
             "fillmode": "overlay",
             "size": 10,
             "solidity": 0.2
            },
            "type": "scatter"
           }
          ],
          "scatter3d": [
           {
            "line": {
             "colorbar": {
              "outlinewidth": 0,
              "ticks": ""
             }
            },
            "marker": {
             "colorbar": {
              "outlinewidth": 0,
              "ticks": ""
             }
            },
            "type": "scatter3d"
           }
          ],
          "scattercarpet": [
           {
            "marker": {
             "colorbar": {
              "outlinewidth": 0,
              "ticks": ""
             }
            },
            "type": "scattercarpet"
           }
          ],
          "scattergeo": [
           {
            "marker": {
             "colorbar": {
              "outlinewidth": 0,
              "ticks": ""
             }
            },
            "type": "scattergeo"
           }
          ],
          "scattergl": [
           {
            "marker": {
             "colorbar": {
              "outlinewidth": 0,
              "ticks": ""
             }
            },
            "type": "scattergl"
           }
          ],
          "scattermapbox": [
           {
            "marker": {
             "colorbar": {
              "outlinewidth": 0,
              "ticks": ""
             }
            },
            "type": "scattermapbox"
           }
          ],
          "scatterpolar": [
           {
            "marker": {
             "colorbar": {
              "outlinewidth": 0,
              "ticks": ""
             }
            },
            "type": "scatterpolar"
           }
          ],
          "scatterpolargl": [
           {
            "marker": {
             "colorbar": {
              "outlinewidth": 0,
              "ticks": ""
             }
            },
            "type": "scatterpolargl"
           }
          ],
          "scatterternary": [
           {
            "marker": {
             "colorbar": {
              "outlinewidth": 0,
              "ticks": ""
             }
            },
            "type": "scatterternary"
           }
          ],
          "surface": [
           {
            "colorbar": {
             "outlinewidth": 0,
             "ticks": ""
            },
            "colorscale": [
             [
              0,
              "#0d0887"
             ],
             [
              0.1111111111111111,
              "#46039f"
             ],
             [
              0.2222222222222222,
              "#7201a8"
             ],
             [
              0.3333333333333333,
              "#9c179e"
             ],
             [
              0.4444444444444444,
              "#bd3786"
             ],
             [
              0.5555555555555556,
              "#d8576b"
             ],
             [
              0.6666666666666666,
              "#ed7953"
             ],
             [
              0.7777777777777778,
              "#fb9f3a"
             ],
             [
              0.8888888888888888,
              "#fdca26"
             ],
             [
              1,
              "#f0f921"
             ]
            ],
            "type": "surface"
           }
          ],
          "table": [
           {
            "cells": {
             "fill": {
              "color": "#EBF0F8"
             },
             "line": {
              "color": "white"
             }
            },
            "header": {
             "fill": {
              "color": "#C8D4E3"
             },
             "line": {
              "color": "white"
             }
            },
            "type": "table"
           }
          ]
         },
         "layout": {
          "annotationdefaults": {
           "arrowcolor": "#2a3f5f",
           "arrowhead": 0,
           "arrowwidth": 1
          },
          "autotypenumbers": "strict",
          "coloraxis": {
           "colorbar": {
            "outlinewidth": 0,
            "ticks": ""
           }
          },
          "colorscale": {
           "diverging": [
            [
             0,
             "#8e0152"
            ],
            [
             0.1,
             "#c51b7d"
            ],
            [
             0.2,
             "#de77ae"
            ],
            [
             0.3,
             "#f1b6da"
            ],
            [
             0.4,
             "#fde0ef"
            ],
            [
             0.5,
             "#f7f7f7"
            ],
            [
             0.6,
             "#e6f5d0"
            ],
            [
             0.7,
             "#b8e186"
            ],
            [
             0.8,
             "#7fbc41"
            ],
            [
             0.9,
             "#4d9221"
            ],
            [
             1,
             "#276419"
            ]
           ],
           "sequential": [
            [
             0,
             "#0d0887"
            ],
            [
             0.1111111111111111,
             "#46039f"
            ],
            [
             0.2222222222222222,
             "#7201a8"
            ],
            [
             0.3333333333333333,
             "#9c179e"
            ],
            [
             0.4444444444444444,
             "#bd3786"
            ],
            [
             0.5555555555555556,
             "#d8576b"
            ],
            [
             0.6666666666666666,
             "#ed7953"
            ],
            [
             0.7777777777777778,
             "#fb9f3a"
            ],
            [
             0.8888888888888888,
             "#fdca26"
            ],
            [
             1,
             "#f0f921"
            ]
           ],
           "sequentialminus": [
            [
             0,
             "#0d0887"
            ],
            [
             0.1111111111111111,
             "#46039f"
            ],
            [
             0.2222222222222222,
             "#7201a8"
            ],
            [
             0.3333333333333333,
             "#9c179e"
            ],
            [
             0.4444444444444444,
             "#bd3786"
            ],
            [
             0.5555555555555556,
             "#d8576b"
            ],
            [
             0.6666666666666666,
             "#ed7953"
            ],
            [
             0.7777777777777778,
             "#fb9f3a"
            ],
            [
             0.8888888888888888,
             "#fdca26"
            ],
            [
             1,
             "#f0f921"
            ]
           ]
          },
          "colorway": [
           "#636efa",
           "#EF553B",
           "#00cc96",
           "#ab63fa",
           "#FFA15A",
           "#19d3f3",
           "#FF6692",
           "#B6E880",
           "#FF97FF",
           "#FECB52"
          ],
          "font": {
           "color": "#2a3f5f"
          },
          "geo": {
           "bgcolor": "white",
           "lakecolor": "white",
           "landcolor": "#E5ECF6",
           "showlakes": true,
           "showland": true,
           "subunitcolor": "white"
          },
          "hoverlabel": {
           "align": "left"
          },
          "hovermode": "closest",
          "mapbox": {
           "style": "light"
          },
          "paper_bgcolor": "white",
          "plot_bgcolor": "#E5ECF6",
          "polar": {
           "angularaxis": {
            "gridcolor": "white",
            "linecolor": "white",
            "ticks": ""
           },
           "bgcolor": "#E5ECF6",
           "radialaxis": {
            "gridcolor": "white",
            "linecolor": "white",
            "ticks": ""
           }
          },
          "scene": {
           "xaxis": {
            "backgroundcolor": "#E5ECF6",
            "gridcolor": "white",
            "gridwidth": 2,
            "linecolor": "white",
            "showbackground": true,
            "ticks": "",
            "zerolinecolor": "white"
           },
           "yaxis": {
            "backgroundcolor": "#E5ECF6",
            "gridcolor": "white",
            "gridwidth": 2,
            "linecolor": "white",
            "showbackground": true,
            "ticks": "",
            "zerolinecolor": "white"
           },
           "zaxis": {
            "backgroundcolor": "#E5ECF6",
            "gridcolor": "white",
            "gridwidth": 2,
            "linecolor": "white",
            "showbackground": true,
            "ticks": "",
            "zerolinecolor": "white"
           }
          },
          "shapedefaults": {
           "line": {
            "color": "#2a3f5f"
           }
          },
          "ternary": {
           "aaxis": {
            "gridcolor": "white",
            "linecolor": "white",
            "ticks": ""
           },
           "baxis": {
            "gridcolor": "white",
            "linecolor": "white",
            "ticks": ""
           },
           "bgcolor": "#E5ECF6",
           "caxis": {
            "gridcolor": "white",
            "linecolor": "white",
            "ticks": ""
           }
          },
          "title": {
           "x": 0.05
          },
          "xaxis": {
           "automargin": true,
           "gridcolor": "white",
           "linecolor": "white",
           "ticks": "",
           "title": {
            "standoff": 15
           },
           "zerolinecolor": "white",
           "zerolinewidth": 2
          },
          "yaxis": {
           "automargin": true,
           "gridcolor": "white",
           "linecolor": "white",
           "ticks": "",
           "title": {
            "standoff": 15
           },
           "zerolinecolor": "white",
           "zerolinewidth": 2
          }
         }
        },
        "xaxis": {
         "anchor": "y",
         "domain": [
          0,
          1
         ],
         "title": {
          "text": "value"
         }
        },
        "yaxis": {
         "anchor": "x",
         "domain": [
          0,
          1
         ],
         "title": {
          "text": "index"
         }
        }
       }
      }
     },
     "metadata": {},
     "output_type": "display_data"
    },
    {
     "data": {
      "application/vnd.plotly.v1+json": {
       "config": {
        "plotlyServerURL": "https://plot.ly"
       },
       "data": [
        {
         "hovertemplate": "variable=Fx_lp5<br>value=%{x}<br>Y_lp5=%{y}<extra></extra>",
         "legendgroup": "Fx_lp5",
         "marker": {
          "color": "#636efa",
          "symbol": "circle"
         },
         "mode": "markers",
         "name": "Fx_lp5",
         "orientation": "v",
         "showlegend": true,
         "type": "scatter",
         "x": [
          0.6549690210656753,
          0.6572986369268897,
          0.6542750929368031,
          0.6547707558859975,
          0.6550681536555143,
          0.6547211895910781,
          0.6543742255266419,
          0.6545229244114004,
          0.6541263940520445,
          0.6536307311028501,
          0.655365551425031,
          0.6553159851301114,
          0.6540768277571252,
          0.6550681536555142,
          0.6542255266418836,
          0.6546220570012391,
          0.6546220570012391,
          0.6540272614622058,
          0.6539776951672863,
          0.6544237918215613,
          0.6744981412639405,
          0.6646840148698885,
          0.6652788104089219,
          0.6501610904584882,
          0.6507558859975217,
          0.6564064436183394,
          0.6568029739776952,
          0.6534820322180916,
          0.6547707558859975,
          0.6512515489467162,
          0.6528376703841388,
          0.6578438661710038,
          0.6578438661710037,
          0.6688475836431227,
          0.6688475836431227,
          0.6469392812887237,
          0.6538785625774473,
          0.6555142503097893,
          0.6512515489467162,
          0.6494671623296158,
          0.6786617100371746,
          0.6613135068153656,
          0.6543246592317223,
          0.6547707558859975,
          0.653184634448575,
          0.653184634448575,
          0.6452044609665427,
          0.6550185873605947,
          0.6552168525402725,
          0.6550185873605947,
          0.6543246592317223,
          0.654919454770756,
          0.6549690210656753,
          0.6553655514250311,
          0.6549194547707557,
          0.656009913258984,
          0.6565055762081784,
          0.6566542750929367,
          0.6569516728624536,
          0.656654275092937,
          0.6566047087980174,
          0.6565551425030979,
          0.6557620817843867,
          0.654820322180917,
          0.6554646840148699,
          0.6535315985130111,
          0.6534324659231722,
          0.6538289962825279,
          0.6535315985130112,
          0.6533828996282528,
          0.6534820322180915,
          0.6566047087980175,
          0.6658736059479554,
          0.6611648079306072,
          0.6559603469640645,
          0.6547707558859976,
          0.650359355638166,
          0.6544237918215613,
          0.6512515489467163,
          0.6482280049566296,
          0.6680545229244115,
          0.6631474597273855,
          0.6572986369268897,
          0.6559603469640645,
          0.649714993804213,
          0.6528872366790581,
          0.6617596034696405,
          0.6537794299876083,
          0.6514002478314745,
          0.6458488228004956,
          0.6519454770755887,
          0.6566047087980175,
          0.6411400247831475,
          0.6544733581164809,
          0.6636926889714994,
          0.6662701363073109,
          0.6392069392812886,
          0.6491697645600991,
          0.6818339529120199,
          0.6373729863692688,
          0.5892936802973978,
          0.6549194547707559,
          0.5550929368029739,
          0.6168029739776951,
          0.6552168525402725,
          0.784733581164808,
          0.6673605947955391,
          0.664634448574969,
          0.7007682775712516,
          0.748004956629492,
          0.7477571251548947,
          0.6328624535315985,
          0.7180173482032219,
          0.6534820322180915,
          0.6618091697645601,
          0.6698389095415119,
          0.653085501858736,
          0.5818587360594798,
          0.6580421313506816,
          0.5601982651796777,
          0.650557620817844,
          0.6623048327137546,
          0.743543990086741,
          0.6567534076827758,
          0.7060718711276333,
          0.6555142503097893,
          0.5405700123915737,
          0.6477819083023545,
          0.650359355638166,
          0.6601734820322182,
          0.6604213135068153,
          0.6962081784386617,
          0.6831226765799255,
          0.722180916976456,
          0.6589838909541511,
          0.6467410161090458,
          0.655811648079306,
          0.6579925650557621,
          0.6573482032218093,
          0.6598760842627013,
          0.6599752168525402,
          0.6583890954151177,
          0.6646840148698885,
          0.5917719950433705,
          0.6530359355638166,
          0.6197769516728625,
          0.6855018587360596,
          0.6556629491945477,
          0.667905824039653,
          0.6567534076827758,
          0.6558612143742255,
          0.6367781908302353,
          0.653184634448575,
          0.6518463444857496,
          0.6651796778190829,
          0.6563073110285007,
          0.6669640644361834,
          0.6541263940520448,
          0.6383147459727385,
          0.6545229244114001,
          0.662354399008674,
          0.6540768277571251,
          0.6518463444857496,
          0.6572986369268897
         ],
         "xaxis": "x",
         "y": [
          0,
          0,
          0,
          0,
          0,
          0,
          0,
          0,
          0,
          0,
          0,
          0,
          0,
          0,
          0,
          0,
          0,
          0,
          0,
          0,
          4,
          4,
          4,
          4,
          4,
          4,
          4,
          4,
          4,
          3,
          4,
          4,
          3,
          4,
          3,
          3,
          3,
          3,
          3,
          3,
          3,
          3,
          3,
          3,
          4,
          3,
          3,
          0,
          0,
          0,
          0,
          0,
          0,
          0,
          0,
          0,
          0,
          0,
          0,
          0,
          0,
          0,
          0,
          0,
          0,
          0,
          0,
          0,
          0,
          0,
          0,
          3,
          3,
          3,
          3,
          3,
          3,
          3,
          3,
          3,
          3,
          3,
          3,
          3,
          3,
          3,
          3,
          3,
          3,
          3,
          3,
          3,
          4,
          4,
          4,
          4,
          4,
          4,
          4,
          4,
          2,
          1,
          2,
          2,
          2,
          2,
          1,
          1,
          1,
          2,
          2,
          2,
          2,
          2,
          1,
          2,
          1,
          2,
          1,
          2,
          2,
          1,
          2,
          1,
          2,
          1,
          2,
          1,
          1,
          1,
          1,
          2,
          2,
          2,
          1,
          1,
          1,
          1,
          1,
          1,
          1,
          1,
          1,
          2,
          1,
          1,
          1,
          3,
          3,
          3,
          3,
          3,
          3,
          3,
          3,
          3,
          3,
          3,
          3,
          4,
          4,
          4,
          4,
          4
         ],
         "yaxis": "y"
        },
        {
         "hovertemplate": "variable=Fy_lp5<br>value=%{x}<br>Y_lp5=%{y}<extra></extra>",
         "legendgroup": "Fy_lp5",
         "marker": {
          "color": "#EF553B",
          "symbol": "circle"
         },
         "mode": "markers",
         "name": "Fy_lp5",
         "orientation": "v",
         "showlegend": true,
         "type": "scatter",
         "x": [
          0.4646341463414635,
          0.4632520325203252,
          0.46406504065040655,
          0.46170731707317075,
          0.4623577235772357,
          0.46186991869918703,
          0.4626016260162602,
          0.4624390243902439,
          0.46219512195121953,
          0.4623577235772359,
          0.4653658536585367,
          0.46268292682926837,
          0.4649593495934959,
          0.4626016260162602,
          0.4627642276422765,
          0.46203252032520337,
          0.46162601626016275,
          0.46235772357723576,
          0.46390243902439027,
          0.4633333333333335,
          0.4645528455284554,
          0.46983739837398375,
          0.45081300813008135,
          0.48097560975609766,
          0.47975609756097565,
          0.4608130081300813,
          0.4561788617886179,
          0.46308943089430893,
          0.4643902439024391,
          0.461219512195122,
          0.46439024390243905,
          0.46569105691056906,
          0.46569105691056906,
          0.4440650406504065,
          0.4440650406504065,
          0.45869918699186996,
          0.4634146341463415,
          0.46552845528455283,
          0.46235772357723576,
          0.46203252032520326,
          0.477479674796748,
          0.474308943089431,
          0.4626829268292683,
          0.47804878048780497,
          0.4595934959349593,
          0.4595934959349593,
          0.4642276422764227,
          0.4676422764227643,
          0.4682926829268294,
          0.4678861788617886,
          0.467479674796748,
          0.4677235772357724,
          0.46747967479674796,
          0.4673983739837398,
          0.46731707317073173,
          0.4680487804878049,
          0.46674796747967484,
          0.46658536585365856,
          0.46634146341463417,
          0.466260162601626,
          0.466260162601626,
          0.4660975609756097,
          0.46764227642276424,
          0.4669918699186992,
          0.4670731707317073,
          0.4663414634146342,
          0.46731707317073173,
          0.46560975609756106,
          0.46593495934959356,
          0.46674796747967473,
          0.4656910569105691,
          0.4692682926829269,
          0.4572357723577236,
          0.46317073170731704,
          0.46821138211382113,
          0.4659349593495935,
          0.4707317073170732,
          0.4630081300813008,
          0.4701626016260162,
          0.46821138211382113,
          0.46813008130081296,
          0.47065040650406514,
          0.47065040650406503,
          0.4691056910569106,
          0.48040650406504065,
          0.4651219512195122,
          0.4419512195121951,
          0.4683739837398375,
          0.4675609756097562,
          0.4693495934959351,
          0.4715447154471545,
          0.4692682926829269,
          0.47829268292682936,
          0.4669918699186991,
          0.46056910569105697,
          0.454390243902439,
          0.4801626016260163,
          0.4670731707317073,
          0.4520325203252033,
          0.47512195121951223,
          0.15260162601626018,
          0.45032520325203257,
          0.32861788617886173,
          0.4513821138211382,
          0.4882113821138211,
          0.27056910569105685,
          0.44414634146341464,
          0.4434959349593496,
          0.4170731707317073,
          0.3352032520325203,
          0.3673170731707317,
          0.42463414634146357,
          0.42520325203252035,
          0.46260162601626015,
          0.4630081300813008,
          0.5645528455284553,
          0.476910569105691,
          0.5137398373983741,
          0.45715447154471556,
          0.42422764227642273,
          0.4621951219512196,
          0.4663414634146343,
          0.4497560975609757,
          0.4658536585365854,
          0.32601626016260166,
          0.46414634146341466,
          0.32682926829268294,
          0.45626016260162605,
          0.46008130081300813,
          0.4599999999999999,
          0.46707317073170734,
          0.4601626016260163,
          0.47650406504065046,
          0.5250406504065039,
          0.4678048780487805,
          0.47674796747967474,
          0.4581300813008131,
          0.46731707317073173,
          0.4596747967479676,
          0.4682113821138211,
          0.458780487804878,
          0.46390243902439027,
          0.46447154471544716,
          0.43756097560975615,
          0.46447154471544727,
          0.44113821138211384,
          0.4366666666666667,
          0.467479674796748,
          0.45951219512195113,
          0.4652845528455286,
          0.4681300813008131,
          0.4752032520325204,
          0.46943089430894314,
          0.466829268292683,
          0.46170731707317075,
          0.46780487804878057,
          0.46617886178861784,
          0.4644715447154472,
          0.4845528455284553,
          0.46707317073170723,
          0.46317073170731715,
          0.4699186991869919,
          0.4710569105691057,
          0.4639024390243902
         ],
         "xaxis": "x",
         "y": [
          0,
          0,
          0,
          0,
          0,
          0,
          0,
          0,
          0,
          0,
          0,
          0,
          0,
          0,
          0,
          0,
          0,
          0,
          0,
          0,
          4,
          4,
          4,
          4,
          4,
          4,
          4,
          4,
          4,
          3,
          4,
          4,
          3,
          4,
          3,
          3,
          3,
          3,
          3,
          3,
          3,
          3,
          3,
          3,
          4,
          3,
          3,
          0,
          0,
          0,
          0,
          0,
          0,
          0,
          0,
          0,
          0,
          0,
          0,
          0,
          0,
          0,
          0,
          0,
          0,
          0,
          0,
          0,
          0,
          0,
          0,
          3,
          3,
          3,
          3,
          3,
          3,
          3,
          3,
          3,
          3,
          3,
          3,
          3,
          3,
          3,
          3,
          3,
          3,
          3,
          3,
          3,
          4,
          4,
          4,
          4,
          4,
          4,
          4,
          4,
          2,
          1,
          2,
          2,
          2,
          2,
          1,
          1,
          1,
          2,
          2,
          2,
          2,
          2,
          1,
          2,
          1,
          2,
          1,
          2,
          2,
          1,
          2,
          1,
          2,
          1,
          2,
          1,
          1,
          1,
          1,
          2,
          2,
          2,
          1,
          1,
          1,
          1,
          1,
          1,
          1,
          1,
          1,
          2,
          1,
          1,
          1,
          3,
          3,
          3,
          3,
          3,
          3,
          3,
          3,
          3,
          3,
          3,
          3,
          4,
          4,
          4,
          4,
          4
         ],
         "yaxis": "y"
        },
        {
         "hovertemplate": "variable=Fz_lp5<br>value=%{x}<br>Y_lp5=%{y}<extra></extra>",
         "legendgroup": "Fz_lp5",
         "marker": {
          "color": "#00cc96",
          "symbol": "circle"
         },
         "mode": "markers",
         "name": "Fz_lp5",
         "orientation": "v",
         "showlegend": true,
         "type": "scatter",
         "x": [
          0.9161173068979761,
          0.9160677406030566,
          0.9158694754233786,
          0.9164642709624122,
          0.9158859975216854,
          0.9159025196199917,
          0.9160016522098307,
          0.9158199091284591,
          0.9160346964064436,
          0.9162660057827344,
          0.916216439487815,
          0.9162990499793473,
          0.9157868649318464,
          0.9161833952912021,
          0.9158199091284591,
          0.9158529533250722,
          0.9159520859149113,
          0.9160346964064436,
          0.9160346964064437,
          0.9160346964064436,
          0.9178356051218505,
          0.9216522098306485,
          0.9168442792234615,
          0.9177364725320115,
          0.9162329615861216,
          0.9166790582403966,
          0.916315572077654,
          0.9165799256505578,
          0.9169434118133003,
          0.9164973151590251,
          0.9170921106980587,
          0.9171416769929782,
          0.9171416769929782,
          0.9164807930607187,
          0.9164807930607187,
          0.9137546468401487,
          0.9174060305658819,
          0.9171581990912847,
          0.9172077653862039,
          0.9184964890541097,
          0.9183312680710449,
          0.9135894258570839,
          0.9167286245353161,
          0.9151755472945063,
          0.9166625361420899,
          0.9166625361420899,
          0.9155390334572491,
          0.9012143742255265,
          0.9015613382899628,
          0.9020239570425443,
          0.901330028913672,
          0.9014456836018175,
          0.9011813300289137,
          0.9007021891780256,
          0.9012969847170591,
          0.9013795952085915,
          0.9003882693102024,
          0.9002560925237505,
          0.900784799669558,
          0.9002395704254441,
          0.9001734820322181,
          0.9000413052457663,
          0.9007352333746385,
          0.9010491532424617,
          0.9013795952085915,
          0.8985543163981824,
          0.8979925650557621,
          0.8981412639405203,
          0.8978934324659231,
          0.8979264766625362,
          0.8982073523337466,
          0.9023378769103677,
          0.9039239983477901,
          0.8975464684014871,
          0.898256918628666,
          0.8963568773234202,
          0.8971664601404378,
          0.897034283353986,
          0.8952003304419662,
          0.8951838083436598,
          0.9024370095002064,
          0.8882114828583229,
          0.8990830235439898,
          0.900371747211896,
          0.9022552664188352,
          0.8980421313506817,
          0.9035605121850475,
          0.9006856670797192,
          0.9010161090458486,
          0.8879140850888062,
          0.9010491532424619,
          0.9023378769103677,
          0.8977777777777778,
          0.8971168938455185,
          0.897645600991326,
          0.8988021478727798,
          0.8978438661710038,
          0.8980256092523751,
          0.8990830235439902,
          0.8964890541098719,
          0.3268236266005781,
          0.8692936802973978,
          0.6948864105741428,
          0.7546964064436181,
          0.6637092110698058,
          0.2887897562990499,
          0.8348946716232961,
          0.8283353985956217,
          0.8550516315572079,
          0.6335894258570838,
          0.6478810408921933,
          0.7143659644774886,
          0.7863197026022305,
          0.8906237092110698,
          0.8579429987608426,
          0.658223874432053,
          0.891548946716233,
          0.6276414704667492,
          0.8552829409334985,
          0.7603634861627426,
          0.8750433705080544,
          0.8886410574142916,
          0.6639405204460966,
          0.8956794712928543,
          0.7036431226765798,
          0.8944072697232549,
          0.6554812061131764,
          0.8608178438661709,
          0.875952085914911,
          0.87638166047088,
          0.8906732755059893,
          0.8545559686080133,
          0.7849814126394051,
          0.707360594795539,
          0.8906237092110697,
          0.8944568360181744,
          0.8791408508880626,
          0.892028087567121,
          0.8833870301528294,
          0.892094175960347,
          0.8836183395291201,
          0.8906732755059893,
          0.8891201982651797,
          0.7881536555142503,
          0.8931681123502685,
          0.8432878975629906,
          0.8862949194547708,
          0.8993969434118133,
          0.8974142916150353,
          0.897100371747212,
          0.897645600991326,
          0.8946881453944653,
          0.8969021065675341,
          0.8976290788930192,
          0.8999421726559275,
          0.898289962825279,
          0.8980256092523752,
          0.8967368855844693,
          0.8951507641470469,
          0.897100371747212,
          0.8985047501032632,
          0.8979595208591492,
          0.8973316811235027,
          0.8970177612556796
         ],
         "xaxis": "x",
         "y": [
          0,
          0,
          0,
          0,
          0,
          0,
          0,
          0,
          0,
          0,
          0,
          0,
          0,
          0,
          0,
          0,
          0,
          0,
          0,
          0,
          4,
          4,
          4,
          4,
          4,
          4,
          4,
          4,
          4,
          3,
          4,
          4,
          3,
          4,
          3,
          3,
          3,
          3,
          3,
          3,
          3,
          3,
          3,
          3,
          4,
          3,
          3,
          0,
          0,
          0,
          0,
          0,
          0,
          0,
          0,
          0,
          0,
          0,
          0,
          0,
          0,
          0,
          0,
          0,
          0,
          0,
          0,
          0,
          0,
          0,
          0,
          3,
          3,
          3,
          3,
          3,
          3,
          3,
          3,
          3,
          3,
          3,
          3,
          3,
          3,
          3,
          3,
          3,
          3,
          3,
          3,
          3,
          4,
          4,
          4,
          4,
          4,
          4,
          4,
          4,
          2,
          1,
          2,
          2,
          2,
          2,
          1,
          1,
          1,
          2,
          2,
          2,
          2,
          2,
          1,
          2,
          1,
          2,
          1,
          2,
          2,
          1,
          2,
          1,
          2,
          1,
          2,
          1,
          1,
          1,
          1,
          2,
          2,
          2,
          1,
          1,
          1,
          1,
          1,
          1,
          1,
          1,
          1,
          2,
          1,
          1,
          1,
          3,
          3,
          3,
          3,
          3,
          3,
          3,
          3,
          3,
          3,
          3,
          3,
          4,
          4,
          4,
          4,
          4
         ],
         "yaxis": "y"
        },
        {
         "hovertemplate": "variable=Tx_lp5<br>value=%{x}<br>Y_lp5=%{y}<extra></extra>",
         "legendgroup": "Tx_lp5",
         "marker": {
          "color": "#ab63fa",
          "symbol": "circle"
         },
         "mode": "markers",
         "name": "Tx_lp5",
         "orientation": "v",
         "showlegend": true,
         "type": "scatter",
         "x": [
          0.4479347826086958,
          0.4481159420289856,
          0.4472101449275362,
          0.44710144927536233,
          0.4452898550724638,
          0.44445652173913053,
          0.44217391304347825,
          0.44025362318840583,
          0.43876811594202897,
          0.4382608695652174,
          0.43547101449275366,
          0.4493115942028985,
          0.44619565217391305,
          0.44663043478260867,
          0.44532608695652176,
          0.4443478260869565,
          0.4426449275362318,
          0.43949275362318846,
          0.4378623188405797,
          0.43713768115942037,
          0.4393840579710145,
          0.42746376811594206,
          0.45652173913043476,
          0.42373188405797096,
          0.43445652173913035,
          0.4419565217391304,
          0.44623188405797104,
          0.4393115942028985,
          0.4363043478260869,
          0.44586956521739135,
          0.44079710144927536,
          0.440072463768116,
          0.440072463768116,
          0.45865942028985507,
          0.45865942028985507,
          0.44891304347826083,
          0.43851449275362325,
          0.43387681159420294,
          0.44239130434782603,
          0.44554347826086954,
          0.44561594202898547,
          0.43423913043478257,
          0.447463768115942,
          0.44036231884057975,
          0.45199275362318836,
          0.45199275362318836,
          0.4438043478260869,
          0.4505434782608696,
          0.4505434782608696,
          0.45021739130434785,
          0.4501811594202899,
          0.44992753623188414,
          0.44978260869565223,
          0.450036231884058,
          0.4496376811594204,
          0.44989130434782615,
          0.44869565217391316,
          0.44862318840579724,
          0.4485869565217392,
          0.4483695652173914,
          0.44811594202898564,
          0.44804347826086965,
          0.4499637681159421,
          0.448913043478261,
          0.44985507246376816,
          0.4508333333333334,
          0.4502898550724639,
          0.45047101449275373,
          0.45021739130434796,
          0.45079710144927543,
          0.45010869565217404,
          0.4455434782608696,
          0.4502898550724638,
          0.45007246376811605,
          0.447536231884058,
          0.44739130434782626,
          0.44565217391304357,
          0.45163043478260884,
          0.4460144927536233,
          0.44594202898550744,
          0.44789855072463763,
          0.44500000000000006,
          0.4406521739130434,
          0.4442753623188406,
          0.4170289855072465,
          0.4455797101449273,
          0.48971014492753623,
          0.44717391304347837,
          0.4477898550724639,
          0.4419565217391304,
          0.4431884057971015,
          0.4455434782608696,
          0.4417753623188406,
          0.44989130434782615,
          0.45322463768115956,
          0.4548188405797103,
          0.43659420289855083,
          0.4473913043478262,
          0.46478260869565236,
          0.4442753623188406,
          0.39684782608695646,
          0.43224637681159417,
          0.4773913043478261,
          0.442572463768116,
          0.3728985507246377,
          0.5157608695652175,
          0.4530072463768116,
          0.4679710144927537,
          0.461268115942029,
          0.5148188405797101,
          0.4227536231884058,
          0.49115942028985504,
          0.4774275362318841,
          0.4452898550724638,
          0.4481884057971015,
          0.5901449275362318,
          0.443768115942029,
          0.41065217391304343,
          0.43177536231884056,
          0.4241666666666667,
          0.4360144927536232,
          0.4492391304347826,
          0.4771739130434783,
          0.4492391304347827,
          0.3940217391304348,
          0.4481159420289856,
          0.4440579710144928,
          0.4406159420289855,
          0.443695652173913,
          0.45061594202898547,
          0.4491304347826087,
          0.45822463768115934,
          0.4967028985507246,
          0.4952898550724638,
          0.45391304347826084,
          0.4385869565217391,
          0.4502898550724639,
          0.44989130434782615,
          0.4484420289855072,
          0.44945652173913053,
          0.4523913043478262,
          0.452391304347826,
          0.453768115942029,
          0.4718840579710145,
          0.4476811594202899,
          0.46405797101449264,
          0.4603623188405797,
          0.44978260869565223,
          0.4530072463768117,
          0.4509782608695653,
          0.4489855072463769,
          0.44307971014492764,
          0.4465579710144929,
          0.44793478260869585,
          0.44753623188405806,
          0.44909420289855084,
          0.4536956521739131,
          0.44956521739130445,
          0.4385869565217392,
          0.44322463768115955,
          0.45018115942028997,
          0.4474637681159422,
          0.44724637681159435,
          0.44960144927536244
         ],
         "xaxis": "x",
         "y": [
          0,
          0,
          0,
          0,
          0,
          0,
          0,
          0,
          0,
          0,
          0,
          0,
          0,
          0,
          0,
          0,
          0,
          0,
          0,
          0,
          4,
          4,
          4,
          4,
          4,
          4,
          4,
          4,
          4,
          3,
          4,
          4,
          3,
          4,
          3,
          3,
          3,
          3,
          3,
          3,
          3,
          3,
          3,
          3,
          4,
          3,
          3,
          0,
          0,
          0,
          0,
          0,
          0,
          0,
          0,
          0,
          0,
          0,
          0,
          0,
          0,
          0,
          0,
          0,
          0,
          0,
          0,
          0,
          0,
          0,
          0,
          3,
          3,
          3,
          3,
          3,
          3,
          3,
          3,
          3,
          3,
          3,
          3,
          3,
          3,
          3,
          3,
          3,
          3,
          3,
          3,
          3,
          4,
          4,
          4,
          4,
          4,
          4,
          4,
          4,
          2,
          1,
          2,
          2,
          2,
          2,
          1,
          1,
          1,
          2,
          2,
          2,
          2,
          2,
          1,
          2,
          1,
          2,
          1,
          2,
          2,
          1,
          2,
          1,
          2,
          1,
          2,
          1,
          1,
          1,
          1,
          2,
          2,
          2,
          1,
          1,
          1,
          1,
          1,
          1,
          1,
          1,
          1,
          2,
          1,
          1,
          1,
          3,
          3,
          3,
          3,
          3,
          3,
          3,
          3,
          3,
          3,
          3,
          3,
          4,
          4,
          4,
          4,
          4
         ],
         "yaxis": "y"
        },
        {
         "hovertemplate": "variable=Ty_lp5<br>value=%{x}<br>Y_lp5=%{y}<extra></extra>",
         "legendgroup": "Ty_lp5",
         "marker": {
          "color": "#FFA15A",
          "symbol": "circle"
         },
         "mode": "markers",
         "name": "Ty_lp5",
         "orientation": "v",
         "showlegend": true,
         "type": "scatter",
         "x": [
          0.48665316227774036,
          0.48800360117038033,
          0.482736889489084,
          0.48075624577987847,
          0.4795408507765024,
          0.4769300022507315,
          0.4753094755795633,
          0.47427413909520594,
          0.47355390501913125,
          0.47287868557281115,
          0.4751744316902993,
          0.48593292820166556,
          0.48183659689399044,
          0.48026108485257707,
          0.4779203241053343,
          0.4776502363268062,
          0.47562457798784596,
          0.47404906594643254,
          0.4739590366869233,
          0.47427413909520594,
          0.5049291019581365,
          0.5196488858879137,
          0.4954760297096557,
          0.4696376322304749,
          0.4768849876209768,
          0.48098131892865187,
          0.47913571910871033,
          0.47548953409858197,
          0.47629979743416606,
          0.47638982669367547,
          0.4744541976142246,
          0.4861129867206842,
          0.48611298672068426,
          0.5123115012379024,
          0.5123115012379024,
          0.46378573036236775,
          0.4758046365068646,
          0.4752644609498086,
          0.4693225298221923,
          0.46999774926851223,
          0.5078100382624353,
          0.47413909520594183,
          0.4889038937654737,
          0.4928651811838847,
          0.48354715282466804,
          0.48354715282466804,
          0.46869232500562685,
          0.4857528696826468,
          0.4851676794958361,
          0.48552779653387346,
          0.4846725185685347,
          0.48494260634706277,
          0.4858879135719108,
          0.4859329282016656,
          0.4857528696826468,
          0.48575286968264686,
          0.4860229574611748,
          0.4860229574611748,
          0.4863380598694576,
          0.48620301598019366,
          0.48597794283142026,
          0.48593292820166556,
          0.48534773801485487,
          0.48561782579338275,
          0.4855728111636282,
          0.4888588791357191,
          0.48876884987620983,
          0.48831870357866314,
          0.487913571910871,
          0.48795858654062574,
          0.4888138645059646,
          0.49682646860229573,
          0.5110961062345263,
          0.49579113211793835,
          0.4886338059869457,
          0.4869682646860229,
          0.4828719333783481,
          0.4875084402430791,
          0.48417735764123343,
          0.4837272113436867,
          0.5235201440468152,
          0.5002925950934054,
          0.4977267611973891,
          0.4894440693225299,
          0.47350889038937655,
          0.4862030159801935,
          0.5089804186360568,
          0.48539275264460946,
          0.4823767724510466,
          0.4847175331982895,
          0.4807112311501239,
          0.49682646860229573,
          0.4747242853927526,
          0.48939905469277506,
          0.5009227999099707,
          0.5046590141796085,
          0.46626153499887457,
          0.48327706504614,
          0.5212694125590818,
          0.4679720909295521,
          0.6292144947107811,
          0.5064145847400405,
          0.562997974341661,
          0.5555255458023858,
          0.37605221697051533,
          0.47179833445869923,
          0.4711681296421337,
          0.520414134593743,
          0.4924600495160928,
          0.49426063470627946,
          0.31460724735539053,
          0.43781228899392305,
          0.5110510916047716,
          0.48242178708080125,
          0.48467251856853477,
          0.43069997749268524,
          0.5014179608372722,
          0.5836596893990547,
          0.4949808687823542,
          0.4598244429439568,
          0.4861129867206842,
          0.48971415710105787,
          0.43781228899392305,
          0.4892640108035111,
          0.3763223047490433,
          0.491739815440018,
          0.5049291019581365,
          0.5033085752869683,
          0.4979068197164079,
          0.4931802835921675,
          0.4875534548728337,
          0.5086203015980193,
          0.46342561332433035,
          0.49754670267837053,
          0.4835471528246681,
          0.4813864505964439,
          0.49408057618726087,
          0.47990096781453967,
          0.4930002250731488,
          0.4854827819041188,
          0.49822192212469046,
          0.4822867431915372,
          0.49002925950934056,
          0.47990096781453967,
          0.4931802835921675,
          0.46729687148323207,
          0.5237902318253432,
          0.4889038937654738,
          0.5022732388026109,
          0.49052442043664185,
          0.4883187035786631,
          0.4659014179608373,
          0.4832320504163853,
          0.4823317578212919,
          0.5047040288093629,
          0.4886338059869458,
          0.5017330632455548,
          0.48966914247130316,
          0.4694125590817015,
          0.48732838172406034,
          0.4990321854602745,
          0.4874184109835697,
          0.48440243079000683,
          0.4904343911771326
         ],
         "xaxis": "x",
         "y": [
          0,
          0,
          0,
          0,
          0,
          0,
          0,
          0,
          0,
          0,
          0,
          0,
          0,
          0,
          0,
          0,
          0,
          0,
          0,
          0,
          4,
          4,
          4,
          4,
          4,
          4,
          4,
          4,
          4,
          3,
          4,
          4,
          3,
          4,
          3,
          3,
          3,
          3,
          3,
          3,
          3,
          3,
          3,
          3,
          4,
          3,
          3,
          0,
          0,
          0,
          0,
          0,
          0,
          0,
          0,
          0,
          0,
          0,
          0,
          0,
          0,
          0,
          0,
          0,
          0,
          0,
          0,
          0,
          0,
          0,
          0,
          3,
          3,
          3,
          3,
          3,
          3,
          3,
          3,
          3,
          3,
          3,
          3,
          3,
          3,
          3,
          3,
          3,
          3,
          3,
          3,
          3,
          4,
          4,
          4,
          4,
          4,
          4,
          4,
          4,
          2,
          1,
          2,
          2,
          2,
          2,
          1,
          1,
          1,
          2,
          2,
          2,
          2,
          2,
          1,
          2,
          1,
          2,
          1,
          2,
          2,
          1,
          2,
          1,
          2,
          1,
          2,
          1,
          1,
          1,
          1,
          2,
          2,
          2,
          1,
          1,
          1,
          1,
          1,
          1,
          1,
          1,
          1,
          2,
          1,
          1,
          1,
          3,
          3,
          3,
          3,
          3,
          3,
          3,
          3,
          3,
          3,
          3,
          3,
          4,
          4,
          4,
          4,
          4
         ],
         "yaxis": "y"
        },
        {
         "hovertemplate": "variable=Tz_lp5<br>value=%{x}<br>Y_lp5=%{y}<extra></extra>",
         "legendgroup": "Tz_lp5",
         "marker": {
          "color": "#19d3f3",
          "symbol": "circle"
         },
         "mode": "markers",
         "name": "Tz_lp5",
         "orientation": "v",
         "showlegend": true,
         "type": "scatter",
         "x": [
          0.5044715447154471,
          0.5035230352303522,
          0.5008130081300813,
          0.49214092140921406,
          0.49173441734417345,
          0.49037940379403794,
          0.48739837398373975,
          0.48279132791327917,
          0.4844173441734417,
          0.4819783197831978,
          0.48685636856368564,
          0.5063685636856368,
          0.4983739837398374,
          0.49308943089430896,
          0.49214092140921406,
          0.4913279132791329,
          0.4841463414634146,
          0.48455284552845523,
          0.4823848238482384,
          0.48590785907859074,
          0.4867208672086721,
          0.48319783197831984,
          0.49999999999999994,
          0.4915989159891599,
          0.4956639566395664,
          0.48387533875338756,
          0.4827913279132791,
          0.48658536585365847,
          0.4841463414634145,
          0.48929539295392954,
          0.48848238482384826,
          0.4886178861788618,
          0.4886178861788618,
          0.49850948509485093,
          0.49850948509485093,
          0.4936314363143631,
          0.487669376693767,
          0.4880758807588076,
          0.4863143631436314,
          0.4784552845528455,
          0.4869918699186992,
          0.47018970189701903,
          0.49308943089430896,
          0.4936314363143631,
          0.500271002710027,
          0.500271002710027,
          0.5056910569105691,
          0.502710027100271,
          0.502710027100271,
          0.5020325203252033,
          0.502710027100271,
          0.5031165311653116,
          0.502981029810298,
          0.50420054200542,
          0.5046070460704607,
          0.5051490514905148,
          0.5035230352303522,
          0.5035230352303522,
          0.5032520325203252,
          0.5032520325203251,
          0.5031165311653115,
          0.5028455284552844,
          0.5044715447154471,
          0.5047425474254742,
          0.5036585365853657,
          0.5070460704607045,
          0.5077235772357722,
          0.5071815718157181,
          0.5073170731707316,
          0.5074525745257452,
          0.5070460704607045,
          0.498509485094851,
          0.5051490514905148,
          0.5029810298102981,
          0.5023035230352303,
          0.4941734417344173,
          0.5023035230352303,
          0.4968834688346883,
          0.4981029810298104,
          0.49823848238482393,
          0.4789972899728997,
          0.4928184281842818,
          0.49905149051490516,
          0.4910569105691057,
          0.47994579945799465,
          0.5092140921409214,
          0.4630081300813008,
          0.501219512195122,
          0.5009485094850948,
          0.49485094850948513,
          0.49850948509485093,
          0.498509485094851,
          0.4991869918699187,
          0.49769647696476965,
          0.49742547425474265,
          0.49945799457994583,
          0.5012195121951221,
          0.49769647696476965,
          0.4962059620596207,
          0.49430894308943096,
          0.5021680216802169,
          0.5033875338753387,
          0.402710027100271,
          0.36070460704607044,
          0.40203252032520326,
          0.4689701897018969,
          0.49403794037940385,
          0.4875338753387534,
          0.521680216802168,
          0.48983739837398377,
          0.5317073170731708,
          0.4378048780487804,
          0.523170731707317,
          0.5078590785907857,
          0.5102981029810298,
          0.6425474254742549,
          0.5147696476964769,
          0.5051490514905148,
          0.490650406504065,
          0.48252032520325205,
          0.4856368563685637,
          0.5093495934959349,
          0.5302168021680216,
          0.5092140921409213,
          0.5410569105691055,
          0.5062330623306232,
          0.48631436314363147,
          0.5027100271002709,
          0.5069105691056909,
          0.5070460704607045,
          0.50840108401084,
          0.5193766937669376,
          0.5327913279132791,
          0.5349593495934959,
          0.5131436314363145,
          0.5073170731707316,
          0.49945799457994594,
          0.5089430894308943,
          0.5043360433604336,
          0.5093495934959349,
          0.5046070460704607,
          0.5140921409214093,
          0.5161246612466125,
          0.49430894308943096,
          0.5082655826558263,
          0.49647696476964764,
          0.5051490514905147,
          0.49837398373983743,
          0.4970189701897019,
          0.49756097560975615,
          0.49783197831978326,
          0.49552845528455286,
          0.49607046070460714,
          0.49092140921409216,
          0.5008130081300813,
          0.4978319783197832,
          0.5033875338753387,
          0.4970189701897019,
          0.4962059620596206,
          0.5,
          0.49796747967479676,
          0.4966124661246613,
          0.4971544715447155,
          0.4968834688346884
         ],
         "xaxis": "x",
         "y": [
          0,
          0,
          0,
          0,
          0,
          0,
          0,
          0,
          0,
          0,
          0,
          0,
          0,
          0,
          0,
          0,
          0,
          0,
          0,
          0,
          4,
          4,
          4,
          4,
          4,
          4,
          4,
          4,
          4,
          3,
          4,
          4,
          3,
          4,
          3,
          3,
          3,
          3,
          3,
          3,
          3,
          3,
          3,
          3,
          4,
          3,
          3,
          0,
          0,
          0,
          0,
          0,
          0,
          0,
          0,
          0,
          0,
          0,
          0,
          0,
          0,
          0,
          0,
          0,
          0,
          0,
          0,
          0,
          0,
          0,
          0,
          3,
          3,
          3,
          3,
          3,
          3,
          3,
          3,
          3,
          3,
          3,
          3,
          3,
          3,
          3,
          3,
          3,
          3,
          3,
          3,
          3,
          4,
          4,
          4,
          4,
          4,
          4,
          4,
          4,
          2,
          1,
          2,
          2,
          2,
          2,
          1,
          1,
          1,
          2,
          2,
          2,
          2,
          2,
          1,
          2,
          1,
          2,
          1,
          2,
          2,
          1,
          2,
          1,
          2,
          1,
          2,
          1,
          1,
          1,
          1,
          2,
          2,
          2,
          1,
          1,
          1,
          1,
          1,
          1,
          1,
          1,
          1,
          2,
          1,
          1,
          1,
          3,
          3,
          3,
          3,
          3,
          3,
          3,
          3,
          3,
          3,
          3,
          3,
          4,
          4,
          4,
          4,
          4
         ],
         "yaxis": "y"
        }
       ],
       "layout": {
        "legend": {
         "title": {
          "text": "variable"
         },
         "tracegroupgap": 0
        },
        "margin": {
         "t": 60
        },
        "template": {
         "data": {
          "bar": [
           {
            "error_x": {
             "color": "#2a3f5f"
            },
            "error_y": {
             "color": "#2a3f5f"
            },
            "marker": {
             "line": {
              "color": "#E5ECF6",
              "width": 0.5
             },
             "pattern": {
              "fillmode": "overlay",
              "size": 10,
              "solidity": 0.2
             }
            },
            "type": "bar"
           }
          ],
          "barpolar": [
           {
            "marker": {
             "line": {
              "color": "#E5ECF6",
              "width": 0.5
             },
             "pattern": {
              "fillmode": "overlay",
              "size": 10,
              "solidity": 0.2
             }
            },
            "type": "barpolar"
           }
          ],
          "carpet": [
           {
            "aaxis": {
             "endlinecolor": "#2a3f5f",
             "gridcolor": "white",
             "linecolor": "white",
             "minorgridcolor": "white",
             "startlinecolor": "#2a3f5f"
            },
            "baxis": {
             "endlinecolor": "#2a3f5f",
             "gridcolor": "white",
             "linecolor": "white",
             "minorgridcolor": "white",
             "startlinecolor": "#2a3f5f"
            },
            "type": "carpet"
           }
          ],
          "choropleth": [
           {
            "colorbar": {
             "outlinewidth": 0,
             "ticks": ""
            },
            "type": "choropleth"
           }
          ],
          "contour": [
           {
            "colorbar": {
             "outlinewidth": 0,
             "ticks": ""
            },
            "colorscale": [
             [
              0,
              "#0d0887"
             ],
             [
              0.1111111111111111,
              "#46039f"
             ],
             [
              0.2222222222222222,
              "#7201a8"
             ],
             [
              0.3333333333333333,
              "#9c179e"
             ],
             [
              0.4444444444444444,
              "#bd3786"
             ],
             [
              0.5555555555555556,
              "#d8576b"
             ],
             [
              0.6666666666666666,
              "#ed7953"
             ],
             [
              0.7777777777777778,
              "#fb9f3a"
             ],
             [
              0.8888888888888888,
              "#fdca26"
             ],
             [
              1,
              "#f0f921"
             ]
            ],
            "type": "contour"
           }
          ],
          "contourcarpet": [
           {
            "colorbar": {
             "outlinewidth": 0,
             "ticks": ""
            },
            "type": "contourcarpet"
           }
          ],
          "heatmap": [
           {
            "colorbar": {
             "outlinewidth": 0,
             "ticks": ""
            },
            "colorscale": [
             [
              0,
              "#0d0887"
             ],
             [
              0.1111111111111111,
              "#46039f"
             ],
             [
              0.2222222222222222,
              "#7201a8"
             ],
             [
              0.3333333333333333,
              "#9c179e"
             ],
             [
              0.4444444444444444,
              "#bd3786"
             ],
             [
              0.5555555555555556,
              "#d8576b"
             ],
             [
              0.6666666666666666,
              "#ed7953"
             ],
             [
              0.7777777777777778,
              "#fb9f3a"
             ],
             [
              0.8888888888888888,
              "#fdca26"
             ],
             [
              1,
              "#f0f921"
             ]
            ],
            "type": "heatmap"
           }
          ],
          "heatmapgl": [
           {
            "colorbar": {
             "outlinewidth": 0,
             "ticks": ""
            },
            "colorscale": [
             [
              0,
              "#0d0887"
             ],
             [
              0.1111111111111111,
              "#46039f"
             ],
             [
              0.2222222222222222,
              "#7201a8"
             ],
             [
              0.3333333333333333,
              "#9c179e"
             ],
             [
              0.4444444444444444,
              "#bd3786"
             ],
             [
              0.5555555555555556,
              "#d8576b"
             ],
             [
              0.6666666666666666,
              "#ed7953"
             ],
             [
              0.7777777777777778,
              "#fb9f3a"
             ],
             [
              0.8888888888888888,
              "#fdca26"
             ],
             [
              1,
              "#f0f921"
             ]
            ],
            "type": "heatmapgl"
           }
          ],
          "histogram": [
           {
            "marker": {
             "pattern": {
              "fillmode": "overlay",
              "size": 10,
              "solidity": 0.2
             }
            },
            "type": "histogram"
           }
          ],
          "histogram2d": [
           {
            "colorbar": {
             "outlinewidth": 0,
             "ticks": ""
            },
            "colorscale": [
             [
              0,
              "#0d0887"
             ],
             [
              0.1111111111111111,
              "#46039f"
             ],
             [
              0.2222222222222222,
              "#7201a8"
             ],
             [
              0.3333333333333333,
              "#9c179e"
             ],
             [
              0.4444444444444444,
              "#bd3786"
             ],
             [
              0.5555555555555556,
              "#d8576b"
             ],
             [
              0.6666666666666666,
              "#ed7953"
             ],
             [
              0.7777777777777778,
              "#fb9f3a"
             ],
             [
              0.8888888888888888,
              "#fdca26"
             ],
             [
              1,
              "#f0f921"
             ]
            ],
            "type": "histogram2d"
           }
          ],
          "histogram2dcontour": [
           {
            "colorbar": {
             "outlinewidth": 0,
             "ticks": ""
            },
            "colorscale": [
             [
              0,
              "#0d0887"
             ],
             [
              0.1111111111111111,
              "#46039f"
             ],
             [
              0.2222222222222222,
              "#7201a8"
             ],
             [
              0.3333333333333333,
              "#9c179e"
             ],
             [
              0.4444444444444444,
              "#bd3786"
             ],
             [
              0.5555555555555556,
              "#d8576b"
             ],
             [
              0.6666666666666666,
              "#ed7953"
             ],
             [
              0.7777777777777778,
              "#fb9f3a"
             ],
             [
              0.8888888888888888,
              "#fdca26"
             ],
             [
              1,
              "#f0f921"
             ]
            ],
            "type": "histogram2dcontour"
           }
          ],
          "mesh3d": [
           {
            "colorbar": {
             "outlinewidth": 0,
             "ticks": ""
            },
            "type": "mesh3d"
           }
          ],
          "parcoords": [
           {
            "line": {
             "colorbar": {
              "outlinewidth": 0,
              "ticks": ""
             }
            },
            "type": "parcoords"
           }
          ],
          "pie": [
           {
            "automargin": true,
            "type": "pie"
           }
          ],
          "scatter": [
           {
            "fillpattern": {
             "fillmode": "overlay",
             "size": 10,
             "solidity": 0.2
            },
            "type": "scatter"
           }
          ],
          "scatter3d": [
           {
            "line": {
             "colorbar": {
              "outlinewidth": 0,
              "ticks": ""
             }
            },
            "marker": {
             "colorbar": {
              "outlinewidth": 0,
              "ticks": ""
             }
            },
            "type": "scatter3d"
           }
          ],
          "scattercarpet": [
           {
            "marker": {
             "colorbar": {
              "outlinewidth": 0,
              "ticks": ""
             }
            },
            "type": "scattercarpet"
           }
          ],
          "scattergeo": [
           {
            "marker": {
             "colorbar": {
              "outlinewidth": 0,
              "ticks": ""
             }
            },
            "type": "scattergeo"
           }
          ],
          "scattergl": [
           {
            "marker": {
             "colorbar": {
              "outlinewidth": 0,
              "ticks": ""
             }
            },
            "type": "scattergl"
           }
          ],
          "scattermapbox": [
           {
            "marker": {
             "colorbar": {
              "outlinewidth": 0,
              "ticks": ""
             }
            },
            "type": "scattermapbox"
           }
          ],
          "scatterpolar": [
           {
            "marker": {
             "colorbar": {
              "outlinewidth": 0,
              "ticks": ""
             }
            },
            "type": "scatterpolar"
           }
          ],
          "scatterpolargl": [
           {
            "marker": {
             "colorbar": {
              "outlinewidth": 0,
              "ticks": ""
             }
            },
            "type": "scatterpolargl"
           }
          ],
          "scatterternary": [
           {
            "marker": {
             "colorbar": {
              "outlinewidth": 0,
              "ticks": ""
             }
            },
            "type": "scatterternary"
           }
          ],
          "surface": [
           {
            "colorbar": {
             "outlinewidth": 0,
             "ticks": ""
            },
            "colorscale": [
             [
              0,
              "#0d0887"
             ],
             [
              0.1111111111111111,
              "#46039f"
             ],
             [
              0.2222222222222222,
              "#7201a8"
             ],
             [
              0.3333333333333333,
              "#9c179e"
             ],
             [
              0.4444444444444444,
              "#bd3786"
             ],
             [
              0.5555555555555556,
              "#d8576b"
             ],
             [
              0.6666666666666666,
              "#ed7953"
             ],
             [
              0.7777777777777778,
              "#fb9f3a"
             ],
             [
              0.8888888888888888,
              "#fdca26"
             ],
             [
              1,
              "#f0f921"
             ]
            ],
            "type": "surface"
           }
          ],
          "table": [
           {
            "cells": {
             "fill": {
              "color": "#EBF0F8"
             },
             "line": {
              "color": "white"
             }
            },
            "header": {
             "fill": {
              "color": "#C8D4E3"
             },
             "line": {
              "color": "white"
             }
            },
            "type": "table"
           }
          ]
         },
         "layout": {
          "annotationdefaults": {
           "arrowcolor": "#2a3f5f",
           "arrowhead": 0,
           "arrowwidth": 1
          },
          "autotypenumbers": "strict",
          "coloraxis": {
           "colorbar": {
            "outlinewidth": 0,
            "ticks": ""
           }
          },
          "colorscale": {
           "diverging": [
            [
             0,
             "#8e0152"
            ],
            [
             0.1,
             "#c51b7d"
            ],
            [
             0.2,
             "#de77ae"
            ],
            [
             0.3,
             "#f1b6da"
            ],
            [
             0.4,
             "#fde0ef"
            ],
            [
             0.5,
             "#f7f7f7"
            ],
            [
             0.6,
             "#e6f5d0"
            ],
            [
             0.7,
             "#b8e186"
            ],
            [
             0.8,
             "#7fbc41"
            ],
            [
             0.9,
             "#4d9221"
            ],
            [
             1,
             "#276419"
            ]
           ],
           "sequential": [
            [
             0,
             "#0d0887"
            ],
            [
             0.1111111111111111,
             "#46039f"
            ],
            [
             0.2222222222222222,
             "#7201a8"
            ],
            [
             0.3333333333333333,
             "#9c179e"
            ],
            [
             0.4444444444444444,
             "#bd3786"
            ],
            [
             0.5555555555555556,
             "#d8576b"
            ],
            [
             0.6666666666666666,
             "#ed7953"
            ],
            [
             0.7777777777777778,
             "#fb9f3a"
            ],
            [
             0.8888888888888888,
             "#fdca26"
            ],
            [
             1,
             "#f0f921"
            ]
           ],
           "sequentialminus": [
            [
             0,
             "#0d0887"
            ],
            [
             0.1111111111111111,
             "#46039f"
            ],
            [
             0.2222222222222222,
             "#7201a8"
            ],
            [
             0.3333333333333333,
             "#9c179e"
            ],
            [
             0.4444444444444444,
             "#bd3786"
            ],
            [
             0.5555555555555556,
             "#d8576b"
            ],
            [
             0.6666666666666666,
             "#ed7953"
            ],
            [
             0.7777777777777778,
             "#fb9f3a"
            ],
            [
             0.8888888888888888,
             "#fdca26"
            ],
            [
             1,
             "#f0f921"
            ]
           ]
          },
          "colorway": [
           "#636efa",
           "#EF553B",
           "#00cc96",
           "#ab63fa",
           "#FFA15A",
           "#19d3f3",
           "#FF6692",
           "#B6E880",
           "#FF97FF",
           "#FECB52"
          ],
          "font": {
           "color": "#2a3f5f"
          },
          "geo": {
           "bgcolor": "white",
           "lakecolor": "white",
           "landcolor": "#E5ECF6",
           "showlakes": true,
           "showland": true,
           "subunitcolor": "white"
          },
          "hoverlabel": {
           "align": "left"
          },
          "hovermode": "closest",
          "mapbox": {
           "style": "light"
          },
          "paper_bgcolor": "white",
          "plot_bgcolor": "#E5ECF6",
          "polar": {
           "angularaxis": {
            "gridcolor": "white",
            "linecolor": "white",
            "ticks": ""
           },
           "bgcolor": "#E5ECF6",
           "radialaxis": {
            "gridcolor": "white",
            "linecolor": "white",
            "ticks": ""
           }
          },
          "scene": {
           "xaxis": {
            "backgroundcolor": "#E5ECF6",
            "gridcolor": "white",
            "gridwidth": 2,
            "linecolor": "white",
            "showbackground": true,
            "ticks": "",
            "zerolinecolor": "white"
           },
           "yaxis": {
            "backgroundcolor": "#E5ECF6",
            "gridcolor": "white",
            "gridwidth": 2,
            "linecolor": "white",
            "showbackground": true,
            "ticks": "",
            "zerolinecolor": "white"
           },
           "zaxis": {
            "backgroundcolor": "#E5ECF6",
            "gridcolor": "white",
            "gridwidth": 2,
            "linecolor": "white",
            "showbackground": true,
            "ticks": "",
            "zerolinecolor": "white"
           }
          },
          "shapedefaults": {
           "line": {
            "color": "#2a3f5f"
           }
          },
          "ternary": {
           "aaxis": {
            "gridcolor": "white",
            "linecolor": "white",
            "ticks": ""
           },
           "baxis": {
            "gridcolor": "white",
            "linecolor": "white",
            "ticks": ""
           },
           "bgcolor": "#E5ECF6",
           "caxis": {
            "gridcolor": "white",
            "linecolor": "white",
            "ticks": ""
           }
          },
          "title": {
           "x": 0.05
          },
          "xaxis": {
           "automargin": true,
           "gridcolor": "white",
           "linecolor": "white",
           "ticks": "",
           "title": {
            "standoff": 15
           },
           "zerolinecolor": "white",
           "zerolinewidth": 2
          },
          "yaxis": {
           "automargin": true,
           "gridcolor": "white",
           "linecolor": "white",
           "ticks": "",
           "title": {
            "standoff": 15
           },
           "zerolinecolor": "white",
           "zerolinewidth": 2
          }
         }
        },
        "xaxis": {
         "anchor": "y",
         "domain": [
          0,
          1
         ],
         "title": {
          "text": "value"
         },
         "type": "log"
        },
        "yaxis": {
         "anchor": "x",
         "domain": [
          0,
          1
         ],
         "title": {
          "text": "Y_lp5"
         }
        }
       }
      }
     },
     "metadata": {},
     "output_type": "display_data"
    }
   ],
   "source": [
    "dic = {\"Fx_lp5\": \"red\", \"Fy_lp5\": \"blue\" , \"Fz_lp5\": \"green\" , \"Tx_lp5\": \"black\", \"Tx_lp5\": \"purple\", \"Ty_lp5\": \"orange\", \"Tz_lp5\": \"yellow\"}\n",
    "lp5_scatter = plty.scatter(X_lp5_df, x = [\"Fx_lp5\", \"Fy_lp5\", \"Fz_lp5\", \"Tx_lp5\", \"Ty_lp5\", \"Tz_lp5\"],  color_discrete_map= dic)\n",
    "lp5_logscatter = plty.scatter(X_lp5_df,  x = [\"Fx_lp5\", \"Fy_lp5\", \"Fz_lp5\", \"Tx_lp5\", \"Ty_lp5\", \"Tz_lp5\"] , y= \"Y_lp5\", log_x=True)\n",
    "lp5_scatter.show()\n",
    "lp5_logscatter.show()"
   ]
  },
  {
   "cell_type": "markdown",
   "metadata": {},
   "source": [
    "Kernel density estimation plot"
   ]
  },
  {
   "cell_type": "code",
   "execution_count": 18,
   "metadata": {},
   "outputs": [
    {
     "data": {
      "text/plain": [
       "<AxesSubplot:xlabel='F_lp5', ylabel='Density'>"
      ]
     },
     "execution_count": 18,
     "metadata": {},
     "output_type": "execute_result"
    },
    {
     "data": {
      "image/png": "[encoded data removed]",
      "text/plain": [
       "<Figure size 432x288 with 1 Axes>"
      ]
     },
     "metadata": {
      "needs_background": "light"
     },
     "output_type": "display_data"
    }
   ],
   "source": [
    "sns.kdeplot(data=X_lp5_df, x = 'F_lp5', bw_method = \"scott\" , bw_adjust = 1)"
   ]
  },
  {
   "cell_type": "code",
   "execution_count": 19,
   "metadata": {},
   "outputs": [
    {
     "data": {
      "text/plain": [
       "<AxesSubplot:xlabel='T_lp5', ylabel='Density'>"
      ]
     },
     "execution_count": 19,
     "metadata": {},
     "output_type": "execute_result"
    },
    {
     "data": {
      "image/png": "[encoded data removed]",
      "text/plain": [
       "<Figure size 432x288 with 1 Axes>"
      ]
     },
     "metadata": {
      "needs_background": "light"
     },
     "output_type": "display_data"
    }
   ],
   "source": [
    "sns.kdeplot(data=X_lp5_df, x = 'T_lp5', color=\"Green\")"
   ]
  },
  {
   "cell_type": "code",
   "execution_count": 20,
   "metadata": {},
   "outputs": [
    {
     "data": {
      "application/vnd.plotly.v1+json": {
       "config": {
        "plotlyServerURL": "https://plot.ly"
       },
       "data": [
        {
         "hovertemplate": "F_lp5=%{x}<br>T_lp5=%{y}<br>Y_lp5=%{marker.color}<extra></extra>",
         "legendgroup": "",
         "marker": {
          "color": [
           0,
           0,
           0,
           0,
           0,
           0,
           0,
           0,
           0,
           0,
           0,
           0,
           0,
           0,
           0,
           0,
           0,
           0,
           0,
           0,
           4,
           4,
           4,
           4,
           4,
           4,
           4,
           4,
           4,
           3,
           4,
           4,
           3,
           4,
           3,
           3,
           3,
           3,
           3,
           3,
           3,
           3,
           3,
           3,
           4,
           3,
           3,
           0,
           0,
           0,
           0,
           0,
           0,
           0,
           0,
           0,
           0,
           0,
           0,
           0,
           0,
           0,
           0,
           0,
           0,
           0,
           0,
           0,
           0,
           0,
           0,
           3,
           3,
           3,
           3,
           3,
           3,
           3,
           3,
           3,
           3,
           3,
           3,
           3,
           3,
           3,
           3,
           3,
           3,
           3,
           3,
           3,
           4,
           4,
           4,
           4,
           4,
           4,
           4,
           4,
           2,
           1,
           2,
           2,
           2,
           2,
           1,
           1,
           1,
           2,
           2,
           2,
           2,
           2,
           1,
           2,
           1,
           2,
           1,
           2,
           2,
           1,
           2,
           1,
           2,
           1,
           2,
           1,
           1,
           1,
           1,
           2,
           2,
           2,
           1,
           1,
           1,
           1,
           1,
           1,
           1,
           1,
           1,
           2,
           1,
           1,
           1,
           3,
           3,
           3,
           3,
           3,
           3,
           3,
           3,
           3,
           3,
           3,
           3,
           4,
           4,
           4,
           4,
           4
          ],
          "coloraxis": "coloraxis",
          "symbol": "circle"
         },
         "mode": "markers",
         "name": "",
         "orientation": "v",
         "showlegend": false,
         "type": "scatter",
         "x": [
          0.0216016730767654,
          0.021806975685852208,
          0.021400753986686838,
          0.02208502875897178,
          0.02142765776816038,
          0.02143008062412254,
          0.02152081847079247,
          0.021343889694522653,
          0.02157337628259515,
          0.02183863477214372,
          0.022049269000949043,
          0.021867302484714763,
          0.0213006378547484,
          0.021758006521780164,
          0.021380607682092694,
          0.021353426743040083,
          0.02150164771589026,
          0.02157651532631166,
          0.021587414857674198,
          0.021558481973693693,
          0.029060948675055247,
          0.028465280735771925,
          0.025473356222752628,
          0.025477822732217197,
          0.02444562273527701,
          0.022716543837357044,
          0.02251898405011434,
          0.022378727206874945,
          0.022864587596164342,
          0.022491221578836245,
          0.023105472170891282,
          0.02349777020098399,
          0.02349777020098399,
          0.027246968683070267,
          0.027246968683070267,
          0.020711635407791713,
          0.023247541375333563,
          0.023165379124582622,
          0.023438351264333437,
          0.025200377543105588,
          0.030240993694045416,
          0.023990675889768418,
          0.02262225932516524,
          0.02428987640187904,
          0.02254007067177128,
          0.02254007067177128,
          0.02390893262859406,
          0.005134240007518187,
          0.005515341801324312,
          0.006023105560265316,
          0.005280024386928998,
          0.005389840334667157,
          0.005077099302188691,
          0.0045892950924627685,
          0.005225920959048941,
          0.005298878369657438,
          0.004215391379712822,
          0.004067252969272633,
          0.004643895992714672,
          0.0040336586770399726,
          0.003961207612861684,
          0.003815665067065424,
          0.004706157565585694,
          0.0049390502113288255,
          0.005278724486716565,
          0.0026083443882360382,
          0.001968421225726162,
          0.002034957943667252,
          0.0017817087440151489,
          0.0019886476215442883,
          0.0021520907937674066,
          0.007293297520491684,
          0.01084968896277208,
          0.004142694197424506,
          0.004286932786039213,
          0.002917727344333675,
          0.00337966074290464,
          0.0028485118774949896,
          0.003214401665110678,
          0.0041320004868657546,
          0.008293517311237416,
          0.018514675695987734,
          0.005914198686400301,
          0.004883983142116918,
          0.00823976688510203,
          0.003482585514337667,
          0.01324610633352305,
          0.004858313765306109,
          0.0054451272524909155,
          0.014239480562464284,
          0.006643198863660019,
          0.007293297520491684,
          0.008178506534752385,
          0.002149821622266424,
          0.004218020337641327,
          0.005463451153245239,
          0.008747010097286506,
          0.0043311038483159646,
          0.01242802563267923,
          0.008657380797652487,
          0.6362843445440131,
          0.03633375212810425,
          0.23114979632322952,
          0.15779429066577383,
          0.25943660425853843,
          0.6769664162003142,
          0.07530068588578251,
          0.07617394883659735,
          0.059624692879567245,
          0.31501764953601,
          0.27970778939781266,
          0.20597098041466283,
          0.14059969916666754,
          0.008864793452755643,
          0.043267094767220016,
          0.2826055876295244,
          0.006976085912970738,
          0.30017144486911446,
          0.04543302890145833,
          0.15636919262081053,
          0.02538019569116453,
          0.009325905424541057,
          0.26122870930161607,
          0.001863422954344821,
          0.2171894543140502,
          0.003084226392975217,
          0.2728356551665806,
          0.04100903019780933,
          0.023118104115426755,
          0.02210295403657412,
          0.008668033294917932,
          0.056103042444826313,
          0.12414561721316879,
          0.21141020861742324,
          0.006607959718082933,
          0.0057625443631581464,
          0.020016231131464723,
          0.005361442387345198,
          0.014900839546213377,
          0.004773835943031809,
          0.014519827560881498,
          0.006381202419891074,
          0.010020253741516421,
          0.12260540976071503,
          0.004333840906360347,
          0.06107333023232009,
          0.023892419324552015,
          0.003639067557077341,
          0.005867931185968677,
          0.0023649480163243828,
          0.001830296932513689,
          0.009720507905899187,
          0.002691704171746335,
          0.0031326325918891525,
          0.006366360647837587,
          0.003065291717155179,
          0.007853420200763208,
          0.0039015348559917067,
          0.011120779078025712,
          0.002534442049192039,
          0.003754165628123676,
          0.0023926411731429466,
          0.003568213542580036,
          0.0018509896670844109
         ],
         "xaxis": "x",
         "y": [
          0.0030206035368810385,
          0.013259001913758802,
          0.0142974957894745,
          0.015930735859011034,
          0.01770734548031796,
          0.019816181215633593,
          0.022761405892792998,
          0.026776967250965445,
          0.028113909948198228,
          0.02981761223688276,
          0.031358752971381416,
          0.009704056349434382,
          0.013503105739463945,
          0.016791029024208756,
          0.01994856242718906,
          0.01821735106627757,
          0.024177836808449704,
          0.02740235990504236,
          0.02932733132367031,
          0.029220342196336006,
          0.07917213537479438,
          0.07698095359535549,
          0.048941308146660686,
          0.057466312065955365,
          0.04031642732586348,
          0.02862558052603109,
          0.03471323976123368,
          0.03152017125067445,
          0.030752530996209018,
          0.02178407788884955,
          0.03192977696465129,
          0.03270430710939661,
          0.03270430710939661,
          0.08592174911793368,
          0.08592174911793367,
          0.043273324975849244,
          0.028181111649273248,
          0.03685606060302587,
          0.03538011894559014,
          0.04002209819126023,
          0.07070822271831068,
          0.05709314631504509,
          0.019299895148513338,
          0.0496912940521231,
          0.01981120055295643,
          0.01981120055295643,
          0.048117363028813614,
          0.006448445096943829,
          0.0069375944623007975,
          0.006008372761446135,
          0.007035782702070204,
          0.00664541529603499,
          0.005273716803916392,
          0.005856259326749629,
          0.005379311698366395,
          0.00588466500832326,
          0.004433170587005032,
          0.0043686230875485624,
          0.003942051136159883,
          0.00402149547511931,
          0.00431026224725638,
          0.00443076225177593,
          0.00608546934795342,
          0.004989542349839758,
          0.005621869506052281,
          0.004842303847358888,
          0.003804208168578853,
          0.004716348848283798,
          0.004500318261343879,
          0.005009054636648534,
          0.003674976387510227,
          0.017503371477693253,
          0.03240374439750722,
          0.015342076292549505,
          0.01022273940409643,
          0.01088327435790402,
          0.010867922013401816,
          0.011215724994178595,
          0.009483702768085255,
          0.011483846641966717,
          0.05993950895296869,
          0.03704153649440831,
          0.03581408022271918,
          0.019268982004201452,
          0.06276380291291395,
          0.02004346434082939,
          0.09683852668900124,
          0.008118604398739782,
          0.010384950508155305,
          0.027305525451502676,
          0.021577968249653075,
          0.017503371477693253,
          0.02972833547753872,
          0.008155782868489734,
          0.01904068362821839,
          0.02426507474636261,
          0.04442741092775073,
          0.01435532618079991,
          0.05379544075080251,
          0.03655297435594994,
          0.22928873942862193,
          0.0501861725942713,
          0.17629687657145812,
          0.12603598347643719,
          0.23042970572881552,
          0.11763912754763409,
          0.0882523256410878,
          0.11791950377711301,
          0.09927252556986962,
          0.13658435712356212,
          0.25274714708232715,
          0.11693138921044323,
          0.11777693693565026,
          0.015380840497370034,
          0.03481835085421865,
          0.2814131581292878,
          0.022770827773274604,
          0.14624118834486752,
          0.03344828831556653,
          0.11181591468420302,
          0.03038452676965469,
          0.006572059840609577,
          0.12749386453945624,
          0.005040203496814222,
          0.1795273498874792,
          0.008173892120736383,
          0.0565243155316669,
          0.02427454676954426,
          0.015042038701949041,
          0.008681413552250095,
          0.005333130482744661,
          0.05958436510134248,
          0.09945146888113691,
          0.09266434045157333,
          0.01324938374268307,
          0.022762956237507445,
          0.020828447072839394,
          0.015044507036733174,
          0.009336791729986138,
          0.007600766165965847,
          0.018278673964860218,
          0.014385598352284446,
          0.02415335781337547,
          0.06277698820755159,
          0.005774914380277618,
          0.047409502003678446,
          0.07381466216766032,
          0.0045116331228030136,
          0.024865631487068187,
          0.010594235386360226,
          0.0037821299306768775,
          0.04082159206533945,
          0.009500908911680822,
          0.01754937567129779,
          0.03149527077237166,
          0.009976221604921643,
          0.025103428324177376,
          0.01538511487908269,
          0.044378039902072425,
          0.009554073214763212,
          0.015172914591371454,
          0.007095746068186046,
          0.013565101469243756,
          0.007259693708429954
         ],
         "yaxis": "y"
        }
       ],
       "layout": {
        "coloraxis": {
         "colorbar": {
          "title": {
           "text": "Y_lp5"
          }
         },
         "colorscale": [
          [
           0,
           "#0d0887"
          ],
          [
           0.1111111111111111,
           "#46039f"
          ],
          [
           0.2222222222222222,
           "#7201a8"
          ],
          [
           0.3333333333333333,
           "#9c179e"
          ],
          [
           0.4444444444444444,
           "#bd3786"
          ],
          [
           0.5555555555555556,
           "#d8576b"
          ],
          [
           0.6666666666666666,
           "#ed7953"
          ],
          [
           0.7777777777777778,
           "#fb9f3a"
          ],
          [
           0.8888888888888888,
           "#fdca26"
          ],
          [
           1,
           "#f0f921"
          ]
         ]
        },
        "legend": {
         "tracegroupgap": 0
        },
        "margin": {
         "t": 60
        },
        "template": {
         "data": {
          "bar": [
           {
            "error_x": {
             "color": "#2a3f5f"
            },
            "error_y": {
             "color": "#2a3f5f"
            },
            "marker": {
             "line": {
              "color": "#E5ECF6",
              "width": 0.5
             },
             "pattern": {
              "fillmode": "overlay",
              "size": 10,
              "solidity": 0.2
             }
            },
            "type": "bar"
           }
          ],
          "barpolar": [
           {
            "marker": {
             "line": {
              "color": "#E5ECF6",
              "width": 0.5
             },
             "pattern": {
              "fillmode": "overlay",
              "size": 10,
              "solidity": 0.2
             }
            },
            "type": "barpolar"
           }
          ],
          "carpet": [
           {
            "aaxis": {
             "endlinecolor": "#2a3f5f",
             "gridcolor": "white",
             "linecolor": "white",
             "minorgridcolor": "white",
             "startlinecolor": "#2a3f5f"
            },
            "baxis": {
             "endlinecolor": "#2a3f5f",
             "gridcolor": "white",
             "linecolor": "white",
             "minorgridcolor": "white",
             "startlinecolor": "#2a3f5f"
            },
            "type": "carpet"
           }
          ],
          "choropleth": [
           {
            "colorbar": {
             "outlinewidth": 0,
             "ticks": ""
            },
            "type": "choropleth"
           }
          ],
          "contour": [
           {
            "colorbar": {
             "outlinewidth": 0,
             "ticks": ""
            },
            "colorscale": [
             [
              0,
              "#0d0887"
             ],
             [
              0.1111111111111111,
              "#46039f"
             ],
             [
              0.2222222222222222,
              "#7201a8"
             ],
             [
              0.3333333333333333,
              "#9c179e"
             ],
             [
              0.4444444444444444,
              "#bd3786"
             ],
             [
              0.5555555555555556,
              "#d8576b"
             ],
             [
              0.6666666666666666,
              "#ed7953"
             ],
             [
              0.7777777777777778,
              "#fb9f3a"
             ],
             [
              0.8888888888888888,
              "#fdca26"
             ],
             [
              1,
              "#f0f921"
             ]
            ],
            "type": "contour"
           }
          ],
          "contourcarpet": [
           {
            "colorbar": {
             "outlinewidth": 0,
             "ticks": ""
            },
            "type": "contourcarpet"
           }
          ],
          "heatmap": [
           {
            "colorbar": {
             "outlinewidth": 0,
             "ticks": ""
            },
            "colorscale": [
             [
              0,
              "#0d0887"
             ],
             [
              0.1111111111111111,
              "#46039f"
             ],
             [
              0.2222222222222222,
              "#7201a8"
             ],
             [
              0.3333333333333333,
              "#9c179e"
             ],
             [
              0.4444444444444444,
              "#bd3786"
             ],
             [
              0.5555555555555556,
              "#d8576b"
             ],
             [
              0.6666666666666666,
              "#ed7953"
             ],
             [
              0.7777777777777778,
              "#fb9f3a"
             ],
             [
              0.8888888888888888,
              "#fdca26"
             ],
             [
              1,
              "#f0f921"
             ]
            ],
            "type": "heatmap"
           }
          ],
          "heatmapgl": [
           {
            "colorbar": {
             "outlinewidth": 0,
             "ticks": ""
            },
            "colorscale": [
             [
              0,
              "#0d0887"
             ],
             [
              0.1111111111111111,
              "#46039f"
             ],
             [
              0.2222222222222222,
              "#7201a8"
             ],
             [
              0.3333333333333333,
              "#9c179e"
             ],
             [
              0.4444444444444444,
              "#bd3786"
             ],
             [
              0.5555555555555556,
              "#d8576b"
             ],
             [
              0.6666666666666666,
              "#ed7953"
             ],
             [
              0.7777777777777778,
              "#fb9f3a"
             ],
             [
              0.8888888888888888,
              "#fdca26"
             ],
             [
              1,
              "#f0f921"
             ]
            ],
            "type": "heatmapgl"
           }
          ],
          "histogram": [
           {
            "marker": {
             "pattern": {
              "fillmode": "overlay",
              "size": 10,
              "solidity": 0.2
             }
            },
            "type": "histogram"
           }
          ],
          "histogram2d": [
           {
            "colorbar": {
             "outlinewidth": 0,
             "ticks": ""
            },
            "colorscale": [
             [
              0,
              "#0d0887"
             ],
             [
              0.1111111111111111,
              "#46039f"
             ],
             [
              0.2222222222222222,
              "#7201a8"
             ],
             [
              0.3333333333333333,
              "#9c179e"
             ],
             [
              0.4444444444444444,
              "#bd3786"
             ],
             [
              0.5555555555555556,
              "#d8576b"
             ],
             [
              0.6666666666666666,
              "#ed7953"
             ],
             [
              0.7777777777777778,
              "#fb9f3a"
             ],
             [
              0.8888888888888888,
              "#fdca26"
             ],
             [
              1,
              "#f0f921"
             ]
            ],
            "type": "histogram2d"
           }
          ],
          "histogram2dcontour": [
           {
            "colorbar": {
             "outlinewidth": 0,
             "ticks": ""
            },
            "colorscale": [
             [
              0,
              "#0d0887"
             ],
             [
              0.1111111111111111,
              "#46039f"
             ],
             [
              0.2222222222222222,
              "#7201a8"
             ],
             [
              0.3333333333333333,
              "#9c179e"
             ],
             [
              0.4444444444444444,
              "#bd3786"
             ],
             [
              0.5555555555555556,
              "#d8576b"
             ],
             [
              0.6666666666666666,
              "#ed7953"
             ],
             [
              0.7777777777777778,
              "#fb9f3a"
             ],
             [
              0.8888888888888888,
              "#fdca26"
             ],
             [
              1,
              "#f0f921"
             ]
            ],
            "type": "histogram2dcontour"
           }
          ],
          "mesh3d": [
           {
            "colorbar": {
             "outlinewidth": 0,
             "ticks": ""
            },
            "type": "mesh3d"
           }
          ],
          "parcoords": [
           {
            "line": {
             "colorbar": {
              "outlinewidth": 0,
              "ticks": ""
             }
            },
            "type": "parcoords"
           }
          ],
          "pie": [
           {
            "automargin": true,
            "type": "pie"
           }
          ],
          "scatter": [
           {
            "fillpattern": {
             "fillmode": "overlay",
             "size": 10,
             "solidity": 0.2
            },
            "type": "scatter"
           }
          ],
          "scatter3d": [
           {
            "line": {
             "colorbar": {
              "outlinewidth": 0,
              "ticks": ""
             }
            },
            "marker": {
             "colorbar": {
              "outlinewidth": 0,
              "ticks": ""
             }
            },
            "type": "scatter3d"
           }
          ],
          "scattercarpet": [
           {
            "marker": {
             "colorbar": {
              "outlinewidth": 0,
              "ticks": ""
             }
            },
            "type": "scattercarpet"
           }
          ],
          "scattergeo": [
           {
            "marker": {
             "colorbar": {
              "outlinewidth": 0,
              "ticks": ""
             }
            },
            "type": "scattergeo"
           }
          ],
          "scattergl": [
           {
            "marker": {
             "colorbar": {
              "outlinewidth": 0,
              "ticks": ""
             }
            },
            "type": "scattergl"
           }
          ],
          "scattermapbox": [
           {
            "marker": {
             "colorbar": {
              "outlinewidth": 0,
              "ticks": ""
             }
            },
            "type": "scattermapbox"
           }
          ],
          "scatterpolar": [
           {
            "marker": {
             "colorbar": {
              "outlinewidth": 0,
              "ticks": ""
             }
            },
            "type": "scatterpolar"
           }
          ],
          "scatterpolargl": [
           {
            "marker": {
             "colorbar": {
              "outlinewidth": 0,
              "ticks": ""
             }
            },
            "type": "scatterpolargl"
           }
          ],
          "scatterternary": [
           {
            "marker": {
             "colorbar": {
              "outlinewidth": 0,
              "ticks": ""
             }
            },
            "type": "scatterternary"
           }
          ],
          "surface": [
           {
            "colorbar": {
             "outlinewidth": 0,
             "ticks": ""
            },
            "colorscale": [
             [
              0,
              "#0d0887"
             ],
             [
              0.1111111111111111,
              "#46039f"
             ],
             [
              0.2222222222222222,
              "#7201a8"
             ],
             [
              0.3333333333333333,
              "#9c179e"
             ],
             [
              0.4444444444444444,
              "#bd3786"
             ],
             [
              0.5555555555555556,
              "#d8576b"
             ],
             [
              0.6666666666666666,
              "#ed7953"
             ],
             [
              0.7777777777777778,
              "#fb9f3a"
             ],
             [
              0.8888888888888888,
              "#fdca26"
             ],
             [
              1,
              "#f0f921"
             ]
            ],
            "type": "surface"
           }
          ],
          "table": [
           {
            "cells": {
             "fill": {
              "color": "#EBF0F8"
             },
             "line": {
              "color": "white"
             }
            },
            "header": {
             "fill": {
              "color": "#C8D4E3"
             },
             "line": {
              "color": "white"
             }
            },
            "type": "table"
           }
          ]
         },
         "layout": {
          "annotationdefaults": {
           "arrowcolor": "#2a3f5f",
           "arrowhead": 0,
           "arrowwidth": 1
          },
          "autotypenumbers": "strict",
          "coloraxis": {
           "colorbar": {
            "outlinewidth": 0,
            "ticks": ""
           }
          },
          "colorscale": {
           "diverging": [
            [
             0,
             "#8e0152"
            ],
            [
             0.1,
             "#c51b7d"
            ],
            [
             0.2,
             "#de77ae"
            ],
            [
             0.3,
             "#f1b6da"
            ],
            [
             0.4,
             "#fde0ef"
            ],
            [
             0.5,
             "#f7f7f7"
            ],
            [
             0.6,
             "#e6f5d0"
            ],
            [
             0.7,
             "#b8e186"
            ],
            [
             0.8,
             "#7fbc41"
            ],
            [
             0.9,
             "#4d9221"
            ],
            [
             1,
             "#276419"
            ]
           ],
           "sequential": [
            [
             0,
             "#0d0887"
            ],
            [
             0.1111111111111111,
             "#46039f"
            ],
            [
             0.2222222222222222,
             "#7201a8"
            ],
            [
             0.3333333333333333,
             "#9c179e"
            ],
            [
             0.4444444444444444,
             "#bd3786"
            ],
            [
             0.5555555555555556,
             "#d8576b"
            ],
            [
             0.6666666666666666,
             "#ed7953"
            ],
            [
             0.7777777777777778,
             "#fb9f3a"
            ],
            [
             0.8888888888888888,
             "#fdca26"
            ],
            [
             1,
             "#f0f921"
            ]
           ],
           "sequentialminus": [
            [
             0,
             "#0d0887"
            ],
            [
             0.1111111111111111,
             "#46039f"
            ],
            [
             0.2222222222222222,
             "#7201a8"
            ],
            [
             0.3333333333333333,
             "#9c179e"
            ],
            [
             0.4444444444444444,
             "#bd3786"
            ],
            [
             0.5555555555555556,
             "#d8576b"
            ],
            [
             0.6666666666666666,
             "#ed7953"
            ],
            [
             0.7777777777777778,
             "#fb9f3a"
            ],
            [
             0.8888888888888888,
             "#fdca26"
            ],
            [
             1,
             "#f0f921"
            ]
           ]
          },
          "colorway": [
           "#636efa",
           "#EF553B",
           "#00cc96",
           "#ab63fa",
           "#FFA15A",
           "#19d3f3",
           "#FF6692",
           "#B6E880",
           "#FF97FF",
           "#FECB52"
          ],
          "font": {
           "color": "#2a3f5f"
          },
          "geo": {
           "bgcolor": "white",
           "lakecolor": "white",
           "landcolor": "#E5ECF6",
           "showlakes": true,
           "showland": true,
           "subunitcolor": "white"
          },
          "hoverlabel": {
           "align": "left"
          },
          "hovermode": "closest",
          "mapbox": {
           "style": "light"
          },
          "paper_bgcolor": "white",
          "plot_bgcolor": "#E5ECF6",
          "polar": {
           "angularaxis": {
            "gridcolor": "white",
            "linecolor": "white",
            "ticks": ""
           },
           "bgcolor": "#E5ECF6",
           "radialaxis": {
            "gridcolor": "white",
            "linecolor": "white",
            "ticks": ""
           }
          },
          "scene": {
           "xaxis": {
            "backgroundcolor": "#E5ECF6",
            "gridcolor": "white",
            "gridwidth": 2,
            "linecolor": "white",
            "showbackground": true,
            "ticks": "",
            "zerolinecolor": "white"
           },
           "yaxis": {
            "backgroundcolor": "#E5ECF6",
            "gridcolor": "white",
            "gridwidth": 2,
            "linecolor": "white",
            "showbackground": true,
            "ticks": "",
            "zerolinecolor": "white"
           },
           "zaxis": {
            "backgroundcolor": "#E5ECF6",
            "gridcolor": "white",
            "gridwidth": 2,
            "linecolor": "white",
            "showbackground": true,
            "ticks": "",
            "zerolinecolor": "white"
           }
          },
          "shapedefaults": {
           "line": {
            "color": "#2a3f5f"
           }
          },
          "ternary": {
           "aaxis": {
            "gridcolor": "white",
            "linecolor": "white",
            "ticks": ""
           },
           "baxis": {
            "gridcolor": "white",
            "linecolor": "white",
            "ticks": ""
           },
           "bgcolor": "#E5ECF6",
           "caxis": {
            "gridcolor": "white",
            "linecolor": "white",
            "ticks": ""
           }
          },
          "title": {
           "x": 0.05
          },
          "xaxis": {
           "automargin": true,
           "gridcolor": "white",
           "linecolor": "white",
           "ticks": "",
           "title": {
            "standoff": 15
           },
           "zerolinecolor": "white",
           "zerolinewidth": 2
          },
          "yaxis": {
           "automargin": true,
           "gridcolor": "white",
           "linecolor": "white",
           "ticks": "",
           "title": {
            "standoff": 15
           },
           "zerolinecolor": "white",
           "zerolinewidth": 2
          }
         }
        },
        "xaxis": {
         "anchor": "y",
         "domain": [
          0,
          1
         ],
         "title": {
          "text": "F_lp5"
         },
         "type": "log"
        },
        "yaxis": {
         "anchor": "x",
         "domain": [
          0,
          1
         ],
         "title": {
          "text": "T_lp5"
         },
         "type": "log"
        }
       }
      }
     },
     "metadata": {},
     "output_type": "display_data"
    }
   ],
   "source": [
    "plty.scatter(X_lp5_df, x = \"F_lp5\", y = \"T_lp5\", color=\"Y_lp5\", log_x=True, log_y=True)"
   ]
  },
  {
   "attachments": {},
   "cell_type": "markdown",
   "metadata": {},
   "source": [
    "Boxplot"
   ]
  },
  {
   "cell_type": "code",
   "execution_count": 21,
   "metadata": {},
   "outputs": [
    {
     "data": {
      "application/vnd.plotly.v1+json": {
       "config": {
        "plotlyServerURL": "https://plot.ly"
       },
       "data": [
        {
         "alignmentgroup": "True",
         "hovertemplate": "value=%{x}<br>variable=%{y}<extra></extra>",
         "legendgroup": "",
         "marker": {
          "color": "#636efa"
         },
         "name": "",
         "notched": false,
         "offsetgroup": "",
         "orientation": "h",
         "showlegend": false,
         "type": "box",
         "x": [
          0.0216016730767654,
          0.021806975685852208,
          0.021400753986686838,
          0.02208502875897178,
          0.02142765776816038,
          0.02143008062412254,
          0.02152081847079247,
          0.021343889694522653,
          0.02157337628259515,
          0.02183863477214372,
          0.022049269000949043,
          0.021867302484714763,
          0.0213006378547484,
          0.021758006521780164,
          0.021380607682092694,
          0.021353426743040083,
          0.02150164771589026,
          0.02157651532631166,
          0.021587414857674198,
          0.021558481973693693,
          0.029060948675055247,
          0.028465280735771925,
          0.025473356222752628,
          0.025477822732217197,
          0.02444562273527701,
          0.022716543837357044,
          0.02251898405011434,
          0.022378727206874945,
          0.022864587596164342,
          0.022491221578836245,
          0.023105472170891282,
          0.02349777020098399,
          0.02349777020098399,
          0.027246968683070267,
          0.027246968683070267,
          0.020711635407791713,
          0.023247541375333563,
          0.023165379124582622,
          0.023438351264333437,
          0.025200377543105588,
          0.030240993694045416,
          0.023990675889768418,
          0.02262225932516524,
          0.02428987640187904,
          0.02254007067177128,
          0.02254007067177128,
          0.02390893262859406,
          0.005134240007518187,
          0.005515341801324312,
          0.006023105560265316,
          0.005280024386928998,
          0.005389840334667157,
          0.005077099302188691,
          0.0045892950924627685,
          0.005225920959048941,
          0.005298878369657438,
          0.004215391379712822,
          0.004067252969272633,
          0.004643895992714672,
          0.0040336586770399726,
          0.003961207612861684,
          0.003815665067065424,
          0.004706157565585694,
          0.0049390502113288255,
          0.005278724486716565,
          0.0026083443882360382,
          0.001968421225726162,
          0.002034957943667252,
          0.0017817087440151489,
          0.0019886476215442883,
          0.0021520907937674066,
          0.007293297520491684,
          0.01084968896277208,
          0.004142694197424506,
          0.004286932786039213,
          0.002917727344333675,
          0.00337966074290464,
          0.0028485118774949896,
          0.003214401665110678,
          0.0041320004868657546,
          0.008293517311237416,
          0.018514675695987734,
          0.005914198686400301,
          0.004883983142116918,
          0.00823976688510203,
          0.003482585514337667,
          0.01324610633352305,
          0.004858313765306109,
          0.0054451272524909155,
          0.014239480562464284,
          0.006643198863660019,
          0.007293297520491684,
          0.008178506534752385,
          0.002149821622266424,
          0.004218020337641327,
          0.005463451153245239,
          0.008747010097286506,
          0.0043311038483159646,
          0.01242802563267923,
          0.008657380797652487,
          0.6362843445440131,
          0.03633375212810425,
          0.23114979632322952,
          0.15779429066577383,
          0.25943660425853843,
          0.6769664162003142,
          0.07530068588578251,
          0.07617394883659735,
          0.059624692879567245,
          0.31501764953601,
          0.27970778939781266,
          0.20597098041466283,
          0.14059969916666754,
          0.008864793452755643,
          0.043267094767220016,
          0.2826055876295244,
          0.006976085912970738,
          0.30017144486911446,
          0.04543302890145833,
          0.15636919262081053,
          0.02538019569116453,
          0.009325905424541057,
          0.26122870930161607,
          0.001863422954344821,
          0.2171894543140502,
          0.003084226392975217,
          0.2728356551665806,
          0.04100903019780933,
          0.023118104115426755,
          0.02210295403657412,
          0.008668033294917932,
          0.056103042444826313,
          0.12414561721316879,
          0.21141020861742324,
          0.006607959718082933,
          0.0057625443631581464,
          0.020016231131464723,
          0.005361442387345198,
          0.014900839546213377,
          0.004773835943031809,
          0.014519827560881498,
          0.006381202419891074,
          0.010020253741516421,
          0.12260540976071503,
          0.004333840906360347,
          0.06107333023232009,
          0.023892419324552015,
          0.003639067557077341,
          0.005867931185968677,
          0.0023649480163243828,
          0.001830296932513689,
          0.009720507905899187,
          0.002691704171746335,
          0.0031326325918891525,
          0.006366360647837587,
          0.003065291717155179,
          0.007853420200763208,
          0.0039015348559917067,
          0.011120779078025712,
          0.002534442049192039,
          0.003754165628123676,
          0.0023926411731429466,
          0.003568213542580036,
          0.0018509896670844109,
          0.0030206035368810385,
          0.013259001913758802,
          0.0142974957894745,
          0.015930735859011034,
          0.01770734548031796,
          0.019816181215633593,
          0.022761405892792998,
          0.026776967250965445,
          0.028113909948198228,
          0.02981761223688276,
          0.031358752971381416,
          0.009704056349434382,
          0.013503105739463945,
          0.016791029024208756,
          0.01994856242718906,
          0.01821735106627757,
          0.024177836808449704,
          0.02740235990504236,
          0.02932733132367031,
          0.029220342196336006,
          0.07917213537479438,
          0.07698095359535549,
          0.048941308146660686,
          0.057466312065955365,
          0.04031642732586348,
          0.02862558052603109,
          0.03471323976123368,
          0.03152017125067445,
          0.030752530996209018,
          0.02178407788884955,
          0.03192977696465129,
          0.03270430710939661,
          0.03270430710939661,
          0.08592174911793368,
          0.08592174911793367,
          0.043273324975849244,
          0.028181111649273248,
          0.03685606060302587,
          0.03538011894559014,
          0.04002209819126023,
          0.07070822271831068,
          0.05709314631504509,
          0.019299895148513338,
          0.0496912940521231,
          0.01981120055295643,
          0.01981120055295643,
          0.048117363028813614,
          0.006448445096943829,
          0.0069375944623007975,
          0.006008372761446135,
          0.007035782702070204,
          0.00664541529603499,
          0.005273716803916392,
          0.005856259326749629,
          0.005379311698366395,
          0.00588466500832326,
          0.004433170587005032,
          0.0043686230875485624,
          0.003942051136159883,
          0.00402149547511931,
          0.00431026224725638,
          0.00443076225177593,
          0.00608546934795342,
          0.004989542349839758,
          0.005621869506052281,
          0.004842303847358888,
          0.003804208168578853,
          0.004716348848283798,
          0.004500318261343879,
          0.005009054636648534,
          0.003674976387510227,
          0.017503371477693253,
          0.03240374439750722,
          0.015342076292549505,
          0.01022273940409643,
          0.01088327435790402,
          0.010867922013401816,
          0.011215724994178595,
          0.009483702768085255,
          0.011483846641966717,
          0.05993950895296869,
          0.03704153649440831,
          0.03581408022271918,
          0.019268982004201452,
          0.06276380291291395,
          0.02004346434082939,
          0.09683852668900124,
          0.008118604398739782,
          0.010384950508155305,
          0.027305525451502676,
          0.021577968249653075,
          0.017503371477693253,
          0.02972833547753872,
          0.008155782868489734,
          0.01904068362821839,
          0.02426507474636261,
          0.04442741092775073,
          0.01435532618079991,
          0.05379544075080251,
          0.03655297435594994,
          0.22928873942862193,
          0.0501861725942713,
          0.17629687657145812,
          0.12603598347643719,
          0.23042970572881552,
          0.11763912754763409,
          0.0882523256410878,
          0.11791950377711301,
          0.09927252556986962,
          0.13658435712356212,
          0.25274714708232715,
          0.11693138921044323,
          0.11777693693565026,
          0.015380840497370034,
          0.03481835085421865,
          0.2814131581292878,
          0.022770827773274604,
          0.14624118834486752,
          0.03344828831556653,
          0.11181591468420302,
          0.03038452676965469,
          0.006572059840609577,
          0.12749386453945624,
          0.005040203496814222,
          0.1795273498874792,
          0.008173892120736383,
          0.0565243155316669,
          0.02427454676954426,
          0.015042038701949041,
          0.008681413552250095,
          0.005333130482744661,
          0.05958436510134248,
          0.09945146888113691,
          0.09266434045157333,
          0.01324938374268307,
          0.022762956237507445,
          0.020828447072839394,
          0.015044507036733174,
          0.009336791729986138,
          0.007600766165965847,
          0.018278673964860218,
          0.014385598352284446,
          0.02415335781337547,
          0.06277698820755159,
          0.005774914380277618,
          0.047409502003678446,
          0.07381466216766032,
          0.0045116331228030136,
          0.024865631487068187,
          0.010594235386360226,
          0.0037821299306768775,
          0.04082159206533945,
          0.009500908911680822,
          0.01754937567129779,
          0.03149527077237166,
          0.009976221604921643,
          0.025103428324177376,
          0.01538511487908269,
          0.044378039902072425,
          0.009554073214763212,
          0.015172914591371454,
          0.007095746068186046,
          0.013565101469243756,
          0.007259693708429954
         ],
         "x0": " ",
         "xaxis": "x",
         "y": [
          "F_lp5",
          "F_lp5",
          "F_lp5",
          "F_lp5",
          "F_lp5",
          "F_lp5",
          "F_lp5",
          "F_lp5",
          "F_lp5",
          "F_lp5",
          "F_lp5",
          "F_lp5",
          "F_lp5",
          "F_lp5",
          "F_lp5",
          "F_lp5",
          "F_lp5",
          "F_lp5",
          "F_lp5",
          "F_lp5",
          "F_lp5",
          "F_lp5",
          "F_lp5",
          "F_lp5",
          "F_lp5",
          "F_lp5",
          "F_lp5",
          "F_lp5",
          "F_lp5",
          "F_lp5",
          "F_lp5",
          "F_lp5",
          "F_lp5",
          "F_lp5",
          "F_lp5",
          "F_lp5",
          "F_lp5",
          "F_lp5",
          "F_lp5",
          "F_lp5",
          "F_lp5",
          "F_lp5",
          "F_lp5",
          "F_lp5",
          "F_lp5",
          "F_lp5",
          "F_lp5",
          "F_lp5",
          "F_lp5",
          "F_lp5",
          "F_lp5",
          "F_lp5",
          "F_lp5",
          "F_lp5",
          "F_lp5",
          "F_lp5",
          "F_lp5",
          "F_lp5",
          "F_lp5",
          "F_lp5",
          "F_lp5",
          "F_lp5",
          "F_lp5",
          "F_lp5",
          "F_lp5",
          "F_lp5",
          "F_lp5",
          "F_lp5",
          "F_lp5",
          "F_lp5",
          "F_lp5",
          "F_lp5",
          "F_lp5",
          "F_lp5",
          "F_lp5",
          "F_lp5",
          "F_lp5",
          "F_lp5",
          "F_lp5",
          "F_lp5",
          "F_lp5",
          "F_lp5",
          "F_lp5",
          "F_lp5",
          "F_lp5",
          "F_lp5",
          "F_lp5",
          "F_lp5",
          "F_lp5",
          "F_lp5",
          "F_lp5",
          "F_lp5",
          "F_lp5",
          "F_lp5",
          "F_lp5",
          "F_lp5",
          "F_lp5",
          "F_lp5",
          "F_lp5",
          "F_lp5",
          "F_lp5",
          "F_lp5",
          "F_lp5",
          "F_lp5",
          "F_lp5",
          "F_lp5",
          "F_lp5",
          "F_lp5",
          "F_lp5",
          "F_lp5",
          "F_lp5",
          "F_lp5",
          "F_lp5",
          "F_lp5",
          "F_lp5",
          "F_lp5",
          "F_lp5",
          "F_lp5",
          "F_lp5",
          "F_lp5",
          "F_lp5",
          "F_lp5",
          "F_lp5",
          "F_lp5",
          "F_lp5",
          "F_lp5",
          "F_lp5",
          "F_lp5",
          "F_lp5",
          "F_lp5",
          "F_lp5",
          "F_lp5",
          "F_lp5",
          "F_lp5",
          "F_lp5",
          "F_lp5",
          "F_lp5",
          "F_lp5",
          "F_lp5",
          "F_lp5",
          "F_lp5",
          "F_lp5",
          "F_lp5",
          "F_lp5",
          "F_lp5",
          "F_lp5",
          "F_lp5",
          "F_lp5",
          "F_lp5",
          "F_lp5",
          "F_lp5",
          "F_lp5",
          "F_lp5",
          "F_lp5",
          "F_lp5",
          "F_lp5",
          "F_lp5",
          "F_lp5",
          "F_lp5",
          "F_lp5",
          "F_lp5",
          "F_lp5",
          "F_lp5",
          "F_lp5",
          "T_lp5",
          "T_lp5",
          "T_lp5",
          "T_lp5",
          "T_lp5",
          "T_lp5",
          "T_lp5",
          "T_lp5",
          "T_lp5",
          "T_lp5",
          "T_lp5",
          "T_lp5",
          "T_lp5",
          "T_lp5",
          "T_lp5",
          "T_lp5",
          "T_lp5",
          "T_lp5",
          "T_lp5",
          "T_lp5",
          "T_lp5",
          "T_lp5",
          "T_lp5",
          "T_lp5",
          "T_lp5",
          "T_lp5",
          "T_lp5",
          "T_lp5",
          "T_lp5",
          "T_lp5",
          "T_lp5",
          "T_lp5",
          "T_lp5",
          "T_lp5",
          "T_lp5",
          "T_lp5",
          "T_lp5",
          "T_lp5",
          "T_lp5",
          "T_lp5",
          "T_lp5",
          "T_lp5",
          "T_lp5",
          "T_lp5",
          "T_lp5",
          "T_lp5",
          "T_lp5",
          "T_lp5",
          "T_lp5",
          "T_lp5",
          "T_lp5",
          "T_lp5",
          "T_lp5",
          "T_lp5",
          "T_lp5",
          "T_lp5",
          "T_lp5",
          "T_lp5",
          "T_lp5",
          "T_lp5",
          "T_lp5",
          "T_lp5",
          "T_lp5",
          "T_lp5",
          "T_lp5",
          "T_lp5",
          "T_lp5",
          "T_lp5",
          "T_lp5",
          "T_lp5",
          "T_lp5",
          "T_lp5",
          "T_lp5",
          "T_lp5",
          "T_lp5",
          "T_lp5",
          "T_lp5",
          "T_lp5",
          "T_lp5",
          "T_lp5",
          "T_lp5",
          "T_lp5",
          "T_lp5",
          "T_lp5",
          "T_lp5",
          "T_lp5",
          "T_lp5",
          "T_lp5",
          "T_lp5",
          "T_lp5",
          "T_lp5",
          "T_lp5",
          "T_lp5",
          "T_lp5",
          "T_lp5",
          "T_lp5",
          "T_lp5",
          "T_lp5",
          "T_lp5",
          "T_lp5",
          "T_lp5",
          "T_lp5",
          "T_lp5",
          "T_lp5",
          "T_lp5",
          "T_lp5",
          "T_lp5",
          "T_lp5",
          "T_lp5",
          "T_lp5",
          "T_lp5",
          "T_lp5",
          "T_lp5",
          "T_lp5",
          "T_lp5",
          "T_lp5",
          "T_lp5",
          "T_lp5",
          "T_lp5",
          "T_lp5",
          "T_lp5",
          "T_lp5",
          "T_lp5",
          "T_lp5",
          "T_lp5",
          "T_lp5",
          "T_lp5",
          "T_lp5",
          "T_lp5",
          "T_lp5",
          "T_lp5",
          "T_lp5",
          "T_lp5",
          "T_lp5",
          "T_lp5",
          "T_lp5",
          "T_lp5",
          "T_lp5",
          "T_lp5",
          "T_lp5",
          "T_lp5",
          "T_lp5",
          "T_lp5",
          "T_lp5",
          "T_lp5",
          "T_lp5",
          "T_lp5",
          "T_lp5",
          "T_lp5",
          "T_lp5",
          "T_lp5",
          "T_lp5",
          "T_lp5",
          "T_lp5",
          "T_lp5",
          "T_lp5",
          "T_lp5",
          "T_lp5",
          "T_lp5",
          "T_lp5",
          "T_lp5",
          "T_lp5",
          "T_lp5",
          "T_lp5"
         ],
         "y0": " ",
         "yaxis": "y"
        }
       ],
       "layout": {
        "boxmode": "group",
        "legend": {
         "tracegroupgap": 0
        },
        "margin": {
         "t": 60
        },
        "template": {
         "data": {
          "bar": [
           {
            "error_x": {
             "color": "#2a3f5f"
            },
            "error_y": {
             "color": "#2a3f5f"
            },
            "marker": {
             "line": {
              "color": "#E5ECF6",
              "width": 0.5
             },
             "pattern": {
              "fillmode": "overlay",
              "size": 10,
              "solidity": 0.2
             }
            },
            "type": "bar"
           }
          ],
          "barpolar": [
           {
            "marker": {
             "line": {
              "color": "#E5ECF6",
              "width": 0.5
             },
             "pattern": {
              "fillmode": "overlay",
              "size": 10,
              "solidity": 0.2
             }
            },
            "type": "barpolar"
           }
          ],
          "carpet": [
           {
            "aaxis": {
             "endlinecolor": "#2a3f5f",
             "gridcolor": "white",
             "linecolor": "white",
             "minorgridcolor": "white",
             "startlinecolor": "#2a3f5f"
            },
            "baxis": {
             "endlinecolor": "#2a3f5f",
             "gridcolor": "white",
             "linecolor": "white",
             "minorgridcolor": "white",
             "startlinecolor": "#2a3f5f"
            },
            "type": "carpet"
           }
          ],
          "choropleth": [
           {
            "colorbar": {
             "outlinewidth": 0,
             "ticks": ""
            },
            "type": "choropleth"
           }
          ],
          "contour": [
           {
            "colorbar": {
             "outlinewidth": 0,
             "ticks": ""
            },
            "colorscale": [
             [
              0,
              "#0d0887"
             ],
             [
              0.1111111111111111,
              "#46039f"
             ],
             [
              0.2222222222222222,
              "#7201a8"
             ],
             [
              0.3333333333333333,
              "#9c179e"
             ],
             [
              0.4444444444444444,
              "#bd3786"
             ],
             [
              0.5555555555555556,
              "#d8576b"
             ],
             [
              0.6666666666666666,
              "#ed7953"
             ],
             [
              0.7777777777777778,
              "#fb9f3a"
             ],
             [
              0.8888888888888888,
              "#fdca26"
             ],
             [
              1,
              "#f0f921"
             ]
            ],
            "type": "contour"
           }
          ],
          "contourcarpet": [
           {
            "colorbar": {
             "outlinewidth": 0,
             "ticks": ""
            },
            "type": "contourcarpet"
           }
          ],
          "heatmap": [
           {
            "colorbar": {
             "outlinewidth": 0,
             "ticks": ""
            },
            "colorscale": [
             [
              0,
              "#0d0887"
             ],
             [
              0.1111111111111111,
              "#46039f"
             ],
             [
              0.2222222222222222,
              "#7201a8"
             ],
             [
              0.3333333333333333,
              "#9c179e"
             ],
             [
              0.4444444444444444,
              "#bd3786"
             ],
             [
              0.5555555555555556,
              "#d8576b"
             ],
             [
              0.6666666666666666,
              "#ed7953"
             ],
             [
              0.7777777777777778,
              "#fb9f3a"
             ],
             [
              0.8888888888888888,
              "#fdca26"
             ],
             [
              1,
              "#f0f921"
             ]
            ],
            "type": "heatmap"
           }
          ],
          "heatmapgl": [
           {
            "colorbar": {
             "outlinewidth": 0,
             "ticks": ""
            },
            "colorscale": [
             [
              0,
              "#0d0887"
             ],
             [
              0.1111111111111111,
              "#46039f"
             ],
             [
              0.2222222222222222,
              "#7201a8"
             ],
             [
              0.3333333333333333,
              "#9c179e"
             ],
             [
              0.4444444444444444,
              "#bd3786"
             ],
             [
              0.5555555555555556,
              "#d8576b"
             ],
             [
              0.6666666666666666,
              "#ed7953"
             ],
             [
              0.7777777777777778,
              "#fb9f3a"
             ],
             [
              0.8888888888888888,
              "#fdca26"
             ],
             [
              1,
              "#f0f921"
             ]
            ],
            "type": "heatmapgl"
           }
          ],
          "histogram": [
           {
            "marker": {
             "pattern": {
              "fillmode": "overlay",
              "size": 10,
              "solidity": 0.2
             }
            },
            "type": "histogram"
           }
          ],
          "histogram2d": [
           {
            "colorbar": {
             "outlinewidth": 0,
             "ticks": ""
            },
            "colorscale": [
             [
              0,
              "#0d0887"
             ],
             [
              0.1111111111111111,
              "#46039f"
             ],
             [
              0.2222222222222222,
              "#7201a8"
             ],
             [
              0.3333333333333333,
              "#9c179e"
             ],
             [
              0.4444444444444444,
              "#bd3786"
             ],
             [
              0.5555555555555556,
              "#d8576b"
             ],
             [
              0.6666666666666666,
              "#ed7953"
             ],
             [
              0.7777777777777778,
              "#fb9f3a"
             ],
             [
              0.8888888888888888,
              "#fdca26"
             ],
             [
              1,
              "#f0f921"
             ]
            ],
            "type": "histogram2d"
           }
          ],
          "histogram2dcontour": [
           {
            "colorbar": {
             "outlinewidth": 0,
             "ticks": ""
            },
            "colorscale": [
             [
              0,
              "#0d0887"
             ],
             [
              0.1111111111111111,
              "#46039f"
             ],
             [
              0.2222222222222222,
              "#7201a8"
             ],
             [
              0.3333333333333333,
              "#9c179e"
             ],
             [
              0.4444444444444444,
              "#bd3786"
             ],
             [
              0.5555555555555556,
              "#d8576b"
             ],
             [
              0.6666666666666666,
              "#ed7953"
             ],
             [
              0.7777777777777778,
              "#fb9f3a"
             ],
             [
              0.8888888888888888,
              "#fdca26"
             ],
             [
              1,
              "#f0f921"
             ]
            ],
            "type": "histogram2dcontour"
           }
          ],
          "mesh3d": [
           {
            "colorbar": {
             "outlinewidth": 0,
             "ticks": ""
            },
            "type": "mesh3d"
           }
          ],
          "parcoords": [
           {
            "line": {
             "colorbar": {
              "outlinewidth": 0,
              "ticks": ""
             }
            },
            "type": "parcoords"
           }
          ],
          "pie": [
           {
            "automargin": true,
            "type": "pie"
           }
          ],
          "scatter": [
           {
            "fillpattern": {
             "fillmode": "overlay",
             "size": 10,
             "solidity": 0.2
            },
            "type": "scatter"
           }
          ],
          "scatter3d": [
           {
            "line": {
             "colorbar": {
              "outlinewidth": 0,
              "ticks": ""
             }
            },
            "marker": {
             "colorbar": {
              "outlinewidth": 0,
              "ticks": ""
             }
            },
            "type": "scatter3d"
           }
          ],
          "scattercarpet": [
           {
            "marker": {
             "colorbar": {
              "outlinewidth": 0,
              "ticks": ""
             }
            },
            "type": "scattercarpet"
           }
          ],
          "scattergeo": [
           {
            "marker": {
             "colorbar": {
              "outlinewidth": 0,
              "ticks": ""
             }
            },
            "type": "scattergeo"
           }
          ],
          "scattergl": [
           {
            "marker": {
             "colorbar": {
              "outlinewidth": 0,
              "ticks": ""
             }
            },
            "type": "scattergl"
           }
          ],
          "scattermapbox": [
           {
            "marker": {
             "colorbar": {
              "outlinewidth": 0,
              "ticks": ""
             }
            },
            "type": "scattermapbox"
           }
          ],
          "scatterpolar": [
           {
            "marker": {
             "colorbar": {
              "outlinewidth": 0,
              "ticks": ""
             }
            },
            "type": "scatterpolar"
           }
          ],
          "scatterpolargl": [
           {
            "marker": {
             "colorbar": {
              "outlinewidth": 0,
              "ticks": ""
             }
            },
            "type": "scatterpolargl"
           }
          ],
          "scatterternary": [
           {
            "marker": {
             "colorbar": {
              "outlinewidth": 0,
              "ticks": ""
             }
            },
            "type": "scatterternary"
           }
          ],
          "surface": [
           {
            "colorbar": {
             "outlinewidth": 0,
             "ticks": ""
            },
            "colorscale": [
             [
              0,
              "#0d0887"
             ],
             [
              0.1111111111111111,
              "#46039f"
             ],
             [
              0.2222222222222222,
              "#7201a8"
             ],
             [
              0.3333333333333333,
              "#9c179e"
             ],
             [
              0.4444444444444444,
              "#bd3786"
             ],
             [
              0.5555555555555556,
              "#d8576b"
             ],
             [
              0.6666666666666666,
              "#ed7953"
             ],
             [
              0.7777777777777778,
              "#fb9f3a"
             ],
             [
              0.8888888888888888,
              "#fdca26"
             ],
             [
              1,
              "#f0f921"
             ]
            ],
            "type": "surface"
           }
          ],
          "table": [
           {
            "cells": {
             "fill": {
              "color": "#EBF0F8"
             },
             "line": {
              "color": "white"
             }
            },
            "header": {
             "fill": {
              "color": "#C8D4E3"
             },
             "line": {
              "color": "white"
             }
            },
            "type": "table"
           }
          ]
         },
         "layout": {
          "annotationdefaults": {
           "arrowcolor": "#2a3f5f",
           "arrowhead": 0,
           "arrowwidth": 1
          },
          "autotypenumbers": "strict",
          "coloraxis": {
           "colorbar": {
            "outlinewidth": 0,
            "ticks": ""
           }
          },
          "colorscale": {
           "diverging": [
            [
             0,
             "#8e0152"
            ],
            [
             0.1,
             "#c51b7d"
            ],
            [
             0.2,
             "#de77ae"
            ],
            [
             0.3,
             "#f1b6da"
            ],
            [
             0.4,
             "#fde0ef"
            ],
            [
             0.5,
             "#f7f7f7"
            ],
            [
             0.6,
             "#e6f5d0"
            ],
            [
             0.7,
             "#b8e186"
            ],
            [
             0.8,
             "#7fbc41"
            ],
            [
             0.9,
             "#4d9221"
            ],
            [
             1,
             "#276419"
            ]
           ],
           "sequential": [
            [
             0,
             "#0d0887"
            ],
            [
             0.1111111111111111,
             "#46039f"
            ],
            [
             0.2222222222222222,
             "#7201a8"
            ],
            [
             0.3333333333333333,
             "#9c179e"
            ],
            [
             0.4444444444444444,
             "#bd3786"
            ],
            [
             0.5555555555555556,
             "#d8576b"
            ],
            [
             0.6666666666666666,
             "#ed7953"
            ],
            [
             0.7777777777777778,
             "#fb9f3a"
            ],
            [
             0.8888888888888888,
             "#fdca26"
            ],
            [
             1,
             "#f0f921"
            ]
           ],
           "sequentialminus": [
            [
             0,
             "#0d0887"
            ],
            [
             0.1111111111111111,
             "#46039f"
            ],
            [
             0.2222222222222222,
             "#7201a8"
            ],
            [
             0.3333333333333333,
             "#9c179e"
            ],
            [
             0.4444444444444444,
             "#bd3786"
            ],
            [
             0.5555555555555556,
             "#d8576b"
            ],
            [
             0.6666666666666666,
             "#ed7953"
            ],
            [
             0.7777777777777778,
             "#fb9f3a"
            ],
            [
             0.8888888888888888,
             "#fdca26"
            ],
            [
             1,
             "#f0f921"
            ]
           ]
          },
          "colorway": [
           "#636efa",
           "#EF553B",
           "#00cc96",
           "#ab63fa",
           "#FFA15A",
           "#19d3f3",
           "#FF6692",
           "#B6E880",
           "#FF97FF",
           "#FECB52"
          ],
          "font": {
           "color": "#2a3f5f"
          },
          "geo": {
           "bgcolor": "white",
           "lakecolor": "white",
           "landcolor": "#E5ECF6",
           "showlakes": true,
           "showland": true,
           "subunitcolor": "white"
          },
          "hoverlabel": {
           "align": "left"
          },
          "hovermode": "closest",
          "mapbox": {
           "style": "light"
          },
          "paper_bgcolor": "white",
          "plot_bgcolor": "#E5ECF6",
          "polar": {
           "angularaxis": {
            "gridcolor": "white",
            "linecolor": "white",
            "ticks": ""
           },
           "bgcolor": "#E5ECF6",
           "radialaxis": {
            "gridcolor": "white",
            "linecolor": "white",
            "ticks": ""
           }
          },
          "scene": {
           "xaxis": {
            "backgroundcolor": "#E5ECF6",
            "gridcolor": "white",
            "gridwidth": 2,
            "linecolor": "white",
            "showbackground": true,
            "ticks": "",
            "zerolinecolor": "white"
           },
           "yaxis": {
            "backgroundcolor": "#E5ECF6",
            "gridcolor": "white",
            "gridwidth": 2,
            "linecolor": "white",
            "showbackground": true,
            "ticks": "",
            "zerolinecolor": "white"
           },
           "zaxis": {
            "backgroundcolor": "#E5ECF6",
            "gridcolor": "white",
            "gridwidth": 2,
            "linecolor": "white",
            "showbackground": true,
            "ticks": "",
            "zerolinecolor": "white"
           }
          },
          "shapedefaults": {
           "line": {
            "color": "#2a3f5f"
           }
          },
          "ternary": {
           "aaxis": {
            "gridcolor": "white",
            "linecolor": "white",
            "ticks": ""
           },
           "baxis": {
            "gridcolor": "white",
            "linecolor": "white",
            "ticks": ""
           },
           "bgcolor": "#E5ECF6",
           "caxis": {
            "gridcolor": "white",
            "linecolor": "white",
            "ticks": ""
           }
          },
          "title": {
           "x": 0.05
          },
          "xaxis": {
           "automargin": true,
           "gridcolor": "white",
           "linecolor": "white",
           "ticks": "",
           "title": {
            "standoff": 15
           },
           "zerolinecolor": "white",
           "zerolinewidth": 2
          },
          "yaxis": {
           "automargin": true,
           "gridcolor": "white",
           "linecolor": "white",
           "ticks": "",
           "title": {
            "standoff": 15
           },
           "zerolinecolor": "white",
           "zerolinewidth": 2
          }
         }
        },
        "xaxis": {
         "anchor": "y",
         "domain": [
          0,
          1
         ],
         "title": {
          "text": "value"
         }
        },
        "yaxis": {
         "anchor": "x",
         "domain": [
          0,
          1
         ],
         "title": {
          "text": "variable"
         }
        }
       }
      }
     },
     "metadata": {},
     "output_type": "display_data"
    }
   ],
   "source": [
    "plty.box(X_lp5_df, x = [\"F_lp5\", \"T_lp5\"])"
   ]
  },
  {
   "attachments": {},
   "cell_type": "markdown",
   "metadata": {},
   "source": [
    "Refining the cluster and plotting scatter and box plots without outliers"
   ]
  },
  {
   "cell_type": "code",
   "execution_count": 22,
   "metadata": {},
   "outputs": [],
   "source": [
    "#X_lp5_df = X_lp5_df.drop(X_lp5_df[((X_lp5_df.F_lp5 < 0.09) & (X_lp5_df.Y_lp5==1))].index)\n",
    "# X_lp5_df.loc[X_lp5_df[\"T_lp5\"] > 0.093, \"T_lp5\"] = 0.092\n",
    "# X_lp5_df.loc[X_lp5_df[\"F_lp5\"] > 0.0455, \"F_lp5\"] = 0.0454"
   ]
  },
  {
   "cell_type": "code",
   "execution_count": 23,
   "metadata": {},
   "outputs": [
    {
     "data": {
      "application/vnd.plotly.v1+json": {
       "config": {
        "plotlyServerURL": "https://plot.ly"
       },
       "data": [
        {
         "hovertemplate": "F_lp5=%{x}<br>T_lp5=%{y}<br>Y_lp5=%{marker.color}<extra></extra>",
         "legendgroup": "",
         "marker": {
          "color": [
           0,
           0,
           0,
           0,
           0,
           0,
           0,
           0,
           0,
           0,
           0,
           0,
           0,
           0,
           0,
           0,
           0,
           0,
           0,
           0,
           4,
           4,
           4,
           4,
           4,
           4,
           4,
           4,
           4,
           3,
           4,
           4,
           3,
           4,
           3,
           3,
           3,
           3,
           3,
           3,
           3,
           3,
           3,
           3,
           4,
           3,
           3,
           0,
           0,
           0,
           0,
           0,
           0,
           0,
           0,
           0,
           0,
           0,
           0,
           0,
           0,
           0,
           0,
           0,
           0,
           0,
           0,
           0,
           0,
           0,
           0,
           3,
           3,
           3,
           3,
           3,
           3,
           3,
           3,
           3,
           3,
           3,
           3,
           3,
           3,
           3,
           3,
           3,
           3,
           3,
           3,
           3,
           4,
           4,
           4,
           4,
           4,
           4,
           4,
           4,
           2,
           1,
           2,
           2,
           2,
           2,
           1,
           1,
           1,
           2,
           2,
           2,
           2,
           2,
           1,
           2,
           1,
           2,
           1,
           2,
           2,
           1,
           2,
           1,
           2,
           1,
           2,
           1,
           1,
           1,
           1,
           2,
           2,
           2,
           1,
           1,
           1,
           1,
           1,
           1,
           1,
           1,
           1,
           2,
           1,
           1,
           1,
           3,
           3,
           3,
           3,
           3,
           3,
           3,
           3,
           3,
           3,
           3,
           3,
           4,
           4,
           4,
           4,
           4
          ],
          "coloraxis": "coloraxis",
          "symbol": "circle"
         },
         "mode": "markers",
         "name": "",
         "orientation": "v",
         "showlegend": false,
         "type": "scatter",
         "x": [
          0.0216016730767654,
          0.021806975685852208,
          0.021400753986686838,
          0.02208502875897178,
          0.02142765776816038,
          0.02143008062412254,
          0.02152081847079247,
          0.021343889694522653,
          0.02157337628259515,
          0.02183863477214372,
          0.022049269000949043,
          0.021867302484714763,
          0.0213006378547484,
          0.021758006521780164,
          0.021380607682092694,
          0.021353426743040083,
          0.02150164771589026,
          0.02157651532631166,
          0.021587414857674198,
          0.021558481973693693,
          0.029060948675055247,
          0.028465280735771925,
          0.025473356222752628,
          0.025477822732217197,
          0.02444562273527701,
          0.022716543837357044,
          0.02251898405011434,
          0.022378727206874945,
          0.022864587596164342,
          0.022491221578836245,
          0.023105472170891282,
          0.02349777020098399,
          0.02349777020098399,
          0.027246968683070267,
          0.027246968683070267,
          0.020711635407791713,
          0.023247541375333563,
          0.023165379124582622,
          0.023438351264333437,
          0.025200377543105588,
          0.030240993694045416,
          0.023990675889768418,
          0.02262225932516524,
          0.02428987640187904,
          0.02254007067177128,
          0.02254007067177128,
          0.02390893262859406,
          0.005134240007518187,
          0.005515341801324312,
          0.006023105560265316,
          0.005280024386928998,
          0.005389840334667157,
          0.005077099302188691,
          0.0045892950924627685,
          0.005225920959048941,
          0.005298878369657438,
          0.004215391379712822,
          0.004067252969272633,
          0.004643895992714672,
          0.0040336586770399726,
          0.003961207612861684,
          0.003815665067065424,
          0.004706157565585694,
          0.0049390502113288255,
          0.005278724486716565,
          0.0026083443882360382,
          0.001968421225726162,
          0.002034957943667252,
          0.0017817087440151489,
          0.0019886476215442883,
          0.0021520907937674066,
          0.007293297520491684,
          0.01084968896277208,
          0.004142694197424506,
          0.004286932786039213,
          0.002917727344333675,
          0.00337966074290464,
          0.0028485118774949896,
          0.003214401665110678,
          0.0041320004868657546,
          0.008293517311237416,
          0.018514675695987734,
          0.005914198686400301,
          0.004883983142116918,
          0.00823976688510203,
          0.003482585514337667,
          0.01324610633352305,
          0.004858313765306109,
          0.0054451272524909155,
          0.014239480562464284,
          0.006643198863660019,
          0.007293297520491684,
          0.008178506534752385,
          0.002149821622266424,
          0.004218020337641327,
          0.005463451153245239,
          0.008747010097286506,
          0.0043311038483159646,
          0.01242802563267923,
          0.008657380797652487,
          0.6362843445440131,
          0.03633375212810425,
          0.23114979632322952,
          0.15779429066577383,
          0.25943660425853843,
          0.6769664162003142,
          0.07530068588578251,
          0.07617394883659735,
          0.059624692879567245,
          0.31501764953601,
          0.27970778939781266,
          0.20597098041466283,
          0.14059969916666754,
          0.008864793452755643,
          0.043267094767220016,
          0.2826055876295244,
          0.006976085912970738,
          0.30017144486911446,
          0.04543302890145833,
          0.15636919262081053,
          0.02538019569116453,
          0.009325905424541057,
          0.26122870930161607,
          0.001863422954344821,
          0.2171894543140502,
          0.003084226392975217,
          0.2728356551665806,
          0.04100903019780933,
          0.023118104115426755,
          0.02210295403657412,
          0.008668033294917932,
          0.056103042444826313,
          0.12414561721316879,
          0.21141020861742324,
          0.006607959718082933,
          0.0057625443631581464,
          0.020016231131464723,
          0.005361442387345198,
          0.014900839546213377,
          0.004773835943031809,
          0.014519827560881498,
          0.006381202419891074,
          0.010020253741516421,
          0.12260540976071503,
          0.004333840906360347,
          0.06107333023232009,
          0.023892419324552015,
          0.003639067557077341,
          0.005867931185968677,
          0.0023649480163243828,
          0.001830296932513689,
          0.009720507905899187,
          0.002691704171746335,
          0.0031326325918891525,
          0.006366360647837587,
          0.003065291717155179,
          0.007853420200763208,
          0.0039015348559917067,
          0.011120779078025712,
          0.002534442049192039,
          0.003754165628123676,
          0.0023926411731429466,
          0.003568213542580036,
          0.0018509896670844109
         ],
         "xaxis": "x",
         "y": [
          0.0030206035368810385,
          0.013259001913758802,
          0.0142974957894745,
          0.015930735859011034,
          0.01770734548031796,
          0.019816181215633593,
          0.022761405892792998,
          0.026776967250965445,
          0.028113909948198228,
          0.02981761223688276,
          0.031358752971381416,
          0.009704056349434382,
          0.013503105739463945,
          0.016791029024208756,
          0.01994856242718906,
          0.01821735106627757,
          0.024177836808449704,
          0.02740235990504236,
          0.02932733132367031,
          0.029220342196336006,
          0.07917213537479438,
          0.07698095359535549,
          0.048941308146660686,
          0.057466312065955365,
          0.04031642732586348,
          0.02862558052603109,
          0.03471323976123368,
          0.03152017125067445,
          0.030752530996209018,
          0.02178407788884955,
          0.03192977696465129,
          0.03270430710939661,
          0.03270430710939661,
          0.08592174911793368,
          0.08592174911793367,
          0.043273324975849244,
          0.028181111649273248,
          0.03685606060302587,
          0.03538011894559014,
          0.04002209819126023,
          0.07070822271831068,
          0.05709314631504509,
          0.019299895148513338,
          0.0496912940521231,
          0.01981120055295643,
          0.01981120055295643,
          0.048117363028813614,
          0.006448445096943829,
          0.0069375944623007975,
          0.006008372761446135,
          0.007035782702070204,
          0.00664541529603499,
          0.005273716803916392,
          0.005856259326749629,
          0.005379311698366395,
          0.00588466500832326,
          0.004433170587005032,
          0.0043686230875485624,
          0.003942051136159883,
          0.00402149547511931,
          0.00431026224725638,
          0.00443076225177593,
          0.00608546934795342,
          0.004989542349839758,
          0.005621869506052281,
          0.004842303847358888,
          0.003804208168578853,
          0.004716348848283798,
          0.004500318261343879,
          0.005009054636648534,
          0.003674976387510227,
          0.017503371477693253,
          0.03240374439750722,
          0.015342076292549505,
          0.01022273940409643,
          0.01088327435790402,
          0.010867922013401816,
          0.011215724994178595,
          0.009483702768085255,
          0.011483846641966717,
          0.05993950895296869,
          0.03704153649440831,
          0.03581408022271918,
          0.019268982004201452,
          0.06276380291291395,
          0.02004346434082939,
          0.09683852668900124,
          0.008118604398739782,
          0.010384950508155305,
          0.027305525451502676,
          0.021577968249653075,
          0.017503371477693253,
          0.02972833547753872,
          0.008155782868489734,
          0.01904068362821839,
          0.02426507474636261,
          0.04442741092775073,
          0.01435532618079991,
          0.05379544075080251,
          0.03655297435594994,
          0.22928873942862193,
          0.0501861725942713,
          0.17629687657145812,
          0.12603598347643719,
          0.23042970572881552,
          0.11763912754763409,
          0.0882523256410878,
          0.11791950377711301,
          0.09927252556986962,
          0.13658435712356212,
          0.25274714708232715,
          0.11693138921044323,
          0.11777693693565026,
          0.015380840497370034,
          0.03481835085421865,
          0.2814131581292878,
          0.022770827773274604,
          0.14624118834486752,
          0.03344828831556653,
          0.11181591468420302,
          0.03038452676965469,
          0.006572059840609577,
          0.12749386453945624,
          0.005040203496814222,
          0.1795273498874792,
          0.008173892120736383,
          0.0565243155316669,
          0.02427454676954426,
          0.015042038701949041,
          0.008681413552250095,
          0.005333130482744661,
          0.05958436510134248,
          0.09945146888113691,
          0.09266434045157333,
          0.01324938374268307,
          0.022762956237507445,
          0.020828447072839394,
          0.015044507036733174,
          0.009336791729986138,
          0.007600766165965847,
          0.018278673964860218,
          0.014385598352284446,
          0.02415335781337547,
          0.06277698820755159,
          0.005774914380277618,
          0.047409502003678446,
          0.07381466216766032,
          0.0045116331228030136,
          0.024865631487068187,
          0.010594235386360226,
          0.0037821299306768775,
          0.04082159206533945,
          0.009500908911680822,
          0.01754937567129779,
          0.03149527077237166,
          0.009976221604921643,
          0.025103428324177376,
          0.01538511487908269,
          0.044378039902072425,
          0.009554073214763212,
          0.015172914591371454,
          0.007095746068186046,
          0.013565101469243756,
          0.007259693708429954
         ],
         "yaxis": "y"
        }
       ],
       "layout": {
        "coloraxis": {
         "colorbar": {
          "title": {
           "text": "Y_lp5"
          }
         },
         "colorscale": [
          [
           0,
           "#0d0887"
          ],
          [
           0.1111111111111111,
           "#46039f"
          ],
          [
           0.2222222222222222,
           "#7201a8"
          ],
          [
           0.3333333333333333,
           "#9c179e"
          ],
          [
           0.4444444444444444,
           "#bd3786"
          ],
          [
           0.5555555555555556,
           "#d8576b"
          ],
          [
           0.6666666666666666,
           "#ed7953"
          ],
          [
           0.7777777777777778,
           "#fb9f3a"
          ],
          [
           0.8888888888888888,
           "#fdca26"
          ],
          [
           1,
           "#f0f921"
          ]
         ]
        },
        "legend": {
         "tracegroupgap": 0
        },
        "margin": {
         "t": 60
        },
        "template": {
         "data": {
          "bar": [
           {
            "error_x": {
             "color": "#2a3f5f"
            },
            "error_y": {
             "color": "#2a3f5f"
            },
            "marker": {
             "line": {
              "color": "#E5ECF6",
              "width": 0.5
             },
             "pattern": {
              "fillmode": "overlay",
              "size": 10,
              "solidity": 0.2
             }
            },
            "type": "bar"
           }
          ],
          "barpolar": [
           {
            "marker": {
             "line": {
              "color": "#E5ECF6",
              "width": 0.5
             },
             "pattern": {
              "fillmode": "overlay",
              "size": 10,
              "solidity": 0.2
             }
            },
            "type": "barpolar"
           }
          ],
          "carpet": [
           {
            "aaxis": {
             "endlinecolor": "#2a3f5f",
             "gridcolor": "white",
             "linecolor": "white",
             "minorgridcolor": "white",
             "startlinecolor": "#2a3f5f"
            },
            "baxis": {
             "endlinecolor": "#2a3f5f",
             "gridcolor": "white",
             "linecolor": "white",
             "minorgridcolor": "white",
             "startlinecolor": "#2a3f5f"
            },
            "type": "carpet"
           }
          ],
          "choropleth": [
           {
            "colorbar": {
             "outlinewidth": 0,
             "ticks": ""
            },
            "type": "choropleth"
           }
          ],
          "contour": [
           {
            "colorbar": {
             "outlinewidth": 0,
             "ticks": ""
            },
            "colorscale": [
             [
              0,
              "#0d0887"
             ],
             [
              0.1111111111111111,
              "#46039f"
             ],
             [
              0.2222222222222222,
              "#7201a8"
             ],
             [
              0.3333333333333333,
              "#9c179e"
             ],
             [
              0.4444444444444444,
              "#bd3786"
             ],
             [
              0.5555555555555556,
              "#d8576b"
             ],
             [
              0.6666666666666666,
              "#ed7953"
             ],
             [
              0.7777777777777778,
              "#fb9f3a"
             ],
             [
              0.8888888888888888,
              "#fdca26"
             ],
             [
              1,
              "#f0f921"
             ]
            ],
            "type": "contour"
           }
          ],
          "contourcarpet": [
           {
            "colorbar": {
             "outlinewidth": 0,
             "ticks": ""
            },
            "type": "contourcarpet"
           }
          ],
          "heatmap": [
           {
            "colorbar": {
             "outlinewidth": 0,
             "ticks": ""
            },
            "colorscale": [
             [
              0,
              "#0d0887"
             ],
             [
              0.1111111111111111,
              "#46039f"
             ],
             [
              0.2222222222222222,
              "#7201a8"
             ],
             [
              0.3333333333333333,
              "#9c179e"
             ],
             [
              0.4444444444444444,
              "#bd3786"
             ],
             [
              0.5555555555555556,
              "#d8576b"
             ],
             [
              0.6666666666666666,
              "#ed7953"
             ],
             [
              0.7777777777777778,
              "#fb9f3a"
             ],
             [
              0.8888888888888888,
              "#fdca26"
             ],
             [
              1,
              "#f0f921"
             ]
            ],
            "type": "heatmap"
           }
          ],
          "heatmapgl": [
           {
            "colorbar": {
             "outlinewidth": 0,
             "ticks": ""
            },
            "colorscale": [
             [
              0,
              "#0d0887"
             ],
             [
              0.1111111111111111,
              "#46039f"
             ],
             [
              0.2222222222222222,
              "#7201a8"
             ],
             [
              0.3333333333333333,
              "#9c179e"
             ],
             [
              0.4444444444444444,
              "#bd3786"
             ],
             [
              0.5555555555555556,
              "#d8576b"
             ],
             [
              0.6666666666666666,
              "#ed7953"
             ],
             [
              0.7777777777777778,
              "#fb9f3a"
             ],
             [
              0.8888888888888888,
              "#fdca26"
             ],
             [
              1,
              "#f0f921"
             ]
            ],
            "type": "heatmapgl"
           }
          ],
          "histogram": [
           {
            "marker": {
             "pattern": {
              "fillmode": "overlay",
              "size": 10,
              "solidity": 0.2
             }
            },
            "type": "histogram"
           }
          ],
          "histogram2d": [
           {
            "colorbar": {
             "outlinewidth": 0,
             "ticks": ""
            },
            "colorscale": [
             [
              0,
              "#0d0887"
             ],
             [
              0.1111111111111111,
              "#46039f"
             ],
             [
              0.2222222222222222,
              "#7201a8"
             ],
             [
              0.3333333333333333,
              "#9c179e"
             ],
             [
              0.4444444444444444,
              "#bd3786"
             ],
             [
              0.5555555555555556,
              "#d8576b"
             ],
             [
              0.6666666666666666,
              "#ed7953"
             ],
             [
              0.7777777777777778,
              "#fb9f3a"
             ],
             [
              0.8888888888888888,
              "#fdca26"
             ],
             [
              1,
              "#f0f921"
             ]
            ],
            "type": "histogram2d"
           }
          ],
          "histogram2dcontour": [
           {
            "colorbar": {
             "outlinewidth": 0,
             "ticks": ""
            },
            "colorscale": [
             [
              0,
              "#0d0887"
             ],
             [
              0.1111111111111111,
              "#46039f"
             ],
             [
              0.2222222222222222,
              "#7201a8"
             ],
             [
              0.3333333333333333,
              "#9c179e"
             ],
             [
              0.4444444444444444,
              "#bd3786"
             ],
             [
              0.5555555555555556,
              "#d8576b"
             ],
             [
              0.6666666666666666,
              "#ed7953"
             ],
             [
              0.7777777777777778,
              "#fb9f3a"
             ],
             [
              0.8888888888888888,
              "#fdca26"
             ],
             [
              1,
              "#f0f921"
             ]
            ],
            "type": "histogram2dcontour"
           }
          ],
          "mesh3d": [
           {
            "colorbar": {
             "outlinewidth": 0,
             "ticks": ""
            },
            "type": "mesh3d"
           }
          ],
          "parcoords": [
           {
            "line": {
             "colorbar": {
              "outlinewidth": 0,
              "ticks": ""
             }
            },
            "type": "parcoords"
           }
          ],
          "pie": [
           {
            "automargin": true,
            "type": "pie"
           }
          ],
          "scatter": [
           {
            "fillpattern": {
             "fillmode": "overlay",
             "size": 10,
             "solidity": 0.2
            },
            "type": "scatter"
           }
          ],
          "scatter3d": [
           {
            "line": {
             "colorbar": {
              "outlinewidth": 0,
              "ticks": ""
             }
            },
            "marker": {
             "colorbar": {
              "outlinewidth": 0,
              "ticks": ""
             }
            },
            "type": "scatter3d"
           }
          ],
          "scattercarpet": [
           {
            "marker": {
             "colorbar": {
              "outlinewidth": 0,
              "ticks": ""
             }
            },
            "type": "scattercarpet"
           }
          ],
          "scattergeo": [
           {
            "marker": {
             "colorbar": {
              "outlinewidth": 0,
              "ticks": ""
             }
            },
            "type": "scattergeo"
           }
          ],
          "scattergl": [
           {
            "marker": {
             "colorbar": {
              "outlinewidth": 0,
              "ticks": ""
             }
            },
            "type": "scattergl"
           }
          ],
          "scattermapbox": [
           {
            "marker": {
             "colorbar": {
              "outlinewidth": 0,
              "ticks": ""
             }
            },
            "type": "scattermapbox"
           }
          ],
          "scatterpolar": [
           {
            "marker": {
             "colorbar": {
              "outlinewidth": 0,
              "ticks": ""
             }
            },
            "type": "scatterpolar"
           }
          ],
          "scatterpolargl": [
           {
            "marker": {
             "colorbar": {
              "outlinewidth": 0,
              "ticks": ""
             }
            },
            "type": "scatterpolargl"
           }
          ],
          "scatterternary": [
           {
            "marker": {
             "colorbar": {
              "outlinewidth": 0,
              "ticks": ""
             }
            },
            "type": "scatterternary"
           }
          ],
          "surface": [
           {
            "colorbar": {
             "outlinewidth": 0,
             "ticks": ""
            },
            "colorscale": [
             [
              0,
              "#0d0887"
             ],
             [
              0.1111111111111111,
              "#46039f"
             ],
             [
              0.2222222222222222,
              "#7201a8"
             ],
             [
              0.3333333333333333,
              "#9c179e"
             ],
             [
              0.4444444444444444,
              "#bd3786"
             ],
             [
              0.5555555555555556,
              "#d8576b"
             ],
             [
              0.6666666666666666,
              "#ed7953"
             ],
             [
              0.7777777777777778,
              "#fb9f3a"
             ],
             [
              0.8888888888888888,
              "#fdca26"
             ],
             [
              1,
              "#f0f921"
             ]
            ],
            "type": "surface"
           }
          ],
          "table": [
           {
            "cells": {
             "fill": {
              "color": "#EBF0F8"
             },
             "line": {
              "color": "white"
             }
            },
            "header": {
             "fill": {
              "color": "#C8D4E3"
             },
             "line": {
              "color": "white"
             }
            },
            "type": "table"
           }
          ]
         },
         "layout": {
          "annotationdefaults": {
           "arrowcolor": "#2a3f5f",
           "arrowhead": 0,
           "arrowwidth": 1
          },
          "autotypenumbers": "strict",
          "coloraxis": {
           "colorbar": {
            "outlinewidth": 0,
            "ticks": ""
           }
          },
          "colorscale": {
           "diverging": [
            [
             0,
             "#8e0152"
            ],
            [
             0.1,
             "#c51b7d"
            ],
            [
             0.2,
             "#de77ae"
            ],
            [
             0.3,
             "#f1b6da"
            ],
            [
             0.4,
             "#fde0ef"
            ],
            [
             0.5,
             "#f7f7f7"
            ],
            [
             0.6,
             "#e6f5d0"
            ],
            [
             0.7,
             "#b8e186"
            ],
            [
             0.8,
             "#7fbc41"
            ],
            [
             0.9,
             "#4d9221"
            ],
            [
             1,
             "#276419"
            ]
           ],
           "sequential": [
            [
             0,
             "#0d0887"
            ],
            [
             0.1111111111111111,
             "#46039f"
            ],
            [
             0.2222222222222222,
             "#7201a8"
            ],
            [
             0.3333333333333333,
             "#9c179e"
            ],
            [
             0.4444444444444444,
             "#bd3786"
            ],
            [
             0.5555555555555556,
             "#d8576b"
            ],
            [
             0.6666666666666666,
             "#ed7953"
            ],
            [
             0.7777777777777778,
             "#fb9f3a"
            ],
            [
             0.8888888888888888,
             "#fdca26"
            ],
            [
             1,
             "#f0f921"
            ]
           ],
           "sequentialminus": [
            [
             0,
             "#0d0887"
            ],
            [
             0.1111111111111111,
             "#46039f"
            ],
            [
             0.2222222222222222,
             "#7201a8"
            ],
            [
             0.3333333333333333,
             "#9c179e"
            ],
            [
             0.4444444444444444,
             "#bd3786"
            ],
            [
             0.5555555555555556,
             "#d8576b"
            ],
            [
             0.6666666666666666,
             "#ed7953"
            ],
            [
             0.7777777777777778,
             "#fb9f3a"
            ],
            [
             0.8888888888888888,
             "#fdca26"
            ],
            [
             1,
             "#f0f921"
            ]
           ]
          },
          "colorway": [
           "#636efa",
           "#EF553B",
           "#00cc96",
           "#ab63fa",
           "#FFA15A",
           "#19d3f3",
           "#FF6692",
           "#B6E880",
           "#FF97FF",
           "#FECB52"
          ],
          "font": {
           "color": "#2a3f5f"
          },
          "geo": {
           "bgcolor": "white",
           "lakecolor": "white",
           "landcolor": "#E5ECF6",
           "showlakes": true,
           "showland": true,
           "subunitcolor": "white"
          },
          "hoverlabel": {
           "align": "left"
          },
          "hovermode": "closest",
          "mapbox": {
           "style": "light"
          },
          "paper_bgcolor": "white",
          "plot_bgcolor": "#E5ECF6",
          "polar": {
           "angularaxis": {
            "gridcolor": "white",
            "linecolor": "white",
            "ticks": ""
           },
           "bgcolor": "#E5ECF6",
           "radialaxis": {
            "gridcolor": "white",
            "linecolor": "white",
            "ticks": ""
           }
          },
          "scene": {
           "xaxis": {
            "backgroundcolor": "#E5ECF6",
            "gridcolor": "white",
            "gridwidth": 2,
            "linecolor": "white",
            "showbackground": true,
            "ticks": "",
            "zerolinecolor": "white"
           },
           "yaxis": {
            "backgroundcolor": "#E5ECF6",
            "gridcolor": "white",
            "gridwidth": 2,
            "linecolor": "white",
            "showbackground": true,
            "ticks": "",
            "zerolinecolor": "white"
           },
           "zaxis": {
            "backgroundcolor": "#E5ECF6",
            "gridcolor": "white",
            "gridwidth": 2,
            "linecolor": "white",
            "showbackground": true,
            "ticks": "",
            "zerolinecolor": "white"
           }
          },
          "shapedefaults": {
           "line": {
            "color": "#2a3f5f"
           }
          },
          "ternary": {
           "aaxis": {
            "gridcolor": "white",
            "linecolor": "white",
            "ticks": ""
           },
           "baxis": {
            "gridcolor": "white",
            "linecolor": "white",
            "ticks": ""
           },
           "bgcolor": "#E5ECF6",
           "caxis": {
            "gridcolor": "white",
            "linecolor": "white",
            "ticks": ""
           }
          },
          "title": {
           "x": 0.05
          },
          "xaxis": {
           "automargin": true,
           "gridcolor": "white",
           "linecolor": "white",
           "ticks": "",
           "title": {
            "standoff": 15
           },
           "zerolinecolor": "white",
           "zerolinewidth": 2
          },
          "yaxis": {
           "automargin": true,
           "gridcolor": "white",
           "linecolor": "white",
           "ticks": "",
           "title": {
            "standoff": 15
           },
           "zerolinecolor": "white",
           "zerolinewidth": 2
          }
         }
        },
        "xaxis": {
         "anchor": "y",
         "domain": [
          0,
          1
         ],
         "title": {
          "text": "F_lp5"
         },
         "type": "log"
        },
        "yaxis": {
         "anchor": "x",
         "domain": [
          0,
          1
         ],
         "title": {
          "text": "T_lp5"
         },
         "type": "log"
        }
       }
      }
     },
     "metadata": {},
     "output_type": "display_data"
    }
   ],
   "source": [
    "plty.scatter(X_lp5_df, x = \"F_lp5\", y = \"T_lp5\", color=\"Y_lp5\", log_x=True, log_y=True)"
   ]
  },
  {
   "cell_type": "code",
   "execution_count": 24,
   "metadata": {},
   "outputs": [
    {
     "data": {
      "application/vnd.plotly.v1+json": {
       "config": {
        "plotlyServerURL": "https://plot.ly"
       },
       "data": [
        {
         "hovertemplate": "variable=Fx_lp5<br>value=%{x}<br>index=%{y}<extra></extra>",
         "legendgroup": "Fx_lp5",
         "marker": {
          "color": "red",
          "symbol": "circle"
         },
         "mode": "markers",
         "name": "Fx_lp5",
         "orientation": "h",
         "showlegend": true,
         "type": "scatter",
         "x": [
          0.6549690210656753,
          0.6572986369268897,
          0.6542750929368031,
          0.6547707558859975,
          0.6550681536555143,
          0.6547211895910781,
          0.6543742255266419,
          0.6545229244114004,
          0.6541263940520445,
          0.6536307311028501,
          0.655365551425031,
          0.6553159851301114,
          0.6540768277571252,
          0.6550681536555142,
          0.6542255266418836,
          0.6546220570012391,
          0.6546220570012391,
          0.6540272614622058,
          0.6539776951672863,
          0.6544237918215613,
          0.6744981412639405,
          0.6646840148698885,
          0.6652788104089219,
          0.6501610904584882,
          0.6507558859975217,
          0.6564064436183394,
          0.6568029739776952,
          0.6534820322180916,
          0.6547707558859975,
          0.6512515489467162,
          0.6528376703841388,
          0.6578438661710038,
          0.6578438661710037,
          0.6688475836431227,
          0.6688475836431227,
          0.6469392812887237,
          0.6538785625774473,
          0.6555142503097893,
          0.6512515489467162,
          0.6494671623296158,
          0.6786617100371746,
          0.6613135068153656,
          0.6543246592317223,
          0.6547707558859975,
          0.653184634448575,
          0.653184634448575,
          0.6452044609665427,
          0.6550185873605947,
          0.6552168525402725,
          0.6550185873605947,
          0.6543246592317223,
          0.654919454770756,
          0.6549690210656753,
          0.6553655514250311,
          0.6549194547707557,
          0.656009913258984,
          0.6565055762081784,
          0.6566542750929367,
          0.6569516728624536,
          0.656654275092937,
          0.6566047087980174,
          0.6565551425030979,
          0.6557620817843867,
          0.654820322180917,
          0.6554646840148699,
          0.6535315985130111,
          0.6534324659231722,
          0.6538289962825279,
          0.6535315985130112,
          0.6533828996282528,
          0.6534820322180915,
          0.6566047087980175,
          0.6658736059479554,
          0.6611648079306072,
          0.6559603469640645,
          0.6547707558859976,
          0.650359355638166,
          0.6544237918215613,
          0.6512515489467163,
          0.6482280049566296,
          0.6680545229244115,
          0.6631474597273855,
          0.6572986369268897,
          0.6559603469640645,
          0.649714993804213,
          0.6528872366790581,
          0.6617596034696405,
          0.6537794299876083,
          0.6514002478314745,
          0.6458488228004956,
          0.6519454770755887,
          0.6566047087980175,
          0.6411400247831475,
          0.6544733581164809,
          0.6636926889714994,
          0.6662701363073109,
          0.6392069392812886,
          0.6491697645600991,
          0.6818339529120199,
          0.6373729863692688,
          0.5892936802973978,
          0.6549194547707559,
          0.5550929368029739,
          0.6168029739776951,
          0.6552168525402725,
          0.784733581164808,
          0.6673605947955391,
          0.664634448574969,
          0.7007682775712516,
          0.748004956629492,
          0.7477571251548947,
          0.6328624535315985,
          0.7180173482032219,
          0.6534820322180915,
          0.6618091697645601,
          0.6698389095415119,
          0.653085501858736,
          0.5818587360594798,
          0.6580421313506816,
          0.5601982651796777,
          0.650557620817844,
          0.6623048327137546,
          0.743543990086741,
          0.6567534076827758,
          0.7060718711276333,
          0.6555142503097893,
          0.5405700123915737,
          0.6477819083023545,
          0.650359355638166,
          0.6601734820322182,
          0.6604213135068153,
          0.6962081784386617,
          0.6831226765799255,
          0.722180916976456,
          0.6589838909541511,
          0.6467410161090458,
          0.655811648079306,
          0.6579925650557621,
          0.6573482032218093,
          0.6598760842627013,
          0.6599752168525402,
          0.6583890954151177,
          0.6646840148698885,
          0.5917719950433705,
          0.6530359355638166,
          0.6197769516728625,
          0.6855018587360596,
          0.6556629491945477,
          0.667905824039653,
          0.6567534076827758,
          0.6558612143742255,
          0.6367781908302353,
          0.653184634448575,
          0.6518463444857496,
          0.6651796778190829,
          0.6563073110285007,
          0.6669640644361834,
          0.6541263940520448,
          0.6383147459727385,
          0.6545229244114001,
          0.662354399008674,
          0.6540768277571251,
          0.6518463444857496,
          0.6572986369268897
         ],
         "xaxis": "x",
         "y": [
          0,
          1,
          2,
          3,
          4,
          5,
          6,
          7,
          8,
          9,
          10,
          11,
          12,
          13,
          14,
          15,
          16,
          17,
          18,
          19,
          20,
          21,
          22,
          23,
          24,
          25,
          26,
          27,
          28,
          29,
          30,
          31,
          32,
          33,
          34,
          35,
          36,
          37,
          38,
          39,
          40,
          41,
          42,
          43,
          44,
          45,
          46,
          47,
          48,
          49,
          50,
          51,
          52,
          53,
          54,
          55,
          56,
          57,
          58,
          59,
          60,
          61,
          62,
          63,
          64,
          65,
          66,
          67,
          68,
          69,
          70,
          71,
          72,
          73,
          74,
          75,
          76,
          77,
          78,
          79,
          80,
          81,
          82,
          83,
          84,
          85,
          86,
          87,
          88,
          89,
          90,
          91,
          92,
          93,
          94,
          95,
          96,
          97,
          98,
          99,
          100,
          101,
          102,
          103,
          104,
          105,
          106,
          107,
          108,
          109,
          110,
          111,
          112,
          113,
          114,
          115,
          116,
          117,
          118,
          119,
          120,
          121,
          122,
          123,
          124,
          125,
          126,
          127,
          128,
          129,
          130,
          131,
          132,
          133,
          134,
          135,
          136,
          137,
          138,
          139,
          140,
          141,
          142,
          143,
          144,
          145,
          146,
          147,
          148,
          149,
          150,
          151,
          152,
          153,
          154,
          155,
          156,
          157,
          158,
          159,
          160,
          161,
          162,
          163
         ],
         "yaxis": "y"
        },
        {
         "hovertemplate": "variable=Fy_lp5<br>value=%{x}<br>index=%{y}<extra></extra>",
         "legendgroup": "Fy_lp5",
         "marker": {
          "color": "blue",
          "symbol": "circle"
         },
         "mode": "markers",
         "name": "Fy_lp5",
         "orientation": "h",
         "showlegend": true,
         "type": "scatter",
         "x": [
          0.4646341463414635,
          0.4632520325203252,
          0.46406504065040655,
          0.46170731707317075,
          0.4623577235772357,
          0.46186991869918703,
          0.4626016260162602,
          0.4624390243902439,
          0.46219512195121953,
          0.4623577235772359,
          0.4653658536585367,
          0.46268292682926837,
          0.4649593495934959,
          0.4626016260162602,
          0.4627642276422765,
          0.46203252032520337,
          0.46162601626016275,
          0.46235772357723576,
          0.46390243902439027,
          0.4633333333333335,
          0.4645528455284554,
          0.46983739837398375,
          0.45081300813008135,
          0.48097560975609766,
          0.47975609756097565,
          0.4608130081300813,
          0.4561788617886179,
          0.46308943089430893,
          0.4643902439024391,
          0.461219512195122,
          0.46439024390243905,
          0.46569105691056906,
          0.46569105691056906,
          0.4440650406504065,
          0.4440650406504065,
          0.45869918699186996,
          0.4634146341463415,
          0.46552845528455283,
          0.46235772357723576,
          0.46203252032520326,
          0.477479674796748,
          0.474308943089431,
          0.4626829268292683,
          0.47804878048780497,
          0.4595934959349593,
          0.4595934959349593,
          0.4642276422764227,
          0.4676422764227643,
          0.4682926829268294,
          0.4678861788617886,
          0.467479674796748,
          0.4677235772357724,
          0.46747967479674796,
          0.4673983739837398,
          0.46731707317073173,
          0.4680487804878049,
          0.46674796747967484,
          0.46658536585365856,
          0.46634146341463417,
          0.466260162601626,
          0.466260162601626,
          0.4660975609756097,
          0.46764227642276424,
          0.4669918699186992,
          0.4670731707317073,
          0.4663414634146342,
          0.46731707317073173,
          0.46560975609756106,
          0.46593495934959356,
          0.46674796747967473,
          0.4656910569105691,
          0.4692682926829269,
          0.4572357723577236,
          0.46317073170731704,
          0.46821138211382113,
          0.4659349593495935,
          0.4707317073170732,
          0.4630081300813008,
          0.4701626016260162,
          0.46821138211382113,
          0.46813008130081296,
          0.47065040650406514,
          0.47065040650406503,
          0.4691056910569106,
          0.48040650406504065,
          0.4651219512195122,
          0.4419512195121951,
          0.4683739837398375,
          0.4675609756097562,
          0.4693495934959351,
          0.4715447154471545,
          0.4692682926829269,
          0.47829268292682936,
          0.4669918699186991,
          0.46056910569105697,
          0.454390243902439,
          0.4801626016260163,
          0.4670731707317073,
          0.4520325203252033,
          0.47512195121951223,
          0.15260162601626018,
          0.45032520325203257,
          0.32861788617886173,
          0.4513821138211382,
          0.4882113821138211,
          0.27056910569105685,
          0.44414634146341464,
          0.4434959349593496,
          0.4170731707317073,
          0.3352032520325203,
          0.3673170731707317,
          0.42463414634146357,
          0.42520325203252035,
          0.46260162601626015,
          0.4630081300813008,
          0.5645528455284553,
          0.476910569105691,
          0.5137398373983741,
          0.45715447154471556,
          0.42422764227642273,
          0.4621951219512196,
          0.4663414634146343,
          0.4497560975609757,
          0.4658536585365854,
          0.32601626016260166,
          0.46414634146341466,
          0.32682926829268294,
          0.45626016260162605,
          0.46008130081300813,
          0.4599999999999999,
          0.46707317073170734,
          0.4601626016260163,
          0.47650406504065046,
          0.5250406504065039,
          0.4678048780487805,
          0.47674796747967474,
          0.4581300813008131,
          0.46731707317073173,
          0.4596747967479676,
          0.4682113821138211,
          0.458780487804878,
          0.46390243902439027,
          0.46447154471544716,
          0.43756097560975615,
          0.46447154471544727,
          0.44113821138211384,
          0.4366666666666667,
          0.467479674796748,
          0.45951219512195113,
          0.4652845528455286,
          0.4681300813008131,
          0.4752032520325204,
          0.46943089430894314,
          0.466829268292683,
          0.46170731707317075,
          0.46780487804878057,
          0.46617886178861784,
          0.4644715447154472,
          0.4845528455284553,
          0.46707317073170723,
          0.46317073170731715,
          0.4699186991869919,
          0.4710569105691057,
          0.4639024390243902
         ],
         "xaxis": "x",
         "y": [
          0,
          1,
          2,
          3,
          4,
          5,
          6,
          7,
          8,
          9,
          10,
          11,
          12,
          13,
          14,
          15,
          16,
          17,
          18,
          19,
          20,
          21,
          22,
          23,
          24,
          25,
          26,
          27,
          28,
          29,
          30,
          31,
          32,
          33,
          34,
          35,
          36,
          37,
          38,
          39,
          40,
          41,
          42,
          43,
          44,
          45,
          46,
          47,
          48,
          49,
          50,
          51,
          52,
          53,
          54,
          55,
          56,
          57,
          58,
          59,
          60,
          61,
          62,
          63,
          64,
          65,
          66,
          67,
          68,
          69,
          70,
          71,
          72,
          73,
          74,
          75,
          76,
          77,
          78,
          79,
          80,
          81,
          82,
          83,
          84,
          85,
          86,
          87,
          88,
          89,
          90,
          91,
          92,
          93,
          94,
          95,
          96,
          97,
          98,
          99,
          100,
          101,
          102,
          103,
          104,
          105,
          106,
          107,
          108,
          109,
          110,
          111,
          112,
          113,
          114,
          115,
          116,
          117,
          118,
          119,
          120,
          121,
          122,
          123,
          124,
          125,
          126,
          127,
          128,
          129,
          130,
          131,
          132,
          133,
          134,
          135,
          136,
          137,
          138,
          139,
          140,
          141,
          142,
          143,
          144,
          145,
          146,
          147,
          148,
          149,
          150,
          151,
          152,
          153,
          154,
          155,
          156,
          157,
          158,
          159,
          160,
          161,
          162,
          163
         ],
         "yaxis": "y"
        },
        {
         "hovertemplate": "variable=Fz_lp5<br>value=%{x}<br>index=%{y}<extra></extra>",
         "legendgroup": "Fz_lp5",
         "marker": {
          "color": "green",
          "symbol": "circle"
         },
         "mode": "markers",
         "name": "Fz_lp5",
         "orientation": "h",
         "showlegend": true,
         "type": "scatter",
         "x": [
          0.9161173068979761,
          0.9160677406030566,
          0.9158694754233786,
          0.9164642709624122,
          0.9158859975216854,
          0.9159025196199917,
          0.9160016522098307,
          0.9158199091284591,
          0.9160346964064436,
          0.9162660057827344,
          0.916216439487815,
          0.9162990499793473,
          0.9157868649318464,
          0.9161833952912021,
          0.9158199091284591,
          0.9158529533250722,
          0.9159520859149113,
          0.9160346964064436,
          0.9160346964064437,
          0.9160346964064436,
          0.9178356051218505,
          0.9216522098306485,
          0.9168442792234615,
          0.9177364725320115,
          0.9162329615861216,
          0.9166790582403966,
          0.916315572077654,
          0.9165799256505578,
          0.9169434118133003,
          0.9164973151590251,
          0.9170921106980587,
          0.9171416769929782,
          0.9171416769929782,
          0.9164807930607187,
          0.9164807930607187,
          0.9137546468401487,
          0.9174060305658819,
          0.9171581990912847,
          0.9172077653862039,
          0.9184964890541097,
          0.9183312680710449,
          0.9135894258570839,
          0.9167286245353161,
          0.9151755472945063,
          0.9166625361420899,
          0.9166625361420899,
          0.9155390334572491,
          0.9012143742255265,
          0.9015613382899628,
          0.9020239570425443,
          0.901330028913672,
          0.9014456836018175,
          0.9011813300289137,
          0.9007021891780256,
          0.9012969847170591,
          0.9013795952085915,
          0.9003882693102024,
          0.9002560925237505,
          0.900784799669558,
          0.9002395704254441,
          0.9001734820322181,
          0.9000413052457663,
          0.9007352333746385,
          0.9010491532424617,
          0.9013795952085915,
          0.8985543163981824,
          0.8979925650557621,
          0.8981412639405203,
          0.8978934324659231,
          0.8979264766625362,
          0.8982073523337466,
          0.9023378769103677,
          0.9039239983477901,
          0.8975464684014871,
          0.898256918628666,
          0.8963568773234202,
          0.8971664601404378,
          0.897034283353986,
          0.8952003304419662,
          0.8951838083436598,
          0.9024370095002064,
          0.8882114828583229,
          0.8990830235439898,
          0.900371747211896,
          0.9022552664188352,
          0.8980421313506817,
          0.9035605121850475,
          0.9006856670797192,
          0.9010161090458486,
          0.8879140850888062,
          0.9010491532424619,
          0.9023378769103677,
          0.8977777777777778,
          0.8971168938455185,
          0.897645600991326,
          0.8988021478727798,
          0.8978438661710038,
          0.8980256092523751,
          0.8990830235439902,
          0.8964890541098719,
          0.3268236266005781,
          0.8692936802973978,
          0.6948864105741428,
          0.7546964064436181,
          0.6637092110698058,
          0.2887897562990499,
          0.8348946716232961,
          0.8283353985956217,
          0.8550516315572079,
          0.6335894258570838,
          0.6478810408921933,
          0.7143659644774886,
          0.7863197026022305,
          0.8906237092110698,
          0.8579429987608426,
          0.658223874432053,
          0.891548946716233,
          0.6276414704667492,
          0.8552829409334985,
          0.7603634861627426,
          0.8750433705080544,
          0.8886410574142916,
          0.6639405204460966,
          0.8956794712928543,
          0.7036431226765798,
          0.8944072697232549,
          0.6554812061131764,
          0.8608178438661709,
          0.875952085914911,
          0.87638166047088,
          0.8906732755059893,
          0.8545559686080133,
          0.7849814126394051,
          0.707360594795539,
          0.8906237092110697,
          0.8944568360181744,
          0.8791408508880626,
          0.892028087567121,
          0.8833870301528294,
          0.892094175960347,
          0.8836183395291201,
          0.8906732755059893,
          0.8891201982651797,
          0.7881536555142503,
          0.8931681123502685,
          0.8432878975629906,
          0.8862949194547708,
          0.8993969434118133,
          0.8974142916150353,
          0.897100371747212,
          0.897645600991326,
          0.8946881453944653,
          0.8969021065675341,
          0.8976290788930192,
          0.8999421726559275,
          0.898289962825279,
          0.8980256092523752,
          0.8967368855844693,
          0.8951507641470469,
          0.897100371747212,
          0.8985047501032632,
          0.8979595208591492,
          0.8973316811235027,
          0.8970177612556796
         ],
         "xaxis": "x",
         "y": [
          0,
          1,
          2,
          3,
          4,
          5,
          6,
          7,
          8,
          9,
          10,
          11,
          12,
          13,
          14,
          15,
          16,
          17,
          18,
          19,
          20,
          21,
          22,
          23,
          24,
          25,
          26,
          27,
          28,
          29,
          30,
          31,
          32,
          33,
          34,
          35,
          36,
          37,
          38,
          39,
          40,
          41,
          42,
          43,
          44,
          45,
          46,
          47,
          48,
          49,
          50,
          51,
          52,
          53,
          54,
          55,
          56,
          57,
          58,
          59,
          60,
          61,
          62,
          63,
          64,
          65,
          66,
          67,
          68,
          69,
          70,
          71,
          72,
          73,
          74,
          75,
          76,
          77,
          78,
          79,
          80,
          81,
          82,
          83,
          84,
          85,
          86,
          87,
          88,
          89,
          90,
          91,
          92,
          93,
          94,
          95,
          96,
          97,
          98,
          99,
          100,
          101,
          102,
          103,
          104,
          105,
          106,
          107,
          108,
          109,
          110,
          111,
          112,
          113,
          114,
          115,
          116,
          117,
          118,
          119,
          120,
          121,
          122,
          123,
          124,
          125,
          126,
          127,
          128,
          129,
          130,
          131,
          132,
          133,
          134,
          135,
          136,
          137,
          138,
          139,
          140,
          141,
          142,
          143,
          144,
          145,
          146,
          147,
          148,
          149,
          150,
          151,
          152,
          153,
          154,
          155,
          156,
          157,
          158,
          159,
          160,
          161,
          162,
          163
         ],
         "yaxis": "y"
        },
        {
         "hovertemplate": "variable=Tx_lp5<br>value=%{x}<br>index=%{y}<extra></extra>",
         "legendgroup": "Tx_lp5",
         "marker": {
          "color": "purple",
          "symbol": "circle"
         },
         "mode": "markers",
         "name": "Tx_lp5",
         "orientation": "h",
         "showlegend": true,
         "type": "scatter",
         "x": [
          0.4479347826086958,
          0.4481159420289856,
          0.4472101449275362,
          0.44710144927536233,
          0.4452898550724638,
          0.44445652173913053,
          0.44217391304347825,
          0.44025362318840583,
          0.43876811594202897,
          0.4382608695652174,
          0.43547101449275366,
          0.4493115942028985,
          0.44619565217391305,
          0.44663043478260867,
          0.44532608695652176,
          0.4443478260869565,
          0.4426449275362318,
          0.43949275362318846,
          0.4378623188405797,
          0.43713768115942037,
          0.4393840579710145,
          0.42746376811594206,
          0.45652173913043476,
          0.42373188405797096,
          0.43445652173913035,
          0.4419565217391304,
          0.44623188405797104,
          0.4393115942028985,
          0.4363043478260869,
          0.44586956521739135,
          0.44079710144927536,
          0.440072463768116,
          0.440072463768116,
          0.45865942028985507,
          0.45865942028985507,
          0.44891304347826083,
          0.43851449275362325,
          0.43387681159420294,
          0.44239130434782603,
          0.44554347826086954,
          0.44561594202898547,
          0.43423913043478257,
          0.447463768115942,
          0.44036231884057975,
          0.45199275362318836,
          0.45199275362318836,
          0.4438043478260869,
          0.4505434782608696,
          0.4505434782608696,
          0.45021739130434785,
          0.4501811594202899,
          0.44992753623188414,
          0.44978260869565223,
          0.450036231884058,
          0.4496376811594204,
          0.44989130434782615,
          0.44869565217391316,
          0.44862318840579724,
          0.4485869565217392,
          0.4483695652173914,
          0.44811594202898564,
          0.44804347826086965,
          0.4499637681159421,
          0.448913043478261,
          0.44985507246376816,
          0.4508333333333334,
          0.4502898550724639,
          0.45047101449275373,
          0.45021739130434796,
          0.45079710144927543,
          0.45010869565217404,
          0.4455434782608696,
          0.4502898550724638,
          0.45007246376811605,
          0.447536231884058,
          0.44739130434782626,
          0.44565217391304357,
          0.45163043478260884,
          0.4460144927536233,
          0.44594202898550744,
          0.44789855072463763,
          0.44500000000000006,
          0.4406521739130434,
          0.4442753623188406,
          0.4170289855072465,
          0.4455797101449273,
          0.48971014492753623,
          0.44717391304347837,
          0.4477898550724639,
          0.4419565217391304,
          0.4431884057971015,
          0.4455434782608696,
          0.4417753623188406,
          0.44989130434782615,
          0.45322463768115956,
          0.4548188405797103,
          0.43659420289855083,
          0.4473913043478262,
          0.46478260869565236,
          0.4442753623188406,
          0.39684782608695646,
          0.43224637681159417,
          0.4773913043478261,
          0.442572463768116,
          0.3728985507246377,
          0.5157608695652175,
          0.4530072463768116,
          0.4679710144927537,
          0.461268115942029,
          0.5148188405797101,
          0.4227536231884058,
          0.49115942028985504,
          0.4774275362318841,
          0.4452898550724638,
          0.4481884057971015,
          0.5901449275362318,
          0.443768115942029,
          0.41065217391304343,
          0.43177536231884056,
          0.4241666666666667,
          0.4360144927536232,
          0.4492391304347826,
          0.4771739130434783,
          0.4492391304347827,
          0.3940217391304348,
          0.4481159420289856,
          0.4440579710144928,
          0.4406159420289855,
          0.443695652173913,
          0.45061594202898547,
          0.4491304347826087,
          0.45822463768115934,
          0.4967028985507246,
          0.4952898550724638,
          0.45391304347826084,
          0.4385869565217391,
          0.4502898550724639,
          0.44989130434782615,
          0.4484420289855072,
          0.44945652173913053,
          0.4523913043478262,
          0.452391304347826,
          0.453768115942029,
          0.4718840579710145,
          0.4476811594202899,
          0.46405797101449264,
          0.4603623188405797,
          0.44978260869565223,
          0.4530072463768117,
          0.4509782608695653,
          0.4489855072463769,
          0.44307971014492764,
          0.4465579710144929,
          0.44793478260869585,
          0.44753623188405806,
          0.44909420289855084,
          0.4536956521739131,
          0.44956521739130445,
          0.4385869565217392,
          0.44322463768115955,
          0.45018115942028997,
          0.4474637681159422,
          0.44724637681159435,
          0.44960144927536244
         ],
         "xaxis": "x",
         "y": [
          0,
          1,
          2,
          3,
          4,
          5,
          6,
          7,
          8,
          9,
          10,
          11,
          12,
          13,
          14,
          15,
          16,
          17,
          18,
          19,
          20,
          21,
          22,
          23,
          24,
          25,
          26,
          27,
          28,
          29,
          30,
          31,
          32,
          33,
          34,
          35,
          36,
          37,
          38,
          39,
          40,
          41,
          42,
          43,
          44,
          45,
          46,
          47,
          48,
          49,
          50,
          51,
          52,
          53,
          54,
          55,
          56,
          57,
          58,
          59,
          60,
          61,
          62,
          63,
          64,
          65,
          66,
          67,
          68,
          69,
          70,
          71,
          72,
          73,
          74,
          75,
          76,
          77,
          78,
          79,
          80,
          81,
          82,
          83,
          84,
          85,
          86,
          87,
          88,
          89,
          90,
          91,
          92,
          93,
          94,
          95,
          96,
          97,
          98,
          99,
          100,
          101,
          102,
          103,
          104,
          105,
          106,
          107,
          108,
          109,
          110,
          111,
          112,
          113,
          114,
          115,
          116,
          117,
          118,
          119,
          120,
          121,
          122,
          123,
          124,
          125,
          126,
          127,
          128,
          129,
          130,
          131,
          132,
          133,
          134,
          135,
          136,
          137,
          138,
          139,
          140,
          141,
          142,
          143,
          144,
          145,
          146,
          147,
          148,
          149,
          150,
          151,
          152,
          153,
          154,
          155,
          156,
          157,
          158,
          159,
          160,
          161,
          162,
          163
         ],
         "yaxis": "y"
        },
        {
         "hovertemplate": "variable=Ty_lp5<br>value=%{x}<br>index=%{y}<extra></extra>",
         "legendgroup": "Ty_lp5",
         "marker": {
          "color": "orange",
          "symbol": "circle"
         },
         "mode": "markers",
         "name": "Ty_lp5",
         "orientation": "h",
         "showlegend": true,
         "type": "scatter",
         "x": [
          0.48665316227774036,
          0.48800360117038033,
          0.482736889489084,
          0.48075624577987847,
          0.4795408507765024,
          0.4769300022507315,
          0.4753094755795633,
          0.47427413909520594,
          0.47355390501913125,
          0.47287868557281115,
          0.4751744316902993,
          0.48593292820166556,
          0.48183659689399044,
          0.48026108485257707,
          0.4779203241053343,
          0.4776502363268062,
          0.47562457798784596,
          0.47404906594643254,
          0.4739590366869233,
          0.47427413909520594,
          0.5049291019581365,
          0.5196488858879137,
          0.4954760297096557,
          0.4696376322304749,
          0.4768849876209768,
          0.48098131892865187,
          0.47913571910871033,
          0.47548953409858197,
          0.47629979743416606,
          0.47638982669367547,
          0.4744541976142246,
          0.4861129867206842,
          0.48611298672068426,
          0.5123115012379024,
          0.5123115012379024,
          0.46378573036236775,
          0.4758046365068646,
          0.4752644609498086,
          0.4693225298221923,
          0.46999774926851223,
          0.5078100382624353,
          0.47413909520594183,
          0.4889038937654737,
          0.4928651811838847,
          0.48354715282466804,
          0.48354715282466804,
          0.46869232500562685,
          0.4857528696826468,
          0.4851676794958361,
          0.48552779653387346,
          0.4846725185685347,
          0.48494260634706277,
          0.4858879135719108,
          0.4859329282016656,
          0.4857528696826468,
          0.48575286968264686,
          0.4860229574611748,
          0.4860229574611748,
          0.4863380598694576,
          0.48620301598019366,
          0.48597794283142026,
          0.48593292820166556,
          0.48534773801485487,
          0.48561782579338275,
          0.4855728111636282,
          0.4888588791357191,
          0.48876884987620983,
          0.48831870357866314,
          0.487913571910871,
          0.48795858654062574,
          0.4888138645059646,
          0.49682646860229573,
          0.5110961062345263,
          0.49579113211793835,
          0.4886338059869457,
          0.4869682646860229,
          0.4828719333783481,
          0.4875084402430791,
          0.48417735764123343,
          0.4837272113436867,
          0.5235201440468152,
          0.5002925950934054,
          0.4977267611973891,
          0.4894440693225299,
          0.47350889038937655,
          0.4862030159801935,
          0.5089804186360568,
          0.48539275264460946,
          0.4823767724510466,
          0.4847175331982895,
          0.4807112311501239,
          0.49682646860229573,
          0.4747242853927526,
          0.48939905469277506,
          0.5009227999099707,
          0.5046590141796085,
          0.46626153499887457,
          0.48327706504614,
          0.5212694125590818,
          0.4679720909295521,
          0.6292144947107811,
          0.5064145847400405,
          0.562997974341661,
          0.5555255458023858,
          0.37605221697051533,
          0.47179833445869923,
          0.4711681296421337,
          0.520414134593743,
          0.4924600495160928,
          0.49426063470627946,
          0.31460724735539053,
          0.43781228899392305,
          0.5110510916047716,
          0.48242178708080125,
          0.48467251856853477,
          0.43069997749268524,
          0.5014179608372722,
          0.5836596893990547,
          0.4949808687823542,
          0.4598244429439568,
          0.4861129867206842,
          0.48971415710105787,
          0.43781228899392305,
          0.4892640108035111,
          0.3763223047490433,
          0.491739815440018,
          0.5049291019581365,
          0.5033085752869683,
          0.4979068197164079,
          0.4931802835921675,
          0.4875534548728337,
          0.5086203015980193,
          0.46342561332433035,
          0.49754670267837053,
          0.4835471528246681,
          0.4813864505964439,
          0.49408057618726087,
          0.47990096781453967,
          0.4930002250731488,
          0.4854827819041188,
          0.49822192212469046,
          0.4822867431915372,
          0.49002925950934056,
          0.47990096781453967,
          0.4931802835921675,
          0.46729687148323207,
          0.5237902318253432,
          0.4889038937654738,
          0.5022732388026109,
          0.49052442043664185,
          0.4883187035786631,
          0.4659014179608373,
          0.4832320504163853,
          0.4823317578212919,
          0.5047040288093629,
          0.4886338059869458,
          0.5017330632455548,
          0.48966914247130316,
          0.4694125590817015,
          0.48732838172406034,
          0.4990321854602745,
          0.4874184109835697,
          0.48440243079000683,
          0.4904343911771326
         ],
         "xaxis": "x",
         "y": [
          0,
          1,
          2,
          3,
          4,
          5,
          6,
          7,
          8,
          9,
          10,
          11,
          12,
          13,
          14,
          15,
          16,
          17,
          18,
          19,
          20,
          21,
          22,
          23,
          24,
          25,
          26,
          27,
          28,
          29,
          30,
          31,
          32,
          33,
          34,
          35,
          36,
          37,
          38,
          39,
          40,
          41,
          42,
          43,
          44,
          45,
          46,
          47,
          48,
          49,
          50,
          51,
          52,
          53,
          54,
          55,
          56,
          57,
          58,
          59,
          60,
          61,
          62,
          63,
          64,
          65,
          66,
          67,
          68,
          69,
          70,
          71,
          72,
          73,
          74,
          75,
          76,
          77,
          78,
          79,
          80,
          81,
          82,
          83,
          84,
          85,
          86,
          87,
          88,
          89,
          90,
          91,
          92,
          93,
          94,
          95,
          96,
          97,
          98,
          99,
          100,
          101,
          102,
          103,
          104,
          105,
          106,
          107,
          108,
          109,
          110,
          111,
          112,
          113,
          114,
          115,
          116,
          117,
          118,
          119,
          120,
          121,
          122,
          123,
          124,
          125,
          126,
          127,
          128,
          129,
          130,
          131,
          132,
          133,
          134,
          135,
          136,
          137,
          138,
          139,
          140,
          141,
          142,
          143,
          144,
          145,
          146,
          147,
          148,
          149,
          150,
          151,
          152,
          153,
          154,
          155,
          156,
          157,
          158,
          159,
          160,
          161,
          162,
          163
         ],
         "yaxis": "y"
        },
        {
         "hovertemplate": "variable=Tz_lp5<br>value=%{x}<br>index=%{y}<extra></extra>",
         "legendgroup": "Tz_lp5",
         "marker": {
          "color": "yellow",
          "symbol": "circle"
         },
         "mode": "markers",
         "name": "Tz_lp5",
         "orientation": "h",
         "showlegend": true,
         "type": "scatter",
         "x": [
          0.5044715447154471,
          0.5035230352303522,
          0.5008130081300813,
          0.49214092140921406,
          0.49173441734417345,
          0.49037940379403794,
          0.48739837398373975,
          0.48279132791327917,
          0.4844173441734417,
          0.4819783197831978,
          0.48685636856368564,
          0.5063685636856368,
          0.4983739837398374,
          0.49308943089430896,
          0.49214092140921406,
          0.4913279132791329,
          0.4841463414634146,
          0.48455284552845523,
          0.4823848238482384,
          0.48590785907859074,
          0.4867208672086721,
          0.48319783197831984,
          0.49999999999999994,
          0.4915989159891599,
          0.4956639566395664,
          0.48387533875338756,
          0.4827913279132791,
          0.48658536585365847,
          0.4841463414634145,
          0.48929539295392954,
          0.48848238482384826,
          0.4886178861788618,
          0.4886178861788618,
          0.49850948509485093,
          0.49850948509485093,
          0.4936314363143631,
          0.487669376693767,
          0.4880758807588076,
          0.4863143631436314,
          0.4784552845528455,
          0.4869918699186992,
          0.47018970189701903,
          0.49308943089430896,
          0.4936314363143631,
          0.500271002710027,
          0.500271002710027,
          0.5056910569105691,
          0.502710027100271,
          0.502710027100271,
          0.5020325203252033,
          0.502710027100271,
          0.5031165311653116,
          0.502981029810298,
          0.50420054200542,
          0.5046070460704607,
          0.5051490514905148,
          0.5035230352303522,
          0.5035230352303522,
          0.5032520325203252,
          0.5032520325203251,
          0.5031165311653115,
          0.5028455284552844,
          0.5044715447154471,
          0.5047425474254742,
          0.5036585365853657,
          0.5070460704607045,
          0.5077235772357722,
          0.5071815718157181,
          0.5073170731707316,
          0.5074525745257452,
          0.5070460704607045,
          0.498509485094851,
          0.5051490514905148,
          0.5029810298102981,
          0.5023035230352303,
          0.4941734417344173,
          0.5023035230352303,
          0.4968834688346883,
          0.4981029810298104,
          0.49823848238482393,
          0.4789972899728997,
          0.4928184281842818,
          0.49905149051490516,
          0.4910569105691057,
          0.47994579945799465,
          0.5092140921409214,
          0.4630081300813008,
          0.501219512195122,
          0.5009485094850948,
          0.49485094850948513,
          0.49850948509485093,
          0.498509485094851,
          0.4991869918699187,
          0.49769647696476965,
          0.49742547425474265,
          0.49945799457994583,
          0.5012195121951221,
          0.49769647696476965,
          0.4962059620596207,
          0.49430894308943096,
          0.5021680216802169,
          0.5033875338753387,
          0.402710027100271,
          0.36070460704607044,
          0.40203252032520326,
          0.4689701897018969,
          0.49403794037940385,
          0.4875338753387534,
          0.521680216802168,
          0.48983739837398377,
          0.5317073170731708,
          0.4378048780487804,
          0.523170731707317,
          0.5078590785907857,
          0.5102981029810298,
          0.6425474254742549,
          0.5147696476964769,
          0.5051490514905148,
          0.490650406504065,
          0.48252032520325205,
          0.4856368563685637,
          0.5093495934959349,
          0.5302168021680216,
          0.5092140921409213,
          0.5410569105691055,
          0.5062330623306232,
          0.48631436314363147,
          0.5027100271002709,
          0.5069105691056909,
          0.5070460704607045,
          0.50840108401084,
          0.5193766937669376,
          0.5327913279132791,
          0.5349593495934959,
          0.5131436314363145,
          0.5073170731707316,
          0.49945799457994594,
          0.5089430894308943,
          0.5043360433604336,
          0.5093495934959349,
          0.5046070460704607,
          0.5140921409214093,
          0.5161246612466125,
          0.49430894308943096,
          0.5082655826558263,
          0.49647696476964764,
          0.5051490514905147,
          0.49837398373983743,
          0.4970189701897019,
          0.49756097560975615,
          0.49783197831978326,
          0.49552845528455286,
          0.49607046070460714,
          0.49092140921409216,
          0.5008130081300813,
          0.4978319783197832,
          0.5033875338753387,
          0.4970189701897019,
          0.4962059620596206,
          0.5,
          0.49796747967479676,
          0.4966124661246613,
          0.4971544715447155,
          0.4968834688346884
         ],
         "xaxis": "x",
         "y": [
          0,
          1,
          2,
          3,
          4,
          5,
          6,
          7,
          8,
          9,
          10,
          11,
          12,
          13,
          14,
          15,
          16,
          17,
          18,
          19,
          20,
          21,
          22,
          23,
          24,
          25,
          26,
          27,
          28,
          29,
          30,
          31,
          32,
          33,
          34,
          35,
          36,
          37,
          38,
          39,
          40,
          41,
          42,
          43,
          44,
          45,
          46,
          47,
          48,
          49,
          50,
          51,
          52,
          53,
          54,
          55,
          56,
          57,
          58,
          59,
          60,
          61,
          62,
          63,
          64,
          65,
          66,
          67,
          68,
          69,
          70,
          71,
          72,
          73,
          74,
          75,
          76,
          77,
          78,
          79,
          80,
          81,
          82,
          83,
          84,
          85,
          86,
          87,
          88,
          89,
          90,
          91,
          92,
          93,
          94,
          95,
          96,
          97,
          98,
          99,
          100,
          101,
          102,
          103,
          104,
          105,
          106,
          107,
          108,
          109,
          110,
          111,
          112,
          113,
          114,
          115,
          116,
          117,
          118,
          119,
          120,
          121,
          122,
          123,
          124,
          125,
          126,
          127,
          128,
          129,
          130,
          131,
          132,
          133,
          134,
          135,
          136,
          137,
          138,
          139,
          140,
          141,
          142,
          143,
          144,
          145,
          146,
          147,
          148,
          149,
          150,
          151,
          152,
          153,
          154,
          155,
          156,
          157,
          158,
          159,
          160,
          161,
          162,
          163
         ],
         "yaxis": "y"
        }
       ],
       "layout": {
        "legend": {
         "title": {
          "text": "variable"
         },
         "tracegroupgap": 0
        },
        "margin": {
         "t": 60
        },
        "template": {
         "data": {
          "bar": [
           {
            "error_x": {
             "color": "#2a3f5f"
            },
            "error_y": {
             "color": "#2a3f5f"
            },
            "marker": {
             "line": {
              "color": "#E5ECF6",
              "width": 0.5
             },
             "pattern": {
              "fillmode": "overlay",
              "size": 10,
              "solidity": 0.2
             }
            },
            "type": "bar"
           }
          ],
          "barpolar": [
           {
            "marker": {
             "line": {
              "color": "#E5ECF6",
              "width": 0.5
             },
             "pattern": {
              "fillmode": "overlay",
              "size": 10,
              "solidity": 0.2
             }
            },
            "type": "barpolar"
           }
          ],
          "carpet": [
           {
            "aaxis": {
             "endlinecolor": "#2a3f5f",
             "gridcolor": "white",
             "linecolor": "white",
             "minorgridcolor": "white",
             "startlinecolor": "#2a3f5f"
            },
            "baxis": {
             "endlinecolor": "#2a3f5f",
             "gridcolor": "white",
             "linecolor": "white",
             "minorgridcolor": "white",
             "startlinecolor": "#2a3f5f"
            },
            "type": "carpet"
           }
          ],
          "choropleth": [
           {
            "colorbar": {
             "outlinewidth": 0,
             "ticks": ""
            },
            "type": "choropleth"
           }
          ],
          "contour": [
           {
            "colorbar": {
             "outlinewidth": 0,
             "ticks": ""
            },
            "colorscale": [
             [
              0,
              "#0d0887"
             ],
             [
              0.1111111111111111,
              "#46039f"
             ],
             [
              0.2222222222222222,
              "#7201a8"
             ],
             [
              0.3333333333333333,
              "#9c179e"
             ],
             [
              0.4444444444444444,
              "#bd3786"
             ],
             [
              0.5555555555555556,
              "#d8576b"
             ],
             [
              0.6666666666666666,
              "#ed7953"
             ],
             [
              0.7777777777777778,
              "#fb9f3a"
             ],
             [
              0.8888888888888888,
              "#fdca26"
             ],
             [
              1,
              "#f0f921"
             ]
            ],
            "type": "contour"
           }
          ],
          "contourcarpet": [
           {
            "colorbar": {
             "outlinewidth": 0,
             "ticks": ""
            },
            "type": "contourcarpet"
           }
          ],
          "heatmap": [
           {
            "colorbar": {
             "outlinewidth": 0,
             "ticks": ""
            },
            "colorscale": [
             [
              0,
              "#0d0887"
             ],
             [
              0.1111111111111111,
              "#46039f"
             ],
             [
              0.2222222222222222,
              "#7201a8"
             ],
             [
              0.3333333333333333,
              "#9c179e"
             ],
             [
              0.4444444444444444,
              "#bd3786"
             ],
             [
              0.5555555555555556,
              "#d8576b"
             ],
             [
              0.6666666666666666,
              "#ed7953"
             ],
             [
              0.7777777777777778,
              "#fb9f3a"
             ],
             [
              0.8888888888888888,
              "#fdca26"
             ],
             [
              1,
              "#f0f921"
             ]
            ],
            "type": "heatmap"
           }
          ],
          "heatmapgl": [
           {
            "colorbar": {
             "outlinewidth": 0,
             "ticks": ""
            },
            "colorscale": [
             [
              0,
              "#0d0887"
             ],
             [
              0.1111111111111111,
              "#46039f"
             ],
             [
              0.2222222222222222,
              "#7201a8"
             ],
             [
              0.3333333333333333,
              "#9c179e"
             ],
             [
              0.4444444444444444,
              "#bd3786"
             ],
             [
              0.5555555555555556,
              "#d8576b"
             ],
             [
              0.6666666666666666,
              "#ed7953"
             ],
             [
              0.7777777777777778,
              "#fb9f3a"
             ],
             [
              0.8888888888888888,
              "#fdca26"
             ],
             [
              1,
              "#f0f921"
             ]
            ],
            "type": "heatmapgl"
           }
          ],
          "histogram": [
           {
            "marker": {
             "pattern": {
              "fillmode": "overlay",
              "size": 10,
              "solidity": 0.2
             }
            },
            "type": "histogram"
           }
          ],
          "histogram2d": [
           {
            "colorbar": {
             "outlinewidth": 0,
             "ticks": ""
            },
            "colorscale": [
             [
              0,
              "#0d0887"
             ],
             [
              0.1111111111111111,
              "#46039f"
             ],
             [
              0.2222222222222222,
              "#7201a8"
             ],
             [
              0.3333333333333333,
              "#9c179e"
             ],
             [
              0.4444444444444444,
              "#bd3786"
             ],
             [
              0.5555555555555556,
              "#d8576b"
             ],
             [
              0.6666666666666666,
              "#ed7953"
             ],
             [
              0.7777777777777778,
              "#fb9f3a"
             ],
             [
              0.8888888888888888,
              "#fdca26"
             ],
             [
              1,
              "#f0f921"
             ]
            ],
            "type": "histogram2d"
           }
          ],
          "histogram2dcontour": [
           {
            "colorbar": {
             "outlinewidth": 0,
             "ticks": ""
            },
            "colorscale": [
             [
              0,
              "#0d0887"
             ],
             [
              0.1111111111111111,
              "#46039f"
             ],
             [
              0.2222222222222222,
              "#7201a8"
             ],
             [
              0.3333333333333333,
              "#9c179e"
             ],
             [
              0.4444444444444444,
              "#bd3786"
             ],
             [
              0.5555555555555556,
              "#d8576b"
             ],
             [
              0.6666666666666666,
              "#ed7953"
             ],
             [
              0.7777777777777778,
              "#fb9f3a"
             ],
             [
              0.8888888888888888,
              "#fdca26"
             ],
             [
              1,
              "#f0f921"
             ]
            ],
            "type": "histogram2dcontour"
           }
          ],
          "mesh3d": [
           {
            "colorbar": {
             "outlinewidth": 0,
             "ticks": ""
            },
            "type": "mesh3d"
           }
          ],
          "parcoords": [
           {
            "line": {
             "colorbar": {
              "outlinewidth": 0,
              "ticks": ""
             }
            },
            "type": "parcoords"
           }
          ],
          "pie": [
           {
            "automargin": true,
            "type": "pie"
           }
          ],
          "scatter": [
           {
            "fillpattern": {
             "fillmode": "overlay",
             "size": 10,
             "solidity": 0.2
            },
            "type": "scatter"
           }
          ],
          "scatter3d": [
           {
            "line": {
             "colorbar": {
              "outlinewidth": 0,
              "ticks": ""
             }
            },
            "marker": {
             "colorbar": {
              "outlinewidth": 0,
              "ticks": ""
             }
            },
            "type": "scatter3d"
           }
          ],
          "scattercarpet": [
           {
            "marker": {
             "colorbar": {
              "outlinewidth": 0,
              "ticks": ""
             }
            },
            "type": "scattercarpet"
           }
          ],
          "scattergeo": [
           {
            "marker": {
             "colorbar": {
              "outlinewidth": 0,
              "ticks": ""
             }
            },
            "type": "scattergeo"
           }
          ],
          "scattergl": [
           {
            "marker": {
             "colorbar": {
              "outlinewidth": 0,
              "ticks": ""
             }
            },
            "type": "scattergl"
           }
          ],
          "scattermapbox": [
           {
            "marker": {
             "colorbar": {
              "outlinewidth": 0,
              "ticks": ""
             }
            },
            "type": "scattermapbox"
           }
          ],
          "scatterpolar": [
           {
            "marker": {
             "colorbar": {
              "outlinewidth": 0,
              "ticks": ""
             }
            },
            "type": "scatterpolar"
           }
          ],
          "scatterpolargl": [
           {
            "marker": {
             "colorbar": {
              "outlinewidth": 0,
              "ticks": ""
             }
            },
            "type": "scatterpolargl"
           }
          ],
          "scatterternary": [
           {
            "marker": {
             "colorbar": {
              "outlinewidth": 0,
              "ticks": ""
             }
            },
            "type": "scatterternary"
           }
          ],
          "surface": [
           {
            "colorbar": {
             "outlinewidth": 0,
             "ticks": ""
            },
            "colorscale": [
             [
              0,
              "#0d0887"
             ],
             [
              0.1111111111111111,
              "#46039f"
             ],
             [
              0.2222222222222222,
              "#7201a8"
             ],
             [
              0.3333333333333333,
              "#9c179e"
             ],
             [
              0.4444444444444444,
              "#bd3786"
             ],
             [
              0.5555555555555556,
              "#d8576b"
             ],
             [
              0.6666666666666666,
              "#ed7953"
             ],
             [
              0.7777777777777778,
              "#fb9f3a"
             ],
             [
              0.8888888888888888,
              "#fdca26"
             ],
             [
              1,
              "#f0f921"
             ]
            ],
            "type": "surface"
           }
          ],
          "table": [
           {
            "cells": {
             "fill": {
              "color": "#EBF0F8"
             },
             "line": {
              "color": "white"
             }
            },
            "header": {
             "fill": {
              "color": "#C8D4E3"
             },
             "line": {
              "color": "white"
             }
            },
            "type": "table"
           }
          ]
         },
         "layout": {
          "annotationdefaults": {
           "arrowcolor": "#2a3f5f",
           "arrowhead": 0,
           "arrowwidth": 1
          },
          "autotypenumbers": "strict",
          "coloraxis": {
           "colorbar": {
            "outlinewidth": 0,
            "ticks": ""
           }
          },
          "colorscale": {
           "diverging": [
            [
             0,
             "#8e0152"
            ],
            [
             0.1,
             "#c51b7d"
            ],
            [
             0.2,
             "#de77ae"
            ],
            [
             0.3,
             "#f1b6da"
            ],
            [
             0.4,
             "#fde0ef"
            ],
            [
             0.5,
             "#f7f7f7"
            ],
            [
             0.6,
             "#e6f5d0"
            ],
            [
             0.7,
             "#b8e186"
            ],
            [
             0.8,
             "#7fbc41"
            ],
            [
             0.9,
             "#4d9221"
            ],
            [
             1,
             "#276419"
            ]
           ],
           "sequential": [
            [
             0,
             "#0d0887"
            ],
            [
             0.1111111111111111,
             "#46039f"
            ],
            [
             0.2222222222222222,
             "#7201a8"
            ],
            [
             0.3333333333333333,
             "#9c179e"
            ],
            [
             0.4444444444444444,
             "#bd3786"
            ],
            [
             0.5555555555555556,
             "#d8576b"
            ],
            [
             0.6666666666666666,
             "#ed7953"
            ],
            [
             0.7777777777777778,
             "#fb9f3a"
            ],
            [
             0.8888888888888888,
             "#fdca26"
            ],
            [
             1,
             "#f0f921"
            ]
           ],
           "sequentialminus": [
            [
             0,
             "#0d0887"
            ],
            [
             0.1111111111111111,
             "#46039f"
            ],
            [
             0.2222222222222222,
             "#7201a8"
            ],
            [
             0.3333333333333333,
             "#9c179e"
            ],
            [
             0.4444444444444444,
             "#bd3786"
            ],
            [
             0.5555555555555556,
             "#d8576b"
            ],
            [
             0.6666666666666666,
             "#ed7953"
            ],
            [
             0.7777777777777778,
             "#fb9f3a"
            ],
            [
             0.8888888888888888,
             "#fdca26"
            ],
            [
             1,
             "#f0f921"
            ]
           ]
          },
          "colorway": [
           "#636efa",
           "#EF553B",
           "#00cc96",
           "#ab63fa",
           "#FFA15A",
           "#19d3f3",
           "#FF6692",
           "#B6E880",
           "#FF97FF",
           "#FECB52"
          ],
          "font": {
           "color": "#2a3f5f"
          },
          "geo": {
           "bgcolor": "white",
           "lakecolor": "white",
           "landcolor": "#E5ECF6",
           "showlakes": true,
           "showland": true,
           "subunitcolor": "white"
          },
          "hoverlabel": {
           "align": "left"
          },
          "hovermode": "closest",
          "mapbox": {
           "style": "light"
          },
          "paper_bgcolor": "white",
          "plot_bgcolor": "#E5ECF6",
          "polar": {
           "angularaxis": {
            "gridcolor": "white",
            "linecolor": "white",
            "ticks": ""
           },
           "bgcolor": "#E5ECF6",
           "radialaxis": {
            "gridcolor": "white",
            "linecolor": "white",
            "ticks": ""
           }
          },
          "scene": {
           "xaxis": {
            "backgroundcolor": "#E5ECF6",
            "gridcolor": "white",
            "gridwidth": 2,
            "linecolor": "white",
            "showbackground": true,
            "ticks": "",
            "zerolinecolor": "white"
           },
           "yaxis": {
            "backgroundcolor": "#E5ECF6",
            "gridcolor": "white",
            "gridwidth": 2,
            "linecolor": "white",
            "showbackground": true,
            "ticks": "",
            "zerolinecolor": "white"
           },
           "zaxis": {
            "backgroundcolor": "#E5ECF6",
            "gridcolor": "white",
            "gridwidth": 2,
            "linecolor": "white",
            "showbackground": true,
            "ticks": "",
            "zerolinecolor": "white"
           }
          },
          "shapedefaults": {
           "line": {
            "color": "#2a3f5f"
           }
          },
          "ternary": {
           "aaxis": {
            "gridcolor": "white",
            "linecolor": "white",
            "ticks": ""
           },
           "baxis": {
            "gridcolor": "white",
            "linecolor": "white",
            "ticks": ""
           },
           "bgcolor": "#E5ECF6",
           "caxis": {
            "gridcolor": "white",
            "linecolor": "white",
            "ticks": ""
           }
          },
          "title": {
           "x": 0.05
          },
          "xaxis": {
           "automargin": true,
           "gridcolor": "white",
           "linecolor": "white",
           "ticks": "",
           "title": {
            "standoff": 15
           },
           "zerolinecolor": "white",
           "zerolinewidth": 2
          },
          "yaxis": {
           "automargin": true,
           "gridcolor": "white",
           "linecolor": "white",
           "ticks": "",
           "title": {
            "standoff": 15
           },
           "zerolinecolor": "white",
           "zerolinewidth": 2
          }
         }
        },
        "xaxis": {
         "anchor": "y",
         "domain": [
          0,
          1
         ],
         "title": {
          "text": "value"
         }
        },
        "yaxis": {
         "anchor": "x",
         "domain": [
          0,
          1
         ],
         "title": {
          "text": "index"
         }
        }
       }
      }
     },
     "metadata": {},
     "output_type": "display_data"
    }
   ],
   "source": [
    "plty.scatter(X_lp5_df, x = [\"Fx_lp5\", \"Fy_lp5\", \"Fz_lp5\", \"Tx_lp5\", \"Ty_lp5\", \"Tz_lp5\"],   color_discrete_map= dic)"
   ]
  },
  {
   "cell_type": "code",
   "execution_count": 25,
   "metadata": {},
   "outputs": [
    {
     "data": {
      "application/vnd.plotly.v1+json": {
       "config": {
        "plotlyServerURL": "https://plot.ly"
       },
       "data": [
        {
         "hovertemplate": "value=%{x}<br>index=%{y}<br>Y_lp5=%{marker.color}<extra></extra>",
         "legendgroup": "",
         "marker": {
          "color": [
           0,
           0,
           0,
           0,
           0,
           0,
           0,
           0,
           0,
           0,
           0,
           0,
           0,
           0,
           0,
           0,
           0,
           0,
           0,
           0,
           4,
           4,
           4,
           4,
           4,
           4,
           4,
           4,
           4,
           3,
           4,
           4,
           3,
           4,
           3,
           3,
           3,
           3,
           3,
           3,
           3,
           3,
           3,
           3,
           4,
           3,
           3,
           0,
           0,
           0,
           0,
           0,
           0,
           0,
           0,
           0,
           0,
           0,
           0,
           0,
           0,
           0,
           0,
           0,
           0,
           0,
           0,
           0,
           0,
           0,
           0,
           3,
           3,
           3,
           3,
           3,
           3,
           3,
           3,
           3,
           3,
           3,
           3,
           3,
           3,
           3,
           3,
           3,
           3,
           3,
           3,
           3,
           4,
           4,
           4,
           4,
           4,
           4,
           4,
           4,
           2,
           1,
           2,
           2,
           2,
           2,
           1,
           1,
           1,
           2,
           2,
           2,
           2,
           2,
           1,
           2,
           1,
           2,
           1,
           2,
           2,
           1,
           2,
           1,
           2,
           1,
           2,
           1,
           1,
           1,
           1,
           2,
           2,
           2,
           1,
           1,
           1,
           1,
           1,
           1,
           1,
           1,
           1,
           2,
           1,
           1,
           1,
           3,
           3,
           3,
           3,
           3,
           3,
           3,
           3,
           3,
           3,
           3,
           3,
           4,
           4,
           4,
           4,
           4,
           0,
           0,
           0,
           0,
           0,
           0,
           0,
           0,
           0,
           0,
           0,
           0,
           0,
           0,
           0,
           0,
           0,
           0,
           0,
           0,
           4,
           4,
           4,
           4,
           4,
           4,
           4,
           4,
           4,
           3,
           4,
           4,
           3,
           4,
           3,
           3,
           3,
           3,
           3,
           3,
           3,
           3,
           3,
           3,
           4,
           3,
           3,
           0,
           0,
           0,
           0,
           0,
           0,
           0,
           0,
           0,
           0,
           0,
           0,
           0,
           0,
           0,
           0,
           0,
           0,
           0,
           0,
           0,
           0,
           0,
           0,
           3,
           3,
           3,
           3,
           3,
           3,
           3,
           3,
           3,
           3,
           3,
           3,
           3,
           3,
           3,
           3,
           3,
           3,
           3,
           3,
           3,
           4,
           4,
           4,
           4,
           4,
           4,
           4,
           4,
           2,
           1,
           2,
           2,
           2,
           2,
           1,
           1,
           1,
           2,
           2,
           2,
           2,
           2,
           1,
           2,
           1,
           2,
           1,
           2,
           2,
           1,
           2,
           1,
           2,
           1,
           2,
           1,
           1,
           1,
           1,
           2,
           2,
           2,
           1,
           1,
           1,
           1,
           1,
           1,
           1,
           1,
           1,
           2,
           1,
           1,
           1,
           3,
           3,
           3,
           3,
           3,
           3,
           3,
           3,
           3,
           3,
           3,
           3,
           4,
           4,
           4,
           4,
           4,
           0,
           0,
           0,
           0,
           0,
           0,
           0,
           0,
           0,
           0,
           0,
           0,
           0,
           0,
           0,
           0,
           0,
           0,
           0,
           0,
           4,
           4,
           4,
           4,
           4,
           4,
           4,
           4,
           4,
           3,
           4,
           4,
           3,
           4,
           3,
           3,
           3,
           3,
           3,
           3,
           3,
           3,
           3,
           3,
           4,
           3,
           3,
           0,
           0,
           0,
           0,
           0,
           0,
           0,
           0,
           0,
           0,
           0,
           0,
           0,
           0,
           0,
           0,
           0,
           0,
           0,
           0,
           0,
           0,
           0,
           0,
           3,
           3,
           3,
           3,
           3,
           3,
           3,
           3,
           3,
           3,
           3,
           3,
           3,
           3,
           3,
           3,
           3,
           3,
           3,
           3,
           3,
           4,
           4,
           4,
           4,
           4,
           4,
           4,
           4,
           2,
           1,
           2,
           2,
           2,
           2,
           1,
           1,
           1,
           2,
           2,
           2,
           2,
           2,
           1,
           2,
           1,
           2,
           1,
           2,
           2,
           1,
           2,
           1,
           2,
           1,
           2,
           1,
           1,
           1,
           1,
           2,
           2,
           2,
           1,
           1,
           1,
           1,
           1,
           1,
           1,
           1,
           1,
           2,
           1,
           1,
           1,
           3,
           3,
           3,
           3,
           3,
           3,
           3,
           3,
           3,
           3,
           3,
           3,
           4,
           4,
           4,
           4,
           4,
           0,
           0,
           0,
           0,
           0,
           0,
           0,
           0,
           0,
           0,
           0,
           0,
           0,
           0,
           0,
           0,
           0,
           0,
           0,
           0,
           4,
           4,
           4,
           4,
           4,
           4,
           4,
           4,
           4,
           3,
           4,
           4,
           3,
           4,
           3,
           3,
           3,
           3,
           3,
           3,
           3,
           3,
           3,
           3,
           4,
           3,
           3,
           0,
           0,
           0,
           0,
           0,
           0,
           0,
           0,
           0,
           0,
           0,
           0,
           0,
           0,
           0,
           0,
           0,
           0,
           0,
           0,
           0,
           0,
           0,
           0,
           3,
           3,
           3,
           3,
           3,
           3,
           3,
           3,
           3,
           3,
           3,
           3,
           3,
           3,
           3,
           3,
           3,
           3,
           3,
           3,
           3,
           4,
           4,
           4,
           4,
           4,
           4,
           4,
           4,
           2,
           1,
           2,
           2,
           2,
           2,
           1,
           1,
           1,
           2,
           2,
           2,
           2,
           2,
           1,
           2,
           1,
           2,
           1,
           2,
           2,
           1,
           2,
           1,
           2,
           1,
           2,
           1,
           1,
           1,
           1,
           2,
           2,
           2,
           1,
           1,
           1,
           1,
           1,
           1,
           1,
           1,
           1,
           2,
           1,
           1,
           1,
           3,
           3,
           3,
           3,
           3,
           3,
           3,
           3,
           3,
           3,
           3,
           3,
           4,
           4,
           4,
           4,
           4,
           0,
           0,
           0,
           0,
           0,
           0,
           0,
           0,
           0,
           0,
           0,
           0,
           0,
           0,
           0,
           0,
           0,
           0,
           0,
           0,
           4,
           4,
           4,
           4,
           4,
           4,
           4,
           4,
           4,
           3,
           4,
           4,
           3,
           4,
           3,
           3,
           3,
           3,
           3,
           3,
           3,
           3,
           3,
           3,
           4,
           3,
           3,
           0,
           0,
           0,
           0,
           0,
           0,
           0,
           0,
           0,
           0,
           0,
           0,
           0,
           0,
           0,
           0,
           0,
           0,
           0,
           0,
           0,
           0,
           0,
           0,
           3,
           3,
           3,
           3,
           3,
           3,
           3,
           3,
           3,
           3,
           3,
           3,
           3,
           3,
           3,
           3,
           3,
           3,
           3,
           3,
           3,
           4,
           4,
           4,
           4,
           4,
           4,
           4,
           4,
           2,
           1,
           2,
           2,
           2,
           2,
           1,
           1,
           1,
           2,
           2,
           2,
           2,
           2,
           1,
           2,
           1,
           2,
           1,
           2,
           2,
           1,
           2,
           1,
           2,
           1,
           2,
           1,
           1,
           1,
           1,
           2,
           2,
           2,
           1,
           1,
           1,
           1,
           1,
           1,
           1,
           1,
           1,
           2,
           1,
           1,
           1,
           3,
           3,
           3,
           3,
           3,
           3,
           3,
           3,
           3,
           3,
           3,
           3,
           4,
           4,
           4,
           4,
           4,
           0,
           0,
           0,
           0,
           0,
           0,
           0,
           0,
           0,
           0,
           0,
           0,
           0,
           0,
           0,
           0,
           0,
           0,
           0,
           0,
           4,
           4,
           4,
           4,
           4,
           4,
           4,
           4,
           4,
           3,
           4,
           4,
           3,
           4,
           3,
           3,
           3,
           3,
           3,
           3,
           3,
           3,
           3,
           3,
           4,
           3,
           3,
           0,
           0,
           0,
           0,
           0,
           0,
           0,
           0,
           0,
           0,
           0,
           0,
           0,
           0,
           0,
           0,
           0,
           0,
           0,
           0,
           0,
           0,
           0,
           0,
           3,
           3,
           3,
           3,
           3,
           3,
           3,
           3,
           3,
           3,
           3,
           3,
           3,
           3,
           3,
           3,
           3,
           3,
           3,
           3,
           3,
           4,
           4,
           4,
           4,
           4,
           4,
           4,
           4,
           2,
           1,
           2,
           2,
           2,
           2,
           1,
           1,
           1,
           2,
           2,
           2,
           2,
           2,
           1,
           2,
           1,
           2,
           1,
           2,
           2,
           1,
           2,
           1,
           2,
           1,
           2,
           1,
           1,
           1,
           1,
           2,
           2,
           2,
           1,
           1,
           1,
           1,
           1,
           1,
           1,
           1,
           1,
           2,
           1,
           1,
           1,
           3,
           3,
           3,
           3,
           3,
           3,
           3,
           3,
           3,
           3,
           3,
           3,
           4,
           4,
           4,
           4,
           4
          ],
          "coloraxis": "coloraxis",
          "symbol": "circle"
         },
         "mode": "markers",
         "name": "",
         "orientation": "h",
         "showlegend": false,
         "type": "scatter",
         "x": [
          0.6549690210656753,
          0.6572986369268897,
          0.6542750929368031,
          0.6547707558859975,
          0.6550681536555143,
          0.6547211895910781,
          0.6543742255266419,
          0.6545229244114004,
          0.6541263940520445,
          0.6536307311028501,
          0.655365551425031,
          0.6553159851301114,
          0.6540768277571252,
          0.6550681536555142,
          0.6542255266418836,
          0.6546220570012391,
          0.6546220570012391,
          0.6540272614622058,
          0.6539776951672863,
          0.6544237918215613,
          0.6744981412639405,
          0.6646840148698885,
          0.6652788104089219,
          0.6501610904584882,
          0.6507558859975217,
          0.6564064436183394,
          0.6568029739776952,
          0.6534820322180916,
          0.6547707558859975,
          0.6512515489467162,
          0.6528376703841388,
          0.6578438661710038,
          0.6578438661710037,
          0.6688475836431227,
          0.6688475836431227,
          0.6469392812887237,
          0.6538785625774473,
          0.6555142503097893,
          0.6512515489467162,
          0.6494671623296158,
          0.6786617100371746,
          0.6613135068153656,
          0.6543246592317223,
          0.6547707558859975,
          0.653184634448575,
          0.653184634448575,
          0.6452044609665427,
          0.6550185873605947,
          0.6552168525402725,
          0.6550185873605947,
          0.6543246592317223,
          0.654919454770756,
          0.6549690210656753,
          0.6553655514250311,
          0.6549194547707557,
          0.656009913258984,
          0.6565055762081784,
          0.6566542750929367,
          0.6569516728624536,
          0.656654275092937,
          0.6566047087980174,
          0.6565551425030979,
          0.6557620817843867,
          0.654820322180917,
          0.6554646840148699,
          0.6535315985130111,
          0.6534324659231722,
          0.6538289962825279,
          0.6535315985130112,
          0.6533828996282528,
          0.6534820322180915,
          0.6566047087980175,
          0.6658736059479554,
          0.6611648079306072,
          0.6559603469640645,
          0.6547707558859976,
          0.650359355638166,
          0.6544237918215613,
          0.6512515489467163,
          0.6482280049566296,
          0.6680545229244115,
          0.6631474597273855,
          0.6572986369268897,
          0.6559603469640645,
          0.649714993804213,
          0.6528872366790581,
          0.6617596034696405,
          0.6537794299876083,
          0.6514002478314745,
          0.6458488228004956,
          0.6519454770755887,
          0.6566047087980175,
          0.6411400247831475,
          0.6544733581164809,
          0.6636926889714994,
          0.6662701363073109,
          0.6392069392812886,
          0.6491697645600991,
          0.6818339529120199,
          0.6373729863692688,
          0.5892936802973978,
          0.6549194547707559,
          0.5550929368029739,
          0.6168029739776951,
          0.6552168525402725,
          0.784733581164808,
          0.6673605947955391,
          0.664634448574969,
          0.7007682775712516,
          0.748004956629492,
          0.7477571251548947,
          0.6328624535315985,
          0.7180173482032219,
          0.6534820322180915,
          0.6618091697645601,
          0.6698389095415119,
          0.653085501858736,
          0.5818587360594798,
          0.6580421313506816,
          0.5601982651796777,
          0.650557620817844,
          0.6623048327137546,
          0.743543990086741,
          0.6567534076827758,
          0.7060718711276333,
          0.6555142503097893,
          0.5405700123915737,
          0.6477819083023545,
          0.650359355638166,
          0.6601734820322182,
          0.6604213135068153,
          0.6962081784386617,
          0.6831226765799255,
          0.722180916976456,
          0.6589838909541511,
          0.6467410161090458,
          0.655811648079306,
          0.6579925650557621,
          0.6573482032218093,
          0.6598760842627013,
          0.6599752168525402,
          0.6583890954151177,
          0.6646840148698885,
          0.5917719950433705,
          0.6530359355638166,
          0.6197769516728625,
          0.6855018587360596,
          0.6556629491945477,
          0.667905824039653,
          0.6567534076827758,
          0.6558612143742255,
          0.6367781908302353,
          0.653184634448575,
          0.6518463444857496,
          0.6651796778190829,
          0.6563073110285007,
          0.6669640644361834,
          0.6541263940520448,
          0.6383147459727385,
          0.6545229244114001,
          0.662354399008674,
          0.6540768277571251,
          0.6518463444857496,
          0.6572986369268897,
          0.4646341463414635,
          0.4632520325203252,
          0.46406504065040655,
          0.46170731707317075,
          0.4623577235772357,
          0.46186991869918703,
          0.4626016260162602,
          0.4624390243902439,
          0.46219512195121953,
          0.4623577235772359,
          0.4653658536585367,
          0.46268292682926837,
          0.4649593495934959,
          0.4626016260162602,
          0.4627642276422765,
          0.46203252032520337,
          0.46162601626016275,
          0.46235772357723576,
          0.46390243902439027,
          0.4633333333333335,
          0.4645528455284554,
          0.46983739837398375,
          0.45081300813008135,
          0.48097560975609766,
          0.47975609756097565,
          0.4608130081300813,
          0.4561788617886179,
          0.46308943089430893,
          0.4643902439024391,
          0.461219512195122,
          0.46439024390243905,
          0.46569105691056906,
          0.46569105691056906,
          0.4440650406504065,
          0.4440650406504065,
          0.45869918699186996,
          0.4634146341463415,
          0.46552845528455283,
          0.46235772357723576,
          0.46203252032520326,
          0.477479674796748,
          0.474308943089431,
          0.4626829268292683,
          0.47804878048780497,
          0.4595934959349593,
          0.4595934959349593,
          0.4642276422764227,
          0.4676422764227643,
          0.4682926829268294,
          0.4678861788617886,
          0.467479674796748,
          0.4677235772357724,
          0.46747967479674796,
          0.4673983739837398,
          0.46731707317073173,
          0.4680487804878049,
          0.46674796747967484,
          0.46658536585365856,
          0.46634146341463417,
          0.466260162601626,
          0.466260162601626,
          0.4660975609756097,
          0.46764227642276424,
          0.4669918699186992,
          0.4670731707317073,
          0.4663414634146342,
          0.46731707317073173,
          0.46560975609756106,
          0.46593495934959356,
          0.46674796747967473,
          0.4656910569105691,
          0.4692682926829269,
          0.4572357723577236,
          0.46317073170731704,
          0.46821138211382113,
          0.4659349593495935,
          0.4707317073170732,
          0.4630081300813008,
          0.4701626016260162,
          0.46821138211382113,
          0.46813008130081296,
          0.47065040650406514,
          0.47065040650406503,
          0.4691056910569106,
          0.48040650406504065,
          0.4651219512195122,
          0.4419512195121951,
          0.4683739837398375,
          0.4675609756097562,
          0.4693495934959351,
          0.4715447154471545,
          0.4692682926829269,
          0.47829268292682936,
          0.4669918699186991,
          0.46056910569105697,
          0.454390243902439,
          0.4801626016260163,
          0.4670731707317073,
          0.4520325203252033,
          0.47512195121951223,
          0.15260162601626018,
          0.45032520325203257,
          0.32861788617886173,
          0.4513821138211382,
          0.4882113821138211,
          0.27056910569105685,
          0.44414634146341464,
          0.4434959349593496,
          0.4170731707317073,
          0.3352032520325203,
          0.3673170731707317,
          0.42463414634146357,
          0.42520325203252035,
          0.46260162601626015,
          0.4630081300813008,
          0.5645528455284553,
          0.476910569105691,
          0.5137398373983741,
          0.45715447154471556,
          0.42422764227642273,
          0.4621951219512196,
          0.4663414634146343,
          0.4497560975609757,
          0.4658536585365854,
          0.32601626016260166,
          0.46414634146341466,
          0.32682926829268294,
          0.45626016260162605,
          0.46008130081300813,
          0.4599999999999999,
          0.46707317073170734,
          0.4601626016260163,
          0.47650406504065046,
          0.5250406504065039,
          0.4678048780487805,
          0.47674796747967474,
          0.4581300813008131,
          0.46731707317073173,
          0.4596747967479676,
          0.4682113821138211,
          0.458780487804878,
          0.46390243902439027,
          0.46447154471544716,
          0.43756097560975615,
          0.46447154471544727,
          0.44113821138211384,
          0.4366666666666667,
          0.467479674796748,
          0.45951219512195113,
          0.4652845528455286,
          0.4681300813008131,
          0.4752032520325204,
          0.46943089430894314,
          0.466829268292683,
          0.46170731707317075,
          0.46780487804878057,
          0.46617886178861784,
          0.4644715447154472,
          0.4845528455284553,
          0.46707317073170723,
          0.46317073170731715,
          0.4699186991869919,
          0.4710569105691057,
          0.4639024390243902,
          0.9161173068979761,
          0.9160677406030566,
          0.9158694754233786,
          0.9164642709624122,
          0.9158859975216854,
          0.9159025196199917,
          0.9160016522098307,
          0.9158199091284591,
          0.9160346964064436,
          0.9162660057827344,
          0.916216439487815,
          0.9162990499793473,
          0.9157868649318464,
          0.9161833952912021,
          0.9158199091284591,
          0.9158529533250722,
          0.9159520859149113,
          0.9160346964064436,
          0.9160346964064437,
          0.9160346964064436,
          0.9178356051218505,
          0.9216522098306485,
          0.9168442792234615,
          0.9177364725320115,
          0.9162329615861216,
          0.9166790582403966,
          0.916315572077654,
          0.9165799256505578,
          0.9169434118133003,
          0.9164973151590251,
          0.9170921106980587,
          0.9171416769929782,
          0.9171416769929782,
          0.9164807930607187,
          0.9164807930607187,
          0.9137546468401487,
          0.9174060305658819,
          0.9171581990912847,
          0.9172077653862039,
          0.9184964890541097,
          0.9183312680710449,
          0.9135894258570839,
          0.9167286245353161,
          0.9151755472945063,
          0.9166625361420899,
          0.9166625361420899,
          0.9155390334572491,
          0.9012143742255265,
          0.9015613382899628,
          0.9020239570425443,
          0.901330028913672,
          0.9014456836018175,
          0.9011813300289137,
          0.9007021891780256,
          0.9012969847170591,
          0.9013795952085915,
          0.9003882693102024,
          0.9002560925237505,
          0.900784799669558,
          0.9002395704254441,
          0.9001734820322181,
          0.9000413052457663,
          0.9007352333746385,
          0.9010491532424617,
          0.9013795952085915,
          0.8985543163981824,
          0.8979925650557621,
          0.8981412639405203,
          0.8978934324659231,
          0.8979264766625362,
          0.8982073523337466,
          0.9023378769103677,
          0.9039239983477901,
          0.8975464684014871,
          0.898256918628666,
          0.8963568773234202,
          0.8971664601404378,
          0.897034283353986,
          0.8952003304419662,
          0.8951838083436598,
          0.9024370095002064,
          0.8882114828583229,
          0.8990830235439898,
          0.900371747211896,
          0.9022552664188352,
          0.8980421313506817,
          0.9035605121850475,
          0.9006856670797192,
          0.9010161090458486,
          0.8879140850888062,
          0.9010491532424619,
          0.9023378769103677,
          0.8977777777777778,
          0.8971168938455185,
          0.897645600991326,
          0.8988021478727798,
          0.8978438661710038,
          0.8980256092523751,
          0.8990830235439902,
          0.8964890541098719,
          0.3268236266005781,
          0.8692936802973978,
          0.6948864105741428,
          0.7546964064436181,
          0.6637092110698058,
          0.2887897562990499,
          0.8348946716232961,
          0.8283353985956217,
          0.8550516315572079,
          0.6335894258570838,
          0.6478810408921933,
          0.7143659644774886,
          0.7863197026022305,
          0.8906237092110698,
          0.8579429987608426,
          0.658223874432053,
          0.891548946716233,
          0.6276414704667492,
          0.8552829409334985,
          0.7603634861627426,
          0.8750433705080544,
          0.8886410574142916,
          0.6639405204460966,
          0.8956794712928543,
          0.7036431226765798,
          0.8944072697232549,
          0.6554812061131764,
          0.8608178438661709,
          0.875952085914911,
          0.87638166047088,
          0.8906732755059893,
          0.8545559686080133,
          0.7849814126394051,
          0.707360594795539,
          0.8906237092110697,
          0.8944568360181744,
          0.8791408508880626,
          0.892028087567121,
          0.8833870301528294,
          0.892094175960347,
          0.8836183395291201,
          0.8906732755059893,
          0.8891201982651797,
          0.7881536555142503,
          0.8931681123502685,
          0.8432878975629906,
          0.8862949194547708,
          0.8993969434118133,
          0.8974142916150353,
          0.897100371747212,
          0.897645600991326,
          0.8946881453944653,
          0.8969021065675341,
          0.8976290788930192,
          0.8999421726559275,
          0.898289962825279,
          0.8980256092523752,
          0.8967368855844693,
          0.8951507641470469,
          0.897100371747212,
          0.8985047501032632,
          0.8979595208591492,
          0.8973316811235027,
          0.8970177612556796,
          0.4479347826086958,
          0.4481159420289856,
          0.4472101449275362,
          0.44710144927536233,
          0.4452898550724638,
          0.44445652173913053,
          0.44217391304347825,
          0.44025362318840583,
          0.43876811594202897,
          0.4382608695652174,
          0.43547101449275366,
          0.4493115942028985,
          0.44619565217391305,
          0.44663043478260867,
          0.44532608695652176,
          0.4443478260869565,
          0.4426449275362318,
          0.43949275362318846,
          0.4378623188405797,
          0.43713768115942037,
          0.4393840579710145,
          0.42746376811594206,
          0.45652173913043476,
          0.42373188405797096,
          0.43445652173913035,
          0.4419565217391304,
          0.44623188405797104,
          0.4393115942028985,
          0.4363043478260869,
          0.44586956521739135,
          0.44079710144927536,
          0.440072463768116,
          0.440072463768116,
          0.45865942028985507,
          0.45865942028985507,
          0.44891304347826083,
          0.43851449275362325,
          0.43387681159420294,
          0.44239130434782603,
          0.44554347826086954,
          0.44561594202898547,
          0.43423913043478257,
          0.447463768115942,
          0.44036231884057975,
          0.45199275362318836,
          0.45199275362318836,
          0.4438043478260869,
          0.4505434782608696,
          0.4505434782608696,
          0.45021739130434785,
          0.4501811594202899,
          0.44992753623188414,
          0.44978260869565223,
          0.450036231884058,
          0.4496376811594204,
          0.44989130434782615,
          0.44869565217391316,
          0.44862318840579724,
          0.4485869565217392,
          0.4483695652173914,
          0.44811594202898564,
          0.44804347826086965,
          0.4499637681159421,
          0.448913043478261,
          0.44985507246376816,
          0.4508333333333334,
          0.4502898550724639,
          0.45047101449275373,
          0.45021739130434796,
          0.45079710144927543,
          0.45010869565217404,
          0.4455434782608696,
          0.4502898550724638,
          0.45007246376811605,
          0.447536231884058,
          0.44739130434782626,
          0.44565217391304357,
          0.45163043478260884,
          0.4460144927536233,
          0.44594202898550744,
          0.44789855072463763,
          0.44500000000000006,
          0.4406521739130434,
          0.4442753623188406,
          0.4170289855072465,
          0.4455797101449273,
          0.48971014492753623,
          0.44717391304347837,
          0.4477898550724639,
          0.4419565217391304,
          0.4431884057971015,
          0.4455434782608696,
          0.4417753623188406,
          0.44989130434782615,
          0.45322463768115956,
          0.4548188405797103,
          0.43659420289855083,
          0.4473913043478262,
          0.46478260869565236,
          0.4442753623188406,
          0.39684782608695646,
          0.43224637681159417,
          0.4773913043478261,
          0.442572463768116,
          0.3728985507246377,
          0.5157608695652175,
          0.4530072463768116,
          0.4679710144927537,
          0.461268115942029,
          0.5148188405797101,
          0.4227536231884058,
          0.49115942028985504,
          0.4774275362318841,
          0.4452898550724638,
          0.4481884057971015,
          0.5901449275362318,
          0.443768115942029,
          0.41065217391304343,
          0.43177536231884056,
          0.4241666666666667,
          0.4360144927536232,
          0.4492391304347826,
          0.4771739130434783,
          0.4492391304347827,
          0.3940217391304348,
          0.4481159420289856,
          0.4440579710144928,
          0.4406159420289855,
          0.443695652173913,
          0.45061594202898547,
          0.4491304347826087,
          0.45822463768115934,
          0.4967028985507246,
          0.4952898550724638,
          0.45391304347826084,
          0.4385869565217391,
          0.4502898550724639,
          0.44989130434782615,
          0.4484420289855072,
          0.44945652173913053,
          0.4523913043478262,
          0.452391304347826,
          0.453768115942029,
          0.4718840579710145,
          0.4476811594202899,
          0.46405797101449264,
          0.4603623188405797,
          0.44978260869565223,
          0.4530072463768117,
          0.4509782608695653,
          0.4489855072463769,
          0.44307971014492764,
          0.4465579710144929,
          0.44793478260869585,
          0.44753623188405806,
          0.44909420289855084,
          0.4536956521739131,
          0.44956521739130445,
          0.4385869565217392,
          0.44322463768115955,
          0.45018115942028997,
          0.4474637681159422,
          0.44724637681159435,
          0.44960144927536244,
          0.48665316227774036,
          0.48800360117038033,
          0.482736889489084,
          0.48075624577987847,
          0.4795408507765024,
          0.4769300022507315,
          0.4753094755795633,
          0.47427413909520594,
          0.47355390501913125,
          0.47287868557281115,
          0.4751744316902993,
          0.48593292820166556,
          0.48183659689399044,
          0.48026108485257707,
          0.4779203241053343,
          0.4776502363268062,
          0.47562457798784596,
          0.47404906594643254,
          0.4739590366869233,
          0.47427413909520594,
          0.5049291019581365,
          0.5196488858879137,
          0.4954760297096557,
          0.4696376322304749,
          0.4768849876209768,
          0.48098131892865187,
          0.47913571910871033,
          0.47548953409858197,
          0.47629979743416606,
          0.47638982669367547,
          0.4744541976142246,
          0.4861129867206842,
          0.48611298672068426,
          0.5123115012379024,
          0.5123115012379024,
          0.46378573036236775,
          0.4758046365068646,
          0.4752644609498086,
          0.4693225298221923,
          0.46999774926851223,
          0.5078100382624353,
          0.47413909520594183,
          0.4889038937654737,
          0.4928651811838847,
          0.48354715282466804,
          0.48354715282466804,
          0.46869232500562685,
          0.4857528696826468,
          0.4851676794958361,
          0.48552779653387346,
          0.4846725185685347,
          0.48494260634706277,
          0.4858879135719108,
          0.4859329282016656,
          0.4857528696826468,
          0.48575286968264686,
          0.4860229574611748,
          0.4860229574611748,
          0.4863380598694576,
          0.48620301598019366,
          0.48597794283142026,
          0.48593292820166556,
          0.48534773801485487,
          0.48561782579338275,
          0.4855728111636282,
          0.4888588791357191,
          0.48876884987620983,
          0.48831870357866314,
          0.487913571910871,
          0.48795858654062574,
          0.4888138645059646,
          0.49682646860229573,
          0.5110961062345263,
          0.49579113211793835,
          0.4886338059869457,
          0.4869682646860229,
          0.4828719333783481,
          0.4875084402430791,
          0.48417735764123343,
          0.4837272113436867,
          0.5235201440468152,
          0.5002925950934054,
          0.4977267611973891,
          0.4894440693225299,
          0.47350889038937655,
          0.4862030159801935,
          0.5089804186360568,
          0.48539275264460946,
          0.4823767724510466,
          0.4847175331982895,
          0.4807112311501239,
          0.49682646860229573,
          0.4747242853927526,
          0.48939905469277506,
          0.5009227999099707,
          0.5046590141796085,
          0.46626153499887457,
          0.48327706504614,
          0.5212694125590818,
          0.4679720909295521,
          0.6292144947107811,
          0.5064145847400405,
          0.562997974341661,
          0.5555255458023858,
          0.37605221697051533,
          0.47179833445869923,
          0.4711681296421337,
          0.520414134593743,
          0.4924600495160928,
          0.49426063470627946,
          0.31460724735539053,
          0.43781228899392305,
          0.5110510916047716,
          0.48242178708080125,
          0.48467251856853477,
          0.43069997749268524,
          0.5014179608372722,
          0.5836596893990547,
          0.4949808687823542,
          0.4598244429439568,
          0.4861129867206842,
          0.48971415710105787,
          0.43781228899392305,
          0.4892640108035111,
          0.3763223047490433,
          0.491739815440018,
          0.5049291019581365,
          0.5033085752869683,
          0.4979068197164079,
          0.4931802835921675,
          0.4875534548728337,
          0.5086203015980193,
          0.46342561332433035,
          0.49754670267837053,
          0.4835471528246681,
          0.4813864505964439,
          0.49408057618726087,
          0.47990096781453967,
          0.4930002250731488,
          0.4854827819041188,
          0.49822192212469046,
          0.4822867431915372,
          0.49002925950934056,
          0.47990096781453967,
          0.4931802835921675,
          0.46729687148323207,
          0.5237902318253432,
          0.4889038937654738,
          0.5022732388026109,
          0.49052442043664185,
          0.4883187035786631,
          0.4659014179608373,
          0.4832320504163853,
          0.4823317578212919,
          0.5047040288093629,
          0.4886338059869458,
          0.5017330632455548,
          0.48966914247130316,
          0.4694125590817015,
          0.48732838172406034,
          0.4990321854602745,
          0.4874184109835697,
          0.48440243079000683,
          0.4904343911771326,
          0.5044715447154471,
          0.5035230352303522,
          0.5008130081300813,
          0.49214092140921406,
          0.49173441734417345,
          0.49037940379403794,
          0.48739837398373975,
          0.48279132791327917,
          0.4844173441734417,
          0.4819783197831978,
          0.48685636856368564,
          0.5063685636856368,
          0.4983739837398374,
          0.49308943089430896,
          0.49214092140921406,
          0.4913279132791329,
          0.4841463414634146,
          0.48455284552845523,
          0.4823848238482384,
          0.48590785907859074,
          0.4867208672086721,
          0.48319783197831984,
          0.49999999999999994,
          0.4915989159891599,
          0.4956639566395664,
          0.48387533875338756,
          0.4827913279132791,
          0.48658536585365847,
          0.4841463414634145,
          0.48929539295392954,
          0.48848238482384826,
          0.4886178861788618,
          0.4886178861788618,
          0.49850948509485093,
          0.49850948509485093,
          0.4936314363143631,
          0.487669376693767,
          0.4880758807588076,
          0.4863143631436314,
          0.4784552845528455,
          0.4869918699186992,
          0.47018970189701903,
          0.49308943089430896,
          0.4936314363143631,
          0.500271002710027,
          0.500271002710027,
          0.5056910569105691,
          0.502710027100271,
          0.502710027100271,
          0.5020325203252033,
          0.502710027100271,
          0.5031165311653116,
          0.502981029810298,
          0.50420054200542,
          0.5046070460704607,
          0.5051490514905148,
          0.5035230352303522,
          0.5035230352303522,
          0.5032520325203252,
          0.5032520325203251,
          0.5031165311653115,
          0.5028455284552844,
          0.5044715447154471,
          0.5047425474254742,
          0.5036585365853657,
          0.5070460704607045,
          0.5077235772357722,
          0.5071815718157181,
          0.5073170731707316,
          0.5074525745257452,
          0.5070460704607045,
          0.498509485094851,
          0.5051490514905148,
          0.5029810298102981,
          0.5023035230352303,
          0.4941734417344173,
          0.5023035230352303,
          0.4968834688346883,
          0.4981029810298104,
          0.49823848238482393,
          0.4789972899728997,
          0.4928184281842818,
          0.49905149051490516,
          0.4910569105691057,
          0.47994579945799465,
          0.5092140921409214,
          0.4630081300813008,
          0.501219512195122,
          0.5009485094850948,
          0.49485094850948513,
          0.49850948509485093,
          0.498509485094851,
          0.4991869918699187,
          0.49769647696476965,
          0.49742547425474265,
          0.49945799457994583,
          0.5012195121951221,
          0.49769647696476965,
          0.4962059620596207,
          0.49430894308943096,
          0.5021680216802169,
          0.5033875338753387,
          0.402710027100271,
          0.36070460704607044,
          0.40203252032520326,
          0.4689701897018969,
          0.49403794037940385,
          0.4875338753387534,
          0.521680216802168,
          0.48983739837398377,
          0.5317073170731708,
          0.4378048780487804,
          0.523170731707317,
          0.5078590785907857,
          0.5102981029810298,
          0.6425474254742549,
          0.5147696476964769,
          0.5051490514905148,
          0.490650406504065,
          0.48252032520325205,
          0.4856368563685637,
          0.5093495934959349,
          0.5302168021680216,
          0.5092140921409213,
          0.5410569105691055,
          0.5062330623306232,
          0.48631436314363147,
          0.5027100271002709,
          0.5069105691056909,
          0.5070460704607045,
          0.50840108401084,
          0.5193766937669376,
          0.5327913279132791,
          0.5349593495934959,
          0.5131436314363145,
          0.5073170731707316,
          0.49945799457994594,
          0.5089430894308943,
          0.5043360433604336,
          0.5093495934959349,
          0.5046070460704607,
          0.5140921409214093,
          0.5161246612466125,
          0.49430894308943096,
          0.5082655826558263,
          0.49647696476964764,
          0.5051490514905147,
          0.49837398373983743,
          0.4970189701897019,
          0.49756097560975615,
          0.49783197831978326,
          0.49552845528455286,
          0.49607046070460714,
          0.49092140921409216,
          0.5008130081300813,
          0.4978319783197832,
          0.5033875338753387,
          0.4970189701897019,
          0.4962059620596206,
          0.5,
          0.49796747967479676,
          0.4966124661246613,
          0.4971544715447155,
          0.4968834688346884
         ],
         "xaxis": "x",
         "y": [
          0,
          1,
          2,
          3,
          4,
          5,
          6,
          7,
          8,
          9,
          10,
          11,
          12,
          13,
          14,
          15,
          16,
          17,
          18,
          19,
          20,
          21,
          22,
          23,
          24,
          25,
          26,
          27,
          28,
          29,
          30,
          31,
          32,
          33,
          34,
          35,
          36,
          37,
          38,
          39,
          40,
          41,
          42,
          43,
          44,
          45,
          46,
          47,
          48,
          49,
          50,
          51,
          52,
          53,
          54,
          55,
          56,
          57,
          58,
          59,
          60,
          61,
          62,
          63,
          64,
          65,
          66,
          67,
          68,
          69,
          70,
          71,
          72,
          73,
          74,
          75,
          76,
          77,
          78,
          79,
          80,
          81,
          82,
          83,
          84,
          85,
          86,
          87,
          88,
          89,
          90,
          91,
          92,
          93,
          94,
          95,
          96,
          97,
          98,
          99,
          100,
          101,
          102,
          103,
          104,
          105,
          106,
          107,
          108,
          109,
          110,
          111,
          112,
          113,
          114,
          115,
          116,
          117,
          118,
          119,
          120,
          121,
          122,
          123,
          124,
          125,
          126,
          127,
          128,
          129,
          130,
          131,
          132,
          133,
          134,
          135,
          136,
          137,
          138,
          139,
          140,
          141,
          142,
          143,
          144,
          145,
          146,
          147,
          148,
          149,
          150,
          151,
          152,
          153,
          154,
          155,
          156,
          157,
          158,
          159,
          160,
          161,
          162,
          163,
          0,
          1,
          2,
          3,
          4,
          5,
          6,
          7,
          8,
          9,
          10,
          11,
          12,
          13,
          14,
          15,
          16,
          17,
          18,
          19,
          20,
          21,
          22,
          23,
          24,
          25,
          26,
          27,
          28,
          29,
          30,
          31,
          32,
          33,
          34,
          35,
          36,
          37,
          38,
          39,
          40,
          41,
          42,
          43,
          44,
          45,
          46,
          47,
          48,
          49,
          50,
          51,
          52,
          53,
          54,
          55,
          56,
          57,
          58,
          59,
          60,
          61,
          62,
          63,
          64,
          65,
          66,
          67,
          68,
          69,
          70,
          71,
          72,
          73,
          74,
          75,
          76,
          77,
          78,
          79,
          80,
          81,
          82,
          83,
          84,
          85,
          86,
          87,
          88,
          89,
          90,
          91,
          92,
          93,
          94,
          95,
          96,
          97,
          98,
          99,
          100,
          101,
          102,
          103,
          104,
          105,
          106,
          107,
          108,
          109,
          110,
          111,
          112,
          113,
          114,
          115,
          116,
          117,
          118,
          119,
          120,
          121,
          122,
          123,
          124,
          125,
          126,
          127,
          128,
          129,
          130,
          131,
          132,
          133,
          134,
          135,
          136,
          137,
          138,
          139,
          140,
          141,
          142,
          143,
          144,
          145,
          146,
          147,
          148,
          149,
          150,
          151,
          152,
          153,
          154,
          155,
          156,
          157,
          158,
          159,
          160,
          161,
          162,
          163,
          0,
          1,
          2,
          3,
          4,
          5,
          6,
          7,
          8,
          9,
          10,
          11,
          12,
          13,
          14,
          15,
          16,
          17,
          18,
          19,
          20,
          21,
          22,
          23,
          24,
          25,
          26,
          27,
          28,
          29,
          30,
          31,
          32,
          33,
          34,
          35,
          36,
          37,
          38,
          39,
          40,
          41,
          42,
          43,
          44,
          45,
          46,
          47,
          48,
          49,
          50,
          51,
          52,
          53,
          54,
          55,
          56,
          57,
          58,
          59,
          60,
          61,
          62,
          63,
          64,
          65,
          66,
          67,
          68,
          69,
          70,
          71,
          72,
          73,
          74,
          75,
          76,
          77,
          78,
          79,
          80,
          81,
          82,
          83,
          84,
          85,
          86,
          87,
          88,
          89,
          90,
          91,
          92,
          93,
          94,
          95,
          96,
          97,
          98,
          99,
          100,
          101,
          102,
          103,
          104,
          105,
          106,
          107,
          108,
          109,
          110,
          111,
          112,
          113,
          114,
          115,
          116,
          117,
          118,
          119,
          120,
          121,
          122,
          123,
          124,
          125,
          126,
          127,
          128,
          129,
          130,
          131,
          132,
          133,
          134,
          135,
          136,
          137,
          138,
          139,
          140,
          141,
          142,
          143,
          144,
          145,
          146,
          147,
          148,
          149,
          150,
          151,
          152,
          153,
          154,
          155,
          156,
          157,
          158,
          159,
          160,
          161,
          162,
          163,
          0,
          1,
          2,
          3,
          4,
          5,
          6,
          7,
          8,
          9,
          10,
          11,
          12,
          13,
          14,
          15,
          16,
          17,
          18,
          19,
          20,
          21,
          22,
          23,
          24,
          25,
          26,
          27,
          28,
          29,
          30,
          31,
          32,
          33,
          34,
          35,
          36,
          37,
          38,
          39,
          40,
          41,
          42,
          43,
          44,
          45,
          46,
          47,
          48,
          49,
          50,
          51,
          52,
          53,
          54,
          55,
          56,
          57,
          58,
          59,
          60,
          61,
          62,
          63,
          64,
          65,
          66,
          67,
          68,
          69,
          70,
          71,
          72,
          73,
          74,
          75,
          76,
          77,
          78,
          79,
          80,
          81,
          82,
          83,
          84,
          85,
          86,
          87,
          88,
          89,
          90,
          91,
          92,
          93,
          94,
          95,
          96,
          97,
          98,
          99,
          100,
          101,
          102,
          103,
          104,
          105,
          106,
          107,
          108,
          109,
          110,
          111,
          112,
          113,
          114,
          115,
          116,
          117,
          118,
          119,
          120,
          121,
          122,
          123,
          124,
          125,
          126,
          127,
          128,
          129,
          130,
          131,
          132,
          133,
          134,
          135,
          136,
          137,
          138,
          139,
          140,
          141,
          142,
          143,
          144,
          145,
          146,
          147,
          148,
          149,
          150,
          151,
          152,
          153,
          154,
          155,
          156,
          157,
          158,
          159,
          160,
          161,
          162,
          163,
          0,
          1,
          2,
          3,
          4,
          5,
          6,
          7,
          8,
          9,
          10,
          11,
          12,
          13,
          14,
          15,
          16,
          17,
          18,
          19,
          20,
          21,
          22,
          23,
          24,
          25,
          26,
          27,
          28,
          29,
          30,
          31,
          32,
          33,
          34,
          35,
          36,
          37,
          38,
          39,
          40,
          41,
          42,
          43,
          44,
          45,
          46,
          47,
          48,
          49,
          50,
          51,
          52,
          53,
          54,
          55,
          56,
          57,
          58,
          59,
          60,
          61,
          62,
          63,
          64,
          65,
          66,
          67,
          68,
          69,
          70,
          71,
          72,
          73,
          74,
          75,
          76,
          77,
          78,
          79,
          80,
          81,
          82,
          83,
          84,
          85,
          86,
          87,
          88,
          89,
          90,
          91,
          92,
          93,
          94,
          95,
          96,
          97,
          98,
          99,
          100,
          101,
          102,
          103,
          104,
          105,
          106,
          107,
          108,
          109,
          110,
          111,
          112,
          113,
          114,
          115,
          116,
          117,
          118,
          119,
          120,
          121,
          122,
          123,
          124,
          125,
          126,
          127,
          128,
          129,
          130,
          131,
          132,
          133,
          134,
          135,
          136,
          137,
          138,
          139,
          140,
          141,
          142,
          143,
          144,
          145,
          146,
          147,
          148,
          149,
          150,
          151,
          152,
          153,
          154,
          155,
          156,
          157,
          158,
          159,
          160,
          161,
          162,
          163,
          0,
          1,
          2,
          3,
          4,
          5,
          6,
          7,
          8,
          9,
          10,
          11,
          12,
          13,
          14,
          15,
          16,
          17,
          18,
          19,
          20,
          21,
          22,
          23,
          24,
          25,
          26,
          27,
          28,
          29,
          30,
          31,
          32,
          33,
          34,
          35,
          36,
          37,
          38,
          39,
          40,
          41,
          42,
          43,
          44,
          45,
          46,
          47,
          48,
          49,
          50,
          51,
          52,
          53,
          54,
          55,
          56,
          57,
          58,
          59,
          60,
          61,
          62,
          63,
          64,
          65,
          66,
          67,
          68,
          69,
          70,
          71,
          72,
          73,
          74,
          75,
          76,
          77,
          78,
          79,
          80,
          81,
          82,
          83,
          84,
          85,
          86,
          87,
          88,
          89,
          90,
          91,
          92,
          93,
          94,
          95,
          96,
          97,
          98,
          99,
          100,
          101,
          102,
          103,
          104,
          105,
          106,
          107,
          108,
          109,
          110,
          111,
          112,
          113,
          114,
          115,
          116,
          117,
          118,
          119,
          120,
          121,
          122,
          123,
          124,
          125,
          126,
          127,
          128,
          129,
          130,
          131,
          132,
          133,
          134,
          135,
          136,
          137,
          138,
          139,
          140,
          141,
          142,
          143,
          144,
          145,
          146,
          147,
          148,
          149,
          150,
          151,
          152,
          153,
          154,
          155,
          156,
          157,
          158,
          159,
          160,
          161,
          162,
          163
         ],
         "yaxis": "y"
        }
       ],
       "layout": {
        "coloraxis": {
         "colorbar": {
          "title": {
           "text": "Y_lp5"
          }
         },
         "colorscale": [
          [
           0,
           "#0d0887"
          ],
          [
           0.1111111111111111,
           "#46039f"
          ],
          [
           0.2222222222222222,
           "#7201a8"
          ],
          [
           0.3333333333333333,
           "#9c179e"
          ],
          [
           0.4444444444444444,
           "#bd3786"
          ],
          [
           0.5555555555555556,
           "#d8576b"
          ],
          [
           0.6666666666666666,
           "#ed7953"
          ],
          [
           0.7777777777777778,
           "#fb9f3a"
          ],
          [
           0.8888888888888888,
           "#fdca26"
          ],
          [
           1,
           "#f0f921"
          ]
         ]
        },
        "legend": {
         "tracegroupgap": 0
        },
        "margin": {
         "t": 60
        },
        "template": {
         "data": {
          "bar": [
           {
            "error_x": {
             "color": "#2a3f5f"
            },
            "error_y": {
             "color": "#2a3f5f"
            },
            "marker": {
             "line": {
              "color": "#E5ECF6",
              "width": 0.5
             },
             "pattern": {
              "fillmode": "overlay",
              "size": 10,
              "solidity": 0.2
             }
            },
            "type": "bar"
           }
          ],
          "barpolar": [
           {
            "marker": {
             "line": {
              "color": "#E5ECF6",
              "width": 0.5
             },
             "pattern": {
              "fillmode": "overlay",
              "size": 10,
              "solidity": 0.2
             }
            },
            "type": "barpolar"
           }
          ],
          "carpet": [
           {
            "aaxis": {
             "endlinecolor": "#2a3f5f",
             "gridcolor": "white",
             "linecolor": "white",
             "minorgridcolor": "white",
             "startlinecolor": "#2a3f5f"
            },
            "baxis": {
             "endlinecolor": "#2a3f5f",
             "gridcolor": "white",
             "linecolor": "white",
             "minorgridcolor": "white",
             "startlinecolor": "#2a3f5f"
            },
            "type": "carpet"
           }
          ],
          "choropleth": [
           {
            "colorbar": {
             "outlinewidth": 0,
             "ticks": ""
            },
            "type": "choropleth"
           }
          ],
          "contour": [
           {
            "colorbar": {
             "outlinewidth": 0,
             "ticks": ""
            },
            "colorscale": [
             [
              0,
              "#0d0887"
             ],
             [
              0.1111111111111111,
              "#46039f"
             ],
             [
              0.2222222222222222,
              "#7201a8"
             ],
             [
              0.3333333333333333,
              "#9c179e"
             ],
             [
              0.4444444444444444,
              "#bd3786"
             ],
             [
              0.5555555555555556,
              "#d8576b"
             ],
             [
              0.6666666666666666,
              "#ed7953"
             ],
             [
              0.7777777777777778,
              "#fb9f3a"
             ],
             [
              0.8888888888888888,
              "#fdca26"
             ],
             [
              1,
              "#f0f921"
             ]
            ],
            "type": "contour"
           }
          ],
          "contourcarpet": [
           {
            "colorbar": {
             "outlinewidth": 0,
             "ticks": ""
            },
            "type": "contourcarpet"
           }
          ],
          "heatmap": [
           {
            "colorbar": {
             "outlinewidth": 0,
             "ticks": ""
            },
            "colorscale": [
             [
              0,
              "#0d0887"
             ],
             [
              0.1111111111111111,
              "#46039f"
             ],
             [
              0.2222222222222222,
              "#7201a8"
             ],
             [
              0.3333333333333333,
              "#9c179e"
             ],
             [
              0.4444444444444444,
              "#bd3786"
             ],
             [
              0.5555555555555556,
              "#d8576b"
             ],
             [
              0.6666666666666666,
              "#ed7953"
             ],
             [
              0.7777777777777778,
              "#fb9f3a"
             ],
             [
              0.8888888888888888,
              "#fdca26"
             ],
             [
              1,
              "#f0f921"
             ]
            ],
            "type": "heatmap"
           }
          ],
          "heatmapgl": [
           {
            "colorbar": {
             "outlinewidth": 0,
             "ticks": ""
            },
            "colorscale": [
             [
              0,
              "#0d0887"
             ],
             [
              0.1111111111111111,
              "#46039f"
             ],
             [
              0.2222222222222222,
              "#7201a8"
             ],
             [
              0.3333333333333333,
              "#9c179e"
             ],
             [
              0.4444444444444444,
              "#bd3786"
             ],
             [
              0.5555555555555556,
              "#d8576b"
             ],
             [
              0.6666666666666666,
              "#ed7953"
             ],
             [
              0.7777777777777778,
              "#fb9f3a"
             ],
             [
              0.8888888888888888,
              "#fdca26"
             ],
             [
              1,
              "#f0f921"
             ]
            ],
            "type": "heatmapgl"
           }
          ],
          "histogram": [
           {
            "marker": {
             "pattern": {
              "fillmode": "overlay",
              "size": 10,
              "solidity": 0.2
             }
            },
            "type": "histogram"
           }
          ],
          "histogram2d": [
           {
            "colorbar": {
             "outlinewidth": 0,
             "ticks": ""
            },
            "colorscale": [
             [
              0,
              "#0d0887"
             ],
             [
              0.1111111111111111,
              "#46039f"
             ],
             [
              0.2222222222222222,
              "#7201a8"
             ],
             [
              0.3333333333333333,
              "#9c179e"
             ],
             [
              0.4444444444444444,
              "#bd3786"
             ],
             [
              0.5555555555555556,
              "#d8576b"
             ],
             [
              0.6666666666666666,
              "#ed7953"
             ],
             [
              0.7777777777777778,
              "#fb9f3a"
             ],
             [
              0.8888888888888888,
              "#fdca26"
             ],
             [
              1,
              "#f0f921"
             ]
            ],
            "type": "histogram2d"
           }
          ],
          "histogram2dcontour": [
           {
            "colorbar": {
             "outlinewidth": 0,
             "ticks": ""
            },
            "colorscale": [
             [
              0,
              "#0d0887"
             ],
             [
              0.1111111111111111,
              "#46039f"
             ],
             [
              0.2222222222222222,
              "#7201a8"
             ],
             [
              0.3333333333333333,
              "#9c179e"
             ],
             [
              0.4444444444444444,
              "#bd3786"
             ],
             [
              0.5555555555555556,
              "#d8576b"
             ],
             [
              0.6666666666666666,
              "#ed7953"
             ],
             [
              0.7777777777777778,
              "#fb9f3a"
             ],
             [
              0.8888888888888888,
              "#fdca26"
             ],
             [
              1,
              "#f0f921"
             ]
            ],
            "type": "histogram2dcontour"
           }
          ],
          "mesh3d": [
           {
            "colorbar": {
             "outlinewidth": 0,
             "ticks": ""
            },
            "type": "mesh3d"
           }
          ],
          "parcoords": [
           {
            "line": {
             "colorbar": {
              "outlinewidth": 0,
              "ticks": ""
             }
            },
            "type": "parcoords"
           }
          ],
          "pie": [
           {
            "automargin": true,
            "type": "pie"
           }
          ],
          "scatter": [
           {
            "fillpattern": {
             "fillmode": "overlay",
             "size": 10,
             "solidity": 0.2
            },
            "type": "scatter"
           }
          ],
          "scatter3d": [
           {
            "line": {
             "colorbar": {
              "outlinewidth": 0,
              "ticks": ""
             }
            },
            "marker": {
             "colorbar": {
              "outlinewidth": 0,
              "ticks": ""
             }
            },
            "type": "scatter3d"
           }
          ],
          "scattercarpet": [
           {
            "marker": {
             "colorbar": {
              "outlinewidth": 0,
              "ticks": ""
             }
            },
            "type": "scattercarpet"
           }
          ],
          "scattergeo": [
           {
            "marker": {
             "colorbar": {
              "outlinewidth": 0,
              "ticks": ""
             }
            },
            "type": "scattergeo"
           }
          ],
          "scattergl": [
           {
            "marker": {
             "colorbar": {
              "outlinewidth": 0,
              "ticks": ""
             }
            },
            "type": "scattergl"
           }
          ],
          "scattermapbox": [
           {
            "marker": {
             "colorbar": {
              "outlinewidth": 0,
              "ticks": ""
             }
            },
            "type": "scattermapbox"
           }
          ],
          "scatterpolar": [
           {
            "marker": {
             "colorbar": {
              "outlinewidth": 0,
              "ticks": ""
             }
            },
            "type": "scatterpolar"
           }
          ],
          "scatterpolargl": [
           {
            "marker": {
             "colorbar": {
              "outlinewidth": 0,
              "ticks": ""
             }
            },
            "type": "scatterpolargl"
           }
          ],
          "scatterternary": [
           {
            "marker": {
             "colorbar": {
              "outlinewidth": 0,
              "ticks": ""
             }
            },
            "type": "scatterternary"
           }
          ],
          "surface": [
           {
            "colorbar": {
             "outlinewidth": 0,
             "ticks": ""
            },
            "colorscale": [
             [
              0,
              "#0d0887"
             ],
             [
              0.1111111111111111,
              "#46039f"
             ],
             [
              0.2222222222222222,
              "#7201a8"
             ],
             [
              0.3333333333333333,
              "#9c179e"
             ],
             [
              0.4444444444444444,
              "#bd3786"
             ],
             [
              0.5555555555555556,
              "#d8576b"
             ],
             [
              0.6666666666666666,
              "#ed7953"
             ],
             [
              0.7777777777777778,
              "#fb9f3a"
             ],
             [
              0.8888888888888888,
              "#fdca26"
             ],
             [
              1,
              "#f0f921"
             ]
            ],
            "type": "surface"
           }
          ],
          "table": [
           {
            "cells": {
             "fill": {
              "color": "#EBF0F8"
             },
             "line": {
              "color": "white"
             }
            },
            "header": {
             "fill": {
              "color": "#C8D4E3"
             },
             "line": {
              "color": "white"
             }
            },
            "type": "table"
           }
          ]
         },
         "layout": {
          "annotationdefaults": {
           "arrowcolor": "#2a3f5f",
           "arrowhead": 0,
           "arrowwidth": 1
          },
          "autotypenumbers": "strict",
          "coloraxis": {
           "colorbar": {
            "outlinewidth": 0,
            "ticks": ""
           }
          },
          "colorscale": {
           "diverging": [
            [
             0,
             "#8e0152"
            ],
            [
             0.1,
             "#c51b7d"
            ],
            [
             0.2,
             "#de77ae"
            ],
            [
             0.3,
             "#f1b6da"
            ],
            [
             0.4,
             "#fde0ef"
            ],
            [
             0.5,
             "#f7f7f7"
            ],
            [
             0.6,
             "#e6f5d0"
            ],
            [
             0.7,
             "#b8e186"
            ],
            [
             0.8,
             "#7fbc41"
            ],
            [
             0.9,
             "#4d9221"
            ],
            [
             1,
             "#276419"
            ]
           ],
           "sequential": [
            [
             0,
             "#0d0887"
            ],
            [
             0.1111111111111111,
             "#46039f"
            ],
            [
             0.2222222222222222,
             "#7201a8"
            ],
            [
             0.3333333333333333,
             "#9c179e"
            ],
            [
             0.4444444444444444,
             "#bd3786"
            ],
            [
             0.5555555555555556,
             "#d8576b"
            ],
            [
             0.6666666666666666,
             "#ed7953"
            ],
            [
             0.7777777777777778,
             "#fb9f3a"
            ],
            [
             0.8888888888888888,
             "#fdca26"
            ],
            [
             1,
             "#f0f921"
            ]
           ],
           "sequentialminus": [
            [
             0,
             "#0d0887"
            ],
            [
             0.1111111111111111,
             "#46039f"
            ],
            [
             0.2222222222222222,
             "#7201a8"
            ],
            [
             0.3333333333333333,
             "#9c179e"
            ],
            [
             0.4444444444444444,
             "#bd3786"
            ],
            [
             0.5555555555555556,
             "#d8576b"
            ],
            [
             0.6666666666666666,
             "#ed7953"
            ],
            [
             0.7777777777777778,
             "#fb9f3a"
            ],
            [
             0.8888888888888888,
             "#fdca26"
            ],
            [
             1,
             "#f0f921"
            ]
           ]
          },
          "colorway": [
           "#636efa",
           "#EF553B",
           "#00cc96",
           "#ab63fa",
           "#FFA15A",
           "#19d3f3",
           "#FF6692",
           "#B6E880",
           "#FF97FF",
           "#FECB52"
          ],
          "font": {
           "color": "#2a3f5f"
          },
          "geo": {
           "bgcolor": "white",
           "lakecolor": "white",
           "landcolor": "#E5ECF6",
           "showlakes": true,
           "showland": true,
           "subunitcolor": "white"
          },
          "hoverlabel": {
           "align": "left"
          },
          "hovermode": "closest",
          "mapbox": {
           "style": "light"
          },
          "paper_bgcolor": "white",
          "plot_bgcolor": "#E5ECF6",
          "polar": {
           "angularaxis": {
            "gridcolor": "white",
            "linecolor": "white",
            "ticks": ""
           },
           "bgcolor": "#E5ECF6",
           "radialaxis": {
            "gridcolor": "white",
            "linecolor": "white",
            "ticks": ""
           }
          },
          "scene": {
           "xaxis": {
            "backgroundcolor": "#E5ECF6",
            "gridcolor": "white",
            "gridwidth": 2,
            "linecolor": "white",
            "showbackground": true,
            "ticks": "",
            "zerolinecolor": "white"
           },
           "yaxis": {
            "backgroundcolor": "#E5ECF6",
            "gridcolor": "white",
            "gridwidth": 2,
            "linecolor": "white",
            "showbackground": true,
            "ticks": "",
            "zerolinecolor": "white"
           },
           "zaxis": {
            "backgroundcolor": "#E5ECF6",
            "gridcolor": "white",
            "gridwidth": 2,
            "linecolor": "white",
            "showbackground": true,
            "ticks": "",
            "zerolinecolor": "white"
           }
          },
          "shapedefaults": {
           "line": {
            "color": "#2a3f5f"
           }
          },
          "ternary": {
           "aaxis": {
            "gridcolor": "white",
            "linecolor": "white",
            "ticks": ""
           },
           "baxis": {
            "gridcolor": "white",
            "linecolor": "white",
            "ticks": ""
           },
           "bgcolor": "#E5ECF6",
           "caxis": {
            "gridcolor": "white",
            "linecolor": "white",
            "ticks": ""
           }
          },
          "title": {
           "x": 0.05
          },
          "xaxis": {
           "automargin": true,
           "gridcolor": "white",
           "linecolor": "white",
           "ticks": "",
           "title": {
            "standoff": 15
           },
           "zerolinecolor": "white",
           "zerolinewidth": 2
          },
          "yaxis": {
           "automargin": true,
           "gridcolor": "white",
           "linecolor": "white",
           "ticks": "",
           "title": {
            "standoff": 15
           },
           "zerolinecolor": "white",
           "zerolinewidth": 2
          }
         }
        },
        "xaxis": {
         "anchor": "y",
         "domain": [
          0,
          1
         ],
         "title": {
          "text": "value"
         }
        },
        "yaxis": {
         "anchor": "x",
         "domain": [
          0,
          1
         ],
         "title": {
          "text": "index"
         }
        }
       }
      }
     },
     "metadata": {},
     "output_type": "display_data"
    }
   ],
   "source": [
    "plty.scatter(X_lp5_df, x = [\"Fx_lp5\", \"Fy_lp5\", \"Fz_lp5\", \"Tx_lp5\", \"Ty_lp5\", \"Tz_lp5\"],   color= \"Y_lp5\")"
   ]
  },
  {
   "attachments": {},
   "cell_type": "markdown",
   "metadata": {},
   "source": [
    "Boxplot"
   ]
  },
  {
   "cell_type": "code",
   "execution_count": 26,
   "metadata": {},
   "outputs": [
    {
     "data": {
      "application/vnd.plotly.v1+json": {
       "config": {
        "plotlyServerURL": "https://plot.ly"
       },
       "data": [
        {
         "alignmentgroup": "True",
         "hovertemplate": "value=%{x}<br>variable=%{y}<extra></extra>",
         "legendgroup": "",
         "marker": {
          "color": "#636efa"
         },
         "name": "",
         "notched": false,
         "offsetgroup": "",
         "orientation": "h",
         "showlegend": false,
         "type": "box",
         "x": [
          0.0216016730767654,
          0.021806975685852208,
          0.021400753986686838,
          0.02208502875897178,
          0.02142765776816038,
          0.02143008062412254,
          0.02152081847079247,
          0.021343889694522653,
          0.02157337628259515,
          0.02183863477214372,
          0.022049269000949043,
          0.021867302484714763,
          0.0213006378547484,
          0.021758006521780164,
          0.021380607682092694,
          0.021353426743040083,
          0.02150164771589026,
          0.02157651532631166,
          0.021587414857674198,
          0.021558481973693693,
          0.029060948675055247,
          0.028465280735771925,
          0.025473356222752628,
          0.025477822732217197,
          0.02444562273527701,
          0.022716543837357044,
          0.02251898405011434,
          0.022378727206874945,
          0.022864587596164342,
          0.022491221578836245,
          0.023105472170891282,
          0.02349777020098399,
          0.02349777020098399,
          0.027246968683070267,
          0.027246968683070267,
          0.020711635407791713,
          0.023247541375333563,
          0.023165379124582622,
          0.023438351264333437,
          0.025200377543105588,
          0.030240993694045416,
          0.023990675889768418,
          0.02262225932516524,
          0.02428987640187904,
          0.02254007067177128,
          0.02254007067177128,
          0.02390893262859406,
          0.005134240007518187,
          0.005515341801324312,
          0.006023105560265316,
          0.005280024386928998,
          0.005389840334667157,
          0.005077099302188691,
          0.0045892950924627685,
          0.005225920959048941,
          0.005298878369657438,
          0.004215391379712822,
          0.004067252969272633,
          0.004643895992714672,
          0.0040336586770399726,
          0.003961207612861684,
          0.003815665067065424,
          0.004706157565585694,
          0.0049390502113288255,
          0.005278724486716565,
          0.0026083443882360382,
          0.001968421225726162,
          0.002034957943667252,
          0.0017817087440151489,
          0.0019886476215442883,
          0.0021520907937674066,
          0.007293297520491684,
          0.01084968896277208,
          0.004142694197424506,
          0.004286932786039213,
          0.002917727344333675,
          0.00337966074290464,
          0.0028485118774949896,
          0.003214401665110678,
          0.0041320004868657546,
          0.008293517311237416,
          0.018514675695987734,
          0.005914198686400301,
          0.004883983142116918,
          0.00823976688510203,
          0.003482585514337667,
          0.01324610633352305,
          0.004858313765306109,
          0.0054451272524909155,
          0.014239480562464284,
          0.006643198863660019,
          0.007293297520491684,
          0.008178506534752385,
          0.002149821622266424,
          0.004218020337641327,
          0.005463451153245239,
          0.008747010097286506,
          0.0043311038483159646,
          0.01242802563267923,
          0.008657380797652487,
          0.6362843445440131,
          0.03633375212810425,
          0.23114979632322952,
          0.15779429066577383,
          0.25943660425853843,
          0.6769664162003142,
          0.07530068588578251,
          0.07617394883659735,
          0.059624692879567245,
          0.31501764953601,
          0.27970778939781266,
          0.20597098041466283,
          0.14059969916666754,
          0.008864793452755643,
          0.043267094767220016,
          0.2826055876295244,
          0.006976085912970738,
          0.30017144486911446,
          0.04543302890145833,
          0.15636919262081053,
          0.02538019569116453,
          0.009325905424541057,
          0.26122870930161607,
          0.001863422954344821,
          0.2171894543140502,
          0.003084226392975217,
          0.2728356551665806,
          0.04100903019780933,
          0.023118104115426755,
          0.02210295403657412,
          0.008668033294917932,
          0.056103042444826313,
          0.12414561721316879,
          0.21141020861742324,
          0.006607959718082933,
          0.0057625443631581464,
          0.020016231131464723,
          0.005361442387345198,
          0.014900839546213377,
          0.004773835943031809,
          0.014519827560881498,
          0.006381202419891074,
          0.010020253741516421,
          0.12260540976071503,
          0.004333840906360347,
          0.06107333023232009,
          0.023892419324552015,
          0.003639067557077341,
          0.005867931185968677,
          0.0023649480163243828,
          0.001830296932513689,
          0.009720507905899187,
          0.002691704171746335,
          0.0031326325918891525,
          0.006366360647837587,
          0.003065291717155179,
          0.007853420200763208,
          0.0039015348559917067,
          0.011120779078025712,
          0.002534442049192039,
          0.003754165628123676,
          0.0023926411731429466,
          0.003568213542580036,
          0.0018509896670844109,
          0.0030206035368810385,
          0.013259001913758802,
          0.0142974957894745,
          0.015930735859011034,
          0.01770734548031796,
          0.019816181215633593,
          0.022761405892792998,
          0.026776967250965445,
          0.028113909948198228,
          0.02981761223688276,
          0.031358752971381416,
          0.009704056349434382,
          0.013503105739463945,
          0.016791029024208756,
          0.01994856242718906,
          0.01821735106627757,
          0.024177836808449704,
          0.02740235990504236,
          0.02932733132367031,
          0.029220342196336006,
          0.07917213537479438,
          0.07698095359535549,
          0.048941308146660686,
          0.057466312065955365,
          0.04031642732586348,
          0.02862558052603109,
          0.03471323976123368,
          0.03152017125067445,
          0.030752530996209018,
          0.02178407788884955,
          0.03192977696465129,
          0.03270430710939661,
          0.03270430710939661,
          0.08592174911793368,
          0.08592174911793367,
          0.043273324975849244,
          0.028181111649273248,
          0.03685606060302587,
          0.03538011894559014,
          0.04002209819126023,
          0.07070822271831068,
          0.05709314631504509,
          0.019299895148513338,
          0.0496912940521231,
          0.01981120055295643,
          0.01981120055295643,
          0.048117363028813614,
          0.006448445096943829,
          0.0069375944623007975,
          0.006008372761446135,
          0.007035782702070204,
          0.00664541529603499,
          0.005273716803916392,
          0.005856259326749629,
          0.005379311698366395,
          0.00588466500832326,
          0.004433170587005032,
          0.0043686230875485624,
          0.003942051136159883,
          0.00402149547511931,
          0.00431026224725638,
          0.00443076225177593,
          0.00608546934795342,
          0.004989542349839758,
          0.005621869506052281,
          0.004842303847358888,
          0.003804208168578853,
          0.004716348848283798,
          0.004500318261343879,
          0.005009054636648534,
          0.003674976387510227,
          0.017503371477693253,
          0.03240374439750722,
          0.015342076292549505,
          0.01022273940409643,
          0.01088327435790402,
          0.010867922013401816,
          0.011215724994178595,
          0.009483702768085255,
          0.011483846641966717,
          0.05993950895296869,
          0.03704153649440831,
          0.03581408022271918,
          0.019268982004201452,
          0.06276380291291395,
          0.02004346434082939,
          0.09683852668900124,
          0.008118604398739782,
          0.010384950508155305,
          0.027305525451502676,
          0.021577968249653075,
          0.017503371477693253,
          0.02972833547753872,
          0.008155782868489734,
          0.01904068362821839,
          0.02426507474636261,
          0.04442741092775073,
          0.01435532618079991,
          0.05379544075080251,
          0.03655297435594994,
          0.22928873942862193,
          0.0501861725942713,
          0.17629687657145812,
          0.12603598347643719,
          0.23042970572881552,
          0.11763912754763409,
          0.0882523256410878,
          0.11791950377711301,
          0.09927252556986962,
          0.13658435712356212,
          0.25274714708232715,
          0.11693138921044323,
          0.11777693693565026,
          0.015380840497370034,
          0.03481835085421865,
          0.2814131581292878,
          0.022770827773274604,
          0.14624118834486752,
          0.03344828831556653,
          0.11181591468420302,
          0.03038452676965469,
          0.006572059840609577,
          0.12749386453945624,
          0.005040203496814222,
          0.1795273498874792,
          0.008173892120736383,
          0.0565243155316669,
          0.02427454676954426,
          0.015042038701949041,
          0.008681413552250095,
          0.005333130482744661,
          0.05958436510134248,
          0.09945146888113691,
          0.09266434045157333,
          0.01324938374268307,
          0.022762956237507445,
          0.020828447072839394,
          0.015044507036733174,
          0.009336791729986138,
          0.007600766165965847,
          0.018278673964860218,
          0.014385598352284446,
          0.02415335781337547,
          0.06277698820755159,
          0.005774914380277618,
          0.047409502003678446,
          0.07381466216766032,
          0.0045116331228030136,
          0.024865631487068187,
          0.010594235386360226,
          0.0037821299306768775,
          0.04082159206533945,
          0.009500908911680822,
          0.01754937567129779,
          0.03149527077237166,
          0.009976221604921643,
          0.025103428324177376,
          0.01538511487908269,
          0.044378039902072425,
          0.009554073214763212,
          0.015172914591371454,
          0.007095746068186046,
          0.013565101469243756,
          0.007259693708429954
         ],
         "x0": " ",
         "xaxis": "x",
         "y": [
          "F_lp5",
          "F_lp5",
          "F_lp5",
          "F_lp5",
          "F_lp5",
          "F_lp5",
          "F_lp5",
          "F_lp5",
          "F_lp5",
          "F_lp5",
          "F_lp5",
          "F_lp5",
          "F_lp5",
          "F_lp5",
          "F_lp5",
          "F_lp5",
          "F_lp5",
          "F_lp5",
          "F_lp5",
          "F_lp5",
          "F_lp5",
          "F_lp5",
          "F_lp5",
          "F_lp5",
          "F_lp5",
          "F_lp5",
          "F_lp5",
          "F_lp5",
          "F_lp5",
          "F_lp5",
          "F_lp5",
          "F_lp5",
          "F_lp5",
          "F_lp5",
          "F_lp5",
          "F_lp5",
          "F_lp5",
          "F_lp5",
          "F_lp5",
          "F_lp5",
          "F_lp5",
          "F_lp5",
          "F_lp5",
          "F_lp5",
          "F_lp5",
          "F_lp5",
          "F_lp5",
          "F_lp5",
          "F_lp5",
          "F_lp5",
          "F_lp5",
          "F_lp5",
          "F_lp5",
          "F_lp5",
          "F_lp5",
          "F_lp5",
          "F_lp5",
          "F_lp5",
          "F_lp5",
          "F_lp5",
          "F_lp5",
          "F_lp5",
          "F_lp5",
          "F_lp5",
          "F_lp5",
          "F_lp5",
          "F_lp5",
          "F_lp5",
          "F_lp5",
          "F_lp5",
          "F_lp5",
          "F_lp5",
          "F_lp5",
          "F_lp5",
          "F_lp5",
          "F_lp5",
          "F_lp5",
          "F_lp5",
          "F_lp5",
          "F_lp5",
          "F_lp5",
          "F_lp5",
          "F_lp5",
          "F_lp5",
          "F_lp5",
          "F_lp5",
          "F_lp5",
          "F_lp5",
          "F_lp5",
          "F_lp5",
          "F_lp5",
          "F_lp5",
          "F_lp5",
          "F_lp5",
          "F_lp5",
          "F_lp5",
          "F_lp5",
          "F_lp5",
          "F_lp5",
          "F_lp5",
          "F_lp5",
          "F_lp5",
          "F_lp5",
          "F_lp5",
          "F_lp5",
          "F_lp5",
          "F_lp5",
          "F_lp5",
          "F_lp5",
          "F_lp5",
          "F_lp5",
          "F_lp5",
          "F_lp5",
          "F_lp5",
          "F_lp5",
          "F_lp5",
          "F_lp5",
          "F_lp5",
          "F_lp5",
          "F_lp5",
          "F_lp5",
          "F_lp5",
          "F_lp5",
          "F_lp5",
          "F_lp5",
          "F_lp5",
          "F_lp5",
          "F_lp5",
          "F_lp5",
          "F_lp5",
          "F_lp5",
          "F_lp5",
          "F_lp5",
          "F_lp5",
          "F_lp5",
          "F_lp5",
          "F_lp5",
          "F_lp5",
          "F_lp5",
          "F_lp5",
          "F_lp5",
          "F_lp5",
          "F_lp5",
          "F_lp5",
          "F_lp5",
          "F_lp5",
          "F_lp5",
          "F_lp5",
          "F_lp5",
          "F_lp5",
          "F_lp5",
          "F_lp5",
          "F_lp5",
          "F_lp5",
          "F_lp5",
          "F_lp5",
          "F_lp5",
          "F_lp5",
          "F_lp5",
          "F_lp5",
          "F_lp5",
          "F_lp5",
          "F_lp5",
          "F_lp5",
          "T_lp5",
          "T_lp5",
          "T_lp5",
          "T_lp5",
          "T_lp5",
          "T_lp5",
          "T_lp5",
          "T_lp5",
          "T_lp5",
          "T_lp5",
          "T_lp5",
          "T_lp5",
          "T_lp5",
          "T_lp5",
          "T_lp5",
          "T_lp5",
          "T_lp5",
          "T_lp5",
          "T_lp5",
          "T_lp5",
          "T_lp5",
          "T_lp5",
          "T_lp5",
          "T_lp5",
          "T_lp5",
          "T_lp5",
          "T_lp5",
          "T_lp5",
          "T_lp5",
          "T_lp5",
          "T_lp5",
          "T_lp5",
          "T_lp5",
          "T_lp5",
          "T_lp5",
          "T_lp5",
          "T_lp5",
          "T_lp5",
          "T_lp5",
          "T_lp5",
          "T_lp5",
          "T_lp5",
          "T_lp5",
          "T_lp5",
          "T_lp5",
          "T_lp5",
          "T_lp5",
          "T_lp5",
          "T_lp5",
          "T_lp5",
          "T_lp5",
          "T_lp5",
          "T_lp5",
          "T_lp5",
          "T_lp5",
          "T_lp5",
          "T_lp5",
          "T_lp5",
          "T_lp5",
          "T_lp5",
          "T_lp5",
          "T_lp5",
          "T_lp5",
          "T_lp5",
          "T_lp5",
          "T_lp5",
          "T_lp5",
          "T_lp5",
          "T_lp5",
          "T_lp5",
          "T_lp5",
          "T_lp5",
          "T_lp5",
          "T_lp5",
          "T_lp5",
          "T_lp5",
          "T_lp5",
          "T_lp5",
          "T_lp5",
          "T_lp5",
          "T_lp5",
          "T_lp5",
          "T_lp5",
          "T_lp5",
          "T_lp5",
          "T_lp5",
          "T_lp5",
          "T_lp5",
          "T_lp5",
          "T_lp5",
          "T_lp5",
          "T_lp5",
          "T_lp5",
          "T_lp5",
          "T_lp5",
          "T_lp5",
          "T_lp5",
          "T_lp5",
          "T_lp5",
          "T_lp5",
          "T_lp5",
          "T_lp5",
          "T_lp5",
          "T_lp5",
          "T_lp5",
          "T_lp5",
          "T_lp5",
          "T_lp5",
          "T_lp5",
          "T_lp5",
          "T_lp5",
          "T_lp5",
          "T_lp5",
          "T_lp5",
          "T_lp5",
          "T_lp5",
          "T_lp5",
          "T_lp5",
          "T_lp5",
          "T_lp5",
          "T_lp5",
          "T_lp5",
          "T_lp5",
          "T_lp5",
          "T_lp5",
          "T_lp5",
          "T_lp5",
          "T_lp5",
          "T_lp5",
          "T_lp5",
          "T_lp5",
          "T_lp5",
          "T_lp5",
          "T_lp5",
          "T_lp5",
          "T_lp5",
          "T_lp5",
          "T_lp5",
          "T_lp5",
          "T_lp5",
          "T_lp5",
          "T_lp5",
          "T_lp5",
          "T_lp5",
          "T_lp5",
          "T_lp5",
          "T_lp5",
          "T_lp5",
          "T_lp5",
          "T_lp5",
          "T_lp5",
          "T_lp5",
          "T_lp5",
          "T_lp5",
          "T_lp5",
          "T_lp5",
          "T_lp5",
          "T_lp5",
          "T_lp5",
          "T_lp5",
          "T_lp5",
          "T_lp5",
          "T_lp5",
          "T_lp5"
         ],
         "y0": " ",
         "yaxis": "y"
        }
       ],
       "layout": {
        "boxmode": "group",
        "legend": {
         "tracegroupgap": 0
        },
        "margin": {
         "t": 60
        },
        "template": {
         "data": {
          "bar": [
           {
            "error_x": {
             "color": "#2a3f5f"
            },
            "error_y": {
             "color": "#2a3f5f"
            },
            "marker": {
             "line": {
              "color": "#E5ECF6",
              "width": 0.5
             },
             "pattern": {
              "fillmode": "overlay",
              "size": 10,
              "solidity": 0.2
             }
            },
            "type": "bar"
           }
          ],
          "barpolar": [
           {
            "marker": {
             "line": {
              "color": "#E5ECF6",
              "width": 0.5
             },
             "pattern": {
              "fillmode": "overlay",
              "size": 10,
              "solidity": 0.2
             }
            },
            "type": "barpolar"
           }
          ],
          "carpet": [
           {
            "aaxis": {
             "endlinecolor": "#2a3f5f",
             "gridcolor": "white",
             "linecolor": "white",
             "minorgridcolor": "white",
             "startlinecolor": "#2a3f5f"
            },
            "baxis": {
             "endlinecolor": "#2a3f5f",
             "gridcolor": "white",
             "linecolor": "white",
             "minorgridcolor": "white",
             "startlinecolor": "#2a3f5f"
            },
            "type": "carpet"
           }
          ],
          "choropleth": [
           {
            "colorbar": {
             "outlinewidth": 0,
             "ticks": ""
            },
            "type": "choropleth"
           }
          ],
          "contour": [
           {
            "colorbar": {
             "outlinewidth": 0,
             "ticks": ""
            },
            "colorscale": [
             [
              0,
              "#0d0887"
             ],
             [
              0.1111111111111111,
              "#46039f"
             ],
             [
              0.2222222222222222,
              "#7201a8"
             ],
             [
              0.3333333333333333,
              "#9c179e"
             ],
             [
              0.4444444444444444,
              "#bd3786"
             ],
             [
              0.5555555555555556,
              "#d8576b"
             ],
             [
              0.6666666666666666,
              "#ed7953"
             ],
             [
              0.7777777777777778,
              "#fb9f3a"
             ],
             [
              0.8888888888888888,
              "#fdca26"
             ],
             [
              1,
              "#f0f921"
             ]
            ],
            "type": "contour"
           }
          ],
          "contourcarpet": [
           {
            "colorbar": {
             "outlinewidth": 0,
             "ticks": ""
            },
            "type": "contourcarpet"
           }
          ],
          "heatmap": [
           {
            "colorbar": {
             "outlinewidth": 0,
             "ticks": ""
            },
            "colorscale": [
             [
              0,
              "#0d0887"
             ],
             [
              0.1111111111111111,
              "#46039f"
             ],
             [
              0.2222222222222222,
              "#7201a8"
             ],
             [
              0.3333333333333333,
              "#9c179e"
             ],
             [
              0.4444444444444444,
              "#bd3786"
             ],
             [
              0.5555555555555556,
              "#d8576b"
             ],
             [
              0.6666666666666666,
              "#ed7953"
             ],
             [
              0.7777777777777778,
              "#fb9f3a"
             ],
             [
              0.8888888888888888,
              "#fdca26"
             ],
             [
              1,
              "#f0f921"
             ]
            ],
            "type": "heatmap"
           }
          ],
          "heatmapgl": [
           {
            "colorbar": {
             "outlinewidth": 0,
             "ticks": ""
            },
            "colorscale": [
             [
              0,
              "#0d0887"
             ],
             [
              0.1111111111111111,
              "#46039f"
             ],
             [
              0.2222222222222222,
              "#7201a8"
             ],
             [
              0.3333333333333333,
              "#9c179e"
             ],
             [
              0.4444444444444444,
              "#bd3786"
             ],
             [
              0.5555555555555556,
              "#d8576b"
             ],
             [
              0.6666666666666666,
              "#ed7953"
             ],
             [
              0.7777777777777778,
              "#fb9f3a"
             ],
             [
              0.8888888888888888,
              "#fdca26"
             ],
             [
              1,
              "#f0f921"
             ]
            ],
            "type": "heatmapgl"
           }
          ],
          "histogram": [
           {
            "marker": {
             "pattern": {
              "fillmode": "overlay",
              "size": 10,
              "solidity": 0.2
             }
            },
            "type": "histogram"
           }
          ],
          "histogram2d": [
           {
            "colorbar": {
             "outlinewidth": 0,
             "ticks": ""
            },
            "colorscale": [
             [
              0,
              "#0d0887"
             ],
             [
              0.1111111111111111,
              "#46039f"
             ],
             [
              0.2222222222222222,
              "#7201a8"
             ],
             [
              0.3333333333333333,
              "#9c179e"
             ],
             [
              0.4444444444444444,
              "#bd3786"
             ],
             [
              0.5555555555555556,
              "#d8576b"
             ],
             [
              0.6666666666666666,
              "#ed7953"
             ],
             [
              0.7777777777777778,
              "#fb9f3a"
             ],
             [
              0.8888888888888888,
              "#fdca26"
             ],
             [
              1,
              "#f0f921"
             ]
            ],
            "type": "histogram2d"
           }
          ],
          "histogram2dcontour": [
           {
            "colorbar": {
             "outlinewidth": 0,
             "ticks": ""
            },
            "colorscale": [
             [
              0,
              "#0d0887"
             ],
             [
              0.1111111111111111,
              "#46039f"
             ],
             [
              0.2222222222222222,
              "#7201a8"
             ],
             [
              0.3333333333333333,
              "#9c179e"
             ],
             [
              0.4444444444444444,
              "#bd3786"
             ],
             [
              0.5555555555555556,
              "#d8576b"
             ],
             [
              0.6666666666666666,
              "#ed7953"
             ],
             [
              0.7777777777777778,
              "#fb9f3a"
             ],
             [
              0.8888888888888888,
              "#fdca26"
             ],
             [
              1,
              "#f0f921"
             ]
            ],
            "type": "histogram2dcontour"
           }
          ],
          "mesh3d": [
           {
            "colorbar": {
             "outlinewidth": 0,
             "ticks": ""
            },
            "type": "mesh3d"
           }
          ],
          "parcoords": [
           {
            "line": {
             "colorbar": {
              "outlinewidth": 0,
              "ticks": ""
             }
            },
            "type": "parcoords"
           }
          ],
          "pie": [
           {
            "automargin": true,
            "type": "pie"
           }
          ],
          "scatter": [
           {
            "fillpattern": {
             "fillmode": "overlay",
             "size": 10,
             "solidity": 0.2
            },
            "type": "scatter"
           }
          ],
          "scatter3d": [
           {
            "line": {
             "colorbar": {
              "outlinewidth": 0,
              "ticks": ""
             }
            },
            "marker": {
             "colorbar": {
              "outlinewidth": 0,
              "ticks": ""
             }
            },
            "type": "scatter3d"
           }
          ],
          "scattercarpet": [
           {
            "marker": {
             "colorbar": {
              "outlinewidth": 0,
              "ticks": ""
             }
            },
            "type": "scattercarpet"
           }
          ],
          "scattergeo": [
           {
            "marker": {
             "colorbar": {
              "outlinewidth": 0,
              "ticks": ""
             }
            },
            "type": "scattergeo"
           }
          ],
          "scattergl": [
           {
            "marker": {
             "colorbar": {
              "outlinewidth": 0,
              "ticks": ""
             }
            },
            "type": "scattergl"
           }
          ],
          "scattermapbox": [
           {
            "marker": {
             "colorbar": {
              "outlinewidth": 0,
              "ticks": ""
             }
            },
            "type": "scattermapbox"
           }
          ],
          "scatterpolar": [
           {
            "marker": {
             "colorbar": {
              "outlinewidth": 0,
              "ticks": ""
             }
            },
            "type": "scatterpolar"
           }
          ],
          "scatterpolargl": [
           {
            "marker": {
             "colorbar": {
              "outlinewidth": 0,
              "ticks": ""
             }
            },
            "type": "scatterpolargl"
           }
          ],
          "scatterternary": [
           {
            "marker": {
             "colorbar": {
              "outlinewidth": 0,
              "ticks": ""
             }
            },
            "type": "scatterternary"
           }
          ],
          "surface": [
           {
            "colorbar": {
             "outlinewidth": 0,
             "ticks": ""
            },
            "colorscale": [
             [
              0,
              "#0d0887"
             ],
             [
              0.1111111111111111,
              "#46039f"
             ],
             [
              0.2222222222222222,
              "#7201a8"
             ],
             [
              0.3333333333333333,
              "#9c179e"
             ],
             [
              0.4444444444444444,
              "#bd3786"
             ],
             [
              0.5555555555555556,
              "#d8576b"
             ],
             [
              0.6666666666666666,
              "#ed7953"
             ],
             [
              0.7777777777777778,
              "#fb9f3a"
             ],
             [
              0.8888888888888888,
              "#fdca26"
             ],
             [
              1,
              "#f0f921"
             ]
            ],
            "type": "surface"
           }
          ],
          "table": [
           {
            "cells": {
             "fill": {
              "color": "#EBF0F8"
             },
             "line": {
              "color": "white"
             }
            },
            "header": {
             "fill": {
              "color": "#C8D4E3"
             },
             "line": {
              "color": "white"
             }
            },
            "type": "table"
           }
          ]
         },
         "layout": {
          "annotationdefaults": {
           "arrowcolor": "#2a3f5f",
           "arrowhead": 0,
           "arrowwidth": 1
          },
          "autotypenumbers": "strict",
          "coloraxis": {
           "colorbar": {
            "outlinewidth": 0,
            "ticks": ""
           }
          },
          "colorscale": {
           "diverging": [
            [
             0,
             "#8e0152"
            ],
            [
             0.1,
             "#c51b7d"
            ],
            [
             0.2,
             "#de77ae"
            ],
            [
             0.3,
             "#f1b6da"
            ],
            [
             0.4,
             "#fde0ef"
            ],
            [
             0.5,
             "#f7f7f7"
            ],
            [
             0.6,
             "#e6f5d0"
            ],
            [
             0.7,
             "#b8e186"
            ],
            [
             0.8,
             "#7fbc41"
            ],
            [
             0.9,
             "#4d9221"
            ],
            [
             1,
             "#276419"
            ]
           ],
           "sequential": [
            [
             0,
             "#0d0887"
            ],
            [
             0.1111111111111111,
             "#46039f"
            ],
            [
             0.2222222222222222,
             "#7201a8"
            ],
            [
             0.3333333333333333,
             "#9c179e"
            ],
            [
             0.4444444444444444,
             "#bd3786"
            ],
            [
             0.5555555555555556,
             "#d8576b"
            ],
            [
             0.6666666666666666,
             "#ed7953"
            ],
            [
             0.7777777777777778,
             "#fb9f3a"
            ],
            [
             0.8888888888888888,
             "#fdca26"
            ],
            [
             1,
             "#f0f921"
            ]
           ],
           "sequentialminus": [
            [
             0,
             "#0d0887"
            ],
            [
             0.1111111111111111,
             "#46039f"
            ],
            [
             0.2222222222222222,
             "#7201a8"
            ],
            [
             0.3333333333333333,
             "#9c179e"
            ],
            [
             0.4444444444444444,
             "#bd3786"
            ],
            [
             0.5555555555555556,
             "#d8576b"
            ],
            [
             0.6666666666666666,
             "#ed7953"
            ],
            [
             0.7777777777777778,
             "#fb9f3a"
            ],
            [
             0.8888888888888888,
             "#fdca26"
            ],
            [
             1,
             "#f0f921"
            ]
           ]
          },
          "colorway": [
           "#636efa",
           "#EF553B",
           "#00cc96",
           "#ab63fa",
           "#FFA15A",
           "#19d3f3",
           "#FF6692",
           "#B6E880",
           "#FF97FF",
           "#FECB52"
          ],
          "font": {
           "color": "#2a3f5f"
          },
          "geo": {
           "bgcolor": "white",
           "lakecolor": "white",
           "landcolor": "#E5ECF6",
           "showlakes": true,
           "showland": true,
           "subunitcolor": "white"
          },
          "hoverlabel": {
           "align": "left"
          },
          "hovermode": "closest",
          "mapbox": {
           "style": "light"
          },
          "paper_bgcolor": "white",
          "plot_bgcolor": "#E5ECF6",
          "polar": {
           "angularaxis": {
            "gridcolor": "white",
            "linecolor": "white",
            "ticks": ""
           },
           "bgcolor": "#E5ECF6",
           "radialaxis": {
            "gridcolor": "white",
            "linecolor": "white",
            "ticks": ""
           }
          },
          "scene": {
           "xaxis": {
            "backgroundcolor": "#E5ECF6",
            "gridcolor": "white",
            "gridwidth": 2,
            "linecolor": "white",
            "showbackground": true,
            "ticks": "",
            "zerolinecolor": "white"
           },
           "yaxis": {
            "backgroundcolor": "#E5ECF6",
            "gridcolor": "white",
            "gridwidth": 2,
            "linecolor": "white",
            "showbackground": true,
            "ticks": "",
            "zerolinecolor": "white"
           },
           "zaxis": {
            "backgroundcolor": "#E5ECF6",
            "gridcolor": "white",
            "gridwidth": 2,
            "linecolor": "white",
            "showbackground": true,
            "ticks": "",
            "zerolinecolor": "white"
           }
          },
          "shapedefaults": {
           "line": {
            "color": "#2a3f5f"
           }
          },
          "ternary": {
           "aaxis": {
            "gridcolor": "white",
            "linecolor": "white",
            "ticks": ""
           },
           "baxis": {
            "gridcolor": "white",
            "linecolor": "white",
            "ticks": ""
           },
           "bgcolor": "#E5ECF6",
           "caxis": {
            "gridcolor": "white",
            "linecolor": "white",
            "ticks": ""
           }
          },
          "title": {
           "x": 0.05
          },
          "xaxis": {
           "automargin": true,
           "gridcolor": "white",
           "linecolor": "white",
           "ticks": "",
           "title": {
            "standoff": 15
           },
           "zerolinecolor": "white",
           "zerolinewidth": 2
          },
          "yaxis": {
           "automargin": true,
           "gridcolor": "white",
           "linecolor": "white",
           "ticks": "",
           "title": {
            "standoff": 15
           },
           "zerolinecolor": "white",
           "zerolinewidth": 2
          }
         }
        },
        "xaxis": {
         "anchor": "y",
         "domain": [
          0,
          1
         ],
         "title": {
          "text": "value"
         }
        },
        "yaxis": {
         "anchor": "x",
         "domain": [
          0,
          1
         ],
         "title": {
          "text": "variable"
         }
        }
       }
      }
     },
     "metadata": {},
     "output_type": "display_data"
    }
   ],
   "source": [
    "plty.box(X_lp5_df, x = [\"F_lp5\", \"T_lp5\"])"
   ]
  },
  {
   "attachments": {},
   "cell_type": "markdown",
   "metadata": {},
   "source": [
    "To know the class distribution"
   ]
  },
  {
   "cell_type": "code",
   "execution_count": 27,
   "metadata": {},
   "outputs": [
    {
     "data": {
      "text/plain": [
       "(array([0., 1., 2., 3., 4.]), array([44, 26, 21, 47, 26], dtype=int64))"
      ]
     },
     "execution_count": 27,
     "metadata": {},
     "output_type": "execute_result"
    }
   ],
   "source": [
    "np.unique(Y_lp5.to_numpy(), return_counts=True)"
   ]
  },
  {
   "attachments": {},
   "cell_type": "markdown",
   "metadata": {},
   "source": [
    "Training the dataset"
   ]
  },
  {
   "attachments": {},
   "cell_type": "markdown",
   "metadata": {},
   "source": [
    "Splitting test and train set in the ratio of 70:30"
   ]
  },
  {
   "cell_type": "code",
   "execution_count": 28,
   "metadata": {},
   "outputs": [],
   "source": [
    "from sklearn.model_selection import train_test_split\n",
    "\n",
    "lp5_train, lp5_test = train_test_split(X_lp5_df, test_size=0.3, random_state=2)\n"
   ]
  },
  {
   "attachments": {},
   "cell_type": "markdown",
   "metadata": {},
   "source": [
    "1. Decision Tree"
   ]
  },
  {
   "cell_type": "code",
   "execution_count": 29,
   "metadata": {},
   "outputs": [
    {
     "name": "stdout",
     "output_type": "stream",
     "text": [
      "Training using Decision Tree...\n"
     ]
    },
    {
     "data": {
      "text/html": [
       "<style>#sk-container-id-1 {color: black;background-color: white;}#sk-container-id-1 pre{padding: 0;}#sk-container-id-1 div.sk-toggleable {background-color: white;}#sk-container-id-1 label.sk-toggleable__label {cursor: pointer;display: block;width: 100%;margin-bottom: 0;padding: 0.3em;box-sizing: border-box;text-align: center;}#sk-container-id-1 label.sk-toggleable__label-arrow:before {content: \"▸\";float: left;margin-right: 0.25em;color: #696969;}#sk-container-id-1 label.sk-toggleable__label-arrow:hover:before {color: black;}#sk-container-id-1 div.sk-estimator:hover label.sk-toggleable__label-arrow:before {color: black;}#sk-container-id-1 div.sk-toggleable__content {max-height: 0;max-width: 0;overflow: hidden;text-align: left;background-color: #f0f8ff;}#sk-container-id-1 div.sk-toggleable__content pre {margin: 0.2em;color: black;border-radius: 0.25em;background-color: #f0f8ff;}#sk-container-id-1 input.sk-toggleable__control:checked~div.sk-toggleable__content {max-height: 200px;max-width: 100%;overflow: auto;}#sk-container-id-1 input.sk-toggleable__control:checked~label.sk-toggleable__label-arrow:before {content: \"▾\";}#sk-container-id-1 div.sk-estimator input.sk-toggleable__control:checked~label.sk-toggleable__label {background-color: #d4ebff;}#sk-container-id-1 div.sk-label input.sk-toggleable__control:checked~label.sk-toggleable__label {background-color: #d4ebff;}#sk-container-id-1 input.sk-hidden--visually {border: 0;clip: rect(1px 1px 1px 1px);clip: rect(1px, 1px, 1px, 1px);height: 1px;margin: -1px;overflow: hidden;padding: 0;position: absolute;width: 1px;}#sk-container-id-1 div.sk-estimator {font-family: monospace;background-color: #f0f8ff;border: 1px dotted black;border-radius: 0.25em;box-sizing: border-box;margin-bottom: 0.5em;}#sk-container-id-1 div.sk-estimator:hover {background-color: #d4ebff;}#sk-container-id-1 div.sk-parallel-item::after {content: \"\";width: 100%;border-bottom: 1px solid gray;flex-grow: 1;}#sk-container-id-1 div.sk-label:hover label.sk-toggleable__label {background-color: #d4ebff;}#sk-container-id-1 div.sk-serial::before {content: \"\";position: absolute;border-left: 1px solid gray;box-sizing: border-box;top: 0;bottom: 0;left: 50%;z-index: 0;}#sk-container-id-1 div.sk-serial {display: flex;flex-direction: column;align-items: center;background-color: white;padding-right: 0.2em;padding-left: 0.2em;position: relative;}#sk-container-id-1 div.sk-item {position: relative;z-index: 1;}#sk-container-id-1 div.sk-parallel {display: flex;align-items: stretch;justify-content: center;background-color: white;position: relative;}#sk-container-id-1 div.sk-item::before, #sk-container-id-1 div.sk-parallel-item::before {content: \"\";position: absolute;border-left: 1px solid gray;box-sizing: border-box;top: 0;bottom: 0;left: 50%;z-index: -1;}#sk-container-id-1 div.sk-parallel-item {display: flex;flex-direction: column;z-index: 1;position: relative;background-color: white;}#sk-container-id-1 div.sk-parallel-item:first-child::after {align-self: flex-end;width: 50%;}#sk-container-id-1 div.sk-parallel-item:last-child::after {align-self: flex-start;width: 50%;}#sk-container-id-1 div.sk-parallel-item:only-child::after {width: 0;}#sk-container-id-1 div.sk-dashed-wrapped {border: 1px dashed gray;margin: 0 0.4em 0.5em 0.4em;box-sizing: border-box;padding-bottom: 0.4em;background-color: white;}#sk-container-id-1 div.sk-label label {font-family: monospace;font-weight: bold;display: inline-block;line-height: 1.2em;}#sk-container-id-1 div.sk-label-container {text-align: center;}#sk-container-id-1 div.sk-container {/* jupyter's `normalize.less` sets `[hidden] { display: none; }` but bootstrap.min.css set `[hidden] { display: none !important; }` so we also need the `!important` here to be able to override the default hidden behavior on the sphinx rendered scikit-learn.org. See: https://github.com/scikit-learn/scikit-learn/issues/21755 */display: inline-block !important;position: relative;}#sk-container-id-1 div.sk-text-repr-fallback {display: none;}</style><div id=\"sk-container-id-1\" class=\"sk-top-container\"><div class=\"sk-text-repr-fallback\"><pre>DecisionTreeClassifier(criterion=&#x27;log_loss&#x27;, max_depth=6, max_features=5,\n",
       "                       max_leaf_nodes=5)</pre><b>In a Jupyter environment, please rerun this cell to show the HTML representation or trust the notebook. <br />On GitHub, the HTML representation is unable to render, please try loading this page with nbviewer.org.</b></div><div class=\"sk-container\" hidden><div class=\"sk-item\"><div class=\"sk-estimator sk-toggleable\"><input class=\"sk-toggleable__control sk-hidden--visually\" id=\"sk-estimator-id-1\" type=\"checkbox\" checked><label for=\"sk-estimator-id-1\" class=\"sk-toggleable__label sk-toggleable__label-arrow\">DecisionTreeClassifier</label><div class=\"sk-toggleable__content\"><pre>DecisionTreeClassifier(criterion=&#x27;log_loss&#x27;, max_depth=6, max_features=5,\n",
       "                       max_leaf_nodes=5)</pre></div></div></div></div></div>"
      ],
      "text/plain": [
       "DecisionTreeClassifier(criterion='log_loss', max_depth=6, max_features=5,\n",
       "                       max_leaf_nodes=5)"
      ]
     },
     "execution_count": 29,
     "metadata": {},
     "output_type": "execute_result"
    }
   ],
   "source": [
    "print(\"Training using Decision Tree...\")\n",
    "from sklearn import tree\n",
    "from sklearn.metrics import accuracy_score\n",
    "from sklearn.metrics import confusion_matrix, recall_score, precision_score, f1_score\n",
    "from sklearn.model_selection import cross_validate\n",
    "acc = pd.DataFrame(columns={\"Model\": [], \"Train\": [], \"Dev\": [], \"Test\":[], \"Precision Score\": [], \"Recall Score\": [], \"F1 Score\": [] })\n",
    "X = lp5_train[[\"F_lp5\", \"T_lp5\" ]]\n",
    "Y = lp5_train[\"Y_lp5\"]\n",
    "lp5_model = tree.DecisionTreeClassifier(criterion=\"log_loss\", max_depth=6, max_features=5, max_leaf_nodes=5)\n",
    "treemodel = cross_validate(lp5_model, X, Y, cv=5,return_train_score=True)\n",
    "lp5_model.fit(X, Y)"
   ]
  },
  {
   "attachments": {},
   "cell_type": "markdown",
   "metadata": {},
   "source": [
    "Results"
   ]
  },
  {
   "cell_type": "code",
   "execution_count": 30,
   "metadata": {},
   "outputs": [
    {
     "name": "stdout",
     "output_type": "stream",
     "text": [
      "++++++Decision Tree++++++\n",
      "+++Train Results+++\n",
      "Parametes: \n",
      " {'ccp_alpha': 0.0, 'class_weight': None, 'criterion': 'log_loss', 'max_depth': 6, 'max_features': 5, 'max_leaf_nodes': 5, 'min_impurity_decrease': 0.0, 'min_samples_leaf': 1, 'min_samples_split': 2, 'min_weight_fraction_leaf': 0.0, 'random_state': None, 'splitter': 'best'}\n",
      "\n",
      "Train Score 0.686383182035356\n",
      "_____________________________________________________________________________________\n",
      "Validation Score 0.6316205533596837\n",
      "_____________________________________________________________________________________\n",
      "\n",
      "+++Test Results+++\n",
      "Parametes: \n",
      " {'ccp_alpha': 0.0, 'class_weight': None, 'criterion': 'log_loss', 'max_depth': 6, 'max_features': 5, 'max_leaf_nodes': 5, 'min_impurity_decrease': 0.0, 'min_samples_leaf': 1, 'min_samples_split': 2, 'min_weight_fraction_leaf': 0.0, 'random_state': None, 'splitter': 'best'}\n",
      "\n",
      "Test accuracy score 0.56\n",
      "\n",
      "Confusion Matrix:\n",
      " [[11  0  0  1  0]\n",
      " [ 0  0  2  7  0]\n",
      " [ 0  0  5  1  0]\n",
      " [ 2  0  0 12  0]\n",
      " [ 0  0  0  9  0]]\n",
      "\n",
      "Precision Score: [0.84615385 0.         0.71428571 0.4        0.        ]\n",
      "Recall Score: [0.91666667 0.         0.83333333 0.85714286 0.        ]\n",
      "F1 Score: [0.88       0.         0.76923077 0.54545455 0.        ]\n"
     ]
    }
   ],
   "source": [
    "print(\"++++++Decision Tree++++++\")\n",
    "print(\"+++Train Results+++\\nParametes: \\n\",lp5_model.get_params())\n",
    "train_pred = lp5_model.predict(lp5_train[[\"F_lp5\", \"T_lp5\"]])\n",
    "accuracy_scr1 = treemodel['train_score'].mean()\n",
    "print(\"\\nTrain Score\", treemodel['train_score'].mean())\n",
    "print(\"_____________________________________________________________________________________\")\n",
    "print(\"Validation Score\", treemodel['test_score'].mean())\n",
    "print(\"_____________________________________________________________________________________\")\n",
    "print(\"\\n+++Test Results+++\\nParametes: \\n\",lp5_model.get_params())\n",
    "test_pred = lp5_model.predict(lp5_test[[\"F_lp5\", \"T_lp5\"]])\n",
    "#print(\"\\nPrediction of test set:\", test_pred)\n",
    "accuracy_scr2 = accuracy_score(lp5_test[\"Y_lp5\"], test_pred)\n",
    "print(\"\\nTest accuracy score\", accuracy_scr2)\n",
    "confMat = confusion_matrix(lp5_test[\"Y_lp5\"], test_pred, labels=[0,1,2,3,4])\n",
    "print(\"\\nConfusion Matrix:\\n\",confMat)\n",
    "prec_tree = precision_score(lp5_test[\"Y_lp5\"], test_pred, average=None, zero_division=0)\n",
    "print(\"\\nPrecision Score:\",prec_tree)\n",
    "Rec_tree = recall_score(lp5_test[\"Y_lp5\"], test_pred, average=None, zero_division=0)\n",
    "print(\"Recall Score:\",Rec_tree)\n",
    "f1_tree = f1_score(lp5_test[\"Y_lp5\"], test_pred, average=None, zero_division=0)\n",
    "print(\"F1 Score:\",f1_tree)\n",
    "acc.loc[len(acc.index)] = ['Decision Tree', accuracy_scr1, treemodel['test_score'].mean(), accuracy_scr2, prec_tree.mean(), Rec_tree.mean(), f1_tree.mean()] "
   ]
  },
  {
   "cell_type": "code",
   "execution_count": 31,
   "metadata": {},
   "outputs": [],
   "source": [
    "#lp5_model.predict_proba(lp5_test[[\"F_lp5\", \"T_lp5\"]])"
   ]
  },
  {
   "attachments": {},
   "cell_type": "markdown",
   "metadata": {},
   "source": [
    "Printing the tree"
   ]
  },
  {
   "cell_type": "code",
   "execution_count": 32,
   "metadata": {},
   "outputs": [
    {
     "data": {
      "text/plain": [
       "[Text(0.5, 0.9, 'X[0] <= 0.043\\nlog_loss = 2.236\\nsamples = 114\\nvalue = [32, 17, 15, 33, 17]'),\n",
       " Text(0.3333333333333333, 0.7, 'X[1] <= 0.007\\nlog_loss = 1.959\\nsamples = 96\\nvalue = [32, 13, 1, 33, 17]'),\n",
       " Text(0.16666666666666666, 0.5, 'log_loss = 0.866\\nsamples = 25\\nvalue = [20, 4, 0, 1, 0]'),\n",
       " Text(0.5, 0.5, 'X[0] <= 0.021\\nlog_loss = 1.91\\nsamples = 71\\nvalue = [12, 9, 1, 32, 17]'),\n",
       " Text(0.3333333333333333, 0.3, 'log_loss = 1.361\\nsamples = 38\\nvalue = [0, 7, 0, 23, 8]'),\n",
       " Text(0.6666666666666666, 0.3, 'X[0] <= 0.022\\nlog_loss = 1.951\\nsamples = 33\\nvalue = [12, 2, 1, 9, 9]'),\n",
       " Text(0.5, 0.1, 'log_loss = 0.0\\nsamples = 12\\nvalue = [12, 0, 0, 0, 0]'),\n",
       " Text(0.8333333333333334, 0.1, 'log_loss = 1.58\\nsamples = 21\\nvalue = [0, 2, 1, 9, 9]'),\n",
       " Text(0.6666666666666666, 0.7, 'log_loss = 0.764\\nsamples = 18\\nvalue = [0, 4, 14, 0, 0]')]"
      ]
     },
     "execution_count": 32,
     "metadata": {},
     "output_type": "execute_result"
    },
    {
     "data": {
      "image/png": "[encoded data removed]",
      "text/plain": [
       "<Figure size 432x288 with 1 Axes>"
      ]
     },
     "metadata": {
      "needs_background": "light"
     },
     "output_type": "display_data"
    }
   ],
   "source": [
    "tree.plot_tree(lp5_model)"
   ]
  },
  {
   "attachments": {},
   "cell_type": "markdown",
   "metadata": {},
   "source": [
    "Exporting the model to txt file"
   ]
  },
  {
   "cell_type": "code",
   "execution_count": 33,
   "metadata": {},
   "outputs": [],
   "source": [
    "# from sklearn.tree import export_text\n",
    "# lp5export_tree = export_text(lp5_model) \n",
    "# with open('lp5exportree.txt', 'w') as f:\n",
    "#     f.writelines(lp5export_tree)"
   ]
  },
  {
   "attachments": {},
   "cell_type": "markdown",
   "metadata": {},
   "source": [
    "2. Random Forest Classifier"
   ]
  },
  {
   "cell_type": "code",
   "execution_count": 34,
   "metadata": {},
   "outputs": [
    {
     "data": {
      "text/html": [
       "<style>#sk-container-id-2 {color: black;background-color: white;}#sk-container-id-2 pre{padding: 0;}#sk-container-id-2 div.sk-toggleable {background-color: white;}#sk-container-id-2 label.sk-toggleable__label {cursor: pointer;display: block;width: 100%;margin-bottom: 0;padding: 0.3em;box-sizing: border-box;text-align: center;}#sk-container-id-2 label.sk-toggleable__label-arrow:before {content: \"▸\";float: left;margin-right: 0.25em;color: #696969;}#sk-container-id-2 label.sk-toggleable__label-arrow:hover:before {color: black;}#sk-container-id-2 div.sk-estimator:hover label.sk-toggleable__label-arrow:before {color: black;}#sk-container-id-2 div.sk-toggleable__content {max-height: 0;max-width: 0;overflow: hidden;text-align: left;background-color: #f0f8ff;}#sk-container-id-2 div.sk-toggleable__content pre {margin: 0.2em;color: black;border-radius: 0.25em;background-color: #f0f8ff;}#sk-container-id-2 input.sk-toggleable__control:checked~div.sk-toggleable__content {max-height: 200px;max-width: 100%;overflow: auto;}#sk-container-id-2 input.sk-toggleable__control:checked~label.sk-toggleable__label-arrow:before {content: \"▾\";}#sk-container-id-2 div.sk-estimator input.sk-toggleable__control:checked~label.sk-toggleable__label {background-color: #d4ebff;}#sk-container-id-2 div.sk-label input.sk-toggleable__control:checked~label.sk-toggleable__label {background-color: #d4ebff;}#sk-container-id-2 input.sk-hidden--visually {border: 0;clip: rect(1px 1px 1px 1px);clip: rect(1px, 1px, 1px, 1px);height: 1px;margin: -1px;overflow: hidden;padding: 0;position: absolute;width: 1px;}#sk-container-id-2 div.sk-estimator {font-family: monospace;background-color: #f0f8ff;border: 1px dotted black;border-radius: 0.25em;box-sizing: border-box;margin-bottom: 0.5em;}#sk-container-id-2 div.sk-estimator:hover {background-color: #d4ebff;}#sk-container-id-2 div.sk-parallel-item::after {content: \"\";width: 100%;border-bottom: 1px solid gray;flex-grow: 1;}#sk-container-id-2 div.sk-label:hover label.sk-toggleable__label {background-color: #d4ebff;}#sk-container-id-2 div.sk-serial::before {content: \"\";position: absolute;border-left: 1px solid gray;box-sizing: border-box;top: 0;bottom: 0;left: 50%;z-index: 0;}#sk-container-id-2 div.sk-serial {display: flex;flex-direction: column;align-items: center;background-color: white;padding-right: 0.2em;padding-left: 0.2em;position: relative;}#sk-container-id-2 div.sk-item {position: relative;z-index: 1;}#sk-container-id-2 div.sk-parallel {display: flex;align-items: stretch;justify-content: center;background-color: white;position: relative;}#sk-container-id-2 div.sk-item::before, #sk-container-id-2 div.sk-parallel-item::before {content: \"\";position: absolute;border-left: 1px solid gray;box-sizing: border-box;top: 0;bottom: 0;left: 50%;z-index: -1;}#sk-container-id-2 div.sk-parallel-item {display: flex;flex-direction: column;z-index: 1;position: relative;background-color: white;}#sk-container-id-2 div.sk-parallel-item:first-child::after {align-self: flex-end;width: 50%;}#sk-container-id-2 div.sk-parallel-item:last-child::after {align-self: flex-start;width: 50%;}#sk-container-id-2 div.sk-parallel-item:only-child::after {width: 0;}#sk-container-id-2 div.sk-dashed-wrapped {border: 1px dashed gray;margin: 0 0.4em 0.5em 0.4em;box-sizing: border-box;padding-bottom: 0.4em;background-color: white;}#sk-container-id-2 div.sk-label label {font-family: monospace;font-weight: bold;display: inline-block;line-height: 1.2em;}#sk-container-id-2 div.sk-label-container {text-align: center;}#sk-container-id-2 div.sk-container {/* jupyter's `normalize.less` sets `[hidden] { display: none; }` but bootstrap.min.css set `[hidden] { display: none !important; }` so we also need the `!important` here to be able to override the default hidden behavior on the sphinx rendered scikit-learn.org. See: https://github.com/scikit-learn/scikit-learn/issues/21755 */display: inline-block !important;position: relative;}#sk-container-id-2 div.sk-text-repr-fallback {display: none;}</style><div id=\"sk-container-id-2\" class=\"sk-top-container\"><div class=\"sk-text-repr-fallback\"><pre>RandomForestClassifier(criterion=&#x27;log_loss&#x27;, max_depth=3, max_features=5,\n",
       "                       max_leaf_nodes=5)</pre><b>In a Jupyter environment, please rerun this cell to show the HTML representation or trust the notebook. <br />On GitHub, the HTML representation is unable to render, please try loading this page with nbviewer.org.</b></div><div class=\"sk-container\" hidden><div class=\"sk-item\"><div class=\"sk-estimator sk-toggleable\"><input class=\"sk-toggleable__control sk-hidden--visually\" id=\"sk-estimator-id-2\" type=\"checkbox\" checked><label for=\"sk-estimator-id-2\" class=\"sk-toggleable__label sk-toggleable__label-arrow\">RandomForestClassifier</label><div class=\"sk-toggleable__content\"><pre>RandomForestClassifier(criterion=&#x27;log_loss&#x27;, max_depth=3, max_features=5,\n",
       "                       max_leaf_nodes=5)</pre></div></div></div></div></div>"
      ],
      "text/plain": [
       "RandomForestClassifier(criterion='log_loss', max_depth=3, max_features=5,\n",
       "                       max_leaf_nodes=5)"
      ]
     },
     "execution_count": 34,
     "metadata": {},
     "output_type": "execute_result"
    }
   ],
   "source": [
    "from sklearn.ensemble import RandomForestClassifier\n",
    "lp5_forest = RandomForestClassifier(criterion=\"log_loss\", max_depth=3, max_features=5, max_leaf_nodes=5)\n",
    "X = lp5_train[[\"F_lp5\", \"T_lp5\"]]\n",
    "Y = lp5_train[\"Y_lp5\"]\n",
    "forestmodel = cross_validate(lp5_forest, X, Y, cv=3,return_train_score=True)\n",
    "lp5_forest.fit(X, Y)"
   ]
  },
  {
   "cell_type": "code",
   "execution_count": 35,
   "metadata": {},
   "outputs": [
    {
     "name": "stdout",
     "output_type": "stream",
     "text": [
      "++++++Random Forest++++++\n",
      "+++Train Results+++\n",
      "Parametes: \n",
      " {'bootstrap': True, 'ccp_alpha': 0.0, 'class_weight': None, 'criterion': 'log_loss', 'max_depth': 3, 'max_features': 5, 'max_leaf_nodes': 5, 'max_samples': None, 'min_impurity_decrease': 0.0, 'min_samples_leaf': 1, 'min_samples_split': 2, 'min_weight_fraction_leaf': 0.0, 'n_estimators': 100, 'n_jobs': None, 'oob_score': False, 'random_state': None, 'verbose': 0, 'warm_start': False}\n",
      "\n",
      "Train Score 0.7192982456140351\n",
      "_____________________________________________________________________________________\n",
      "Validation Score 0.6228070175438596\n",
      "_____________________________________________________________________________________\n",
      "+++Test Results+++\n",
      "Parametes: \n",
      " {'bootstrap': True, 'ccp_alpha': 0.0, 'class_weight': None, 'criterion': 'log_loss', 'max_depth': 3, 'max_features': 5, 'max_leaf_nodes': 5, 'max_samples': None, 'min_impurity_decrease': 0.0, 'min_samples_leaf': 1, 'min_samples_split': 2, 'min_weight_fraction_leaf': 0.0, 'n_estimators': 100, 'n_jobs': None, 'oob_score': False, 'random_state': None, 'verbose': 0, 'warm_start': False}\n",
      "\n",
      "Test accuracy score 0.58\n",
      "Confusion Matrix:\n",
      " [[12  0  0  0  0]\n",
      " [ 1  2  0  6  0]\n",
      " [ 0  0  5  1  0]\n",
      " [ 4  0  0 10  0]\n",
      " [ 2  0  0  7  0]]\n",
      "\n",
      "Precision Score: [0.63157895 1.         1.         0.41666667 0.        ]\n",
      "Recall Score: [1.         0.22222222 0.83333333 0.71428571 0.        ]\n",
      "F1 Score: [0.77419355 0.36363636 0.90909091 0.52631579 0.        ]\n"
     ]
    }
   ],
   "source": [
    "print(\"++++++Random Forest++++++\")\n",
    "print(\"+++Train Results+++\\nParametes: \\n\",lp5_forest.get_params())\n",
    "train_pred = lp5_forest.predict(lp5_train[[\"F_lp5\", \"T_lp5\"]])\n",
    "accuracy_scr1 = forestmodel['train_score'].mean()\n",
    "print(\"\\nTrain Score\", forestmodel['train_score'].mean())\n",
    "print(\"_____________________________________________________________________________________\")\n",
    "print(\"Validation Score\", forestmodel['test_score'].mean())\n",
    "print(\"_____________________________________________________________________________________\")\n",
    "print(\"+++Test Results+++\\nParametes: \\n\",lp5_forest.get_params())\n",
    "test_pred = lp5_forest.predict(lp5_test[[\"F_lp5\", \"T_lp5\"]])\n",
    "#print(\"\\nPrediction of test set:\", test_pred)\n",
    "accuracy_scr2 = accuracy_score(lp5_test[\"Y_lp5\"], test_pred)\n",
    "print(\"\\nTest accuracy score\", accuracy_scr2)\n",
    "confMat = confusion_matrix(lp5_test[\"Y_lp5\"], test_pred, labels=[0,1,2,3,4])\n",
    "print(\"Confusion Matrix:\\n\",confMat)\n",
    "prec_forest = precision_score(lp5_test[\"Y_lp5\"], test_pred, average=None, zero_division=0)\n",
    "print(\"\\nPrecision Score:\",prec_forest)\n",
    "Rec_forest = recall_score(lp5_test[\"Y_lp5\"], test_pred, average=None, zero_division=0)\n",
    "print(\"Recall Score:\",Rec_forest)\n",
    "f1_forest = f1_score(lp5_test[\"Y_lp5\"], test_pred, average=None, zero_division=0)\n",
    "print(\"F1 Score:\",f1_forest)\n",
    "acc.loc[len(acc.index)] = ['Random Forest', accuracy_scr1, forestmodel['test_score'].mean(), accuracy_scr2, prec_forest.mean(), Rec_forest.mean(), f1_forest.mean()] "
   ]
  },
  {
   "attachments": {},
   "cell_type": "markdown",
   "metadata": {},
   "source": [
    "3. Support Vector Machines"
   ]
  },
  {
   "cell_type": "code",
   "execution_count": 36,
   "metadata": {},
   "outputs": [
    {
     "data": {
      "text/html": [
       "<style>#sk-container-id-3 {color: black;background-color: white;}#sk-container-id-3 pre{padding: 0;}#sk-container-id-3 div.sk-toggleable {background-color: white;}#sk-container-id-3 label.sk-toggleable__label {cursor: pointer;display: block;width: 100%;margin-bottom: 0;padding: 0.3em;box-sizing: border-box;text-align: center;}#sk-container-id-3 label.sk-toggleable__label-arrow:before {content: \"▸\";float: left;margin-right: 0.25em;color: #696969;}#sk-container-id-3 label.sk-toggleable__label-arrow:hover:before {color: black;}#sk-container-id-3 div.sk-estimator:hover label.sk-toggleable__label-arrow:before {color: black;}#sk-container-id-3 div.sk-toggleable__content {max-height: 0;max-width: 0;overflow: hidden;text-align: left;background-color: #f0f8ff;}#sk-container-id-3 div.sk-toggleable__content pre {margin: 0.2em;color: black;border-radius: 0.25em;background-color: #f0f8ff;}#sk-container-id-3 input.sk-toggleable__control:checked~div.sk-toggleable__content {max-height: 200px;max-width: 100%;overflow: auto;}#sk-container-id-3 input.sk-toggleable__control:checked~label.sk-toggleable__label-arrow:before {content: \"▾\";}#sk-container-id-3 div.sk-estimator input.sk-toggleable__control:checked~label.sk-toggleable__label {background-color: #d4ebff;}#sk-container-id-3 div.sk-label input.sk-toggleable__control:checked~label.sk-toggleable__label {background-color: #d4ebff;}#sk-container-id-3 input.sk-hidden--visually {border: 0;clip: rect(1px 1px 1px 1px);clip: rect(1px, 1px, 1px, 1px);height: 1px;margin: -1px;overflow: hidden;padding: 0;position: absolute;width: 1px;}#sk-container-id-3 div.sk-estimator {font-family: monospace;background-color: #f0f8ff;border: 1px dotted black;border-radius: 0.25em;box-sizing: border-box;margin-bottom: 0.5em;}#sk-container-id-3 div.sk-estimator:hover {background-color: #d4ebff;}#sk-container-id-3 div.sk-parallel-item::after {content: \"\";width: 100%;border-bottom: 1px solid gray;flex-grow: 1;}#sk-container-id-3 div.sk-label:hover label.sk-toggleable__label {background-color: #d4ebff;}#sk-container-id-3 div.sk-serial::before {content: \"\";position: absolute;border-left: 1px solid gray;box-sizing: border-box;top: 0;bottom: 0;left: 50%;z-index: 0;}#sk-container-id-3 div.sk-serial {display: flex;flex-direction: column;align-items: center;background-color: white;padding-right: 0.2em;padding-left: 0.2em;position: relative;}#sk-container-id-3 div.sk-item {position: relative;z-index: 1;}#sk-container-id-3 div.sk-parallel {display: flex;align-items: stretch;justify-content: center;background-color: white;position: relative;}#sk-container-id-3 div.sk-item::before, #sk-container-id-3 div.sk-parallel-item::before {content: \"\";position: absolute;border-left: 1px solid gray;box-sizing: border-box;top: 0;bottom: 0;left: 50%;z-index: -1;}#sk-container-id-3 div.sk-parallel-item {display: flex;flex-direction: column;z-index: 1;position: relative;background-color: white;}#sk-container-id-3 div.sk-parallel-item:first-child::after {align-self: flex-end;width: 50%;}#sk-container-id-3 div.sk-parallel-item:last-child::after {align-self: flex-start;width: 50%;}#sk-container-id-3 div.sk-parallel-item:only-child::after {width: 0;}#sk-container-id-3 div.sk-dashed-wrapped {border: 1px dashed gray;margin: 0 0.4em 0.5em 0.4em;box-sizing: border-box;padding-bottom: 0.4em;background-color: white;}#sk-container-id-3 div.sk-label label {font-family: monospace;font-weight: bold;display: inline-block;line-height: 1.2em;}#sk-container-id-3 div.sk-label-container {text-align: center;}#sk-container-id-3 div.sk-container {/* jupyter's `normalize.less` sets `[hidden] { display: none; }` but bootstrap.min.css set `[hidden] { display: none !important; }` so we also need the `!important` here to be able to override the default hidden behavior on the sphinx rendered scikit-learn.org. See: https://github.com/scikit-learn/scikit-learn/issues/21755 */display: inline-block !important;position: relative;}#sk-container-id-3 div.sk-text-repr-fallback {display: none;}</style><div id=\"sk-container-id-3\" class=\"sk-top-container\"><div class=\"sk-text-repr-fallback\"><pre>SVC(C=2.9)</pre><b>In a Jupyter environment, please rerun this cell to show the HTML representation or trust the notebook. <br />On GitHub, the HTML representation is unable to render, please try loading this page with nbviewer.org.</b></div><div class=\"sk-container\" hidden><div class=\"sk-item\"><div class=\"sk-estimator sk-toggleable\"><input class=\"sk-toggleable__control sk-hidden--visually\" id=\"sk-estimator-id-3\" type=\"checkbox\" checked><label for=\"sk-estimator-id-3\" class=\"sk-toggleable__label sk-toggleable__label-arrow\">SVC</label><div class=\"sk-toggleable__content\"><pre>SVC(C=2.9)</pre></div></div></div></div></div>"
      ],
      "text/plain": [
       "SVC(C=2.9)"
      ]
     },
     "execution_count": 36,
     "metadata": {},
     "output_type": "execute_result"
    }
   ],
   "source": [
    "from sklearn import svm\n",
    "X = lp5_train[[\"F_lp5\", \"T_lp5\" ]]\n",
    "Y = lp5_train[\"Y_lp5\"]\n",
    "lp5_SVM_Model = svm.SVC(kernel='rbf', C=2.9)\n",
    "svmmodel = cross_validate(lp5_SVM_Model, X, Y, cv=3,return_train_score=True)\n",
    "lp5_SVM_Model.fit(X, Y)"
   ]
  },
  {
   "cell_type": "code",
   "execution_count": 37,
   "metadata": {},
   "outputs": [
    {
     "name": "stdout",
     "output_type": "stream",
     "text": [
      "++++++Support Vector Machines++++++\n",
      "+++Train Results+++\n",
      "Parametes: \n",
      " {'C': 2.9, 'break_ties': False, 'cache_size': 200, 'class_weight': None, 'coef0': 0.0, 'decision_function_shape': 'ovr', 'degree': 3, 'gamma': 'scale', 'kernel': 'rbf', 'max_iter': -1, 'probability': False, 'random_state': None, 'shrinking': True, 'tol': 0.001, 'verbose': False}\n",
      "\n",
      "Train Score 0.5350877192982456\n",
      "_____________________________________________________________________________________\n",
      "Validation Score 0.5263157894736842\n",
      "_____________________________________________________________________________________\n",
      "+++Test Results+++\n",
      "Parametes: \n",
      " {'C': 2.9, 'break_ties': False, 'cache_size': 200, 'class_weight': None, 'coef0': 0.0, 'decision_function_shape': 'ovr', 'degree': 3, 'gamma': 'scale', 'kernel': 'rbf', 'max_iter': -1, 'probability': False, 'random_state': None, 'shrinking': True, 'tol': 0.001, 'verbose': False}\n",
      "\n",
      "Test Accuracy 0.44\n",
      "Confusion Matrix:\n",
      " [[12  0  0  0  0]\n",
      " [ 6  0  0  3  0]\n",
      " [ 1  0  5  0  0]\n",
      " [ 9  0  0  5  0]\n",
      " [ 3  0  0  6  0]]\n",
      "\n",
      "Precision Score: [0.38709677 0.         1.         0.35714286 0.        ]\n",
      "Recall Score: [1.         0.         0.83333333 0.35714286 0.        ]\n",
      "F1 Score: [0.55813953 0.         0.90909091 0.35714286 0.        ]\n"
     ]
    }
   ],
   "source": [
    "print(\"++++++Support Vector Machines++++++\")\n",
    "print(\"+++Train Results+++\\nParametes: \\n\",lp5_SVM_Model.get_params())\n",
    "train_pred = lp5_SVM_Model.predict(lp5_train[[\"F_lp5\", \"T_lp5\"]])\n",
    "accuracy_scr1 = svmmodel['train_score'].mean()\n",
    "print(\"\\nTrain Score\", svmmodel['train_score'].mean())\n",
    "print(\"_____________________________________________________________________________________\")\n",
    "print(\"Validation Score\", svmmodel['test_score'].mean())\n",
    "print(\"_____________________________________________________________________________________\")\n",
    "print(\"+++Test Results+++\\nParametes: \\n\",lp5_SVM_Model.get_params())\n",
    "X_test = lp5_test[[\"F_lp5\", \"T_lp5\" ]]\n",
    "Y_test = lp5_test[\"Y_lp5\"]\n",
    "test_pred = lp5_SVM_Model.predict(X_test)\n",
    "accuracy_scr2 = accuracy_score(Y_test, test_pred)\n",
    "print(\"\\nTest Accuracy\", accuracy_scr2)\n",
    "confMat = confusion_matrix(lp5_test[\"Y_lp5\"], test_pred, labels=[0,1,2,3,4])\n",
    "print(\"Confusion Matrix:\\n\",confMat)\n",
    "prec_SVM = precision_score(lp5_test[\"Y_lp5\"], test_pred, average=None, zero_division=0)\n",
    "print(\"\\nPrecision Score:\",prec_SVM)\n",
    "Rec_SVM = recall_score(lp5_test[\"Y_lp5\"], test_pred, average=None, zero_division=0)\n",
    "print(\"Recall Score:\",Rec_SVM)\n",
    "f1_SVM = f1_score(lp5_test[\"Y_lp5\"], test_pred, average=None, zero_division=0)\n",
    "print(\"F1 Score:\",f1_SVM)\n",
    "acc.loc[len(acc.index)] = ['SVM', accuracy_scr1, svmmodel['test_score'].mean(), accuracy_scr2,prec_SVM.mean(), Rec_SVM.mean(), f1_SVM.mean()] "
   ]
  },
  {
   "attachments": {},
   "cell_type": "markdown",
   "metadata": {},
   "source": [
    "4. Gaussian Naive Bayes"
   ]
  },
  {
   "cell_type": "code",
   "execution_count": 38,
   "metadata": {},
   "outputs": [
    {
     "data": {
      "text/html": [
       "<style>#sk-container-id-4 {color: black;background-color: white;}#sk-container-id-4 pre{padding: 0;}#sk-container-id-4 div.sk-toggleable {background-color: white;}#sk-container-id-4 label.sk-toggleable__label {cursor: pointer;display: block;width: 100%;margin-bottom: 0;padding: 0.3em;box-sizing: border-box;text-align: center;}#sk-container-id-4 label.sk-toggleable__label-arrow:before {content: \"▸\";float: left;margin-right: 0.25em;color: #696969;}#sk-container-id-4 label.sk-toggleable__label-arrow:hover:before {color: black;}#sk-container-id-4 div.sk-estimator:hover label.sk-toggleable__label-arrow:before {color: black;}#sk-container-id-4 div.sk-toggleable__content {max-height: 0;max-width: 0;overflow: hidden;text-align: left;background-color: #f0f8ff;}#sk-container-id-4 div.sk-toggleable__content pre {margin: 0.2em;color: black;border-radius: 0.25em;background-color: #f0f8ff;}#sk-container-id-4 input.sk-toggleable__control:checked~div.sk-toggleable__content {max-height: 200px;max-width: 100%;overflow: auto;}#sk-container-id-4 input.sk-toggleable__control:checked~label.sk-toggleable__label-arrow:before {content: \"▾\";}#sk-container-id-4 div.sk-estimator input.sk-toggleable__control:checked~label.sk-toggleable__label {background-color: #d4ebff;}#sk-container-id-4 div.sk-label input.sk-toggleable__control:checked~label.sk-toggleable__label {background-color: #d4ebff;}#sk-container-id-4 input.sk-hidden--visually {border: 0;clip: rect(1px 1px 1px 1px);clip: rect(1px, 1px, 1px, 1px);height: 1px;margin: -1px;overflow: hidden;padding: 0;position: absolute;width: 1px;}#sk-container-id-4 div.sk-estimator {font-family: monospace;background-color: #f0f8ff;border: 1px dotted black;border-radius: 0.25em;box-sizing: border-box;margin-bottom: 0.5em;}#sk-container-id-4 div.sk-estimator:hover {background-color: #d4ebff;}#sk-container-id-4 div.sk-parallel-item::after {content: \"\";width: 100%;border-bottom: 1px solid gray;flex-grow: 1;}#sk-container-id-4 div.sk-label:hover label.sk-toggleable__label {background-color: #d4ebff;}#sk-container-id-4 div.sk-serial::before {content: \"\";position: absolute;border-left: 1px solid gray;box-sizing: border-box;top: 0;bottom: 0;left: 50%;z-index: 0;}#sk-container-id-4 div.sk-serial {display: flex;flex-direction: column;align-items: center;background-color: white;padding-right: 0.2em;padding-left: 0.2em;position: relative;}#sk-container-id-4 div.sk-item {position: relative;z-index: 1;}#sk-container-id-4 div.sk-parallel {display: flex;align-items: stretch;justify-content: center;background-color: white;position: relative;}#sk-container-id-4 div.sk-item::before, #sk-container-id-4 div.sk-parallel-item::before {content: \"\";position: absolute;border-left: 1px solid gray;box-sizing: border-box;top: 0;bottom: 0;left: 50%;z-index: -1;}#sk-container-id-4 div.sk-parallel-item {display: flex;flex-direction: column;z-index: 1;position: relative;background-color: white;}#sk-container-id-4 div.sk-parallel-item:first-child::after {align-self: flex-end;width: 50%;}#sk-container-id-4 div.sk-parallel-item:last-child::after {align-self: flex-start;width: 50%;}#sk-container-id-4 div.sk-parallel-item:only-child::after {width: 0;}#sk-container-id-4 div.sk-dashed-wrapped {border: 1px dashed gray;margin: 0 0.4em 0.5em 0.4em;box-sizing: border-box;padding-bottom: 0.4em;background-color: white;}#sk-container-id-4 div.sk-label label {font-family: monospace;font-weight: bold;display: inline-block;line-height: 1.2em;}#sk-container-id-4 div.sk-label-container {text-align: center;}#sk-container-id-4 div.sk-container {/* jupyter's `normalize.less` sets `[hidden] { display: none; }` but bootstrap.min.css set `[hidden] { display: none !important; }` so we also need the `!important` here to be able to override the default hidden behavior on the sphinx rendered scikit-learn.org. See: https://github.com/scikit-learn/scikit-learn/issues/21755 */display: inline-block !important;position: relative;}#sk-container-id-4 div.sk-text-repr-fallback {display: none;}</style><div id=\"sk-container-id-4\" class=\"sk-top-container\"><div class=\"sk-text-repr-fallback\"><pre>GaussianNB()</pre><b>In a Jupyter environment, please rerun this cell to show the HTML representation or trust the notebook. <br />On GitHub, the HTML representation is unable to render, please try loading this page with nbviewer.org.</b></div><div class=\"sk-container\" hidden><div class=\"sk-item\"><div class=\"sk-estimator sk-toggleable\"><input class=\"sk-toggleable__control sk-hidden--visually\" id=\"sk-estimator-id-4\" type=\"checkbox\" checked><label for=\"sk-estimator-id-4\" class=\"sk-toggleable__label sk-toggleable__label-arrow\">GaussianNB</label><div class=\"sk-toggleable__content\"><pre>GaussianNB()</pre></div></div></div></div></div>"
      ],
      "text/plain": [
       "GaussianNB()"
      ]
     },
     "execution_count": 38,
     "metadata": {},
     "output_type": "execute_result"
    }
   ],
   "source": [
    "from sklearn.naive_bayes import GaussianNB\n",
    "X = lp5_train[[\"F_lp5\", \"T_lp5\" ]]\n",
    "Y = lp5_train[\"Y_lp5\"]\n",
    "lp5_GNB_Model = GaussianNB()\n",
    "gnbmodel = cross_validate(lp5_GNB_Model, X, Y, cv=3,return_train_score=True)\n",
    "lp5_GNB_Model.fit(X, Y)"
   ]
  },
  {
   "cell_type": "code",
   "execution_count": 39,
   "metadata": {},
   "outputs": [
    {
     "name": "stdout",
     "output_type": "stream",
     "text": [
      "++++++Gaussian Naive Bayes++++++\n",
      "+++Train Results+++\n",
      "Parametes: \n",
      " {'priors': None, 'var_smoothing': 1e-09}\n",
      "\n",
      "Train Score 0.49122807017543857\n",
      "_____________________________________________________________________________________\n",
      "Validation Score 0.47368421052631576\n",
      "_____________________________________________________________________________________\n",
      "Test Accuracy 0.54\n",
      "Confusion Matrix:\n",
      " [[12  0  0  0  0]\n",
      " [ 4  4  0  0  1]\n",
      " [ 1  0  5  0  0]\n",
      " [ 9  0  0  5  0]\n",
      " [ 3  0  0  5  1]]\n",
      "\n",
      "Precision Score: [0.4137931 1.        1.        0.5       0.5      ]\n",
      "Recall Score: [1.         0.44444444 0.83333333 0.35714286 0.11111111]\n",
      "F1 Score: [0.58536585 0.61538462 0.90909091 0.41666667 0.18181818]\n"
     ]
    }
   ],
   "source": [
    "print(\"++++++Gaussian Naive Bayes++++++\")\n",
    "print(\"+++Train Results+++\\nParametes: \\n\",lp5_GNB_Model.get_params())\n",
    "train_pred = lp5_GNB_Model.predict(lp5_train[[\"F_lp5\", \"T_lp5\"]])\n",
    "accuracy_scr1 = gnbmodel['train_score'].mean()\n",
    "print(\"\\nTrain Score\", gnbmodel['train_score'].mean())\n",
    "print(\"_____________________________________________________________________________________\")\n",
    "print(\"Validation Score\", gnbmodel['test_score'].mean())\n",
    "print(\"_____________________________________________________________________________________\")\n",
    "X_test = lp5_test[[\"F_lp5\", \"T_lp5\" ]]\n",
    "Y_test = lp5_test[\"Y_lp5\"]\n",
    "test_pred = lp5_GNB_Model.predict(X_test)\n",
    "accuracy_scr2 = accuracy_score(Y_test, test_pred)\n",
    "print(\"Test Accuracy\", accuracy_scr2)\n",
    "confMat = confusion_matrix(lp5_test[\"Y_lp5\"], test_pred, labels=[0,1,2,3,4])\n",
    "print(\"Confusion Matrix:\\n\",confMat)\n",
    "prec_GNB = precision_score(lp5_test[\"Y_lp5\"], test_pred, average=None, zero_division=0)\n",
    "print(\"\\nPrecision Score:\",prec_GNB)\n",
    "Rec_GNB = recall_score(lp5_test[\"Y_lp5\"], test_pred, average=None, zero_division=0)\n",
    "print(\"Recall Score:\",Rec_GNB)\n",
    "f1_GNB = f1_score(lp5_test[\"Y_lp5\"], test_pred, average=None, zero_division=0)\n",
    "print(\"F1 Score:\",f1_GNB)\n",
    "acc.loc[len(acc.index)] = ['Gaussian Naive Bayes', accuracy_scr1, gnbmodel['test_score'].mean(), accuracy_scr2, prec_GNB.mean(), Rec_GNB.mean(), f1_GNB.mean()] "
   ]
  },
  {
   "attachments": {},
   "cell_type": "markdown",
   "metadata": {},
   "source": [
    "5. Shallow Neural Networks"
   ]
  },
  {
   "attachments": {},
   "cell_type": "markdown",
   "metadata": {},
   "source": [
    "Splitting the data as test validation (dev) and train set using stratified shuffling with 4 n splits"
   ]
  },
  {
   "cell_type": "code",
   "execution_count": 40,
   "metadata": {},
   "outputs": [],
   "source": [
    "from sklearn.model_selection import StratifiedShuffleSplit\n",
    "sss = StratifiedShuffleSplit(n_splits=5, test_size=0.3, random_state=0)\n",
    "lp5_train = sss.split(X_lp5_df[[\"F_lp5\", \"T_lp5\" ]], X_lp5_df[\"Y_lp5\"])\n",
    "for train,test in sss.split(X_lp5_df[[\"F_lp5\", \"T_lp5\" ]], X_lp5_df[\"Y_lp5\"]):\n",
    "    X = X_lp5_df[[\"F_lp5\", \"T_lp5\" ]].iloc[train]\n",
    "    Y = X_lp5_df[\"Y_lp5\"].iloc[train]\n",
    "    X_dt = X_lp5_df[[\"F_lp5\", \"T_lp5\" ]].iloc[test]\n",
    "    Y_dt = X_lp5_df[\"Y_lp5\"].iloc[test]\n",
    "sss = StratifiedShuffleSplit(n_splits=5, test_size=0.5, random_state=0)\n",
    "for train,test in sss.split(X_dt, Y_dt):\n",
    "    xd = X_dt.iloc[train]\n",
    "    yd = Y_dt.iloc[train]\n",
    "    X_test = X_dt.iloc[test]\n",
    "    Y_test = Y_dt.iloc[test]\n",
    "# lp5_train, lp5_Devtest = train_test_split(X_lp5_df, test_size=0.3, random_state=2)\n",
    "# lp5_dev, lp5_test = train_test_split(lp5_Devtest, test_size=0.5, random_state=2)\n",
    "# print(xd.value_counts())  \n",
    "# print(yd.value_counts())\n",
    "# print(X_test.value_counts())  \n",
    "# print(Y_test.value_counts())"
   ]
  },
  {
   "cell_type": "code",
   "execution_count": 41,
   "metadata": {},
   "outputs": [],
   "source": [
    "import tensorflow as tf\n",
    "from tensorflow import keras\n",
    "from keras.layers import Dense\n",
    "from keras.layers import Dropout\n",
    "import tensorflow as tf   #For reproducability\n",
    "tf.random.set_seed(2)\n",
    "lp5_SNN_model = tf.keras.Sequential()\n",
    "lp5_SNN_model.add(Dense(2, activation='LeakyReLU', input_shape = (2,)))\n",
    "lp5_SNN_model.add(Dense(100, activation='LeakyReLU'))\n",
    "# lp5_SNN_model.add(Dropout(0.2))\n",
    "lp5_SNN_model.add(Dense(30, activation='LeakyReLU'))\n",
    "# lp5_SNN_model.add(Dense(84, activation='LeakyReLU'))\n",
    "# lp5_SNN_model.add(Dense(84, activation='LeakyReLU'))\n",
    "# lp5_SNN_model.add(Dense(30, activation='LeakyReLU'))\n",
    "lp5_SNN_model.add(Dense(14, activation='LeakyReLU'))\n",
    "lp5_SNN_model.add(Dense(5, activation='softmax'))"
   ]
  },
  {
   "cell_type": "code",
   "execution_count": 42,
   "metadata": {},
   "outputs": [
    {
     "name": "stdout",
     "output_type": "stream",
     "text": [
      "Epoch 1/95\n",
      "15/15 [==============================] - 1s 21ms/step - loss: 1.5930 - accuracy: 0.2544 - val_loss: 1.5611 - val_accuracy: 0.2800\n",
      "Epoch 2/95\n",
      "15/15 [==============================] - 0s 4ms/step - loss: 1.5476 - accuracy: 0.2895 - val_loss: 1.5004 - val_accuracy: 0.3200\n",
      "Epoch 3/95\n",
      "15/15 [==============================] - 0s 4ms/step - loss: 1.4912 - accuracy: 0.3509 - val_loss: 1.4460 - val_accuracy: 0.4000\n",
      "Epoch 4/95\n",
      "15/15 [==============================] - 0s 4ms/step - loss: 1.3502 - accuracy: 0.4211 - val_loss: 1.3321 - val_accuracy: 0.4400\n",
      "Epoch 5/95\n",
      "15/15 [==============================] - 0s 4ms/step - loss: 1.2393 - accuracy: 0.4298 - val_loss: 1.3440 - val_accuracy: 0.4000\n",
      "Epoch 6/95\n",
      "15/15 [==============================] - 0s 4ms/step - loss: 1.2835 - accuracy: 0.4649 - val_loss: 1.4754 - val_accuracy: 0.3600\n",
      "Epoch 7/95\n",
      "15/15 [==============================] - 0s 4ms/step - loss: 1.3371 - accuracy: 0.3158 - val_loss: 1.3320 - val_accuracy: 0.3600\n",
      "Epoch 8/95\n",
      "15/15 [==============================] - 0s 4ms/step - loss: 1.2415 - accuracy: 0.5263 - val_loss: 1.3263 - val_accuracy: 0.3600\n",
      "Epoch 9/95\n",
      "15/15 [==============================] - 0s 4ms/step - loss: 1.2471 - accuracy: 0.4386 - val_loss: 1.3740 - val_accuracy: 0.3600\n",
      "Epoch 10/95\n",
      "15/15 [==============================] - 0s 4ms/step - loss: 1.2356 - accuracy: 0.4386 - val_loss: 1.3327 - val_accuracy: 0.4400\n",
      "Epoch 11/95\n",
      "15/15 [==============================] - 0s 4ms/step - loss: 1.2092 - accuracy: 0.4561 - val_loss: 1.3179 - val_accuracy: 0.5600\n",
      "Epoch 12/95\n",
      "15/15 [==============================] - 0s 4ms/step - loss: 1.2513 - accuracy: 0.4386 - val_loss: 1.3635 - val_accuracy: 0.3600\n",
      "Epoch 13/95\n",
      "15/15 [==============================] - 0s 4ms/step - loss: 1.2336 - accuracy: 0.4298 - val_loss: 1.3431 - val_accuracy: 0.3600\n",
      "Epoch 14/95\n",
      "15/15 [==============================] - 0s 4ms/step - loss: 1.2351 - accuracy: 0.4298 - val_loss: 1.3439 - val_accuracy: 0.4400\n",
      "Epoch 15/95\n",
      "15/15 [==============================] - 0s 4ms/step - loss: 1.2053 - accuracy: 0.4912 - val_loss: 1.3273 - val_accuracy: 0.4400\n",
      "Epoch 16/95\n",
      "15/15 [==============================] - 0s 4ms/step - loss: 1.1797 - accuracy: 0.5175 - val_loss: 1.3187 - val_accuracy: 0.4400\n",
      "Epoch 17/95\n",
      "15/15 [==============================] - 0s 4ms/step - loss: 1.1857 - accuracy: 0.5000 - val_loss: 1.3644 - val_accuracy: 0.3600\n",
      "Epoch 18/95\n",
      "15/15 [==============================] - 0s 4ms/step - loss: 1.1573 - accuracy: 0.4737 - val_loss: 1.2933 - val_accuracy: 0.5600\n",
      "Epoch 19/95\n",
      "15/15 [==============================] - 0s 4ms/step - loss: 1.1700 - accuracy: 0.4912 - val_loss: 1.3907 - val_accuracy: 0.3600\n",
      "Epoch 20/95\n",
      "15/15 [==============================] - 0s 4ms/step - loss: 1.1222 - accuracy: 0.5263 - val_loss: 1.3119 - val_accuracy: 0.4400\n",
      "Epoch 21/95\n",
      "15/15 [==============================] - 0s 4ms/step - loss: 1.2061 - accuracy: 0.4474 - val_loss: 1.4365 - val_accuracy: 0.4000\n",
      "Epoch 22/95\n",
      "15/15 [==============================] - 0s 4ms/step - loss: 1.2380 - accuracy: 0.4035 - val_loss: 1.3099 - val_accuracy: 0.4800\n",
      "Epoch 23/95\n",
      "15/15 [==============================] - 0s 4ms/step - loss: 1.2039 - accuracy: 0.4561 - val_loss: 1.4993 - val_accuracy: 0.3600\n",
      "Epoch 24/95\n",
      "15/15 [==============================] - 0s 4ms/step - loss: 1.2537 - accuracy: 0.4825 - val_loss: 1.3393 - val_accuracy: 0.3600\n",
      "Epoch 25/95\n",
      "15/15 [==============================] - 0s 4ms/step - loss: 1.1827 - accuracy: 0.4737 - val_loss: 1.3007 - val_accuracy: 0.4800\n",
      "Epoch 26/95\n",
      "15/15 [==============================] - 0s 5ms/step - loss: 1.1381 - accuracy: 0.5439 - val_loss: 1.3067 - val_accuracy: 0.4000\n",
      "Epoch 27/95\n",
      "15/15 [==============================] - 0s 4ms/step - loss: 1.1301 - accuracy: 0.5526 - val_loss: 1.2746 - val_accuracy: 0.5600\n",
      "Epoch 28/95\n",
      "15/15 [==============================] - 0s 4ms/step - loss: 1.1539 - accuracy: 0.5088 - val_loss: 1.3598 - val_accuracy: 0.3600\n",
      "Epoch 29/95\n",
      "15/15 [==============================] - 0s 4ms/step - loss: 1.1669 - accuracy: 0.4825 - val_loss: 1.2410 - val_accuracy: 0.5600\n",
      "Epoch 30/95\n",
      "15/15 [==============================] - 0s 4ms/step - loss: 1.0902 - accuracy: 0.5439 - val_loss: 1.5282 - val_accuracy: 0.4000\n",
      "Epoch 31/95\n",
      "15/15 [==============================] - 0s 4ms/step - loss: 1.2251 - accuracy: 0.5175 - val_loss: 1.3162 - val_accuracy: 0.3600\n",
      "Epoch 32/95\n",
      "15/15 [==============================] - 0s 4ms/step - loss: 1.2981 - accuracy: 0.4561 - val_loss: 1.3727 - val_accuracy: 0.3600\n",
      "Epoch 33/95\n",
      "15/15 [==============================] - 0s 4ms/step - loss: 1.2241 - accuracy: 0.4474 - val_loss: 1.3487 - val_accuracy: 0.3600\n",
      "Epoch 34/95\n",
      "15/15 [==============================] - 0s 4ms/step - loss: 1.2528 - accuracy: 0.4912 - val_loss: 1.3037 - val_accuracy: 0.5600\n",
      "Epoch 35/95\n",
      "15/15 [==============================] - 0s 4ms/step - loss: 1.1667 - accuracy: 0.5877 - val_loss: 1.2903 - val_accuracy: 0.6000\n",
      "Epoch 36/95\n",
      "15/15 [==============================] - 0s 4ms/step - loss: 1.1607 - accuracy: 0.5088 - val_loss: 1.2945 - val_accuracy: 0.4800\n",
      "Epoch 37/95\n",
      "15/15 [==============================] - 0s 4ms/step - loss: 1.1182 - accuracy: 0.5351 - val_loss: 1.2655 - val_accuracy: 0.5600\n",
      "Epoch 38/95\n",
      "15/15 [==============================] - 0s 5ms/step - loss: 1.1518 - accuracy: 0.5263 - val_loss: 1.2539 - val_accuracy: 0.6000\n",
      "Epoch 39/95\n",
      "15/15 [==============================] - 0s 4ms/step - loss: 1.1311 - accuracy: 0.5088 - val_loss: 1.2746 - val_accuracy: 0.5600\n",
      "Epoch 40/95\n",
      "15/15 [==============================] - 0s 4ms/step - loss: 1.1208 - accuracy: 0.5263 - val_loss: 1.2668 - val_accuracy: 0.5200\n",
      "Epoch 41/95\n",
      "15/15 [==============================] - 0s 4ms/step - loss: 1.1456 - accuracy: 0.5088 - val_loss: 1.5347 - val_accuracy: 0.4000\n",
      "Epoch 42/95\n",
      "15/15 [==============================] - 0s 5ms/step - loss: 1.3522 - accuracy: 0.4386 - val_loss: 1.3597 - val_accuracy: 0.3600\n",
      "Epoch 43/95\n",
      "15/15 [==============================] - 0s 4ms/step - loss: 1.1499 - accuracy: 0.5175 - val_loss: 1.2763 - val_accuracy: 0.4800\n",
      "Epoch 44/95\n",
      "15/15 [==============================] - 0s 5ms/step - loss: 1.1116 - accuracy: 0.5614 - val_loss: 1.3075 - val_accuracy: 0.4000\n",
      "Epoch 45/95\n",
      "15/15 [==============================] - 0s 4ms/step - loss: 1.1172 - accuracy: 0.5263 - val_loss: 1.2844 - val_accuracy: 0.4400\n",
      "Epoch 46/95\n",
      "15/15 [==============================] - 0s 4ms/step - loss: 1.1420 - accuracy: 0.4825 - val_loss: 1.3569 - val_accuracy: 0.3600\n",
      "Epoch 47/95\n",
      "15/15 [==============================] - 0s 4ms/step - loss: 1.1287 - accuracy: 0.5088 - val_loss: 1.2765 - val_accuracy: 0.4000\n",
      "Epoch 48/95\n",
      "15/15 [==============================] - 0s 4ms/step - loss: 1.0992 - accuracy: 0.5000 - val_loss: 1.2614 - val_accuracy: 0.4800\n",
      "Epoch 49/95\n",
      "15/15 [==============================] - 0s 5ms/step - loss: 1.1031 - accuracy: 0.5088 - val_loss: 1.3676 - val_accuracy: 0.3600\n",
      "Epoch 50/95\n",
      "15/15 [==============================] - 0s 5ms/step - loss: 1.1141 - accuracy: 0.5000 - val_loss: 1.2357 - val_accuracy: 0.5600\n",
      "Epoch 51/95\n",
      "15/15 [==============================] - 0s 4ms/step - loss: 1.0833 - accuracy: 0.5789 - val_loss: 1.2110 - val_accuracy: 0.5600\n",
      "Epoch 52/95\n",
      "15/15 [==============================] - 0s 4ms/step - loss: 1.0909 - accuracy: 0.5439 - val_loss: 1.2312 - val_accuracy: 0.5600\n",
      "Epoch 53/95\n",
      "15/15 [==============================] - 0s 5ms/step - loss: 1.1477 - accuracy: 0.5000 - val_loss: 1.3453 - val_accuracy: 0.3600\n",
      "Epoch 54/95\n",
      "15/15 [==============================] - 0s 5ms/step - loss: 1.1790 - accuracy: 0.4649 - val_loss: 1.3204 - val_accuracy: 0.3600\n",
      "Epoch 55/95\n",
      "15/15 [==============================] - 0s 4ms/step - loss: 1.1197 - accuracy: 0.4912 - val_loss: 1.2443 - val_accuracy: 0.6000\n",
      "Epoch 56/95\n",
      "15/15 [==============================] - 0s 4ms/step - loss: 1.0864 - accuracy: 0.5789 - val_loss: 1.2051 - val_accuracy: 0.5600\n",
      "Epoch 57/95\n",
      "15/15 [==============================] - 0s 4ms/step - loss: 1.0672 - accuracy: 0.5526 - val_loss: 1.2062 - val_accuracy: 0.6000\n",
      "Epoch 58/95\n",
      "15/15 [==============================] - 0s 5ms/step - loss: 1.0569 - accuracy: 0.5614 - val_loss: 1.2589 - val_accuracy: 0.4800\n",
      "Epoch 59/95\n",
      "15/15 [==============================] - 0s 5ms/step - loss: 1.0204 - accuracy: 0.5877 - val_loss: 1.2268 - val_accuracy: 0.6000\n",
      "Epoch 60/95\n",
      "15/15 [==============================] - 0s 4ms/step - loss: 1.0267 - accuracy: 0.5877 - val_loss: 1.3682 - val_accuracy: 0.4000\n",
      "Epoch 61/95\n",
      "15/15 [==============================] - 0s 4ms/step - loss: 1.2596 - accuracy: 0.4649 - val_loss: 1.5381 - val_accuracy: 0.3600\n",
      "Epoch 62/95\n",
      "15/15 [==============================] - 0s 3ms/step - loss: 1.1093 - accuracy: 0.5000 - val_loss: 1.2242 - val_accuracy: 0.5600\n",
      "Epoch 63/95\n",
      "15/15 [==============================] - 0s 4ms/step - loss: 1.0782 - accuracy: 0.5526 - val_loss: 1.2189 - val_accuracy: 0.5600\n",
      "Epoch 64/95\n",
      "15/15 [==============================] - 0s 4ms/step - loss: 1.0286 - accuracy: 0.5789 - val_loss: 1.2320 - val_accuracy: 0.4800\n",
      "Epoch 65/95\n",
      "15/15 [==============================] - 0s 4ms/step - loss: 1.0607 - accuracy: 0.5614 - val_loss: 1.3195 - val_accuracy: 0.4000\n",
      "Epoch 66/95\n",
      "15/15 [==============================] - 0s 3ms/step - loss: 1.0610 - accuracy: 0.5439 - val_loss: 1.2565 - val_accuracy: 0.4800\n",
      "Epoch 67/95\n",
      "15/15 [==============================] - 0s 3ms/step - loss: 1.0134 - accuracy: 0.5789 - val_loss: 1.1718 - val_accuracy: 0.5600\n",
      "Epoch 68/95\n",
      "15/15 [==============================] - 0s 3ms/step - loss: 1.0660 - accuracy: 0.5439 - val_loss: 1.8524 - val_accuracy: 0.3600\n",
      "Epoch 69/95\n",
      "15/15 [==============================] - 0s 4ms/step - loss: 1.1834 - accuracy: 0.5088 - val_loss: 1.2701 - val_accuracy: 0.4000\n",
      "Epoch 70/95\n",
      "15/15 [==============================] - 0s 3ms/step - loss: 1.0891 - accuracy: 0.5526 - val_loss: 1.2606 - val_accuracy: 0.4000\n",
      "Epoch 71/95\n",
      "15/15 [==============================] - 0s 3ms/step - loss: 1.0429 - accuracy: 0.5439 - val_loss: 1.1981 - val_accuracy: 0.5600\n",
      "Epoch 72/95\n",
      "15/15 [==============================] - 0s 3ms/step - loss: 1.0238 - accuracy: 0.5877 - val_loss: 1.2163 - val_accuracy: 0.5600\n",
      "Epoch 73/95\n",
      "15/15 [==============================] - 0s 3ms/step - loss: 1.0391 - accuracy: 0.5439 - val_loss: 1.2221 - val_accuracy: 0.5600\n",
      "Epoch 74/95\n",
      "15/15 [==============================] - 0s 4ms/step - loss: 1.0081 - accuracy: 0.5702 - val_loss: 1.1598 - val_accuracy: 0.5600\n",
      "Epoch 75/95\n",
      "15/15 [==============================] - 0s 3ms/step - loss: 1.0217 - accuracy: 0.5702 - val_loss: 1.2164 - val_accuracy: 0.5200\n",
      "Epoch 76/95\n",
      "15/15 [==============================] - 0s 4ms/step - loss: 1.0515 - accuracy: 0.5614 - val_loss: 1.2499 - val_accuracy: 0.4800\n",
      "Epoch 77/95\n",
      "15/15 [==============================] - 0s 3ms/step - loss: 0.9820 - accuracy: 0.6228 - val_loss: 1.2260 - val_accuracy: 0.5600\n",
      "Epoch 78/95\n",
      "15/15 [==============================] - 0s 4ms/step - loss: 0.9836 - accuracy: 0.5965 - val_loss: 1.1850 - val_accuracy: 0.6000\n",
      "Epoch 79/95\n",
      "15/15 [==============================] - 0s 4ms/step - loss: 1.0380 - accuracy: 0.5614 - val_loss: 1.1670 - val_accuracy: 0.5600\n",
      "Epoch 80/95\n",
      "15/15 [==============================] - 0s 3ms/step - loss: 1.0745 - accuracy: 0.5439 - val_loss: 1.2051 - val_accuracy: 0.6000\n",
      "Epoch 81/95\n",
      "15/15 [==============================] - 0s 3ms/step - loss: 1.0911 - accuracy: 0.5351 - val_loss: 1.2813 - val_accuracy: 0.4400\n",
      "Epoch 82/95\n",
      "15/15 [==============================] - 0s 3ms/step - loss: 1.1676 - accuracy: 0.5000 - val_loss: 1.2559 - val_accuracy: 0.4000\n",
      "Epoch 83/95\n",
      "15/15 [==============================] - 0s 4ms/step - loss: 1.0573 - accuracy: 0.5614 - val_loss: 1.2406 - val_accuracy: 0.5600\n",
      "Epoch 84/95\n",
      "15/15 [==============================] - 0s 3ms/step - loss: 1.0387 - accuracy: 0.5877 - val_loss: 1.2253 - val_accuracy: 0.5200\n",
      "Epoch 85/95\n",
      "15/15 [==============================] - 0s 3ms/step - loss: 1.0025 - accuracy: 0.6140 - val_loss: 1.2039 - val_accuracy: 0.5600\n",
      "Epoch 86/95\n",
      "15/15 [==============================] - 0s 3ms/step - loss: 0.9811 - accuracy: 0.5702 - val_loss: 1.2857 - val_accuracy: 0.4400\n",
      "Epoch 87/95\n",
      "15/15 [==============================] - 0s 3ms/step - loss: 1.1327 - accuracy: 0.4912 - val_loss: 1.2422 - val_accuracy: 0.5200\n",
      "Epoch 88/95\n",
      "15/15 [==============================] - 0s 3ms/step - loss: 0.9696 - accuracy: 0.6228 - val_loss: 1.2022 - val_accuracy: 0.6000\n",
      "Epoch 89/95\n",
      "15/15 [==============================] - 0s 3ms/step - loss: 1.0014 - accuracy: 0.5702 - val_loss: 1.2267 - val_accuracy: 0.5600\n",
      "Epoch 90/95\n",
      "15/15 [==============================] - 0s 3ms/step - loss: 0.9811 - accuracy: 0.5965 - val_loss: 1.1724 - val_accuracy: 0.5600\n",
      "Epoch 91/95\n",
      "15/15 [==============================] - 0s 4ms/step - loss: 0.9579 - accuracy: 0.6228 - val_loss: 1.1600 - val_accuracy: 0.6000\n",
      "Epoch 92/95\n",
      "15/15 [==============================] - 0s 4ms/step - loss: 1.0045 - accuracy: 0.5526 - val_loss: 1.1668 - val_accuracy: 0.6000\n",
      "Epoch 93/95\n",
      "15/15 [==============================] - 0s 4ms/step - loss: 1.0466 - accuracy: 0.5614 - val_loss: 1.1666 - val_accuracy: 0.5600\n",
      "Epoch 94/95\n",
      "15/15 [==============================] - 0s 3ms/step - loss: 1.0452 - accuracy: 0.5614 - val_loss: 1.2365 - val_accuracy: 0.6000\n",
      "Epoch 95/95\n",
      "15/15 [==============================] - 0s 4ms/step - loss: 1.0434 - accuracy: 0.5439 - val_loss: 1.2304 - val_accuracy: 0.6000\n"
     ]
    }
   ],
   "source": [
    "#opti = keras.optimizers.experimental.SGD(learning_rate=0.01)\n",
    "opti = keras.optimizers.Adam(learning_rate=0.005)\n",
    "lp5_SNN_model.compile(optimizer=opti, loss='sparse_categorical_crossentropy', metrics=[\"accuracy\"])\n",
    "history = lp5_SNN_model.fit(X, Y, batch_size=8, epochs=95, validation_data = (xd, yd))"
   ]
  },
  {
   "attachments": {},
   "cell_type": "markdown",
   "metadata": {},
   "source": [
    "Plotting loss vs epoch"
   ]
  },
  {
   "cell_type": "code",
   "execution_count": 43,
   "metadata": {},
   "outputs": [
    {
     "data": {
      "image/png": "[encoded data removed]",
      "text/plain": [
       "<Figure size 432x288 with 1 Axes>"
      ]
     },
     "metadata": {
      "needs_background": "light"
     },
     "output_type": "display_data"
    },
    {
     "data": {
      "image/png": "[encoded data removed]",
      "text/plain": [
       "<Figure size 432x288 with 1 Axes>"
      ]
     },
     "metadata": {
      "needs_background": "light"
     },
     "output_type": "display_data"
    }
   ],
   "source": [
    "plt.plot(history.history['loss'])\n",
    "plt.plot(history.history['val_loss'])\n",
    "plt.title('Model loss')\n",
    "plt.ylabel('loss')\n",
    "plt.xlabel('epoch')\n",
    "plt.legend(['train', 'dev'], loc='upper right')\n",
    "plt.show()\n",
    "plt.plot(history.history['accuracy'])\n",
    "plt.plot(history.history['val_accuracy'])\n",
    "plt.title('Model accuracy')\n",
    "plt.ylabel('accuracy')\n",
    "plt.xlabel('epoch')\n",
    "plt.legend(['train', 'dev'], loc='upper right')\n",
    "plt.show()"
   ]
  },
  {
   "cell_type": "code",
   "execution_count": 44,
   "metadata": {},
   "outputs": [
    {
     "name": "stdout",
     "output_type": "stream",
     "text": [
      "Model: \"sequential\"\n",
      "_________________________________________________________________\n",
      " Layer (type)                Output Shape              Param #   \n",
      "=================================================================\n",
      " dense (Dense)               (None, 2)                 6         \n",
      "                                                                 \n",
      " dense_1 (Dense)             (None, 100)               300       \n",
      "                                                                 \n",
      " dense_2 (Dense)             (None, 30)                3030      \n",
      "                                                                 \n",
      " dense_3 (Dense)             (None, 14)                434       \n",
      "                                                                 \n",
      " dense_4 (Dense)             (None, 5)                 75        \n",
      "                                                                 \n",
      "=================================================================\n",
      "Total params: 3,845\n",
      "Trainable params: 3,845\n",
      "Non-trainable params: 0\n",
      "_________________________________________________________________\n"
     ]
    }
   ],
   "source": [
    "lp5_SNN_model.summary()"
   ]
  },
  {
   "cell_type": "code",
   "execution_count": 45,
   "metadata": {},
   "outputs": [
    {
     "name": "stdout",
     "output_type": "stream",
     "text": [
      "1/1 [==============================] - 0s 95ms/step\n",
      "Confusion Matrix:\n",
      " [[5 0 0 2 0]\n",
      " [0 3 1 0 0]\n",
      " [0 0 3 0 0]\n",
      " [0 0 0 7 0]\n",
      " [0 0 0 4 0]]\n",
      "\n",
      "Precision Score: [1.         1.         0.75       0.53846154 0.        ]\n",
      "Recall Score: [0.71428571 0.75       1.         1.         0.        ]\n",
      "F1 Score: [0.83333333 0.85714286 0.85714286 0.7        0.        ]\n"
     ]
    }
   ],
   "source": [
    "pred = lp5_SNN_model.predict(X_test)\n",
    "# #print(pred*100)\n",
    "pred_class = np.argmax(pred, axis=1)\n",
    "# #print(pred_class)\n",
    "# acc_score_SNN = accuracy_score(Y_test, pred_class)\n",
    "# print(acc_score_SNN)\n",
    "confMat = confusion_matrix(Y_test, pred_class, labels=[0,1,2,3,4])\n",
    "print(\"Confusion Matrix:\\n\",confMat)\n",
    "prec_SNN = precision_score(Y_test, pred_class, average=None, zero_division=0)\n",
    "print(\"\\nPrecision Score:\",prec_SNN)\n",
    "Rec_SNN = recall_score(Y_test, pred_class, average=None, zero_division=0)\n",
    "print(\"Recall Score:\",Rec_SNN)\n",
    "f1_SNN = f1_score(Y_test, pred_class, average=None, zero_division=0)\n",
    "print(\"F1 Score:\",f1_SNN)"
   ]
  },
  {
   "cell_type": "code",
   "execution_count": 46,
   "metadata": {},
   "outputs": [
    {
     "name": "stdout",
     "output_type": "stream",
     "text": [
      "['loss', 'accuracy']\n",
      "1/1 [==============================] - 0s 27ms/step - loss: 0.7865 - accuracy: 0.7200\n",
      "[0.786479115486145, 0.7200000286102295]\n"
     ]
    }
   ],
   "source": [
    "print(lp5_SNN_model.metrics_names)\n",
    "test_accuracy = lp5_SNN_model.evaluate(X_test, Y_test)\n",
    "print(test_accuracy)"
   ]
  },
  {
   "cell_type": "code",
   "execution_count": 47,
   "metadata": {},
   "outputs": [],
   "source": [
    "acc.loc[len(acc.index)] = ['ANN', ((history.history['accuracy'][-1])),((history.history['val_accuracy'][-1])), test_accuracy[1], prec_SNN.mean(), Rec_SNN.mean(), f1_SNN.mean()] "
   ]
  },
  {
   "attachments": {},
   "cell_type": "markdown",
   "metadata": {},
   "source": [
    "Exporting the model and weights"
   ]
  },
  {
   "cell_type": "code",
   "execution_count": 48,
   "metadata": {},
   "outputs": [
    {
     "name": "stderr",
     "output_type": "stream",
     "text": [
      "WARNING:absl:Found untraced functions such as leaky_re_lu_layer_call_fn, leaky_re_lu_layer_call_and_return_conditional_losses, leaky_re_lu_1_layer_call_fn, leaky_re_lu_1_layer_call_and_return_conditional_losses, leaky_re_lu_2_layer_call_fn while saving (showing 5 of 8). These functions will not be directly callable after loading.\n"
     ]
    },
    {
     "name": "stdout",
     "output_type": "stream",
     "text": [
      "INFO:tensorflow:Assets written to: exports/lp5_SNN_Export\\assets\n"
     ]
    },
    {
     "name": "stderr",
     "output_type": "stream",
     "text": [
      "INFO:tensorflow:Assets written to: exports/lp5_SNN_Export\\assets\n"
     ]
    }
   ],
   "source": [
    "lp5_SNN_model.save('exports/lp5_SNN_Export')\n",
    "lp5_SNN_model.save_weights('exports/lp5_SNNWeights_Export')"
   ]
  },
  {
   "attachments": {},
   "cell_type": "markdown",
   "metadata": {},
   "source": [
    "Overall parameters"
   ]
  },
  {
   "cell_type": "code",
   "execution_count": 49,
   "metadata": {},
   "outputs": [
    {
     "data": {
      "text/html": [
       "<div>\n",
       "<style scoped>\n",
       "    .dataframe tbody tr th:only-of-type {\n",
       "        vertical-align: middle;\n",
       "    }\n",
       "\n",
       "    .dataframe tbody tr th {\n",
       "        vertical-align: top;\n",
       "    }\n",
       "\n",
       "    .dataframe thead th {\n",
       "        text-align: right;\n",
       "    }\n",
       "</style>\n",
       "<table border=\"1\" class=\"dataframe\">\n",
       "  <thead>\n",
       "    <tr style=\"text-align: right;\">\n",
       "      <th></th>\n",
       "      <th>Model</th>\n",
       "      <th>Train</th>\n",
       "      <th>Dev</th>\n",
       "      <th>Test</th>\n",
       "      <th>Precision Score</th>\n",
       "      <th>Recall Score</th>\n",
       "      <th>F1 Score</th>\n",
       "    </tr>\n",
       "  </thead>\n",
       "  <tbody>\n",
       "    <tr>\n",
       "      <th>0</th>\n",
       "      <td>Decision Tree</td>\n",
       "      <td>0.686383</td>\n",
       "      <td>0.631621</td>\n",
       "      <td>0.56</td>\n",
       "      <td>0.392088</td>\n",
       "      <td>0.521429</td>\n",
       "      <td>0.438937</td>\n",
       "    </tr>\n",
       "    <tr>\n",
       "      <th>1</th>\n",
       "      <td>Random Forest</td>\n",
       "      <td>0.719298</td>\n",
       "      <td>0.622807</td>\n",
       "      <td>0.58</td>\n",
       "      <td>0.609649</td>\n",
       "      <td>0.553968</td>\n",
       "      <td>0.514647</td>\n",
       "    </tr>\n",
       "    <tr>\n",
       "      <th>2</th>\n",
       "      <td>SVM</td>\n",
       "      <td>0.535088</td>\n",
       "      <td>0.526316</td>\n",
       "      <td>0.44</td>\n",
       "      <td>0.348848</td>\n",
       "      <td>0.438095</td>\n",
       "      <td>0.364875</td>\n",
       "    </tr>\n",
       "    <tr>\n",
       "      <th>3</th>\n",
       "      <td>Gaussian Naive Bayes</td>\n",
       "      <td>0.491228</td>\n",
       "      <td>0.473684</td>\n",
       "      <td>0.54</td>\n",
       "      <td>0.682759</td>\n",
       "      <td>0.549206</td>\n",
       "      <td>0.541665</td>\n",
       "    </tr>\n",
       "    <tr>\n",
       "      <th>4</th>\n",
       "      <td>ANN</td>\n",
       "      <td>0.543860</td>\n",
       "      <td>0.600000</td>\n",
       "      <td>0.72</td>\n",
       "      <td>0.657692</td>\n",
       "      <td>0.692857</td>\n",
       "      <td>0.649524</td>\n",
       "    </tr>\n",
       "  </tbody>\n",
       "</table>\n",
       "</div>"
      ],
      "text/plain": [
       "                  Model     Train       Dev  Test  Precision Score  \\\n",
       "0         Decision Tree  0.686383  0.631621  0.56         0.392088   \n",
       "1         Random Forest  0.719298  0.622807  0.58         0.609649   \n",
       "2                   SVM  0.535088  0.526316  0.44         0.348848   \n",
       "3  Gaussian Naive Bayes  0.491228  0.473684  0.54         0.682759   \n",
       "4                   ANN  0.543860  0.600000  0.72         0.657692   \n",
       "\n",
       "   Recall Score  F1 Score  \n",
       "0      0.521429  0.438937  \n",
       "1      0.553968  0.514647  \n",
       "2      0.438095  0.364875  \n",
       "3      0.549206  0.541665  \n",
       "4      0.692857  0.649524  "
      ]
     },
     "execution_count": 49,
     "metadata": {},
     "output_type": "execute_result"
    }
   ],
   "source": [
    "acc"
   ]
  }
 ],
 "metadata": {
  "kernelspec": {
   "display_name": "Python 3",
   "language": "python",
   "name": "python3"
  },
  "language_info": {
   "codemirror_mode": {
    "name": "ipython",
    "version": 3
   },
   "file_extension": ".py",
   "mimetype": "text/x-python",
   "name": "python",
   "nbconvert_exporter": "python",
   "pygments_lexer": "ipython3",
   "version": "3.10.5"
  },
  "orig_nbformat": 4,
  "vscode": {
   "interpreter": {
    "hash": "cf2d32023d47a0ae6c67322ace2959f21890c49a1554fe001e59942aa2e6c9ed"
   }
  }
 },
 "nbformat": 4,
 "nbformat_minor": 2
}
