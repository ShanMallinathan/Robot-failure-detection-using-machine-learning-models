{
 "cells": [
  {
   "cell_type": "code",
   "execution_count": 1,
   "metadata": {},
   "outputs": [],
   "source": [
    "import pandas as pd\n",
    "import numpy as np\n",
    "import math \n",
    "import matplotlib.pyplot as plt\n",
    "import seaborn as sns\n",
    "import plotly.express as plty"
   ]
  },
  {
   "attachments": {},
   "cell_type": "markdown",
   "metadata": {},
   "source": [
    "The following code blocks helps to import the csv files saved"
   ]
  },
  {
   "cell_type": "code",
   "execution_count": 2,
   "metadata": {},
   "outputs": [],
   "source": [
    "#X\n",
    "X_lp1 = pd.read_csv(\"Data_files\\X\\X_lp1.csv\").dropna()"
   ]
  },
  {
   "cell_type": "code",
   "execution_count": 3,
   "metadata": {},
   "outputs": [],
   "source": [
    "#Y\n",
    "Y_lp1 = pd.read_csv(\"Data_files\\Y\\Y_lp1.csv\")"
   ]
  },
  {
   "attachments": {},
   "cell_type": "markdown",
   "metadata": {},
   "source": [
    "The next step is to find the corelation.\n",
    "A benchmark of 80 percent is kept in order to eliminate corelated variables since the dataset is small"
   ]
  },
  {
   "cell_type": "code",
   "execution_count": 4,
   "metadata": {},
   "outputs": [
    {
     "data": {
      "text/html": [
       "<div>\n",
       "<style scoped>\n",
       "    .dataframe tbody tr th:only-of-type {\n",
       "        vertical-align: middle;\n",
       "    }\n",
       "\n",
       "    .dataframe tbody tr th {\n",
       "        vertical-align: top;\n",
       "    }\n",
       "\n",
       "    .dataframe thead th {\n",
       "        text-align: right;\n",
       "    }\n",
       "</style>\n",
       "<table border=\"1\" class=\"dataframe\">\n",
       "  <thead>\n",
       "    <tr style=\"text-align: right;\">\n",
       "      <th></th>\n",
       "      <th>Fx_lp1</th>\n",
       "      <th>Fy_lp1</th>\n",
       "      <th>Fz_lp1</th>\n",
       "      <th>Tx_lp1</th>\n",
       "      <th>Ty_lp1</th>\n",
       "      <th>Tz_lp1</th>\n",
       "    </tr>\n",
       "  </thead>\n",
       "  <tbody>\n",
       "    <tr>\n",
       "      <th>Fx_lp1</th>\n",
       "      <td>1.000000</td>\n",
       "      <td>-0.091539</td>\n",
       "      <td>0.172137</td>\n",
       "      <td>-0.195022</td>\n",
       "      <td>0.451223</td>\n",
       "      <td>0.193410</td>\n",
       "    </tr>\n",
       "    <tr>\n",
       "      <th>Fy_lp1</th>\n",
       "      <td>-0.091539</td>\n",
       "      <td>1.000000</td>\n",
       "      <td>-0.270830</td>\n",
       "      <td>0.324401</td>\n",
       "      <td>0.401728</td>\n",
       "      <td>-0.410183</td>\n",
       "    </tr>\n",
       "    <tr>\n",
       "      <th>Fz_lp1</th>\n",
       "      <td>0.172137</td>\n",
       "      <td>-0.270830</td>\n",
       "      <td>1.000000</td>\n",
       "      <td>0.225272</td>\n",
       "      <td>0.101766</td>\n",
       "      <td>-0.098525</td>\n",
       "    </tr>\n",
       "    <tr>\n",
       "      <th>Tx_lp1</th>\n",
       "      <td>-0.195022</td>\n",
       "      <td>0.324401</td>\n",
       "      <td>0.225272</td>\n",
       "      <td>1.000000</td>\n",
       "      <td>0.509459</td>\n",
       "      <td>-0.290672</td>\n",
       "    </tr>\n",
       "    <tr>\n",
       "      <th>Ty_lp1</th>\n",
       "      <td>0.451223</td>\n",
       "      <td>0.401728</td>\n",
       "      <td>0.101766</td>\n",
       "      <td>0.509459</td>\n",
       "      <td>1.000000</td>\n",
       "      <td>-0.140790</td>\n",
       "    </tr>\n",
       "    <tr>\n",
       "      <th>Tz_lp1</th>\n",
       "      <td>0.193410</td>\n",
       "      <td>-0.410183</td>\n",
       "      <td>-0.098525</td>\n",
       "      <td>-0.290672</td>\n",
       "      <td>-0.140790</td>\n",
       "      <td>1.000000</td>\n",
       "    </tr>\n",
       "  </tbody>\n",
       "</table>\n",
       "</div>"
      ],
      "text/plain": [
       "          Fx_lp1    Fy_lp1    Fz_lp1    Tx_lp1    Ty_lp1    Tz_lp1\n",
       "Fx_lp1  1.000000 -0.091539  0.172137 -0.195022  0.451223  0.193410\n",
       "Fy_lp1 -0.091539  1.000000 -0.270830  0.324401  0.401728 -0.410183\n",
       "Fz_lp1  0.172137 -0.270830  1.000000  0.225272  0.101766 -0.098525\n",
       "Tx_lp1 -0.195022  0.324401  0.225272  1.000000  0.509459 -0.290672\n",
       "Ty_lp1  0.451223  0.401728  0.101766  0.509459  1.000000 -0.140790\n",
       "Tz_lp1  0.193410 -0.410183 -0.098525 -0.290672 -0.140790  1.000000"
      ]
     },
     "execution_count": 4,
     "metadata": {},
     "output_type": "execute_result"
    }
   ],
   "source": [
    "X_lp1.corr(method = 'pearson')"
   ]
  },
  {
   "attachments": {},
   "cell_type": "markdown",
   "metadata": {},
   "source": [
    "Since there is no corelation among variables in the datset, other analysis can be done"
   ]
  },
  {
   "attachments": {},
   "cell_type": "markdown",
   "metadata": {},
   "source": [
    "Adding 2 more rows of resultant force and torque using the formula.\n",
    "F= √(F_X^2+F_Y^2+ F_Z^2 ) and similarly for T"
   ]
  },
  {
   "cell_type": "code",
   "execution_count": 36,
   "metadata": {},
   "outputs": [],
   "source": [
    "X_lp1[\"F_lp1\"] = (X_lp1['Fx_lp1']**2 + X_lp1['Fy_lp1']**2 + X_lp1[\"Fz_lp1\"]**2)**0.5\n",
    "X_lp1[\"T_lp1\"] = (X_lp1[\"Tx_lp1\"]**2 + X_lp1[\"Ty_lp1\"]**2 + X_lp1[\"Tz_lp1\"]**2)**0.5"
   ]
  },
  {
   "attachments": {},
   "cell_type": "markdown",
   "metadata": {},
   "source": [
    "Applying Min-Max normalization for all the attributes"
   ]
  },
  {
   "cell_type": "code",
   "execution_count": 37,
   "metadata": {},
   "outputs": [],
   "source": [
    "X_lp1 = (X_lp1 - X_lp1.min())/(X_lp1.max() - X_lp1.min())"
   ]
  },
  {
   "cell_type": "code",
   "execution_count": 38,
   "metadata": {},
   "outputs": [
    {
     "data": {
      "text/html": [
       "<div>\n",
       "<style scoped>\n",
       "    .dataframe tbody tr th:only-of-type {\n",
       "        vertical-align: middle;\n",
       "    }\n",
       "\n",
       "    .dataframe tbody tr th {\n",
       "        vertical-align: top;\n",
       "    }\n",
       "\n",
       "    .dataframe thead th {\n",
       "        text-align: right;\n",
       "    }\n",
       "</style>\n",
       "<table border=\"1\" class=\"dataframe\">\n",
       "  <thead>\n",
       "    <tr style=\"text-align: right;\">\n",
       "      <th></th>\n",
       "      <th>Fx_lp1</th>\n",
       "      <th>Fy_lp1</th>\n",
       "      <th>Fz_lp1</th>\n",
       "      <th>Tx_lp1</th>\n",
       "      <th>Ty_lp1</th>\n",
       "      <th>Tz_lp1</th>\n",
       "      <th>F_lp1</th>\n",
       "      <th>T_lp1</th>\n",
       "    </tr>\n",
       "  </thead>\n",
       "  <tbody>\n",
       "    <tr>\n",
       "      <th>0</th>\n",
       "      <td>0.430233</td>\n",
       "      <td>0.597623</td>\n",
       "      <td>0.944836</td>\n",
       "      <td>0.492636</td>\n",
       "      <td>0.517241</td>\n",
       "      <td>0.526923</td>\n",
       "      <td>0.038976</td>\n",
       "      <td>0.003563</td>\n",
       "    </tr>\n",
       "    <tr>\n",
       "      <th>1</th>\n",
       "      <td>0.431894</td>\n",
       "      <td>0.599321</td>\n",
       "      <td>0.944249</td>\n",
       "      <td>0.492636</td>\n",
       "      <td>0.517241</td>\n",
       "      <td>0.526923</td>\n",
       "      <td>0.038318</td>\n",
       "      <td>0.003563</td>\n",
       "    </tr>\n",
       "    <tr>\n",
       "      <th>2</th>\n",
       "      <td>0.430233</td>\n",
       "      <td>0.597623</td>\n",
       "      <td>0.943662</td>\n",
       "      <td>0.492636</td>\n",
       "      <td>0.518043</td>\n",
       "      <td>0.526923</td>\n",
       "      <td>0.037681</td>\n",
       "      <td>0.003380</td>\n",
       "    </tr>\n",
       "    <tr>\n",
       "      <th>3</th>\n",
       "      <td>0.430233</td>\n",
       "      <td>0.597623</td>\n",
       "      <td>0.944836</td>\n",
       "      <td>0.493373</td>\n",
       "      <td>0.517241</td>\n",
       "      <td>0.526923</td>\n",
       "      <td>0.038976</td>\n",
       "      <td>0.002519</td>\n",
       "    </tr>\n",
       "    <tr>\n",
       "      <th>4</th>\n",
       "      <td>0.430233</td>\n",
       "      <td>0.597623</td>\n",
       "      <td>0.944836</td>\n",
       "      <td>0.492636</td>\n",
       "      <td>0.517241</td>\n",
       "      <td>0.526923</td>\n",
       "      <td>0.038976</td>\n",
       "      <td>0.003563</td>\n",
       "    </tr>\n",
       "  </tbody>\n",
       "</table>\n",
       "</div>"
      ],
      "text/plain": [
       "     Fx_lp1    Fy_lp1    Fz_lp1    Tx_lp1    Ty_lp1    Tz_lp1     F_lp1  \\\n",
       "0  0.430233  0.597623  0.944836  0.492636  0.517241  0.526923  0.038976   \n",
       "1  0.431894  0.599321  0.944249  0.492636  0.517241  0.526923  0.038318   \n",
       "2  0.430233  0.597623  0.943662  0.492636  0.518043  0.526923  0.037681   \n",
       "3  0.430233  0.597623  0.944836  0.493373  0.517241  0.526923  0.038976   \n",
       "4  0.430233  0.597623  0.944836  0.492636  0.517241  0.526923  0.038976   \n",
       "\n",
       "      T_lp1  \n",
       "0  0.003563  \n",
       "1  0.003563  \n",
       "2  0.003380  \n",
       "3  0.002519  \n",
       "4  0.003563  "
      ]
     },
     "execution_count": 38,
     "metadata": {},
     "output_type": "execute_result"
    }
   ],
   "source": [
    "X_lp1.head()"
   ]
  },
  {
   "attachments": {},
   "cell_type": "markdown",
   "metadata": {},
   "source": [
    "PCA on the resultant values"
   ]
  },
  {
   "cell_type": "code",
   "execution_count": 39,
   "metadata": {},
   "outputs": [
    {
     "name": "stdout",
     "output_type": "stream",
     "text": [
      "[0.89340747 0.10659253]\n"
     ]
    }
   ],
   "source": [
    "from sklearn.decomposition import PCA\n",
    "pca = PCA(n_components=2)\n",
    "pca.fit(X_lp1[[\"F_lp1\", \"T_lp1\"]])\n",
    "print(pca.explained_variance_ratio_)"
   ]
  },
  {
   "cell_type": "code",
   "execution_count": 40,
   "metadata": {},
   "outputs": [
    {
     "data": {
      "text/plain": [
       "<AxesSubplot:>"
      ]
     },
     "execution_count": 40,
     "metadata": {},
     "output_type": "execute_result"
    },
    {
     "data": {
      "image/png": "[encoded data removed]",
      "text/plain": [
       "<Figure size 432x288 with 2 Axes>"
      ]
     },
     "metadata": {
      "needs_background": "light"
     },
     "output_type": "display_data"
    }
   ],
   "source": [
    "sns.heatmap(X_lp1[[\"Fx_lp1\", \"Fy_lp1\", \"Fz_lp1\", \"Tx_lp1\", \"Ty_lp1\", \"Tz_lp1\"]].corr())"
   ]
  },
  {
   "attachments": {},
   "cell_type": "markdown",
   "metadata": {},
   "source": [
    "Converting the DF to numpy so as to convert it into 3d arrays and compute the average and overall force torque values\n",
    "Followed by reshaping it into 3d numpy arrays"
   ]
  },
  {
   "cell_type": "code",
   "execution_count": 41,
   "metadata": {},
   "outputs": [],
   "source": [
    "X_lp1_numpy = X_lp1.to_numpy()\n",
    "X_lp1_numpy = X_lp1_numpy.reshape(-1,15,8)"
   ]
  },
  {
   "cell_type": "code",
   "execution_count": 42,
   "metadata": {},
   "outputs": [
    {
     "name": "stdout",
     "output_type": "stream",
     "text": [
      "(88, 15, 8)\n",
      "[[[0.43023256 0.59762309 0.94483568 ... 0.52692308 0.03897628 0.00356285]\n",
      "  [0.43189369 0.59932088 0.94424883 ... 0.52692308 0.03831843 0.00356285]\n",
      "  [0.43023256 0.59762309 0.94366197 ... 0.52692308 0.03768146 0.00338001]\n",
      "  ...\n",
      "  [0.43023256 0.59762309 0.94542254 ... 0.52692308 0.03962371 0.00356285]\n",
      "  [0.43023256 0.59762309 0.94307512 ... 0.52692308 0.03703405 0.00338001]\n",
      "  [0.43023256 0.59932088 0.94542254 ... 0.52692308 0.03961865 0.00251931]]\n",
      "\n",
      " [[0.43023256 0.59762309 0.94483568 ... 0.52692308 0.03897628 0.00251931]\n",
      "  [0.43023256 0.59762309 0.94483568 ... 0.52692308 0.03897628 0.00356285]\n",
      "  [0.43023256 0.59762309 0.94366197 ... 0.52692308 0.03768146 0.00338001]\n",
      "  ...\n",
      "  [0.43023256 0.5959253  0.9471831  ... 0.52692308 0.04158049 0.00356285]\n",
      "  [0.43189369 0.60101868 0.94659624 ... 0.52307692 0.04091366 0.00764146]\n",
      "  [0.43023256 0.59762309 0.94248826 ... 0.52692308 0.03638665 0.00563336]]\n",
      "\n",
      " [[0.43023256 0.59932088 0.94131455 ... 0.52692308 0.0350862  0.00656957]\n",
      "  [0.43189369 0.5942275  0.94483568 ... 0.52692308 0.03901224 0.00112667]\n",
      "  [0.43023256 0.60101868 0.93779343 ... 0.52307692 0.03120772 0.00478006]\n",
      "  ...\n",
      "  [0.43023256 0.59932088 0.94366197 ... 0.52692308 0.03767615 0.00796677]\n",
      "  [0.43023256 0.59932088 0.94600939 ... 0.52307692 0.04026615 0.00721422]\n",
      "  [0.43023256 0.59932088 0.93955399 ... 0.52692308 0.03314377 0.00563336]]\n",
      "\n",
      " ...\n",
      "\n",
      " [[0.46677741 0.62478778 0.89964789 ... 0.5        0.01718125 0.05543635]\n",
      "  [0.47009967 0.62988115 0.89201878 ... 0.48846154 0.02392551 0.05851103]\n",
      "  [0.47840532 0.62648557 0.89260563 ... 0.49230769 0.02499419 0.06082982]\n",
      "  ...\n",
      "  [0.61295681 0.68760611 0.73532864 ... 0.53076923 0.20399443 0.17583655]\n",
      "  [0.63953488 0.70118846 0.70481221 ... 0.54230769 0.23955307 0.19988814]\n",
      "  [0.67774086 0.71646859 0.66666667 ... 0.55769231 0.28456204 0.24051201]]\n",
      "\n",
      " [[0.71594684 0.74533107 0.62265258 ... 0.57692308 0.3364224  0.28104071]\n",
      "  [0.76079734 0.762309   0.57570423 ... 0.58461538 0.39142482 0.32648401]\n",
      "  [0.80066445 0.78947368 0.51643192 ... 0.60384615 0.45914326 0.36158252]\n",
      "  ...\n",
      "  [0.99501661 0.86078098 0.29988263 ... 0.68846154 0.71107695 0.55374607]\n",
      "  [1.         0.86078098 0.29988263 ... 0.69615385 0.71167758 0.54386376]\n",
      "  [1.         0.86078098 0.29988263 ... 0.69615385 0.71167758 0.54386376]]\n",
      "\n",
      " [[0.42192691 0.60441426 0.93838028 ... 0.53846154 0.03212166 0.02576606]\n",
      "  [0.42026578 0.60271647 0.93838028 ... 0.53846154 0.03217102 0.02976631]\n",
      "  [0.41694352 0.60780985 0.93485915 ... 0.54230769 0.02869413 0.03456146]\n",
      "  ...\n",
      "  [0.41196013 0.60441426 0.9213615  ... 0.54615385 0.01508004 0.0386532 ]\n",
      "  [0.410299   0.60611205 0.92312207 ... 0.54615385 0.01717022 0.04499638]\n",
      "  [0.410299   0.60271647 0.91666667 ... 0.55       0.01108758 0.04040338]]]\n"
     ]
    }
   ],
   "source": [
    "print(X_lp1_numpy.shape)\n",
    "print(X_lp1_numpy)"
   ]
  },
  {
   "attachments": {},
   "cell_type": "markdown",
   "metadata": {},
   "source": [
    "Taking the mean of all the 15 readings for all the 8 columns"
   ]
  },
  {
   "cell_type": "code",
   "execution_count": 43,
   "metadata": {},
   "outputs": [],
   "source": [
    "X_lp1_avg = np.mean(X_lp1_numpy, axis=1)"
   ]
  },
  {
   "attachments": {},
   "cell_type": "markdown",
   "metadata": {},
   "source": [
    "Converting to dataframes for better visualisation"
   ]
  },
  {
   "cell_type": "code",
   "execution_count": 44,
   "metadata": {},
   "outputs": [],
   "source": [
    "X_lp1_dfprime = pd.DataFrame(X_lp1_avg, columns=[\"Fx_lp1\", \"Fy_lp1\", \"Fz_lp1\", \"Tx_lp1\", \"Ty_lp1\", \"Tz_lp1\", \"F_lp1\", \"T_lp1\"])"
   ]
  },
  {
   "attachments": {},
   "cell_type": "markdown",
   "metadata": {},
   "source": [
    "Combining X and Y "
   ]
  },
  {
   "cell_type": "code",
   "execution_count": 45,
   "metadata": {},
   "outputs": [],
   "source": [
    "X_lp1_df = pd.concat([X_lp1_dfprime, Y_lp1], axis = 1)"
   ]
  },
  {
   "attachments": {},
   "cell_type": "markdown",
   "metadata": {},
   "source": [
    "X_lp1_df = "
   ]
  },
  {
   "cell_type": "code",
   "execution_count": 46,
   "metadata": {},
   "outputs": [
    {
     "name": "stdout",
     "output_type": "stream",
     "text": [
      "<class 'pandas.core.frame.DataFrame'>\n",
      "RangeIndex: 88 entries, 0 to 87\n",
      "Data columns (total 9 columns):\n",
      " #   Column  Non-Null Count  Dtype  \n",
      "---  ------  --------------  -----  \n",
      " 0   Fx_lp1  88 non-null     float64\n",
      " 1   Fy_lp1  88 non-null     float64\n",
      " 2   Fz_lp1  88 non-null     float64\n",
      " 3   Tx_lp1  88 non-null     float64\n",
      " 4   Ty_lp1  88 non-null     float64\n",
      " 5   Tz_lp1  88 non-null     float64\n",
      " 6   F_lp1   88 non-null     float64\n",
      " 7   T_lp1   88 non-null     float64\n",
      " 8   Y_lp1   88 non-null     float64\n",
      "dtypes: float64(9)\n",
      "memory usage: 6.3 KB\n",
      "None\n"
     ]
    }
   ],
   "source": [
    "print(X_lp1_df.info())"
   ]
  },
  {
   "cell_type": "code",
   "execution_count": 47,
   "metadata": {},
   "outputs": [
    {
     "name": "stdout",
     "output_type": "stream",
     "text": [
      "          Fx_lp1     Fy_lp1     Fz_lp1     Tx_lp1     Ty_lp1     Tz_lp1  \\\n",
      "count  88.000000  88.000000  88.000000  88.000000  88.000000  88.000000   \n",
      "mean    0.427998   0.614454   0.832621   0.466106   0.514421   0.530262   \n",
      "std     0.077598   0.065556   0.169979   0.102067   0.070181   0.057277   \n",
      "min     0.019934   0.446406   0.159311   0.124890   0.163272   0.279231   \n",
      "25%     0.422730   0.597425   0.810104   0.467280   0.503769   0.521410   \n",
      "50%     0.430399   0.601132   0.922027   0.486524   0.515985   0.526154   \n",
      "75%     0.435548   0.620911   0.943124   0.492796   0.527145   0.533974   \n",
      "max     0.931229   0.927334   0.947066   0.744379   0.834376   0.783846   \n",
      "\n",
      "           F_lp1      T_lp1      Y_lp1  \n",
      "count  88.000000  88.000000  88.000000  \n",
      "mean    0.128063   0.114951   1.715909  \n",
      "std     0.167592   0.156297   1.212472  \n",
      "min     0.011840   0.003036   0.000000  \n",
      "25%     0.036427   0.013396   1.000000  \n",
      "50%     0.041700   0.041131   2.000000  \n",
      "75%     0.145041   0.140059   3.000000  \n",
      "max     0.848916   0.760464   3.000000  \n"
     ]
    }
   ],
   "source": [
    "print(X_lp1_df.describe())"
   ]
  },
  {
   "attachments": {},
   "cell_type": "markdown",
   "metadata": {},
   "source": [
    "Now is that all the data are checked for null values (no null values present), now data is visualised using various tools"
   ]
  },
  {
   "attachments": {},
   "cell_type": "markdown",
   "metadata": {},
   "source": [
    "1. Scatter Plot (done on both decimal and log scale)"
   ]
  },
  {
   "attachments": {},
   "cell_type": "markdown",
   "metadata": {},
   "source": [
    "lp1"
   ]
  },
  {
   "cell_type": "code",
   "execution_count": 48,
   "metadata": {},
   "outputs": [
    {
     "data": {
      "application/vnd.plotly.v1+json": {
       "config": {
        "plotlyServerURL": "https://plot.ly"
       },
       "data": [
        {
         "hovertemplate": "variable=Fx_lp1<br>value=%{x}<br>index=%{y}<extra></extra>",
         "legendgroup": "Fx_lp1",
         "marker": {
          "color": "red",
          "symbol": "circle"
         },
         "mode": "markers",
         "name": "Fx_lp1",
         "orientation": "h",
         "showlegend": true,
         "type": "scatter",
         "x": [
          0.43034330011074196,
          0.43045404208194904,
          0.4307862679955703,
          0.43122923588039874,
          0.43089700996677743,
          0.43023255813953487,
          0.4304540420819491,
          0.43078626799557035,
          0.43078626799557035,
          0.43034330011074196,
          0.43045404208194904,
          0.4312292358803987,
          0.43045404208194904,
          0.43133997785160577,
          0.43045404208194904,
          0.42978959025470653,
          0.430343300110742,
          0.43089700996677743,
          0.44285714285714284,
          0.44905869324473974,
          0.4129568106312292,
          0.44318936877076415,
          0.439313399778516,
          0.39446290143964563,
          0.41827242524916947,
          0.4249169435215947,
          0.4374307862679956,
          0.4287929125138427,
          0.4262458471760798,
          0.43588039867109635,
          0.43665559246954594,
          0.43023255813953487,
          0.4343300110741971,
          0.4510520487264673,
          0.42281284606866004,
          0.4129568106312292,
          0.44385382059800654,
          0.4302325581395348,
          0.43156146179401994,
          0.41107419712070875,
          0.43122923588039874,
          0.42469545957918053,
          0.43145071982281286,
          0.42325581395348844,
          0.4105204872646733,
          0.42281284606866004,
          0.4224806201550387,
          0.4060908084163898,
          0.4069767441860465,
          0.4190476190476191,
          0.44019933554817275,
          0.381063122923588,
          0.4096345514950166,
          0.3941306755260243,
          0.44241417497231444,
          0.4480620155038759,
          0.4568106312292359,
          0.5109634551495017,
          0.4411960132890365,
          0.43543743078626795,
          0.28648947951273535,
          0.019933554817275746,
          0.4262458471760796,
          0.432890365448505,
          0.46456256921373207,
          0.4348837209302326,
          0.4285714285714286,
          0.4287929125138427,
          0.41805094130675524,
          0.3925802879291252,
          0.2647840531561461,
          0.4339977851605758,
          0.45669988925802874,
          0.5197120708748615,
          0.43543743078626795,
          0.45204872646733113,
          0.4251384274640088,
          0.42081949058693247,
          0.4282392026578074,
          0.4246954595791806,
          0.4281284606866002,
          0.4264673311184939,
          0.4003322259136212,
          0.3130675526024363,
          0.44772978959025467,
          0.5383167220376522,
          0.9312292358803987,
          0.41605758582502766
         ],
         "xaxis": "x",
         "y": [
          0,
          1,
          2,
          3,
          4,
          5,
          6,
          7,
          8,
          9,
          10,
          11,
          12,
          13,
          14,
          15,
          16,
          17,
          18,
          19,
          20,
          21,
          22,
          23,
          24,
          25,
          26,
          27,
          28,
          29,
          30,
          31,
          32,
          33,
          34,
          35,
          36,
          37,
          38,
          39,
          40,
          41,
          42,
          43,
          44,
          45,
          46,
          47,
          48,
          49,
          50,
          51,
          52,
          53,
          54,
          55,
          56,
          57,
          58,
          59,
          60,
          61,
          62,
          63,
          64,
          65,
          66,
          67,
          68,
          69,
          70,
          71,
          72,
          73,
          74,
          75,
          76,
          77,
          78,
          79,
          80,
          81,
          82,
          83,
          84,
          85,
          86,
          87
         ],
         "yaxis": "y"
        },
        {
         "hovertemplate": "variable=Fy_lp1<br>value=%{x}<br>index=%{y}<extra></extra>",
         "legendgroup": "Fy_lp1",
         "marker": {
          "color": "blue",
          "symbol": "circle"
         },
         "mode": "markers",
         "name": "Fy_lp1",
         "orientation": "h",
         "showlegend": true,
         "type": "scatter",
         "x": [
          0.5978494623655914,
          0.5981890209394454,
          0.5984153933220147,
          0.5995472552348614,
          0.5988681380871534,
          0.6027164685908318,
          0.5976230899830222,
          0.5995472552348614,
          0.6006791171477078,
          0.5977362761743069,
          0.5980758347481606,
          0.5979626485568761,
          0.5996604414261459,
          0.5977362761743067,
          0.6004527447651387,
          0.6011318619128467,
          0.5990945104697227,
          0.600679117147708,
          0.6045274476513866,
          0.6101867572156198,
          0.5942275042444823,
          0.5873231465761178,
          0.6044142614601019,
          0.6344086021505377,
          0.5906055461233729,
          0.596264855687606,
          0.5953593661573287,
          0.5977362761743067,
          0.6011318619128466,
          0.5856253537068477,
          0.5813242784380305,
          0.5968307866440293,
          0.6027164685908318,
          0.6046406338426712,
          0.6235427277872101,
          0.6501414827391058,
          0.5584606677985284,
          0.565704584040747,
          0.591624221844935,
          0.5870967741935483,
          0.6011318619128467,
          0.619468024900962,
          0.6001131861912846,
          0.6048670062252407,
          0.6494623655913979,
          0.6368986983588003,
          0.4750424448217318,
          0.4667798528579513,
          0.4613469156762875,
          0.6183361629881154,
          0.6058856819468024,
          0.5692133559705715,
          0.696774193548387,
          0.8123372948500283,
          0.6157328805885682,
          0.6200339558573854,
          0.6278438030560272,
          0.6520656479909451,
          0.6089417091114883,
          0.6599886813808716,
          0.7809847198641766,
          0.9273344651952462,
          0.59490662139219,
          0.565365025466893,
          0.44640633842671196,
          0.6005659309564232,
          0.6002263723825693,
          0.6016977928692699,
          0.6184493491794001,
          0.6366723259762307,
          0.6265987549518958,
          0.6043010752688172,
          0.6136955291454442,
          0.6601018675721562,
          0.5864176570458405,
          0.6239954725523484,
          0.6072439162422184,
          0.6971137521222412,
          0.7152235427277873,
          0.6032823995472552,
          0.6528579513299377,
          0.5902659875495189,
          0.5810979060554612,
          0.6694963214487832,
          0.6157328805885681,
          0.6568194680249011,
          0.8395019807583477,
          0.6035087719298247
         ],
         "xaxis": "x",
         "y": [
          0,
          1,
          2,
          3,
          4,
          5,
          6,
          7,
          8,
          9,
          10,
          11,
          12,
          13,
          14,
          15,
          16,
          17,
          18,
          19,
          20,
          21,
          22,
          23,
          24,
          25,
          26,
          27,
          28,
          29,
          30,
          31,
          32,
          33,
          34,
          35,
          36,
          37,
          38,
          39,
          40,
          41,
          42,
          43,
          44,
          45,
          46,
          47,
          48,
          49,
          50,
          51,
          52,
          53,
          54,
          55,
          56,
          57,
          58,
          59,
          60,
          61,
          62,
          63,
          64,
          65,
          66,
          67,
          68,
          69,
          70,
          71,
          72,
          73,
          74,
          75,
          76,
          77,
          78,
          79,
          80,
          81,
          82,
          83,
          84,
          85,
          86,
          87
         ],
         "yaxis": "y"
        },
        {
         "hovertemplate": "variable=Fz_lp1<br>value=%{x}<br>index=%{y}<extra></extra>",
         "legendgroup": "Fz_lp1",
         "marker": {
          "color": "green",
          "symbol": "circle"
         },
         "mode": "markers",
         "name": "Fz_lp1",
         "orientation": "h",
         "showlegend": true,
         "type": "scatter",
         "x": [
          0.9445618153364633,
          0.9443270735524257,
          0.9437402190923319,
          0.9443661971830988,
          0.9434272300469483,
          0.9426838810641627,
          0.9423708920187794,
          0.942566510172144,
          0.9422926447574334,
          0.9448748043818468,
          0.9445618153364632,
          0.9439749608763695,
          0.9438967136150235,
          0.943153364632238,
          0.9442097026604069,
          0.9422143974960875,
          0.9419796557120501,
          0.9420187793427229,
          0.9442488262910799,
          0.9460093896713616,
          0.9465179968701096,
          0.9444835680751174,
          0.9434663536776213,
          0.9465962441314554,
          0.9424491392801252,
          0.942018779342723,
          0.9417449139280125,
          0.9470657276995305,
          0.9426056338028169,
          0.9414319248826291,
          0.938732394366197,
          0.9431142410015649,
          0.9440923317683882,
          0.9423708920187793,
          0.9446009389671362,
          0.8267605633802818,
          0.744092331768388,
          0.8240610328638497,
          0.8618935837245695,
          0.8188575899843505,
          0.9432707355242567,
          0.8478482003129889,
          0.9444053208137717,
          0.8412754303599373,
          0.7947574334898279,
          0.760602503912363,
          0.4944835680751174,
          0.5192879499217528,
          0.4960485133020344,
          0.8516823161189357,
          0.8280907668231611,
          0.6827856025039124,
          0.7716744913928011,
          0.3908450704225352,
          0.9209702660406885,
          0.904186228482003,
          0.8564553990610329,
          0.4735915492957747,
          0.9124804381846636,
          0.7584115805946792,
          0.43701095461658845,
          0.1593114241001565,
          0.9210485133020345,
          0.7253521126760564,
          0.5126369327073552,
          0.8464006259780908,
          0.6904147104851329,
          0.9399061032863848,
          0.9247261345852895,
          0.8853286384976525,
          0.5162754303599375,
          0.9262128325508608,
          0.8615414710485132,
          0.6998043818466354,
          0.9162363067292645,
          0.8526212832550861,
          0.9188575899843507,
          0.7448748043818465,
          0.6482785602503913,
          0.9230046948356809,
          0.8152190923317683,
          0.9271909233176842,
          0.8647104851330203,
          0.49037558685446003,
          0.9244131455399062,
          0.8211658841940532,
          0.35477308294209703,
          0.931338028169014
         ],
         "xaxis": "x",
         "y": [
          0,
          1,
          2,
          3,
          4,
          5,
          6,
          7,
          8,
          9,
          10,
          11,
          12,
          13,
          14,
          15,
          16,
          17,
          18,
          19,
          20,
          21,
          22,
          23,
          24,
          25,
          26,
          27,
          28,
          29,
          30,
          31,
          32,
          33,
          34,
          35,
          36,
          37,
          38,
          39,
          40,
          41,
          42,
          43,
          44,
          45,
          46,
          47,
          48,
          49,
          50,
          51,
          52,
          53,
          54,
          55,
          56,
          57,
          58,
          59,
          60,
          61,
          62,
          63,
          64,
          65,
          66,
          67,
          68,
          69,
          70,
          71,
          72,
          73,
          74,
          75,
          76,
          77,
          78,
          79,
          80,
          81,
          82,
          83,
          84,
          85,
          86,
          87
         ],
         "yaxis": "y"
        },
        {
         "hovertemplate": "variable=Tx_lp1<br>value=%{x}<br>index=%{y}<extra></extra>",
         "legendgroup": "Tx_lp1",
         "marker": {
          "color": "purple",
          "symbol": "circle"
         },
         "mode": "markers",
         "name": "Tx_lp1",
         "orientation": "h",
         "showlegend": true,
         "type": "scatter",
         "x": [
          0.4927344133529701,
          0.49224349533627887,
          0.491899852724595,
          0.490279823269514,
          0.4896907216494846,
          0.4873834069710358,
          0.4895925380461463,
          0.4878252331860579,
          0.4865979381443299,
          0.4929798723613157,
          0.49243986254295535,
          0.49194894452626414,
          0.490279823269514,
          0.49072164948453606,
          0.48856161021109473,
          0.4877270495827197,
          0.48841433480608737,
          0.4864506627393225,
          0.4819342169857634,
          0.48276877761413844,
          0.48522336769759455,
          0.49896907216494846,
          0.4967108492881689,
          0.47643593519882177,
          0.4997545409916544,
          0.48880706921944034,
          0.49052528227785963,
          0.4824251350024546,
          0.48846342660775655,
          0.4969563082965145,
          0.49779086892488955,
          0.49106529209621996,
          0.49013254786450666,
          0.5211094747177222,
          0.47304860088365247,
          0.5289150711831124,
          0.3767795778105058,
          0.47378497790868923,
          0.48213058419243987,
          0.44177712322042223,
          0.4862052037309769,
          0.4747668139420717,
          0.48762886597938143,
          0.4693667157584684,
          0.5782523318605792,
          0.6132056946489934,
          0.19243986254295536,
          0.1830633284241531,
          0.16416298478154145,
          0.46470299459990183,
          0.47560137457044677,
          0.3122238586156111,
          0.3487972508591065,
          0.2177221404025528,
          0.4729013254786451,
          0.47000490918016696,
          0.4649975454099166,
          0.45139911634757,
          0.5043691703485518,
          0.5560628375061364,
          0.6600392734413352,
          0.7099656357388314,
          0.4789887088856161,
          0.3582719685812469,
          0.3099656357388316,
          0.46804123711340206,
          0.44486990672557686,
          0.4845360824742268,
          0.448944526264114,
          0.3942071674030437,
          0.12488954344624448,
          0.4724104074619539,
          0.4029455081001473,
          0.19106529209621997,
          0.4831124202258223,
          0.3794796269023074,
          0.49921453117329406,
          0.5510554737358859,
          0.6209131075110454,
          0.5013254786450663,
          0.5536573392243495,
          0.5149239077074128,
          0.5723613156602846,
          0.7443789887088859,
          0.46975945017182136,
          0.4463917525773197,
          0.40054000981836047,
          0.4799214531173294
         ],
         "xaxis": "x",
         "y": [
          0,
          1,
          2,
          3,
          4,
          5,
          6,
          7,
          8,
          9,
          10,
          11,
          12,
          13,
          14,
          15,
          16,
          17,
          18,
          19,
          20,
          21,
          22,
          23,
          24,
          25,
          26,
          27,
          28,
          29,
          30,
          31,
          32,
          33,
          34,
          35,
          36,
          37,
          38,
          39,
          40,
          41,
          42,
          43,
          44,
          45,
          46,
          47,
          48,
          49,
          50,
          51,
          52,
          53,
          54,
          55,
          56,
          57,
          58,
          59,
          60,
          61,
          62,
          63,
          64,
          65,
          66,
          67,
          68,
          69,
          70,
          71,
          72,
          73,
          74,
          75,
          76,
          77,
          78,
          79,
          80,
          81,
          82,
          83,
          84,
          85,
          86,
          87
         ],
         "yaxis": "y"
        },
        {
         "hovertemplate": "variable=Ty_lp1<br>value=%{x}<br>index=%{y}<extra></extra>",
         "legendgroup": "Ty_lp1",
         "marker": {
          "color": "orange",
          "symbol": "circle"
         },
         "mode": "markers",
         "name": "Ty_lp1",
         "orientation": "h",
         "showlegend": true,
         "type": "scatter",
         "x": [
          0.5175086875167069,
          0.5169740711039829,
          0.5164929163325314,
          0.5171879176690724,
          0.5157979149959904,
          0.5154236835070837,
          0.5152632985832665,
          0.515744453354718,
          0.5149959903769046,
          0.5175086875167069,
          0.5172948409516172,
          0.5164929163325315,
          0.5168136861801657,
          0.5161721464848971,
          0.5157444533547179,
          0.5146217588879978,
          0.5150494520181769,
          0.5154771451483561,
          0.5286287089013634,
          0.5368083400160385,
          0.5249933172948411,
          0.526650628174285,
          0.5227479283614007,
          0.4961774926490244,
          0.5005613472333601,
          0.528735632183908,
          0.5191125367548783,
          0.5238706228281208,
          0.5096498262496658,
          0.5179363806468859,
          0.5184709970596099,
          0.5155840684309009,
          0.5131782945736434,
          0.5546645282010159,
          0.5082063619353114,
          0.5687249398556536,
          0.4353381448810478,
          0.5190056134723336,
          0.5227479283614007,
          0.5293237102379044,
          0.5143009890403634,
          0.5048382785351511,
          0.5152632985832664,
          0.5172948409516172,
          0.5370756482224004,
          0.5479818230419673,
          0.44255546645282007,
          0.3966853782411121,
          0.39321037155840693,
          0.5136059877038225,
          0.4238438920074846,
          0.5666399358460306,
          0.4665062817428495,
          0.4305800588078055,
          0.5317829457364341,
          0.5378241112002139,
          0.5465918203688854,
          0.5967388398823843,
          0.5506014434643144,
          0.6392408446939322,
          0.6244854317027533,
          0.4533012563485699,
          0.5001336541031809,
          0.4285485164394547,
          0.3605453087409784,
          0.48912055600106924,
          0.4911520983694199,
          0.5121090617481958,
          0.4924886394012296,
          0.4451216252338946,
          0.16327185244587009,
          0.5083132852178561,
          0.496551724137931,
          0.4845763164929162,
          0.5067628976209569,
          0.48398823843892014,
          0.5176690724405238,
          0.6182838813151563,
          0.6845763164929164,
          0.5133921411387331,
          0.557872226677359,
          0.5165998396150762,
          0.506495589414595,
          0.597647687784015,
          0.5215183106121358,
          0.5751937984496124,
          0.8343758353381451,
          0.5000801924619086
         ],
         "xaxis": "x",
         "y": [
          0,
          1,
          2,
          3,
          4,
          5,
          6,
          7,
          8,
          9,
          10,
          11,
          12,
          13,
          14,
          15,
          16,
          17,
          18,
          19,
          20,
          21,
          22,
          23,
          24,
          25,
          26,
          27,
          28,
          29,
          30,
          31,
          32,
          33,
          34,
          35,
          36,
          37,
          38,
          39,
          40,
          41,
          42,
          43,
          44,
          45,
          46,
          47,
          48,
          49,
          50,
          51,
          52,
          53,
          54,
          55,
          56,
          57,
          58,
          59,
          60,
          61,
          62,
          63,
          64,
          65,
          66,
          67,
          68,
          69,
          70,
          71,
          72,
          73,
          74,
          75,
          76,
          77,
          78,
          79,
          80,
          81,
          82,
          83,
          84,
          85,
          86,
          87
         ],
         "yaxis": "y"
        },
        {
         "hovertemplate": "variable=Tz_lp1<br>value=%{x}<br>index=%{y}<extra></extra>",
         "legendgroup": "Tz_lp1",
         "marker": {
          "color": "yellow",
          "symbol": "circle"
         },
         "mode": "markers",
         "name": "Tz_lp1",
         "orientation": "h",
         "showlegend": true,
         "type": "scatter",
         "x": [
          0.5269230769230769,
          0.5258974358974359,
          0.5258974358974359,
          0.5256410256410257,
          0.5264102564102564,
          0.5261538461538461,
          0.5266666666666666,
          0.5269230769230769,
          0.5276923076923077,
          0.5269230769230769,
          0.5261538461538461,
          0.5258974358974359,
          0.5261538461538461,
          0.5251282051282051,
          0.5258974358974359,
          0.5256410256410257,
          0.528974358974359,
          0.5253846153846153,
          0.5284615384615384,
          0.5294871794871795,
          0.5474358974358975,
          0.518974358974359,
          0.5297435897435897,
          0.5074358974358975,
          0.5192307692307692,
          0.514102564102564,
          0.5279487179487179,
          0.5248717948717948,
          0.5251282051282051,
          0.5238461538461539,
          0.5256410256410257,
          0.5215384615384615,
          0.5302564102564102,
          0.48743589743589744,
          0.5251282051282051,
          0.5417948717948718,
          0.5328205128205128,
          0.5202564102564102,
          0.5225641025641026,
          0.5335897435897435,
          0.522051282051282,
          0.518974358974359,
          0.5258974358974359,
          0.521025641025641,
          0.545128205128205,
          0.535128205128205,
          0.5969230769230769,
          0.6507692307692309,
          0.6502564102564103,
          0.5282051282051282,
          0.5087179487179487,
          0.5502564102564101,
          0.5079487179487179,
          0.47564102564102567,
          0.5282051282051282,
          0.5315384615384615,
          0.5343589743589744,
          0.545128205128205,
          0.5487179487179487,
          0.5933333333333333,
          0.5248717948717948,
          0.27923076923076917,
          0.5338461538461539,
          0.5438461538461539,
          0.5958974358974359,
          0.5192307692307692,
          0.49717948717948723,
          0.5241025641025641,
          0.5299999999999999,
          0.5533333333333332,
          0.7838461538461539,
          0.5271794871794871,
          0.47051282051282056,
          0.29435897435897423,
          0.5407692307692308,
          0.4710256410256411,
          0.5292307692307692,
          0.6110256410256409,
          0.6448717948717948,
          0.5253846153846153,
          0.5538461538461538,
          0.5192307692307693,
          0.4784615384615385,
          0.46743589743589753,
          0.5135897435897436,
          0.5061538461538462,
          0.6487179487179487,
          0.5456410256410256
         ],
         "xaxis": "x",
         "y": [
          0,
          1,
          2,
          3,
          4,
          5,
          6,
          7,
          8,
          9,
          10,
          11,
          12,
          13,
          14,
          15,
          16,
          17,
          18,
          19,
          20,
          21,
          22,
          23,
          24,
          25,
          26,
          27,
          28,
          29,
          30,
          31,
          32,
          33,
          34,
          35,
          36,
          37,
          38,
          39,
          40,
          41,
          42,
          43,
          44,
          45,
          46,
          47,
          48,
          49,
          50,
          51,
          52,
          53,
          54,
          55,
          56,
          57,
          58,
          59,
          60,
          61,
          62,
          63,
          64,
          65,
          66,
          67,
          68,
          69,
          70,
          71,
          72,
          73,
          74,
          75,
          76,
          77,
          78,
          79,
          80,
          81,
          82,
          83,
          84,
          85,
          86,
          87
         ],
         "yaxis": "y"
        }
       ],
       "layout": {
        "legend": {
         "title": {
          "text": "variable"
         },
         "tracegroupgap": 0
        },
        "margin": {
         "t": 60
        },
        "template": {
         "data": {
          "bar": [
           {
            "error_x": {
             "color": "#2a3f5f"
            },
            "error_y": {
             "color": "#2a3f5f"
            },
            "marker": {
             "line": {
              "color": "#E5ECF6",
              "width": 0.5
             },
             "pattern": {
              "fillmode": "overlay",
              "size": 10,
              "solidity": 0.2
             }
            },
            "type": "bar"
           }
          ],
          "barpolar": [
           {
            "marker": {
             "line": {
              "color": "#E5ECF6",
              "width": 0.5
             },
             "pattern": {
              "fillmode": "overlay",
              "size": 10,
              "solidity": 0.2
             }
            },
            "type": "barpolar"
           }
          ],
          "carpet": [
           {
            "aaxis": {
             "endlinecolor": "#2a3f5f",
             "gridcolor": "white",
             "linecolor": "white",
             "minorgridcolor": "white",
             "startlinecolor": "#2a3f5f"
            },
            "baxis": {
             "endlinecolor": "#2a3f5f",
             "gridcolor": "white",
             "linecolor": "white",
             "minorgridcolor": "white",
             "startlinecolor": "#2a3f5f"
            },
            "type": "carpet"
           }
          ],
          "choropleth": [
           {
            "colorbar": {
             "outlinewidth": 0,
             "ticks": ""
            },
            "type": "choropleth"
           }
          ],
          "contour": [
           {
            "colorbar": {
             "outlinewidth": 0,
             "ticks": ""
            },
            "colorscale": [
             [
              0,
              "#0d0887"
             ],
             [
              0.1111111111111111,
              "#46039f"
             ],
             [
              0.2222222222222222,
              "#7201a8"
             ],
             [
              0.3333333333333333,
              "#9c179e"
             ],
             [
              0.4444444444444444,
              "#bd3786"
             ],
             [
              0.5555555555555556,
              "#d8576b"
             ],
             [
              0.6666666666666666,
              "#ed7953"
             ],
             [
              0.7777777777777778,
              "#fb9f3a"
             ],
             [
              0.8888888888888888,
              "#fdca26"
             ],
             [
              1,
              "#f0f921"
             ]
            ],
            "type": "contour"
           }
          ],
          "contourcarpet": [
           {
            "colorbar": {
             "outlinewidth": 0,
             "ticks": ""
            },
            "type": "contourcarpet"
           }
          ],
          "heatmap": [
           {
            "colorbar": {
             "outlinewidth": 0,
             "ticks": ""
            },
            "colorscale": [
             [
              0,
              "#0d0887"
             ],
             [
              0.1111111111111111,
              "#46039f"
             ],
             [
              0.2222222222222222,
              "#7201a8"
             ],
             [
              0.3333333333333333,
              "#9c179e"
             ],
             [
              0.4444444444444444,
              "#bd3786"
             ],
             [
              0.5555555555555556,
              "#d8576b"
             ],
             [
              0.6666666666666666,
              "#ed7953"
             ],
             [
              0.7777777777777778,
              "#fb9f3a"
             ],
             [
              0.8888888888888888,
              "#fdca26"
             ],
             [
              1,
              "#f0f921"
             ]
            ],
            "type": "heatmap"
           }
          ],
          "heatmapgl": [
           {
            "colorbar": {
             "outlinewidth": 0,
             "ticks": ""
            },
            "colorscale": [
             [
              0,
              "#0d0887"
             ],
             [
              0.1111111111111111,
              "#46039f"
             ],
             [
              0.2222222222222222,
              "#7201a8"
             ],
             [
              0.3333333333333333,
              "#9c179e"
             ],
             [
              0.4444444444444444,
              "#bd3786"
             ],
             [
              0.5555555555555556,
              "#d8576b"
             ],
             [
              0.6666666666666666,
              "#ed7953"
             ],
             [
              0.7777777777777778,
              "#fb9f3a"
             ],
             [
              0.8888888888888888,
              "#fdca26"
             ],
             [
              1,
              "#f0f921"
             ]
            ],
            "type": "heatmapgl"
           }
          ],
          "histogram": [
           {
            "marker": {
             "pattern": {
              "fillmode": "overlay",
              "size": 10,
              "solidity": 0.2
             }
            },
            "type": "histogram"
           }
          ],
          "histogram2d": [
           {
            "colorbar": {
             "outlinewidth": 0,
             "ticks": ""
            },
            "colorscale": [
             [
              0,
              "#0d0887"
             ],
             [
              0.1111111111111111,
              "#46039f"
             ],
             [
              0.2222222222222222,
              "#7201a8"
             ],
             [
              0.3333333333333333,
              "#9c179e"
             ],
             [
              0.4444444444444444,
              "#bd3786"
             ],
             [
              0.5555555555555556,
              "#d8576b"
             ],
             [
              0.6666666666666666,
              "#ed7953"
             ],
             [
              0.7777777777777778,
              "#fb9f3a"
             ],
             [
              0.8888888888888888,
              "#fdca26"
             ],
             [
              1,
              "#f0f921"
             ]
            ],
            "type": "histogram2d"
           }
          ],
          "histogram2dcontour": [
           {
            "colorbar": {
             "outlinewidth": 0,
             "ticks": ""
            },
            "colorscale": [
             [
              0,
              "#0d0887"
             ],
             [
              0.1111111111111111,
              "#46039f"
             ],
             [
              0.2222222222222222,
              "#7201a8"
             ],
             [
              0.3333333333333333,
              "#9c179e"
             ],
             [
              0.4444444444444444,
              "#bd3786"
             ],
             [
              0.5555555555555556,
              "#d8576b"
             ],
             [
              0.6666666666666666,
              "#ed7953"
             ],
             [
              0.7777777777777778,
              "#fb9f3a"
             ],
             [
              0.8888888888888888,
              "#fdca26"
             ],
             [
              1,
              "#f0f921"
             ]
            ],
            "type": "histogram2dcontour"
           }
          ],
          "mesh3d": [
           {
            "colorbar": {
             "outlinewidth": 0,
             "ticks": ""
            },
            "type": "mesh3d"
           }
          ],
          "parcoords": [
           {
            "line": {
             "colorbar": {
              "outlinewidth": 0,
              "ticks": ""
             }
            },
            "type": "parcoords"
           }
          ],
          "pie": [
           {
            "automargin": true,
            "type": "pie"
           }
          ],
          "scatter": [
           {
            "fillpattern": {
             "fillmode": "overlay",
             "size": 10,
             "solidity": 0.2
            },
            "type": "scatter"
           }
          ],
          "scatter3d": [
           {
            "line": {
             "colorbar": {
              "outlinewidth": 0,
              "ticks": ""
             }
            },
            "marker": {
             "colorbar": {
              "outlinewidth": 0,
              "ticks": ""
             }
            },
            "type": "scatter3d"
           }
          ],
          "scattercarpet": [
           {
            "marker": {
             "colorbar": {
              "outlinewidth": 0,
              "ticks": ""
             }
            },
            "type": "scattercarpet"
           }
          ],
          "scattergeo": [
           {
            "marker": {
             "colorbar": {
              "outlinewidth": 0,
              "ticks": ""
             }
            },
            "type": "scattergeo"
           }
          ],
          "scattergl": [
           {
            "marker": {
             "colorbar": {
              "outlinewidth": 0,
              "ticks": ""
             }
            },
            "type": "scattergl"
           }
          ],
          "scattermapbox": [
           {
            "marker": {
             "colorbar": {
              "outlinewidth": 0,
              "ticks": ""
             }
            },
            "type": "scattermapbox"
           }
          ],
          "scatterpolar": [
           {
            "marker": {
             "colorbar": {
              "outlinewidth": 0,
              "ticks": ""
             }
            },
            "type": "scatterpolar"
           }
          ],
          "scatterpolargl": [
           {
            "marker": {
             "colorbar": {
              "outlinewidth": 0,
              "ticks": ""
             }
            },
            "type": "scatterpolargl"
           }
          ],
          "scatterternary": [
           {
            "marker": {
             "colorbar": {
              "outlinewidth": 0,
              "ticks": ""
             }
            },
            "type": "scatterternary"
           }
          ],
          "surface": [
           {
            "colorbar": {
             "outlinewidth": 0,
             "ticks": ""
            },
            "colorscale": [
             [
              0,
              "#0d0887"
             ],
             [
              0.1111111111111111,
              "#46039f"
             ],
             [
              0.2222222222222222,
              "#7201a8"
             ],
             [
              0.3333333333333333,
              "#9c179e"
             ],
             [
              0.4444444444444444,
              "#bd3786"
             ],
             [
              0.5555555555555556,
              "#d8576b"
             ],
             [
              0.6666666666666666,
              "#ed7953"
             ],
             [
              0.7777777777777778,
              "#fb9f3a"
             ],
             [
              0.8888888888888888,
              "#fdca26"
             ],
             [
              1,
              "#f0f921"
             ]
            ],
            "type": "surface"
           }
          ],
          "table": [
           {
            "cells": {
             "fill": {
              "color": "#EBF0F8"
             },
             "line": {
              "color": "white"
             }
            },
            "header": {
             "fill": {
              "color": "#C8D4E3"
             },
             "line": {
              "color": "white"
             }
            },
            "type": "table"
           }
          ]
         },
         "layout": {
          "annotationdefaults": {
           "arrowcolor": "#2a3f5f",
           "arrowhead": 0,
           "arrowwidth": 1
          },
          "autotypenumbers": "strict",
          "coloraxis": {
           "colorbar": {
            "outlinewidth": 0,
            "ticks": ""
           }
          },
          "colorscale": {
           "diverging": [
            [
             0,
             "#8e0152"
            ],
            [
             0.1,
             "#c51b7d"
            ],
            [
             0.2,
             "#de77ae"
            ],
            [
             0.3,
             "#f1b6da"
            ],
            [
             0.4,
             "#fde0ef"
            ],
            [
             0.5,
             "#f7f7f7"
            ],
            [
             0.6,
             "#e6f5d0"
            ],
            [
             0.7,
             "#b8e186"
            ],
            [
             0.8,
             "#7fbc41"
            ],
            [
             0.9,
             "#4d9221"
            ],
            [
             1,
             "#276419"
            ]
           ],
           "sequential": [
            [
             0,
             "#0d0887"
            ],
            [
             0.1111111111111111,
             "#46039f"
            ],
            [
             0.2222222222222222,
             "#7201a8"
            ],
            [
             0.3333333333333333,
             "#9c179e"
            ],
            [
             0.4444444444444444,
             "#bd3786"
            ],
            [
             0.5555555555555556,
             "#d8576b"
            ],
            [
             0.6666666666666666,
             "#ed7953"
            ],
            [
             0.7777777777777778,
             "#fb9f3a"
            ],
            [
             0.8888888888888888,
             "#fdca26"
            ],
            [
             1,
             "#f0f921"
            ]
           ],
           "sequentialminus": [
            [
             0,
             "#0d0887"
            ],
            [
             0.1111111111111111,
             "#46039f"
            ],
            [
             0.2222222222222222,
             "#7201a8"
            ],
            [
             0.3333333333333333,
             "#9c179e"
            ],
            [
             0.4444444444444444,
             "#bd3786"
            ],
            [
             0.5555555555555556,
             "#d8576b"
            ],
            [
             0.6666666666666666,
             "#ed7953"
            ],
            [
             0.7777777777777778,
             "#fb9f3a"
            ],
            [
             0.8888888888888888,
             "#fdca26"
            ],
            [
             1,
             "#f0f921"
            ]
           ]
          },
          "colorway": [
           "#636efa",
           "#EF553B",
           "#00cc96",
           "#ab63fa",
           "#FFA15A",
           "#19d3f3",
           "#FF6692",
           "#B6E880",
           "#FF97FF",
           "#FECB52"
          ],
          "font": {
           "color": "#2a3f5f"
          },
          "geo": {
           "bgcolor": "white",
           "lakecolor": "white",
           "landcolor": "#E5ECF6",
           "showlakes": true,
           "showland": true,
           "subunitcolor": "white"
          },
          "hoverlabel": {
           "align": "left"
          },
          "hovermode": "closest",
          "mapbox": {
           "style": "light"
          },
          "paper_bgcolor": "white",
          "plot_bgcolor": "#E5ECF6",
          "polar": {
           "angularaxis": {
            "gridcolor": "white",
            "linecolor": "white",
            "ticks": ""
           },
           "bgcolor": "#E5ECF6",
           "radialaxis": {
            "gridcolor": "white",
            "linecolor": "white",
            "ticks": ""
           }
          },
          "scene": {
           "xaxis": {
            "backgroundcolor": "#E5ECF6",
            "gridcolor": "white",
            "gridwidth": 2,
            "linecolor": "white",
            "showbackground": true,
            "ticks": "",
            "zerolinecolor": "white"
           },
           "yaxis": {
            "backgroundcolor": "#E5ECF6",
            "gridcolor": "white",
            "gridwidth": 2,
            "linecolor": "white",
            "showbackground": true,
            "ticks": "",
            "zerolinecolor": "white"
           },
           "zaxis": {
            "backgroundcolor": "#E5ECF6",
            "gridcolor": "white",
            "gridwidth": 2,
            "linecolor": "white",
            "showbackground": true,
            "ticks": "",
            "zerolinecolor": "white"
           }
          },
          "shapedefaults": {
           "line": {
            "color": "#2a3f5f"
           }
          },
          "ternary": {
           "aaxis": {
            "gridcolor": "white",
            "linecolor": "white",
            "ticks": ""
           },
           "baxis": {
            "gridcolor": "white",
            "linecolor": "white",
            "ticks": ""
           },
           "bgcolor": "#E5ECF6",
           "caxis": {
            "gridcolor": "white",
            "linecolor": "white",
            "ticks": ""
           }
          },
          "title": {
           "x": 0.05
          },
          "xaxis": {
           "automargin": true,
           "gridcolor": "white",
           "linecolor": "white",
           "ticks": "",
           "title": {
            "standoff": 15
           },
           "zerolinecolor": "white",
           "zerolinewidth": 2
          },
          "yaxis": {
           "automargin": true,
           "gridcolor": "white",
           "linecolor": "white",
           "ticks": "",
           "title": {
            "standoff": 15
           },
           "zerolinecolor": "white",
           "zerolinewidth": 2
          }
         }
        },
        "xaxis": {
         "anchor": "y",
         "domain": [
          0,
          1
         ],
         "title": {
          "text": "value"
         }
        },
        "yaxis": {
         "anchor": "x",
         "domain": [
          0,
          1
         ],
         "title": {
          "text": "index"
         }
        }
       }
      }
     },
     "metadata": {},
     "output_type": "display_data"
    },
    {
     "data": {
      "application/vnd.plotly.v1+json": {
       "config": {
        "plotlyServerURL": "https://plot.ly"
       },
       "data": [
        {
         "hovertemplate": "variable=Fx_lp1<br>value=%{x}<br>Y_lp1=%{y}<extra></extra>",
         "legendgroup": "Fx_lp1",
         "marker": {
          "color": "#636efa",
          "symbol": "circle"
         },
         "mode": "markers",
         "name": "Fx_lp1",
         "orientation": "v",
         "showlegend": true,
         "type": "scatter",
         "x": [
          0.43034330011074196,
          0.43045404208194904,
          0.4307862679955703,
          0.43122923588039874,
          0.43089700996677743,
          0.43023255813953487,
          0.4304540420819491,
          0.43078626799557035,
          0.43078626799557035,
          0.43034330011074196,
          0.43045404208194904,
          0.4312292358803987,
          0.43045404208194904,
          0.43133997785160577,
          0.43045404208194904,
          0.42978959025470653,
          0.430343300110742,
          0.43089700996677743,
          0.44285714285714284,
          0.44905869324473974,
          0.4129568106312292,
          0.44318936877076415,
          0.439313399778516,
          0.39446290143964563,
          0.41827242524916947,
          0.4249169435215947,
          0.4374307862679956,
          0.4287929125138427,
          0.4262458471760798,
          0.43588039867109635,
          0.43665559246954594,
          0.43023255813953487,
          0.4343300110741971,
          0.4510520487264673,
          0.42281284606866004,
          0.4129568106312292,
          0.44385382059800654,
          0.4302325581395348,
          0.43156146179401994,
          0.41107419712070875,
          0.43122923588039874,
          0.42469545957918053,
          0.43145071982281286,
          0.42325581395348844,
          0.4105204872646733,
          0.42281284606866004,
          0.4224806201550387,
          0.4060908084163898,
          0.4069767441860465,
          0.4190476190476191,
          0.44019933554817275,
          0.381063122923588,
          0.4096345514950166,
          0.3941306755260243,
          0.44241417497231444,
          0.4480620155038759,
          0.4568106312292359,
          0.5109634551495017,
          0.4411960132890365,
          0.43543743078626795,
          0.28648947951273535,
          0.019933554817275746,
          0.4262458471760796,
          0.432890365448505,
          0.46456256921373207,
          0.4348837209302326,
          0.4285714285714286,
          0.4287929125138427,
          0.41805094130675524,
          0.3925802879291252,
          0.2647840531561461,
          0.4339977851605758,
          0.45669988925802874,
          0.5197120708748615,
          0.43543743078626795,
          0.45204872646733113,
          0.4251384274640088,
          0.42081949058693247,
          0.4282392026578074,
          0.4246954595791806,
          0.4281284606866002,
          0.4264673311184939,
          0.4003322259136212,
          0.3130675526024363,
          0.44772978959025467,
          0.5383167220376522,
          0.9312292358803987,
          0.41605758582502766
         ],
         "xaxis": "x",
         "y": [
          0,
          0,
          0,
          0,
          0,
          0,
          0,
          0,
          0,
          0,
          0,
          0,
          0,
          0,
          0,
          0,
          0,
          0,
          1,
          1,
          1,
          1,
          1,
          1,
          1,
          1,
          1,
          1,
          1,
          1,
          1,
          1,
          1,
          1,
          1,
          3,
          3,
          3,
          3,
          3,
          0,
          3,
          0,
          3,
          3,
          3,
          3,
          3,
          3,
          3,
          3,
          3,
          2,
          3,
          2,
          2,
          2,
          3,
          2,
          3,
          3,
          3,
          2,
          3,
          3,
          3,
          3,
          0,
          2,
          2,
          3,
          2,
          3,
          3,
          2,
          3,
          2,
          3,
          3,
          2,
          3,
          2,
          2,
          3,
          2,
          3,
          3,
          2
         ],
         "yaxis": "y"
        },
        {
         "hovertemplate": "variable=Fy_lp1<br>value=%{x}<br>Y_lp1=%{y}<extra></extra>",
         "legendgroup": "Fy_lp1",
         "marker": {
          "color": "#EF553B",
          "symbol": "circle"
         },
         "mode": "markers",
         "name": "Fy_lp1",
         "orientation": "v",
         "showlegend": true,
         "type": "scatter",
         "x": [
          0.5978494623655914,
          0.5981890209394454,
          0.5984153933220147,
          0.5995472552348614,
          0.5988681380871534,
          0.6027164685908318,
          0.5976230899830222,
          0.5995472552348614,
          0.6006791171477078,
          0.5977362761743069,
          0.5980758347481606,
          0.5979626485568761,
          0.5996604414261459,
          0.5977362761743067,
          0.6004527447651387,
          0.6011318619128467,
          0.5990945104697227,
          0.600679117147708,
          0.6045274476513866,
          0.6101867572156198,
          0.5942275042444823,
          0.5873231465761178,
          0.6044142614601019,
          0.6344086021505377,
          0.5906055461233729,
          0.596264855687606,
          0.5953593661573287,
          0.5977362761743067,
          0.6011318619128466,
          0.5856253537068477,
          0.5813242784380305,
          0.5968307866440293,
          0.6027164685908318,
          0.6046406338426712,
          0.6235427277872101,
          0.6501414827391058,
          0.5584606677985284,
          0.565704584040747,
          0.591624221844935,
          0.5870967741935483,
          0.6011318619128467,
          0.619468024900962,
          0.6001131861912846,
          0.6048670062252407,
          0.6494623655913979,
          0.6368986983588003,
          0.4750424448217318,
          0.4667798528579513,
          0.4613469156762875,
          0.6183361629881154,
          0.6058856819468024,
          0.5692133559705715,
          0.696774193548387,
          0.8123372948500283,
          0.6157328805885682,
          0.6200339558573854,
          0.6278438030560272,
          0.6520656479909451,
          0.6089417091114883,
          0.6599886813808716,
          0.7809847198641766,
          0.9273344651952462,
          0.59490662139219,
          0.565365025466893,
          0.44640633842671196,
          0.6005659309564232,
          0.6002263723825693,
          0.6016977928692699,
          0.6184493491794001,
          0.6366723259762307,
          0.6265987549518958,
          0.6043010752688172,
          0.6136955291454442,
          0.6601018675721562,
          0.5864176570458405,
          0.6239954725523484,
          0.6072439162422184,
          0.6971137521222412,
          0.7152235427277873,
          0.6032823995472552,
          0.6528579513299377,
          0.5902659875495189,
          0.5810979060554612,
          0.6694963214487832,
          0.6157328805885681,
          0.6568194680249011,
          0.8395019807583477,
          0.6035087719298247
         ],
         "xaxis": "x",
         "y": [
          0,
          0,
          0,
          0,
          0,
          0,
          0,
          0,
          0,
          0,
          0,
          0,
          0,
          0,
          0,
          0,
          0,
          0,
          1,
          1,
          1,
          1,
          1,
          1,
          1,
          1,
          1,
          1,
          1,
          1,
          1,
          1,
          1,
          1,
          1,
          3,
          3,
          3,
          3,
          3,
          0,
          3,
          0,
          3,
          3,
          3,
          3,
          3,
          3,
          3,
          3,
          3,
          2,
          3,
          2,
          2,
          2,
          3,
          2,
          3,
          3,
          3,
          2,
          3,
          3,
          3,
          3,
          0,
          2,
          2,
          3,
          2,
          3,
          3,
          2,
          3,
          2,
          3,
          3,
          2,
          3,
          2,
          2,
          3,
          2,
          3,
          3,
          2
         ],
         "yaxis": "y"
        },
        {
         "hovertemplate": "variable=Fz_lp1<br>value=%{x}<br>Y_lp1=%{y}<extra></extra>",
         "legendgroup": "Fz_lp1",
         "marker": {
          "color": "#00cc96",
          "symbol": "circle"
         },
         "mode": "markers",
         "name": "Fz_lp1",
         "orientation": "v",
         "showlegend": true,
         "type": "scatter",
         "x": [
          0.9445618153364633,
          0.9443270735524257,
          0.9437402190923319,
          0.9443661971830988,
          0.9434272300469483,
          0.9426838810641627,
          0.9423708920187794,
          0.942566510172144,
          0.9422926447574334,
          0.9448748043818468,
          0.9445618153364632,
          0.9439749608763695,
          0.9438967136150235,
          0.943153364632238,
          0.9442097026604069,
          0.9422143974960875,
          0.9419796557120501,
          0.9420187793427229,
          0.9442488262910799,
          0.9460093896713616,
          0.9465179968701096,
          0.9444835680751174,
          0.9434663536776213,
          0.9465962441314554,
          0.9424491392801252,
          0.942018779342723,
          0.9417449139280125,
          0.9470657276995305,
          0.9426056338028169,
          0.9414319248826291,
          0.938732394366197,
          0.9431142410015649,
          0.9440923317683882,
          0.9423708920187793,
          0.9446009389671362,
          0.8267605633802818,
          0.744092331768388,
          0.8240610328638497,
          0.8618935837245695,
          0.8188575899843505,
          0.9432707355242567,
          0.8478482003129889,
          0.9444053208137717,
          0.8412754303599373,
          0.7947574334898279,
          0.760602503912363,
          0.4944835680751174,
          0.5192879499217528,
          0.4960485133020344,
          0.8516823161189357,
          0.8280907668231611,
          0.6827856025039124,
          0.7716744913928011,
          0.3908450704225352,
          0.9209702660406885,
          0.904186228482003,
          0.8564553990610329,
          0.4735915492957747,
          0.9124804381846636,
          0.7584115805946792,
          0.43701095461658845,
          0.1593114241001565,
          0.9210485133020345,
          0.7253521126760564,
          0.5126369327073552,
          0.8464006259780908,
          0.6904147104851329,
          0.9399061032863848,
          0.9247261345852895,
          0.8853286384976525,
          0.5162754303599375,
          0.9262128325508608,
          0.8615414710485132,
          0.6998043818466354,
          0.9162363067292645,
          0.8526212832550861,
          0.9188575899843507,
          0.7448748043818465,
          0.6482785602503913,
          0.9230046948356809,
          0.8152190923317683,
          0.9271909233176842,
          0.8647104851330203,
          0.49037558685446003,
          0.9244131455399062,
          0.8211658841940532,
          0.35477308294209703,
          0.931338028169014
         ],
         "xaxis": "x",
         "y": [
          0,
          0,
          0,
          0,
          0,
          0,
          0,
          0,
          0,
          0,
          0,
          0,
          0,
          0,
          0,
          0,
          0,
          0,
          1,
          1,
          1,
          1,
          1,
          1,
          1,
          1,
          1,
          1,
          1,
          1,
          1,
          1,
          1,
          1,
          1,
          3,
          3,
          3,
          3,
          3,
          0,
          3,
          0,
          3,
          3,
          3,
          3,
          3,
          3,
          3,
          3,
          3,
          2,
          3,
          2,
          2,
          2,
          3,
          2,
          3,
          3,
          3,
          2,
          3,
          3,
          3,
          3,
          0,
          2,
          2,
          3,
          2,
          3,
          3,
          2,
          3,
          2,
          3,
          3,
          2,
          3,
          2,
          2,
          3,
          2,
          3,
          3,
          2
         ],
         "yaxis": "y"
        },
        {
         "hovertemplate": "variable=Tx_lp1<br>value=%{x}<br>Y_lp1=%{y}<extra></extra>",
         "legendgroup": "Tx_lp1",
         "marker": {
          "color": "#ab63fa",
          "symbol": "circle"
         },
         "mode": "markers",
         "name": "Tx_lp1",
         "orientation": "v",
         "showlegend": true,
         "type": "scatter",
         "x": [
          0.4927344133529701,
          0.49224349533627887,
          0.491899852724595,
          0.490279823269514,
          0.4896907216494846,
          0.4873834069710358,
          0.4895925380461463,
          0.4878252331860579,
          0.4865979381443299,
          0.4929798723613157,
          0.49243986254295535,
          0.49194894452626414,
          0.490279823269514,
          0.49072164948453606,
          0.48856161021109473,
          0.4877270495827197,
          0.48841433480608737,
          0.4864506627393225,
          0.4819342169857634,
          0.48276877761413844,
          0.48522336769759455,
          0.49896907216494846,
          0.4967108492881689,
          0.47643593519882177,
          0.4997545409916544,
          0.48880706921944034,
          0.49052528227785963,
          0.4824251350024546,
          0.48846342660775655,
          0.4969563082965145,
          0.49779086892488955,
          0.49106529209621996,
          0.49013254786450666,
          0.5211094747177222,
          0.47304860088365247,
          0.5289150711831124,
          0.3767795778105058,
          0.47378497790868923,
          0.48213058419243987,
          0.44177712322042223,
          0.4862052037309769,
          0.4747668139420717,
          0.48762886597938143,
          0.4693667157584684,
          0.5782523318605792,
          0.6132056946489934,
          0.19243986254295536,
          0.1830633284241531,
          0.16416298478154145,
          0.46470299459990183,
          0.47560137457044677,
          0.3122238586156111,
          0.3487972508591065,
          0.2177221404025528,
          0.4729013254786451,
          0.47000490918016696,
          0.4649975454099166,
          0.45139911634757,
          0.5043691703485518,
          0.5560628375061364,
          0.6600392734413352,
          0.7099656357388314,
          0.4789887088856161,
          0.3582719685812469,
          0.3099656357388316,
          0.46804123711340206,
          0.44486990672557686,
          0.4845360824742268,
          0.448944526264114,
          0.3942071674030437,
          0.12488954344624448,
          0.4724104074619539,
          0.4029455081001473,
          0.19106529209621997,
          0.4831124202258223,
          0.3794796269023074,
          0.49921453117329406,
          0.5510554737358859,
          0.6209131075110454,
          0.5013254786450663,
          0.5536573392243495,
          0.5149239077074128,
          0.5723613156602846,
          0.7443789887088859,
          0.46975945017182136,
          0.4463917525773197,
          0.40054000981836047,
          0.4799214531173294
         ],
         "xaxis": "x",
         "y": [
          0,
          0,
          0,
          0,
          0,
          0,
          0,
          0,
          0,
          0,
          0,
          0,
          0,
          0,
          0,
          0,
          0,
          0,
          1,
          1,
          1,
          1,
          1,
          1,
          1,
          1,
          1,
          1,
          1,
          1,
          1,
          1,
          1,
          1,
          1,
          3,
          3,
          3,
          3,
          3,
          0,
          3,
          0,
          3,
          3,
          3,
          3,
          3,
          3,
          3,
          3,
          3,
          2,
          3,
          2,
          2,
          2,
          3,
          2,
          3,
          3,
          3,
          2,
          3,
          3,
          3,
          3,
          0,
          2,
          2,
          3,
          2,
          3,
          3,
          2,
          3,
          2,
          3,
          3,
          2,
          3,
          2,
          2,
          3,
          2,
          3,
          3,
          2
         ],
         "yaxis": "y"
        },
        {
         "hovertemplate": "variable=Ty_lp1<br>value=%{x}<br>Y_lp1=%{y}<extra></extra>",
         "legendgroup": "Ty_lp1",
         "marker": {
          "color": "#FFA15A",
          "symbol": "circle"
         },
         "mode": "markers",
         "name": "Ty_lp1",
         "orientation": "v",
         "showlegend": true,
         "type": "scatter",
         "x": [
          0.5175086875167069,
          0.5169740711039829,
          0.5164929163325314,
          0.5171879176690724,
          0.5157979149959904,
          0.5154236835070837,
          0.5152632985832665,
          0.515744453354718,
          0.5149959903769046,
          0.5175086875167069,
          0.5172948409516172,
          0.5164929163325315,
          0.5168136861801657,
          0.5161721464848971,
          0.5157444533547179,
          0.5146217588879978,
          0.5150494520181769,
          0.5154771451483561,
          0.5286287089013634,
          0.5368083400160385,
          0.5249933172948411,
          0.526650628174285,
          0.5227479283614007,
          0.4961774926490244,
          0.5005613472333601,
          0.528735632183908,
          0.5191125367548783,
          0.5238706228281208,
          0.5096498262496658,
          0.5179363806468859,
          0.5184709970596099,
          0.5155840684309009,
          0.5131782945736434,
          0.5546645282010159,
          0.5082063619353114,
          0.5687249398556536,
          0.4353381448810478,
          0.5190056134723336,
          0.5227479283614007,
          0.5293237102379044,
          0.5143009890403634,
          0.5048382785351511,
          0.5152632985832664,
          0.5172948409516172,
          0.5370756482224004,
          0.5479818230419673,
          0.44255546645282007,
          0.3966853782411121,
          0.39321037155840693,
          0.5136059877038225,
          0.4238438920074846,
          0.5666399358460306,
          0.4665062817428495,
          0.4305800588078055,
          0.5317829457364341,
          0.5378241112002139,
          0.5465918203688854,
          0.5967388398823843,
          0.5506014434643144,
          0.6392408446939322,
          0.6244854317027533,
          0.4533012563485699,
          0.5001336541031809,
          0.4285485164394547,
          0.3605453087409784,
          0.48912055600106924,
          0.4911520983694199,
          0.5121090617481958,
          0.4924886394012296,
          0.4451216252338946,
          0.16327185244587009,
          0.5083132852178561,
          0.496551724137931,
          0.4845763164929162,
          0.5067628976209569,
          0.48398823843892014,
          0.5176690724405238,
          0.6182838813151563,
          0.6845763164929164,
          0.5133921411387331,
          0.557872226677359,
          0.5165998396150762,
          0.506495589414595,
          0.597647687784015,
          0.5215183106121358,
          0.5751937984496124,
          0.8343758353381451,
          0.5000801924619086
         ],
         "xaxis": "x",
         "y": [
          0,
          0,
          0,
          0,
          0,
          0,
          0,
          0,
          0,
          0,
          0,
          0,
          0,
          0,
          0,
          0,
          0,
          0,
          1,
          1,
          1,
          1,
          1,
          1,
          1,
          1,
          1,
          1,
          1,
          1,
          1,
          1,
          1,
          1,
          1,
          3,
          3,
          3,
          3,
          3,
          0,
          3,
          0,
          3,
          3,
          3,
          3,
          3,
          3,
          3,
          3,
          3,
          2,
          3,
          2,
          2,
          2,
          3,
          2,
          3,
          3,
          3,
          2,
          3,
          3,
          3,
          3,
          0,
          2,
          2,
          3,
          2,
          3,
          3,
          2,
          3,
          2,
          3,
          3,
          2,
          3,
          2,
          2,
          3,
          2,
          3,
          3,
          2
         ],
         "yaxis": "y"
        },
        {
         "hovertemplate": "variable=Tz_lp1<br>value=%{x}<br>Y_lp1=%{y}<extra></extra>",
         "legendgroup": "Tz_lp1",
         "marker": {
          "color": "#19d3f3",
          "symbol": "circle"
         },
         "mode": "markers",
         "name": "Tz_lp1",
         "orientation": "v",
         "showlegend": true,
         "type": "scatter",
         "x": [
          0.5269230769230769,
          0.5258974358974359,
          0.5258974358974359,
          0.5256410256410257,
          0.5264102564102564,
          0.5261538461538461,
          0.5266666666666666,
          0.5269230769230769,
          0.5276923076923077,
          0.5269230769230769,
          0.5261538461538461,
          0.5258974358974359,
          0.5261538461538461,
          0.5251282051282051,
          0.5258974358974359,
          0.5256410256410257,
          0.528974358974359,
          0.5253846153846153,
          0.5284615384615384,
          0.5294871794871795,
          0.5474358974358975,
          0.518974358974359,
          0.5297435897435897,
          0.5074358974358975,
          0.5192307692307692,
          0.514102564102564,
          0.5279487179487179,
          0.5248717948717948,
          0.5251282051282051,
          0.5238461538461539,
          0.5256410256410257,
          0.5215384615384615,
          0.5302564102564102,
          0.48743589743589744,
          0.5251282051282051,
          0.5417948717948718,
          0.5328205128205128,
          0.5202564102564102,
          0.5225641025641026,
          0.5335897435897435,
          0.522051282051282,
          0.518974358974359,
          0.5258974358974359,
          0.521025641025641,
          0.545128205128205,
          0.535128205128205,
          0.5969230769230769,
          0.6507692307692309,
          0.6502564102564103,
          0.5282051282051282,
          0.5087179487179487,
          0.5502564102564101,
          0.5079487179487179,
          0.47564102564102567,
          0.5282051282051282,
          0.5315384615384615,
          0.5343589743589744,
          0.545128205128205,
          0.5487179487179487,
          0.5933333333333333,
          0.5248717948717948,
          0.27923076923076917,
          0.5338461538461539,
          0.5438461538461539,
          0.5958974358974359,
          0.5192307692307692,
          0.49717948717948723,
          0.5241025641025641,
          0.5299999999999999,
          0.5533333333333332,
          0.7838461538461539,
          0.5271794871794871,
          0.47051282051282056,
          0.29435897435897423,
          0.5407692307692308,
          0.4710256410256411,
          0.5292307692307692,
          0.6110256410256409,
          0.6448717948717948,
          0.5253846153846153,
          0.5538461538461538,
          0.5192307692307693,
          0.4784615384615385,
          0.46743589743589753,
          0.5135897435897436,
          0.5061538461538462,
          0.6487179487179487,
          0.5456410256410256
         ],
         "xaxis": "x",
         "y": [
          0,
          0,
          0,
          0,
          0,
          0,
          0,
          0,
          0,
          0,
          0,
          0,
          0,
          0,
          0,
          0,
          0,
          0,
          1,
          1,
          1,
          1,
          1,
          1,
          1,
          1,
          1,
          1,
          1,
          1,
          1,
          1,
          1,
          1,
          1,
          3,
          3,
          3,
          3,
          3,
          0,
          3,
          0,
          3,
          3,
          3,
          3,
          3,
          3,
          3,
          3,
          3,
          2,
          3,
          2,
          2,
          2,
          3,
          2,
          3,
          3,
          3,
          2,
          3,
          3,
          3,
          3,
          0,
          2,
          2,
          3,
          2,
          3,
          3,
          2,
          3,
          2,
          3,
          3,
          2,
          3,
          2,
          2,
          3,
          2,
          3,
          3,
          2
         ],
         "yaxis": "y"
        }
       ],
       "layout": {
        "legend": {
         "title": {
          "text": "variable"
         },
         "tracegroupgap": 0
        },
        "margin": {
         "t": 60
        },
        "template": {
         "data": {
          "bar": [
           {
            "error_x": {
             "color": "#2a3f5f"
            },
            "error_y": {
             "color": "#2a3f5f"
            },
            "marker": {
             "line": {
              "color": "#E5ECF6",
              "width": 0.5
             },
             "pattern": {
              "fillmode": "overlay",
              "size": 10,
              "solidity": 0.2
             }
            },
            "type": "bar"
           }
          ],
          "barpolar": [
           {
            "marker": {
             "line": {
              "color": "#E5ECF6",
              "width": 0.5
             },
             "pattern": {
              "fillmode": "overlay",
              "size": 10,
              "solidity": 0.2
             }
            },
            "type": "barpolar"
           }
          ],
          "carpet": [
           {
            "aaxis": {
             "endlinecolor": "#2a3f5f",
             "gridcolor": "white",
             "linecolor": "white",
             "minorgridcolor": "white",
             "startlinecolor": "#2a3f5f"
            },
            "baxis": {
             "endlinecolor": "#2a3f5f",
             "gridcolor": "white",
             "linecolor": "white",
             "minorgridcolor": "white",
             "startlinecolor": "#2a3f5f"
            },
            "type": "carpet"
           }
          ],
          "choropleth": [
           {
            "colorbar": {
             "outlinewidth": 0,
             "ticks": ""
            },
            "type": "choropleth"
           }
          ],
          "contour": [
           {
            "colorbar": {
             "outlinewidth": 0,
             "ticks": ""
            },
            "colorscale": [
             [
              0,
              "#0d0887"
             ],
             [
              0.1111111111111111,
              "#46039f"
             ],
             [
              0.2222222222222222,
              "#7201a8"
             ],
             [
              0.3333333333333333,
              "#9c179e"
             ],
             [
              0.4444444444444444,
              "#bd3786"
             ],
             [
              0.5555555555555556,
              "#d8576b"
             ],
             [
              0.6666666666666666,
              "#ed7953"
             ],
             [
              0.7777777777777778,
              "#fb9f3a"
             ],
             [
              0.8888888888888888,
              "#fdca26"
             ],
             [
              1,
              "#f0f921"
             ]
            ],
            "type": "contour"
           }
          ],
          "contourcarpet": [
           {
            "colorbar": {
             "outlinewidth": 0,
             "ticks": ""
            },
            "type": "contourcarpet"
           }
          ],
          "heatmap": [
           {
            "colorbar": {
             "outlinewidth": 0,
             "ticks": ""
            },
            "colorscale": [
             [
              0,
              "#0d0887"
             ],
             [
              0.1111111111111111,
              "#46039f"
             ],
             [
              0.2222222222222222,
              "#7201a8"
             ],
             [
              0.3333333333333333,
              "#9c179e"
             ],
             [
              0.4444444444444444,
              "#bd3786"
             ],
             [
              0.5555555555555556,
              "#d8576b"
             ],
             [
              0.6666666666666666,
              "#ed7953"
             ],
             [
              0.7777777777777778,
              "#fb9f3a"
             ],
             [
              0.8888888888888888,
              "#fdca26"
             ],
             [
              1,
              "#f0f921"
             ]
            ],
            "type": "heatmap"
           }
          ],
          "heatmapgl": [
           {
            "colorbar": {
             "outlinewidth": 0,
             "ticks": ""
            },
            "colorscale": [
             [
              0,
              "#0d0887"
             ],
             [
              0.1111111111111111,
              "#46039f"
             ],
             [
              0.2222222222222222,
              "#7201a8"
             ],
             [
              0.3333333333333333,
              "#9c179e"
             ],
             [
              0.4444444444444444,
              "#bd3786"
             ],
             [
              0.5555555555555556,
              "#d8576b"
             ],
             [
              0.6666666666666666,
              "#ed7953"
             ],
             [
              0.7777777777777778,
              "#fb9f3a"
             ],
             [
              0.8888888888888888,
              "#fdca26"
             ],
             [
              1,
              "#f0f921"
             ]
            ],
            "type": "heatmapgl"
           }
          ],
          "histogram": [
           {
            "marker": {
             "pattern": {
              "fillmode": "overlay",
              "size": 10,
              "solidity": 0.2
             }
            },
            "type": "histogram"
           }
          ],
          "histogram2d": [
           {
            "colorbar": {
             "outlinewidth": 0,
             "ticks": ""
            },
            "colorscale": [
             [
              0,
              "#0d0887"
             ],
             [
              0.1111111111111111,
              "#46039f"
             ],
             [
              0.2222222222222222,
              "#7201a8"
             ],
             [
              0.3333333333333333,
              "#9c179e"
             ],
             [
              0.4444444444444444,
              "#bd3786"
             ],
             [
              0.5555555555555556,
              "#d8576b"
             ],
             [
              0.6666666666666666,
              "#ed7953"
             ],
             [
              0.7777777777777778,
              "#fb9f3a"
             ],
             [
              0.8888888888888888,
              "#fdca26"
             ],
             [
              1,
              "#f0f921"
             ]
            ],
            "type": "histogram2d"
           }
          ],
          "histogram2dcontour": [
           {
            "colorbar": {
             "outlinewidth": 0,
             "ticks": ""
            },
            "colorscale": [
             [
              0,
              "#0d0887"
             ],
             [
              0.1111111111111111,
              "#46039f"
             ],
             [
              0.2222222222222222,
              "#7201a8"
             ],
             [
              0.3333333333333333,
              "#9c179e"
             ],
             [
              0.4444444444444444,
              "#bd3786"
             ],
             [
              0.5555555555555556,
              "#d8576b"
             ],
             [
              0.6666666666666666,
              "#ed7953"
             ],
             [
              0.7777777777777778,
              "#fb9f3a"
             ],
             [
              0.8888888888888888,
              "#fdca26"
             ],
             [
              1,
              "#f0f921"
             ]
            ],
            "type": "histogram2dcontour"
           }
          ],
          "mesh3d": [
           {
            "colorbar": {
             "outlinewidth": 0,
             "ticks": ""
            },
            "type": "mesh3d"
           }
          ],
          "parcoords": [
           {
            "line": {
             "colorbar": {
              "outlinewidth": 0,
              "ticks": ""
             }
            },
            "type": "parcoords"
           }
          ],
          "pie": [
           {
            "automargin": true,
            "type": "pie"
           }
          ],
          "scatter": [
           {
            "fillpattern": {
             "fillmode": "overlay",
             "size": 10,
             "solidity": 0.2
            },
            "type": "scatter"
           }
          ],
          "scatter3d": [
           {
            "line": {
             "colorbar": {
              "outlinewidth": 0,
              "ticks": ""
             }
            },
            "marker": {
             "colorbar": {
              "outlinewidth": 0,
              "ticks": ""
             }
            },
            "type": "scatter3d"
           }
          ],
          "scattercarpet": [
           {
            "marker": {
             "colorbar": {
              "outlinewidth": 0,
              "ticks": ""
             }
            },
            "type": "scattercarpet"
           }
          ],
          "scattergeo": [
           {
            "marker": {
             "colorbar": {
              "outlinewidth": 0,
              "ticks": ""
             }
            },
            "type": "scattergeo"
           }
          ],
          "scattergl": [
           {
            "marker": {
             "colorbar": {
              "outlinewidth": 0,
              "ticks": ""
             }
            },
            "type": "scattergl"
           }
          ],
          "scattermapbox": [
           {
            "marker": {
             "colorbar": {
              "outlinewidth": 0,
              "ticks": ""
             }
            },
            "type": "scattermapbox"
           }
          ],
          "scatterpolar": [
           {
            "marker": {
             "colorbar": {
              "outlinewidth": 0,
              "ticks": ""
             }
            },
            "type": "scatterpolar"
           }
          ],
          "scatterpolargl": [
           {
            "marker": {
             "colorbar": {
              "outlinewidth": 0,
              "ticks": ""
             }
            },
            "type": "scatterpolargl"
           }
          ],
          "scatterternary": [
           {
            "marker": {
             "colorbar": {
              "outlinewidth": 0,
              "ticks": ""
             }
            },
            "type": "scatterternary"
           }
          ],
          "surface": [
           {
            "colorbar": {
             "outlinewidth": 0,
             "ticks": ""
            },
            "colorscale": [
             [
              0,
              "#0d0887"
             ],
             [
              0.1111111111111111,
              "#46039f"
             ],
             [
              0.2222222222222222,
              "#7201a8"
             ],
             [
              0.3333333333333333,
              "#9c179e"
             ],
             [
              0.4444444444444444,
              "#bd3786"
             ],
             [
              0.5555555555555556,
              "#d8576b"
             ],
             [
              0.6666666666666666,
              "#ed7953"
             ],
             [
              0.7777777777777778,
              "#fb9f3a"
             ],
             [
              0.8888888888888888,
              "#fdca26"
             ],
             [
              1,
              "#f0f921"
             ]
            ],
            "type": "surface"
           }
          ],
          "table": [
           {
            "cells": {
             "fill": {
              "color": "#EBF0F8"
             },
             "line": {
              "color": "white"
             }
            },
            "header": {
             "fill": {
              "color": "#C8D4E3"
             },
             "line": {
              "color": "white"
             }
            },
            "type": "table"
           }
          ]
         },
         "layout": {
          "annotationdefaults": {
           "arrowcolor": "#2a3f5f",
           "arrowhead": 0,
           "arrowwidth": 1
          },
          "autotypenumbers": "strict",
          "coloraxis": {
           "colorbar": {
            "outlinewidth": 0,
            "ticks": ""
           }
          },
          "colorscale": {
           "diverging": [
            [
             0,
             "#8e0152"
            ],
            [
             0.1,
             "#c51b7d"
            ],
            [
             0.2,
             "#de77ae"
            ],
            [
             0.3,
             "#f1b6da"
            ],
            [
             0.4,
             "#fde0ef"
            ],
            [
             0.5,
             "#f7f7f7"
            ],
            [
             0.6,
             "#e6f5d0"
            ],
            [
             0.7,
             "#b8e186"
            ],
            [
             0.8,
             "#7fbc41"
            ],
            [
             0.9,
             "#4d9221"
            ],
            [
             1,
             "#276419"
            ]
           ],
           "sequential": [
            [
             0,
             "#0d0887"
            ],
            [
             0.1111111111111111,
             "#46039f"
            ],
            [
             0.2222222222222222,
             "#7201a8"
            ],
            [
             0.3333333333333333,
             "#9c179e"
            ],
            [
             0.4444444444444444,
             "#bd3786"
            ],
            [
             0.5555555555555556,
             "#d8576b"
            ],
            [
             0.6666666666666666,
             "#ed7953"
            ],
            [
             0.7777777777777778,
             "#fb9f3a"
            ],
            [
             0.8888888888888888,
             "#fdca26"
            ],
            [
             1,
             "#f0f921"
            ]
           ],
           "sequentialminus": [
            [
             0,
             "#0d0887"
            ],
            [
             0.1111111111111111,
             "#46039f"
            ],
            [
             0.2222222222222222,
             "#7201a8"
            ],
            [
             0.3333333333333333,
             "#9c179e"
            ],
            [
             0.4444444444444444,
             "#bd3786"
            ],
            [
             0.5555555555555556,
             "#d8576b"
            ],
            [
             0.6666666666666666,
             "#ed7953"
            ],
            [
             0.7777777777777778,
             "#fb9f3a"
            ],
            [
             0.8888888888888888,
             "#fdca26"
            ],
            [
             1,
             "#f0f921"
            ]
           ]
          },
          "colorway": [
           "#636efa",
           "#EF553B",
           "#00cc96",
           "#ab63fa",
           "#FFA15A",
           "#19d3f3",
           "#FF6692",
           "#B6E880",
           "#FF97FF",
           "#FECB52"
          ],
          "font": {
           "color": "#2a3f5f"
          },
          "geo": {
           "bgcolor": "white",
           "lakecolor": "white",
           "landcolor": "#E5ECF6",
           "showlakes": true,
           "showland": true,
           "subunitcolor": "white"
          },
          "hoverlabel": {
           "align": "left"
          },
          "hovermode": "closest",
          "mapbox": {
           "style": "light"
          },
          "paper_bgcolor": "white",
          "plot_bgcolor": "#E5ECF6",
          "polar": {
           "angularaxis": {
            "gridcolor": "white",
            "linecolor": "white",
            "ticks": ""
           },
           "bgcolor": "#E5ECF6",
           "radialaxis": {
            "gridcolor": "white",
            "linecolor": "white",
            "ticks": ""
           }
          },
          "scene": {
           "xaxis": {
            "backgroundcolor": "#E5ECF6",
            "gridcolor": "white",
            "gridwidth": 2,
            "linecolor": "white",
            "showbackground": true,
            "ticks": "",
            "zerolinecolor": "white"
           },
           "yaxis": {
            "backgroundcolor": "#E5ECF6",
            "gridcolor": "white",
            "gridwidth": 2,
            "linecolor": "white",
            "showbackground": true,
            "ticks": "",
            "zerolinecolor": "white"
           },
           "zaxis": {
            "backgroundcolor": "#E5ECF6",
            "gridcolor": "white",
            "gridwidth": 2,
            "linecolor": "white",
            "showbackground": true,
            "ticks": "",
            "zerolinecolor": "white"
           }
          },
          "shapedefaults": {
           "line": {
            "color": "#2a3f5f"
           }
          },
          "ternary": {
           "aaxis": {
            "gridcolor": "white",
            "linecolor": "white",
            "ticks": ""
           },
           "baxis": {
            "gridcolor": "white",
            "linecolor": "white",
            "ticks": ""
           },
           "bgcolor": "#E5ECF6",
           "caxis": {
            "gridcolor": "white",
            "linecolor": "white",
            "ticks": ""
           }
          },
          "title": {
           "x": 0.05
          },
          "xaxis": {
           "automargin": true,
           "gridcolor": "white",
           "linecolor": "white",
           "ticks": "",
           "title": {
            "standoff": 15
           },
           "zerolinecolor": "white",
           "zerolinewidth": 2
          },
          "yaxis": {
           "automargin": true,
           "gridcolor": "white",
           "linecolor": "white",
           "ticks": "",
           "title": {
            "standoff": 15
           },
           "zerolinecolor": "white",
           "zerolinewidth": 2
          }
         }
        },
        "xaxis": {
         "anchor": "y",
         "domain": [
          0,
          1
         ],
         "title": {
          "text": "value"
         },
         "type": "log"
        },
        "yaxis": {
         "anchor": "x",
         "domain": [
          0,
          1
         ],
         "title": {
          "text": "Y_lp1"
         }
        }
       }
      }
     },
     "metadata": {},
     "output_type": "display_data"
    }
   ],
   "source": [
    "dic = {\"Fx_lp1\": \"red\", \"Fy_lp1\": \"blue\" , \"Fz_lp1\": \"green\" , \"Tx_lp1\": \"black\", \"Tx_lp1\": \"purple\", \"Ty_lp1\": \"orange\", \"Tz_lp1\": \"yellow\"}\n",
    "lp1_scatter = plty.scatter(X_lp1_df, x = [\"Fx_lp1\", \"Fy_lp1\", \"Fz_lp1\", \"Tx_lp1\", \"Ty_lp1\", \"Tz_lp1\"],  color_discrete_map= dic)\n",
    "lp1_logscatter = plty.scatter(X_lp1_df,  x = [\"Fx_lp1\", \"Fy_lp1\", \"Fz_lp1\", \"Tx_lp1\", \"Ty_lp1\", \"Tz_lp1\"] , y= \"Y_lp1\", log_x=True)\n",
    "lp1_scatter.show()\n",
    "lp1_logscatter.show()"
   ]
  },
  {
   "cell_type": "markdown",
   "metadata": {},
   "source": [
    "Kernel density estimation plot"
   ]
  },
  {
   "cell_type": "code",
   "execution_count": 49,
   "metadata": {},
   "outputs": [
    {
     "data": {
      "text/plain": [
       "<AxesSubplot:xlabel='F_lp1', ylabel='Density'>"
      ]
     },
     "execution_count": 49,
     "metadata": {},
     "output_type": "execute_result"
    },
    {
     "data": {
      "image/png": "[encoded data removed]",
      "text/plain": [
       "<Figure size 432x288 with 1 Axes>"
      ]
     },
     "metadata": {
      "needs_background": "light"
     },
     "output_type": "display_data"
    }
   ],
   "source": [
    "sns.kdeplot(data=X_lp1_df, x = 'F_lp1', bw_method = \"scott\" , bw_adjust = 1)"
   ]
  },
  {
   "cell_type": "code",
   "execution_count": 50,
   "metadata": {},
   "outputs": [
    {
     "data": {
      "text/plain": [
       "<AxesSubplot:xlabel='T_lp1', ylabel='Density'>"
      ]
     },
     "execution_count": 50,
     "metadata": {},
     "output_type": "execute_result"
    },
    {
     "data": {
      "image/png": "[encoded data removed]",
      "text/plain": [
       "<Figure size 432x288 with 1 Axes>"
      ]
     },
     "metadata": {
      "needs_background": "light"
     },
     "output_type": "display_data"
    }
   ],
   "source": [
    "sns.kdeplot(data=X_lp1_df, x = 'T_lp1', color=\"Green\")"
   ]
  },
  {
   "cell_type": "code",
   "execution_count": 51,
   "metadata": {},
   "outputs": [
    {
     "data": {
      "application/vnd.plotly.v1+json": {
       "config": {
        "plotlyServerURL": "https://plot.ly"
       },
       "data": [
        {
         "hovertemplate": "F_lp1=%{x}<br>T_lp1=%{y}<br>Y_lp1=%{marker.color}<extra></extra>",
         "legendgroup": "",
         "marker": {
          "color": [
           0,
           0,
           0,
           0,
           0,
           0,
           0,
           0,
           0,
           0,
           0,
           0,
           0,
           0,
           0,
           0,
           0,
           0,
           1,
           1,
           1,
           1,
           1,
           1,
           1,
           1,
           1,
           1,
           1,
           1,
           1,
           1,
           1,
           1,
           1,
           3,
           3,
           3,
           3,
           3,
           0,
           3,
           0,
           3,
           3,
           3,
           3,
           3,
           3,
           3,
           3,
           3,
           2,
           3,
           2,
           2,
           2,
           3,
           2,
           3,
           3,
           3,
           2,
           3,
           3,
           3,
           3,
           0,
           2,
           2,
           3,
           2,
           3,
           3,
           2,
           3,
           2,
           3,
           3,
           2,
           3,
           2,
           2,
           3,
           2,
           3,
           3,
           2
          ],
          "coloraxis": "coloraxis",
          "symbol": "circle"
         },
         "mode": "markers",
         "name": "",
         "orientation": "v",
         "showlegend": false,
         "type": "scatter",
         "x": [
          0.03867312700162908,
          0.03844034619065928,
          0.037775335455615774,
          0.03847425294639,
          0.037434513125688795,
          0.03663751017388107,
          0.03626411344859795,
          0.036480663194161315,
          0.03619043704538257,
          0.039018761937604916,
          0.0387081892630838,
          0.038051632800652914,
          0.03798982919462068,
          0.0371342104263331,
          0.038307098960866925,
          0.03609870576905973,
          0.03583207633341307,
          0.035882061587460753,
          0.04130033695171199,
          0.04577619685458328,
          0.044632902883954745,
          0.042182141487560616,
          0.04100664094576379,
          0.050790013453260945,
          0.03842593641483479,
          0.04152662795612535,
          0.036215542559796726,
          0.04187250585392019,
          0.03704743494531327,
          0.03603793341393442,
          0.03357706494993641,
          0.0373070315960462,
          0.03873467383252879,
          0.042951827431873896,
          0.04362294981087151,
          0.09781737980086871,
          0.18049040005374414,
          0.1548921435661978,
          0.10861688036769654,
          0.13758923685646277,
          0.03725641709092154,
          0.12834718686151758,
          0.03850045297300399,
          0.13480466729006493,
          0.13480613592546417,
          0.16357375266222446,
          0.4572183900151446,
          0.4309729401714842,
          0.45650158347151754,
          0.1213119127207649,
          0.14228958793434082,
          0.24827298124782674,
          0.1532945316802682,
          0.5751550618680984,
          0.015251112162247718,
          0.013600440873532226,
          0.05715644790133654,
          0.4789631754962088,
          0.027948128142239365,
          0.16523024963288585,
          0.526120878578859,
          0.848916091929066,
          0.018712685945544635,
          0.2004914840589493,
          0.4408070436233026,
          0.12644810562355768,
          0.2507334644089795,
          0.03357417762908778,
          0.019518240550562626,
          0.032071497589277624,
          0.4374145541236535,
          0.018616852514549927,
          0.05577129383126042,
          0.2314785483163214,
          0.011840086652219233,
          0.06039420436853148,
          0.012619735402715876,
          0.18210288294805294,
          0.28801091875147067,
          0.015627601239829883,
          0.10446799622856741,
          0.02077920980142377,
          0.04832076438195555,
          0.4622569850223216,
          0.02007008402700741,
          0.10563297198232569,
          0.6453835544290736,
          0.025075060506309
         ],
         "xaxis": "x",
         "y": [
          0.003362765240513473,
          0.005065510366877702,
          0.005780516908661385,
          0.007835205847710705,
          0.008816143582388367,
          0.012179935745167458,
          0.009067762888939788,
          0.011521692064998161,
          0.01346178284769541,
          0.003036139645202481,
          0.005170090540768143,
          0.005834027784614517,
          0.008095235682955918,
          0.007365916956019263,
          0.010343979598373377,
          0.01199598149436015,
          0.01084060123896011,
          0.013573928486436435,
          0.03776281483297747,
          0.041482443281408786,
          0.044216199307780465,
          0.045148422172865105,
          0.02994335318007229,
          0.050393040720561125,
          0.030903543327998172,
          0.027595307065012734,
          0.015459742240936812,
          0.03330750818303788,
          0.021156016428576497,
          0.011157322007238762,
          0.011593678103998058,
          0.011628144390836207,
          0.02696313690250167,
          0.09578807354584874,
          0.040779927008309534,
          0.10331081849990612,
          0.22445226387106354,
          0.05262785636070339,
          0.028788412727449746,
          0.08526966955831343,
          0.014419479570698973,
          0.03746329757419314,
          0.01195589684683253,
          0.04535084003556804,
          0.137247129881357,
          0.1925373158382392,
          0.47789394145351616,
          0.5225358413659823,
          0.5517890011528035,
          0.04736802372394576,
          0.13773996404068303,
          0.2968721836276215,
          0.23503150493986794,
          0.4424549238413627,
          0.038875085692599724,
          0.04725399395569767,
          0.06089185462368918,
          0.13390678813107573,
          0.05108918541223839,
          0.195657200908697,
          0.3119228032998492,
          0.3500429695516163,
          0.03543099107825349,
          0.24733905693307115,
          0.39756533613852596,
          0.06398511578485466,
          0.08649073566490659,
          0.017953132220236832,
          0.07891046354482996,
          0.18526398342322092,
          0.7604637850220629,
          0.03758798805880399,
          0.14701763872530896,
          0.47211658637683857,
          0.025247063719855502,
          0.18368464106232904,
          0.009326845849002266,
          0.1687595914067785,
          0.3052103241763049,
          0.013198857073570625,
          0.10749107034778507,
          0.03184823642277336,
          0.12112475593958358,
          0.39956672570021873,
          0.03907509891666794,
          0.11332771050655319,
          0.46974903745748997,
          0.03454187336184385
         ],
         "yaxis": "y"
        }
       ],
       "layout": {
        "coloraxis": {
         "colorbar": {
          "title": {
           "text": "Y_lp1"
          }
         },
         "colorscale": [
          [
           0,
           "#0d0887"
          ],
          [
           0.1111111111111111,
           "#46039f"
          ],
          [
           0.2222222222222222,
           "#7201a8"
          ],
          [
           0.3333333333333333,
           "#9c179e"
          ],
          [
           0.4444444444444444,
           "#bd3786"
          ],
          [
           0.5555555555555556,
           "#d8576b"
          ],
          [
           0.6666666666666666,
           "#ed7953"
          ],
          [
           0.7777777777777778,
           "#fb9f3a"
          ],
          [
           0.8888888888888888,
           "#fdca26"
          ],
          [
           1,
           "#f0f921"
          ]
         ]
        },
        "legend": {
         "tracegroupgap": 0
        },
        "margin": {
         "t": 60
        },
        "template": {
         "data": {
          "bar": [
           {
            "error_x": {
             "color": "#2a3f5f"
            },
            "error_y": {
             "color": "#2a3f5f"
            },
            "marker": {
             "line": {
              "color": "#E5ECF6",
              "width": 0.5
             },
             "pattern": {
              "fillmode": "overlay",
              "size": 10,
              "solidity": 0.2
             }
            },
            "type": "bar"
           }
          ],
          "barpolar": [
           {
            "marker": {
             "line": {
              "color": "#E5ECF6",
              "width": 0.5
             },
             "pattern": {
              "fillmode": "overlay",
              "size": 10,
              "solidity": 0.2
             }
            },
            "type": "barpolar"
           }
          ],
          "carpet": [
           {
            "aaxis": {
             "endlinecolor": "#2a3f5f",
             "gridcolor": "white",
             "linecolor": "white",
             "minorgridcolor": "white",
             "startlinecolor": "#2a3f5f"
            },
            "baxis": {
             "endlinecolor": "#2a3f5f",
             "gridcolor": "white",
             "linecolor": "white",
             "minorgridcolor": "white",
             "startlinecolor": "#2a3f5f"
            },
            "type": "carpet"
           }
          ],
          "choropleth": [
           {
            "colorbar": {
             "outlinewidth": 0,
             "ticks": ""
            },
            "type": "choropleth"
           }
          ],
          "contour": [
           {
            "colorbar": {
             "outlinewidth": 0,
             "ticks": ""
            },
            "colorscale": [
             [
              0,
              "#0d0887"
             ],
             [
              0.1111111111111111,
              "#46039f"
             ],
             [
              0.2222222222222222,
              "#7201a8"
             ],
             [
              0.3333333333333333,
              "#9c179e"
             ],
             [
              0.4444444444444444,
              "#bd3786"
             ],
             [
              0.5555555555555556,
              "#d8576b"
             ],
             [
              0.6666666666666666,
              "#ed7953"
             ],
             [
              0.7777777777777778,
              "#fb9f3a"
             ],
             [
              0.8888888888888888,
              "#fdca26"
             ],
             [
              1,
              "#f0f921"
             ]
            ],
            "type": "contour"
           }
          ],
          "contourcarpet": [
           {
            "colorbar": {
             "outlinewidth": 0,
             "ticks": ""
            },
            "type": "contourcarpet"
           }
          ],
          "heatmap": [
           {
            "colorbar": {
             "outlinewidth": 0,
             "ticks": ""
            },
            "colorscale": [
             [
              0,
              "#0d0887"
             ],
             [
              0.1111111111111111,
              "#46039f"
             ],
             [
              0.2222222222222222,
              "#7201a8"
             ],
             [
              0.3333333333333333,
              "#9c179e"
             ],
             [
              0.4444444444444444,
              "#bd3786"
             ],
             [
              0.5555555555555556,
              "#d8576b"
             ],
             [
              0.6666666666666666,
              "#ed7953"
             ],
             [
              0.7777777777777778,
              "#fb9f3a"
             ],
             [
              0.8888888888888888,
              "#fdca26"
             ],
             [
              1,
              "#f0f921"
             ]
            ],
            "type": "heatmap"
           }
          ],
          "heatmapgl": [
           {
            "colorbar": {
             "outlinewidth": 0,
             "ticks": ""
            },
            "colorscale": [
             [
              0,
              "#0d0887"
             ],
             [
              0.1111111111111111,
              "#46039f"
             ],
             [
              0.2222222222222222,
              "#7201a8"
             ],
             [
              0.3333333333333333,
              "#9c179e"
             ],
             [
              0.4444444444444444,
              "#bd3786"
             ],
             [
              0.5555555555555556,
              "#d8576b"
             ],
             [
              0.6666666666666666,
              "#ed7953"
             ],
             [
              0.7777777777777778,
              "#fb9f3a"
             ],
             [
              0.8888888888888888,
              "#fdca26"
             ],
             [
              1,
              "#f0f921"
             ]
            ],
            "type": "heatmapgl"
           }
          ],
          "histogram": [
           {
            "marker": {
             "pattern": {
              "fillmode": "overlay",
              "size": 10,
              "solidity": 0.2
             }
            },
            "type": "histogram"
           }
          ],
          "histogram2d": [
           {
            "colorbar": {
             "outlinewidth": 0,
             "ticks": ""
            },
            "colorscale": [
             [
              0,
              "#0d0887"
             ],
             [
              0.1111111111111111,
              "#46039f"
             ],
             [
              0.2222222222222222,
              "#7201a8"
             ],
             [
              0.3333333333333333,
              "#9c179e"
             ],
             [
              0.4444444444444444,
              "#bd3786"
             ],
             [
              0.5555555555555556,
              "#d8576b"
             ],
             [
              0.6666666666666666,
              "#ed7953"
             ],
             [
              0.7777777777777778,
              "#fb9f3a"
             ],
             [
              0.8888888888888888,
              "#fdca26"
             ],
             [
              1,
              "#f0f921"
             ]
            ],
            "type": "histogram2d"
           }
          ],
          "histogram2dcontour": [
           {
            "colorbar": {
             "outlinewidth": 0,
             "ticks": ""
            },
            "colorscale": [
             [
              0,
              "#0d0887"
             ],
             [
              0.1111111111111111,
              "#46039f"
             ],
             [
              0.2222222222222222,
              "#7201a8"
             ],
             [
              0.3333333333333333,
              "#9c179e"
             ],
             [
              0.4444444444444444,
              "#bd3786"
             ],
             [
              0.5555555555555556,
              "#d8576b"
             ],
             [
              0.6666666666666666,
              "#ed7953"
             ],
             [
              0.7777777777777778,
              "#fb9f3a"
             ],
             [
              0.8888888888888888,
              "#fdca26"
             ],
             [
              1,
              "#f0f921"
             ]
            ],
            "type": "histogram2dcontour"
           }
          ],
          "mesh3d": [
           {
            "colorbar": {
             "outlinewidth": 0,
             "ticks": ""
            },
            "type": "mesh3d"
           }
          ],
          "parcoords": [
           {
            "line": {
             "colorbar": {
              "outlinewidth": 0,
              "ticks": ""
             }
            },
            "type": "parcoords"
           }
          ],
          "pie": [
           {
            "automargin": true,
            "type": "pie"
           }
          ],
          "scatter": [
           {
            "fillpattern": {
             "fillmode": "overlay",
             "size": 10,
             "solidity": 0.2
            },
            "type": "scatter"
           }
          ],
          "scatter3d": [
           {
            "line": {
             "colorbar": {
              "outlinewidth": 0,
              "ticks": ""
             }
            },
            "marker": {
             "colorbar": {
              "outlinewidth": 0,
              "ticks": ""
             }
            },
            "type": "scatter3d"
           }
          ],
          "scattercarpet": [
           {
            "marker": {
             "colorbar": {
              "outlinewidth": 0,
              "ticks": ""
             }
            },
            "type": "scattercarpet"
           }
          ],
          "scattergeo": [
           {
            "marker": {
             "colorbar": {
              "outlinewidth": 0,
              "ticks": ""
             }
            },
            "type": "scattergeo"
           }
          ],
          "scattergl": [
           {
            "marker": {
             "colorbar": {
              "outlinewidth": 0,
              "ticks": ""
             }
            },
            "type": "scattergl"
           }
          ],
          "scattermapbox": [
           {
            "marker": {
             "colorbar": {
              "outlinewidth": 0,
              "ticks": ""
             }
            },
            "type": "scattermapbox"
           }
          ],
          "scatterpolar": [
           {
            "marker": {
             "colorbar": {
              "outlinewidth": 0,
              "ticks": ""
             }
            },
            "type": "scatterpolar"
           }
          ],
          "scatterpolargl": [
           {
            "marker": {
             "colorbar": {
              "outlinewidth": 0,
              "ticks": ""
             }
            },
            "type": "scatterpolargl"
           }
          ],
          "scatterternary": [
           {
            "marker": {
             "colorbar": {
              "outlinewidth": 0,
              "ticks": ""
             }
            },
            "type": "scatterternary"
           }
          ],
          "surface": [
           {
            "colorbar": {
             "outlinewidth": 0,
             "ticks": ""
            },
            "colorscale": [
             [
              0,
              "#0d0887"
             ],
             [
              0.1111111111111111,
              "#46039f"
             ],
             [
              0.2222222222222222,
              "#7201a8"
             ],
             [
              0.3333333333333333,
              "#9c179e"
             ],
             [
              0.4444444444444444,
              "#bd3786"
             ],
             [
              0.5555555555555556,
              "#d8576b"
             ],
             [
              0.6666666666666666,
              "#ed7953"
             ],
             [
              0.7777777777777778,
              "#fb9f3a"
             ],
             [
              0.8888888888888888,
              "#fdca26"
             ],
             [
              1,
              "#f0f921"
             ]
            ],
            "type": "surface"
           }
          ],
          "table": [
           {
            "cells": {
             "fill": {
              "color": "#EBF0F8"
             },
             "line": {
              "color": "white"
             }
            },
            "header": {
             "fill": {
              "color": "#C8D4E3"
             },
             "line": {
              "color": "white"
             }
            },
            "type": "table"
           }
          ]
         },
         "layout": {
          "annotationdefaults": {
           "arrowcolor": "#2a3f5f",
           "arrowhead": 0,
           "arrowwidth": 1
          },
          "autotypenumbers": "strict",
          "coloraxis": {
           "colorbar": {
            "outlinewidth": 0,
            "ticks": ""
           }
          },
          "colorscale": {
           "diverging": [
            [
             0,
             "#8e0152"
            ],
            [
             0.1,
             "#c51b7d"
            ],
            [
             0.2,
             "#de77ae"
            ],
            [
             0.3,
             "#f1b6da"
            ],
            [
             0.4,
             "#fde0ef"
            ],
            [
             0.5,
             "#f7f7f7"
            ],
            [
             0.6,
             "#e6f5d0"
            ],
            [
             0.7,
             "#b8e186"
            ],
            [
             0.8,
             "#7fbc41"
            ],
            [
             0.9,
             "#4d9221"
            ],
            [
             1,
             "#276419"
            ]
           ],
           "sequential": [
            [
             0,
             "#0d0887"
            ],
            [
             0.1111111111111111,
             "#46039f"
            ],
            [
             0.2222222222222222,
             "#7201a8"
            ],
            [
             0.3333333333333333,
             "#9c179e"
            ],
            [
             0.4444444444444444,
             "#bd3786"
            ],
            [
             0.5555555555555556,
             "#d8576b"
            ],
            [
             0.6666666666666666,
             "#ed7953"
            ],
            [
             0.7777777777777778,
             "#fb9f3a"
            ],
            [
             0.8888888888888888,
             "#fdca26"
            ],
            [
             1,
             "#f0f921"
            ]
           ],
           "sequentialminus": [
            [
             0,
             "#0d0887"
            ],
            [
             0.1111111111111111,
             "#46039f"
            ],
            [
             0.2222222222222222,
             "#7201a8"
            ],
            [
             0.3333333333333333,
             "#9c179e"
            ],
            [
             0.4444444444444444,
             "#bd3786"
            ],
            [
             0.5555555555555556,
             "#d8576b"
            ],
            [
             0.6666666666666666,
             "#ed7953"
            ],
            [
             0.7777777777777778,
             "#fb9f3a"
            ],
            [
             0.8888888888888888,
             "#fdca26"
            ],
            [
             1,
             "#f0f921"
            ]
           ]
          },
          "colorway": [
           "#636efa",
           "#EF553B",
           "#00cc96",
           "#ab63fa",
           "#FFA15A",
           "#19d3f3",
           "#FF6692",
           "#B6E880",
           "#FF97FF",
           "#FECB52"
          ],
          "font": {
           "color": "#2a3f5f"
          },
          "geo": {
           "bgcolor": "white",
           "lakecolor": "white",
           "landcolor": "#E5ECF6",
           "showlakes": true,
           "showland": true,
           "subunitcolor": "white"
          },
          "hoverlabel": {
           "align": "left"
          },
          "hovermode": "closest",
          "mapbox": {
           "style": "light"
          },
          "paper_bgcolor": "white",
          "plot_bgcolor": "#E5ECF6",
          "polar": {
           "angularaxis": {
            "gridcolor": "white",
            "linecolor": "white",
            "ticks": ""
           },
           "bgcolor": "#E5ECF6",
           "radialaxis": {
            "gridcolor": "white",
            "linecolor": "white",
            "ticks": ""
           }
          },
          "scene": {
           "xaxis": {
            "backgroundcolor": "#E5ECF6",
            "gridcolor": "white",
            "gridwidth": 2,
            "linecolor": "white",
            "showbackground": true,
            "ticks": "",
            "zerolinecolor": "white"
           },
           "yaxis": {
            "backgroundcolor": "#E5ECF6",
            "gridcolor": "white",
            "gridwidth": 2,
            "linecolor": "white",
            "showbackground": true,
            "ticks": "",
            "zerolinecolor": "white"
           },
           "zaxis": {
            "backgroundcolor": "#E5ECF6",
            "gridcolor": "white",
            "gridwidth": 2,
            "linecolor": "white",
            "showbackground": true,
            "ticks": "",
            "zerolinecolor": "white"
           }
          },
          "shapedefaults": {
           "line": {
            "color": "#2a3f5f"
           }
          },
          "ternary": {
           "aaxis": {
            "gridcolor": "white",
            "linecolor": "white",
            "ticks": ""
           },
           "baxis": {
            "gridcolor": "white",
            "linecolor": "white",
            "ticks": ""
           },
           "bgcolor": "#E5ECF6",
           "caxis": {
            "gridcolor": "white",
            "linecolor": "white",
            "ticks": ""
           }
          },
          "title": {
           "x": 0.05
          },
          "xaxis": {
           "automargin": true,
           "gridcolor": "white",
           "linecolor": "white",
           "ticks": "",
           "title": {
            "standoff": 15
           },
           "zerolinecolor": "white",
           "zerolinewidth": 2
          },
          "yaxis": {
           "automargin": true,
           "gridcolor": "white",
           "linecolor": "white",
           "ticks": "",
           "title": {
            "standoff": 15
           },
           "zerolinecolor": "white",
           "zerolinewidth": 2
          }
         }
        },
        "xaxis": {
         "anchor": "y",
         "domain": [
          0,
          1
         ],
         "title": {
          "text": "F_lp1"
         },
         "type": "log"
        },
        "yaxis": {
         "anchor": "x",
         "domain": [
          0,
          1
         ],
         "title": {
          "text": "T_lp1"
         },
         "type": "log"
        }
       }
      }
     },
     "metadata": {},
     "output_type": "display_data"
    }
   ],
   "source": [
    "plty.scatter(X_lp1_df, x = \"F_lp1\", y = \"T_lp1\", color=\"Y_lp1\", log_x=True, log_y=True)"
   ]
  },
  {
   "attachments": {},
   "cell_type": "markdown",
   "metadata": {},
   "source": [
    "Boxplot"
   ]
  },
  {
   "cell_type": "code",
   "execution_count": 52,
   "metadata": {},
   "outputs": [
    {
     "data": {
      "application/vnd.plotly.v1+json": {
       "config": {
        "plotlyServerURL": "https://plot.ly"
       },
       "data": [
        {
         "alignmentgroup": "True",
         "hovertemplate": "value=%{x}<br>variable=%{y}<extra></extra>",
         "legendgroup": "",
         "marker": {
          "color": "#636efa"
         },
         "name": "",
         "notched": false,
         "offsetgroup": "",
         "orientation": "h",
         "showlegend": false,
         "type": "box",
         "x": [
          0.03867312700162908,
          0.03844034619065928,
          0.037775335455615774,
          0.03847425294639,
          0.037434513125688795,
          0.03663751017388107,
          0.03626411344859795,
          0.036480663194161315,
          0.03619043704538257,
          0.039018761937604916,
          0.0387081892630838,
          0.038051632800652914,
          0.03798982919462068,
          0.0371342104263331,
          0.038307098960866925,
          0.03609870576905973,
          0.03583207633341307,
          0.035882061587460753,
          0.04130033695171199,
          0.04577619685458328,
          0.044632902883954745,
          0.042182141487560616,
          0.04100664094576379,
          0.050790013453260945,
          0.03842593641483479,
          0.04152662795612535,
          0.036215542559796726,
          0.04187250585392019,
          0.03704743494531327,
          0.03603793341393442,
          0.03357706494993641,
          0.0373070315960462,
          0.03873467383252879,
          0.042951827431873896,
          0.04362294981087151,
          0.09781737980086871,
          0.18049040005374414,
          0.1548921435661978,
          0.10861688036769654,
          0.13758923685646277,
          0.03725641709092154,
          0.12834718686151758,
          0.03850045297300399,
          0.13480466729006493,
          0.13480613592546417,
          0.16357375266222446,
          0.4572183900151446,
          0.4309729401714842,
          0.45650158347151754,
          0.1213119127207649,
          0.14228958793434082,
          0.24827298124782674,
          0.1532945316802682,
          0.5751550618680984,
          0.015251112162247718,
          0.013600440873532226,
          0.05715644790133654,
          0.4789631754962088,
          0.027948128142239365,
          0.16523024963288585,
          0.526120878578859,
          0.848916091929066,
          0.018712685945544635,
          0.2004914840589493,
          0.4408070436233026,
          0.12644810562355768,
          0.2507334644089795,
          0.03357417762908778,
          0.019518240550562626,
          0.032071497589277624,
          0.4374145541236535,
          0.018616852514549927,
          0.05577129383126042,
          0.2314785483163214,
          0.011840086652219233,
          0.06039420436853148,
          0.012619735402715876,
          0.18210288294805294,
          0.28801091875147067,
          0.015627601239829883,
          0.10446799622856741,
          0.02077920980142377,
          0.04832076438195555,
          0.4622569850223216,
          0.02007008402700741,
          0.10563297198232569,
          0.6453835544290736,
          0.025075060506309,
          0.003362765240513473,
          0.005065510366877702,
          0.005780516908661385,
          0.007835205847710705,
          0.008816143582388367,
          0.012179935745167458,
          0.009067762888939788,
          0.011521692064998161,
          0.01346178284769541,
          0.003036139645202481,
          0.005170090540768143,
          0.005834027784614517,
          0.008095235682955918,
          0.007365916956019263,
          0.010343979598373377,
          0.01199598149436015,
          0.01084060123896011,
          0.013573928486436435,
          0.03776281483297747,
          0.041482443281408786,
          0.044216199307780465,
          0.045148422172865105,
          0.02994335318007229,
          0.050393040720561125,
          0.030903543327998172,
          0.027595307065012734,
          0.015459742240936812,
          0.03330750818303788,
          0.021156016428576497,
          0.011157322007238762,
          0.011593678103998058,
          0.011628144390836207,
          0.02696313690250167,
          0.09578807354584874,
          0.040779927008309534,
          0.10331081849990612,
          0.22445226387106354,
          0.05262785636070339,
          0.028788412727449746,
          0.08526966955831343,
          0.014419479570698973,
          0.03746329757419314,
          0.01195589684683253,
          0.04535084003556804,
          0.137247129881357,
          0.1925373158382392,
          0.47789394145351616,
          0.5225358413659823,
          0.5517890011528035,
          0.04736802372394576,
          0.13773996404068303,
          0.2968721836276215,
          0.23503150493986794,
          0.4424549238413627,
          0.038875085692599724,
          0.04725399395569767,
          0.06089185462368918,
          0.13390678813107573,
          0.05108918541223839,
          0.195657200908697,
          0.3119228032998492,
          0.3500429695516163,
          0.03543099107825349,
          0.24733905693307115,
          0.39756533613852596,
          0.06398511578485466,
          0.08649073566490659,
          0.017953132220236832,
          0.07891046354482996,
          0.18526398342322092,
          0.7604637850220629,
          0.03758798805880399,
          0.14701763872530896,
          0.47211658637683857,
          0.025247063719855502,
          0.18368464106232904,
          0.009326845849002266,
          0.1687595914067785,
          0.3052103241763049,
          0.013198857073570625,
          0.10749107034778507,
          0.03184823642277336,
          0.12112475593958358,
          0.39956672570021873,
          0.03907509891666794,
          0.11332771050655319,
          0.46974903745748997,
          0.03454187336184385
         ],
         "x0": " ",
         "xaxis": "x",
         "y": [
          "F_lp1",
          "F_lp1",
          "F_lp1",
          "F_lp1",
          "F_lp1",
          "F_lp1",
          "F_lp1",
          "F_lp1",
          "F_lp1",
          "F_lp1",
          "F_lp1",
          "F_lp1",
          "F_lp1",
          "F_lp1",
          "F_lp1",
          "F_lp1",
          "F_lp1",
          "F_lp1",
          "F_lp1",
          "F_lp1",
          "F_lp1",
          "F_lp1",
          "F_lp1",
          "F_lp1",
          "F_lp1",
          "F_lp1",
          "F_lp1",
          "F_lp1",
          "F_lp1",
          "F_lp1",
          "F_lp1",
          "F_lp1",
          "F_lp1",
          "F_lp1",
          "F_lp1",
          "F_lp1",
          "F_lp1",
          "F_lp1",
          "F_lp1",
          "F_lp1",
          "F_lp1",
          "F_lp1",
          "F_lp1",
          "F_lp1",
          "F_lp1",
          "F_lp1",
          "F_lp1",
          "F_lp1",
          "F_lp1",
          "F_lp1",
          "F_lp1",
          "F_lp1",
          "F_lp1",
          "F_lp1",
          "F_lp1",
          "F_lp1",
          "F_lp1",
          "F_lp1",
          "F_lp1",
          "F_lp1",
          "F_lp1",
          "F_lp1",
          "F_lp1",
          "F_lp1",
          "F_lp1",
          "F_lp1",
          "F_lp1",
          "F_lp1",
          "F_lp1",
          "F_lp1",
          "F_lp1",
          "F_lp1",
          "F_lp1",
          "F_lp1",
          "F_lp1",
          "F_lp1",
          "F_lp1",
          "F_lp1",
          "F_lp1",
          "F_lp1",
          "F_lp1",
          "F_lp1",
          "F_lp1",
          "F_lp1",
          "F_lp1",
          "F_lp1",
          "F_lp1",
          "F_lp1",
          "T_lp1",
          "T_lp1",
          "T_lp1",
          "T_lp1",
          "T_lp1",
          "T_lp1",
          "T_lp1",
          "T_lp1",
          "T_lp1",
          "T_lp1",
          "T_lp1",
          "T_lp1",
          "T_lp1",
          "T_lp1",
          "T_lp1",
          "T_lp1",
          "T_lp1",
          "T_lp1",
          "T_lp1",
          "T_lp1",
          "T_lp1",
          "T_lp1",
          "T_lp1",
          "T_lp1",
          "T_lp1",
          "T_lp1",
          "T_lp1",
          "T_lp1",
          "T_lp1",
          "T_lp1",
          "T_lp1",
          "T_lp1",
          "T_lp1",
          "T_lp1",
          "T_lp1",
          "T_lp1",
          "T_lp1",
          "T_lp1",
          "T_lp1",
          "T_lp1",
          "T_lp1",
          "T_lp1",
          "T_lp1",
          "T_lp1",
          "T_lp1",
          "T_lp1",
          "T_lp1",
          "T_lp1",
          "T_lp1",
          "T_lp1",
          "T_lp1",
          "T_lp1",
          "T_lp1",
          "T_lp1",
          "T_lp1",
          "T_lp1",
          "T_lp1",
          "T_lp1",
          "T_lp1",
          "T_lp1",
          "T_lp1",
          "T_lp1",
          "T_lp1",
          "T_lp1",
          "T_lp1",
          "T_lp1",
          "T_lp1",
          "T_lp1",
          "T_lp1",
          "T_lp1",
          "T_lp1",
          "T_lp1",
          "T_lp1",
          "T_lp1",
          "T_lp1",
          "T_lp1",
          "T_lp1",
          "T_lp1",
          "T_lp1",
          "T_lp1",
          "T_lp1",
          "T_lp1",
          "T_lp1",
          "T_lp1",
          "T_lp1",
          "T_lp1",
          "T_lp1",
          "T_lp1"
         ],
         "y0": " ",
         "yaxis": "y"
        }
       ],
       "layout": {
        "boxmode": "group",
        "legend": {
         "tracegroupgap": 0
        },
        "margin": {
         "t": 60
        },
        "template": {
         "data": {
          "bar": [
           {
            "error_x": {
             "color": "#2a3f5f"
            },
            "error_y": {
             "color": "#2a3f5f"
            },
            "marker": {
             "line": {
              "color": "#E5ECF6",
              "width": 0.5
             },
             "pattern": {
              "fillmode": "overlay",
              "size": 10,
              "solidity": 0.2
             }
            },
            "type": "bar"
           }
          ],
          "barpolar": [
           {
            "marker": {
             "line": {
              "color": "#E5ECF6",
              "width": 0.5
             },
             "pattern": {
              "fillmode": "overlay",
              "size": 10,
              "solidity": 0.2
             }
            },
            "type": "barpolar"
           }
          ],
          "carpet": [
           {
            "aaxis": {
             "endlinecolor": "#2a3f5f",
             "gridcolor": "white",
             "linecolor": "white",
             "minorgridcolor": "white",
             "startlinecolor": "#2a3f5f"
            },
            "baxis": {
             "endlinecolor": "#2a3f5f",
             "gridcolor": "white",
             "linecolor": "white",
             "minorgridcolor": "white",
             "startlinecolor": "#2a3f5f"
            },
            "type": "carpet"
           }
          ],
          "choropleth": [
           {
            "colorbar": {
             "outlinewidth": 0,
             "ticks": ""
            },
            "type": "choropleth"
           }
          ],
          "contour": [
           {
            "colorbar": {
             "outlinewidth": 0,
             "ticks": ""
            },
            "colorscale": [
             [
              0,
              "#0d0887"
             ],
             [
              0.1111111111111111,
              "#46039f"
             ],
             [
              0.2222222222222222,
              "#7201a8"
             ],
             [
              0.3333333333333333,
              "#9c179e"
             ],
             [
              0.4444444444444444,
              "#bd3786"
             ],
             [
              0.5555555555555556,
              "#d8576b"
             ],
             [
              0.6666666666666666,
              "#ed7953"
             ],
             [
              0.7777777777777778,
              "#fb9f3a"
             ],
             [
              0.8888888888888888,
              "#fdca26"
             ],
             [
              1,
              "#f0f921"
             ]
            ],
            "type": "contour"
           }
          ],
          "contourcarpet": [
           {
            "colorbar": {
             "outlinewidth": 0,
             "ticks": ""
            },
            "type": "contourcarpet"
           }
          ],
          "heatmap": [
           {
            "colorbar": {
             "outlinewidth": 0,
             "ticks": ""
            },
            "colorscale": [
             [
              0,
              "#0d0887"
             ],
             [
              0.1111111111111111,
              "#46039f"
             ],
             [
              0.2222222222222222,
              "#7201a8"
             ],
             [
              0.3333333333333333,
              "#9c179e"
             ],
             [
              0.4444444444444444,
              "#bd3786"
             ],
             [
              0.5555555555555556,
              "#d8576b"
             ],
             [
              0.6666666666666666,
              "#ed7953"
             ],
             [
              0.7777777777777778,
              "#fb9f3a"
             ],
             [
              0.8888888888888888,
              "#fdca26"
             ],
             [
              1,
              "#f0f921"
             ]
            ],
            "type": "heatmap"
           }
          ],
          "heatmapgl": [
           {
            "colorbar": {
             "outlinewidth": 0,
             "ticks": ""
            },
            "colorscale": [
             [
              0,
              "#0d0887"
             ],
             [
              0.1111111111111111,
              "#46039f"
             ],
             [
              0.2222222222222222,
              "#7201a8"
             ],
             [
              0.3333333333333333,
              "#9c179e"
             ],
             [
              0.4444444444444444,
              "#bd3786"
             ],
             [
              0.5555555555555556,
              "#d8576b"
             ],
             [
              0.6666666666666666,
              "#ed7953"
             ],
             [
              0.7777777777777778,
              "#fb9f3a"
             ],
             [
              0.8888888888888888,
              "#fdca26"
             ],
             [
              1,
              "#f0f921"
             ]
            ],
            "type": "heatmapgl"
           }
          ],
          "histogram": [
           {
            "marker": {
             "pattern": {
              "fillmode": "overlay",
              "size": 10,
              "solidity": 0.2
             }
            },
            "type": "histogram"
           }
          ],
          "histogram2d": [
           {
            "colorbar": {
             "outlinewidth": 0,
             "ticks": ""
            },
            "colorscale": [
             [
              0,
              "#0d0887"
             ],
             [
              0.1111111111111111,
              "#46039f"
             ],
             [
              0.2222222222222222,
              "#7201a8"
             ],
             [
              0.3333333333333333,
              "#9c179e"
             ],
             [
              0.4444444444444444,
              "#bd3786"
             ],
             [
              0.5555555555555556,
              "#d8576b"
             ],
             [
              0.6666666666666666,
              "#ed7953"
             ],
             [
              0.7777777777777778,
              "#fb9f3a"
             ],
             [
              0.8888888888888888,
              "#fdca26"
             ],
             [
              1,
              "#f0f921"
             ]
            ],
            "type": "histogram2d"
           }
          ],
          "histogram2dcontour": [
           {
            "colorbar": {
             "outlinewidth": 0,
             "ticks": ""
            },
            "colorscale": [
             [
              0,
              "#0d0887"
             ],
             [
              0.1111111111111111,
              "#46039f"
             ],
             [
              0.2222222222222222,
              "#7201a8"
             ],
             [
              0.3333333333333333,
              "#9c179e"
             ],
             [
              0.4444444444444444,
              "#bd3786"
             ],
             [
              0.5555555555555556,
              "#d8576b"
             ],
             [
              0.6666666666666666,
              "#ed7953"
             ],
             [
              0.7777777777777778,
              "#fb9f3a"
             ],
             [
              0.8888888888888888,
              "#fdca26"
             ],
             [
              1,
              "#f0f921"
             ]
            ],
            "type": "histogram2dcontour"
           }
          ],
          "mesh3d": [
           {
            "colorbar": {
             "outlinewidth": 0,
             "ticks": ""
            },
            "type": "mesh3d"
           }
          ],
          "parcoords": [
           {
            "line": {
             "colorbar": {
              "outlinewidth": 0,
              "ticks": ""
             }
            },
            "type": "parcoords"
           }
          ],
          "pie": [
           {
            "automargin": true,
            "type": "pie"
           }
          ],
          "scatter": [
           {
            "fillpattern": {
             "fillmode": "overlay",
             "size": 10,
             "solidity": 0.2
            },
            "type": "scatter"
           }
          ],
          "scatter3d": [
           {
            "line": {
             "colorbar": {
              "outlinewidth": 0,
              "ticks": ""
             }
            },
            "marker": {
             "colorbar": {
              "outlinewidth": 0,
              "ticks": ""
             }
            },
            "type": "scatter3d"
           }
          ],
          "scattercarpet": [
           {
            "marker": {
             "colorbar": {
              "outlinewidth": 0,
              "ticks": ""
             }
            },
            "type": "scattercarpet"
           }
          ],
          "scattergeo": [
           {
            "marker": {
             "colorbar": {
              "outlinewidth": 0,
              "ticks": ""
             }
            },
            "type": "scattergeo"
           }
          ],
          "scattergl": [
           {
            "marker": {
             "colorbar": {
              "outlinewidth": 0,
              "ticks": ""
             }
            },
            "type": "scattergl"
           }
          ],
          "scattermapbox": [
           {
            "marker": {
             "colorbar": {
              "outlinewidth": 0,
              "ticks": ""
             }
            },
            "type": "scattermapbox"
           }
          ],
          "scatterpolar": [
           {
            "marker": {
             "colorbar": {
              "outlinewidth": 0,
              "ticks": ""
             }
            },
            "type": "scatterpolar"
           }
          ],
          "scatterpolargl": [
           {
            "marker": {
             "colorbar": {
              "outlinewidth": 0,
              "ticks": ""
             }
            },
            "type": "scatterpolargl"
           }
          ],
          "scatterternary": [
           {
            "marker": {
             "colorbar": {
              "outlinewidth": 0,
              "ticks": ""
             }
            },
            "type": "scatterternary"
           }
          ],
          "surface": [
           {
            "colorbar": {
             "outlinewidth": 0,
             "ticks": ""
            },
            "colorscale": [
             [
              0,
              "#0d0887"
             ],
             [
              0.1111111111111111,
              "#46039f"
             ],
             [
              0.2222222222222222,
              "#7201a8"
             ],
             [
              0.3333333333333333,
              "#9c179e"
             ],
             [
              0.4444444444444444,
              "#bd3786"
             ],
             [
              0.5555555555555556,
              "#d8576b"
             ],
             [
              0.6666666666666666,
              "#ed7953"
             ],
             [
              0.7777777777777778,
              "#fb9f3a"
             ],
             [
              0.8888888888888888,
              "#fdca26"
             ],
             [
              1,
              "#f0f921"
             ]
            ],
            "type": "surface"
           }
          ],
          "table": [
           {
            "cells": {
             "fill": {
              "color": "#EBF0F8"
             },
             "line": {
              "color": "white"
             }
            },
            "header": {
             "fill": {
              "color": "#C8D4E3"
             },
             "line": {
              "color": "white"
             }
            },
            "type": "table"
           }
          ]
         },
         "layout": {
          "annotationdefaults": {
           "arrowcolor": "#2a3f5f",
           "arrowhead": 0,
           "arrowwidth": 1
          },
          "autotypenumbers": "strict",
          "coloraxis": {
           "colorbar": {
            "outlinewidth": 0,
            "ticks": ""
           }
          },
          "colorscale": {
           "diverging": [
            [
             0,
             "#8e0152"
            ],
            [
             0.1,
             "#c51b7d"
            ],
            [
             0.2,
             "#de77ae"
            ],
            [
             0.3,
             "#f1b6da"
            ],
            [
             0.4,
             "#fde0ef"
            ],
            [
             0.5,
             "#f7f7f7"
            ],
            [
             0.6,
             "#e6f5d0"
            ],
            [
             0.7,
             "#b8e186"
            ],
            [
             0.8,
             "#7fbc41"
            ],
            [
             0.9,
             "#4d9221"
            ],
            [
             1,
             "#276419"
            ]
           ],
           "sequential": [
            [
             0,
             "#0d0887"
            ],
            [
             0.1111111111111111,
             "#46039f"
            ],
            [
             0.2222222222222222,
             "#7201a8"
            ],
            [
             0.3333333333333333,
             "#9c179e"
            ],
            [
             0.4444444444444444,
             "#bd3786"
            ],
            [
             0.5555555555555556,
             "#d8576b"
            ],
            [
             0.6666666666666666,
             "#ed7953"
            ],
            [
             0.7777777777777778,
             "#fb9f3a"
            ],
            [
             0.8888888888888888,
             "#fdca26"
            ],
            [
             1,
             "#f0f921"
            ]
           ],
           "sequentialminus": [
            [
             0,
             "#0d0887"
            ],
            [
             0.1111111111111111,
             "#46039f"
            ],
            [
             0.2222222222222222,
             "#7201a8"
            ],
            [
             0.3333333333333333,
             "#9c179e"
            ],
            [
             0.4444444444444444,
             "#bd3786"
            ],
            [
             0.5555555555555556,
             "#d8576b"
            ],
            [
             0.6666666666666666,
             "#ed7953"
            ],
            [
             0.7777777777777778,
             "#fb9f3a"
            ],
            [
             0.8888888888888888,
             "#fdca26"
            ],
            [
             1,
             "#f0f921"
            ]
           ]
          },
          "colorway": [
           "#636efa",
           "#EF553B",
           "#00cc96",
           "#ab63fa",
           "#FFA15A",
           "#19d3f3",
           "#FF6692",
           "#B6E880",
           "#FF97FF",
           "#FECB52"
          ],
          "font": {
           "color": "#2a3f5f"
          },
          "geo": {
           "bgcolor": "white",
           "lakecolor": "white",
           "landcolor": "#E5ECF6",
           "showlakes": true,
           "showland": true,
           "subunitcolor": "white"
          },
          "hoverlabel": {
           "align": "left"
          },
          "hovermode": "closest",
          "mapbox": {
           "style": "light"
          },
          "paper_bgcolor": "white",
          "plot_bgcolor": "#E5ECF6",
          "polar": {
           "angularaxis": {
            "gridcolor": "white",
            "linecolor": "white",
            "ticks": ""
           },
           "bgcolor": "#E5ECF6",
           "radialaxis": {
            "gridcolor": "white",
            "linecolor": "white",
            "ticks": ""
           }
          },
          "scene": {
           "xaxis": {
            "backgroundcolor": "#E5ECF6",
            "gridcolor": "white",
            "gridwidth": 2,
            "linecolor": "white",
            "showbackground": true,
            "ticks": "",
            "zerolinecolor": "white"
           },
           "yaxis": {
            "backgroundcolor": "#E5ECF6",
            "gridcolor": "white",
            "gridwidth": 2,
            "linecolor": "white",
            "showbackground": true,
            "ticks": "",
            "zerolinecolor": "white"
           },
           "zaxis": {
            "backgroundcolor": "#E5ECF6",
            "gridcolor": "white",
            "gridwidth": 2,
            "linecolor": "white",
            "showbackground": true,
            "ticks": "",
            "zerolinecolor": "white"
           }
          },
          "shapedefaults": {
           "line": {
            "color": "#2a3f5f"
           }
          },
          "ternary": {
           "aaxis": {
            "gridcolor": "white",
            "linecolor": "white",
            "ticks": ""
           },
           "baxis": {
            "gridcolor": "white",
            "linecolor": "white",
            "ticks": ""
           },
           "bgcolor": "#E5ECF6",
           "caxis": {
            "gridcolor": "white",
            "linecolor": "white",
            "ticks": ""
           }
          },
          "title": {
           "x": 0.05
          },
          "xaxis": {
           "automargin": true,
           "gridcolor": "white",
           "linecolor": "white",
           "ticks": "",
           "title": {
            "standoff": 15
           },
           "zerolinecolor": "white",
           "zerolinewidth": 2
          },
          "yaxis": {
           "automargin": true,
           "gridcolor": "white",
           "linecolor": "white",
           "ticks": "",
           "title": {
            "standoff": 15
           },
           "zerolinecolor": "white",
           "zerolinewidth": 2
          }
         }
        },
        "xaxis": {
         "anchor": "y",
         "domain": [
          0,
          1
         ],
         "title": {
          "text": "value"
         }
        },
        "yaxis": {
         "anchor": "x",
         "domain": [
          0,
          1
         ],
         "title": {
          "text": "variable"
         }
        }
       }
      }
     },
     "metadata": {},
     "output_type": "display_data"
    }
   ],
   "source": [
    "plty.box(X_lp1_df, x = [\"F_lp1\", \"T_lp1\"])"
   ]
  },
  {
   "attachments": {},
   "cell_type": "markdown",
   "metadata": {},
   "source": [
    "Refining the cluster and plotting scatter and box plots without outliers"
   ]
  },
  {
   "cell_type": "code",
   "execution_count": 53,
   "metadata": {},
   "outputs": [],
   "source": [
    "X_lp1_df = X_lp1_df.drop(X_lp1_df[((X_lp1_df.F_lp1 > 0.03) & (X_lp1_df.Y_lp1==2))].index)\n",
    "X_lp1_df = X_lp1_df.drop(X_lp1_df[((X_lp1_df.F_lp1 < 0.09) & (X_lp1_df.Y_lp1==3))].index)\n",
    "X_lp1_df.loc[X_lp1_df[\"T_lp1\"] > 0.312, \"T_lp1\"] = 0.311\n",
    "X_lp1_df.loc[X_lp1_df[\"F_lp1\"] > 0.312, \"F_lp1\"] = 0.288"
   ]
  },
  {
   "cell_type": "code",
   "execution_count": 54,
   "metadata": {},
   "outputs": [
    {
     "data": {
      "application/vnd.plotly.v1+json": {
       "config": {
        "plotlyServerURL": "https://plot.ly"
       },
       "data": [
        {
         "hovertemplate": "F_lp1=%{x}<br>T_lp1=%{y}<br>Y_lp1=%{marker.color}<extra></extra>",
         "legendgroup": "",
         "marker": {
          "color": [
           0,
           0,
           0,
           0,
           0,
           0,
           0,
           0,
           0,
           0,
           0,
           0,
           0,
           0,
           0,
           0,
           0,
           0,
           1,
           1,
           1,
           1,
           1,
           1,
           1,
           1,
           1,
           1,
           1,
           1,
           1,
           1,
           1,
           1,
           1,
           3,
           3,
           3,
           3,
           3,
           0,
           3,
           0,
           3,
           3,
           3,
           3,
           3,
           3,
           3,
           3,
           3,
           3,
           2,
           2,
           3,
           2,
           3,
           3,
           3,
           2,
           3,
           3,
           3,
           3,
           0,
           2,
           3,
           2,
           3,
           2,
           2,
           3,
           3,
           2,
           3,
           2,
           3,
           2,
           3,
           3,
           2
          ],
          "coloraxis": "coloraxis",
          "symbol": "circle"
         },
         "mode": "markers",
         "name": "",
         "orientation": "v",
         "showlegend": false,
         "type": "scatter",
         "x": [
          0.03867312700162908,
          0.03844034619065928,
          0.037775335455615774,
          0.03847425294639,
          0.037434513125688795,
          0.03663751017388107,
          0.03626411344859795,
          0.036480663194161315,
          0.03619043704538257,
          0.039018761937604916,
          0.0387081892630838,
          0.038051632800652914,
          0.03798982919462068,
          0.0371342104263331,
          0.038307098960866925,
          0.03609870576905973,
          0.03583207633341307,
          0.035882061587460753,
          0.04130033695171199,
          0.04577619685458328,
          0.044632902883954745,
          0.042182141487560616,
          0.04100664094576379,
          0.050790013453260945,
          0.03842593641483479,
          0.04152662795612535,
          0.036215542559796726,
          0.04187250585392019,
          0.03704743494531327,
          0.03603793341393442,
          0.03357706494993641,
          0.0373070315960462,
          0.03873467383252879,
          0.042951827431873896,
          0.04362294981087151,
          0.09781737980086871,
          0.18049040005374414,
          0.1548921435661978,
          0.10861688036769654,
          0.13758923685646277,
          0.03725641709092154,
          0.12834718686151758,
          0.03850045297300399,
          0.13480466729006493,
          0.13480613592546417,
          0.16357375266222446,
          0.288,
          0.288,
          0.288,
          0.1213119127207649,
          0.14228958793434082,
          0.24827298124782674,
          0.288,
          0.015251112162247718,
          0.013600440873532226,
          0.288,
          0.027948128142239365,
          0.16523024963288585,
          0.288,
          0.288,
          0.018712685945544635,
          0.2004914840589493,
          0.288,
          0.12644810562355768,
          0.2507334644089795,
          0.03357417762908778,
          0.019518240550562626,
          0.288,
          0.018616852514549927,
          0.2314785483163214,
          0.011840086652219233,
          0.012619735402715876,
          0.18210288294805294,
          0.28801091875147067,
          0.015627601239829883,
          0.10446799622856741,
          0.02077920980142377,
          0.288,
          0.02007008402700741,
          0.10563297198232569,
          0.288,
          0.025075060506309
         ],
         "xaxis": "x",
         "y": [
          0.003362765240513473,
          0.005065510366877702,
          0.005780516908661385,
          0.007835205847710705,
          0.008816143582388367,
          0.012179935745167458,
          0.009067762888939788,
          0.011521692064998161,
          0.01346178284769541,
          0.003036139645202481,
          0.005170090540768143,
          0.005834027784614517,
          0.008095235682955918,
          0.007365916956019263,
          0.010343979598373377,
          0.01199598149436015,
          0.01084060123896011,
          0.013573928486436435,
          0.03776281483297747,
          0.041482443281408786,
          0.044216199307780465,
          0.045148422172865105,
          0.02994335318007229,
          0.050393040720561125,
          0.030903543327998172,
          0.027595307065012734,
          0.015459742240936812,
          0.03330750818303788,
          0.021156016428576497,
          0.011157322007238762,
          0.011593678103998058,
          0.011628144390836207,
          0.02696313690250167,
          0.09578807354584874,
          0.040779927008309534,
          0.10331081849990612,
          0.22445226387106354,
          0.05262785636070339,
          0.028788412727449746,
          0.08526966955831343,
          0.014419479570698973,
          0.03746329757419314,
          0.01195589684683253,
          0.04535084003556804,
          0.137247129881357,
          0.1925373158382392,
          0.311,
          0.311,
          0.311,
          0.04736802372394576,
          0.13773996404068303,
          0.2968721836276215,
          0.311,
          0.038875085692599724,
          0.04725399395569767,
          0.13390678813107573,
          0.05108918541223839,
          0.195657200908697,
          0.3119228032998492,
          0.311,
          0.03543099107825349,
          0.24733905693307115,
          0.311,
          0.06398511578485466,
          0.08649073566490659,
          0.017953132220236832,
          0.07891046354482996,
          0.311,
          0.03758798805880399,
          0.311,
          0.025247063719855502,
          0.009326845849002266,
          0.1687595914067785,
          0.3052103241763049,
          0.013198857073570625,
          0.10749107034778507,
          0.03184823642277336,
          0.311,
          0.03907509891666794,
          0.11332771050655319,
          0.311,
          0.03454187336184385
         ],
         "yaxis": "y"
        }
       ],
       "layout": {
        "coloraxis": {
         "colorbar": {
          "title": {
           "text": "Y_lp1"
          }
         },
         "colorscale": [
          [
           0,
           "#0d0887"
          ],
          [
           0.1111111111111111,
           "#46039f"
          ],
          [
           0.2222222222222222,
           "#7201a8"
          ],
          [
           0.3333333333333333,
           "#9c179e"
          ],
          [
           0.4444444444444444,
           "#bd3786"
          ],
          [
           0.5555555555555556,
           "#d8576b"
          ],
          [
           0.6666666666666666,
           "#ed7953"
          ],
          [
           0.7777777777777778,
           "#fb9f3a"
          ],
          [
           0.8888888888888888,
           "#fdca26"
          ],
          [
           1,
           "#f0f921"
          ]
         ]
        },
        "legend": {
         "tracegroupgap": 0
        },
        "margin": {
         "t": 60
        },
        "template": {
         "data": {
          "bar": [
           {
            "error_x": {
             "color": "#2a3f5f"
            },
            "error_y": {
             "color": "#2a3f5f"
            },
            "marker": {
             "line": {
              "color": "#E5ECF6",
              "width": 0.5
             },
             "pattern": {
              "fillmode": "overlay",
              "size": 10,
              "solidity": 0.2
             }
            },
            "type": "bar"
           }
          ],
          "barpolar": [
           {
            "marker": {
             "line": {
              "color": "#E5ECF6",
              "width": 0.5
             },
             "pattern": {
              "fillmode": "overlay",
              "size": 10,
              "solidity": 0.2
             }
            },
            "type": "barpolar"
           }
          ],
          "carpet": [
           {
            "aaxis": {
             "endlinecolor": "#2a3f5f",
             "gridcolor": "white",
             "linecolor": "white",
             "minorgridcolor": "white",
             "startlinecolor": "#2a3f5f"
            },
            "baxis": {
             "endlinecolor": "#2a3f5f",
             "gridcolor": "white",
             "linecolor": "white",
             "minorgridcolor": "white",
             "startlinecolor": "#2a3f5f"
            },
            "type": "carpet"
           }
          ],
          "choropleth": [
           {
            "colorbar": {
             "outlinewidth": 0,
             "ticks": ""
            },
            "type": "choropleth"
           }
          ],
          "contour": [
           {
            "colorbar": {
             "outlinewidth": 0,
             "ticks": ""
            },
            "colorscale": [
             [
              0,
              "#0d0887"
             ],
             [
              0.1111111111111111,
              "#46039f"
             ],
             [
              0.2222222222222222,
              "#7201a8"
             ],
             [
              0.3333333333333333,
              "#9c179e"
             ],
             [
              0.4444444444444444,
              "#bd3786"
             ],
             [
              0.5555555555555556,
              "#d8576b"
             ],
             [
              0.6666666666666666,
              "#ed7953"
             ],
             [
              0.7777777777777778,
              "#fb9f3a"
             ],
             [
              0.8888888888888888,
              "#fdca26"
             ],
             [
              1,
              "#f0f921"
             ]
            ],
            "type": "contour"
           }
          ],
          "contourcarpet": [
           {
            "colorbar": {
             "outlinewidth": 0,
             "ticks": ""
            },
            "type": "contourcarpet"
           }
          ],
          "heatmap": [
           {
            "colorbar": {
             "outlinewidth": 0,
             "ticks": ""
            },
            "colorscale": [
             [
              0,
              "#0d0887"
             ],
             [
              0.1111111111111111,
              "#46039f"
             ],
             [
              0.2222222222222222,
              "#7201a8"
             ],
             [
              0.3333333333333333,
              "#9c179e"
             ],
             [
              0.4444444444444444,
              "#bd3786"
             ],
             [
              0.5555555555555556,
              "#d8576b"
             ],
             [
              0.6666666666666666,
              "#ed7953"
             ],
             [
              0.7777777777777778,
              "#fb9f3a"
             ],
             [
              0.8888888888888888,
              "#fdca26"
             ],
             [
              1,
              "#f0f921"
             ]
            ],
            "type": "heatmap"
           }
          ],
          "heatmapgl": [
           {
            "colorbar": {
             "outlinewidth": 0,
             "ticks": ""
            },
            "colorscale": [
             [
              0,
              "#0d0887"
             ],
             [
              0.1111111111111111,
              "#46039f"
             ],
             [
              0.2222222222222222,
              "#7201a8"
             ],
             [
              0.3333333333333333,
              "#9c179e"
             ],
             [
              0.4444444444444444,
              "#bd3786"
             ],
             [
              0.5555555555555556,
              "#d8576b"
             ],
             [
              0.6666666666666666,
              "#ed7953"
             ],
             [
              0.7777777777777778,
              "#fb9f3a"
             ],
             [
              0.8888888888888888,
              "#fdca26"
             ],
             [
              1,
              "#f0f921"
             ]
            ],
            "type": "heatmapgl"
           }
          ],
          "histogram": [
           {
            "marker": {
             "pattern": {
              "fillmode": "overlay",
              "size": 10,
              "solidity": 0.2
             }
            },
            "type": "histogram"
           }
          ],
          "histogram2d": [
           {
            "colorbar": {
             "outlinewidth": 0,
             "ticks": ""
            },
            "colorscale": [
             [
              0,
              "#0d0887"
             ],
             [
              0.1111111111111111,
              "#46039f"
             ],
             [
              0.2222222222222222,
              "#7201a8"
             ],
             [
              0.3333333333333333,
              "#9c179e"
             ],
             [
              0.4444444444444444,
              "#bd3786"
             ],
             [
              0.5555555555555556,
              "#d8576b"
             ],
             [
              0.6666666666666666,
              "#ed7953"
             ],
             [
              0.7777777777777778,
              "#fb9f3a"
             ],
             [
              0.8888888888888888,
              "#fdca26"
             ],
             [
              1,
              "#f0f921"
             ]
            ],
            "type": "histogram2d"
           }
          ],
          "histogram2dcontour": [
           {
            "colorbar": {
             "outlinewidth": 0,
             "ticks": ""
            },
            "colorscale": [
             [
              0,
              "#0d0887"
             ],
             [
              0.1111111111111111,
              "#46039f"
             ],
             [
              0.2222222222222222,
              "#7201a8"
             ],
             [
              0.3333333333333333,
              "#9c179e"
             ],
             [
              0.4444444444444444,
              "#bd3786"
             ],
             [
              0.5555555555555556,
              "#d8576b"
             ],
             [
              0.6666666666666666,
              "#ed7953"
             ],
             [
              0.7777777777777778,
              "#fb9f3a"
             ],
             [
              0.8888888888888888,
              "#fdca26"
             ],
             [
              1,
              "#f0f921"
             ]
            ],
            "type": "histogram2dcontour"
           }
          ],
          "mesh3d": [
           {
            "colorbar": {
             "outlinewidth": 0,
             "ticks": ""
            },
            "type": "mesh3d"
           }
          ],
          "parcoords": [
           {
            "line": {
             "colorbar": {
              "outlinewidth": 0,
              "ticks": ""
             }
            },
            "type": "parcoords"
           }
          ],
          "pie": [
           {
            "automargin": true,
            "type": "pie"
           }
          ],
          "scatter": [
           {
            "fillpattern": {
             "fillmode": "overlay",
             "size": 10,
             "solidity": 0.2
            },
            "type": "scatter"
           }
          ],
          "scatter3d": [
           {
            "line": {
             "colorbar": {
              "outlinewidth": 0,
              "ticks": ""
             }
            },
            "marker": {
             "colorbar": {
              "outlinewidth": 0,
              "ticks": ""
             }
            },
            "type": "scatter3d"
           }
          ],
          "scattercarpet": [
           {
            "marker": {
             "colorbar": {
              "outlinewidth": 0,
              "ticks": ""
             }
            },
            "type": "scattercarpet"
           }
          ],
          "scattergeo": [
           {
            "marker": {
             "colorbar": {
              "outlinewidth": 0,
              "ticks": ""
             }
            },
            "type": "scattergeo"
           }
          ],
          "scattergl": [
           {
            "marker": {
             "colorbar": {
              "outlinewidth": 0,
              "ticks": ""
             }
            },
            "type": "scattergl"
           }
          ],
          "scattermapbox": [
           {
            "marker": {
             "colorbar": {
              "outlinewidth": 0,
              "ticks": ""
             }
            },
            "type": "scattermapbox"
           }
          ],
          "scatterpolar": [
           {
            "marker": {
             "colorbar": {
              "outlinewidth": 0,
              "ticks": ""
             }
            },
            "type": "scatterpolar"
           }
          ],
          "scatterpolargl": [
           {
            "marker": {
             "colorbar": {
              "outlinewidth": 0,
              "ticks": ""
             }
            },
            "type": "scatterpolargl"
           }
          ],
          "scatterternary": [
           {
            "marker": {
             "colorbar": {
              "outlinewidth": 0,
              "ticks": ""
             }
            },
            "type": "scatterternary"
           }
          ],
          "surface": [
           {
            "colorbar": {
             "outlinewidth": 0,
             "ticks": ""
            },
            "colorscale": [
             [
              0,
              "#0d0887"
             ],
             [
              0.1111111111111111,
              "#46039f"
             ],
             [
              0.2222222222222222,
              "#7201a8"
             ],
             [
              0.3333333333333333,
              "#9c179e"
             ],
             [
              0.4444444444444444,
              "#bd3786"
             ],
             [
              0.5555555555555556,
              "#d8576b"
             ],
             [
              0.6666666666666666,
              "#ed7953"
             ],
             [
              0.7777777777777778,
              "#fb9f3a"
             ],
             [
              0.8888888888888888,
              "#fdca26"
             ],
             [
              1,
              "#f0f921"
             ]
            ],
            "type": "surface"
           }
          ],
          "table": [
           {
            "cells": {
             "fill": {
              "color": "#EBF0F8"
             },
             "line": {
              "color": "white"
             }
            },
            "header": {
             "fill": {
              "color": "#C8D4E3"
             },
             "line": {
              "color": "white"
             }
            },
            "type": "table"
           }
          ]
         },
         "layout": {
          "annotationdefaults": {
           "arrowcolor": "#2a3f5f",
           "arrowhead": 0,
           "arrowwidth": 1
          },
          "autotypenumbers": "strict",
          "coloraxis": {
           "colorbar": {
            "outlinewidth": 0,
            "ticks": ""
           }
          },
          "colorscale": {
           "diverging": [
            [
             0,
             "#8e0152"
            ],
            [
             0.1,
             "#c51b7d"
            ],
            [
             0.2,
             "#de77ae"
            ],
            [
             0.3,
             "#f1b6da"
            ],
            [
             0.4,
             "#fde0ef"
            ],
            [
             0.5,
             "#f7f7f7"
            ],
            [
             0.6,
             "#e6f5d0"
            ],
            [
             0.7,
             "#b8e186"
            ],
            [
             0.8,
             "#7fbc41"
            ],
            [
             0.9,
             "#4d9221"
            ],
            [
             1,
             "#276419"
            ]
           ],
           "sequential": [
            [
             0,
             "#0d0887"
            ],
            [
             0.1111111111111111,
             "#46039f"
            ],
            [
             0.2222222222222222,
             "#7201a8"
            ],
            [
             0.3333333333333333,
             "#9c179e"
            ],
            [
             0.4444444444444444,
             "#bd3786"
            ],
            [
             0.5555555555555556,
             "#d8576b"
            ],
            [
             0.6666666666666666,
             "#ed7953"
            ],
            [
             0.7777777777777778,
             "#fb9f3a"
            ],
            [
             0.8888888888888888,
             "#fdca26"
            ],
            [
             1,
             "#f0f921"
            ]
           ],
           "sequentialminus": [
            [
             0,
             "#0d0887"
            ],
            [
             0.1111111111111111,
             "#46039f"
            ],
            [
             0.2222222222222222,
             "#7201a8"
            ],
            [
             0.3333333333333333,
             "#9c179e"
            ],
            [
             0.4444444444444444,
             "#bd3786"
            ],
            [
             0.5555555555555556,
             "#d8576b"
            ],
            [
             0.6666666666666666,
             "#ed7953"
            ],
            [
             0.7777777777777778,
             "#fb9f3a"
            ],
            [
             0.8888888888888888,
             "#fdca26"
            ],
            [
             1,
             "#f0f921"
            ]
           ]
          },
          "colorway": [
           "#636efa",
           "#EF553B",
           "#00cc96",
           "#ab63fa",
           "#FFA15A",
           "#19d3f3",
           "#FF6692",
           "#B6E880",
           "#FF97FF",
           "#FECB52"
          ],
          "font": {
           "color": "#2a3f5f"
          },
          "geo": {
           "bgcolor": "white",
           "lakecolor": "white",
           "landcolor": "#E5ECF6",
           "showlakes": true,
           "showland": true,
           "subunitcolor": "white"
          },
          "hoverlabel": {
           "align": "left"
          },
          "hovermode": "closest",
          "mapbox": {
           "style": "light"
          },
          "paper_bgcolor": "white",
          "plot_bgcolor": "#E5ECF6",
          "polar": {
           "angularaxis": {
            "gridcolor": "white",
            "linecolor": "white",
            "ticks": ""
           },
           "bgcolor": "#E5ECF6",
           "radialaxis": {
            "gridcolor": "white",
            "linecolor": "white",
            "ticks": ""
           }
          },
          "scene": {
           "xaxis": {
            "backgroundcolor": "#E5ECF6",
            "gridcolor": "white",
            "gridwidth": 2,
            "linecolor": "white",
            "showbackground": true,
            "ticks": "",
            "zerolinecolor": "white"
           },
           "yaxis": {
            "backgroundcolor": "#E5ECF6",
            "gridcolor": "white",
            "gridwidth": 2,
            "linecolor": "white",
            "showbackground": true,
            "ticks": "",
            "zerolinecolor": "white"
           },
           "zaxis": {
            "backgroundcolor": "#E5ECF6",
            "gridcolor": "white",
            "gridwidth": 2,
            "linecolor": "white",
            "showbackground": true,
            "ticks": "",
            "zerolinecolor": "white"
           }
          },
          "shapedefaults": {
           "line": {
            "color": "#2a3f5f"
           }
          },
          "ternary": {
           "aaxis": {
            "gridcolor": "white",
            "linecolor": "white",
            "ticks": ""
           },
           "baxis": {
            "gridcolor": "white",
            "linecolor": "white",
            "ticks": ""
           },
           "bgcolor": "#E5ECF6",
           "caxis": {
            "gridcolor": "white",
            "linecolor": "white",
            "ticks": ""
           }
          },
          "title": {
           "x": 0.05
          },
          "xaxis": {
           "automargin": true,
           "gridcolor": "white",
           "linecolor": "white",
           "ticks": "",
           "title": {
            "standoff": 15
           },
           "zerolinecolor": "white",
           "zerolinewidth": 2
          },
          "yaxis": {
           "automargin": true,
           "gridcolor": "white",
           "linecolor": "white",
           "ticks": "",
           "title": {
            "standoff": 15
           },
           "zerolinecolor": "white",
           "zerolinewidth": 2
          }
         }
        },
        "xaxis": {
         "anchor": "y",
         "domain": [
          0,
          1
         ],
         "title": {
          "text": "F_lp1"
         },
         "type": "log"
        },
        "yaxis": {
         "anchor": "x",
         "domain": [
          0,
          1
         ],
         "title": {
          "text": "T_lp1"
         },
         "type": "log"
        }
       }
      }
     },
     "metadata": {},
     "output_type": "display_data"
    }
   ],
   "source": [
    "plty.scatter(X_lp1_df, x = \"F_lp1\", y = \"T_lp1\", color=\"Y_lp1\", log_x=True, log_y=True)"
   ]
  },
  {
   "cell_type": "code",
   "execution_count": 55,
   "metadata": {},
   "outputs": [
    {
     "data": {
      "application/vnd.plotly.v1+json": {
       "config": {
        "plotlyServerURL": "https://plot.ly"
       },
       "data": [
        {
         "hovertemplate": "variable=Fx_lp1<br>value=%{x}<br>index=%{y}<extra></extra>",
         "legendgroup": "Fx_lp1",
         "marker": {
          "color": "red",
          "symbol": "circle"
         },
         "mode": "markers",
         "name": "Fx_lp1",
         "orientation": "h",
         "showlegend": true,
         "type": "scatter",
         "x": [
          0.43034330011074196,
          0.43045404208194904,
          0.4307862679955703,
          0.43122923588039874,
          0.43089700996677743,
          0.43023255813953487,
          0.4304540420819491,
          0.43078626799557035,
          0.43078626799557035,
          0.43034330011074196,
          0.43045404208194904,
          0.4312292358803987,
          0.43045404208194904,
          0.43133997785160577,
          0.43045404208194904,
          0.42978959025470653,
          0.430343300110742,
          0.43089700996677743,
          0.44285714285714284,
          0.44905869324473974,
          0.4129568106312292,
          0.44318936877076415,
          0.439313399778516,
          0.39446290143964563,
          0.41827242524916947,
          0.4249169435215947,
          0.4374307862679956,
          0.4287929125138427,
          0.4262458471760798,
          0.43588039867109635,
          0.43665559246954594,
          0.43023255813953487,
          0.4343300110741971,
          0.4510520487264673,
          0.42281284606866004,
          0.4129568106312292,
          0.44385382059800654,
          0.4302325581395348,
          0.43156146179401994,
          0.41107419712070875,
          0.43122923588039874,
          0.42469545957918053,
          0.43145071982281286,
          0.42325581395348844,
          0.4105204872646733,
          0.42281284606866004,
          0.4224806201550387,
          0.4060908084163898,
          0.4069767441860465,
          0.4190476190476191,
          0.44019933554817275,
          0.381063122923588,
          0.3941306755260243,
          0.44241417497231444,
          0.4480620155038759,
          0.5109634551495017,
          0.4411960132890365,
          0.43543743078626795,
          0.28648947951273535,
          0.019933554817275746,
          0.4262458471760796,
          0.432890365448505,
          0.46456256921373207,
          0.4348837209302326,
          0.4285714285714286,
          0.4287929125138427,
          0.41805094130675524,
          0.2647840531561461,
          0.4339977851605758,
          0.5197120708748615,
          0.43543743078626795,
          0.4251384274640088,
          0.42081949058693247,
          0.4282392026578074,
          0.4246954595791806,
          0.4281284606866002,
          0.4264673311184939,
          0.3130675526024363,
          0.44772978959025467,
          0.5383167220376522,
          0.9312292358803987,
          0.41605758582502766
         ],
         "xaxis": "x",
         "y": [
          0,
          1,
          2,
          3,
          4,
          5,
          6,
          7,
          8,
          9,
          10,
          11,
          12,
          13,
          14,
          15,
          16,
          17,
          18,
          19,
          20,
          21,
          22,
          23,
          24,
          25,
          26,
          27,
          28,
          29,
          30,
          31,
          32,
          33,
          34,
          35,
          36,
          37,
          38,
          39,
          40,
          41,
          42,
          43,
          44,
          45,
          46,
          47,
          48,
          49,
          50,
          51,
          53,
          54,
          55,
          57,
          58,
          59,
          60,
          61,
          62,
          63,
          64,
          65,
          66,
          67,
          68,
          70,
          71,
          73,
          74,
          76,
          77,
          78,
          79,
          80,
          81,
          83,
          84,
          85,
          86,
          87
         ],
         "yaxis": "y"
        },
        {
         "hovertemplate": "variable=Fy_lp1<br>value=%{x}<br>index=%{y}<extra></extra>",
         "legendgroup": "Fy_lp1",
         "marker": {
          "color": "blue",
          "symbol": "circle"
         },
         "mode": "markers",
         "name": "Fy_lp1",
         "orientation": "h",
         "showlegend": true,
         "type": "scatter",
         "x": [
          0.5978494623655914,
          0.5981890209394454,
          0.5984153933220147,
          0.5995472552348614,
          0.5988681380871534,
          0.6027164685908318,
          0.5976230899830222,
          0.5995472552348614,
          0.6006791171477078,
          0.5977362761743069,
          0.5980758347481606,
          0.5979626485568761,
          0.5996604414261459,
          0.5977362761743067,
          0.6004527447651387,
          0.6011318619128467,
          0.5990945104697227,
          0.600679117147708,
          0.6045274476513866,
          0.6101867572156198,
          0.5942275042444823,
          0.5873231465761178,
          0.6044142614601019,
          0.6344086021505377,
          0.5906055461233729,
          0.596264855687606,
          0.5953593661573287,
          0.5977362761743067,
          0.6011318619128466,
          0.5856253537068477,
          0.5813242784380305,
          0.5968307866440293,
          0.6027164685908318,
          0.6046406338426712,
          0.6235427277872101,
          0.6501414827391058,
          0.5584606677985284,
          0.565704584040747,
          0.591624221844935,
          0.5870967741935483,
          0.6011318619128467,
          0.619468024900962,
          0.6001131861912846,
          0.6048670062252407,
          0.6494623655913979,
          0.6368986983588003,
          0.4750424448217318,
          0.4667798528579513,
          0.4613469156762875,
          0.6183361629881154,
          0.6058856819468024,
          0.5692133559705715,
          0.8123372948500283,
          0.6157328805885682,
          0.6200339558573854,
          0.6520656479909451,
          0.6089417091114883,
          0.6599886813808716,
          0.7809847198641766,
          0.9273344651952462,
          0.59490662139219,
          0.565365025466893,
          0.44640633842671196,
          0.6005659309564232,
          0.6002263723825693,
          0.6016977928692699,
          0.6184493491794001,
          0.6265987549518958,
          0.6043010752688172,
          0.6601018675721562,
          0.5864176570458405,
          0.6072439162422184,
          0.6971137521222412,
          0.7152235427277873,
          0.6032823995472552,
          0.6528579513299377,
          0.5902659875495189,
          0.6694963214487832,
          0.6157328805885681,
          0.6568194680249011,
          0.8395019807583477,
          0.6035087719298247
         ],
         "xaxis": "x",
         "y": [
          0,
          1,
          2,
          3,
          4,
          5,
          6,
          7,
          8,
          9,
          10,
          11,
          12,
          13,
          14,
          15,
          16,
          17,
          18,
          19,
          20,
          21,
          22,
          23,
          24,
          25,
          26,
          27,
          28,
          29,
          30,
          31,
          32,
          33,
          34,
          35,
          36,
          37,
          38,
          39,
          40,
          41,
          42,
          43,
          44,
          45,
          46,
          47,
          48,
          49,
          50,
          51,
          53,
          54,
          55,
          57,
          58,
          59,
          60,
          61,
          62,
          63,
          64,
          65,
          66,
          67,
          68,
          70,
          71,
          73,
          74,
          76,
          77,
          78,
          79,
          80,
          81,
          83,
          84,
          85,
          86,
          87
         ],
         "yaxis": "y"
        },
        {
         "hovertemplate": "variable=Fz_lp1<br>value=%{x}<br>index=%{y}<extra></extra>",
         "legendgroup": "Fz_lp1",
         "marker": {
          "color": "green",
          "symbol": "circle"
         },
         "mode": "markers",
         "name": "Fz_lp1",
         "orientation": "h",
         "showlegend": true,
         "type": "scatter",
         "x": [
          0.9445618153364633,
          0.9443270735524257,
          0.9437402190923319,
          0.9443661971830988,
          0.9434272300469483,
          0.9426838810641627,
          0.9423708920187794,
          0.942566510172144,
          0.9422926447574334,
          0.9448748043818468,
          0.9445618153364632,
          0.9439749608763695,
          0.9438967136150235,
          0.943153364632238,
          0.9442097026604069,
          0.9422143974960875,
          0.9419796557120501,
          0.9420187793427229,
          0.9442488262910799,
          0.9460093896713616,
          0.9465179968701096,
          0.9444835680751174,
          0.9434663536776213,
          0.9465962441314554,
          0.9424491392801252,
          0.942018779342723,
          0.9417449139280125,
          0.9470657276995305,
          0.9426056338028169,
          0.9414319248826291,
          0.938732394366197,
          0.9431142410015649,
          0.9440923317683882,
          0.9423708920187793,
          0.9446009389671362,
          0.8267605633802818,
          0.744092331768388,
          0.8240610328638497,
          0.8618935837245695,
          0.8188575899843505,
          0.9432707355242567,
          0.8478482003129889,
          0.9444053208137717,
          0.8412754303599373,
          0.7947574334898279,
          0.760602503912363,
          0.4944835680751174,
          0.5192879499217528,
          0.4960485133020344,
          0.8516823161189357,
          0.8280907668231611,
          0.6827856025039124,
          0.3908450704225352,
          0.9209702660406885,
          0.904186228482003,
          0.4735915492957747,
          0.9124804381846636,
          0.7584115805946792,
          0.43701095461658845,
          0.1593114241001565,
          0.9210485133020345,
          0.7253521126760564,
          0.5126369327073552,
          0.8464006259780908,
          0.6904147104851329,
          0.9399061032863848,
          0.9247261345852895,
          0.5162754303599375,
          0.9262128325508608,
          0.6998043818466354,
          0.9162363067292645,
          0.9188575899843507,
          0.7448748043818465,
          0.6482785602503913,
          0.9230046948356809,
          0.8152190923317683,
          0.9271909233176842,
          0.49037558685446003,
          0.9244131455399062,
          0.8211658841940532,
          0.35477308294209703,
          0.931338028169014
         ],
         "xaxis": "x",
         "y": [
          0,
          1,
          2,
          3,
          4,
          5,
          6,
          7,
          8,
          9,
          10,
          11,
          12,
          13,
          14,
          15,
          16,
          17,
          18,
          19,
          20,
          21,
          22,
          23,
          24,
          25,
          26,
          27,
          28,
          29,
          30,
          31,
          32,
          33,
          34,
          35,
          36,
          37,
          38,
          39,
          40,
          41,
          42,
          43,
          44,
          45,
          46,
          47,
          48,
          49,
          50,
          51,
          53,
          54,
          55,
          57,
          58,
          59,
          60,
          61,
          62,
          63,
          64,
          65,
          66,
          67,
          68,
          70,
          71,
          73,
          74,
          76,
          77,
          78,
          79,
          80,
          81,
          83,
          84,
          85,
          86,
          87
         ],
         "yaxis": "y"
        },
        {
         "hovertemplate": "variable=Tx_lp1<br>value=%{x}<br>index=%{y}<extra></extra>",
         "legendgroup": "Tx_lp1",
         "marker": {
          "color": "purple",
          "symbol": "circle"
         },
         "mode": "markers",
         "name": "Tx_lp1",
         "orientation": "h",
         "showlegend": true,
         "type": "scatter",
         "x": [
          0.4927344133529701,
          0.49224349533627887,
          0.491899852724595,
          0.490279823269514,
          0.4896907216494846,
          0.4873834069710358,
          0.4895925380461463,
          0.4878252331860579,
          0.4865979381443299,
          0.4929798723613157,
          0.49243986254295535,
          0.49194894452626414,
          0.490279823269514,
          0.49072164948453606,
          0.48856161021109473,
          0.4877270495827197,
          0.48841433480608737,
          0.4864506627393225,
          0.4819342169857634,
          0.48276877761413844,
          0.48522336769759455,
          0.49896907216494846,
          0.4967108492881689,
          0.47643593519882177,
          0.4997545409916544,
          0.48880706921944034,
          0.49052528227785963,
          0.4824251350024546,
          0.48846342660775655,
          0.4969563082965145,
          0.49779086892488955,
          0.49106529209621996,
          0.49013254786450666,
          0.5211094747177222,
          0.47304860088365247,
          0.5289150711831124,
          0.3767795778105058,
          0.47378497790868923,
          0.48213058419243987,
          0.44177712322042223,
          0.4862052037309769,
          0.4747668139420717,
          0.48762886597938143,
          0.4693667157584684,
          0.5782523318605792,
          0.6132056946489934,
          0.19243986254295536,
          0.1830633284241531,
          0.16416298478154145,
          0.46470299459990183,
          0.47560137457044677,
          0.3122238586156111,
          0.2177221404025528,
          0.4729013254786451,
          0.47000490918016696,
          0.45139911634757,
          0.5043691703485518,
          0.5560628375061364,
          0.6600392734413352,
          0.7099656357388314,
          0.4789887088856161,
          0.3582719685812469,
          0.3099656357388316,
          0.46804123711340206,
          0.44486990672557686,
          0.4845360824742268,
          0.448944526264114,
          0.12488954344624448,
          0.4724104074619539,
          0.19106529209621997,
          0.4831124202258223,
          0.49921453117329406,
          0.5510554737358859,
          0.6209131075110454,
          0.5013254786450663,
          0.5536573392243495,
          0.5149239077074128,
          0.7443789887088859,
          0.46975945017182136,
          0.4463917525773197,
          0.40054000981836047,
          0.4799214531173294
         ],
         "xaxis": "x",
         "y": [
          0,
          1,
          2,
          3,
          4,
          5,
          6,
          7,
          8,
          9,
          10,
          11,
          12,
          13,
          14,
          15,
          16,
          17,
          18,
          19,
          20,
          21,
          22,
          23,
          24,
          25,
          26,
          27,
          28,
          29,
          30,
          31,
          32,
          33,
          34,
          35,
          36,
          37,
          38,
          39,
          40,
          41,
          42,
          43,
          44,
          45,
          46,
          47,
          48,
          49,
          50,
          51,
          53,
          54,
          55,
          57,
          58,
          59,
          60,
          61,
          62,
          63,
          64,
          65,
          66,
          67,
          68,
          70,
          71,
          73,
          74,
          76,
          77,
          78,
          79,
          80,
          81,
          83,
          84,
          85,
          86,
          87
         ],
         "yaxis": "y"
        },
        {
         "hovertemplate": "variable=Ty_lp1<br>value=%{x}<br>index=%{y}<extra></extra>",
         "legendgroup": "Ty_lp1",
         "marker": {
          "color": "orange",
          "symbol": "circle"
         },
         "mode": "markers",
         "name": "Ty_lp1",
         "orientation": "h",
         "showlegend": true,
         "type": "scatter",
         "x": [
          0.5175086875167069,
          0.5169740711039829,
          0.5164929163325314,
          0.5171879176690724,
          0.5157979149959904,
          0.5154236835070837,
          0.5152632985832665,
          0.515744453354718,
          0.5149959903769046,
          0.5175086875167069,
          0.5172948409516172,
          0.5164929163325315,
          0.5168136861801657,
          0.5161721464848971,
          0.5157444533547179,
          0.5146217588879978,
          0.5150494520181769,
          0.5154771451483561,
          0.5286287089013634,
          0.5368083400160385,
          0.5249933172948411,
          0.526650628174285,
          0.5227479283614007,
          0.4961774926490244,
          0.5005613472333601,
          0.528735632183908,
          0.5191125367548783,
          0.5238706228281208,
          0.5096498262496658,
          0.5179363806468859,
          0.5184709970596099,
          0.5155840684309009,
          0.5131782945736434,
          0.5546645282010159,
          0.5082063619353114,
          0.5687249398556536,
          0.4353381448810478,
          0.5190056134723336,
          0.5227479283614007,
          0.5293237102379044,
          0.5143009890403634,
          0.5048382785351511,
          0.5152632985832664,
          0.5172948409516172,
          0.5370756482224004,
          0.5479818230419673,
          0.44255546645282007,
          0.3966853782411121,
          0.39321037155840693,
          0.5136059877038225,
          0.4238438920074846,
          0.5666399358460306,
          0.4305800588078055,
          0.5317829457364341,
          0.5378241112002139,
          0.5967388398823843,
          0.5506014434643144,
          0.6392408446939322,
          0.6244854317027533,
          0.4533012563485699,
          0.5001336541031809,
          0.4285485164394547,
          0.3605453087409784,
          0.48912055600106924,
          0.4911520983694199,
          0.5121090617481958,
          0.4924886394012296,
          0.16327185244587009,
          0.5083132852178561,
          0.4845763164929162,
          0.5067628976209569,
          0.5176690724405238,
          0.6182838813151563,
          0.6845763164929164,
          0.5133921411387331,
          0.557872226677359,
          0.5165998396150762,
          0.597647687784015,
          0.5215183106121358,
          0.5751937984496124,
          0.8343758353381451,
          0.5000801924619086
         ],
         "xaxis": "x",
         "y": [
          0,
          1,
          2,
          3,
          4,
          5,
          6,
          7,
          8,
          9,
          10,
          11,
          12,
          13,
          14,
          15,
          16,
          17,
          18,
          19,
          20,
          21,
          22,
          23,
          24,
          25,
          26,
          27,
          28,
          29,
          30,
          31,
          32,
          33,
          34,
          35,
          36,
          37,
          38,
          39,
          40,
          41,
          42,
          43,
          44,
          45,
          46,
          47,
          48,
          49,
          50,
          51,
          53,
          54,
          55,
          57,
          58,
          59,
          60,
          61,
          62,
          63,
          64,
          65,
          66,
          67,
          68,
          70,
          71,
          73,
          74,
          76,
          77,
          78,
          79,
          80,
          81,
          83,
          84,
          85,
          86,
          87
         ],
         "yaxis": "y"
        },
        {
         "hovertemplate": "variable=Tz_lp1<br>value=%{x}<br>index=%{y}<extra></extra>",
         "legendgroup": "Tz_lp1",
         "marker": {
          "color": "yellow",
          "symbol": "circle"
         },
         "mode": "markers",
         "name": "Tz_lp1",
         "orientation": "h",
         "showlegend": true,
         "type": "scatter",
         "x": [
          0.5269230769230769,
          0.5258974358974359,
          0.5258974358974359,
          0.5256410256410257,
          0.5264102564102564,
          0.5261538461538461,
          0.5266666666666666,
          0.5269230769230769,
          0.5276923076923077,
          0.5269230769230769,
          0.5261538461538461,
          0.5258974358974359,
          0.5261538461538461,
          0.5251282051282051,
          0.5258974358974359,
          0.5256410256410257,
          0.528974358974359,
          0.5253846153846153,
          0.5284615384615384,
          0.5294871794871795,
          0.5474358974358975,
          0.518974358974359,
          0.5297435897435897,
          0.5074358974358975,
          0.5192307692307692,
          0.514102564102564,
          0.5279487179487179,
          0.5248717948717948,
          0.5251282051282051,
          0.5238461538461539,
          0.5256410256410257,
          0.5215384615384615,
          0.5302564102564102,
          0.48743589743589744,
          0.5251282051282051,
          0.5417948717948718,
          0.5328205128205128,
          0.5202564102564102,
          0.5225641025641026,
          0.5335897435897435,
          0.522051282051282,
          0.518974358974359,
          0.5258974358974359,
          0.521025641025641,
          0.545128205128205,
          0.535128205128205,
          0.5969230769230769,
          0.6507692307692309,
          0.6502564102564103,
          0.5282051282051282,
          0.5087179487179487,
          0.5502564102564101,
          0.47564102564102567,
          0.5282051282051282,
          0.5315384615384615,
          0.545128205128205,
          0.5487179487179487,
          0.5933333333333333,
          0.5248717948717948,
          0.27923076923076917,
          0.5338461538461539,
          0.5438461538461539,
          0.5958974358974359,
          0.5192307692307692,
          0.49717948717948723,
          0.5241025641025641,
          0.5299999999999999,
          0.7838461538461539,
          0.5271794871794871,
          0.29435897435897423,
          0.5407692307692308,
          0.5292307692307692,
          0.6110256410256409,
          0.6448717948717948,
          0.5253846153846153,
          0.5538461538461538,
          0.5192307692307693,
          0.46743589743589753,
          0.5135897435897436,
          0.5061538461538462,
          0.6487179487179487,
          0.5456410256410256
         ],
         "xaxis": "x",
         "y": [
          0,
          1,
          2,
          3,
          4,
          5,
          6,
          7,
          8,
          9,
          10,
          11,
          12,
          13,
          14,
          15,
          16,
          17,
          18,
          19,
          20,
          21,
          22,
          23,
          24,
          25,
          26,
          27,
          28,
          29,
          30,
          31,
          32,
          33,
          34,
          35,
          36,
          37,
          38,
          39,
          40,
          41,
          42,
          43,
          44,
          45,
          46,
          47,
          48,
          49,
          50,
          51,
          53,
          54,
          55,
          57,
          58,
          59,
          60,
          61,
          62,
          63,
          64,
          65,
          66,
          67,
          68,
          70,
          71,
          73,
          74,
          76,
          77,
          78,
          79,
          80,
          81,
          83,
          84,
          85,
          86,
          87
         ],
         "yaxis": "y"
        }
       ],
       "layout": {
        "legend": {
         "title": {
          "text": "variable"
         },
         "tracegroupgap": 0
        },
        "margin": {
         "t": 60
        },
        "template": {
         "data": {
          "bar": [
           {
            "error_x": {
             "color": "#2a3f5f"
            },
            "error_y": {
             "color": "#2a3f5f"
            },
            "marker": {
             "line": {
              "color": "#E5ECF6",
              "width": 0.5
             },
             "pattern": {
              "fillmode": "overlay",
              "size": 10,
              "solidity": 0.2
             }
            },
            "type": "bar"
           }
          ],
          "barpolar": [
           {
            "marker": {
             "line": {
              "color": "#E5ECF6",
              "width": 0.5
             },
             "pattern": {
              "fillmode": "overlay",
              "size": 10,
              "solidity": 0.2
             }
            },
            "type": "barpolar"
           }
          ],
          "carpet": [
           {
            "aaxis": {
             "endlinecolor": "#2a3f5f",
             "gridcolor": "white",
             "linecolor": "white",
             "minorgridcolor": "white",
             "startlinecolor": "#2a3f5f"
            },
            "baxis": {
             "endlinecolor": "#2a3f5f",
             "gridcolor": "white",
             "linecolor": "white",
             "minorgridcolor": "white",
             "startlinecolor": "#2a3f5f"
            },
            "type": "carpet"
           }
          ],
          "choropleth": [
           {
            "colorbar": {
             "outlinewidth": 0,
             "ticks": ""
            },
            "type": "choropleth"
           }
          ],
          "contour": [
           {
            "colorbar": {
             "outlinewidth": 0,
             "ticks": ""
            },
            "colorscale": [
             [
              0,
              "#0d0887"
             ],
             [
              0.1111111111111111,
              "#46039f"
             ],
             [
              0.2222222222222222,
              "#7201a8"
             ],
             [
              0.3333333333333333,
              "#9c179e"
             ],
             [
              0.4444444444444444,
              "#bd3786"
             ],
             [
              0.5555555555555556,
              "#d8576b"
             ],
             [
              0.6666666666666666,
              "#ed7953"
             ],
             [
              0.7777777777777778,
              "#fb9f3a"
             ],
             [
              0.8888888888888888,
              "#fdca26"
             ],
             [
              1,
              "#f0f921"
             ]
            ],
            "type": "contour"
           }
          ],
          "contourcarpet": [
           {
            "colorbar": {
             "outlinewidth": 0,
             "ticks": ""
            },
            "type": "contourcarpet"
           }
          ],
          "heatmap": [
           {
            "colorbar": {
             "outlinewidth": 0,
             "ticks": ""
            },
            "colorscale": [
             [
              0,
              "#0d0887"
             ],
             [
              0.1111111111111111,
              "#46039f"
             ],
             [
              0.2222222222222222,
              "#7201a8"
             ],
             [
              0.3333333333333333,
              "#9c179e"
             ],
             [
              0.4444444444444444,
              "#bd3786"
             ],
             [
              0.5555555555555556,
              "#d8576b"
             ],
             [
              0.6666666666666666,
              "#ed7953"
             ],
             [
              0.7777777777777778,
              "#fb9f3a"
             ],
             [
              0.8888888888888888,
              "#fdca26"
             ],
             [
              1,
              "#f0f921"
             ]
            ],
            "type": "heatmap"
           }
          ],
          "heatmapgl": [
           {
            "colorbar": {
             "outlinewidth": 0,
             "ticks": ""
            },
            "colorscale": [
             [
              0,
              "#0d0887"
             ],
             [
              0.1111111111111111,
              "#46039f"
             ],
             [
              0.2222222222222222,
              "#7201a8"
             ],
             [
              0.3333333333333333,
              "#9c179e"
             ],
             [
              0.4444444444444444,
              "#bd3786"
             ],
             [
              0.5555555555555556,
              "#d8576b"
             ],
             [
              0.6666666666666666,
              "#ed7953"
             ],
             [
              0.7777777777777778,
              "#fb9f3a"
             ],
             [
              0.8888888888888888,
              "#fdca26"
             ],
             [
              1,
              "#f0f921"
             ]
            ],
            "type": "heatmapgl"
           }
          ],
          "histogram": [
           {
            "marker": {
             "pattern": {
              "fillmode": "overlay",
              "size": 10,
              "solidity": 0.2
             }
            },
            "type": "histogram"
           }
          ],
          "histogram2d": [
           {
            "colorbar": {
             "outlinewidth": 0,
             "ticks": ""
            },
            "colorscale": [
             [
              0,
              "#0d0887"
             ],
             [
              0.1111111111111111,
              "#46039f"
             ],
             [
              0.2222222222222222,
              "#7201a8"
             ],
             [
              0.3333333333333333,
              "#9c179e"
             ],
             [
              0.4444444444444444,
              "#bd3786"
             ],
             [
              0.5555555555555556,
              "#d8576b"
             ],
             [
              0.6666666666666666,
              "#ed7953"
             ],
             [
              0.7777777777777778,
              "#fb9f3a"
             ],
             [
              0.8888888888888888,
              "#fdca26"
             ],
             [
              1,
              "#f0f921"
             ]
            ],
            "type": "histogram2d"
           }
          ],
          "histogram2dcontour": [
           {
            "colorbar": {
             "outlinewidth": 0,
             "ticks": ""
            },
            "colorscale": [
             [
              0,
              "#0d0887"
             ],
             [
              0.1111111111111111,
              "#46039f"
             ],
             [
              0.2222222222222222,
              "#7201a8"
             ],
             [
              0.3333333333333333,
              "#9c179e"
             ],
             [
              0.4444444444444444,
              "#bd3786"
             ],
             [
              0.5555555555555556,
              "#d8576b"
             ],
             [
              0.6666666666666666,
              "#ed7953"
             ],
             [
              0.7777777777777778,
              "#fb9f3a"
             ],
             [
              0.8888888888888888,
              "#fdca26"
             ],
             [
              1,
              "#f0f921"
             ]
            ],
            "type": "histogram2dcontour"
           }
          ],
          "mesh3d": [
           {
            "colorbar": {
             "outlinewidth": 0,
             "ticks": ""
            },
            "type": "mesh3d"
           }
          ],
          "parcoords": [
           {
            "line": {
             "colorbar": {
              "outlinewidth": 0,
              "ticks": ""
             }
            },
            "type": "parcoords"
           }
          ],
          "pie": [
           {
            "automargin": true,
            "type": "pie"
           }
          ],
          "scatter": [
           {
            "fillpattern": {
             "fillmode": "overlay",
             "size": 10,
             "solidity": 0.2
            },
            "type": "scatter"
           }
          ],
          "scatter3d": [
           {
            "line": {
             "colorbar": {
              "outlinewidth": 0,
              "ticks": ""
             }
            },
            "marker": {
             "colorbar": {
              "outlinewidth": 0,
              "ticks": ""
             }
            },
            "type": "scatter3d"
           }
          ],
          "scattercarpet": [
           {
            "marker": {
             "colorbar": {
              "outlinewidth": 0,
              "ticks": ""
             }
            },
            "type": "scattercarpet"
           }
          ],
          "scattergeo": [
           {
            "marker": {
             "colorbar": {
              "outlinewidth": 0,
              "ticks": ""
             }
            },
            "type": "scattergeo"
           }
          ],
          "scattergl": [
           {
            "marker": {
             "colorbar": {
              "outlinewidth": 0,
              "ticks": ""
             }
            },
            "type": "scattergl"
           }
          ],
          "scattermapbox": [
           {
            "marker": {
             "colorbar": {
              "outlinewidth": 0,
              "ticks": ""
             }
            },
            "type": "scattermapbox"
           }
          ],
          "scatterpolar": [
           {
            "marker": {
             "colorbar": {
              "outlinewidth": 0,
              "ticks": ""
             }
            },
            "type": "scatterpolar"
           }
          ],
          "scatterpolargl": [
           {
            "marker": {
             "colorbar": {
              "outlinewidth": 0,
              "ticks": ""
             }
            },
            "type": "scatterpolargl"
           }
          ],
          "scatterternary": [
           {
            "marker": {
             "colorbar": {
              "outlinewidth": 0,
              "ticks": ""
             }
            },
            "type": "scatterternary"
           }
          ],
          "surface": [
           {
            "colorbar": {
             "outlinewidth": 0,
             "ticks": ""
            },
            "colorscale": [
             [
              0,
              "#0d0887"
             ],
             [
              0.1111111111111111,
              "#46039f"
             ],
             [
              0.2222222222222222,
              "#7201a8"
             ],
             [
              0.3333333333333333,
              "#9c179e"
             ],
             [
              0.4444444444444444,
              "#bd3786"
             ],
             [
              0.5555555555555556,
              "#d8576b"
             ],
             [
              0.6666666666666666,
              "#ed7953"
             ],
             [
              0.7777777777777778,
              "#fb9f3a"
             ],
             [
              0.8888888888888888,
              "#fdca26"
             ],
             [
              1,
              "#f0f921"
             ]
            ],
            "type": "surface"
           }
          ],
          "table": [
           {
            "cells": {
             "fill": {
              "color": "#EBF0F8"
             },
             "line": {
              "color": "white"
             }
            },
            "header": {
             "fill": {
              "color": "#C8D4E3"
             },
             "line": {
              "color": "white"
             }
            },
            "type": "table"
           }
          ]
         },
         "layout": {
          "annotationdefaults": {
           "arrowcolor": "#2a3f5f",
           "arrowhead": 0,
           "arrowwidth": 1
          },
          "autotypenumbers": "strict",
          "coloraxis": {
           "colorbar": {
            "outlinewidth": 0,
            "ticks": ""
           }
          },
          "colorscale": {
           "diverging": [
            [
             0,
             "#8e0152"
            ],
            [
             0.1,
             "#c51b7d"
            ],
            [
             0.2,
             "#de77ae"
            ],
            [
             0.3,
             "#f1b6da"
            ],
            [
             0.4,
             "#fde0ef"
            ],
            [
             0.5,
             "#f7f7f7"
            ],
            [
             0.6,
             "#e6f5d0"
            ],
            [
             0.7,
             "#b8e186"
            ],
            [
             0.8,
             "#7fbc41"
            ],
            [
             0.9,
             "#4d9221"
            ],
            [
             1,
             "#276419"
            ]
           ],
           "sequential": [
            [
             0,
             "#0d0887"
            ],
            [
             0.1111111111111111,
             "#46039f"
            ],
            [
             0.2222222222222222,
             "#7201a8"
            ],
            [
             0.3333333333333333,
             "#9c179e"
            ],
            [
             0.4444444444444444,
             "#bd3786"
            ],
            [
             0.5555555555555556,
             "#d8576b"
            ],
            [
             0.6666666666666666,
             "#ed7953"
            ],
            [
             0.7777777777777778,
             "#fb9f3a"
            ],
            [
             0.8888888888888888,
             "#fdca26"
            ],
            [
             1,
             "#f0f921"
            ]
           ],
           "sequentialminus": [
            [
             0,
             "#0d0887"
            ],
            [
             0.1111111111111111,
             "#46039f"
            ],
            [
             0.2222222222222222,
             "#7201a8"
            ],
            [
             0.3333333333333333,
             "#9c179e"
            ],
            [
             0.4444444444444444,
             "#bd3786"
            ],
            [
             0.5555555555555556,
             "#d8576b"
            ],
            [
             0.6666666666666666,
             "#ed7953"
            ],
            [
             0.7777777777777778,
             "#fb9f3a"
            ],
            [
             0.8888888888888888,
             "#fdca26"
            ],
            [
             1,
             "#f0f921"
            ]
           ]
          },
          "colorway": [
           "#636efa",
           "#EF553B",
           "#00cc96",
           "#ab63fa",
           "#FFA15A",
           "#19d3f3",
           "#FF6692",
           "#B6E880",
           "#FF97FF",
           "#FECB52"
          ],
          "font": {
           "color": "#2a3f5f"
          },
          "geo": {
           "bgcolor": "white",
           "lakecolor": "white",
           "landcolor": "#E5ECF6",
           "showlakes": true,
           "showland": true,
           "subunitcolor": "white"
          },
          "hoverlabel": {
           "align": "left"
          },
          "hovermode": "closest",
          "mapbox": {
           "style": "light"
          },
          "paper_bgcolor": "white",
          "plot_bgcolor": "#E5ECF6",
          "polar": {
           "angularaxis": {
            "gridcolor": "white",
            "linecolor": "white",
            "ticks": ""
           },
           "bgcolor": "#E5ECF6",
           "radialaxis": {
            "gridcolor": "white",
            "linecolor": "white",
            "ticks": ""
           }
          },
          "scene": {
           "xaxis": {
            "backgroundcolor": "#E5ECF6",
            "gridcolor": "white",
            "gridwidth": 2,
            "linecolor": "white",
            "showbackground": true,
            "ticks": "",
            "zerolinecolor": "white"
           },
           "yaxis": {
            "backgroundcolor": "#E5ECF6",
            "gridcolor": "white",
            "gridwidth": 2,
            "linecolor": "white",
            "showbackground": true,
            "ticks": "",
            "zerolinecolor": "white"
           },
           "zaxis": {
            "backgroundcolor": "#E5ECF6",
            "gridcolor": "white",
            "gridwidth": 2,
            "linecolor": "white",
            "showbackground": true,
            "ticks": "",
            "zerolinecolor": "white"
           }
          },
          "shapedefaults": {
           "line": {
            "color": "#2a3f5f"
           }
          },
          "ternary": {
           "aaxis": {
            "gridcolor": "white",
            "linecolor": "white",
            "ticks": ""
           },
           "baxis": {
            "gridcolor": "white",
            "linecolor": "white",
            "ticks": ""
           },
           "bgcolor": "#E5ECF6",
           "caxis": {
            "gridcolor": "white",
            "linecolor": "white",
            "ticks": ""
           }
          },
          "title": {
           "x": 0.05
          },
          "xaxis": {
           "automargin": true,
           "gridcolor": "white",
           "linecolor": "white",
           "ticks": "",
           "title": {
            "standoff": 15
           },
           "zerolinecolor": "white",
           "zerolinewidth": 2
          },
          "yaxis": {
           "automargin": true,
           "gridcolor": "white",
           "linecolor": "white",
           "ticks": "",
           "title": {
            "standoff": 15
           },
           "zerolinecolor": "white",
           "zerolinewidth": 2
          }
         }
        },
        "xaxis": {
         "anchor": "y",
         "domain": [
          0,
          1
         ],
         "title": {
          "text": "value"
         }
        },
        "yaxis": {
         "anchor": "x",
         "domain": [
          0,
          1
         ],
         "title": {
          "text": "index"
         }
        }
       }
      }
     },
     "metadata": {},
     "output_type": "display_data"
    }
   ],
   "source": [
    "plty.scatter(X_lp1_df, x = [\"Fx_lp1\", \"Fy_lp1\", \"Fz_lp1\", \"Tx_lp1\", \"Ty_lp1\", \"Tz_lp1\"],   color_discrete_map= dic)"
   ]
  },
  {
   "cell_type": "code",
   "execution_count": 56,
   "metadata": {},
   "outputs": [
    {
     "data": {
      "application/vnd.plotly.v1+json": {
       "config": {
        "plotlyServerURL": "https://plot.ly"
       },
       "data": [
        {
         "hovertemplate": "value=%{x}<br>index=%{y}<br>Y_lp1=%{marker.color}<extra></extra>",
         "legendgroup": "",
         "marker": {
          "color": [
           0,
           0,
           0,
           0,
           0,
           0,
           0,
           0,
           0,
           0,
           0,
           0,
           0,
           0,
           0,
           0,
           0,
           0,
           1,
           1,
           1,
           1,
           1,
           1,
           1,
           1,
           1,
           1,
           1,
           1,
           1,
           1,
           1,
           1,
           1,
           3,
           3,
           3,
           3,
           3,
           0,
           3,
           0,
           3,
           3,
           3,
           3,
           3,
           3,
           3,
           3,
           3,
           3,
           2,
           2,
           3,
           2,
           3,
           3,
           3,
           2,
           3,
           3,
           3,
           3,
           0,
           2,
           3,
           2,
           3,
           2,
           2,
           3,
           3,
           2,
           3,
           2,
           3,
           2,
           3,
           3,
           2,
           0,
           0,
           0,
           0,
           0,
           0,
           0,
           0,
           0,
           0,
           0,
           0,
           0,
           0,
           0,
           0,
           0,
           0,
           1,
           1,
           1,
           1,
           1,
           1,
           1,
           1,
           1,
           1,
           1,
           1,
           1,
           1,
           1,
           1,
           1,
           3,
           3,
           3,
           3,
           3,
           0,
           3,
           0,
           3,
           3,
           3,
           3,
           3,
           3,
           3,
           3,
           3,
           3,
           2,
           2,
           3,
           2,
           3,
           3,
           3,
           2,
           3,
           3,
           3,
           3,
           0,
           2,
           3,
           2,
           3,
           2,
           2,
           3,
           3,
           2,
           3,
           2,
           3,
           2,
           3,
           3,
           2,
           0,
           0,
           0,
           0,
           0,
           0,
           0,
           0,
           0,
           0,
           0,
           0,
           0,
           0,
           0,
           0,
           0,
           0,
           1,
           1,
           1,
           1,
           1,
           1,
           1,
           1,
           1,
           1,
           1,
           1,
           1,
           1,
           1,
           1,
           1,
           3,
           3,
           3,
           3,
           3,
           0,
           3,
           0,
           3,
           3,
           3,
           3,
           3,
           3,
           3,
           3,
           3,
           3,
           2,
           2,
           3,
           2,
           3,
           3,
           3,
           2,
           3,
           3,
           3,
           3,
           0,
           2,
           3,
           2,
           3,
           2,
           2,
           3,
           3,
           2,
           3,
           2,
           3,
           2,
           3,
           3,
           2,
           0,
           0,
           0,
           0,
           0,
           0,
           0,
           0,
           0,
           0,
           0,
           0,
           0,
           0,
           0,
           0,
           0,
           0,
           1,
           1,
           1,
           1,
           1,
           1,
           1,
           1,
           1,
           1,
           1,
           1,
           1,
           1,
           1,
           1,
           1,
           3,
           3,
           3,
           3,
           3,
           0,
           3,
           0,
           3,
           3,
           3,
           3,
           3,
           3,
           3,
           3,
           3,
           3,
           2,
           2,
           3,
           2,
           3,
           3,
           3,
           2,
           3,
           3,
           3,
           3,
           0,
           2,
           3,
           2,
           3,
           2,
           2,
           3,
           3,
           2,
           3,
           2,
           3,
           2,
           3,
           3,
           2,
           0,
           0,
           0,
           0,
           0,
           0,
           0,
           0,
           0,
           0,
           0,
           0,
           0,
           0,
           0,
           0,
           0,
           0,
           1,
           1,
           1,
           1,
           1,
           1,
           1,
           1,
           1,
           1,
           1,
           1,
           1,
           1,
           1,
           1,
           1,
           3,
           3,
           3,
           3,
           3,
           0,
           3,
           0,
           3,
           3,
           3,
           3,
           3,
           3,
           3,
           3,
           3,
           3,
           2,
           2,
           3,
           2,
           3,
           3,
           3,
           2,
           3,
           3,
           3,
           3,
           0,
           2,
           3,
           2,
           3,
           2,
           2,
           3,
           3,
           2,
           3,
           2,
           3,
           2,
           3,
           3,
           2,
           0,
           0,
           0,
           0,
           0,
           0,
           0,
           0,
           0,
           0,
           0,
           0,
           0,
           0,
           0,
           0,
           0,
           0,
           1,
           1,
           1,
           1,
           1,
           1,
           1,
           1,
           1,
           1,
           1,
           1,
           1,
           1,
           1,
           1,
           1,
           3,
           3,
           3,
           3,
           3,
           0,
           3,
           0,
           3,
           3,
           3,
           3,
           3,
           3,
           3,
           3,
           3,
           3,
           2,
           2,
           3,
           2,
           3,
           3,
           3,
           2,
           3,
           3,
           3,
           3,
           0,
           2,
           3,
           2,
           3,
           2,
           2,
           3,
           3,
           2,
           3,
           2,
           3,
           2,
           3,
           3,
           2
          ],
          "coloraxis": "coloraxis",
          "symbol": "circle"
         },
         "mode": "markers",
         "name": "",
         "orientation": "h",
         "showlegend": false,
         "type": "scatter",
         "x": [
          0.43034330011074196,
          0.43045404208194904,
          0.4307862679955703,
          0.43122923588039874,
          0.43089700996677743,
          0.43023255813953487,
          0.4304540420819491,
          0.43078626799557035,
          0.43078626799557035,
          0.43034330011074196,
          0.43045404208194904,
          0.4312292358803987,
          0.43045404208194904,
          0.43133997785160577,
          0.43045404208194904,
          0.42978959025470653,
          0.430343300110742,
          0.43089700996677743,
          0.44285714285714284,
          0.44905869324473974,
          0.4129568106312292,
          0.44318936877076415,
          0.439313399778516,
          0.39446290143964563,
          0.41827242524916947,
          0.4249169435215947,
          0.4374307862679956,
          0.4287929125138427,
          0.4262458471760798,
          0.43588039867109635,
          0.43665559246954594,
          0.43023255813953487,
          0.4343300110741971,
          0.4510520487264673,
          0.42281284606866004,
          0.4129568106312292,
          0.44385382059800654,
          0.4302325581395348,
          0.43156146179401994,
          0.41107419712070875,
          0.43122923588039874,
          0.42469545957918053,
          0.43145071982281286,
          0.42325581395348844,
          0.4105204872646733,
          0.42281284606866004,
          0.4224806201550387,
          0.4060908084163898,
          0.4069767441860465,
          0.4190476190476191,
          0.44019933554817275,
          0.381063122923588,
          0.3941306755260243,
          0.44241417497231444,
          0.4480620155038759,
          0.5109634551495017,
          0.4411960132890365,
          0.43543743078626795,
          0.28648947951273535,
          0.019933554817275746,
          0.4262458471760796,
          0.432890365448505,
          0.46456256921373207,
          0.4348837209302326,
          0.4285714285714286,
          0.4287929125138427,
          0.41805094130675524,
          0.2647840531561461,
          0.4339977851605758,
          0.5197120708748615,
          0.43543743078626795,
          0.4251384274640088,
          0.42081949058693247,
          0.4282392026578074,
          0.4246954595791806,
          0.4281284606866002,
          0.4264673311184939,
          0.3130675526024363,
          0.44772978959025467,
          0.5383167220376522,
          0.9312292358803987,
          0.41605758582502766,
          0.5978494623655914,
          0.5981890209394454,
          0.5984153933220147,
          0.5995472552348614,
          0.5988681380871534,
          0.6027164685908318,
          0.5976230899830222,
          0.5995472552348614,
          0.6006791171477078,
          0.5977362761743069,
          0.5980758347481606,
          0.5979626485568761,
          0.5996604414261459,
          0.5977362761743067,
          0.6004527447651387,
          0.6011318619128467,
          0.5990945104697227,
          0.600679117147708,
          0.6045274476513866,
          0.6101867572156198,
          0.5942275042444823,
          0.5873231465761178,
          0.6044142614601019,
          0.6344086021505377,
          0.5906055461233729,
          0.596264855687606,
          0.5953593661573287,
          0.5977362761743067,
          0.6011318619128466,
          0.5856253537068477,
          0.5813242784380305,
          0.5968307866440293,
          0.6027164685908318,
          0.6046406338426712,
          0.6235427277872101,
          0.6501414827391058,
          0.5584606677985284,
          0.565704584040747,
          0.591624221844935,
          0.5870967741935483,
          0.6011318619128467,
          0.619468024900962,
          0.6001131861912846,
          0.6048670062252407,
          0.6494623655913979,
          0.6368986983588003,
          0.4750424448217318,
          0.4667798528579513,
          0.4613469156762875,
          0.6183361629881154,
          0.6058856819468024,
          0.5692133559705715,
          0.8123372948500283,
          0.6157328805885682,
          0.6200339558573854,
          0.6520656479909451,
          0.6089417091114883,
          0.6599886813808716,
          0.7809847198641766,
          0.9273344651952462,
          0.59490662139219,
          0.565365025466893,
          0.44640633842671196,
          0.6005659309564232,
          0.6002263723825693,
          0.6016977928692699,
          0.6184493491794001,
          0.6265987549518958,
          0.6043010752688172,
          0.6601018675721562,
          0.5864176570458405,
          0.6072439162422184,
          0.6971137521222412,
          0.7152235427277873,
          0.6032823995472552,
          0.6528579513299377,
          0.5902659875495189,
          0.6694963214487832,
          0.6157328805885681,
          0.6568194680249011,
          0.8395019807583477,
          0.6035087719298247,
          0.9445618153364633,
          0.9443270735524257,
          0.9437402190923319,
          0.9443661971830988,
          0.9434272300469483,
          0.9426838810641627,
          0.9423708920187794,
          0.942566510172144,
          0.9422926447574334,
          0.9448748043818468,
          0.9445618153364632,
          0.9439749608763695,
          0.9438967136150235,
          0.943153364632238,
          0.9442097026604069,
          0.9422143974960875,
          0.9419796557120501,
          0.9420187793427229,
          0.9442488262910799,
          0.9460093896713616,
          0.9465179968701096,
          0.9444835680751174,
          0.9434663536776213,
          0.9465962441314554,
          0.9424491392801252,
          0.942018779342723,
          0.9417449139280125,
          0.9470657276995305,
          0.9426056338028169,
          0.9414319248826291,
          0.938732394366197,
          0.9431142410015649,
          0.9440923317683882,
          0.9423708920187793,
          0.9446009389671362,
          0.8267605633802818,
          0.744092331768388,
          0.8240610328638497,
          0.8618935837245695,
          0.8188575899843505,
          0.9432707355242567,
          0.8478482003129889,
          0.9444053208137717,
          0.8412754303599373,
          0.7947574334898279,
          0.760602503912363,
          0.4944835680751174,
          0.5192879499217528,
          0.4960485133020344,
          0.8516823161189357,
          0.8280907668231611,
          0.6827856025039124,
          0.3908450704225352,
          0.9209702660406885,
          0.904186228482003,
          0.4735915492957747,
          0.9124804381846636,
          0.7584115805946792,
          0.43701095461658845,
          0.1593114241001565,
          0.9210485133020345,
          0.7253521126760564,
          0.5126369327073552,
          0.8464006259780908,
          0.6904147104851329,
          0.9399061032863848,
          0.9247261345852895,
          0.5162754303599375,
          0.9262128325508608,
          0.6998043818466354,
          0.9162363067292645,
          0.9188575899843507,
          0.7448748043818465,
          0.6482785602503913,
          0.9230046948356809,
          0.8152190923317683,
          0.9271909233176842,
          0.49037558685446003,
          0.9244131455399062,
          0.8211658841940532,
          0.35477308294209703,
          0.931338028169014,
          0.4927344133529701,
          0.49224349533627887,
          0.491899852724595,
          0.490279823269514,
          0.4896907216494846,
          0.4873834069710358,
          0.4895925380461463,
          0.4878252331860579,
          0.4865979381443299,
          0.4929798723613157,
          0.49243986254295535,
          0.49194894452626414,
          0.490279823269514,
          0.49072164948453606,
          0.48856161021109473,
          0.4877270495827197,
          0.48841433480608737,
          0.4864506627393225,
          0.4819342169857634,
          0.48276877761413844,
          0.48522336769759455,
          0.49896907216494846,
          0.4967108492881689,
          0.47643593519882177,
          0.4997545409916544,
          0.48880706921944034,
          0.49052528227785963,
          0.4824251350024546,
          0.48846342660775655,
          0.4969563082965145,
          0.49779086892488955,
          0.49106529209621996,
          0.49013254786450666,
          0.5211094747177222,
          0.47304860088365247,
          0.5289150711831124,
          0.3767795778105058,
          0.47378497790868923,
          0.48213058419243987,
          0.44177712322042223,
          0.4862052037309769,
          0.4747668139420717,
          0.48762886597938143,
          0.4693667157584684,
          0.5782523318605792,
          0.6132056946489934,
          0.19243986254295536,
          0.1830633284241531,
          0.16416298478154145,
          0.46470299459990183,
          0.47560137457044677,
          0.3122238586156111,
          0.2177221404025528,
          0.4729013254786451,
          0.47000490918016696,
          0.45139911634757,
          0.5043691703485518,
          0.5560628375061364,
          0.6600392734413352,
          0.7099656357388314,
          0.4789887088856161,
          0.3582719685812469,
          0.3099656357388316,
          0.46804123711340206,
          0.44486990672557686,
          0.4845360824742268,
          0.448944526264114,
          0.12488954344624448,
          0.4724104074619539,
          0.19106529209621997,
          0.4831124202258223,
          0.49921453117329406,
          0.5510554737358859,
          0.6209131075110454,
          0.5013254786450663,
          0.5536573392243495,
          0.5149239077074128,
          0.7443789887088859,
          0.46975945017182136,
          0.4463917525773197,
          0.40054000981836047,
          0.4799214531173294,
          0.5175086875167069,
          0.5169740711039829,
          0.5164929163325314,
          0.5171879176690724,
          0.5157979149959904,
          0.5154236835070837,
          0.5152632985832665,
          0.515744453354718,
          0.5149959903769046,
          0.5175086875167069,
          0.5172948409516172,
          0.5164929163325315,
          0.5168136861801657,
          0.5161721464848971,
          0.5157444533547179,
          0.5146217588879978,
          0.5150494520181769,
          0.5154771451483561,
          0.5286287089013634,
          0.5368083400160385,
          0.5249933172948411,
          0.526650628174285,
          0.5227479283614007,
          0.4961774926490244,
          0.5005613472333601,
          0.528735632183908,
          0.5191125367548783,
          0.5238706228281208,
          0.5096498262496658,
          0.5179363806468859,
          0.5184709970596099,
          0.5155840684309009,
          0.5131782945736434,
          0.5546645282010159,
          0.5082063619353114,
          0.5687249398556536,
          0.4353381448810478,
          0.5190056134723336,
          0.5227479283614007,
          0.5293237102379044,
          0.5143009890403634,
          0.5048382785351511,
          0.5152632985832664,
          0.5172948409516172,
          0.5370756482224004,
          0.5479818230419673,
          0.44255546645282007,
          0.3966853782411121,
          0.39321037155840693,
          0.5136059877038225,
          0.4238438920074846,
          0.5666399358460306,
          0.4305800588078055,
          0.5317829457364341,
          0.5378241112002139,
          0.5967388398823843,
          0.5506014434643144,
          0.6392408446939322,
          0.6244854317027533,
          0.4533012563485699,
          0.5001336541031809,
          0.4285485164394547,
          0.3605453087409784,
          0.48912055600106924,
          0.4911520983694199,
          0.5121090617481958,
          0.4924886394012296,
          0.16327185244587009,
          0.5083132852178561,
          0.4845763164929162,
          0.5067628976209569,
          0.5176690724405238,
          0.6182838813151563,
          0.6845763164929164,
          0.5133921411387331,
          0.557872226677359,
          0.5165998396150762,
          0.597647687784015,
          0.5215183106121358,
          0.5751937984496124,
          0.8343758353381451,
          0.5000801924619086,
          0.5269230769230769,
          0.5258974358974359,
          0.5258974358974359,
          0.5256410256410257,
          0.5264102564102564,
          0.5261538461538461,
          0.5266666666666666,
          0.5269230769230769,
          0.5276923076923077,
          0.5269230769230769,
          0.5261538461538461,
          0.5258974358974359,
          0.5261538461538461,
          0.5251282051282051,
          0.5258974358974359,
          0.5256410256410257,
          0.528974358974359,
          0.5253846153846153,
          0.5284615384615384,
          0.5294871794871795,
          0.5474358974358975,
          0.518974358974359,
          0.5297435897435897,
          0.5074358974358975,
          0.5192307692307692,
          0.514102564102564,
          0.5279487179487179,
          0.5248717948717948,
          0.5251282051282051,
          0.5238461538461539,
          0.5256410256410257,
          0.5215384615384615,
          0.5302564102564102,
          0.48743589743589744,
          0.5251282051282051,
          0.5417948717948718,
          0.5328205128205128,
          0.5202564102564102,
          0.5225641025641026,
          0.5335897435897435,
          0.522051282051282,
          0.518974358974359,
          0.5258974358974359,
          0.521025641025641,
          0.545128205128205,
          0.535128205128205,
          0.5969230769230769,
          0.6507692307692309,
          0.6502564102564103,
          0.5282051282051282,
          0.5087179487179487,
          0.5502564102564101,
          0.47564102564102567,
          0.5282051282051282,
          0.5315384615384615,
          0.545128205128205,
          0.5487179487179487,
          0.5933333333333333,
          0.5248717948717948,
          0.27923076923076917,
          0.5338461538461539,
          0.5438461538461539,
          0.5958974358974359,
          0.5192307692307692,
          0.49717948717948723,
          0.5241025641025641,
          0.5299999999999999,
          0.7838461538461539,
          0.5271794871794871,
          0.29435897435897423,
          0.5407692307692308,
          0.5292307692307692,
          0.6110256410256409,
          0.6448717948717948,
          0.5253846153846153,
          0.5538461538461538,
          0.5192307692307693,
          0.46743589743589753,
          0.5135897435897436,
          0.5061538461538462,
          0.6487179487179487,
          0.5456410256410256
         ],
         "xaxis": "x",
         "y": [
          0,
          1,
          2,
          3,
          4,
          5,
          6,
          7,
          8,
          9,
          10,
          11,
          12,
          13,
          14,
          15,
          16,
          17,
          18,
          19,
          20,
          21,
          22,
          23,
          24,
          25,
          26,
          27,
          28,
          29,
          30,
          31,
          32,
          33,
          34,
          35,
          36,
          37,
          38,
          39,
          40,
          41,
          42,
          43,
          44,
          45,
          46,
          47,
          48,
          49,
          50,
          51,
          53,
          54,
          55,
          57,
          58,
          59,
          60,
          61,
          62,
          63,
          64,
          65,
          66,
          67,
          68,
          70,
          71,
          73,
          74,
          76,
          77,
          78,
          79,
          80,
          81,
          83,
          84,
          85,
          86,
          87,
          0,
          1,
          2,
          3,
          4,
          5,
          6,
          7,
          8,
          9,
          10,
          11,
          12,
          13,
          14,
          15,
          16,
          17,
          18,
          19,
          20,
          21,
          22,
          23,
          24,
          25,
          26,
          27,
          28,
          29,
          30,
          31,
          32,
          33,
          34,
          35,
          36,
          37,
          38,
          39,
          40,
          41,
          42,
          43,
          44,
          45,
          46,
          47,
          48,
          49,
          50,
          51,
          53,
          54,
          55,
          57,
          58,
          59,
          60,
          61,
          62,
          63,
          64,
          65,
          66,
          67,
          68,
          70,
          71,
          73,
          74,
          76,
          77,
          78,
          79,
          80,
          81,
          83,
          84,
          85,
          86,
          87,
          0,
          1,
          2,
          3,
          4,
          5,
          6,
          7,
          8,
          9,
          10,
          11,
          12,
          13,
          14,
          15,
          16,
          17,
          18,
          19,
          20,
          21,
          22,
          23,
          24,
          25,
          26,
          27,
          28,
          29,
          30,
          31,
          32,
          33,
          34,
          35,
          36,
          37,
          38,
          39,
          40,
          41,
          42,
          43,
          44,
          45,
          46,
          47,
          48,
          49,
          50,
          51,
          53,
          54,
          55,
          57,
          58,
          59,
          60,
          61,
          62,
          63,
          64,
          65,
          66,
          67,
          68,
          70,
          71,
          73,
          74,
          76,
          77,
          78,
          79,
          80,
          81,
          83,
          84,
          85,
          86,
          87,
          0,
          1,
          2,
          3,
          4,
          5,
          6,
          7,
          8,
          9,
          10,
          11,
          12,
          13,
          14,
          15,
          16,
          17,
          18,
          19,
          20,
          21,
          22,
          23,
          24,
          25,
          26,
          27,
          28,
          29,
          30,
          31,
          32,
          33,
          34,
          35,
          36,
          37,
          38,
          39,
          40,
          41,
          42,
          43,
          44,
          45,
          46,
          47,
          48,
          49,
          50,
          51,
          53,
          54,
          55,
          57,
          58,
          59,
          60,
          61,
          62,
          63,
          64,
          65,
          66,
          67,
          68,
          70,
          71,
          73,
          74,
          76,
          77,
          78,
          79,
          80,
          81,
          83,
          84,
          85,
          86,
          87,
          0,
          1,
          2,
          3,
          4,
          5,
          6,
          7,
          8,
          9,
          10,
          11,
          12,
          13,
          14,
          15,
          16,
          17,
          18,
          19,
          20,
          21,
          22,
          23,
          24,
          25,
          26,
          27,
          28,
          29,
          30,
          31,
          32,
          33,
          34,
          35,
          36,
          37,
          38,
          39,
          40,
          41,
          42,
          43,
          44,
          45,
          46,
          47,
          48,
          49,
          50,
          51,
          53,
          54,
          55,
          57,
          58,
          59,
          60,
          61,
          62,
          63,
          64,
          65,
          66,
          67,
          68,
          70,
          71,
          73,
          74,
          76,
          77,
          78,
          79,
          80,
          81,
          83,
          84,
          85,
          86,
          87,
          0,
          1,
          2,
          3,
          4,
          5,
          6,
          7,
          8,
          9,
          10,
          11,
          12,
          13,
          14,
          15,
          16,
          17,
          18,
          19,
          20,
          21,
          22,
          23,
          24,
          25,
          26,
          27,
          28,
          29,
          30,
          31,
          32,
          33,
          34,
          35,
          36,
          37,
          38,
          39,
          40,
          41,
          42,
          43,
          44,
          45,
          46,
          47,
          48,
          49,
          50,
          51,
          53,
          54,
          55,
          57,
          58,
          59,
          60,
          61,
          62,
          63,
          64,
          65,
          66,
          67,
          68,
          70,
          71,
          73,
          74,
          76,
          77,
          78,
          79,
          80,
          81,
          83,
          84,
          85,
          86,
          87
         ],
         "yaxis": "y"
        }
       ],
       "layout": {
        "coloraxis": {
         "colorbar": {
          "title": {
           "text": "Y_lp1"
          }
         },
         "colorscale": [
          [
           0,
           "#0d0887"
          ],
          [
           0.1111111111111111,
           "#46039f"
          ],
          [
           0.2222222222222222,
           "#7201a8"
          ],
          [
           0.3333333333333333,
           "#9c179e"
          ],
          [
           0.4444444444444444,
           "#bd3786"
          ],
          [
           0.5555555555555556,
           "#d8576b"
          ],
          [
           0.6666666666666666,
           "#ed7953"
          ],
          [
           0.7777777777777778,
           "#fb9f3a"
          ],
          [
           0.8888888888888888,
           "#fdca26"
          ],
          [
           1,
           "#f0f921"
          ]
         ]
        },
        "legend": {
         "tracegroupgap": 0
        },
        "margin": {
         "t": 60
        },
        "template": {
         "data": {
          "bar": [
           {
            "error_x": {
             "color": "#2a3f5f"
            },
            "error_y": {
             "color": "#2a3f5f"
            },
            "marker": {
             "line": {
              "color": "#E5ECF6",
              "width": 0.5
             },
             "pattern": {
              "fillmode": "overlay",
              "size": 10,
              "solidity": 0.2
             }
            },
            "type": "bar"
           }
          ],
          "barpolar": [
           {
            "marker": {
             "line": {
              "color": "#E5ECF6",
              "width": 0.5
             },
             "pattern": {
              "fillmode": "overlay",
              "size": 10,
              "solidity": 0.2
             }
            },
            "type": "barpolar"
           }
          ],
          "carpet": [
           {
            "aaxis": {
             "endlinecolor": "#2a3f5f",
             "gridcolor": "white",
             "linecolor": "white",
             "minorgridcolor": "white",
             "startlinecolor": "#2a3f5f"
            },
            "baxis": {
             "endlinecolor": "#2a3f5f",
             "gridcolor": "white",
             "linecolor": "white",
             "minorgridcolor": "white",
             "startlinecolor": "#2a3f5f"
            },
            "type": "carpet"
           }
          ],
          "choropleth": [
           {
            "colorbar": {
             "outlinewidth": 0,
             "ticks": ""
            },
            "type": "choropleth"
           }
          ],
          "contour": [
           {
            "colorbar": {
             "outlinewidth": 0,
             "ticks": ""
            },
            "colorscale": [
             [
              0,
              "#0d0887"
             ],
             [
              0.1111111111111111,
              "#46039f"
             ],
             [
              0.2222222222222222,
              "#7201a8"
             ],
             [
              0.3333333333333333,
              "#9c179e"
             ],
             [
              0.4444444444444444,
              "#bd3786"
             ],
             [
              0.5555555555555556,
              "#d8576b"
             ],
             [
              0.6666666666666666,
              "#ed7953"
             ],
             [
              0.7777777777777778,
              "#fb9f3a"
             ],
             [
              0.8888888888888888,
              "#fdca26"
             ],
             [
              1,
              "#f0f921"
             ]
            ],
            "type": "contour"
           }
          ],
          "contourcarpet": [
           {
            "colorbar": {
             "outlinewidth": 0,
             "ticks": ""
            },
            "type": "contourcarpet"
           }
          ],
          "heatmap": [
           {
            "colorbar": {
             "outlinewidth": 0,
             "ticks": ""
            },
            "colorscale": [
             [
              0,
              "#0d0887"
             ],
             [
              0.1111111111111111,
              "#46039f"
             ],
             [
              0.2222222222222222,
              "#7201a8"
             ],
             [
              0.3333333333333333,
              "#9c179e"
             ],
             [
              0.4444444444444444,
              "#bd3786"
             ],
             [
              0.5555555555555556,
              "#d8576b"
             ],
             [
              0.6666666666666666,
              "#ed7953"
             ],
             [
              0.7777777777777778,
              "#fb9f3a"
             ],
             [
              0.8888888888888888,
              "#fdca26"
             ],
             [
              1,
              "#f0f921"
             ]
            ],
            "type": "heatmap"
           }
          ],
          "heatmapgl": [
           {
            "colorbar": {
             "outlinewidth": 0,
             "ticks": ""
            },
            "colorscale": [
             [
              0,
              "#0d0887"
             ],
             [
              0.1111111111111111,
              "#46039f"
             ],
             [
              0.2222222222222222,
              "#7201a8"
             ],
             [
              0.3333333333333333,
              "#9c179e"
             ],
             [
              0.4444444444444444,
              "#bd3786"
             ],
             [
              0.5555555555555556,
              "#d8576b"
             ],
             [
              0.6666666666666666,
              "#ed7953"
             ],
             [
              0.7777777777777778,
              "#fb9f3a"
             ],
             [
              0.8888888888888888,
              "#fdca26"
             ],
             [
              1,
              "#f0f921"
             ]
            ],
            "type": "heatmapgl"
           }
          ],
          "histogram": [
           {
            "marker": {
             "pattern": {
              "fillmode": "overlay",
              "size": 10,
              "solidity": 0.2
             }
            },
            "type": "histogram"
           }
          ],
          "histogram2d": [
           {
            "colorbar": {
             "outlinewidth": 0,
             "ticks": ""
            },
            "colorscale": [
             [
              0,
              "#0d0887"
             ],
             [
              0.1111111111111111,
              "#46039f"
             ],
             [
              0.2222222222222222,
              "#7201a8"
             ],
             [
              0.3333333333333333,
              "#9c179e"
             ],
             [
              0.4444444444444444,
              "#bd3786"
             ],
             [
              0.5555555555555556,
              "#d8576b"
             ],
             [
              0.6666666666666666,
              "#ed7953"
             ],
             [
              0.7777777777777778,
              "#fb9f3a"
             ],
             [
              0.8888888888888888,
              "#fdca26"
             ],
             [
              1,
              "#f0f921"
             ]
            ],
            "type": "histogram2d"
           }
          ],
          "histogram2dcontour": [
           {
            "colorbar": {
             "outlinewidth": 0,
             "ticks": ""
            },
            "colorscale": [
             [
              0,
              "#0d0887"
             ],
             [
              0.1111111111111111,
              "#46039f"
             ],
             [
              0.2222222222222222,
              "#7201a8"
             ],
             [
              0.3333333333333333,
              "#9c179e"
             ],
             [
              0.4444444444444444,
              "#bd3786"
             ],
             [
              0.5555555555555556,
              "#d8576b"
             ],
             [
              0.6666666666666666,
              "#ed7953"
             ],
             [
              0.7777777777777778,
              "#fb9f3a"
             ],
             [
              0.8888888888888888,
              "#fdca26"
             ],
             [
              1,
              "#f0f921"
             ]
            ],
            "type": "histogram2dcontour"
           }
          ],
          "mesh3d": [
           {
            "colorbar": {
             "outlinewidth": 0,
             "ticks": ""
            },
            "type": "mesh3d"
           }
          ],
          "parcoords": [
           {
            "line": {
             "colorbar": {
              "outlinewidth": 0,
              "ticks": ""
             }
            },
            "type": "parcoords"
           }
          ],
          "pie": [
           {
            "automargin": true,
            "type": "pie"
           }
          ],
          "scatter": [
           {
            "fillpattern": {
             "fillmode": "overlay",
             "size": 10,
             "solidity": 0.2
            },
            "type": "scatter"
           }
          ],
          "scatter3d": [
           {
            "line": {
             "colorbar": {
              "outlinewidth": 0,
              "ticks": ""
             }
            },
            "marker": {
             "colorbar": {
              "outlinewidth": 0,
              "ticks": ""
             }
            },
            "type": "scatter3d"
           }
          ],
          "scattercarpet": [
           {
            "marker": {
             "colorbar": {
              "outlinewidth": 0,
              "ticks": ""
             }
            },
            "type": "scattercarpet"
           }
          ],
          "scattergeo": [
           {
            "marker": {
             "colorbar": {
              "outlinewidth": 0,
              "ticks": ""
             }
            },
            "type": "scattergeo"
           }
          ],
          "scattergl": [
           {
            "marker": {
             "colorbar": {
              "outlinewidth": 0,
              "ticks": ""
             }
            },
            "type": "scattergl"
           }
          ],
          "scattermapbox": [
           {
            "marker": {
             "colorbar": {
              "outlinewidth": 0,
              "ticks": ""
             }
            },
            "type": "scattermapbox"
           }
          ],
          "scatterpolar": [
           {
            "marker": {
             "colorbar": {
              "outlinewidth": 0,
              "ticks": ""
             }
            },
            "type": "scatterpolar"
           }
          ],
          "scatterpolargl": [
           {
            "marker": {
             "colorbar": {
              "outlinewidth": 0,
              "ticks": ""
             }
            },
            "type": "scatterpolargl"
           }
          ],
          "scatterternary": [
           {
            "marker": {
             "colorbar": {
              "outlinewidth": 0,
              "ticks": ""
             }
            },
            "type": "scatterternary"
           }
          ],
          "surface": [
           {
            "colorbar": {
             "outlinewidth": 0,
             "ticks": ""
            },
            "colorscale": [
             [
              0,
              "#0d0887"
             ],
             [
              0.1111111111111111,
              "#46039f"
             ],
             [
              0.2222222222222222,
              "#7201a8"
             ],
             [
              0.3333333333333333,
              "#9c179e"
             ],
             [
              0.4444444444444444,
              "#bd3786"
             ],
             [
              0.5555555555555556,
              "#d8576b"
             ],
             [
              0.6666666666666666,
              "#ed7953"
             ],
             [
              0.7777777777777778,
              "#fb9f3a"
             ],
             [
              0.8888888888888888,
              "#fdca26"
             ],
             [
              1,
              "#f0f921"
             ]
            ],
            "type": "surface"
           }
          ],
          "table": [
           {
            "cells": {
             "fill": {
              "color": "#EBF0F8"
             },
             "line": {
              "color": "white"
             }
            },
            "header": {
             "fill": {
              "color": "#C8D4E3"
             },
             "line": {
              "color": "white"
             }
            },
            "type": "table"
           }
          ]
         },
         "layout": {
          "annotationdefaults": {
           "arrowcolor": "#2a3f5f",
           "arrowhead": 0,
           "arrowwidth": 1
          },
          "autotypenumbers": "strict",
          "coloraxis": {
           "colorbar": {
            "outlinewidth": 0,
            "ticks": ""
           }
          },
          "colorscale": {
           "diverging": [
            [
             0,
             "#8e0152"
            ],
            [
             0.1,
             "#c51b7d"
            ],
            [
             0.2,
             "#de77ae"
            ],
            [
             0.3,
             "#f1b6da"
            ],
            [
             0.4,
             "#fde0ef"
            ],
            [
             0.5,
             "#f7f7f7"
            ],
            [
             0.6,
             "#e6f5d0"
            ],
            [
             0.7,
             "#b8e186"
            ],
            [
             0.8,
             "#7fbc41"
            ],
            [
             0.9,
             "#4d9221"
            ],
            [
             1,
             "#276419"
            ]
           ],
           "sequential": [
            [
             0,
             "#0d0887"
            ],
            [
             0.1111111111111111,
             "#46039f"
            ],
            [
             0.2222222222222222,
             "#7201a8"
            ],
            [
             0.3333333333333333,
             "#9c179e"
            ],
            [
             0.4444444444444444,
             "#bd3786"
            ],
            [
             0.5555555555555556,
             "#d8576b"
            ],
            [
             0.6666666666666666,
             "#ed7953"
            ],
            [
             0.7777777777777778,
             "#fb9f3a"
            ],
            [
             0.8888888888888888,
             "#fdca26"
            ],
            [
             1,
             "#f0f921"
            ]
           ],
           "sequentialminus": [
            [
             0,
             "#0d0887"
            ],
            [
             0.1111111111111111,
             "#46039f"
            ],
            [
             0.2222222222222222,
             "#7201a8"
            ],
            [
             0.3333333333333333,
             "#9c179e"
            ],
            [
             0.4444444444444444,
             "#bd3786"
            ],
            [
             0.5555555555555556,
             "#d8576b"
            ],
            [
             0.6666666666666666,
             "#ed7953"
            ],
            [
             0.7777777777777778,
             "#fb9f3a"
            ],
            [
             0.8888888888888888,
             "#fdca26"
            ],
            [
             1,
             "#f0f921"
            ]
           ]
          },
          "colorway": [
           "#636efa",
           "#EF553B",
           "#00cc96",
           "#ab63fa",
           "#FFA15A",
           "#19d3f3",
           "#FF6692",
           "#B6E880",
           "#FF97FF",
           "#FECB52"
          ],
          "font": {
           "color": "#2a3f5f"
          },
          "geo": {
           "bgcolor": "white",
           "lakecolor": "white",
           "landcolor": "#E5ECF6",
           "showlakes": true,
           "showland": true,
           "subunitcolor": "white"
          },
          "hoverlabel": {
           "align": "left"
          },
          "hovermode": "closest",
          "mapbox": {
           "style": "light"
          },
          "paper_bgcolor": "white",
          "plot_bgcolor": "#E5ECF6",
          "polar": {
           "angularaxis": {
            "gridcolor": "white",
            "linecolor": "white",
            "ticks": ""
           },
           "bgcolor": "#E5ECF6",
           "radialaxis": {
            "gridcolor": "white",
            "linecolor": "white",
            "ticks": ""
           }
          },
          "scene": {
           "xaxis": {
            "backgroundcolor": "#E5ECF6",
            "gridcolor": "white",
            "gridwidth": 2,
            "linecolor": "white",
            "showbackground": true,
            "ticks": "",
            "zerolinecolor": "white"
           },
           "yaxis": {
            "backgroundcolor": "#E5ECF6",
            "gridcolor": "white",
            "gridwidth": 2,
            "linecolor": "white",
            "showbackground": true,
            "ticks": "",
            "zerolinecolor": "white"
           },
           "zaxis": {
            "backgroundcolor": "#E5ECF6",
            "gridcolor": "white",
            "gridwidth": 2,
            "linecolor": "white",
            "showbackground": true,
            "ticks": "",
            "zerolinecolor": "white"
           }
          },
          "shapedefaults": {
           "line": {
            "color": "#2a3f5f"
           }
          },
          "ternary": {
           "aaxis": {
            "gridcolor": "white",
            "linecolor": "white",
            "ticks": ""
           },
           "baxis": {
            "gridcolor": "white",
            "linecolor": "white",
            "ticks": ""
           },
           "bgcolor": "#E5ECF6",
           "caxis": {
            "gridcolor": "white",
            "linecolor": "white",
            "ticks": ""
           }
          },
          "title": {
           "x": 0.05
          },
          "xaxis": {
           "automargin": true,
           "gridcolor": "white",
           "linecolor": "white",
           "ticks": "",
           "title": {
            "standoff": 15
           },
           "zerolinecolor": "white",
           "zerolinewidth": 2
          },
          "yaxis": {
           "automargin": true,
           "gridcolor": "white",
           "linecolor": "white",
           "ticks": "",
           "title": {
            "standoff": 15
           },
           "zerolinecolor": "white",
           "zerolinewidth": 2
          }
         }
        },
        "xaxis": {
         "anchor": "y",
         "domain": [
          0,
          1
         ],
         "title": {
          "text": "value"
         }
        },
        "yaxis": {
         "anchor": "x",
         "domain": [
          0,
          1
         ],
         "title": {
          "text": "index"
         }
        }
       }
      }
     },
     "metadata": {},
     "output_type": "display_data"
    }
   ],
   "source": [
    "plty.scatter(X_lp1_df, x = [\"Fx_lp1\", \"Fy_lp1\", \"Fz_lp1\", \"Tx_lp1\", \"Ty_lp1\", \"Tz_lp1\"],   color= \"Y_lp1\")"
   ]
  },
  {
   "attachments": {},
   "cell_type": "markdown",
   "metadata": {},
   "source": [
    "Boxplot"
   ]
  },
  {
   "cell_type": "code",
   "execution_count": 57,
   "metadata": {},
   "outputs": [
    {
     "data": {
      "application/vnd.plotly.v1+json": {
       "config": {
        "plotlyServerURL": "https://plot.ly"
       },
       "data": [
        {
         "alignmentgroup": "True",
         "hovertemplate": "value=%{x}<br>variable=%{y}<extra></extra>",
         "legendgroup": "",
         "marker": {
          "color": "#636efa"
         },
         "name": "",
         "notched": false,
         "offsetgroup": "",
         "orientation": "h",
         "showlegend": false,
         "type": "box",
         "x": [
          0.03867312700162908,
          0.03844034619065928,
          0.037775335455615774,
          0.03847425294639,
          0.037434513125688795,
          0.03663751017388107,
          0.03626411344859795,
          0.036480663194161315,
          0.03619043704538257,
          0.039018761937604916,
          0.0387081892630838,
          0.038051632800652914,
          0.03798982919462068,
          0.0371342104263331,
          0.038307098960866925,
          0.03609870576905973,
          0.03583207633341307,
          0.035882061587460753,
          0.04130033695171199,
          0.04577619685458328,
          0.044632902883954745,
          0.042182141487560616,
          0.04100664094576379,
          0.050790013453260945,
          0.03842593641483479,
          0.04152662795612535,
          0.036215542559796726,
          0.04187250585392019,
          0.03704743494531327,
          0.03603793341393442,
          0.03357706494993641,
          0.0373070315960462,
          0.03873467383252879,
          0.042951827431873896,
          0.04362294981087151,
          0.09781737980086871,
          0.18049040005374414,
          0.1548921435661978,
          0.10861688036769654,
          0.13758923685646277,
          0.03725641709092154,
          0.12834718686151758,
          0.03850045297300399,
          0.13480466729006493,
          0.13480613592546417,
          0.16357375266222446,
          0.288,
          0.288,
          0.288,
          0.1213119127207649,
          0.14228958793434082,
          0.24827298124782674,
          0.288,
          0.015251112162247718,
          0.013600440873532226,
          0.288,
          0.027948128142239365,
          0.16523024963288585,
          0.288,
          0.288,
          0.018712685945544635,
          0.2004914840589493,
          0.288,
          0.12644810562355768,
          0.2507334644089795,
          0.03357417762908778,
          0.019518240550562626,
          0.288,
          0.018616852514549927,
          0.2314785483163214,
          0.011840086652219233,
          0.012619735402715876,
          0.18210288294805294,
          0.28801091875147067,
          0.015627601239829883,
          0.10446799622856741,
          0.02077920980142377,
          0.288,
          0.02007008402700741,
          0.10563297198232569,
          0.288,
          0.025075060506309,
          0.003362765240513473,
          0.005065510366877702,
          0.005780516908661385,
          0.007835205847710705,
          0.008816143582388367,
          0.012179935745167458,
          0.009067762888939788,
          0.011521692064998161,
          0.01346178284769541,
          0.003036139645202481,
          0.005170090540768143,
          0.005834027784614517,
          0.008095235682955918,
          0.007365916956019263,
          0.010343979598373377,
          0.01199598149436015,
          0.01084060123896011,
          0.013573928486436435,
          0.03776281483297747,
          0.041482443281408786,
          0.044216199307780465,
          0.045148422172865105,
          0.02994335318007229,
          0.050393040720561125,
          0.030903543327998172,
          0.027595307065012734,
          0.015459742240936812,
          0.03330750818303788,
          0.021156016428576497,
          0.011157322007238762,
          0.011593678103998058,
          0.011628144390836207,
          0.02696313690250167,
          0.09578807354584874,
          0.040779927008309534,
          0.10331081849990612,
          0.22445226387106354,
          0.05262785636070339,
          0.028788412727449746,
          0.08526966955831343,
          0.014419479570698973,
          0.03746329757419314,
          0.01195589684683253,
          0.04535084003556804,
          0.137247129881357,
          0.1925373158382392,
          0.311,
          0.311,
          0.311,
          0.04736802372394576,
          0.13773996404068303,
          0.2968721836276215,
          0.311,
          0.038875085692599724,
          0.04725399395569767,
          0.13390678813107573,
          0.05108918541223839,
          0.195657200908697,
          0.3119228032998492,
          0.311,
          0.03543099107825349,
          0.24733905693307115,
          0.311,
          0.06398511578485466,
          0.08649073566490659,
          0.017953132220236832,
          0.07891046354482996,
          0.311,
          0.03758798805880399,
          0.311,
          0.025247063719855502,
          0.009326845849002266,
          0.1687595914067785,
          0.3052103241763049,
          0.013198857073570625,
          0.10749107034778507,
          0.03184823642277336,
          0.311,
          0.03907509891666794,
          0.11332771050655319,
          0.311,
          0.03454187336184385
         ],
         "x0": " ",
         "xaxis": "x",
         "y": [
          "F_lp1",
          "F_lp1",
          "F_lp1",
          "F_lp1",
          "F_lp1",
          "F_lp1",
          "F_lp1",
          "F_lp1",
          "F_lp1",
          "F_lp1",
          "F_lp1",
          "F_lp1",
          "F_lp1",
          "F_lp1",
          "F_lp1",
          "F_lp1",
          "F_lp1",
          "F_lp1",
          "F_lp1",
          "F_lp1",
          "F_lp1",
          "F_lp1",
          "F_lp1",
          "F_lp1",
          "F_lp1",
          "F_lp1",
          "F_lp1",
          "F_lp1",
          "F_lp1",
          "F_lp1",
          "F_lp1",
          "F_lp1",
          "F_lp1",
          "F_lp1",
          "F_lp1",
          "F_lp1",
          "F_lp1",
          "F_lp1",
          "F_lp1",
          "F_lp1",
          "F_lp1",
          "F_lp1",
          "F_lp1",
          "F_lp1",
          "F_lp1",
          "F_lp1",
          "F_lp1",
          "F_lp1",
          "F_lp1",
          "F_lp1",
          "F_lp1",
          "F_lp1",
          "F_lp1",
          "F_lp1",
          "F_lp1",
          "F_lp1",
          "F_lp1",
          "F_lp1",
          "F_lp1",
          "F_lp1",
          "F_lp1",
          "F_lp1",
          "F_lp1",
          "F_lp1",
          "F_lp1",
          "F_lp1",
          "F_lp1",
          "F_lp1",
          "F_lp1",
          "F_lp1",
          "F_lp1",
          "F_lp1",
          "F_lp1",
          "F_lp1",
          "F_lp1",
          "F_lp1",
          "F_lp1",
          "F_lp1",
          "F_lp1",
          "F_lp1",
          "F_lp1",
          "F_lp1",
          "T_lp1",
          "T_lp1",
          "T_lp1",
          "T_lp1",
          "T_lp1",
          "T_lp1",
          "T_lp1",
          "T_lp1",
          "T_lp1",
          "T_lp1",
          "T_lp1",
          "T_lp1",
          "T_lp1",
          "T_lp1",
          "T_lp1",
          "T_lp1",
          "T_lp1",
          "T_lp1",
          "T_lp1",
          "T_lp1",
          "T_lp1",
          "T_lp1",
          "T_lp1",
          "T_lp1",
          "T_lp1",
          "T_lp1",
          "T_lp1",
          "T_lp1",
          "T_lp1",
          "T_lp1",
          "T_lp1",
          "T_lp1",
          "T_lp1",
          "T_lp1",
          "T_lp1",
          "T_lp1",
          "T_lp1",
          "T_lp1",
          "T_lp1",
          "T_lp1",
          "T_lp1",
          "T_lp1",
          "T_lp1",
          "T_lp1",
          "T_lp1",
          "T_lp1",
          "T_lp1",
          "T_lp1",
          "T_lp1",
          "T_lp1",
          "T_lp1",
          "T_lp1",
          "T_lp1",
          "T_lp1",
          "T_lp1",
          "T_lp1",
          "T_lp1",
          "T_lp1",
          "T_lp1",
          "T_lp1",
          "T_lp1",
          "T_lp1",
          "T_lp1",
          "T_lp1",
          "T_lp1",
          "T_lp1",
          "T_lp1",
          "T_lp1",
          "T_lp1",
          "T_lp1",
          "T_lp1",
          "T_lp1",
          "T_lp1",
          "T_lp1",
          "T_lp1",
          "T_lp1",
          "T_lp1",
          "T_lp1",
          "T_lp1",
          "T_lp1",
          "T_lp1",
          "T_lp1"
         ],
         "y0": " ",
         "yaxis": "y"
        }
       ],
       "layout": {
        "boxmode": "group",
        "legend": {
         "tracegroupgap": 0
        },
        "margin": {
         "t": 60
        },
        "template": {
         "data": {
          "bar": [
           {
            "error_x": {
             "color": "#2a3f5f"
            },
            "error_y": {
             "color": "#2a3f5f"
            },
            "marker": {
             "line": {
              "color": "#E5ECF6",
              "width": 0.5
             },
             "pattern": {
              "fillmode": "overlay",
              "size": 10,
              "solidity": 0.2
             }
            },
            "type": "bar"
           }
          ],
          "barpolar": [
           {
            "marker": {
             "line": {
              "color": "#E5ECF6",
              "width": 0.5
             },
             "pattern": {
              "fillmode": "overlay",
              "size": 10,
              "solidity": 0.2
             }
            },
            "type": "barpolar"
           }
          ],
          "carpet": [
           {
            "aaxis": {
             "endlinecolor": "#2a3f5f",
             "gridcolor": "white",
             "linecolor": "white",
             "minorgridcolor": "white",
             "startlinecolor": "#2a3f5f"
            },
            "baxis": {
             "endlinecolor": "#2a3f5f",
             "gridcolor": "white",
             "linecolor": "white",
             "minorgridcolor": "white",
             "startlinecolor": "#2a3f5f"
            },
            "type": "carpet"
           }
          ],
          "choropleth": [
           {
            "colorbar": {
             "outlinewidth": 0,
             "ticks": ""
            },
            "type": "choropleth"
           }
          ],
          "contour": [
           {
            "colorbar": {
             "outlinewidth": 0,
             "ticks": ""
            },
            "colorscale": [
             [
              0,
              "#0d0887"
             ],
             [
              0.1111111111111111,
              "#46039f"
             ],
             [
              0.2222222222222222,
              "#7201a8"
             ],
             [
              0.3333333333333333,
              "#9c179e"
             ],
             [
              0.4444444444444444,
              "#bd3786"
             ],
             [
              0.5555555555555556,
              "#d8576b"
             ],
             [
              0.6666666666666666,
              "#ed7953"
             ],
             [
              0.7777777777777778,
              "#fb9f3a"
             ],
             [
              0.8888888888888888,
              "#fdca26"
             ],
             [
              1,
              "#f0f921"
             ]
            ],
            "type": "contour"
           }
          ],
          "contourcarpet": [
           {
            "colorbar": {
             "outlinewidth": 0,
             "ticks": ""
            },
            "type": "contourcarpet"
           }
          ],
          "heatmap": [
           {
            "colorbar": {
             "outlinewidth": 0,
             "ticks": ""
            },
            "colorscale": [
             [
              0,
              "#0d0887"
             ],
             [
              0.1111111111111111,
              "#46039f"
             ],
             [
              0.2222222222222222,
              "#7201a8"
             ],
             [
              0.3333333333333333,
              "#9c179e"
             ],
             [
              0.4444444444444444,
              "#bd3786"
             ],
             [
              0.5555555555555556,
              "#d8576b"
             ],
             [
              0.6666666666666666,
              "#ed7953"
             ],
             [
              0.7777777777777778,
              "#fb9f3a"
             ],
             [
              0.8888888888888888,
              "#fdca26"
             ],
             [
              1,
              "#f0f921"
             ]
            ],
            "type": "heatmap"
           }
          ],
          "heatmapgl": [
           {
            "colorbar": {
             "outlinewidth": 0,
             "ticks": ""
            },
            "colorscale": [
             [
              0,
              "#0d0887"
             ],
             [
              0.1111111111111111,
              "#46039f"
             ],
             [
              0.2222222222222222,
              "#7201a8"
             ],
             [
              0.3333333333333333,
              "#9c179e"
             ],
             [
              0.4444444444444444,
              "#bd3786"
             ],
             [
              0.5555555555555556,
              "#d8576b"
             ],
             [
              0.6666666666666666,
              "#ed7953"
             ],
             [
              0.7777777777777778,
              "#fb9f3a"
             ],
             [
              0.8888888888888888,
              "#fdca26"
             ],
             [
              1,
              "#f0f921"
             ]
            ],
            "type": "heatmapgl"
           }
          ],
          "histogram": [
           {
            "marker": {
             "pattern": {
              "fillmode": "overlay",
              "size": 10,
              "solidity": 0.2
             }
            },
            "type": "histogram"
           }
          ],
          "histogram2d": [
           {
            "colorbar": {
             "outlinewidth": 0,
             "ticks": ""
            },
            "colorscale": [
             [
              0,
              "#0d0887"
             ],
             [
              0.1111111111111111,
              "#46039f"
             ],
             [
              0.2222222222222222,
              "#7201a8"
             ],
             [
              0.3333333333333333,
              "#9c179e"
             ],
             [
              0.4444444444444444,
              "#bd3786"
             ],
             [
              0.5555555555555556,
              "#d8576b"
             ],
             [
              0.6666666666666666,
              "#ed7953"
             ],
             [
              0.7777777777777778,
              "#fb9f3a"
             ],
             [
              0.8888888888888888,
              "#fdca26"
             ],
             [
              1,
              "#f0f921"
             ]
            ],
            "type": "histogram2d"
           }
          ],
          "histogram2dcontour": [
           {
            "colorbar": {
             "outlinewidth": 0,
             "ticks": ""
            },
            "colorscale": [
             [
              0,
              "#0d0887"
             ],
             [
              0.1111111111111111,
              "#46039f"
             ],
             [
              0.2222222222222222,
              "#7201a8"
             ],
             [
              0.3333333333333333,
              "#9c179e"
             ],
             [
              0.4444444444444444,
              "#bd3786"
             ],
             [
              0.5555555555555556,
              "#d8576b"
             ],
             [
              0.6666666666666666,
              "#ed7953"
             ],
             [
              0.7777777777777778,
              "#fb9f3a"
             ],
             [
              0.8888888888888888,
              "#fdca26"
             ],
             [
              1,
              "#f0f921"
             ]
            ],
            "type": "histogram2dcontour"
           }
          ],
          "mesh3d": [
           {
            "colorbar": {
             "outlinewidth": 0,
             "ticks": ""
            },
            "type": "mesh3d"
           }
          ],
          "parcoords": [
           {
            "line": {
             "colorbar": {
              "outlinewidth": 0,
              "ticks": ""
             }
            },
            "type": "parcoords"
           }
          ],
          "pie": [
           {
            "automargin": true,
            "type": "pie"
           }
          ],
          "scatter": [
           {
            "fillpattern": {
             "fillmode": "overlay",
             "size": 10,
             "solidity": 0.2
            },
            "type": "scatter"
           }
          ],
          "scatter3d": [
           {
            "line": {
             "colorbar": {
              "outlinewidth": 0,
              "ticks": ""
             }
            },
            "marker": {
             "colorbar": {
              "outlinewidth": 0,
              "ticks": ""
             }
            },
            "type": "scatter3d"
           }
          ],
          "scattercarpet": [
           {
            "marker": {
             "colorbar": {
              "outlinewidth": 0,
              "ticks": ""
             }
            },
            "type": "scattercarpet"
           }
          ],
          "scattergeo": [
           {
            "marker": {
             "colorbar": {
              "outlinewidth": 0,
              "ticks": ""
             }
            },
            "type": "scattergeo"
           }
          ],
          "scattergl": [
           {
            "marker": {
             "colorbar": {
              "outlinewidth": 0,
              "ticks": ""
             }
            },
            "type": "scattergl"
           }
          ],
          "scattermapbox": [
           {
            "marker": {
             "colorbar": {
              "outlinewidth": 0,
              "ticks": ""
             }
            },
            "type": "scattermapbox"
           }
          ],
          "scatterpolar": [
           {
            "marker": {
             "colorbar": {
              "outlinewidth": 0,
              "ticks": ""
             }
            },
            "type": "scatterpolar"
           }
          ],
          "scatterpolargl": [
           {
            "marker": {
             "colorbar": {
              "outlinewidth": 0,
              "ticks": ""
             }
            },
            "type": "scatterpolargl"
           }
          ],
          "scatterternary": [
           {
            "marker": {
             "colorbar": {
              "outlinewidth": 0,
              "ticks": ""
             }
            },
            "type": "scatterternary"
           }
          ],
          "surface": [
           {
            "colorbar": {
             "outlinewidth": 0,
             "ticks": ""
            },
            "colorscale": [
             [
              0,
              "#0d0887"
             ],
             [
              0.1111111111111111,
              "#46039f"
             ],
             [
              0.2222222222222222,
              "#7201a8"
             ],
             [
              0.3333333333333333,
              "#9c179e"
             ],
             [
              0.4444444444444444,
              "#bd3786"
             ],
             [
              0.5555555555555556,
              "#d8576b"
             ],
             [
              0.6666666666666666,
              "#ed7953"
             ],
             [
              0.7777777777777778,
              "#fb9f3a"
             ],
             [
              0.8888888888888888,
              "#fdca26"
             ],
             [
              1,
              "#f0f921"
             ]
            ],
            "type": "surface"
           }
          ],
          "table": [
           {
            "cells": {
             "fill": {
              "color": "#EBF0F8"
             },
             "line": {
              "color": "white"
             }
            },
            "header": {
             "fill": {
              "color": "#C8D4E3"
             },
             "line": {
              "color": "white"
             }
            },
            "type": "table"
           }
          ]
         },
         "layout": {
          "annotationdefaults": {
           "arrowcolor": "#2a3f5f",
           "arrowhead": 0,
           "arrowwidth": 1
          },
          "autotypenumbers": "strict",
          "coloraxis": {
           "colorbar": {
            "outlinewidth": 0,
            "ticks": ""
           }
          },
          "colorscale": {
           "diverging": [
            [
             0,
             "#8e0152"
            ],
            [
             0.1,
             "#c51b7d"
            ],
            [
             0.2,
             "#de77ae"
            ],
            [
             0.3,
             "#f1b6da"
            ],
            [
             0.4,
             "#fde0ef"
            ],
            [
             0.5,
             "#f7f7f7"
            ],
            [
             0.6,
             "#e6f5d0"
            ],
            [
             0.7,
             "#b8e186"
            ],
            [
             0.8,
             "#7fbc41"
            ],
            [
             0.9,
             "#4d9221"
            ],
            [
             1,
             "#276419"
            ]
           ],
           "sequential": [
            [
             0,
             "#0d0887"
            ],
            [
             0.1111111111111111,
             "#46039f"
            ],
            [
             0.2222222222222222,
             "#7201a8"
            ],
            [
             0.3333333333333333,
             "#9c179e"
            ],
            [
             0.4444444444444444,
             "#bd3786"
            ],
            [
             0.5555555555555556,
             "#d8576b"
            ],
            [
             0.6666666666666666,
             "#ed7953"
            ],
            [
             0.7777777777777778,
             "#fb9f3a"
            ],
            [
             0.8888888888888888,
             "#fdca26"
            ],
            [
             1,
             "#f0f921"
            ]
           ],
           "sequentialminus": [
            [
             0,
             "#0d0887"
            ],
            [
             0.1111111111111111,
             "#46039f"
            ],
            [
             0.2222222222222222,
             "#7201a8"
            ],
            [
             0.3333333333333333,
             "#9c179e"
            ],
            [
             0.4444444444444444,
             "#bd3786"
            ],
            [
             0.5555555555555556,
             "#d8576b"
            ],
            [
             0.6666666666666666,
             "#ed7953"
            ],
            [
             0.7777777777777778,
             "#fb9f3a"
            ],
            [
             0.8888888888888888,
             "#fdca26"
            ],
            [
             1,
             "#f0f921"
            ]
           ]
          },
          "colorway": [
           "#636efa",
           "#EF553B",
           "#00cc96",
           "#ab63fa",
           "#FFA15A",
           "#19d3f3",
           "#FF6692",
           "#B6E880",
           "#FF97FF",
           "#FECB52"
          ],
          "font": {
           "color": "#2a3f5f"
          },
          "geo": {
           "bgcolor": "white",
           "lakecolor": "white",
           "landcolor": "#E5ECF6",
           "showlakes": true,
           "showland": true,
           "subunitcolor": "white"
          },
          "hoverlabel": {
           "align": "left"
          },
          "hovermode": "closest",
          "mapbox": {
           "style": "light"
          },
          "paper_bgcolor": "white",
          "plot_bgcolor": "#E5ECF6",
          "polar": {
           "angularaxis": {
            "gridcolor": "white",
            "linecolor": "white",
            "ticks": ""
           },
           "bgcolor": "#E5ECF6",
           "radialaxis": {
            "gridcolor": "white",
            "linecolor": "white",
            "ticks": ""
           }
          },
          "scene": {
           "xaxis": {
            "backgroundcolor": "#E5ECF6",
            "gridcolor": "white",
            "gridwidth": 2,
            "linecolor": "white",
            "showbackground": true,
            "ticks": "",
            "zerolinecolor": "white"
           },
           "yaxis": {
            "backgroundcolor": "#E5ECF6",
            "gridcolor": "white",
            "gridwidth": 2,
            "linecolor": "white",
            "showbackground": true,
            "ticks": "",
            "zerolinecolor": "white"
           },
           "zaxis": {
            "backgroundcolor": "#E5ECF6",
            "gridcolor": "white",
            "gridwidth": 2,
            "linecolor": "white",
            "showbackground": true,
            "ticks": "",
            "zerolinecolor": "white"
           }
          },
          "shapedefaults": {
           "line": {
            "color": "#2a3f5f"
           }
          },
          "ternary": {
           "aaxis": {
            "gridcolor": "white",
            "linecolor": "white",
            "ticks": ""
           },
           "baxis": {
            "gridcolor": "white",
            "linecolor": "white",
            "ticks": ""
           },
           "bgcolor": "#E5ECF6",
           "caxis": {
            "gridcolor": "white",
            "linecolor": "white",
            "ticks": ""
           }
          },
          "title": {
           "x": 0.05
          },
          "xaxis": {
           "automargin": true,
           "gridcolor": "white",
           "linecolor": "white",
           "ticks": "",
           "title": {
            "standoff": 15
           },
           "zerolinecolor": "white",
           "zerolinewidth": 2
          },
          "yaxis": {
           "automargin": true,
           "gridcolor": "white",
           "linecolor": "white",
           "ticks": "",
           "title": {
            "standoff": 15
           },
           "zerolinecolor": "white",
           "zerolinewidth": 2
          }
         }
        },
        "xaxis": {
         "anchor": "y",
         "domain": [
          0,
          1
         ],
         "title": {
          "text": "value"
         }
        },
        "yaxis": {
         "anchor": "x",
         "domain": [
          0,
          1
         ],
         "title": {
          "text": "variable"
         }
        }
       }
      }
     },
     "metadata": {},
     "output_type": "display_data"
    }
   ],
   "source": [
    "plty.box(X_lp1_df, x = [\"F_lp1\", \"T_lp1\"])"
   ]
  },
  {
   "attachments": {},
   "cell_type": "markdown",
   "metadata": {},
   "source": [
    "To know the class distribution"
   ]
  },
  {
   "cell_type": "code",
   "execution_count": 58,
   "metadata": {},
   "outputs": [
    {
     "data": {
      "text/plain": [
       "(array([0., 1., 2., 3.]), array([21, 17, 16, 34], dtype=int64))"
      ]
     },
     "execution_count": 58,
     "metadata": {},
     "output_type": "execute_result"
    }
   ],
   "source": [
    "np.unique(Y_lp1.to_numpy(), return_counts=True)"
   ]
  },
  {
   "attachments": {},
   "cell_type": "markdown",
   "metadata": {},
   "source": [
    "Training the dataset"
   ]
  },
  {
   "attachments": {},
   "cell_type": "markdown",
   "metadata": {},
   "source": [
    "Splitting test and train set in the ratio of 70:30"
   ]
  },
  {
   "cell_type": "code",
   "execution_count": 83,
   "metadata": {},
   "outputs": [],
   "source": [
    "from sklearn.model_selection import train_test_split\n",
    "\n",
    "lp1_train, lp1_test = train_test_split(X_lp1_df, test_size=0.3, random_state=2)\n"
   ]
  },
  {
   "attachments": {},
   "cell_type": "markdown",
   "metadata": {},
   "source": [
    "1. Decision Tree"
   ]
  },
  {
   "cell_type": "code",
   "execution_count": 84,
   "metadata": {},
   "outputs": [
    {
     "name": "stdout",
     "output_type": "stream",
     "text": [
      "Training using Decision Tree...\n"
     ]
    },
    {
     "data": {
      "text/html": [
       "<style>#sk-container-id-5 {color: black;background-color: white;}#sk-container-id-5 pre{padding: 0;}#sk-container-id-5 div.sk-toggleable {background-color: white;}#sk-container-id-5 label.sk-toggleable__label {cursor: pointer;display: block;width: 100%;margin-bottom: 0;padding: 0.3em;box-sizing: border-box;text-align: center;}#sk-container-id-5 label.sk-toggleable__label-arrow:before {content: \"▸\";float: left;margin-right: 0.25em;color: #696969;}#sk-container-id-5 label.sk-toggleable__label-arrow:hover:before {color: black;}#sk-container-id-5 div.sk-estimator:hover label.sk-toggleable__label-arrow:before {color: black;}#sk-container-id-5 div.sk-toggleable__content {max-height: 0;max-width: 0;overflow: hidden;text-align: left;background-color: #f0f8ff;}#sk-container-id-5 div.sk-toggleable__content pre {margin: 0.2em;color: black;border-radius: 0.25em;background-color: #f0f8ff;}#sk-container-id-5 input.sk-toggleable__control:checked~div.sk-toggleable__content {max-height: 200px;max-width: 100%;overflow: auto;}#sk-container-id-5 input.sk-toggleable__control:checked~label.sk-toggleable__label-arrow:before {content: \"▾\";}#sk-container-id-5 div.sk-estimator input.sk-toggleable__control:checked~label.sk-toggleable__label {background-color: #d4ebff;}#sk-container-id-5 div.sk-label input.sk-toggleable__control:checked~label.sk-toggleable__label {background-color: #d4ebff;}#sk-container-id-5 input.sk-hidden--visually {border: 0;clip: rect(1px 1px 1px 1px);clip: rect(1px, 1px, 1px, 1px);height: 1px;margin: -1px;overflow: hidden;padding: 0;position: absolute;width: 1px;}#sk-container-id-5 div.sk-estimator {font-family: monospace;background-color: #f0f8ff;border: 1px dotted black;border-radius: 0.25em;box-sizing: border-box;margin-bottom: 0.5em;}#sk-container-id-5 div.sk-estimator:hover {background-color: #d4ebff;}#sk-container-id-5 div.sk-parallel-item::after {content: \"\";width: 100%;border-bottom: 1px solid gray;flex-grow: 1;}#sk-container-id-5 div.sk-label:hover label.sk-toggleable__label {background-color: #d4ebff;}#sk-container-id-5 div.sk-serial::before {content: \"\";position: absolute;border-left: 1px solid gray;box-sizing: border-box;top: 0;bottom: 0;left: 50%;z-index: 0;}#sk-container-id-5 div.sk-serial {display: flex;flex-direction: column;align-items: center;background-color: white;padding-right: 0.2em;padding-left: 0.2em;position: relative;}#sk-container-id-5 div.sk-item {position: relative;z-index: 1;}#sk-container-id-5 div.sk-parallel {display: flex;align-items: stretch;justify-content: center;background-color: white;position: relative;}#sk-container-id-5 div.sk-item::before, #sk-container-id-5 div.sk-parallel-item::before {content: \"\";position: absolute;border-left: 1px solid gray;box-sizing: border-box;top: 0;bottom: 0;left: 50%;z-index: -1;}#sk-container-id-5 div.sk-parallel-item {display: flex;flex-direction: column;z-index: 1;position: relative;background-color: white;}#sk-container-id-5 div.sk-parallel-item:first-child::after {align-self: flex-end;width: 50%;}#sk-container-id-5 div.sk-parallel-item:last-child::after {align-self: flex-start;width: 50%;}#sk-container-id-5 div.sk-parallel-item:only-child::after {width: 0;}#sk-container-id-5 div.sk-dashed-wrapped {border: 1px dashed gray;margin: 0 0.4em 0.5em 0.4em;box-sizing: border-box;padding-bottom: 0.4em;background-color: white;}#sk-container-id-5 div.sk-label label {font-family: monospace;font-weight: bold;display: inline-block;line-height: 1.2em;}#sk-container-id-5 div.sk-label-container {text-align: center;}#sk-container-id-5 div.sk-container {/* jupyter's `normalize.less` sets `[hidden] { display: none; }` but bootstrap.min.css set `[hidden] { display: none !important; }` so we also need the `!important` here to be able to override the default hidden behavior on the sphinx rendered scikit-learn.org. See: https://github.com/scikit-learn/scikit-learn/issues/21755 */display: inline-block !important;position: relative;}#sk-container-id-5 div.sk-text-repr-fallback {display: none;}</style><div id=\"sk-container-id-5\" class=\"sk-top-container\"><div class=\"sk-text-repr-fallback\"><pre>DecisionTreeClassifier(max_depth=4)</pre><b>In a Jupyter environment, please rerun this cell to show the HTML representation or trust the notebook. <br />On GitHub, the HTML representation is unable to render, please try loading this page with nbviewer.org.</b></div><div class=\"sk-container\" hidden><div class=\"sk-item\"><div class=\"sk-estimator sk-toggleable\"><input class=\"sk-toggleable__control sk-hidden--visually\" id=\"sk-estimator-id-5\" type=\"checkbox\" checked><label for=\"sk-estimator-id-5\" class=\"sk-toggleable__label sk-toggleable__label-arrow\">DecisionTreeClassifier</label><div class=\"sk-toggleable__content\"><pre>DecisionTreeClassifier(max_depth=4)</pre></div></div></div></div></div>"
      ],
      "text/plain": [
       "DecisionTreeClassifier(max_depth=4)"
      ]
     },
     "execution_count": 84,
     "metadata": {},
     "output_type": "execute_result"
    }
   ],
   "source": [
    "print(\"Training using Decision Tree...\")\n",
    "from sklearn import tree\n",
    "from sklearn.metrics import accuracy_score\n",
    "from sklearn.metrics import confusion_matrix, recall_score, precision_score, f1_score, mean_squared_error\n",
    "from sklearn.model_selection import cross_validate\n",
    "acc = pd.DataFrame(columns={\"Model\": [], \"Train\": [], \"Dev\": [], \"Test\":[], \"Precision Score\": [], \"Recall Score\": [], \"F1 Score\": [] })\n",
    "X = lp1_train[[\"F_lp1\", \"T_lp1\" ]]\n",
    "Y = lp1_train[\"Y_lp1\"]\n",
    "lp1_model = tree.DecisionTreeClassifier(max_depth=4)\n",
    "treemodel = cross_validate(lp1_model, X, Y, cv=3,return_train_score=True)\n",
    "lp1_model.fit(X, Y)"
   ]
  },
  {
   "attachments": {},
   "cell_type": "markdown",
   "metadata": {},
   "source": [
    "Results"
   ]
  },
  {
   "cell_type": "code",
   "execution_count": 92,
   "metadata": {},
   "outputs": [
    {
     "name": "stdout",
     "output_type": "stream",
     "text": [
      "++++++Decision Tree++++++\n",
      "+++Train Results+++\n",
      "Parametes: \n",
      " {'ccp_alpha': 0.0, 'class_weight': None, 'criterion': 'gini', 'max_depth': 4, 'max_features': None, 'max_leaf_nodes': None, 'min_impurity_decrease': 0.0, 'min_samples_leaf': 1, 'min_samples_split': 2, 'min_weight_fraction_leaf': 0.0, 'random_state': None, 'splitter': 'best'}\n",
      "\n",
      "Train Score 0.9561403508771931\n",
      "_____________________________________________________________________________________\n",
      "Validation Score 0.9298245614035089\n",
      "_____________________________________________________________________________________\n",
      "\n",
      "+++Test Results+++\n",
      "Parametes: \n",
      " {'ccp_alpha': 0.0, 'class_weight': None, 'criterion': 'gini', 'max_depth': 4, 'max_features': None, 'max_leaf_nodes': None, 'min_impurity_decrease': 0.0, 'min_samples_leaf': 1, 'min_samples_split': 2, 'min_weight_fraction_leaf': 0.0, 'random_state': None, 'splitter': 'best'}\n",
      "\n",
      "Prediction of test set: [1. 0. 0. 0. 2. 3. 2. 3. 1. 0. 1. 2. 3. 0. 3. 3. 3. 0. 0. 2. 1. 2. 3. 2.\n",
      " 3.]\n",
      "\n",
      "Test accuracy score 0.92\n",
      "\n",
      "Confusion Matrix:\n",
      " [[5 0 0 0]\n",
      " [2 4 0 0]\n",
      " [0 0 6 0]\n",
      " [0 0 0 8]]\n",
      "\n",
      "Precision Score: [0.71428571 1.         1.         1.        ]\n",
      "Recall Score: [1.         0.66666667 1.         1.        ]\n",
      "F1 Score: [0.83333333 0.8        1.         1.        ]\n"
     ]
    }
   ],
   "source": [
    "print(\"++++++Decision Tree++++++\")\n",
    "print(\"+++Train Results+++\\nParametes: \\n\",lp1_model.get_params())\n",
    "train_pred = lp1_model.predict(lp1_train[[\"F_lp1\", \"T_lp1\"]])\n",
    "accuracy_scr1 = treemodel['train_score'].mean()\n",
    "print(\"\\nTrain Score\", treemodel['train_score'].mean())\n",
    "print(\"_____________________________________________________________________________________\")\n",
    "print(\"Validation Score\", treemodel['test_score'].mean())\n",
    "print(\"_____________________________________________________________________________________\")\n",
    "print(\"\\n+++Test Results+++\\nParametes: \\n\",lp1_model.get_params())\n",
    "test_pred = lp1_model.predict(lp1_test[[\"F_lp1\", \"T_lp1\"]])\n",
    "print(\"\\nPrediction of test set:\", test_pred)\n",
    "accuracy_scr2 = accuracy_score(lp1_test[\"Y_lp1\"], test_pred)\n",
    "print(\"\\nTest accuracy score\", accuracy_scr2)\n",
    "confMat = confusion_matrix(lp1_test[\"Y_lp1\"], test_pred, labels=[0,1,2,3])\n",
    "print(\"\\nConfusion Matrix:\\n\",confMat)\n",
    "prec_tree = precision_score(lp1_test[\"Y_lp1\"], test_pred, average=None, zero_division=0)\n",
    "print(\"\\nPrecision Score:\",prec_tree)\n",
    "Rec_tree = recall_score(lp1_test[\"Y_lp1\"], test_pred, average=None, zero_division=0)\n",
    "print(\"Recall Score:\",Rec_tree)\n",
    "f1_tree = f1_score(lp1_test[\"Y_lp1\"], test_pred, average=None, zero_division=0)\n",
    "print(\"F1 Score:\",f1_tree)\n",
    "acc.loc[len(acc.index)] = ['Decision Tree', accuracy_scr1, treemodel['test_score'].mean(), accuracy_scr2, prec_tree.mean(), Rec_tree.mean(), f1_tree.mean()] "
   ]
  },
  {
   "cell_type": "code",
   "execution_count": 62,
   "metadata": {},
   "outputs": [],
   "source": [
    "#lp1_model.predict_proba(lp1_test[[\"F_lp1\", \"T_lp1\"]])"
   ]
  },
  {
   "attachments": {},
   "cell_type": "markdown",
   "metadata": {},
   "source": [
    "Printing the tree"
   ]
  },
  {
   "cell_type": "code",
   "execution_count": 63,
   "metadata": {},
   "outputs": [
    {
     "data": {
      "text/plain": [
       "[Text(0.625, 0.9, 'X[0] <= 0.072\\ngini = 0.696\\nsamples = 57\\nvalue = [16, 11, 6, 24]'),\n",
       " Text(0.5, 0.7, 'X[1] <= 0.022\\ngini = 0.621\\nsamples = 33\\nvalue = [16, 11, 6, 0]'),\n",
       " Text(0.25, 0.5, 'X[0] <= 0.023\\ngini = 0.335\\nsamples = 20\\nvalue = [16, 3, 1, 0]'),\n",
       " Text(0.125, 0.3, 'gini = 0.0\\nsamples = 1\\nvalue = [0, 0, 1, 0]'),\n",
       " Text(0.375, 0.3, 'X[1] <= 0.011\\ngini = 0.266\\nsamples = 19\\nvalue = [16, 3, 0, 0]'),\n",
       " Text(0.25, 0.1, 'gini = 0.0\\nsamples = 8\\nvalue = [8, 0, 0, 0]'),\n",
       " Text(0.5, 0.1, 'gini = 0.397\\nsamples = 11\\nvalue = [8, 3, 0, 0]'),\n",
       " Text(0.75, 0.5, 'X[0] <= 0.029\\ngini = 0.473\\nsamples = 13\\nvalue = [0, 8, 5, 0]'),\n",
       " Text(0.625, 0.3, 'gini = 0.0\\nsamples = 5\\nvalue = [0, 0, 5, 0]'),\n",
       " Text(0.875, 0.3, 'gini = 0.0\\nsamples = 8\\nvalue = [0, 8, 0, 0]'),\n",
       " Text(0.75, 0.7, 'gini = 0.0\\nsamples = 24\\nvalue = [0, 0, 0, 24]')]"
      ]
     },
     "execution_count": 63,
     "metadata": {},
     "output_type": "execute_result"
    },
    {
     "data": {
      "image/png": "[encoded data removed]",
      "text/plain": [
       "<Figure size 432x288 with 1 Axes>"
      ]
     },
     "metadata": {
      "needs_background": "light"
     },
     "output_type": "display_data"
    }
   ],
   "source": [
    "tree.plot_tree(lp1_model)"
   ]
  },
  {
   "attachments": {},
   "cell_type": "markdown",
   "metadata": {},
   "source": [
    "Exporting the model to txt file"
   ]
  },
  {
   "cell_type": "code",
   "execution_count": 64,
   "metadata": {},
   "outputs": [],
   "source": [
    "# from sklearn.tree import export_text\n",
    "# lp1export_tree = export_text(lp1_model) \n",
    "# with open('lp1exportree.txt', 'w') as f:\n",
    "#     f.writelines(lp1export_tree)"
   ]
  },
  {
   "attachments": {},
   "cell_type": "markdown",
   "metadata": {},
   "source": [
    "2. Random Forest Classifier"
   ]
  },
  {
   "cell_type": "code",
   "execution_count": 65,
   "metadata": {},
   "outputs": [
    {
     "data": {
      "text/html": [
       "<style>#sk-container-id-2 {color: black;background-color: white;}#sk-container-id-2 pre{padding: 0;}#sk-container-id-2 div.sk-toggleable {background-color: white;}#sk-container-id-2 label.sk-toggleable__label {cursor: pointer;display: block;width: 100%;margin-bottom: 0;padding: 0.3em;box-sizing: border-box;text-align: center;}#sk-container-id-2 label.sk-toggleable__label-arrow:before {content: \"▸\";float: left;margin-right: 0.25em;color: #696969;}#sk-container-id-2 label.sk-toggleable__label-arrow:hover:before {color: black;}#sk-container-id-2 div.sk-estimator:hover label.sk-toggleable__label-arrow:before {color: black;}#sk-container-id-2 div.sk-toggleable__content {max-height: 0;max-width: 0;overflow: hidden;text-align: left;background-color: #f0f8ff;}#sk-container-id-2 div.sk-toggleable__content pre {margin: 0.2em;color: black;border-radius: 0.25em;background-color: #f0f8ff;}#sk-container-id-2 input.sk-toggleable__control:checked~div.sk-toggleable__content {max-height: 200px;max-width: 100%;overflow: auto;}#sk-container-id-2 input.sk-toggleable__control:checked~label.sk-toggleable__label-arrow:before {content: \"▾\";}#sk-container-id-2 div.sk-estimator input.sk-toggleable__control:checked~label.sk-toggleable__label {background-color: #d4ebff;}#sk-container-id-2 div.sk-label input.sk-toggleable__control:checked~label.sk-toggleable__label {background-color: #d4ebff;}#sk-container-id-2 input.sk-hidden--visually {border: 0;clip: rect(1px 1px 1px 1px);clip: rect(1px, 1px, 1px, 1px);height: 1px;margin: -1px;overflow: hidden;padding: 0;position: absolute;width: 1px;}#sk-container-id-2 div.sk-estimator {font-family: monospace;background-color: #f0f8ff;border: 1px dotted black;border-radius: 0.25em;box-sizing: border-box;margin-bottom: 0.5em;}#sk-container-id-2 div.sk-estimator:hover {background-color: #d4ebff;}#sk-container-id-2 div.sk-parallel-item::after {content: \"\";width: 100%;border-bottom: 1px solid gray;flex-grow: 1;}#sk-container-id-2 div.sk-label:hover label.sk-toggleable__label {background-color: #d4ebff;}#sk-container-id-2 div.sk-serial::before {content: \"\";position: absolute;border-left: 1px solid gray;box-sizing: border-box;top: 0;bottom: 0;left: 50%;z-index: 0;}#sk-container-id-2 div.sk-serial {display: flex;flex-direction: column;align-items: center;background-color: white;padding-right: 0.2em;padding-left: 0.2em;position: relative;}#sk-container-id-2 div.sk-item {position: relative;z-index: 1;}#sk-container-id-2 div.sk-parallel {display: flex;align-items: stretch;justify-content: center;background-color: white;position: relative;}#sk-container-id-2 div.sk-item::before, #sk-container-id-2 div.sk-parallel-item::before {content: \"\";position: absolute;border-left: 1px solid gray;box-sizing: border-box;top: 0;bottom: 0;left: 50%;z-index: -1;}#sk-container-id-2 div.sk-parallel-item {display: flex;flex-direction: column;z-index: 1;position: relative;background-color: white;}#sk-container-id-2 div.sk-parallel-item:first-child::after {align-self: flex-end;width: 50%;}#sk-container-id-2 div.sk-parallel-item:last-child::after {align-self: flex-start;width: 50%;}#sk-container-id-2 div.sk-parallel-item:only-child::after {width: 0;}#sk-container-id-2 div.sk-dashed-wrapped {border: 1px dashed gray;margin: 0 0.4em 0.5em 0.4em;box-sizing: border-box;padding-bottom: 0.4em;background-color: white;}#sk-container-id-2 div.sk-label label {font-family: monospace;font-weight: bold;display: inline-block;line-height: 1.2em;}#sk-container-id-2 div.sk-label-container {text-align: center;}#sk-container-id-2 div.sk-container {/* jupyter's `normalize.less` sets `[hidden] { display: none; }` but bootstrap.min.css set `[hidden] { display: none !important; }` so we also need the `!important` here to be able to override the default hidden behavior on the sphinx rendered scikit-learn.org. See: https://github.com/scikit-learn/scikit-learn/issues/21755 */display: inline-block !important;position: relative;}#sk-container-id-2 div.sk-text-repr-fallback {display: none;}</style><div id=\"sk-container-id-2\" class=\"sk-top-container\"><div class=\"sk-text-repr-fallback\"><pre>RandomForestClassifier(max_depth=4)</pre><b>In a Jupyter environment, please rerun this cell to show the HTML representation or trust the notebook. <br />On GitHub, the HTML representation is unable to render, please try loading this page with nbviewer.org.</b></div><div class=\"sk-container\" hidden><div class=\"sk-item\"><div class=\"sk-estimator sk-toggleable\"><input class=\"sk-toggleable__control sk-hidden--visually\" id=\"sk-estimator-id-2\" type=\"checkbox\" checked><label for=\"sk-estimator-id-2\" class=\"sk-toggleable__label sk-toggleable__label-arrow\">RandomForestClassifier</label><div class=\"sk-toggleable__content\"><pre>RandomForestClassifier(max_depth=4)</pre></div></div></div></div></div>"
      ],
      "text/plain": [
       "RandomForestClassifier(max_depth=4)"
      ]
     },
     "execution_count": 65,
     "metadata": {},
     "output_type": "execute_result"
    }
   ],
   "source": [
    "from sklearn.ensemble import RandomForestClassifier\n",
    "lp1_forest = RandomForestClassifier(max_depth=4)\n",
    "X = lp1_train[[\"F_lp1\", \"T_lp1\"]]\n",
    "Y = lp1_train[\"Y_lp1\"]\n",
    "forestmodel = cross_validate(lp1_forest, X, Y, cv=3,return_train_score=True)\n",
    "lp1_forest.fit(X, Y)"
   ]
  },
  {
   "cell_type": "code",
   "execution_count": 86,
   "metadata": {},
   "outputs": [
    {
     "name": "stdout",
     "output_type": "stream",
     "text": [
      "++++++Random Forest++++++\n",
      "+++Train Results+++\n",
      "Parametes: \n",
      " {'bootstrap': True, 'ccp_alpha': 0.0, 'class_weight': None, 'criterion': 'gini', 'max_depth': 4, 'max_features': 'sqrt', 'max_leaf_nodes': None, 'max_samples': None, 'min_impurity_decrease': 0.0, 'min_samples_leaf': 1, 'min_samples_split': 2, 'min_weight_fraction_leaf': 0.0, 'n_estimators': 100, 'n_jobs': None, 'oob_score': False, 'random_state': None, 'verbose': 0, 'warm_start': False}\n",
      "\n",
      "Train Score 0.9561403508771931\n",
      "_____________________________________________________________________________________\n",
      "Validation Score 0.912280701754386\n",
      "_____________________________________________________________________________________\n",
      "+++Test Results+++\n",
      "Parametes: \n",
      " {'bootstrap': True, 'ccp_alpha': 0.0, 'class_weight': None, 'criterion': 'gini', 'max_depth': 4, 'max_features': 'sqrt', 'max_leaf_nodes': None, 'max_samples': None, 'min_impurity_decrease': 0.0, 'min_samples_leaf': 1, 'min_samples_split': 2, 'min_weight_fraction_leaf': 0.0, 'n_estimators': 100, 'n_jobs': None, 'oob_score': False, 'random_state': None, 'verbose': 0, 'warm_start': False}\n",
      "\n",
      "Test accuracy score 0.92\n",
      "Confusion Matrix:\n",
      " [[5 0 0 0]\n",
      " [2 4 0 0]\n",
      " [0 0 6 0]\n",
      " [0 0 0 8]]\n",
      "\n",
      "Precision Score: [0.71428571 1.         1.         1.        ]\n",
      "Recall Score: [1.         0.66666667 1.         1.        ]\n",
      "F1 Score: [0.83333333 0.8        1.         1.        ]\n",
      "0.08\n"
     ]
    }
   ],
   "source": [
    "print(\"++++++Random Forest++++++\")\n",
    "print(\"+++Train Results+++\\nParametes: \\n\",lp1_forest.get_params())\n",
    "train_pred = lp1_forest.predict(lp1_train[[\"F_lp1\", \"T_lp1\"]])\n",
    "accuracy_scr1 = forestmodel['train_score'].mean()\n",
    "print(\"\\nTrain Score\", forestmodel['train_score'].mean())\n",
    "print(\"_____________________________________________________________________________________\")\n",
    "print(\"Validation Score\", forestmodel['test_score'].mean())\n",
    "print(\"_____________________________________________________________________________________\")\n",
    "print(\"+++Test Results+++\\nParametes: \\n\",lp1_forest.get_params())\n",
    "test_pred = lp1_forest.predict(lp1_test[[\"F_lp1\", \"T_lp1\"]])\n",
    "#print(\"\\nPrediction of test set:\", test_pred)\n",
    "accuracy_scr2 = accuracy_score(lp1_test[\"Y_lp1\"], test_pred)\n",
    "print(\"\\nTest accuracy score\", accuracy_scr2)\n",
    "confMat = confusion_matrix(lp1_test[\"Y_lp1\"], test_pred, labels=[0,1,2,3])\n",
    "print(\"Confusion Matrix:\\n\",confMat)\n",
    "prec_forest = precision_score(lp1_test[\"Y_lp1\"], test_pred, average=None, zero_division=0)\n",
    "print(\"\\nPrecision Score:\",prec_forest)\n",
    "Rec_forest = recall_score(lp1_test[\"Y_lp1\"], test_pred, average=None, zero_division=0)\n",
    "print(\"Recall Score:\",Rec_forest)\n",
    "f1_forest = f1_score(lp1_test[\"Y_lp1\"], test_pred, average=None, zero_division=0)\n",
    "print(\"F1 Score:\",f1_forest)\n",
    "acc.loc[len(acc.index)] = ['Random Forest', accuracy_scr1, forestmodel['test_score'].mean(), accuracy_scr2, prec_forest.mean(), Rec_forest.mean(), f1_forest.mean()] "
   ]
  },
  {
   "attachments": {},
   "cell_type": "markdown",
   "metadata": {},
   "source": [
    "3. Support Vector Machines"
   ]
  },
  {
   "cell_type": "code",
   "execution_count": 67,
   "metadata": {},
   "outputs": [
    {
     "data": {
      "text/html": [
       "<style>#sk-container-id-3 {color: black;background-color: white;}#sk-container-id-3 pre{padding: 0;}#sk-container-id-3 div.sk-toggleable {background-color: white;}#sk-container-id-3 label.sk-toggleable__label {cursor: pointer;display: block;width: 100%;margin-bottom: 0;padding: 0.3em;box-sizing: border-box;text-align: center;}#sk-container-id-3 label.sk-toggleable__label-arrow:before {content: \"▸\";float: left;margin-right: 0.25em;color: #696969;}#sk-container-id-3 label.sk-toggleable__label-arrow:hover:before {color: black;}#sk-container-id-3 div.sk-estimator:hover label.sk-toggleable__label-arrow:before {color: black;}#sk-container-id-3 div.sk-toggleable__content {max-height: 0;max-width: 0;overflow: hidden;text-align: left;background-color: #f0f8ff;}#sk-container-id-3 div.sk-toggleable__content pre {margin: 0.2em;color: black;border-radius: 0.25em;background-color: #f0f8ff;}#sk-container-id-3 input.sk-toggleable__control:checked~div.sk-toggleable__content {max-height: 200px;max-width: 100%;overflow: auto;}#sk-container-id-3 input.sk-toggleable__control:checked~label.sk-toggleable__label-arrow:before {content: \"▾\";}#sk-container-id-3 div.sk-estimator input.sk-toggleable__control:checked~label.sk-toggleable__label {background-color: #d4ebff;}#sk-container-id-3 div.sk-label input.sk-toggleable__control:checked~label.sk-toggleable__label {background-color: #d4ebff;}#sk-container-id-3 input.sk-hidden--visually {border: 0;clip: rect(1px 1px 1px 1px);clip: rect(1px, 1px, 1px, 1px);height: 1px;margin: -1px;overflow: hidden;padding: 0;position: absolute;width: 1px;}#sk-container-id-3 div.sk-estimator {font-family: monospace;background-color: #f0f8ff;border: 1px dotted black;border-radius: 0.25em;box-sizing: border-box;margin-bottom: 0.5em;}#sk-container-id-3 div.sk-estimator:hover {background-color: #d4ebff;}#sk-container-id-3 div.sk-parallel-item::after {content: \"\";width: 100%;border-bottom: 1px solid gray;flex-grow: 1;}#sk-container-id-3 div.sk-label:hover label.sk-toggleable__label {background-color: #d4ebff;}#sk-container-id-3 div.sk-serial::before {content: \"\";position: absolute;border-left: 1px solid gray;box-sizing: border-box;top: 0;bottom: 0;left: 50%;z-index: 0;}#sk-container-id-3 div.sk-serial {display: flex;flex-direction: column;align-items: center;background-color: white;padding-right: 0.2em;padding-left: 0.2em;position: relative;}#sk-container-id-3 div.sk-item {position: relative;z-index: 1;}#sk-container-id-3 div.sk-parallel {display: flex;align-items: stretch;justify-content: center;background-color: white;position: relative;}#sk-container-id-3 div.sk-item::before, #sk-container-id-3 div.sk-parallel-item::before {content: \"\";position: absolute;border-left: 1px solid gray;box-sizing: border-box;top: 0;bottom: 0;left: 50%;z-index: -1;}#sk-container-id-3 div.sk-parallel-item {display: flex;flex-direction: column;z-index: 1;position: relative;background-color: white;}#sk-container-id-3 div.sk-parallel-item:first-child::after {align-self: flex-end;width: 50%;}#sk-container-id-3 div.sk-parallel-item:last-child::after {align-self: flex-start;width: 50%;}#sk-container-id-3 div.sk-parallel-item:only-child::after {width: 0;}#sk-container-id-3 div.sk-dashed-wrapped {border: 1px dashed gray;margin: 0 0.4em 0.5em 0.4em;box-sizing: border-box;padding-bottom: 0.4em;background-color: white;}#sk-container-id-3 div.sk-label label {font-family: monospace;font-weight: bold;display: inline-block;line-height: 1.2em;}#sk-container-id-3 div.sk-label-container {text-align: center;}#sk-container-id-3 div.sk-container {/* jupyter's `normalize.less` sets `[hidden] { display: none; }` but bootstrap.min.css set `[hidden] { display: none !important; }` so we also need the `!important` here to be able to override the default hidden behavior on the sphinx rendered scikit-learn.org. See: https://github.com/scikit-learn/scikit-learn/issues/21755 */display: inline-block !important;position: relative;}#sk-container-id-3 div.sk-text-repr-fallback {display: none;}</style><div id=\"sk-container-id-3\" class=\"sk-top-container\"><div class=\"sk-text-repr-fallback\"><pre>SVC(decision_function_shape=&#x27;ovo&#x27;)</pre><b>In a Jupyter environment, please rerun this cell to show the HTML representation or trust the notebook. <br />On GitHub, the HTML representation is unable to render, please try loading this page with nbviewer.org.</b></div><div class=\"sk-container\" hidden><div class=\"sk-item\"><div class=\"sk-estimator sk-toggleable\"><input class=\"sk-toggleable__control sk-hidden--visually\" id=\"sk-estimator-id-3\" type=\"checkbox\" checked><label for=\"sk-estimator-id-3\" class=\"sk-toggleable__label sk-toggleable__label-arrow\">SVC</label><div class=\"sk-toggleable__content\"><pre>SVC(decision_function_shape=&#x27;ovo&#x27;)</pre></div></div></div></div></div>"
      ],
      "text/plain": [
       "SVC(decision_function_shape='ovo')"
      ]
     },
     "execution_count": 67,
     "metadata": {},
     "output_type": "execute_result"
    }
   ],
   "source": [
    "from sklearn import svm\n",
    "X = lp1_train[[\"F_lp1\", \"T_lp1\" ]]\n",
    "Y = lp1_train[\"Y_lp1\"]\n",
    "lp1_SVM_Model = svm.SVC(decision_function_shape='ovo')\n",
    "svmmodel = cross_validate(lp1_SVM_Model, X, Y, cv=3,return_train_score=True)\n",
    "lp1_SVM_Model.fit(X, Y)"
   ]
  },
  {
   "cell_type": "code",
   "execution_count": 91,
   "metadata": {},
   "outputs": [
    {
     "name": "stdout",
     "output_type": "stream",
     "text": [
      "++++++Support Vector Machines++++++\n",
      "+++Train Results+++\n",
      "Parametes: \n",
      " {'C': 1.0, 'break_ties': False, 'cache_size': 200, 'class_weight': None, 'coef0': 0.0, 'decision_function_shape': 'ovo', 'degree': 3, 'gamma': 'scale', 'kernel': 'rbf', 'max_iter': -1, 'probability': False, 'random_state': None, 'shrinking': True, 'tol': 0.001, 'verbose': False}\n",
      "\n",
      "Train Score 0.7192982456140351\n",
      "_____________________________________________________________________________________\n",
      "Validation Score 0.7192982456140351\n",
      "_____________________________________________________________________________________\n",
      "+++Test Results+++\n",
      "Parametes: \n",
      " {'C': 1.0, 'break_ties': False, 'cache_size': 200, 'class_weight': None, 'coef0': 0.0, 'decision_function_shape': 'ovo', 'degree': 3, 'gamma': 'scale', 'kernel': 'rbf', 'max_iter': -1, 'probability': False, 'random_state': None, 'shrinking': True, 'tol': 0.001, 'verbose': False}\n",
      "\n",
      "Test Accuracy 0.52\n",
      "Confusion Matrix:\n",
      " [[5 0 0 0]\n",
      " [6 0 0 0]\n",
      " [6 0 0 0]\n",
      " [0 0 0 8]]\n",
      "\n",
      "Precision Score: [0.29411765 0.         0.         1.        ]\n",
      "Recall Score: [1. 0. 0. 1.]\n",
      "F1 Score: [0.45454545 0.         0.         1.        ]\n",
      "1.2\n"
     ]
    }
   ],
   "source": [
    "print(\"++++++Support Vector Machines++++++\")\n",
    "print(\"+++Train Results+++\\nParametes: \\n\",lp1_SVM_Model.get_params())\n",
    "train_pred = lp1_SVM_Model.predict(lp1_train[[\"F_lp1\", \"T_lp1\"]])\n",
    "accuracy_scr1 = svmmodel['train_score'].mean()\n",
    "print(\"\\nTrain Score\", svmmodel['train_score'].mean())\n",
    "print(\"_____________________________________________________________________________________\")\n",
    "print(\"Validation Score\", svmmodel['test_score'].mean())\n",
    "print(\"_____________________________________________________________________________________\")\n",
    "print(\"+++Test Results+++\\nParametes: \\n\",lp1_SVM_Model.get_params())\n",
    "X_test = lp1_test[[\"F_lp1\", \"T_lp1\" ]]\n",
    "Y_test = lp1_test[\"Y_lp1\"]\n",
    "test_pred = lp1_SVM_Model.predict(X_test)\n",
    "accuracy_scr2 = accuracy_score(Y_test, test_pred)\n",
    "print(\"\\nTest Accuracy\", accuracy_scr2)\n",
    "confMat = confusion_matrix(lp1_test[\"Y_lp1\"], test_pred, labels=[0,1,2,3])\n",
    "print(\"Confusion Matrix:\\n\",confMat)\n",
    "prec_SVM = precision_score(lp1_test[\"Y_lp1\"], test_pred, average=None, zero_division=0)\n",
    "print(\"\\nPrecision Score:\",prec_SVM)\n",
    "Rec_SVM = recall_score(lp1_test[\"Y_lp1\"], test_pred, average=None, zero_division=0)\n",
    "print(\"Recall Score:\",Rec_SVM)\n",
    "f1_SVM = f1_score(lp1_test[\"Y_lp1\"], test_pred, average=None, zero_division=0)\n",
    "print(\"F1 Score:\",f1_SVM)\n",
    "acc.loc[len(acc.index)] = ['SVM', accuracy_scr1, svmmodel['test_score'].mean(), accuracy_scr2,prec_SVM.mean(), Rec_SVM.mean(), f1_SVM.mean()] "
   ]
  },
  {
   "attachments": {},
   "cell_type": "markdown",
   "metadata": {},
   "source": [
    "4. Gaussian Naive Bayes"
   ]
  },
  {
   "cell_type": "code",
   "execution_count": 69,
   "metadata": {},
   "outputs": [
    {
     "data": {
      "text/html": [
       "<style>#sk-container-id-4 {color: black;background-color: white;}#sk-container-id-4 pre{padding: 0;}#sk-container-id-4 div.sk-toggleable {background-color: white;}#sk-container-id-4 label.sk-toggleable__label {cursor: pointer;display: block;width: 100%;margin-bottom: 0;padding: 0.3em;box-sizing: border-box;text-align: center;}#sk-container-id-4 label.sk-toggleable__label-arrow:before {content: \"▸\";float: left;margin-right: 0.25em;color: #696969;}#sk-container-id-4 label.sk-toggleable__label-arrow:hover:before {color: black;}#sk-container-id-4 div.sk-estimator:hover label.sk-toggleable__label-arrow:before {color: black;}#sk-container-id-4 div.sk-toggleable__content {max-height: 0;max-width: 0;overflow: hidden;text-align: left;background-color: #f0f8ff;}#sk-container-id-4 div.sk-toggleable__content pre {margin: 0.2em;color: black;border-radius: 0.25em;background-color: #f0f8ff;}#sk-container-id-4 input.sk-toggleable__control:checked~div.sk-toggleable__content {max-height: 200px;max-width: 100%;overflow: auto;}#sk-container-id-4 input.sk-toggleable__control:checked~label.sk-toggleable__label-arrow:before {content: \"▾\";}#sk-container-id-4 div.sk-estimator input.sk-toggleable__control:checked~label.sk-toggleable__label {background-color: #d4ebff;}#sk-container-id-4 div.sk-label input.sk-toggleable__control:checked~label.sk-toggleable__label {background-color: #d4ebff;}#sk-container-id-4 input.sk-hidden--visually {border: 0;clip: rect(1px 1px 1px 1px);clip: rect(1px, 1px, 1px, 1px);height: 1px;margin: -1px;overflow: hidden;padding: 0;position: absolute;width: 1px;}#sk-container-id-4 div.sk-estimator {font-family: monospace;background-color: #f0f8ff;border: 1px dotted black;border-radius: 0.25em;box-sizing: border-box;margin-bottom: 0.5em;}#sk-container-id-4 div.sk-estimator:hover {background-color: #d4ebff;}#sk-container-id-4 div.sk-parallel-item::after {content: \"\";width: 100%;border-bottom: 1px solid gray;flex-grow: 1;}#sk-container-id-4 div.sk-label:hover label.sk-toggleable__label {background-color: #d4ebff;}#sk-container-id-4 div.sk-serial::before {content: \"\";position: absolute;border-left: 1px solid gray;box-sizing: border-box;top: 0;bottom: 0;left: 50%;z-index: 0;}#sk-container-id-4 div.sk-serial {display: flex;flex-direction: column;align-items: center;background-color: white;padding-right: 0.2em;padding-left: 0.2em;position: relative;}#sk-container-id-4 div.sk-item {position: relative;z-index: 1;}#sk-container-id-4 div.sk-parallel {display: flex;align-items: stretch;justify-content: center;background-color: white;position: relative;}#sk-container-id-4 div.sk-item::before, #sk-container-id-4 div.sk-parallel-item::before {content: \"\";position: absolute;border-left: 1px solid gray;box-sizing: border-box;top: 0;bottom: 0;left: 50%;z-index: -1;}#sk-container-id-4 div.sk-parallel-item {display: flex;flex-direction: column;z-index: 1;position: relative;background-color: white;}#sk-container-id-4 div.sk-parallel-item:first-child::after {align-self: flex-end;width: 50%;}#sk-container-id-4 div.sk-parallel-item:last-child::after {align-self: flex-start;width: 50%;}#sk-container-id-4 div.sk-parallel-item:only-child::after {width: 0;}#sk-container-id-4 div.sk-dashed-wrapped {border: 1px dashed gray;margin: 0 0.4em 0.5em 0.4em;box-sizing: border-box;padding-bottom: 0.4em;background-color: white;}#sk-container-id-4 div.sk-label label {font-family: monospace;font-weight: bold;display: inline-block;line-height: 1.2em;}#sk-container-id-4 div.sk-label-container {text-align: center;}#sk-container-id-4 div.sk-container {/* jupyter's `normalize.less` sets `[hidden] { display: none; }` but bootstrap.min.css set `[hidden] { display: none !important; }` so we also need the `!important` here to be able to override the default hidden behavior on the sphinx rendered scikit-learn.org. See: https://github.com/scikit-learn/scikit-learn/issues/21755 */display: inline-block !important;position: relative;}#sk-container-id-4 div.sk-text-repr-fallback {display: none;}</style><div id=\"sk-container-id-4\" class=\"sk-top-container\"><div class=\"sk-text-repr-fallback\"><pre>GaussianNB()</pre><b>In a Jupyter environment, please rerun this cell to show the HTML representation or trust the notebook. <br />On GitHub, the HTML representation is unable to render, please try loading this page with nbviewer.org.</b></div><div class=\"sk-container\" hidden><div class=\"sk-item\"><div class=\"sk-estimator sk-toggleable\"><input class=\"sk-toggleable__control sk-hidden--visually\" id=\"sk-estimator-id-4\" type=\"checkbox\" checked><label for=\"sk-estimator-id-4\" class=\"sk-toggleable__label sk-toggleable__label-arrow\">GaussianNB</label><div class=\"sk-toggleable__content\"><pre>GaussianNB()</pre></div></div></div></div></div>"
      ],
      "text/plain": [
       "GaussianNB()"
      ]
     },
     "execution_count": 69,
     "metadata": {},
     "output_type": "execute_result"
    }
   ],
   "source": [
    "from sklearn.naive_bayes import GaussianNB\n",
    "X = lp1_train[[\"F_lp1\", \"T_lp1\" ]]\n",
    "Y = lp1_train[\"Y_lp1\"]\n",
    "lp1_GNB_Model = GaussianNB()\n",
    "gnbmodel = cross_validate(lp1_GNB_Model, X, Y, cv=3,return_train_score=True)\n",
    "lp1_GNB_Model.fit(X, Y)"
   ]
  },
  {
   "cell_type": "code",
   "execution_count": 88,
   "metadata": {},
   "outputs": [
    {
     "name": "stdout",
     "output_type": "stream",
     "text": [
      "++++++Gaussian Naive Bayes++++++\n",
      "+++Train Results+++\n",
      "Parametes: \n",
      " {'priors': None, 'var_smoothing': 1e-09}\n",
      "\n",
      "Train Score 0.9473684210526315\n",
      "_____________________________________________________________________________________\n",
      "Validation Score 0.912280701754386\n",
      "_____________________________________________________________________________________\n",
      "Test Accuracy 0.96\n",
      "Confusion Matrix:\n",
      " [[5 0 0 0]\n",
      " [1 5 0 0]\n",
      " [0 0 6 0]\n",
      " [0 0 0 8]]\n",
      "\n",
      "Precision Score: [0.83333333 1.         1.         1.        ]\n",
      "Recall Score: [1.         0.83333333 1.         1.        ]\n",
      "F1 Score: [0.90909091 0.90909091 1.         1.        ]\n",
      "0.04\n"
     ]
    }
   ],
   "source": [
    "print(\"++++++Gaussian Naive Bayes++++++\")\n",
    "print(\"+++Train Results+++\\nParametes: \\n\",lp1_GNB_Model.get_params())\n",
    "train_pred = lp1_GNB_Model.predict(lp1_train[[\"F_lp1\", \"T_lp1\"]])\n",
    "accuracy_scr1 = gnbmodel['train_score'].mean()\n",
    "print(\"\\nTrain Score\", gnbmodel['train_score'].mean())\n",
    "print(\"_____________________________________________________________________________________\")\n",
    "print(\"Validation Score\", gnbmodel['test_score'].mean())\n",
    "print(\"_____________________________________________________________________________________\")\n",
    "X_test = lp1_test[[\"F_lp1\", \"T_lp1\" ]]\n",
    "Y_test = lp1_test[\"Y_lp1\"]\n",
    "test_pred = lp1_GNB_Model.predict(X_test)\n",
    "accuracy_scr2 = accuracy_score(Y_test, test_pred)\n",
    "print(\"Test Accuracy\", accuracy_scr2)\n",
    "confMat = confusion_matrix(lp1_test[\"Y_lp1\"], test_pred, labels=[0,1,2,3])\n",
    "print(\"Confusion Matrix:\\n\",confMat)\n",
    "prec_GNB = precision_score(lp1_test[\"Y_lp1\"], test_pred, average=None, zero_division=0)\n",
    "print(\"\\nPrecision Score:\",prec_GNB)\n",
    "Rec_GNB = recall_score(lp1_test[\"Y_lp1\"], test_pred, average=None, zero_division=0)\n",
    "print(\"Recall Score:\",Rec_GNB)\n",
    "f1_GNB = f1_score(lp1_test[\"Y_lp1\"], test_pred, average=None, zero_division=0)\n",
    "print(\"F1 Score:\",f1_GNB)\n",
    "acc.loc[len(acc.index)] = ['Gaussian Naive Bayes', accuracy_scr1, gnbmodel['test_score'].mean(), accuracy_scr2, prec_GNB.mean(), Rec_GNB.mean(), f1_GNB.mean()] "
   ]
  },
  {
   "attachments": {},
   "cell_type": "markdown",
   "metadata": {},
   "source": [
    "5. Shallow Neural Networks"
   ]
  },
  {
   "attachments": {},
   "cell_type": "markdown",
   "metadata": {},
   "source": [
    "Splitting the data as test validation (dev) and train set using stratified shuffling with 4 n splits"
   ]
  },
  {
   "cell_type": "code",
   "execution_count": 71,
   "metadata": {},
   "outputs": [],
   "source": [
    "from sklearn.model_selection import StratifiedShuffleSplit\n",
    "sss = StratifiedShuffleSplit(n_splits=4, test_size=0.3, random_state=0)\n",
    "lp1_train = sss.split(X_lp1_df[[\"F_lp1\", \"T_lp1\" ]], X_lp1_df[\"Y_lp1\"])\n",
    "for train,test in sss.split(X_lp1_df[[\"F_lp1\", \"T_lp1\" ]], X_lp1_df[\"Y_lp1\"]):\n",
    "    X = X_lp1_df[[\"F_lp1\", \"T_lp1\" ]].iloc[train]\n",
    "    Y = X_lp1_df[\"Y_lp1\"].iloc[train]\n",
    "    X_dt = X_lp1_df[[\"F_lp1\", \"T_lp1\" ]].iloc[test]\n",
    "    Y_dt = X_lp1_df[\"Y_lp1\"].iloc[test]\n",
    "sss = StratifiedShuffleSplit(n_splits=4, test_size=0.5, random_state=0)\n",
    "for train,test in sss.split(X_dt, Y_dt):\n",
    "    xd = X_dt.iloc[train]\n",
    "    yd = Y_dt.iloc[train]\n",
    "    X_test = X_dt.iloc[test]\n",
    "    Y_test = Y_dt.iloc[test]\n",
    "# lp1_train, lp1_Devtest = train_test_split(X_lp1_df, test_size=0.3, random_state=2)\n",
    "# lp1_dev, lp1_test = train_test_split(lp1_Devtest, test_size=0.5, random_state=2)\n",
    "# print(xd.value_counts())  \n",
    "# print(yd.value_counts())\n",
    "# print(X_test.value_counts())  \n",
    "# print(Y_test.value_counts())"
   ]
  },
  {
   "cell_type": "code",
   "execution_count": 72,
   "metadata": {},
   "outputs": [],
   "source": [
    "import tensorflow as tf\n",
    "from tensorflow import keras\n",
    "from keras.layers import Dense\n",
    "from keras.layers import Dropout\n",
    "import tensorflow as tf   #For reproducability\n",
    "tf.random.set_seed(2)\n",
    "lp1_SNN_model = tf.keras.Sequential()\n",
    "lp1_SNN_model.add(Dense(2, activation='relu', input_shape = (2,)))\n",
    "lp1_SNN_model.add(Dense(100, activation='relu'))\n",
    "#lp1_SNN_model.add(Dropout(0.2))\n",
    "lp1_SNN_model.add(Dense(30, activation='relu'))\n",
    "# lp1_SNN_model.add(Dense(84, activation='relu'))\n",
    "# lp1_SNN_model.add(Dense(84, activation='relu'))\n",
    "# lp1_SNN_model.add(Dense(14, activation='relu'))\n",
    "lp1_SNN_model.add(Dense(4, activation='softmax'))"
   ]
  },
  {
   "cell_type": "code",
   "execution_count": 73,
   "metadata": {},
   "outputs": [
    {
     "name": "stdout",
     "output_type": "stream",
     "text": [
      "Epoch 1/95\n",
      "8/8 [==============================] - 1s 34ms/step - loss: 1.3828 - accuracy: 0.2807 - val_loss: 1.3564 - val_accuracy: 0.4167\n",
      "Epoch 2/95\n",
      "8/8 [==============================] - 0s 6ms/step - loss: 1.3604 - accuracy: 0.3860 - val_loss: 1.3424 - val_accuracy: 0.4167\n",
      "Epoch 3/95\n",
      "8/8 [==============================] - 0s 5ms/step - loss: 1.3425 - accuracy: 0.3860 - val_loss: 1.3245 - val_accuracy: 0.4167\n",
      "Epoch 4/95\n",
      "8/8 [==============================] - 0s 5ms/step - loss: 1.3171 - accuracy: 0.3860 - val_loss: 1.3004 - val_accuracy: 0.4167\n",
      "Epoch 5/95\n",
      "8/8 [==============================] - 0s 6ms/step - loss: 1.3090 - accuracy: 0.3860 - val_loss: 1.2886 - val_accuracy: 0.4167\n",
      "Epoch 6/95\n",
      "8/8 [==============================] - 0s 6ms/step - loss: 1.3001 - accuracy: 0.3860 - val_loss: 1.2662 - val_accuracy: 0.4167\n",
      "Epoch 7/95\n",
      "8/8 [==============================] - 0s 6ms/step - loss: 1.2781 - accuracy: 0.3860 - val_loss: 1.2275 - val_accuracy: 0.4167\n",
      "Epoch 8/95\n",
      "8/8 [==============================] - 0s 6ms/step - loss: 1.2426 - accuracy: 0.3860 - val_loss: 1.1847 - val_accuracy: 0.4167\n",
      "Epoch 9/95\n",
      "8/8 [==============================] - 0s 6ms/step - loss: 1.1794 - accuracy: 0.3860 - val_loss: 1.1076 - val_accuracy: 0.4167\n",
      "Epoch 10/95\n",
      "8/8 [==============================] - 0s 5ms/step - loss: 1.1427 - accuracy: 0.3860 - val_loss: 1.0125 - val_accuracy: 0.4167\n",
      "Epoch 11/95\n",
      "8/8 [==============================] - 0s 6ms/step - loss: 1.0417 - accuracy: 0.3860 - val_loss: 0.9450 - val_accuracy: 0.4167\n",
      "Epoch 12/95\n",
      "8/8 [==============================] - 0s 5ms/step - loss: 0.9639 - accuracy: 0.3860 - val_loss: 0.8686 - val_accuracy: 0.6667\n",
      "Epoch 13/95\n",
      "8/8 [==============================] - 0s 5ms/step - loss: 0.9172 - accuracy: 0.6491 - val_loss: 0.8530 - val_accuracy: 0.6667\n",
      "Epoch 14/95\n",
      "8/8 [==============================] - 0s 6ms/step - loss: 0.8647 - accuracy: 0.6491 - val_loss: 0.8144 - val_accuracy: 0.6667\n",
      "Epoch 15/95\n",
      "8/8 [==============================] - 0s 6ms/step - loss: 0.8354 - accuracy: 0.6491 - val_loss: 0.7920 - val_accuracy: 0.6667\n",
      "Epoch 16/95\n",
      "8/8 [==============================] - 0s 5ms/step - loss: 0.8124 - accuracy: 0.6491 - val_loss: 0.7637 - val_accuracy: 0.6667\n",
      "Epoch 17/95\n",
      "8/8 [==============================] - 0s 7ms/step - loss: 0.7924 - accuracy: 0.6491 - val_loss: 0.7453 - val_accuracy: 0.6667\n",
      "Epoch 18/95\n",
      "8/8 [==============================] - 0s 6ms/step - loss: 0.7704 - accuracy: 0.6491 - val_loss: 0.7269 - val_accuracy: 0.6667\n",
      "Epoch 19/95\n",
      "8/8 [==============================] - 0s 6ms/step - loss: 0.7516 - accuracy: 0.6491 - val_loss: 0.7162 - val_accuracy: 0.6667\n",
      "Epoch 20/95\n",
      "8/8 [==============================] - 0s 6ms/step - loss: 0.7397 - accuracy: 0.6491 - val_loss: 0.7024 - val_accuracy: 0.6667\n",
      "Epoch 21/95\n",
      "8/8 [==============================] - 0s 6ms/step - loss: 0.7253 - accuracy: 0.6491 - val_loss: 0.6867 - val_accuracy: 0.6667\n",
      "Epoch 22/95\n",
      "8/8 [==============================] - 0s 6ms/step - loss: 0.7109 - accuracy: 0.6491 - val_loss: 0.6756 - val_accuracy: 0.6667\n",
      "Epoch 23/95\n",
      "8/8 [==============================] - 0s 6ms/step - loss: 0.6881 - accuracy: 0.6667 - val_loss: 0.6550 - val_accuracy: 0.6667\n",
      "Epoch 24/95\n",
      "8/8 [==============================] - 0s 5ms/step - loss: 0.6766 - accuracy: 0.6491 - val_loss: 0.6576 - val_accuracy: 0.6667\n",
      "Epoch 25/95\n",
      "8/8 [==============================] - 0s 5ms/step - loss: 0.6669 - accuracy: 0.6491 - val_loss: 0.6469 - val_accuracy: 0.7500\n",
      "Epoch 26/95\n",
      "8/8 [==============================] - 0s 5ms/step - loss: 0.6330 - accuracy: 0.7719 - val_loss: 0.6241 - val_accuracy: 0.6667\n",
      "Epoch 27/95\n",
      "8/8 [==============================] - 0s 5ms/step - loss: 0.6202 - accuracy: 0.6842 - val_loss: 0.6186 - val_accuracy: 0.6667\n",
      "Epoch 28/95\n",
      "8/8 [==============================] - 0s 5ms/step - loss: 0.6168 - accuracy: 0.7018 - val_loss: 0.6417 - val_accuracy: 0.6667\n",
      "Epoch 29/95\n",
      "8/8 [==============================] - 0s 6ms/step - loss: 0.6175 - accuracy: 0.6667 - val_loss: 0.6018 - val_accuracy: 0.5833\n",
      "Epoch 30/95\n",
      "8/8 [==============================] - 0s 5ms/step - loss: 0.5795 - accuracy: 0.7018 - val_loss: 0.6074 - val_accuracy: 0.5833\n",
      "Epoch 31/95\n",
      "8/8 [==============================] - 0s 6ms/step - loss: 0.5994 - accuracy: 0.6491 - val_loss: 0.6546 - val_accuracy: 0.6667\n",
      "Epoch 32/95\n",
      "8/8 [==============================] - 0s 6ms/step - loss: 0.6485 - accuracy: 0.6842 - val_loss: 0.5582 - val_accuracy: 0.7500\n",
      "Epoch 33/95\n",
      "8/8 [==============================] - 0s 5ms/step - loss: 0.5662 - accuracy: 0.6316 - val_loss: 0.5785 - val_accuracy: 0.7500\n",
      "Epoch 34/95\n",
      "8/8 [==============================] - 0s 6ms/step - loss: 0.5783 - accuracy: 0.7368 - val_loss: 0.5898 - val_accuracy: 0.5833\n",
      "Epoch 35/95\n",
      "8/8 [==============================] - 0s 6ms/step - loss: 0.5576 - accuracy: 0.6667 - val_loss: 0.5821 - val_accuracy: 0.6667\n",
      "Epoch 36/95\n",
      "8/8 [==============================] - 0s 5ms/step - loss: 0.5448 - accuracy: 0.7719 - val_loss: 0.5445 - val_accuracy: 0.7500\n",
      "Epoch 37/95\n",
      "8/8 [==============================] - 0s 6ms/step - loss: 0.5004 - accuracy: 0.8070 - val_loss: 0.5285 - val_accuracy: 0.7500\n",
      "Epoch 38/95\n",
      "8/8 [==============================] - 0s 6ms/step - loss: 0.5103 - accuracy: 0.7544 - val_loss: 0.5233 - val_accuracy: 0.7500\n",
      "Epoch 39/95\n",
      "8/8 [==============================] - 0s 5ms/step - loss: 0.5120 - accuracy: 0.7895 - val_loss: 0.5021 - val_accuracy: 0.8333\n",
      "Epoch 40/95\n",
      "8/8 [==============================] - 0s 6ms/step - loss: 0.4704 - accuracy: 0.8947 - val_loss: 0.4913 - val_accuracy: 0.8333\n",
      "Epoch 41/95\n",
      "8/8 [==============================] - 0s 5ms/step - loss: 0.4543 - accuracy: 0.9298 - val_loss: 0.5205 - val_accuracy: 0.6667\n",
      "Epoch 42/95\n",
      "8/8 [==============================] - 0s 5ms/step - loss: 0.4510 - accuracy: 0.8421 - val_loss: 0.4786 - val_accuracy: 0.9167\n",
      "Epoch 43/95\n",
      "8/8 [==============================] - 0s 5ms/step - loss: 0.5025 - accuracy: 0.8070 - val_loss: 0.4723 - val_accuracy: 0.8333\n",
      "Epoch 44/95\n",
      "8/8 [==============================] - 0s 5ms/step - loss: 0.6584 - accuracy: 0.6316 - val_loss: 0.4977 - val_accuracy: 0.7500\n",
      "Epoch 45/95\n",
      "8/8 [==============================] - 0s 6ms/step - loss: 0.4550 - accuracy: 0.8421 - val_loss: 0.4605 - val_accuracy: 0.7500\n",
      "Epoch 46/95\n",
      "8/8 [==============================] - 0s 6ms/step - loss: 0.4338 - accuracy: 0.8596 - val_loss: 0.4807 - val_accuracy: 0.8333\n",
      "Epoch 47/95\n",
      "8/8 [==============================] - 0s 6ms/step - loss: 0.4143 - accuracy: 0.8772 - val_loss: 0.4064 - val_accuracy: 0.8333\n",
      "Epoch 48/95\n",
      "8/8 [==============================] - 0s 6ms/step - loss: 0.4140 - accuracy: 0.8596 - val_loss: 0.4136 - val_accuracy: 0.9167\n",
      "Epoch 49/95\n",
      "8/8 [==============================] - 0s 6ms/step - loss: 0.3821 - accuracy: 0.8246 - val_loss: 0.4011 - val_accuracy: 0.8333\n",
      "Epoch 50/95\n",
      "8/8 [==============================] - 0s 6ms/step - loss: 0.3685 - accuracy: 0.8947 - val_loss: 0.3799 - val_accuracy: 0.8333\n",
      "Epoch 51/95\n",
      "8/8 [==============================] - 0s 5ms/step - loss: 0.3655 - accuracy: 0.8772 - val_loss: 0.3835 - val_accuracy: 0.8333\n",
      "Epoch 52/95\n",
      "8/8 [==============================] - 0s 6ms/step - loss: 0.3618 - accuracy: 0.8772 - val_loss: 1.0426 - val_accuracy: 0.5833\n",
      "Epoch 53/95\n",
      "8/8 [==============================] - 0s 5ms/step - loss: 0.6208 - accuracy: 0.7018 - val_loss: 0.7100 - val_accuracy: 0.5833\n",
      "Epoch 54/95\n",
      "8/8 [==============================] - 0s 6ms/step - loss: 0.5480 - accuracy: 0.7018 - val_loss: 0.6850 - val_accuracy: 0.5833\n",
      "Epoch 55/95\n",
      "8/8 [==============================] - 0s 5ms/step - loss: 0.4566 - accuracy: 0.7544 - val_loss: 0.3841 - val_accuracy: 0.8333\n",
      "Epoch 56/95\n",
      "8/8 [==============================] - 0s 6ms/step - loss: 0.3826 - accuracy: 0.8421 - val_loss: 0.3520 - val_accuracy: 0.8333\n",
      "Epoch 57/95\n",
      "8/8 [==============================] - 0s 6ms/step - loss: 0.8709 - accuracy: 0.5439 - val_loss: 0.5469 - val_accuracy: 0.5833\n",
      "Epoch 58/95\n",
      "8/8 [==============================] - 0s 6ms/step - loss: 0.5625 - accuracy: 0.7719 - val_loss: 0.5024 - val_accuracy: 0.6667\n",
      "Epoch 59/95\n",
      "8/8 [==============================] - 0s 5ms/step - loss: 0.3801 - accuracy: 0.8421 - val_loss: 0.4782 - val_accuracy: 0.8333\n",
      "Epoch 60/95\n",
      "8/8 [==============================] - 0s 5ms/step - loss: 0.4224 - accuracy: 0.8421 - val_loss: 0.6626 - val_accuracy: 0.5833\n",
      "Epoch 61/95\n",
      "8/8 [==============================] - 0s 5ms/step - loss: 0.5442 - accuracy: 0.6667 - val_loss: 0.4153 - val_accuracy: 0.8333\n",
      "Epoch 62/95\n",
      "8/8 [==============================] - 0s 5ms/step - loss: 0.3818 - accuracy: 0.9123 - val_loss: 0.4679 - val_accuracy: 0.6667\n",
      "Epoch 63/95\n",
      "8/8 [==============================] - 0s 5ms/step - loss: 0.3622 - accuracy: 0.7895 - val_loss: 0.3733 - val_accuracy: 0.8333\n",
      "Epoch 64/95\n",
      "8/8 [==============================] - 0s 5ms/step - loss: 0.3571 - accuracy: 0.9123 - val_loss: 0.3961 - val_accuracy: 0.6667\n",
      "Epoch 65/95\n",
      "8/8 [==============================] - 0s 5ms/step - loss: 0.3685 - accuracy: 0.7895 - val_loss: 0.3477 - val_accuracy: 0.9167\n",
      "Epoch 66/95\n",
      "8/8 [==============================] - 0s 6ms/step - loss: 0.3295 - accuracy: 0.9298 - val_loss: 0.4284 - val_accuracy: 0.6667\n",
      "Epoch 67/95\n",
      "8/8 [==============================] - 0s 6ms/step - loss: 0.3546 - accuracy: 0.8070 - val_loss: 0.3619 - val_accuracy: 0.8333\n",
      "Epoch 68/95\n",
      "8/8 [==============================] - 0s 5ms/step - loss: 0.3558 - accuracy: 0.8772 - val_loss: 0.4621 - val_accuracy: 0.6667\n",
      "Epoch 69/95\n",
      "8/8 [==============================] - 0s 8ms/step - loss: 0.6606 - accuracy: 0.6491 - val_loss: 0.3990 - val_accuracy: 0.8333\n",
      "Epoch 70/95\n",
      "8/8 [==============================] - 0s 6ms/step - loss: 0.4138 - accuracy: 0.8596 - val_loss: 0.4556 - val_accuracy: 0.6667\n",
      "Epoch 71/95\n",
      "8/8 [==============================] - 0s 5ms/step - loss: 0.5174 - accuracy: 0.6491 - val_loss: 0.4166 - val_accuracy: 0.8333\n",
      "Epoch 72/95\n",
      "8/8 [==============================] - 0s 6ms/step - loss: 0.7273 - accuracy: 0.6316 - val_loss: 0.3119 - val_accuracy: 0.9167\n",
      "Epoch 73/95\n",
      "8/8 [==============================] - 0s 6ms/step - loss: 0.3907 - accuracy: 0.7895 - val_loss: 0.3890 - val_accuracy: 0.6667\n",
      "Epoch 74/95\n",
      "8/8 [==============================] - 0s 6ms/step - loss: 0.4002 - accuracy: 0.8596 - val_loss: 0.3595 - val_accuracy: 0.8333\n",
      "Epoch 75/95\n",
      "8/8 [==============================] - 0s 6ms/step - loss: 0.3997 - accuracy: 0.8421 - val_loss: 0.3336 - val_accuracy: 0.9167\n",
      "Epoch 76/95\n",
      "8/8 [==============================] - 0s 5ms/step - loss: 0.3372 - accuracy: 0.8772 - val_loss: 0.3114 - val_accuracy: 0.8333\n",
      "Epoch 77/95\n",
      "8/8 [==============================] - 0s 5ms/step - loss: 0.3356 - accuracy: 0.8596 - val_loss: 0.3026 - val_accuracy: 0.9167\n",
      "Epoch 78/95\n",
      "8/8 [==============================] - 0s 5ms/step - loss: 0.3270 - accuracy: 0.9123 - val_loss: 0.2980 - val_accuracy: 0.9167\n",
      "Epoch 79/95\n",
      "8/8 [==============================] - 0s 6ms/step - loss: 0.3135 - accuracy: 0.8947 - val_loss: 0.2933 - val_accuracy: 0.9167\n",
      "Epoch 80/95\n",
      "8/8 [==============================] - 0s 5ms/step - loss: 0.3172 - accuracy: 0.8772 - val_loss: 0.2970 - val_accuracy: 0.9167\n",
      "Epoch 81/95\n",
      "8/8 [==============================] - 0s 6ms/step - loss: 0.3179 - accuracy: 0.8947 - val_loss: 0.2839 - val_accuracy: 0.9167\n",
      "Epoch 82/95\n",
      "8/8 [==============================] - 0s 6ms/step - loss: 0.3007 - accuracy: 0.9123 - val_loss: 0.2833 - val_accuracy: 0.9167\n",
      "Epoch 83/95\n",
      "8/8 [==============================] - 0s 6ms/step - loss: 0.2947 - accuracy: 0.9298 - val_loss: 0.2977 - val_accuracy: 0.7500\n",
      "Epoch 84/95\n",
      "8/8 [==============================] - 0s 6ms/step - loss: 0.4049 - accuracy: 0.7544 - val_loss: 0.3060 - val_accuracy: 0.9167\n",
      "Epoch 85/95\n",
      "8/8 [==============================] - 0s 6ms/step - loss: 0.3214 - accuracy: 0.8772 - val_loss: 0.2960 - val_accuracy: 0.9167\n",
      "Epoch 86/95\n",
      "8/8 [==============================] - 0s 6ms/step - loss: 0.3349 - accuracy: 0.8596 - val_loss: 0.2848 - val_accuracy: 0.9167\n",
      "Epoch 87/95\n",
      "8/8 [==============================] - 0s 6ms/step - loss: 0.3111 - accuracy: 0.8596 - val_loss: 0.2680 - val_accuracy: 0.9167\n",
      "Epoch 88/95\n",
      "8/8 [==============================] - 0s 6ms/step - loss: 0.2961 - accuracy: 0.9123 - val_loss: 0.2649 - val_accuracy: 0.9167\n",
      "Epoch 89/95\n",
      "8/8 [==============================] - 0s 6ms/step - loss: 0.2851 - accuracy: 0.8947 - val_loss: 0.2676 - val_accuracy: 0.9167\n",
      "Epoch 90/95\n",
      "8/8 [==============================] - 0s 6ms/step - loss: 0.2928 - accuracy: 0.8947 - val_loss: 0.2612 - val_accuracy: 0.9167\n",
      "Epoch 91/95\n",
      "8/8 [==============================] - 0s 6ms/step - loss: 0.2766 - accuracy: 0.9298 - val_loss: 0.2783 - val_accuracy: 0.9167\n",
      "Epoch 92/95\n",
      "8/8 [==============================] - 0s 6ms/step - loss: 0.2818 - accuracy: 0.8947 - val_loss: 0.2626 - val_accuracy: 0.9167\n",
      "Epoch 93/95\n",
      "8/8 [==============================] - 0s 6ms/step - loss: 0.2771 - accuracy: 0.8947 - val_loss: 0.2552 - val_accuracy: 0.9167\n",
      "Epoch 94/95\n",
      "8/8 [==============================] - 0s 6ms/step - loss: 0.2784 - accuracy: 0.8947 - val_loss: 0.2720 - val_accuracy: 0.9167\n",
      "Epoch 95/95\n",
      "8/8 [==============================] - 0s 6ms/step - loss: 0.2721 - accuracy: 0.9298 - val_loss: 0.2519 - val_accuracy: 0.9167\n"
     ]
    }
   ],
   "source": [
    "#opti = keras.optimizers.experimental.SGD(learning_rate=0.01)\n",
    "opti = keras.optimizers.Adam(learning_rate=0.007)\n",
    "lp1_SNN_model.compile(optimizer=opti, loss='sparse_categorical_crossentropy', metrics=[\"accuracy\"])\n",
    "history = lp1_SNN_model.fit(X, Y, batch_size=8, epochs=95, validation_data = (xd, yd))"
   ]
  },
  {
   "attachments": {},
   "cell_type": "markdown",
   "metadata": {},
   "source": [
    "Plotting loss vs epoch"
   ]
  },
  {
   "cell_type": "code",
   "execution_count": 74,
   "metadata": {},
   "outputs": [
    {
     "data": {
      "image/png": "[encoded data removed]",
      "text/plain": [
       "<Figure size 432x288 with 1 Axes>"
      ]
     },
     "metadata": {
      "needs_background": "light"
     },
     "output_type": "display_data"
    },
    {
     "data": {
      "image/png": "[encoded data removed]",
      "text/plain": [
       "<Figure size 432x288 with 1 Axes>"
      ]
     },
     "metadata": {
      "needs_background": "light"
     },
     "output_type": "display_data"
    }
   ],
   "source": [
    "plt.plot(history.history['loss'])\n",
    "plt.plot(history.history['val_loss'])\n",
    "plt.title('Model loss')\n",
    "plt.ylabel('loss')\n",
    "plt.xlabel('epoch')\n",
    "plt.legend(['train', 'dev'], loc='upper right')\n",
    "plt.show()\n",
    "plt.plot(history.history['accuracy'])\n",
    "plt.plot(history.history['val_accuracy'])\n",
    "plt.title('Model accuracy')\n",
    "plt.ylabel('accuracy')\n",
    "plt.xlabel('epoch')\n",
    "plt.legend(['train', 'dev'], loc='upper right')\n",
    "plt.show()"
   ]
  },
  {
   "cell_type": "code",
   "execution_count": 75,
   "metadata": {},
   "outputs": [
    {
     "name": "stdout",
     "output_type": "stream",
     "text": [
      "Model: \"sequential\"\n",
      "_________________________________________________________________\n",
      " Layer (type)                Output Shape              Param #   \n",
      "=================================================================\n",
      " dense (Dense)               (None, 2)                 6         \n",
      "                                                                 \n",
      " dense_1 (Dense)             (None, 100)               300       \n",
      "                                                                 \n",
      " dense_2 (Dense)             (None, 30)                3030      \n",
      "                                                                 \n",
      " dense_3 (Dense)             (None, 4)                 124       \n",
      "                                                                 \n",
      "=================================================================\n",
      "Total params: 3,460\n",
      "Trainable params: 3,460\n",
      "Non-trainable params: 0\n",
      "_________________________________________________________________\n"
     ]
    }
   ],
   "source": [
    "lp1_SNN_model.summary()"
   ]
  },
  {
   "cell_type": "code",
   "execution_count": 76,
   "metadata": {},
   "outputs": [
    {
     "name": "stdout",
     "output_type": "stream",
     "text": [
      "1/1 [==============================] - 0s 97ms/step\n",
      "Confusion Matrix:\n",
      " [[3 0 0 0]\n",
      " [1 2 0 0]\n",
      " [0 0 2 0]\n",
      " [0 0 0 5]]\n",
      "\n",
      "Precision Score: [0.75 1.   1.   1.  ]\n",
      "Recall Score: [1.         0.66666667 1.         1.        ]\n",
      "F1 Score: [0.85714286 0.8        1.         1.        ]\n"
     ]
    }
   ],
   "source": [
    "pred = lp1_SNN_model.predict(X_test)\n",
    "# #print(pred*100)\n",
    "pred_class = np.argmax(pred, axis=1)\n",
    "# #print(pred_class)\n",
    "# acc_score_SNN = accuracy_score(Y_test, pred_class)\n",
    "# print(acc_score_SNN)\n",
    "confMat = confusion_matrix(Y_test, pred_class, labels=[0,1,2,3])\n",
    "print(\"Confusion Matrix:\\n\",confMat)\n",
    "prec_SNN = precision_score(Y_test, pred_class, average=None, zero_division=0)\n",
    "print(\"\\nPrecision Score:\",prec_SNN)\n",
    "Rec_SNN = recall_score(Y_test, pred_class, average=None, zero_division=0)\n",
    "print(\"Recall Score:\",Rec_SNN)\n",
    "f1_SNN = f1_score(Y_test, pred_class, average=None, zero_division=0)\n",
    "print(\"F1 Score:\",f1_SNN)"
   ]
  },
  {
   "cell_type": "code",
   "execution_count": 77,
   "metadata": {},
   "outputs": [
    {
     "name": "stdout",
     "output_type": "stream",
     "text": [
      "['loss', 'accuracy']\n",
      "1/1 [==============================] - 0s 38ms/step - loss: 0.2597 - accuracy: 0.9231\n",
      "[0.25969716906547546, 0.9230769276618958]\n"
     ]
    }
   ],
   "source": [
    "print(lp1_SNN_model.metrics_names)\n",
    "test_accuracy = lp1_SNN_model.evaluate(X_test, Y_test)\n",
    "print(test_accuracy)"
   ]
  },
  {
   "cell_type": "code",
   "execution_count": 78,
   "metadata": {},
   "outputs": [],
   "source": [
    "acc.loc[len(acc.index)] = ['ANN', ((history.history['accuracy'][-1])),((history.history['val_accuracy'][-1])), test_accuracy[1], prec_SNN.mean(), Rec_SNN.mean(), f1_SNN.mean()] "
   ]
  },
  {
   "attachments": {},
   "cell_type": "markdown",
   "metadata": {},
   "source": [
    "Exporting the model and weights"
   ]
  },
  {
   "cell_type": "code",
   "execution_count": 79,
   "metadata": {},
   "outputs": [],
   "source": [
    "#lp1_SNN_model.save('exports/LP1_SNN_Export')\n",
    "# lp1_SNN_model.save_weights('exports/LP1_SNNWeights_Export')"
   ]
  },
  {
   "attachments": {},
   "cell_type": "markdown",
   "metadata": {},
   "source": [
    "Overall parameters"
   ]
  },
  {
   "cell_type": "code",
   "execution_count": 81,
   "metadata": {},
   "outputs": [
    {
     "data": {
      "text/html": [
       "<div>\n",
       "<style scoped>\n",
       "    .dataframe tbody tr th:only-of-type {\n",
       "        vertical-align: middle;\n",
       "    }\n",
       "\n",
       "    .dataframe tbody tr th {\n",
       "        vertical-align: top;\n",
       "    }\n",
       "\n",
       "    .dataframe thead th {\n",
       "        text-align: right;\n",
       "    }\n",
       "</style>\n",
       "<table border=\"1\" class=\"dataframe\">\n",
       "  <thead>\n",
       "    <tr style=\"text-align: right;\">\n",
       "      <th></th>\n",
       "      <th>Model</th>\n",
       "      <th>Train</th>\n",
       "      <th>Dev</th>\n",
       "      <th>Test</th>\n",
       "      <th>Precision Score</th>\n",
       "      <th>Recall Score</th>\n",
       "      <th>F1 Score</th>\n",
       "    </tr>\n",
       "  </thead>\n",
       "  <tbody>\n",
       "    <tr>\n",
       "      <th>0</th>\n",
       "      <td>Decision Tree</td>\n",
       "      <td>0.956140</td>\n",
       "      <td>0.929825</td>\n",
       "      <td>0.920000</td>\n",
       "      <td>0.928571</td>\n",
       "      <td>0.916667</td>\n",
       "      <td>[[5, 0, 0, 0], [2, 4, 0, 0], [0, 0, 6, 0], [0,...</td>\n",
       "    </tr>\n",
       "    <tr>\n",
       "      <th>1</th>\n",
       "      <td>Random Forest</td>\n",
       "      <td>0.956140</td>\n",
       "      <td>0.912281</td>\n",
       "      <td>0.920000</td>\n",
       "      <td>0.928571</td>\n",
       "      <td>0.916667</td>\n",
       "      <td>0.908333</td>\n",
       "    </tr>\n",
       "    <tr>\n",
       "      <th>2</th>\n",
       "      <td>SVM</td>\n",
       "      <td>0.719298</td>\n",
       "      <td>0.719298</td>\n",
       "      <td>0.520000</td>\n",
       "      <td>0.323529</td>\n",
       "      <td>0.500000</td>\n",
       "      <td>0.363636</td>\n",
       "    </tr>\n",
       "    <tr>\n",
       "      <th>3</th>\n",
       "      <td>Gaussian Naive Bayes</td>\n",
       "      <td>0.947368</td>\n",
       "      <td>0.912281</td>\n",
       "      <td>0.960000</td>\n",
       "      <td>0.958333</td>\n",
       "      <td>0.958333</td>\n",
       "      <td>0.954545</td>\n",
       "    </tr>\n",
       "    <tr>\n",
       "      <th>4</th>\n",
       "      <td>ANN</td>\n",
       "      <td>0.929825</td>\n",
       "      <td>0.916667</td>\n",
       "      <td>0.923077</td>\n",
       "      <td>0.937500</td>\n",
       "      <td>0.916667</td>\n",
       "      <td>0.914286</td>\n",
       "    </tr>\n",
       "  </tbody>\n",
       "</table>\n",
       "</div>"
      ],
      "text/plain": [
       "                  Model     Train       Dev      Test  Precision Score  \\\n",
       "0         Decision Tree  0.956140  0.929825  0.920000         0.928571   \n",
       "1         Random Forest  0.956140  0.912281  0.920000         0.928571   \n",
       "2                   SVM  0.719298  0.719298  0.520000         0.323529   \n",
       "3  Gaussian Naive Bayes  0.947368  0.912281  0.960000         0.958333   \n",
       "4                   ANN  0.929825  0.916667  0.923077         0.937500   \n",
       "\n",
       "   Recall Score                                           F1 Score  \n",
       "0      0.916667  [[5, 0, 0, 0], [2, 4, 0, 0], [0, 0, 6, 0], [0,...  \n",
       "1      0.916667                                           0.908333  \n",
       "2      0.500000                                           0.363636  \n",
       "3      0.958333                                           0.954545  \n",
       "4      0.916667                                           0.914286  "
      ]
     },
     "execution_count": 81,
     "metadata": {},
     "output_type": "execute_result"
    }
   ],
   "source": [
    "acc"
   ]
  }
 ],
 "metadata": {
  "kernelspec": {
   "display_name": "Python 3",
   "language": "python",
   "name": "python3"
  },
  "language_info": {
   "codemirror_mode": {
    "name": "ipython",
    "version": 3
   },
   "file_extension": ".py",
   "mimetype": "text/x-python",
   "name": "python",
   "nbconvert_exporter": "python",
   "pygments_lexer": "ipython3",
   "version": "3.10.5"
  },
  "orig_nbformat": 4,
  "vscode": {
   "interpreter": {
    "hash": "cf2d32023d47a0ae6c67322ace2959f21890c49a1554fe001e59942aa2e6c9ed"
   }
  }
 },
 "nbformat": 4,
 "nbformat_minor": 2
}
